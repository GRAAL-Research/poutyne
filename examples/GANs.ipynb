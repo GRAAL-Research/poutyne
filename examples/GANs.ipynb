{
 "cells": [
  {
   "cell_type": "markdown",
   "id": "1cef8cc2",
   "metadata": {},
   "source": [
    "# Training Conditional GANs Using Poutyne"
   ]
  },
  {
   "cell_type": "markdown",
   "id": "d6bebbf9",
   "metadata": {},
   "source": [
    "This example shows how to use the Poutyne's strategy interface in order to deeply modify the training process internal to Poutyne.\n",
    "The main goal of Poutyne is to be very simple, yet flexible, to use.\n",
    "It does so by providing sane but customizable defaults.\n",
    "The aim of the strategy interface is to provide a lot of this flexibility in modifying the way Poutyne trains and evaluates your neural network.\n",
    "\n",
    "This example was adapted from the [Keras documentation](https://keras.io/examples/generative/conditional_gan/). The TensorFlow code was \"translated\" into PyTorch code."
   ]
  },
  {
   "cell_type": "code",
   "execution_count": 1,
   "id": "ec4b3426",
   "metadata": {},
   "outputs": [
    {
     "name": "stdout",
     "output_type": "stream",
     "text": [
      "Requirement already satisfied: imageio in /home/fredy/.venv/base/lib/python3.9/site-packages (2.22.3)\n",
      "Requirement already satisfied: numpy in /home/fredy/.venv/base/lib/python3.9/site-packages (from imageio) (1.23.4)\n",
      "Requirement already satisfied: pillow>=8.3.2 in /home/fredy/.venv/base/lib/python3.9/site-packages (from imageio) (9.3.0)\n",
      "Note: you may need to restart the kernel to use updated packages.\n"
     ]
    }
   ],
   "source": [
    "%pip install imageio"
   ]
  },
  {
   "cell_type": "code",
   "execution_count": 2,
   "id": "1aaee8e9",
   "metadata": {},
   "outputs": [],
   "source": [
    "import math\n",
    "import torch\n",
    "import torch.nn as nn\n",
    "import torch.nn.functional as F\n",
    "import torch.optim as optim\n",
    "from torch.utils.data import random_split, DataLoader\n",
    "from torchvision import transforms\n",
    "from torchvision.datasets.mnist import MNIST\n",
    "import imageio.v3 as iio\n",
    "\n",
    "from poutyne import BaseStrategy, StepOutput, CumulativeAverage, Model"
   ]
  },
  {
   "cell_type": "code",
   "execution_count": 3,
   "id": "62f8aae3",
   "metadata": {},
   "outputs": [],
   "source": [
    "batch_size = 64\n",
    "num_channels = 1\n",
    "num_classes = 10\n",
    "image_size = 28\n",
    "latent_dim = 128"
   ]
  },
  {
   "cell_type": "code",
   "execution_count": 4,
   "id": "d4b7360e",
   "metadata": {},
   "outputs": [],
   "source": [
    "train_split_percent = 0.8"
   ]
  },
  {
   "cell_type": "code",
   "execution_count": 5,
   "id": "46b7c4dd",
   "metadata": {},
   "outputs": [],
   "source": [
    "full_train_dataset = MNIST('./datasets', train=True, download=True, transform=transforms.ToTensor())\n",
    "test_dataset = MNIST('./datasets', train=False, download=True, transform=transforms.ToTensor())\n",
    "\n",
    "num_data = len(full_train_dataset)\n",
    "train_length = int(math.floor(train_split_percent * num_data))\n",
    "valid_length = num_data - train_length\n",
    "\n",
    "train_dataset, valid_dataset = random_split(\n",
    "    full_train_dataset, [train_length, valid_length], generator=torch.Generator().manual_seed(42)\n",
    ")\n",
    "\n",
    "train_loader = DataLoader(train_dataset, batch_size=batch_size, num_workers=2, shuffle=True)\n",
    "valid_loader = DataLoader(valid_dataset, batch_size=batch_size, num_workers=2)\n",
    "test_loader = DataLoader(test_dataset, batch_size=batch_size, num_workers=2)"
   ]
  },
  {
   "cell_type": "code",
   "execution_count": 6,
   "id": "3426a4eb",
   "metadata": {},
   "outputs": [],
   "source": [
    "real_images, labels = next(iter(train_loader))"
   ]
  },
  {
   "cell_type": "code",
   "execution_count": 7,
   "id": "969493bb",
   "metadata": {},
   "outputs": [],
   "source": [
    "generator_in_channels = latent_dim + num_classes\n",
    "discriminator_in_channels = num_channels + num_classes"
   ]
  },
  {
   "cell_type": "code",
   "execution_count": 8,
   "id": "af8745bf",
   "metadata": {},
   "outputs": [],
   "source": [
    "discriminator = nn.Sequential(\n",
    "    nn.Conv2d(discriminator_in_channels, 64, 3, stride=2, padding=1),\n",
    "    nn.LeakyReLU(0.2),\n",
    "    nn.Conv2d(64, 128, 3, stride=2, padding=1),\n",
    "    nn.LeakyReLU(0.2),\n",
    "    nn.AdaptiveMaxPool2d(1),\n",
    "    nn.Flatten(),\n",
    "    nn.Linear(128, 1),\n",
    ")\n",
    "\n",
    "generator = nn.Sequential(\n",
    "    nn.Linear(generator_in_channels, generator_in_channels * 7 * 7),\n",
    "    nn.Unflatten(1, (generator_in_channels, 7, 7)),\n",
    "    nn.LeakyReLU(0.2),\n",
    "    nn.ConvTranspose2d(generator_in_channels, 128, 4, stride=2, padding=1),\n",
    "    nn.LeakyReLU(0.2),\n",
    "    nn.ConvTranspose2d(128, 128, 4, stride=2, padding=1),\n",
    "    nn.LeakyReLU(0.2),\n",
    "    nn.Conv2d(128, 1, 7, padding=3),\n",
    "    nn.Sigmoid(),\n",
    ")\n",
    "\n",
    "network = nn.ModuleDict(dict(discriminator=discriminator, generator=generator))"
   ]
  },
  {
   "cell_type": "code",
   "execution_count": 9,
   "id": "4e51fe47",
   "metadata": {},
   "outputs": [
    {
     "data": {
      "text/plain": [
       "ModuleDict(\n",
       "  (discriminator): Sequential(\n",
       "    (0): Conv2d(11, 64, kernel_size=(3, 3), stride=(2, 2), padding=(1, 1))\n",
       "    (1): LeakyReLU(negative_slope=0.2)\n",
       "    (2): Conv2d(64, 128, kernel_size=(3, 3), stride=(2, 2), padding=(1, 1))\n",
       "    (3): LeakyReLU(negative_slope=0.2)\n",
       "    (4): AdaptiveMaxPool2d(output_size=1)\n",
       "    (5): Flatten(start_dim=1, end_dim=-1)\n",
       "    (6): Linear(in_features=128, out_features=1, bias=True)\n",
       "  )\n",
       "  (generator): Sequential(\n",
       "    (0): Linear(in_features=138, out_features=6762, bias=True)\n",
       "    (1): Unflatten(dim=1, unflattened_size=(138, 7, 7))\n",
       "    (2): LeakyReLU(negative_slope=0.2)\n",
       "    (3): ConvTranspose2d(138, 128, kernel_size=(4, 4), stride=(2, 2), padding=(1, 1))\n",
       "    (4): LeakyReLU(negative_slope=0.2)\n",
       "    (5): ConvTranspose2d(128, 128, kernel_size=(4, 4), stride=(2, 2), padding=(1, 1))\n",
       "    (6): LeakyReLU(negative_slope=0.2)\n",
       "    (7): Conv2d(128, 1, kernel_size=(7, 7), stride=(1, 1), padding=(3, 3))\n",
       "    (8): Sigmoid()\n",
       "  )\n",
       ")"
      ]
     },
     "execution_count": 9,
     "metadata": {},
     "output_type": "execute_result"
    }
   ],
   "source": [
    "network"
   ]
  },
  {
   "cell_type": "code",
   "execution_count": 10,
   "id": "b8aa401b",
   "metadata": {},
   "outputs": [],
   "source": [
    "class GANStrategy(BaseStrategy):\n",
    "    def __init__(self, latent_dim, num_classes):\n",
    "        self.latent_dim = latent_dim\n",
    "        self.num_classes = num_classes\n",
    "\n",
    "        self.batch_metrics_average = CumulativeAverage()\n",
    "\n",
    "    def get_batch_metric_names(self):\n",
    "        return ['g_loss', 'd_loss']\n",
    "\n",
    "    def compute_batch_metrics(self):\n",
    "        return self.batch_metrics_average.compute()\n",
    "\n",
    "    def reset_batch_metrics(self):\n",
    "        self.batch_metrics_average.reset()\n",
    "\n",
    "    def train_step(self, data, **kwargs):\n",
    "        return self._step(data, training=True, **kwargs)\n",
    "\n",
    "    def test_step(self, data, **kwargs):\n",
    "        # Implementing this method allows us to have a validation steps when\n",
    "        # training and enable us to call the evaluate* methods.\n",
    "        return self._step(data, training=False, **kwargs)\n",
    "\n",
    "    def _step(self, data, *, training=True, **kwargs):\n",
    "        # Unpack the data.\n",
    "        real_images, image_labels = data\n",
    "        discriminator = self.model.network.discriminator\n",
    "        generator = self.model.network.generator\n",
    "        discriminator_optimizer, generator_optimizer = self.model.optimizers\n",
    "        device = real_images.device\n",
    "\n",
    "        # Add dummy dimensions to the labels so that they can be concatenated with\n",
    "        # the images. This is for the discriminator.\n",
    "        one_hot_labels = F.one_hot(image_labels, num_classes=self.num_classes)\n",
    "        image_one_hot_labels = one_hot_labels[:, :, None, None]\n",
    "        image_one_hot_labels = image_one_hot_labels.expand(-1, -1, *real_images.shape[-2:])\n",
    "\n",
    "        # Sample random points in the latent space and concatenate the labels.\n",
    "        # This is for the generator.\n",
    "        batch_size = real_images.shape[0]\n",
    "        random_latent_vectors = torch.randn((batch_size, self.latent_dim), device=device)\n",
    "        random_vector_labels = torch.cat((random_latent_vectors, one_hot_labels), axis=1)\n",
    "\n",
    "        # Decode the noise (guided by labels) to fake images.\n",
    "        generated_images = generator(random_vector_labels)\n",
    "\n",
    "        # Combine them with real images. Note that we are concatenating the labels\n",
    "        # with these images here.\n",
    "        fake_image_and_labels = torch.cat((generated_images, image_one_hot_labels), axis=1)\n",
    "        real_image_and_labels = torch.cat((real_images, image_one_hot_labels), axis=1)\n",
    "        combined_images = torch.cat((fake_image_and_labels, real_image_and_labels), axis=0)\n",
    "\n",
    "        # Assemble labels discriminating real from fake images.\n",
    "        labels = torch.cat(\n",
    "            (torch.ones((batch_size, 1), device=device), torch.zeros((batch_size, 1), device=device)), axis=0\n",
    "        )\n",
    "        predictions = discriminator(combined_images)\n",
    "\n",
    "        d_loss = self.model.loss_function(predictions, labels)\n",
    "        if training:\n",
    "            discriminator_optimizer.zero_grad()\n",
    "            generator.zero_grad()\n",
    "            d_loss.backward()\n",
    "            discriminator_optimizer.step()\n",
    "\n",
    "        # Sample random points in the latent space.\n",
    "        random_latent_vectors = torch.randn((batch_size, self.latent_dim), device=device)\n",
    "        random_vector_labels = torch.cat((random_latent_vectors, one_hot_labels), axis=1)\n",
    "\n",
    "        # Assemble labels that say \"all real images\".\n",
    "        misleading_labels = torch.zeros((batch_size, 1), device=device)\n",
    "\n",
    "        # Train the generator (note that we should *not* update the weights\n",
    "        # of the discriminator)!\n",
    "        fake_images = generator(random_vector_labels)\n",
    "        fake_image_and_labels = torch.cat((fake_images, image_one_hot_labels), axis=1)\n",
    "        predictions = discriminator(fake_image_and_labels)\n",
    "\n",
    "        g_loss = self.model.loss_function(predictions, misleading_labels)\n",
    "        if training:\n",
    "            discriminator.zero_grad()\n",
    "            generator_optimizer.zero_grad()\n",
    "            g_loss.backward()\n",
    "            generator_optimizer.step()\n",
    "\n",
    "        batch_metrics = [g_loss, d_loss]\n",
    "        self.batch_metrics_average.update(batch_metrics, batch_size)\n",
    "\n",
    "        return StepOutput(batch_metrics=batch_metrics, x=data)"
   ]
  },
  {
   "cell_type": "code",
   "execution_count": 11,
   "id": "0efb898b",
   "metadata": {},
   "outputs": [],
   "source": [
    "strategy = GANStrategy(latent_dim, num_classes)"
   ]
  },
  {
   "cell_type": "code",
   "execution_count": 12,
   "id": "24fbcaec",
   "metadata": {},
   "outputs": [],
   "source": [
    "discriminator_optimizer = optim.Adam(discriminator.parameters(), lr=0.0003)\n",
    "generator_optimizer = optim.Adam(generator.parameters(), lr=0.0003)\n",
    "model = Model(\n",
    "    network, [discriminator_optimizer, generator_optimizer], 'bce_with_logits', strategy=strategy, device='cuda'\n",
    ")"
   ]
  },
  {
   "cell_type": "code",
   "execution_count": 13,
   "id": "a099e16e",
   "metadata": {
    "scrolled": false
   },
   "outputs": [
    {
     "name": "stdout",
     "output_type": "stream",
     "text": [
      "\u001b[35mEpoch: \u001b[36m 1/20 \u001b[35mTrain steps: \u001b[36m750 \u001b[35mVal steps: \u001b[36m188 \u001b[32m24.42s \u001b[35mg_loss:\u001b[94m 0.893050\u001b[35m d_loss:\u001b[94m 0.607388\u001b[35m val_g_loss:\u001b[94m 0.699719\u001b[35m val_d_loss:\u001b[94m 0.755248\u001b[0m\n",
      "\u001b[35mEpoch: \u001b[36m 2/20 \u001b[35mTrain steps: \u001b[36m750 \u001b[35mVal steps: \u001b[36m188 \u001b[32m24.31s \u001b[35mg_loss:\u001b[94m 0.951307\u001b[35m d_loss:\u001b[94m 0.592437\u001b[35m val_g_loss:\u001b[94m 0.919600\u001b[35m val_d_loss:\u001b[94m 0.660756\u001b[0m\n",
      "\u001b[35mEpoch: \u001b[36m 3/20 \u001b[35mTrain steps: \u001b[36m750 \u001b[35mVal steps: \u001b[36m188 \u001b[32m24.39s \u001b[35mg_loss:\u001b[94m 2.940783\u001b[35m d_loss:\u001b[94m 0.272113\u001b[35m val_g_loss:\u001b[94m 1.395723\u001b[35m val_d_loss:\u001b[94m 0.457293\u001b[0m\n",
      "\u001b[35mEpoch: \u001b[36m 4/20 \u001b[35mTrain steps: \u001b[36m750 \u001b[35mVal steps: \u001b[36m188 \u001b[32m24.57s \u001b[35mg_loss:\u001b[94m 2.251616\u001b[35m d_loss:\u001b[94m 0.255573\u001b[35m val_g_loss:\u001b[94m 2.170500\u001b[35m val_d_loss:\u001b[94m 0.310764\u001b[0m\n",
      "\u001b[35mEpoch: \u001b[36m 5/20 \u001b[35mTrain steps: \u001b[36m750 \u001b[35mVal steps: \u001b[36m188 \u001b[32m24.58s \u001b[35mg_loss:\u001b[94m 2.967502\u001b[35m d_loss:\u001b[94m 0.156768\u001b[35m val_g_loss:\u001b[94m 3.251724\u001b[35m val_d_loss:\u001b[94m 0.115795\u001b[0m\n",
      "\u001b[35mEpoch: \u001b[36m 6/20 \u001b[35mTrain steps: \u001b[36m750 \u001b[35mVal steps: \u001b[36m188 \u001b[32m24.63s \u001b[35mg_loss:\u001b[94m 3.778930\u001b[35m d_loss:\u001b[94m 0.084587\u001b[35m val_g_loss:\u001b[94m 3.897270\u001b[35m val_d_loss:\u001b[94m 0.062823\u001b[0m\n",
      "\u001b[35mEpoch: \u001b[36m 7/20 \u001b[35mTrain steps: \u001b[36m750 \u001b[35mVal steps: \u001b[36m188 \u001b[32m24.61s \u001b[35mg_loss:\u001b[94m 4.505677\u001b[35m d_loss:\u001b[94m 0.049980\u001b[35m val_g_loss:\u001b[94m 4.477675\u001b[35m val_d_loss:\u001b[94m 0.044684\u001b[0m\n",
      "\u001b[35mEpoch: \u001b[36m 8/20 \u001b[35mTrain steps: \u001b[36m750 \u001b[35mVal steps: \u001b[36m188 \u001b[32m24.69s \u001b[35mg_loss:\u001b[94m 4.991932\u001b[35m d_loss:\u001b[94m 0.039344\u001b[35m val_g_loss:\u001b[94m 5.009208\u001b[35m val_d_loss:\u001b[94m 0.039360\u001b[0m\n",
      "\u001b[35mEpoch: \u001b[36m 9/20 \u001b[35mTrain steps: \u001b[36m750 \u001b[35mVal steps: \u001b[36m188 \u001b[32m24.67s \u001b[35mg_loss:\u001b[94m 2.981083\u001b[35m d_loss:\u001b[94m 0.288308\u001b[35m val_g_loss:\u001b[94m 1.355189\u001b[35m val_d_loss:\u001b[94m 0.438510\u001b[0m\n",
      "\u001b[35mEpoch: \u001b[36m10/20 \u001b[35mTrain steps: \u001b[36m750 \u001b[35mVal steps: \u001b[36m188 \u001b[32m24.71s \u001b[35mg_loss:\u001b[94m 1.534124\u001b[35m d_loss:\u001b[94m 0.433013\u001b[35m val_g_loss:\u001b[94m 1.274686\u001b[35m val_d_loss:\u001b[94m 0.457419\u001b[0m\n",
      "\u001b[35mEpoch: \u001b[36m11/20 \u001b[35mTrain steps: \u001b[36m750 \u001b[35mVal steps: \u001b[36m188 \u001b[32m24.78s \u001b[35mg_loss:\u001b[94m 1.340931\u001b[35m d_loss:\u001b[94m 0.470805\u001b[35m val_g_loss:\u001b[94m 1.197511\u001b[35m val_d_loss:\u001b[94m 0.492800\u001b[0m\n",
      "\u001b[35mEpoch: \u001b[36m12/20 \u001b[35mTrain steps: \u001b[36m750 \u001b[35mVal steps: \u001b[36m188 \u001b[32m24.72s \u001b[35mg_loss:\u001b[94m 1.270963\u001b[35m d_loss:\u001b[94m 0.492525\u001b[35m val_g_loss:\u001b[94m 1.380618\u001b[35m val_d_loss:\u001b[94m 0.460530\u001b[0m\n",
      "\u001b[35mEpoch: \u001b[36m13/20 \u001b[35mTrain steps: \u001b[36m750 \u001b[35mVal steps: \u001b[36m188 \u001b[32m24.78s \u001b[35mg_loss:\u001b[94m 1.226625\u001b[35m d_loss:\u001b[94m 0.502994\u001b[35m val_g_loss:\u001b[94m 0.940244\u001b[35m val_d_loss:\u001b[94m 0.523869\u001b[0m\n",
      "\u001b[35mEpoch: \u001b[36m14/20 \u001b[35mTrain steps: \u001b[36m750 \u001b[35mVal steps: \u001b[36m188 \u001b[32m24.88s \u001b[35mg_loss:\u001b[94m 1.206472\u001b[35m d_loss:\u001b[94m 0.509094\u001b[35m val_g_loss:\u001b[94m 0.912299\u001b[35m val_d_loss:\u001b[94m 0.519916\u001b[0m\n",
      "\u001b[35mEpoch: \u001b[36m15/20 \u001b[35mTrain steps: \u001b[36m750 \u001b[35mVal steps: \u001b[36m188 \u001b[32m24.92s \u001b[35mg_loss:\u001b[94m 1.223651\u001b[35m d_loss:\u001b[94m 0.510211\u001b[35m val_g_loss:\u001b[94m 0.907854\u001b[35m val_d_loss:\u001b[94m 0.542980\u001b[0m\n",
      "\u001b[35mEpoch: \u001b[36m16/20 \u001b[35mTrain steps: \u001b[36m750 \u001b[35mVal steps: \u001b[36m188 \u001b[32m24.88s \u001b[35mg_loss:\u001b[94m 1.175883\u001b[35m d_loss:\u001b[94m 0.529804\u001b[35m val_g_loss:\u001b[94m 1.247158\u001b[35m val_d_loss:\u001b[94m 0.549094\u001b[0m\n",
      "\u001b[35mEpoch: \u001b[36m17/20 \u001b[35mTrain steps: \u001b[36m750 \u001b[35mVal steps: \u001b[36m188 \u001b[32m24.90s \u001b[35mg_loss:\u001b[94m 1.130421\u001b[35m d_loss:\u001b[94m 0.552863\u001b[35m val_g_loss:\u001b[94m 0.971816\u001b[35m val_d_loss:\u001b[94m 0.578380\u001b[0m\n",
      "\u001b[35mEpoch: \u001b[36m18/20 \u001b[35mTrain steps: \u001b[36m750 \u001b[35mVal steps: \u001b[36m188 \u001b[32m24.88s \u001b[35mg_loss:\u001b[94m 1.076671\u001b[35m d_loss:\u001b[94m 0.576716\u001b[35m val_g_loss:\u001b[94m 0.900082\u001b[35m val_d_loss:\u001b[94m 0.582782\u001b[0m\n",
      "\u001b[35mEpoch: \u001b[36m19/20 \u001b[35mTrain steps: \u001b[36m750 \u001b[35mVal steps: \u001b[36m188 \u001b[32m24.85s \u001b[35mg_loss:\u001b[94m 1.053074\u001b[35m d_loss:\u001b[94m 0.583778\u001b[35m val_g_loss:\u001b[94m 0.996163\u001b[35m val_d_loss:\u001b[94m 0.579703\u001b[0m\n",
      "\u001b[35mEpoch: \u001b[36m20/20 \u001b[35mTrain steps: \u001b[36m750 \u001b[35mVal steps: \u001b[36m188 \u001b[32m24.85s \u001b[35mg_loss:\u001b[94m 1.047826\u001b[35m d_loss:\u001b[94m 0.591432\u001b[35m val_g_loss:\u001b[94m 1.015650\u001b[35m val_d_loss:\u001b[94m 0.603477\u001b[0m\n"
     ]
    }
   ],
   "source": [
    "_ = model.fit_generator(train_loader, valid_loader, epochs=20)"
   ]
  },
  {
   "cell_type": "code",
   "execution_count": 14,
   "id": "51e0fe95",
   "metadata": {
    "scrolled": true
   },
   "outputs": [
    {
     "name": "stdout",
     "output_type": "stream",
     "text": [
      "\u001b[35mTest steps: \u001b[36m157 \u001b[32m2.28s \u001b[35mtest_g_loss:\u001b[94m 1.018641\u001b[35m test_d_loss:\u001b[94m 0.603591\u001b[0m                                                  \n"
     ]
    },
    {
     "data": {
      "text/plain": [
       "{'time': 2.278034443035722,\n",
       " 'test_g_loss': 1.0186405668258667,\n",
       " 'test_d_loss': 0.6035914352416992}"
      ]
     },
     "execution_count": 14,
     "metadata": {},
     "output_type": "execute_result"
    }
   ],
   "source": [
    "_ = model.evaluate_generator(test_loader, return_dict_format=True)"
   ]
  },
  {
   "cell_type": "code",
   "execution_count": 26,
   "id": "52022e04",
   "metadata": {},
   "outputs": [
    {
     "name": "stdout",
     "output_type": "stream",
     "text": [
      "\u001b[35mPrediction steps: \u001b[36m1 \u001b[32m0.02s \u001b[0m                                         \n"
     ]
    }
   ],
   "source": [
    "generator_model = Model(generator, None, None, device='cuda')\n",
    "\n",
    "# Choose the number of intermediate images that would be generated in\n",
    "# between the interpolation + 2 (start and last images).\n",
    "num_interpolation = 9  # @param {type:\"integer\"}\n",
    "\n",
    "# Sample noise for the interpolation.\n",
    "interpolation_noise = torch.randn((1, latent_dim))\n",
    "interpolation_noise = interpolation_noise.expand(num_interpolation, latent_dim)\n",
    "\n",
    "\n",
    "def interpolate_class(first_number, second_number):\n",
    "    first_label = F.one_hot(torch.tensor([first_number]), num_classes=num_classes).float()\n",
    "    second_label = F.one_hot(torch.tensor([second_number]), num_classes=num_classes).float()\n",
    "\n",
    "    # Calculate the interpolation vector between the two labels.\n",
    "    percent_second_label = torch.linspace(0, 1, num_interpolation)[:, None]\n",
    "    interpolation_labels = first_label * (1 - percent_second_label) + second_label * percent_second_label\n",
    "\n",
    "    # Combine the noise and the labels and run inference with the generator.\n",
    "    noise_and_labels = torch.cat((interpolation_noise, interpolation_labels), axis=1)\n",
    "    fake = generator_model.predict(noise_and_labels, convert_to_numpy=False).cpu()\n",
    "\n",
    "    return fake\n",
    "\n",
    "\n",
    "def get_gif(fake_images):\n",
    "    converted_images = 255.0 * fake_images\n",
    "    converted_images = F.interpolate(converted_images, (96, 96)).byte()\n",
    "    converted_images = converted_images.expand(-1, 3, -1, -1)\n",
    "    converted_images = torch.movedim(converted_images, 1, 3)\n",
    "    converted_images = converted_images.numpy()\n",
    "    return converted_images\n",
    "\n",
    "\n",
    "start_class = 1  # @param {type:\"slider\", min:0, max:9, step:1}\n",
    "end_class = 5  # @param {type:\"slider\", min:0, max:9, step:1}\n",
    "\n",
    "fake_images = interpolate_class(start_class, end_class)"
   ]
  },
  {
   "cell_type": "code",
   "execution_count": 27,
   "id": "a591c4ed",
   "metadata": {},
   "outputs": [
    {
     "data": {
      "image/gif": "[encoded data removed]",
      "text/plain": [
       "<IPython.core.display.Image object>"
      ]
     },
     "metadata": {},
     "output_type": "display_data"
    }
   ],
   "source": [
    "gif_data = iio.imwrite(\"<bytes>\", get_gif(fake_images), format_hint=\".gif\", duration=100)\n",
    "from IPython.display import Image\n",
    "\n",
    "display(Image(data=gif_data, format='gif'))"
   ]
  },
  {
   "cell_type": "code",
   "execution_count": null,
   "id": "cbf58bbd",
   "metadata": {},
   "outputs": [],
   "source": []
  }
 ],
 "metadata": {
  "kernelspec": {
   "display_name": "Python 3 (ipykernel)",
   "language": "python",
   "name": "python3"
  },
  "language_info": {
   "codemirror_mode": {
    "name": "ipython",
    "version": 3
   },
   "file_extension": ".py",
   "mimetype": "text/x-python",
   "name": "python",
   "nbconvert_exporter": "python",
   "pygments_lexer": "ipython3",
   "version": "3.10.6"
  }
 },
 "nbformat": 4,
 "nbformat_minor": 5
}
