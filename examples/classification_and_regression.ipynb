{
  "nbformat": 4,
  "nbformat_minor": 0,
  "metadata": {
    "accelerator": "GPU",
    "colab": {
      "name": "classification_and_regression1.ipynb",
      "provenance": [],
      "collapsed_sections": []
    },
    "kernelspec": {
      "display_name": "Python 3",
      "name": "python3"
    },
    "widgets": {
      "application/vnd.jupyter.widget-state+json": {
        "73fe7efea53f4b17a352bcf866a8fc9d": {
          "model_module": "@jupyter-widgets/controls",
          "model_name": "HBoxModel",
          "state": {
            "_view_name": "HBoxView",
            "_dom_classes": [],
            "_model_name": "HBoxModel",
            "_view_module": "@jupyter-widgets/controls",
            "_model_module_version": "1.5.0",
            "_view_count": null,
            "_view_module_version": "1.5.0",
            "box_style": "",
            "layout": "IPY_MODEL_8517b2c4438b4a37b8b1f89a30c1bf60",
            "_model_module": "@jupyter-widgets/controls",
            "children": [
              "IPY_MODEL_261d21a5d6fe41638d0b2dcc0ea7af30",
              "IPY_MODEL_fd684f35220f44c4ba0a205115de43ef"
            ]
          }
        },
        "8517b2c4438b4a37b8b1f89a30c1bf60": {
          "model_module": "@jupyter-widgets/base",
          "model_name": "LayoutModel",
          "state": {
            "_view_name": "LayoutView",
            "grid_template_rows": null,
            "right": null,
            "justify_content": null,
            "_view_module": "@jupyter-widgets/base",
            "overflow": null,
            "_model_module_version": "1.2.0",
            "_view_count": null,
            "flex_flow": null,
            "width": null,
            "min_width": null,
            "border": null,
            "align_items": null,
            "bottom": null,
            "_model_module": "@jupyter-widgets/base",
            "top": null,
            "grid_column": null,
            "overflow_y": null,
            "overflow_x": null,
            "grid_auto_flow": null,
            "grid_area": null,
            "grid_template_columns": null,
            "flex": null,
            "_model_name": "LayoutModel",
            "justify_items": null,
            "grid_row": null,
            "max_height": null,
            "align_content": null,
            "visibility": null,
            "align_self": null,
            "height": null,
            "min_height": null,
            "padding": null,
            "grid_auto_rows": null,
            "grid_gap": null,
            "max_width": null,
            "order": null,
            "_view_module_version": "1.2.0",
            "grid_template_areas": null,
            "object_position": null,
            "object_fit": null,
            "grid_auto_columns": null,
            "margin": null,
            "display": null,
            "left": null
          }
        },
        "261d21a5d6fe41638d0b2dcc0ea7af30": {
          "model_module": "@jupyter-widgets/controls",
          "model_name": "FloatProgressModel",
          "state": {
            "_view_name": "ProgressView",
            "style": "IPY_MODEL_d2187652877c422c91bc81d5125aa1e8",
            "_dom_classes": [],
            "description": "100%",
            "_model_name": "FloatProgressModel",
            "bar_style": "success",
            "max": 46830571,
            "_view_module": "@jupyter-widgets/controls",
            "_model_module_version": "1.5.0",
            "value": 46830571,
            "_view_count": null,
            "_view_module_version": "1.5.0",
            "orientation": "horizontal",
            "min": 0,
            "description_tooltip": null,
            "_model_module": "@jupyter-widgets/controls",
            "layout": "IPY_MODEL_12fee49db5d24c73ab69add891b8f77a"
          }
        },
        "fd684f35220f44c4ba0a205115de43ef": {
          "model_module": "@jupyter-widgets/controls",
          "model_name": "HTMLModel",
          "state": {
            "_view_name": "HTMLView",
            "style": "IPY_MODEL_67f50fe7bcf945cb8ef98435fe63e692",
            "_dom_classes": [],
            "description": "",
            "_model_name": "HTMLModel",
            "placeholder": "​",
            "_view_module": "@jupyter-widgets/controls",
            "_model_module_version": "1.5.0",
            "value": " 44.7M/44.7M [00:13&lt;00:00, 3.56MB/s]",
            "_view_count": null,
            "_view_module_version": "1.5.0",
            "description_tooltip": null,
            "_model_module": "@jupyter-widgets/controls",
            "layout": "IPY_MODEL_fde12683bc9d4663a1a70abe1c5f1e90"
          }
        },
        "d2187652877c422c91bc81d5125aa1e8": {
          "model_module": "@jupyter-widgets/controls",
          "model_name": "ProgressStyleModel",
          "state": {
            "_view_name": "StyleView",
            "_model_name": "ProgressStyleModel",
            "description_width": "initial",
            "_view_module": "@jupyter-widgets/base",
            "_model_module_version": "1.5.0",
            "_view_count": null,
            "_view_module_version": "1.2.0",
            "bar_color": null,
            "_model_module": "@jupyter-widgets/controls"
          }
        },
        "12fee49db5d24c73ab69add891b8f77a": {
          "model_module": "@jupyter-widgets/base",
          "model_name": "LayoutModel",
          "state": {
            "_view_name": "LayoutView",
            "grid_template_rows": null,
            "right": null,
            "justify_content": null,
            "_view_module": "@jupyter-widgets/base",
            "overflow": null,
            "_model_module_version": "1.2.0",
            "_view_count": null,
            "flex_flow": null,
            "width": null,
            "min_width": null,
            "border": null,
            "align_items": null,
            "bottom": null,
            "_model_module": "@jupyter-widgets/base",
            "top": null,
            "grid_column": null,
            "overflow_y": null,
            "overflow_x": null,
            "grid_auto_flow": null,
            "grid_area": null,
            "grid_template_columns": null,
            "flex": null,
            "_model_name": "LayoutModel",
            "justify_items": null,
            "grid_row": null,
            "max_height": null,
            "align_content": null,
            "visibility": null,
            "align_self": null,
            "height": null,
            "min_height": null,
            "padding": null,
            "grid_auto_rows": null,
            "grid_gap": null,
            "max_width": null,
            "order": null,
            "_view_module_version": "1.2.0",
            "grid_template_areas": null,
            "object_position": null,
            "object_fit": null,
            "grid_auto_columns": null,
            "margin": null,
            "display": null,
            "left": null
          }
        },
        "67f50fe7bcf945cb8ef98435fe63e692": {
          "model_module": "@jupyter-widgets/controls",
          "model_name": "DescriptionStyleModel",
          "state": {
            "_view_name": "StyleView",
            "_model_name": "DescriptionStyleModel",
            "description_width": "",
            "_view_module": "@jupyter-widgets/base",
            "_model_module_version": "1.5.0",
            "_view_count": null,
            "_view_module_version": "1.2.0",
            "_model_module": "@jupyter-widgets/controls"
          }
        },
        "fde12683bc9d4663a1a70abe1c5f1e90": {
          "model_module": "@jupyter-widgets/base",
          "model_name": "LayoutModel",
          "state": {
            "_view_name": "LayoutView",
            "grid_template_rows": null,
            "right": null,
            "justify_content": null,
            "_view_module": "@jupyter-widgets/base",
            "overflow": null,
            "_model_module_version": "1.2.0",
            "_view_count": null,
            "flex_flow": null,
            "width": null,
            "min_width": null,
            "border": null,
            "align_items": null,
            "bottom": null,
            "_model_module": "@jupyter-widgets/base",
            "top": null,
            "grid_column": null,
            "overflow_y": null,
            "overflow_x": null,
            "grid_auto_flow": null,
            "grid_area": null,
            "grid_template_columns": null,
            "flex": null,
            "_model_name": "LayoutModel",
            "justify_items": null,
            "grid_row": null,
            "max_height": null,
            "align_content": null,
            "visibility": null,
            "align_self": null,
            "height": null,
            "min_height": null,
            "padding": null,
            "grid_auto_rows": null,
            "grid_gap": null,
            "max_width": null,
            "order": null,
            "_view_module_version": "1.2.0",
            "grid_template_areas": null,
            "object_position": null,
            "object_fit": null,
            "grid_auto_columns": null,
            "margin": null,
            "display": null,
            "left": null
          }
        }
      }
    }
  },
  "cells": [
    {
      "cell_type": "markdown",
      "metadata": {
        "id": "9gmgN61SirPE"
      },
      "source": [
        "# Gender Classification and Eyes Location Detection: A Two Task Problem"
      ]
    },
    {
      "cell_type": "markdown",
      "metadata": {
        "id": "syR65Pohizmh"
      },
      "source": [
        "In this example, we are going to implement a multi-task problem. We try to identify the gender of the people, as well as locating their eyes in the image. Hence, we have two different tasks: classification (to identify the gender) and regression (to find the location of the eyes). We are going to use a single network (a CNN) to perform both tasks, however, we will need to apply different loss functions, each proper to a specific task. For this example we will need to install a few libraries (such as OpenCV, wget). If you don't have them, they can be installed as below:"
      ]
    },
    {
      "cell_type": "code",
      "metadata": {
        "colab": {
          "base_uri": "https://localhost:8080/"
        },
        "id": "VAG5NDFCiqxG",
        "outputId": "08544c29-1077-4f2d-94d4-51bd37cfd11a"
      },
      "source": [
        "%pip install poutyne          # to install the Poutyne library\n",
        "%pip install wget             # to install the wget library in order to download data\n",
        "#%pip install opencv-python    # to install the cv2 (opencv) library"
      ],
      "execution_count": null,
      "outputs": [
        {
          "output_type": "stream",
          "text": [
            "Collecting poutyne\n",
            "  Downloading Poutyne-1.5-py3-none-any.whl (136 kB)\n",
            "\u001b[?25l\r\u001b[K     |██▍                             | 10 kB 36.7 MB/s eta 0:00:01\r\u001b[K     |████▉                           | 20 kB 28.5 MB/s eta 0:00:01\r\u001b[K     |███████▏                        | 30 kB 19.6 MB/s eta 0:00:01\r\u001b[K     |█████████▋                      | 40 kB 17.2 MB/s eta 0:00:01\r\u001b[K     |████████████                    | 51 kB 7.7 MB/s eta 0:00:01\r\u001b[K     |██████████████▍                 | 61 kB 9.0 MB/s eta 0:00:01\r\u001b[K     |████████████████▊               | 71 kB 8.4 MB/s eta 0:00:01\r\u001b[K     |███████████████████▏            | 81 kB 9.4 MB/s eta 0:00:01\r\u001b[K     |█████████████████████▌          | 92 kB 10.2 MB/s eta 0:00:01\r\u001b[K     |████████████████████████        | 102 kB 8.1 MB/s eta 0:00:01\r\u001b[K     |██████████████████████████▎     | 112 kB 8.1 MB/s eta 0:00:01\r\u001b[K     |████████████████████████████▊   | 122 kB 8.1 MB/s eta 0:00:01\r\u001b[K     |███████████████████████████████ | 133 kB 8.1 MB/s eta 0:00:01\r\u001b[K     |████████████████████████████████| 136 kB 8.1 MB/s \n",
            "\u001b[?25hRequirement already satisfied: numpy in /usr/local/lib/python3.7/dist-packages (from poutyne) (1.19.5)\n",
            "Requirement already satisfied: torch in /usr/local/lib/python3.7/dist-packages (from poutyne) (1.9.0+cu102)\n",
            "Requirement already satisfied: typing-extensions in /usr/local/lib/python3.7/dist-packages (from torch->poutyne) (3.7.4.3)\n",
            "Installing collected packages: poutyne\n",
            "Successfully installed poutyne-1.5\n",
            "Collecting wget\n",
            "  Downloading wget-3.2.zip (10 kB)\n",
            "Building wheels for collected packages: wget\n",
            "  Building wheel for wget (setup.py) ... \u001b[?25l\u001b[?25hdone\n",
            "  Created wheel for wget: filename=wget-3.2-py3-none-any.whl size=9673 sha256=e09a63f375ac460f314b5b138c9f3e3958af99fca69aa74ec4f7e9876e5df83f\n",
            "  Stored in directory: /root/.cache/pip/wheels/a1/b6/7c/0e63e34eb06634181c63adacca38b79ff8f35c37e3c13e3c02\n",
            "Successfully built wget\n",
            "Installing collected packages: wget\n",
            "Successfully installed wget-3.2\n"
          ],
          "name": "stdout"
        }
      ]
    },
    {
      "cell_type": "markdown",
      "metadata": {
        "id": "pUiFHqwBEBBx"
      },
      "source": [
        "Let’s import all the needed packages."
      ]
    },
    {
      "cell_type": "code",
      "metadata": {
        "id": "e3vspk0bpkbn"
      },
      "source": [
        "%matplotlib inline\n",
        "%reload_ext autoreload\n",
        "%autoreload 2\n",
        "\n",
        "import math\n",
        "import os\n",
        "import matplotlib.pyplot as plt\n",
        "import numpy as np\n",
        "import pandas as pd\n",
        "import wget\n",
        "import zipfile\n",
        "import cv2\n",
        "import torch\n",
        "import torch.nn as nn\n",
        "import torch.nn.functional as F\n",
        "import torch.optim as optim\n",
        "import torchvision.datasets as datasets\n",
        "import torchvision.models as models\n",
        "import torchvision.transforms as tfms\n",
        "from poutyne import set_seeds, Model, ModelCheckpoint, CSVLogger, Experiment, StepLR\n",
        "from torch.utils.data import DataLoader, Subset, Dataset  \n",
        "from torchvision.utils import make_grid"
      ],
      "execution_count": null,
      "outputs": []
    },
    {
      "cell_type": "markdown",
      "metadata": {
        "id": "NTIP6sKzENto"
      },
      "source": [
        "\n",
        "## Training Constants"
      ]
    },
    {
      "cell_type": "code",
      "metadata": {
        "colab": {
          "base_uri": "https://localhost:8080/"
        },
        "id": "vSfN1KvNpkgh",
        "outputId": "41f7ee09-7d28-4399-9c46-506cb4265afe"
      },
      "source": [
        "num_epochs = 15\n",
        "learning_rate = 0.001\n",
        "batch_size = 32\n",
        "image_size = 224\n",
        "w, h = 218, 178   # the width and the hight of original images before resizing\n",
        "valid_split_percent = 0.1  \n",
        "momentum = 0.5\n",
        "set_seeds(42)\n",
        "gender_index = 20 # in the CelebA dataset gender information is the 21th item in the attributes vector.\n",
        "W = 1.3 # the weight of regression loss \n",
        "imagenet_mean = [0.485, 0.456, 0.406]  # mean of the ImageNet dataset for normalizing \n",
        "imagenet_std = [0.229, 0.224, 0.225]  # std of the ImageNet dataset for normalizing\n",
        "device = torch.device('cuda' if torch.cuda.is_available() else 'cpu')\n",
        "print('The running processor is...', device) "
      ],
      "execution_count": null,
      "outputs": [
        {
          "output_type": "stream",
          "text": [
            "The running processor is... cuda\n"
          ],
          "name": "stdout"
        }
      ]
    },
    {
      "cell_type": "markdown",
      "metadata": {
        "id": "-9boLeZbaHVl"
      },
      "source": [
        "## CelebA Dataset"
      ]
    },
    {
      "cell_type": "markdown",
      "metadata": {
        "id": "rFVlGoTBaMbU"
      },
      "source": [
        "We are going to use the CelebA dataset for this experiment. The CelebA \n",
        "dataset  is a large-scale face attributes dataset which can be employed as the training and test sets for the following computer vision tasks: face attribute recognition, face detection, landmark (or facial part) localization, and face editing & synthesis."
      ]
    },
    {
      "cell_type": "markdown",
      "metadata": {
        "id": "QhGYzr9-TgR7"
      },
      "source": [
        "## Fetching data \n"
      ]
    },
    {
      "cell_type": "markdown",
      "metadata": {
        "id": "nrTAzlJVxc_M"
      },
      "source": [
        "The section below consists of a few lines of codes that help us download the CelebA dataset from a public web source and unzip it. Downloading the CelebA dataset can be also done directly using `torch.datasets.CelebA(data_root, download=True)`. However, due to the high traffic on the dataset's Google Drive (the main source of the dataset), it usually fails to function. Hence we decided to download it from another public source but use it with `torch.datasets.CelebA()`."
      ]
    },
    {
      "cell_type": "code",
      "metadata": {
        "id": "7hyL47KFUi-L"
      },
      "source": [
        "data_root = 'datasets'  \n",
        "\n",
        "base_url = \"https://graal.ift.ulaval.ca/public/celeba/\"\n",
        "\n",
        "file_list = [\n",
        "    \"img_align_celeba.zip\",\n",
        "    \"list_attr_celeba.txt\", \n",
        "    \"identity_CelebA.txt\",\n",
        "    \"list_bbox_celeba.txt\",\n",
        "    \"list_landmarks_align_celeba.txt\",\n",
        "    \"list_eval_partition.txt\"\n",
        "]\n",
        "\n",
        "# Path to folder with the dataset\n",
        "dataset_folder = f'{data_root}/celeba'\n",
        "os.makedirs(dataset_folder, exist_ok=True)\n",
        "\n",
        "for file in file_list:\n",
        "    url = f\"{base_url}/{file}\"\n",
        "    if not os.path.exists(f\"{dataset_folder}/{file}\"):\n",
        "      wget.download(url, f\"{dataset_folder}/{file}\")\n",
        "\n",
        "with zipfile.ZipFile(f\"{dataset_folder}/img_align_celeba.zip\", 'r') as ziphandler:\n",
        "    ziphandler.extractall(dataset_folder)"
      ],
      "execution_count": null,
      "outputs": []
    },
    {
      "cell_type": "markdown",
      "metadata": {
        "id": "fBB1m9R9zw0q"
      },
      "source": [
        "Now, as the dataset id downloaded, we can define our datasets and dataloaders in its original way."
      ]
    },
    {
      "cell_type": "code",
      "metadata": {
        "id": "ES0KRDhFUueF"
      },
      "source": [
        "transforms = tfms.Compose([\n",
        "    tfms.Resize((image_size, image_size)),\n",
        "    tfms.ToTensor(),\n",
        "    tfms.Normalize(imagenet_mean, imagenet_std)\n",
        "])\n",
        "train_dataset = datasets.CelebA(\n",
        "    data_root,\n",
        "    split='train',\n",
        "    target_type=['attr', 'landmarks'],\n",
        "    transform=transforms\n",
        ")\n",
        "valid_dataset = datasets.CelebA(\n",
        "    data_root, \n",
        "    split='valid', \n",
        "    target_type=['attr', 'landmarks'], \n",
        "    transform=transforms\n",
        ")\n",
        "test_dataset = datasets.CelebA(\n",
        "    data_root, \n",
        "    split='test', \n",
        "    target_type=['attr', 'landmarks'], \n",
        "    transform=transforms\n",
        ")\n",
        "\n",
        "train_dataloader = DataLoader(train_dataset, batch_size=batch_size, shuffle=True)\n",
        "valid_dataloader = DataLoader(valid_dataset, batch_size=batch_size, shuffle=False)\n",
        "test_dataloader = DataLoader(test_dataset, batch_size=batch_size, shuffle=False)"
      ],
      "execution_count": null,
      "outputs": []
    },
    {
      "cell_type": "markdown",
      "metadata": {
        "id": "_O4N5rXz1dZq"
      },
      "source": [
        "Here we can see how each dataset sample looks like:"
      ]
    },
    {
      "cell_type": "code",
      "metadata": {
        "colab": {
          "base_uri": "https://localhost:8080/"
        },
        "id": "OKBFCZD01qoJ",
        "outputId": "0fda8a4b-86d4-4f1e-c29c-34b93f443e94"
      },
      "source": [
        "print (train_dataset[0])"
      ],
      "execution_count": null,
      "outputs": [
        {
          "output_type": "stream",
          "text": [
            "(tensor([[[ 2.2147,  2.2147,  2.2147,  ...,  2.1804,  2.2318,  2.2318],\n",
            "         [ 2.2147,  2.2147,  2.2147,  ...,  2.1975,  2.2318,  2.2318],\n",
            "         [ 2.2147,  2.2147,  2.2147,  ...,  2.2147,  2.2489,  2.2489],\n",
            "         ...,\n",
            "         [ 0.2624,  0.0056,  0.1426,  ..., -0.0287, -0.0287, -0.0287],\n",
            "         [ 0.1426,  0.2453,  0.5364,  ..., -0.0972, -0.0972, -0.0972],\n",
            "         [ 0.7591,  1.1872,  1.7180,  ..., -0.0801, -0.0629, -0.0629]],\n",
            "\n",
            "        [[ 2.0084,  2.0084,  2.0084,  ...,  2.0259,  2.1310,  2.1310],\n",
            "         [ 2.0084,  2.0084,  2.0084,  ...,  2.0434,  2.1310,  2.1310],\n",
            "         [ 2.0084,  2.0084,  2.0084,  ...,  2.0784,  2.1485,  2.1485],\n",
            "         ...,\n",
            "         [-0.7577, -1.0378, -0.9153,  ..., -1.0553, -1.0553, -1.0553],\n",
            "         [-0.9153, -0.8102, -0.5126,  ..., -1.1604, -1.1429, -1.1429],\n",
            "         [-0.2850,  0.1527,  0.6954,  ..., -1.1604, -1.1604, -1.1604]],\n",
            "\n",
            "        [[ 1.5768,  1.5768,  1.5768,  ...,  2.0823,  2.0648,  2.0648],\n",
            "         [ 1.5768,  1.5768,  1.5768,  ...,  2.0823,  2.0648,  2.0648],\n",
            "         [ 1.5768,  1.5768,  1.5768,  ...,  2.1171,  2.0823,  2.0823],\n",
            "         ...,\n",
            "         [-1.3687, -1.6302, -1.4907,  ..., -1.2990, -1.2816, -1.2816],\n",
            "         [-1.5081, -1.4036, -1.0898,  ..., -1.4210, -1.3861, -1.3861],\n",
            "         [-0.8807, -0.4450,  0.1128,  ..., -1.4210, -1.3861, -1.3861]]]), (tensor([0, 1, 1, 0, 0, 0, 0, 0, 0, 0, 0, 1, 0, 0, 0, 0, 0, 0, 1, 1, 0, 1, 0, 0,\n",
            "        1, 0, 0, 1, 0, 0, 0, 1, 1, 0, 1, 0, 1, 0, 0, 1]), tensor([ 69, 109, 106, 113,  77, 142,  73, 152, 108, 154])))\n"
          ],
          "name": "stdout"
        }
      ]
    },
    {
      "cell_type": "markdown",
      "metadata": {
        "id": "-UwapLAJ2z0-"
      },
      "source": [
        "Regarding the complexity of the problem and the number of training/valid samples, we have a huge number of training/validation images. Since there are not a considerable varation between images (e.g., the eye coordinates in images do not vary considerably), using all images in the dataset is not necessary and will only increase the training time. Hence, we can seperate and use a portion of data as below:"
      ]
    },
    {
      "cell_type": "code",
      "metadata": {
        "id": "eaZUdAsRgrd9"
      },
      "source": [
        "train_subset = Subset(train_dataset, np.arange(1,5000))\n",
        "valid_subset = Subset(valid_dataset, np.arange(1,500))\n",
        "train_dataloader = DataLoader(train_subset, batch_size=batch_size, shuffle=True)\n",
        "valid_dataloader = DataLoader(valid_subset, batch_size=batch_size, shuffle=False)"
      ],
      "execution_count": null,
      "outputs": []
    },
    {
      "cell_type": "markdown",
      "metadata": {
        "id": "tFQpqD3hWcNX"
      },
      "source": [
        "Here, we can see an example from the training dataset. It shows an image of a person, printing the gender and also showing the location of the eyes. It is worth mentioning that as we resize the image, the coordinates of the eyes should also be changed with same ratio."
      ]
    },
    {
      "cell_type": "code",
      "metadata": {
        "colab": {
          "base_uri": "https://localhost:8080/",
          "height": 266
        },
        "id": "ZgVduT00VWis",
        "outputId": "3218d9fc-f3b6-46eb-dad1-ccb31ec29d91"
      },
      "source": [
        "sample_number = 22\n",
        "image = train_dataset[sample_number][0]\n",
        "image = image.permute(1,2,0).detach().numpy()\n",
        "image_rgb = cv2.cvtColor(np.float32(image), cv2.COLOR_BGR2RGB)\n",
        "image_rgb = image_rgb * imagenet_std + imagenet_mean\n",
        "gender = 'male' if int(train_dataset[sample_number][1][0][gender_index])==1 else 'female'\n",
        "print('Gender is: ', gender)\n",
        "w, h = 218, 178\n",
        "(x_L, y_L) = train_dataset[sample_number][1][1][0:2]  # The coordinates vector of the datasets starts with X_L, y_L, X_R, y_R\n",
        "(x_R, y_R) = train_dataset[sample_number][1][1][2:4]\n",
        "w_scale = image_size/w\n",
        "h_scale = image_size/h\n",
        "x_L, x_R = (x_L*h_scale), (x_R*h_scale)  #rescaling for the size of (224,224) and finaly to the range of [0,1]\n",
        "y_L, y_R = (y_L*w_scale), (y_R*w_scale)\n",
        "x_L, x_R = int(x_L), int(x_R)\n",
        "y_L, y_R = int(y_L), int(y_R)\n",
        "image_rgb\t= cv2.drawMarker(image_rgb, (x_L,y_L), (0,255,0))\n",
        "image_rgb\t= cv2.drawMarker(image_rgb, (x_R,y_R), (0,255,0))\n",
        "image_rgb = cv2.cvtColor(np.float32(image_rgb), cv2.COLOR_BGR2RGB)\n",
        "image_rgb = np.clip(image_rgb ,0 , 1)\n",
        "plt.imshow(image_rgb)\n",
        "plt.axis('off')\n",
        "plt.show()"
      ],
      "execution_count": null,
      "outputs": [
        {
          "output_type": "stream",
          "text": [
            "Gender is:  male\n"
          ],
          "name": "stdout"
        },
        {
          "output_type": "display_data",
          "data": {
            "image/png": "[encoded data removed]",
            "text/plain": [
              "<Figure size 432x288 with 1 Axes>"
            ]
          },
          "metadata": {
            "tags": [],
            "needs_background": "light"
          }
        }
      ]
    },
    {
      "cell_type": "markdown",
      "metadata": {
        "id": "dz7aGIxCYOOP"
      },
      "source": [
        "## Network"
      ]
    },
    {
      "cell_type": "markdown",
      "metadata": {
        "id": "J6DpjTWLtn2c"
      },
      "source": [
        "Below, we define a new class, named `ClassifierLocalizer`, which accepts a pre-trained CNN and changes its last fully connected layer to be proper for the two task problem. The new fully connected layer contains 6 neurons, 2 for the classification task (male or female) and 4 for the localization task (x and y for the left and right eyes). Moreover, to put the location results on the same scale as the class scores, we apply the sigmoid function to the neurons assigned for the localization task."
      ]
    },
    {
      "cell_type": "code",
      "metadata": {
        "id": "9PP6UwOsJRLX"
      },
      "source": [
        "class ClassifierLocalizer(nn.Module):\n",
        "    def __init__(self, model_name, num_classes=2):\n",
        "\n",
        "      super(ClassifierLocalizer, self).__init__()\n",
        "      self.num_classes = num_classes\n",
        "      \n",
        "      # create cnn model\n",
        "      model = getattr(models, model_name)(pretrained=True)\n",
        "      \n",
        "      # remove fc layers and add a new fc layer\n",
        "      num_features = model.fc.in_features\n",
        "      model.fc = nn.Linear(num_features, 6) # classifier + localizer\n",
        "      self.model = model\n",
        "    \n",
        "    def forward(self,X ):\n",
        "        X = torch.tensor(X, requires_grad=True)\n",
        "        x = self.model(X)                    # extract features from CNN\n",
        "        scores = x[:, :self.num_classes]     # class scores\n",
        "        coords = x[:, self.num_classes:]     # coordinates\n",
        "        return scores, torch.sigmoid(coords)   # sigmoid output is in the range of [0, 1]"
      ],
      "execution_count": null,
      "outputs": []
    },
    {
      "cell_type": "markdown",
      "metadata": {
        "id": "WHeo0eIEy36f"
      },
      "source": [
        "Regarding the complexity of the problem, the number of the samples in the training dataset, and the similarity of the training dataset to the ImageNet dataset, we may decide to freeze some of the layers. In our current example, based on the mentioned factors, we freeze all layers but the last fully connected layer."
      ]
    },
    {
      "cell_type": "code",
      "metadata": {
        "colab": {
          "base_uri": "https://localhost:8080/",
          "height": 1000,
          "referenced_widgets": [
            "73fe7efea53f4b17a352bcf866a8fc9d",
            "8517b2c4438b4a37b8b1f89a30c1bf60",
            "261d21a5d6fe41638d0b2dcc0ea7af30",
            "fd684f35220f44c4ba0a205115de43ef",
            "d2187652877c422c91bc81d5125aa1e8",
            "12fee49db5d24c73ab69add891b8f77a",
            "67f50fe7bcf945cb8ef98435fe63e692",
            "fde12683bc9d4663a1a70abe1c5f1e90"
          ]
        },
        "id": "irne02N9vK9e",
        "outputId": "882a0fd2-1a68-48db-d789-5ed8380fbac1"
      },
      "source": [
        "network = ClassifierLocalizer(model_name='resnet18')\n",
        "\n",
        "def freeze_weights(network):\n",
        "    for name, param in network.named_parameters():\n",
        "        if not name.startswith('fc.'):\n",
        "            param.requires_grad = False\n",
        "\n",
        "freeze_weights(network)\n",
        "print(network)"
      ],
      "execution_count": null,
      "outputs": [
        {
          "output_type": "stream",
          "text": [
            "Downloading: \"https://download.pytorch.org/models/resnet18-f37072fd.pth\" to /root/.cache/torch/hub/checkpoints/resnet18-f37072fd.pth\n"
          ],
          "name": "stderr"
        },
        {
          "output_type": "display_data",
          "data": {
            "application/vnd.jupyter.widget-view+json": {
              "model_id": "73fe7efea53f4b17a352bcf866a8fc9d",
              "version_minor": 0,
              "version_major": 2
            },
            "text/plain": [
              "HBox(children=(FloatProgress(value=0.0, max=46830571.0), HTML(value='')))"
            ]
          },
          "metadata": {
            "tags": []
          }
        },
        {
          "output_type": "stream",
          "text": [
            "\n",
            "ClassifierLocalizer(\n",
            "  (model): ResNet(\n",
            "    (conv1): Conv2d(3, 64, kernel_size=(7, 7), stride=(2, 2), padding=(3, 3), bias=False)\n",
            "    (bn1): BatchNorm2d(64, eps=1e-05, momentum=0.1, affine=True, track_running_stats=True)\n",
            "    (relu): ReLU(inplace=True)\n",
            "    (maxpool): MaxPool2d(kernel_size=3, stride=2, padding=1, dilation=1, ceil_mode=False)\n",
            "    (layer1): Sequential(\n",
            "      (0): BasicBlock(\n",
            "        (conv1): Conv2d(64, 64, kernel_size=(3, 3), stride=(1, 1), padding=(1, 1), bias=False)\n",
            "        (bn1): BatchNorm2d(64, eps=1e-05, momentum=0.1, affine=True, track_running_stats=True)\n",
            "        (relu): ReLU(inplace=True)\n",
            "        (conv2): Conv2d(64, 64, kernel_size=(3, 3), stride=(1, 1), padding=(1, 1), bias=False)\n",
            "        (bn2): BatchNorm2d(64, eps=1e-05, momentum=0.1, affine=True, track_running_stats=True)\n",
            "      )\n",
            "      (1): BasicBlock(\n",
            "        (conv1): Conv2d(64, 64, kernel_size=(3, 3), stride=(1, 1), padding=(1, 1), bias=False)\n",
            "        (bn1): BatchNorm2d(64, eps=1e-05, momentum=0.1, affine=True, track_running_stats=True)\n",
            "        (relu): ReLU(inplace=True)\n",
            "        (conv2): Conv2d(64, 64, kernel_size=(3, 3), stride=(1, 1), padding=(1, 1), bias=False)\n",
            "        (bn2): BatchNorm2d(64, eps=1e-05, momentum=0.1, affine=True, track_running_stats=True)\n",
            "      )\n",
            "    )\n",
            "    (layer2): Sequential(\n",
            "      (0): BasicBlock(\n",
            "        (conv1): Conv2d(64, 128, kernel_size=(3, 3), stride=(2, 2), padding=(1, 1), bias=False)\n",
            "        (bn1): BatchNorm2d(128, eps=1e-05, momentum=0.1, affine=True, track_running_stats=True)\n",
            "        (relu): ReLU(inplace=True)\n",
            "        (conv2): Conv2d(128, 128, kernel_size=(3, 3), stride=(1, 1), padding=(1, 1), bias=False)\n",
            "        (bn2): BatchNorm2d(128, eps=1e-05, momentum=0.1, affine=True, track_running_stats=True)\n",
            "        (downsample): Sequential(\n",
            "          (0): Conv2d(64, 128, kernel_size=(1, 1), stride=(2, 2), bias=False)\n",
            "          (1): BatchNorm2d(128, eps=1e-05, momentum=0.1, affine=True, track_running_stats=True)\n",
            "        )\n",
            "      )\n",
            "      (1): BasicBlock(\n",
            "        (conv1): Conv2d(128, 128, kernel_size=(3, 3), stride=(1, 1), padding=(1, 1), bias=False)\n",
            "        (bn1): BatchNorm2d(128, eps=1e-05, momentum=0.1, affine=True, track_running_stats=True)\n",
            "        (relu): ReLU(inplace=True)\n",
            "        (conv2): Conv2d(128, 128, kernel_size=(3, 3), stride=(1, 1), padding=(1, 1), bias=False)\n",
            "        (bn2): BatchNorm2d(128, eps=1e-05, momentum=0.1, affine=True, track_running_stats=True)\n",
            "      )\n",
            "    )\n",
            "    (layer3): Sequential(\n",
            "      (0): BasicBlock(\n",
            "        (conv1): Conv2d(128, 256, kernel_size=(3, 3), stride=(2, 2), padding=(1, 1), bias=False)\n",
            "        (bn1): BatchNorm2d(256, eps=1e-05, momentum=0.1, affine=True, track_running_stats=True)\n",
            "        (relu): ReLU(inplace=True)\n",
            "        (conv2): Conv2d(256, 256, kernel_size=(3, 3), stride=(1, 1), padding=(1, 1), bias=False)\n",
            "        (bn2): BatchNorm2d(256, eps=1e-05, momentum=0.1, affine=True, track_running_stats=True)\n",
            "        (downsample): Sequential(\n",
            "          (0): Conv2d(128, 256, kernel_size=(1, 1), stride=(2, 2), bias=False)\n",
            "          (1): BatchNorm2d(256, eps=1e-05, momentum=0.1, affine=True, track_running_stats=True)\n",
            "        )\n",
            "      )\n",
            "      (1): BasicBlock(\n",
            "        (conv1): Conv2d(256, 256, kernel_size=(3, 3), stride=(1, 1), padding=(1, 1), bias=False)\n",
            "        (bn1): BatchNorm2d(256, eps=1e-05, momentum=0.1, affine=True, track_running_stats=True)\n",
            "        (relu): ReLU(inplace=True)\n",
            "        (conv2): Conv2d(256, 256, kernel_size=(3, 3), stride=(1, 1), padding=(1, 1), bias=False)\n",
            "        (bn2): BatchNorm2d(256, eps=1e-05, momentum=0.1, affine=True, track_running_stats=True)\n",
            "      )\n",
            "    )\n",
            "    (layer4): Sequential(\n",
            "      (0): BasicBlock(\n",
            "        (conv1): Conv2d(256, 512, kernel_size=(3, 3), stride=(2, 2), padding=(1, 1), bias=False)\n",
            "        (bn1): BatchNorm2d(512, eps=1e-05, momentum=0.1, affine=True, track_running_stats=True)\n",
            "        (relu): ReLU(inplace=True)\n",
            "        (conv2): Conv2d(512, 512, kernel_size=(3, 3), stride=(1, 1), padding=(1, 1), bias=False)\n",
            "        (bn2): BatchNorm2d(512, eps=1e-05, momentum=0.1, affine=True, track_running_stats=True)\n",
            "        (downsample): Sequential(\n",
            "          (0): Conv2d(256, 512, kernel_size=(1, 1), stride=(2, 2), bias=False)\n",
            "          (1): BatchNorm2d(512, eps=1e-05, momentum=0.1, affine=True, track_running_stats=True)\n",
            "        )\n",
            "      )\n",
            "      (1): BasicBlock(\n",
            "        (conv1): Conv2d(512, 512, kernel_size=(3, 3), stride=(1, 1), padding=(1, 1), bias=False)\n",
            "        (bn1): BatchNorm2d(512, eps=1e-05, momentum=0.1, affine=True, track_running_stats=True)\n",
            "        (relu): ReLU(inplace=True)\n",
            "        (conv2): Conv2d(512, 512, kernel_size=(3, 3), stride=(1, 1), padding=(1, 1), bias=False)\n",
            "        (bn2): BatchNorm2d(512, eps=1e-05, momentum=0.1, affine=True, track_running_stats=True)\n",
            "      )\n",
            "    )\n",
            "    (avgpool): AdaptiveAvgPool2d(output_size=(1, 1))\n",
            "    (fc): Linear(in_features=512, out_features=6, bias=True)\n",
            "  )\n",
            ")\n"
          ],
          "name": "stdout"
        }
      ]
    },
    {
      "cell_type": "markdown",
      "metadata": {
        "id": "8482vAprYWgI"
      },
      "source": [
        "## Loss function"
      ]
    },
    {
      "cell_type": "markdown",
      "metadata": {
        "id": "DAa7rSqC3VJs"
      },
      "source": [
        "As we discussed before, we have two different tasks in this example. These tasks need different loss functions; Cross-Entropy loss for the classification and Mean Square Error loss for the regression. Below, we define a new loss function class that sums both losses to considers them simultaneously. However, as the regression is relatively a harder task, we apply a higher weight to MSEloss."
      ]
    },
    {
      "cell_type": "code",
      "metadata": {
        "id": "oCrU_k18J2Ps"
      },
      "source": [
        "class ClassificationRegressionLoss(nn.Module):\n",
        "    def __init__(self, W):\n",
        "        super(ClassificationRegressionLoss, self).__init__()\n",
        "        self.ce_loss = nn.CrossEntropyLoss() # size_average=False\n",
        "        self.mse_loss = nn.MSELoss()\n",
        "        self.W = W\n",
        "        \n",
        "    def forward(self, y_pred, y_true):\n",
        "        loss_cls = self.ce_loss(y_pred[0], y_true[0][:,20]) # Cross Entropy Error (for classification)\n",
        "        loss_reg1 = self.mse_loss(y_pred[1][:,0], y_true[1][:,0]/h) # Mean Squared Error for X_L\n",
        "        loss_reg2 = self.mse_loss(y_pred[1][:,1], y_true[1][:,1]/w) # Mean Squared Error for Y_L\n",
        "        loss_reg3 = self.mse_loss(y_pred[1][:,2], y_true[1][:,2]/h) # Mean Squared Error for X_R\n",
        "        loss_reg4 = self.mse_loss(y_pred[1][:,3], y_true[1][:,3]/w) # Mean Squared Error for Y_R\n",
        "        total_loss = loss_cls + self.W * (loss_reg1 + loss_reg2 + loss_reg3 + loss_reg4)\n",
        "        return total_loss"
      ],
      "execution_count": null,
      "outputs": []
    },
    {
      "cell_type": "markdown",
      "metadata": {
        "id": "e-ujQ315X9ku"
      },
      "source": [
        "## Training"
      ]
    },
    {
      "cell_type": "code",
      "metadata": {
        "colab": {
          "base_uri": "https://localhost:8080/"
        },
        "id": "IqGF7KaxcgI3",
        "outputId": "f48f8d62-423b-4ade-c478-e2c945563936"
      },
      "source": [
        "optimizer = optim.SGD(network.parameters(), lr=0.005, weight_decay=0)\n",
        "loss_function = ClassificationRegressionLoss(W)\n",
        "exp = Experiment('./two_task_example', network, optimizer=optimizer, loss_function=loss_function, device=\"all\")\n",
        "exp.train(train_dataloader, valid_dataloader, epochs=num_epochs)"
      ],
      "execution_count": null,
      "outputs": [
        {
          "output_type": "stream",
          "text": [
            "/usr/local/lib/python3.7/dist-packages/ipykernel_launcher.py:16: UserWarning: To copy construct from a tensor, it is recommended to use sourceTensor.clone().detach() or sourceTensor.clone().detach().requires_grad_(True), rather than torch.tensor(sourceTensor).\n",
            "  app.launch_new_instance()\n",
            "/usr/local/lib/python3.7/dist-packages/torch/nn/functional.py:718: UserWarning: Named tensors and all their associated APIs are an experimental feature and subject to change. Please do not use them for anything important until they are released as stable. (Triggered internally at  /pytorch/c10/core/TensorImpl.h:1156.)\n",
            "  return torch.max_pool2d(input, kernel_size, stride, padding, dilation, ceil_mode)\n"
          ],
          "name": "stderr"
        },
        {
          "output_type": "stream",
          "text": [
            "Epoch:  1/15 Train steps: 157 Val steps: 16 31.11s loss: 0.291738 val_loss: 0.152285\n",
            "Epoch 1: val_loss improved from inf to 0.15228, saving file to ./two_task_example/checkpoint_epoch_1.ckpt\n",
            "Epoch:  2/15 Train steps: 157 Val steps: 16 31.09s loss: 0.145904 val_loss: 0.102151\n",
            "Epoch 2: val_loss improved from 0.15228 to 0.10215, saving file to ./two_task_example/checkpoint_epoch_2.ckpt\n",
            "Epoch:  3/15 Train steps: 157 Val steps: 16 30.93s loss: 0.094248 val_loss: 0.041628\n",
            "Epoch 3: val_loss improved from 0.10215 to 0.04163, saving file to ./two_task_example/checkpoint_epoch_3.ckpt\n",
            "Epoch:  4/15 Train steps: 157 Val steps: 16 31.59s loss: 0.070053 val_loss: 0.030749\n",
            "Epoch 4: val_loss improved from 0.04163 to 0.03075, saving file to ./two_task_example/checkpoint_epoch_4.ckpt\n",
            "Epoch:  5/15 Train steps: 157 Val steps: 16 31.28s loss: 0.051397 val_loss: 0.031241\n",
            "Epoch:  6/15 Train steps: 157 Val steps: 16 31.32s loss: 0.036531 val_loss: 0.015464\n",
            "Epoch 6: val_loss improved from 0.03075 to 0.01546, saving file to ./two_task_example/checkpoint_epoch_6.ckpt\n",
            "Epoch:  7/15 Train steps: 157 Val steps: 16 31.50s loss: 0.029549 val_loss: 0.012664\n",
            "Epoch 7: val_loss improved from 0.01546 to 0.01266, saving file to ./two_task_example/checkpoint_epoch_7.ckpt\n",
            "Epoch:  8/15 Train steps: 157 Val steps: 16 31.18s loss: 0.022804 val_loss: 0.010610\n",
            "Epoch 8: val_loss improved from 0.01266 to 0.01061, saving file to ./two_task_example/checkpoint_epoch_8.ckpt\n",
            "Epoch:  9/15 Train steps: 157 Val steps: 16 31.28s loss: 0.018847 val_loss: 0.008830\n",
            "Epoch 9: val_loss improved from 0.01061 to 0.00883, saving file to ./two_task_example/checkpoint_epoch_9.ckpt\n",
            "Epoch: 10/15 Train steps: 157 Val steps: 16 31.18s loss: 0.020624 val_loss: 0.007742\n",
            "Epoch 10: val_loss improved from 0.00883 to 0.00774, saving file to ./two_task_example/checkpoint_epoch_10.ckpt\n",
            "Epoch: 11/15 Train steps: 157 Val steps: 16 31.15s loss: 0.012608 val_loss: 0.006776\n",
            "Epoch 11: val_loss improved from 0.00774 to 0.00678, saving file to ./two_task_example/checkpoint_epoch_11.ckpt\n",
            "Epoch: 12/15 Train steps: 157 Val steps: 16 31.31s loss: 0.013650 val_loss: 0.006498\n",
            "Epoch 12: val_loss improved from 0.00678 to 0.00650, saving file to ./two_task_example/checkpoint_epoch_12.ckpt\n",
            "Epoch: 13/15 Train steps: 157 Val steps: 16 31.60s loss: 0.011058 val_loss: 0.005642\n",
            "Epoch 13: val_loss improved from 0.00650 to 0.00564, saving file to ./two_task_example/checkpoint_epoch_13.ckpt\n",
            "Epoch: 14/15 Train steps: 157 Val steps: 16 31.71s loss: 0.012819 val_loss: 0.005209\n",
            "Epoch 14: val_loss improved from 0.00564 to 0.00521, saving file to ./two_task_example/checkpoint_epoch_14.ckpt\n",
            "Epoch: 15/15 Train steps: 157 Val steps: 16 31.36s loss: 0.009552 val_loss: 0.005823\n",
            "Restoring model from ./two_task_example/checkpoint_epoch_14.ckpt\n"
          ],
          "name": "stdout"
        },
        {
          "output_type": "execute_result",
          "data": {
            "text/plain": [
              "[{'epoch': 1,\n",
              "  'loss': 0.29173806704361693,\n",
              "  'time': 31.110406273000024,\n",
              "  'val_loss': 0.15228473757933042},\n",
              " {'epoch': 2,\n",
              "  'loss': 0.1459038618279114,\n",
              "  'time': 31.091386992000025,\n",
              "  'val_loss': 0.10215117277685769},\n",
              " {'epoch': 3,\n",
              "  'loss': 0.09424761456503919,\n",
              "  'time': 30.93009675099995,\n",
              "  'val_loss': 0.041627575652692504},\n",
              " {'epoch': 4,\n",
              "  'loss': 0.07005319869561949,\n",
              "  'time': 31.592089663000024,\n",
              "  'val_loss': 0.030748917144501137},\n",
              " {'epoch': 5,\n",
              "  'loss': 0.051396793420373454,\n",
              "  'time': 31.27918084700002,\n",
              "  'val_loss': 0.031241327785478088},\n",
              " {'epoch': 6,\n",
              "  'loss': 0.036531380994555045,\n",
              "  'time': 31.319837641999925,\n",
              "  'val_loss': 0.01546443341475331},\n",
              " {'epoch': 7,\n",
              "  'loss': 0.02954945577653939,\n",
              "  'time': 31.501869420999924,\n",
              "  'val_loss': 0.01266445307049878},\n",
              " {'epoch': 8,\n",
              "  'loss': 0.022803625893566902,\n",
              "  'time': 31.176359739000077,\n",
              "  'val_loss': 0.010610389125669648},\n",
              " {'epoch': 9,\n",
              "  'loss': 0.018846753470496812,\n",
              "  'time': 31.283821396000008,\n",
              "  'val_loss': 0.008829967048810516},\n",
              " {'epoch': 10,\n",
              "  'loss': 0.020623519204208185,\n",
              "  'time': 31.18491869200011,\n",
              "  'val_loss': 0.007741698366263228},\n",
              " {'epoch': 11,\n",
              "  'loss': 0.012607607789483695,\n",
              "  'time': 31.148741702999928,\n",
              "  'val_loss': 0.006776440926904012},\n",
              " {'epoch': 12,\n",
              "  'loss': 0.0136495563960786,\n",
              "  'time': 31.307918172999962,\n",
              "  'val_loss': 0.006498048080127679},\n",
              " {'epoch': 13,\n",
              "  'loss': 0.011057624928347705,\n",
              "  'time': 31.60180746599997,\n",
              "  'val_loss': 0.005641742543184865},\n",
              " {'epoch': 14,\n",
              "  'loss': 0.012818580178108352,\n",
              "  'time': 31.707321269999966,\n",
              "  'val_loss': 0.005208674429137566},\n",
              " {'epoch': 15,\n",
              "  'loss': 0.009551796255099294,\n",
              "  'time': 31.35742801599997,\n",
              "  'val_loss': 0.005822845904496246}]"
            ]
          },
          "metadata": {
            "tags": []
          },
          "execution_count": 12
        }
      ]
    },
    {
      "cell_type": "markdown",
      "metadata": {
        "id": "u533lDNqYjIa"
      },
      "source": [
        "## Evaluation"
      ]
    },
    {
      "cell_type": "markdown",
      "metadata": {
        "id": "0_J-NaYhYZg1"
      },
      "source": [
        "As you have also noticed from the training logs, in this try we achieved the best performance (considering the validation loss) at the 15th epoch. The weights of the network for the corresponding epoch have been automatically saved by the `Experiment` function and we use these parameters to evaluate our algorithm visually. For this purpose, we utulize the load_checkpoint method and set its argument to `best` to load the best weights of the model automatically. Finally,  we take advantage of the `evaluate` function of Poutyne, and apply it to the validation dataset. It provides us the predictions as well as the ground-truth for comparison, in case of need."
      ]
    },
    {
      "cell_type": "code",
      "metadata": {
        "colab": {
          "base_uri": "https://localhost:8080/"
        },
        "id": "Gqki-sYR3paj",
        "outputId": "b5614ba6-98f8-4eff-cdfe-66864e2d9ea5"
      },
      "source": [
        "exp.load_checkpoint('best')\n",
        "model = exp.model\n",
        "loss, predictions, ground_Truth = model.evaluate_generator(valid_dataloader, return_pred=True, return_ground_truth=True)"
      ],
      "execution_count": null,
      "outputs": [
        {
          "output_type": "stream",
          "text": [
            "Step:  2/16  12.50% |██▌                 |ETA: 1.83s test_loss: 0.004859"
          ],
          "name": "stdout"
        },
        {
          "output_type": "stream",
          "text": [
            "/usr/local/lib/python3.7/dist-packages/ipykernel_launcher.py:16: UserWarning: To copy construct from a tensor, it is recommended to use sourceTensor.clone().detach() or sourceTensor.clone().detach().requires_grad_(True), rather than torch.tensor(sourceTensor).\n",
            "  app.launch_new_instance()\n"
          ],
          "name": "stderr"
        },
        {
          "output_type": "stream",
          "text": [
            "Test steps: 16 1.99s test_loss: 0.005209                                \n"
          ],
          "name": "stdout"
        }
      ]
    },
    {
      "cell_type": "code",
      "metadata": {
        "colab": {
          "base_uri": "https://localhost:8080/"
        },
        "id": "TZATeTicxV7c",
        "outputId": "117ae2ee-3251-4222-c485-1a812d9486f1"
      },
      "source": [
        "logs = pd.read_csv('./two_task_example/log.tsv', sep='\\t')\n",
        "print(logs)"
      ],
      "execution_count": null,
      "outputs": [
        {
          "output_type": "stream",
          "text": [
            "    epoch       time     lr      loss  val_loss\n",
            "0       1  31.110406  0.005  0.291738  0.152285\n",
            "1       2  31.091387  0.005  0.145904  0.102151\n",
            "2       3  30.930097  0.005  0.094248  0.041628\n",
            "3       4  31.592090  0.005  0.070053  0.030749\n",
            "4       5  31.279181  0.005  0.051397  0.031241\n",
            "5       6  31.319838  0.005  0.036531  0.015464\n",
            "6       7  31.501869  0.005  0.029549  0.012664\n",
            "7       8  31.176360  0.005  0.022804  0.010610\n",
            "8       9  31.283821  0.005  0.018847  0.008830\n",
            "9      10  31.184919  0.005  0.020624  0.007742\n",
            "10     11  31.148742  0.005  0.012608  0.006776\n",
            "11     12  31.307918  0.005  0.013650  0.006498\n",
            "12     13  31.601807  0.005  0.011058  0.005642\n",
            "13     14  31.707321  0.005  0.012819  0.005209\n",
            "14     15  31.357428  0.005  0.009552  0.005823\n"
          ],
          "name": "stdout"
        }
      ]
    },
    {
      "cell_type": "code",
      "metadata": {
        "colab": {
          "base_uri": "https://localhost:8080/",
          "height": 281
        },
        "id": "kPgGEXLpBRqi",
        "outputId": "a910b369-67fe-48b5-c84a-e2b831b1b0d5"
      },
      "source": [
        "train_loss = logs.loss\n",
        "valid_loss = logs.val_loss\n",
        "plt.plot(train_loss)\n",
        "plt.plot(valid_loss)\n",
        "plt.legend(['train_loss','valid_loss'])\n",
        "plt.title('training and validation losses')\n",
        "plt.show()"
      ],
      "execution_count": null,
      "outputs": [
        {
          "output_type": "display_data",
          "data": {
            "image/png": "[encoded data removed]",
            "text/plain": [
              "<Figure size 432x288 with 1 Axes>"
            ]
          },
          "metadata": {
            "tags": [],
            "needs_background": "light"
          }
        }
      ]
    },
    {
      "cell_type": "markdown",
      "metadata": {
        "id": "wrrndK5L7QSm"
      },
      "source": [
        "We can also evaluate the performance of the trained network (a network with the best weights) on any dataset, as below:"
      ]
    },
    {
      "cell_type": "code",
      "metadata": {
        "id": "PXqnJiev9nzW",
        "colab": {
          "base_uri": "https://localhost:8080/"
        },
        "outputId": "8b4ddc91-25a7-44b3-ca91-41473b9ca0a5"
      },
      "source": [
        "exp.test(test_dataloader)"
      ],
      "execution_count": null,
      "outputs": [
        {
          "output_type": "stream",
          "text": [
            "Found best checkpoint at epoch: 14\n",
            "lr: 0.005, loss: 0.0128186, val_loss: 0.00520867\n",
            "Loading checkpoint ./two_task_example/checkpoint_epoch_14.ckpt\n",
            "Running test\n",
            "Step:   2/624   0.32% |                    |ETA: 84.60s test_loss: 4.127592"
          ],
          "name": "stdout"
        },
        {
          "output_type": "stream",
          "text": [
            "/usr/local/lib/python3.7/dist-packages/ipykernel_launcher.py:16: UserWarning: To copy construct from a tensor, it is recommended to use sourceTensor.clone().detach() or sourceTensor.clone().detach().requires_grad_(True), rather than torch.tensor(sourceTensor).\n",
            "  app.launch_new_instance()\n"
          ],
          "name": "stderr"
        },
        {
          "output_type": "stream",
          "text": [
            "Test steps: 624 83.97s test_loss: 4.604807                                \n"
          ],
          "name": "stdout"
        },
        {
          "output_type": "execute_result",
          "data": {
            "text/plain": [
              "{'test_loss': 4.604806839637462, 'time': 83.97297285699995}"
            ]
          },
          "metadata": {
            "tags": []
          },
          "execution_count": 16
        }
      ]
    },
    {
      "cell_type": "markdown",
      "metadata": {
        "id": "TXmExGe47pZK"
      },
      "source": [
        "Now let's evaluate the performance of the network visually."
      ]
    },
    {
      "cell_type": "code",
      "metadata": {
        "colab": {
          "base_uri": "https://localhost:8080/",
          "height": 266
        },
        "id": "JmGadRyuw7df",
        "outputId": "14f81e34-6b72-4952-a75a-014423430f74"
      },
      "source": [
        "sample_number = 35\n",
        "image = valid_dataset[sample_number][0]\n",
        "image = image.permute(1,2,0).detach().numpy()\n",
        "image_rgb = cv2.cvtColor(np.float32(image), cv2.COLOR_BGR2RGB)\n",
        "image_rgb = image_rgb * imagenet_std + imagenet_mean\n",
        "gender = 'male' if np.argmax(predictions[0][sample_number])==0 else 'female'\n",
        "print('Gender is: ', gender)\n",
        "(x_L, y_L) = predictions[1][sample_number][0:2]*image_size\n",
        "(x_R, y_R) = predictions[1][sample_number][2:4]*image_size\n",
        "x_L, x_R = int(x_L), int(x_R)\n",
        "y_L, y_R = int(y_L), int(y_R)\n",
        "image_rgb\t= cv2.drawMarker(image_rgb, (x_L,y_L), (0,255,0))\n",
        "image_rgb\t= cv2.drawMarker(image_rgb, (x_R,y_R), (0,255,0))\n",
        "image_rgb = cv2.cvtColor(np.float32(image_rgb), cv2.COLOR_BGR2RGB)\n",
        "image_rgb = np.clip(image_rgb , 0, 1)\n",
        "plt.imshow(image_rgb)\n",
        "plt.axis('off')\n",
        "plt.show()"
      ],
      "execution_count": null,
      "outputs": [
        {
          "output_type": "stream",
          "text": [
            "Gender is:  female\n"
          ],
          "name": "stdout"
        },
        {
          "output_type": "display_data",
          "data": {
            "image/png": "[encoded data removed]",
            "text/plain": [
              "<Figure size 432x288 with 1 Axes>"
            ]
          },
          "metadata": {
            "tags": [],
            "needs_background": "light"
          }
        }
      ]
    }
  ]
}