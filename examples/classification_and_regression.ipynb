{
  "nbformat": 4,
  "nbformat_minor": 0,
  "metadata": {
    "accelerator": "GPU",
    "colab": {
      "name": "object_detection.ipynb",
      "provenance": [],
      "collapsed_sections": []
    },
    "kernelspec": {
      "display_name": "Python 3",
      "name": "python3"
    },
    "widgets": {
      "application/vnd.jupyter.widget-state+json": {
        "c7f33f6412b544d9bd6fddb4c7e70902": {
          "model_module": "@jupyter-widgets/controls",
          "model_name": "HBoxModel",
          "state": {
            "_view_name": "HBoxView",
            "_dom_classes": [],
            "_model_name": "HBoxModel",
            "_view_module": "@jupyter-widgets/controls",
            "_model_module_version": "1.5.0",
            "_view_count": null,
            "_view_module_version": "1.5.0",
            "box_style": "",
            "layout": "IPY_MODEL_500fd455ef70476690b4841fca9399fd",
            "_model_module": "@jupyter-widgets/controls",
            "children": [
              "IPY_MODEL_e062a5a3b149427282928e8e7f454b09",
              "IPY_MODEL_3b71027f1938450eb7a6f627ee8ea475"
            ]
          }
        },
        "500fd455ef70476690b4841fca9399fd": {
          "model_module": "@jupyter-widgets/base",
          "model_name": "LayoutModel",
          "state": {
            "_view_name": "LayoutView",
            "grid_template_rows": null,
            "right": null,
            "justify_content": null,
            "_view_module": "@jupyter-widgets/base",
            "overflow": null,
            "_model_module_version": "1.2.0",
            "_view_count": null,
            "flex_flow": null,
            "width": null,
            "min_width": null,
            "border": null,
            "align_items": null,
            "bottom": null,
            "_model_module": "@jupyter-widgets/base",
            "top": null,
            "grid_column": null,
            "overflow_y": null,
            "overflow_x": null,
            "grid_auto_flow": null,
            "grid_area": null,
            "grid_template_columns": null,
            "flex": null,
            "_model_name": "LayoutModel",
            "justify_items": null,
            "grid_row": null,
            "max_height": null,
            "align_content": null,
            "visibility": null,
            "align_self": null,
            "height": null,
            "min_height": null,
            "padding": null,
            "grid_auto_rows": null,
            "grid_gap": null,
            "max_width": null,
            "order": null,
            "_view_module_version": "1.2.0",
            "grid_template_areas": null,
            "object_position": null,
            "object_fit": null,
            "grid_auto_columns": null,
            "margin": null,
            "display": null,
            "left": null
          }
        },
        "e062a5a3b149427282928e8e7f454b09": {
          "model_module": "@jupyter-widgets/controls",
          "model_name": "FloatProgressModel",
          "state": {
            "_view_name": "ProgressView",
            "style": "IPY_MODEL_cc5ac7756dad4511b49147c67ae8a224",
            "_dom_classes": [],
            "description": "100%",
            "_model_name": "FloatProgressModel",
            "bar_style": "success",
            "max": 46827520,
            "_view_module": "@jupyter-widgets/controls",
            "_model_module_version": "1.5.0",
            "value": 46827520,
            "_view_count": null,
            "_view_module_version": "1.5.0",
            "orientation": "horizontal",
            "min": 0,
            "description_tooltip": null,
            "_model_module": "@jupyter-widgets/controls",
            "layout": "IPY_MODEL_1e6e2c96b7c9453ba6cb153b63b4bad4"
          }
        },
        "3b71027f1938450eb7a6f627ee8ea475": {
          "model_module": "@jupyter-widgets/controls",
          "model_name": "HTMLModel",
          "state": {
            "_view_name": "HTMLView",
            "style": "IPY_MODEL_1e5d0b41ce764e1aa721b711f3648bef",
            "_dom_classes": [],
            "description": "",
            "_model_name": "HTMLModel",
            "placeholder": "​",
            "_view_module": "@jupyter-widgets/controls",
            "_model_module_version": "1.5.0",
            "value": " 44.7M/44.7M [01:53&lt;00:00, 412kB/s]",
            "_view_count": null,
            "_view_module_version": "1.5.0",
            "description_tooltip": null,
            "_model_module": "@jupyter-widgets/controls",
            "layout": "IPY_MODEL_524c2f8c45ed4762aa70d814664cfc40"
          }
        },
        "cc5ac7756dad4511b49147c67ae8a224": {
          "model_module": "@jupyter-widgets/controls",
          "model_name": "ProgressStyleModel",
          "state": {
            "_view_name": "StyleView",
            "_model_name": "ProgressStyleModel",
            "description_width": "initial",
            "_view_module": "@jupyter-widgets/base",
            "_model_module_version": "1.5.0",
            "_view_count": null,
            "_view_module_version": "1.2.0",
            "bar_color": null,
            "_model_module": "@jupyter-widgets/controls"
          }
        },
        "1e6e2c96b7c9453ba6cb153b63b4bad4": {
          "model_module": "@jupyter-widgets/base",
          "model_name": "LayoutModel",
          "state": {
            "_view_name": "LayoutView",
            "grid_template_rows": null,
            "right": null,
            "justify_content": null,
            "_view_module": "@jupyter-widgets/base",
            "overflow": null,
            "_model_module_version": "1.2.0",
            "_view_count": null,
            "flex_flow": null,
            "width": null,
            "min_width": null,
            "border": null,
            "align_items": null,
            "bottom": null,
            "_model_module": "@jupyter-widgets/base",
            "top": null,
            "grid_column": null,
            "overflow_y": null,
            "overflow_x": null,
            "grid_auto_flow": null,
            "grid_area": null,
            "grid_template_columns": null,
            "flex": null,
            "_model_name": "LayoutModel",
            "justify_items": null,
            "grid_row": null,
            "max_height": null,
            "align_content": null,
            "visibility": null,
            "align_self": null,
            "height": null,
            "min_height": null,
            "padding": null,
            "grid_auto_rows": null,
            "grid_gap": null,
            "max_width": null,
            "order": null,
            "_view_module_version": "1.2.0",
            "grid_template_areas": null,
            "object_position": null,
            "object_fit": null,
            "grid_auto_columns": null,
            "margin": null,
            "display": null,
            "left": null
          }
        },
        "1e5d0b41ce764e1aa721b711f3648bef": {
          "model_module": "@jupyter-widgets/controls",
          "model_name": "DescriptionStyleModel",
          "state": {
            "_view_name": "StyleView",
            "_model_name": "DescriptionStyleModel",
            "description_width": "",
            "_view_module": "@jupyter-widgets/base",
            "_model_module_version": "1.5.0",
            "_view_count": null,
            "_view_module_version": "1.2.0",
            "_model_module": "@jupyter-widgets/controls"
          }
        },
        "524c2f8c45ed4762aa70d814664cfc40": {
          "model_module": "@jupyter-widgets/base",
          "model_name": "LayoutModel",
          "state": {
            "_view_name": "LayoutView",
            "grid_template_rows": null,
            "right": null,
            "justify_content": null,
            "_view_module": "@jupyter-widgets/base",
            "overflow": null,
            "_model_module_version": "1.2.0",
            "_view_count": null,
            "flex_flow": null,
            "width": null,
            "min_width": null,
            "border": null,
            "align_items": null,
            "bottom": null,
            "_model_module": "@jupyter-widgets/base",
            "top": null,
            "grid_column": null,
            "overflow_y": null,
            "overflow_x": null,
            "grid_auto_flow": null,
            "grid_area": null,
            "grid_template_columns": null,
            "flex": null,
            "_model_name": "LayoutModel",
            "justify_items": null,
            "grid_row": null,
            "max_height": null,
            "align_content": null,
            "visibility": null,
            "align_self": null,
            "height": null,
            "min_height": null,
            "padding": null,
            "grid_auto_rows": null,
            "grid_gap": null,
            "max_width": null,
            "order": null,
            "_view_module_version": "1.2.0",
            "grid_template_areas": null,
            "object_position": null,
            "object_fit": null,
            "grid_auto_columns": null,
            "margin": null,
            "display": null,
            "left": null
          }
        }
      }
    }
  },
  "cells": [
    {
      "cell_type": "markdown",
      "metadata": {
        "id": "9gmgN61SirPE"
      },
      "source": [
        "# Gender Classification and Eyes Location Detection: A Two Task Problem"
      ]
    },
    {
      "cell_type": "markdown",
      "metadata": {
        "id": "syR65Pohizmh"
      },
      "source": [
        "In this example, we are going to implement a multi-task problem. We try to identify the gender of the people, as well as locating their eyes in the image. Hence, we have two different tasks: classification (to identify the gender) and regression (to find the location of the eyes). We are going to use a single network (A CNN) to perform both tasks, however, we will need to apply different loss functions, each proper to a specific task. "
      ]
    },
    {
      "cell_type": "code",
      "metadata": {
        "colab": {
          "base_uri": "https://localhost:8080/"
        },
        "id": "VAG5NDFCiqxG",
        "outputId": "ebd672e1-b754-4d17-b449-e62fc5abb35d"
      },
      "source": [
        "%pip install poutyne    # to install the Poutyne library"
      ],
      "execution_count": 1,
      "outputs": [
        {
          "output_type": "stream",
          "text": [
            "Collecting poutyne\n",
            "\u001b[?25l  Downloading https://files.pythonhosted.org/packages/8f/d1/a38eba0c8bd9d5a1694dd8de1aa40f03cec7e1efb2d6e74373fae3f6b619/Poutyne-1.4-py3-none-any.whl (134kB)\n",
            "\r\u001b[K     |██▍                             | 10kB 18.4MB/s eta 0:00:01\r\u001b[K     |████▉                           | 20kB 25.4MB/s eta 0:00:01\r\u001b[K     |███████▎                        | 30kB 29.9MB/s eta 0:00:01\r\u001b[K     |█████████▊                      | 40kB 27.3MB/s eta 0:00:01\r\u001b[K     |████████████▏                   | 51kB 27.8MB/s eta 0:00:01\r\u001b[K     |██████████████▋                 | 61kB 30.2MB/s eta 0:00:01\r\u001b[K     |█████████████████               | 71kB 22.6MB/s eta 0:00:01\r\u001b[K     |███████████████████▌            | 81kB 23.8MB/s eta 0:00:01\r\u001b[K     |██████████████████████          | 92kB 22.3MB/s eta 0:00:01\r\u001b[K     |████████████████████████▍       | 102kB 23.7MB/s eta 0:00:01\r\u001b[K     |██████████████████████████▉     | 112kB 23.7MB/s eta 0:00:01\r\u001b[K     |█████████████████████████████▎  | 122kB 23.7MB/s eta 0:00:01\r\u001b[K     |███████████████████████████████▊| 133kB 23.7MB/s eta 0:00:01\r\u001b[K     |████████████████████████████████| 143kB 23.7MB/s \n",
            "\u001b[?25hRequirement already satisfied: torch in /usr/local/lib/python3.7/dist-packages (from poutyne) (1.8.1+cu101)\n",
            "Requirement already satisfied: numpy in /usr/local/lib/python3.7/dist-packages (from poutyne) (1.19.5)\n",
            "Requirement already satisfied: typing-extensions in /usr/local/lib/python3.7/dist-packages (from torch->poutyne) (3.7.4.3)\n",
            "Installing collected packages: poutyne\n",
            "Successfully installed poutyne-1.4\n"
          ],
          "name": "stdout"
        }
      ]
    },
    {
      "cell_type": "markdown",
      "metadata": {
        "id": "pUiFHqwBEBBx"
      },
      "source": [
        "Let’s import all the needed packages."
      ]
    },
    {
      "cell_type": "code",
      "metadata": {
        "id": "e3vspk0bpkbn"
      },
      "source": [
        "%matplotlib inline\n",
        "%reload_ext autoreload\n",
        "%autoreload 2\n",
        "\n",
        "import math\n",
        "import os\n",
        "import matplotlib.pyplot as plt\n",
        "import numpy as np\n",
        "import pandas as pd\n",
        "import gdown\n",
        "import zipfile\n",
        "import cv2\n",
        "from natsort import natsorted\n",
        "import torch\n",
        "import torch.nn as nn\n",
        "import torch.nn.functional as F\n",
        "import torch.optim as optim\n",
        "from torch.autograd import Variable\n",
        "import torchvision.datasets as datasets\n",
        "import torchvision.models as models\n",
        "import torchvision.transforms as tfms\n",
        "from poutyne import set_seeds, Model, ModelCheckpoint, CSVLogger, Experiment, StepLR\n",
        "from torch.utils.data import DataLoader, Subset, Dataset\n",
        "from torchvision.utils import make_grid"
      ],
      "execution_count": 2,
      "outputs": []
    },
    {
      "cell_type": "markdown",
      "metadata": {
        "id": "NTIP6sKzENto"
      },
      "source": [
        "\n",
        "## Training Constants"
      ]
    },
    {
      "cell_type": "code",
      "metadata": {
        "colab": {
          "base_uri": "https://localhost:8080/"
        },
        "id": "vSfN1KvNpkgh",
        "outputId": "0c256c92-4b41-49b5-8533-1784666196fc"
      },
      "source": [
        "num_epochs = 15\n",
        "learning_rate = 0.01\n",
        "batch_size = 32\n",
        "image_size = 224\n",
        "valid_split_percent = 0.1\n",
        "momentum = 0.5\n",
        "set_seeds(42)\n",
        "imagenet_mean = [0.485, 0.456, 0.406]  # mean of the ImageNet dataset for normalizing \n",
        "imagenet_std = [0.229, 0.224, 0.225]  # std of the ImageNet dataset for normalizing\n",
        "device = torch.device('cuda' if torch.cuda.is_available() else 'cpu')\n",
        "print('The running processor is...', device) "
      ],
      "execution_count": 3,
      "outputs": [
        {
          "output_type": "stream",
          "text": [
            "The running processor is... cuda\n"
          ],
          "name": "stdout"
        }
      ]
    },
    {
      "cell_type": "markdown",
      "metadata": {
        "id": "-9boLeZbaHVl"
      },
      "source": [
        "## CelebA Dataset"
      ]
    },
    {
      "cell_type": "markdown",
      "metadata": {
        "id": "rFVlGoTBaMbU"
      },
      "source": [
        "We are going to use CelebA dataset for this experiment. The CelebA \n",
        "dataset  is a large-scale face attributes dataset which can be employed as the training and test sets for the following computer vision tasks: face attribute recognition, face detection, landmark (or facial part) localization, and face editing & synthesis."
      ]
    },
    {
      "cell_type": "markdown",
      "metadata": {
        "id": "QhGYzr9-TgR7"
      },
      "source": [
        "## Fetching data \n"
      ]
    },
    {
      "cell_type": "markdown",
      "metadata": {
        "id": "nrTAzlJVxc_M"
      },
      "source": [
        "The section below consists of a few lines of codes that help us download celebA dataset from a public web source and unzip them."
      ]
    },
    {
      "cell_type": "code",
      "metadata": {
        "id": "kq4uNCfPRKR4"
      },
      "source": [
        "data_root = 'data/celeba'\n",
        "# Path to folder with the dataset\n",
        "dataset_folder = f'{data_root}/img_align_celeba'\n",
        "\n",
        "# URL for the CelebA dataset (aligned images, attributes, landmasrks)\n",
        "url = 'https://graal.ift.ulaval.ca/public/celeba/img_align_celeba.zip'\n",
        "attr_url = 'https://graal.ift.ulaval.ca/public/celeba/list_attr_celeba.txt'\n",
        "land_mark_url = 'https://graal.ift.ulaval.ca/public/celeba/list_landmarks_align_celeba.txt'\n",
        "\n",
        "# Path to download the dataset to\n",
        "download_path = f'{data_root}/img_align_celeba.zip'\n",
        "land_mark_path = f'{data_root}/list_landmarks_align_celeba.txt'\n",
        "attr_path = f'{data_root}/list_attr_celeba.txt'\n",
        "\n",
        "# Create required directories \n",
        "os.makedirs(data_root, exist_ok=True)\n",
        "os.makedirs(dataset_folder, exist_ok=True)\n",
        "\n",
        "# Download the dataset from the source\n",
        "gdown.download(url, download_path, quiet=False)\n",
        "gdown.download(land_mark_url, land_mark_path, quiet=False)\n",
        "gdown.download(attr_url, attr_path, quiet=False)\n",
        "\n",
        "# Unzip the downloaded file \n",
        "with zipfile.ZipFile(download_path, 'r') as ziphandler:\n",
        "  ziphandler.extractall(dataset_folder)"
      ],
      "execution_count": null,
      "outputs": []
    },
    {
      "cell_type": "markdown",
      "metadata": {
        "id": "UnmjepBnTq3_"
      },
      "source": [
        "## Create a custom dataset class"
      ]
    },
    {
      "cell_type": "markdown",
      "metadata": {
        "id": "4zbpOQJfyY2A"
      },
      "source": [
        "As we are going to implement a multi-task problem by a single CNN, we should provide the CNN with the ground truth in a proper way. Here, we have two different tasks: classification and regression. In the classification task, the goal is to identify the gender. The labels of the gender for each image are saved in the `list_attr_celeba.txt` file, in which 1 stands for male and -1 for female. Since we consider the loss of both tasks simultaneously, we scale all target values to the range of [0,1]. Hence, the gender labels will be changed as well, 1 for male and 0 for female. For the localization part, the coordinates of the eyes (Left and Right) are provided in the `list_landmarks_align_celeba.txt` file. In addition to scaling the number to the range of [0,1], we also need to rescale the coordinates to the image's new size (224,224)."
      ]
    },
    {
      "cell_type": "code",
      "metadata": {
        "id": "5M-syCA4Ry24"
      },
      "source": [
        "class CelebADataset(Dataset):\n",
        "  def __init__(self, root_dir, transform=None):\n",
        "    img_folder = data_root + '/img_align_celeba/img_align_celeba'\n",
        "    image_names = os.listdir(img_folder)\n",
        "    self.root_dir = img_folder\n",
        "    self.data_root = data_root\n",
        "    self.transform = transform \n",
        "    self.image_names = natsorted(image_names)\n",
        "\n",
        "  def __len__(self): \n",
        "    return len(self.image_names)\n",
        "\n",
        "  def __getitem__(self, idx):\n",
        "    img_path = os.path.join(self.root_dir, self.image_names[idx])\n",
        "    img = cv2.imread(img_path)\n",
        "    w, h, _ = img.shape\n",
        "    img = cv2.resize(img, (image_size, image_size))\n",
        "\n",
        "    # Apply transformations to the image\n",
        "    if self.transform:\n",
        "      img = self.transform(img)\n",
        "\n",
        "    img.requires_grad=True\n",
        "    land_mark = open(f'{self.data_root}/list_landmarks_align_celeba.txt','r').readlines()[idx+2]\n",
        "    land_mark_contents = land_mark.split(' ')\n",
        "    land_mark_contents = [x for x in land_mark_contents if x]\n",
        "    x_L, y_L ,x_R, y_R = int(land_mark_contents[1]), int(land_mark_contents[2]), int(land_mark_contents[3]), int(land_mark_contents[4])\n",
        "    w_scale = image_size/w\n",
        "    h_scale = image_size/h\n",
        "    x_L, x_R = (x_L*h_scale/h), (x_R*h_scale/h)  #rescaling for the size of (224,224) and finaly to the range of [0,1]\n",
        "    y_L, y_R = (y_L*w_scale/w), (y_R*w_scale/w)\n",
        "    attr = open(f'{self.data_root}/list_attr_celeba.txt','r').readlines()[idx+2]\n",
        "    attr_contents = attr.split(' ')\n",
        "    attr_contents = [x for x in attr_contents if x]\n",
        "    gender = attr_contents[21]\n",
        "    gender = int((int(gender)+1)/2)\n",
        "    return img, (torch.tensor(gender), torch.tensor([x_L, y_L, x_R, y_R], requires_grad=True),[w, h])\n",
        "\n",
        "transform=tfms.Compose([\n",
        "    tfms.ToTensor(),\n",
        "    tfms.Normalize(imagenet_mean, imagenet_std)\n",
        "])\n",
        "\n",
        "celeba_dataset = CelebADataset(data_root, transform)\n",
        "celeba_dataloader = DataLoader(celeba_dataset, batch_size=batch_size, shuffle=True)\n",
        "full_dataset_length = len(celeba_dataset)\n",
        "indices = list(np.arange(full_dataset_length))\n",
        "np.random.shuffle(indices)\n",
        "train_indices = indices[math.floor(full_dataset_length * valid_split_percent):]\n",
        "valid_indices = indices[:math.floor(full_dataset_length * valid_split_percent)]\n",
        "train_dataset = Subset(celeba_dataset, train_indices)\n",
        "valid_dataset = Subset(celeba_dataset, valid_indices)\n",
        "train_dataloader = DataLoader(train_dataset, batch_size=batch_size, shuffle=True)\n",
        "valid_dataloader = DataLoader(valid_dataset, batch_size=batch_size, shuffle=False)"
      ],
      "execution_count": null,
      "outputs": []
    },
    {
      "cell_type": "markdown",
      "metadata": {
        "id": "_O4N5rXz1dZq"
      },
      "source": [
        "Here we can see how each dataset sample looks like:"
      ]
    },
    {
      "cell_type": "code",
      "metadata": {
        "colab": {
          "base_uri": "https://localhost:8080/"
        },
        "id": "OKBFCZD01qoJ",
        "outputId": "b652e659-043b-46ea-a3c2-e6cf765eacb8"
      },
      "source": [
        "print (train_dataset[0])"
      ],
      "execution_count": null,
      "outputs": [
        {
          "output_type": "stream",
          "text": [
            "(tensor([[[-0.4226, -0.4226, -0.4226,  ...,  0.5536,  0.5536,  0.5536],\n",
            "         [-0.4226, -0.4226, -0.4226,  ...,  0.5536,  0.5536,  0.5536],\n",
            "         [-0.4226, -0.4226, -0.4226,  ...,  0.5536,  0.5536,  0.5536],\n",
            "         ...,\n",
            "         [-1.7583, -1.7240, -1.6898,  ..., -0.8678, -0.9020, -0.9192],\n",
            "         [-1.7754, -1.7754, -1.7583,  ..., -0.9192, -0.9192, -0.9363],\n",
            "         [-1.8439, -1.8268, -1.8097,  ..., -0.9192, -0.9192, -0.9363]],\n",
            "\n",
            "        [[-0.8102, -0.8102, -0.8102,  ...,  0.4153,  0.4153,  0.4153],\n",
            "         [-0.8102, -0.8102, -0.8102,  ...,  0.4153,  0.4153,  0.4153],\n",
            "         [-0.8102, -0.8102, -0.8102,  ...,  0.4153,  0.4153,  0.4153],\n",
            "         ...,\n",
            "         [-1.7906, -1.7206, -1.6681,  ..., -0.3200, -0.3025, -0.3025],\n",
            "         [-1.7381, -1.7206, -1.6856,  ..., -0.3200, -0.2850, -0.2850],\n",
            "         [-1.7381, -1.7206, -1.6856,  ..., -0.3200, -0.2850, -0.2850]],\n",
            "\n",
            "        [[-1.0550, -1.0550, -1.0550,  ...,  0.3568,  0.3568,  0.3568],\n",
            "         [-1.0550, -1.0550, -1.0550,  ...,  0.3568,  0.3568,  0.3568],\n",
            "         [-1.0550, -1.0550, -1.0550,  ...,  0.3568,  0.3568,  0.3568],\n",
            "         ...,\n",
            "         [-1.7173, -1.6476, -1.5604,  ...,  0.8099,  0.8099,  0.8099],\n",
            "         [-1.5779, -1.5604, -1.5081,  ...,  0.7925,  0.8274,  0.8274],\n",
            "         [-1.5430, -1.5256, -1.4733,  ...,  0.7925,  0.8274,  0.8274]]],\n",
            "       requires_grad=True), (tensor(0), tensor([0.4878, 0.5232, 0.7635, 0.5279], requires_grad=True), [218, 178]))\n"
          ],
          "name": "stdout"
        }
      ]
    },
    {
      "cell_type": "code",
      "metadata": {
        "id": "eaZUdAsRgrd9"
      },
      "source": [
        "# this cell will be removed (just a smaller sized dataset to find hyper parameters)\n",
        "z = Subset(celeba_dataset, np.arange(1,100))\n",
        "z1 = Subset(celeba_dataset, np.arange(1,300))\n",
        "train_dataloader = DataLoader(z1, batch_size=batch_size, shuffle=True)\n",
        "valid_dataloader = DataLoader(z, batch_size=batch_size, shuffle=True)"
      ],
      "execution_count": null,
      "outputs": []
    },
    {
      "cell_type": "markdown",
      "metadata": {
        "id": "tFQpqD3hWcNX"
      },
      "source": [
        "Here, we can see an example from the training dataset. It shows an image of a person, printing the gender and also showing the location of the eyes."
      ]
    },
    {
      "cell_type": "code",
      "metadata": {
        "colab": {
          "base_uri": "https://localhost:8080/",
          "height": 265
        },
        "id": "ZgVduT00VWis",
        "outputId": "96291c56-bd85-49fe-8706-aa9775848973"
      },
      "source": [
        "sample_number = 16\n",
        "image = train_dataset[sample_number][0]\n",
        "image = image.permute(1,2,0).detach().numpy()\n",
        "image_rgb = cv2.cvtColor(np.float32(image), cv2.COLOR_BGR2RGB)\n",
        "Gender = 'male' if int(train_dataset[sample_number][1][0])==1 else 'female'\n",
        "print('Gender is: ', Gender)\n",
        "w, h = train_dataset[sample_number][1][2]\n",
        "(x1, y1) = train_dataset[sample_number][1][1][0:2]\n",
        "(x2, y2) = train_dataset[sample_number][1][1][2:4]\n",
        "x1, x2 = int(x1*h), int(x2*h)\n",
        "y1, y2 = int(y1*w), int(y2*w)\n",
        "image_rgb\t=\tcv2.drawMarker(image_rgb, (x1,y1), (0,255,0))\n",
        "image_rgb\t=\tcv2.drawMarker(image_rgb, (x2,y2), (0,255,0))\n",
        "image_rgb = np.clip(image_rgb , 0, 1)\n",
        "plt.imshow(image_rgb)\n",
        "plt.axis('off')\n",
        "plt.show()"
      ],
      "execution_count": null,
      "outputs": [
        {
          "output_type": "stream",
          "text": [
            "Gender is:  female\n"
          ],
          "name": "stdout"
        },
        {
          "output_type": "display_data",
          "data": {
            "image/png": "[encoded data removed]",
            "text/plain": [
              "<Figure size 432x288 with 1 Axes>"
            ]
          },
          "metadata": {
            "tags": [],
            "needs_background": "light"
          }
        }
      ]
    },
    {
      "cell_type": "markdown",
      "metadata": {
        "id": "dz7aGIxCYOOP"
      },
      "source": [
        "## Network"
      ]
    },
    {
      "cell_type": "markdown",
      "metadata": {
        "id": "J6DpjTWLtn2c"
      },
      "source": [
        "Below, we define a new class, named 'ClassifierLocalizer, which accepts a pre-trained CNN and changes its last fully connected layer to be proper for the two task problem. The new fully connected layer contains 6 neurons, 2 for the classification task (male or female) and 4 for the localization task (x and y for the left and right eyes). Moreover, to put the location results on the same scale as the class scores, we apply the sigmoid function to the neurons assigned for the localization task."
      ]
    },
    {
      "cell_type": "code",
      "metadata": {
        "id": "9PP6UwOsJRLX"
      },
      "source": [
        "class ClassifierLocalizer(nn.Module):\n",
        "    def __init__(self, model_name, num_classes=2):\n",
        "        super(ClassifierLocalizer, self).__init__()\n",
        "        self.num_classes = num_classes\n",
        "        \n",
        "        # create cnn model\n",
        "        model = models.__dict__[model_name](True)\n",
        "        \n",
        "        # remove fc layers and add a new fc layer\n",
        "        num_features = model.fc.in_features\n",
        "        model.fc = nn.Linear(num_features, 6) # classifier + localizer\n",
        "        self.model = model\n",
        "    \n",
        "    def forward(self, x):\n",
        "        x = self.model(x)                    # extract features from CNN\n",
        "        scores = x[:, :self.num_classes]     # class scores\n",
        "        coords = x[:, self.num_classes:]     # coordinates\n",
        "        return [scores, torch.sigmoid(coords)]   # sigmoid output is in the range of [0, 1]"
      ],
      "execution_count": null,
      "outputs": []
    },
    {
      "cell_type": "markdown",
      "metadata": {
        "id": "WHeo0eIEy36f"
      },
      "source": [
        "Regarding the complexity of the problem, the number of the samples in the training dataset, and the similarity of the training dataset to the ImageNet dataset, we may decide to freeze some of the layers. In our current example, based on the mentioned factors, we freeze just the last fully connected layer."
      ]
    },
    {
      "cell_type": "code",
      "metadata": {
        "id": "irne02N9vK9e",
        "colab": {
          "base_uri": "https://localhost:8080/",
          "height": 1000,
          "referenced_widgets": [
            "c7f33f6412b544d9bd6fddb4c7e70902",
            "500fd455ef70476690b4841fca9399fd",
            "e062a5a3b149427282928e8e7f454b09",
            "3b71027f1938450eb7a6f627ee8ea475",
            "cc5ac7756dad4511b49147c67ae8a224",
            "1e6e2c96b7c9453ba6cb153b63b4bad4",
            "1e5d0b41ce764e1aa721b711f3648bef",
            "524c2f8c45ed4762aa70d814664cfc40"
          ]
        },
        "outputId": "7c0ac82b-b038-4146-da08-7e5903498b0f"
      },
      "source": [
        "network = ClassifierLocalizer(model_name='resnet18')\n",
        "\n",
        "def freeze_weights(network):\n",
        "    for name, param in network.named_parameters():\n",
        "        if not name.startswith('fc.'):\n",
        "            param.requires_grad = False\n",
        "\n",
        "freeze_weights(network)\n",
        "print(network)"
      ],
      "execution_count": null,
      "outputs": [
        {
          "output_type": "stream",
          "text": [
            "Downloading: \"https://download.pytorch.org/models/resnet18-5c106cde.pth\" to /root/.cache/torch/hub/checkpoints/resnet18-5c106cde.pth\n"
          ],
          "name": "stderr"
        },
        {
          "output_type": "display_data",
          "data": {
            "application/vnd.jupyter.widget-view+json": {
              "model_id": "c7f33f6412b544d9bd6fddb4c7e70902",
              "version_minor": 0,
              "version_major": 2
            },
            "text/plain": [
              "HBox(children=(FloatProgress(value=0.0, max=46827520.0), HTML(value='')))"
            ]
          },
          "metadata": {
            "tags": []
          }
        },
        {
          "output_type": "stream",
          "text": [
            "\n"
          ],
          "name": "stdout"
        },
        {
          "output_type": "execute_result",
          "data": {
            "text/plain": [
              "ClassifierLocalizer(\n",
              "  (model): ResNet(\n",
              "    (conv1): Conv2d(3, 64, kernel_size=(7, 7), stride=(2, 2), padding=(3, 3), bias=False)\n",
              "    (bn1): BatchNorm2d(64, eps=1e-05, momentum=0.1, affine=True, track_running_stats=True)\n",
              "    (relu): ReLU(inplace=True)\n",
              "    (maxpool): MaxPool2d(kernel_size=3, stride=2, padding=1, dilation=1, ceil_mode=False)\n",
              "    (layer1): Sequential(\n",
              "      (0): BasicBlock(\n",
              "        (conv1): Conv2d(64, 64, kernel_size=(3, 3), stride=(1, 1), padding=(1, 1), bias=False)\n",
              "        (bn1): BatchNorm2d(64, eps=1e-05, momentum=0.1, affine=True, track_running_stats=True)\n",
              "        (relu): ReLU(inplace=True)\n",
              "        (conv2): Conv2d(64, 64, kernel_size=(3, 3), stride=(1, 1), padding=(1, 1), bias=False)\n",
              "        (bn2): BatchNorm2d(64, eps=1e-05, momentum=0.1, affine=True, track_running_stats=True)\n",
              "      )\n",
              "      (1): BasicBlock(\n",
              "        (conv1): Conv2d(64, 64, kernel_size=(3, 3), stride=(1, 1), padding=(1, 1), bias=False)\n",
              "        (bn1): BatchNorm2d(64, eps=1e-05, momentum=0.1, affine=True, track_running_stats=True)\n",
              "        (relu): ReLU(inplace=True)\n",
              "        (conv2): Conv2d(64, 64, kernel_size=(3, 3), stride=(1, 1), padding=(1, 1), bias=False)\n",
              "        (bn2): BatchNorm2d(64, eps=1e-05, momentum=0.1, affine=True, track_running_stats=True)\n",
              "      )\n",
              "    )\n",
              "    (layer2): Sequential(\n",
              "      (0): BasicBlock(\n",
              "        (conv1): Conv2d(64, 128, kernel_size=(3, 3), stride=(2, 2), padding=(1, 1), bias=False)\n",
              "        (bn1): BatchNorm2d(128, eps=1e-05, momentum=0.1, affine=True, track_running_stats=True)\n",
              "        (relu): ReLU(inplace=True)\n",
              "        (conv2): Conv2d(128, 128, kernel_size=(3, 3), stride=(1, 1), padding=(1, 1), bias=False)\n",
              "        (bn2): BatchNorm2d(128, eps=1e-05, momentum=0.1, affine=True, track_running_stats=True)\n",
              "        (downsample): Sequential(\n",
              "          (0): Conv2d(64, 128, kernel_size=(1, 1), stride=(2, 2), bias=False)\n",
              "          (1): BatchNorm2d(128, eps=1e-05, momentum=0.1, affine=True, track_running_stats=True)\n",
              "        )\n",
              "      )\n",
              "      (1): BasicBlock(\n",
              "        (conv1): Conv2d(128, 128, kernel_size=(3, 3), stride=(1, 1), padding=(1, 1), bias=False)\n",
              "        (bn1): BatchNorm2d(128, eps=1e-05, momentum=0.1, affine=True, track_running_stats=True)\n",
              "        (relu): ReLU(inplace=True)\n",
              "        (conv2): Conv2d(128, 128, kernel_size=(3, 3), stride=(1, 1), padding=(1, 1), bias=False)\n",
              "        (bn2): BatchNorm2d(128, eps=1e-05, momentum=0.1, affine=True, track_running_stats=True)\n",
              "      )\n",
              "    )\n",
              "    (layer3): Sequential(\n",
              "      (0): BasicBlock(\n",
              "        (conv1): Conv2d(128, 256, kernel_size=(3, 3), stride=(2, 2), padding=(1, 1), bias=False)\n",
              "        (bn1): BatchNorm2d(256, eps=1e-05, momentum=0.1, affine=True, track_running_stats=True)\n",
              "        (relu): ReLU(inplace=True)\n",
              "        (conv2): Conv2d(256, 256, kernel_size=(3, 3), stride=(1, 1), padding=(1, 1), bias=False)\n",
              "        (bn2): BatchNorm2d(256, eps=1e-05, momentum=0.1, affine=True, track_running_stats=True)\n",
              "        (downsample): Sequential(\n",
              "          (0): Conv2d(128, 256, kernel_size=(1, 1), stride=(2, 2), bias=False)\n",
              "          (1): BatchNorm2d(256, eps=1e-05, momentum=0.1, affine=True, track_running_stats=True)\n",
              "        )\n",
              "      )\n",
              "      (1): BasicBlock(\n",
              "        (conv1): Conv2d(256, 256, kernel_size=(3, 3), stride=(1, 1), padding=(1, 1), bias=False)\n",
              "        (bn1): BatchNorm2d(256, eps=1e-05, momentum=0.1, affine=True, track_running_stats=True)\n",
              "        (relu): ReLU(inplace=True)\n",
              "        (conv2): Conv2d(256, 256, kernel_size=(3, 3), stride=(1, 1), padding=(1, 1), bias=False)\n",
              "        (bn2): BatchNorm2d(256, eps=1e-05, momentum=0.1, affine=True, track_running_stats=True)\n",
              "      )\n",
              "    )\n",
              "    (layer4): Sequential(\n",
              "      (0): BasicBlock(\n",
              "        (conv1): Conv2d(256, 512, kernel_size=(3, 3), stride=(2, 2), padding=(1, 1), bias=False)\n",
              "        (bn1): BatchNorm2d(512, eps=1e-05, momentum=0.1, affine=True, track_running_stats=True)\n",
              "        (relu): ReLU(inplace=True)\n",
              "        (conv2): Conv2d(512, 512, kernel_size=(3, 3), stride=(1, 1), padding=(1, 1), bias=False)\n",
              "        (bn2): BatchNorm2d(512, eps=1e-05, momentum=0.1, affine=True, track_running_stats=True)\n",
              "        (downsample): Sequential(\n",
              "          (0): Conv2d(256, 512, kernel_size=(1, 1), stride=(2, 2), bias=False)\n",
              "          (1): BatchNorm2d(512, eps=1e-05, momentum=0.1, affine=True, track_running_stats=True)\n",
              "        )\n",
              "      )\n",
              "      (1): BasicBlock(\n",
              "        (conv1): Conv2d(512, 512, kernel_size=(3, 3), stride=(1, 1), padding=(1, 1), bias=False)\n",
              "        (bn1): BatchNorm2d(512, eps=1e-05, momentum=0.1, affine=True, track_running_stats=True)\n",
              "        (relu): ReLU(inplace=True)\n",
              "        (conv2): Conv2d(512, 512, kernel_size=(3, 3), stride=(1, 1), padding=(1, 1), bias=False)\n",
              "        (bn2): BatchNorm2d(512, eps=1e-05, momentum=0.1, affine=True, track_running_stats=True)\n",
              "      )\n",
              "    )\n",
              "    (avgpool): AdaptiveAvgPool2d(output_size=(1, 1))\n",
              "    (fc): Linear(in_features=512, out_features=6, bias=True)\n",
              "  )\n",
              ")"
            ]
          },
          "metadata": {
            "tags": []
          },
          "execution_count": 11
        }
      ]
    },
    {
      "cell_type": "code",
      "metadata": {
        "id": "2E4XDkyM7kmi"
      },
      "source": [
        "network = ClassifierLocalizer(model_name='resnet18')  # network without freezing any layer."
      ],
      "execution_count": null,
      "outputs": []
    },
    {
      "cell_type": "markdown",
      "metadata": {
        "id": "MTdUCc-tP9u6"
      },
      "source": [
        "By using the `callbacks` feature in the Poutyne, we will be able to load the network with the best weights. This fetures saves the latest weights of the network during training, as well as saving the best weights during the several epochs of training. "
      ]
    },
    {
      "cell_type": "code",
      "metadata": {
        "id": "RnO4fNrsbOA4"
      },
      "source": [
        "save_path = './callbacks'\n",
        "os.makedirs(save_path, exist_ok=True)\n",
        "callbacks = [\n",
        "    # Save the latest weights to be able to continue the optimization at the end for more epochs.\n",
        "    ModelCheckpoint(os.path.join(save_path, 'last_epoch.ckpt')),\n",
        "\n",
        "    # Save the weights in a new file when the current model is better than all previous models.\n",
        "    ModelCheckpoint(os.path.join(save_path, 'best_epoch_{epoch}.ckpt'), monitor='val_loss', mode='min',\n",
        "                    save_best_only=True, restore_best=True, verbose=True),\n",
        "\n",
        "    # Save the losses and accuracies for each epoch in a TSV.\n",
        "    CSVLogger(os.path.join(save_path, 'log.tsv'), separator='\\t'),\n",
        "]"
      ],
      "execution_count": null,
      "outputs": []
    },
    {
      "cell_type": "markdown",
      "metadata": {
        "id": "8482vAprYWgI"
      },
      "source": [
        "## Loss function"
      ]
    },
    {
      "cell_type": "markdown",
      "metadata": {
        "id": "DAa7rSqC3VJs"
      },
      "source": [
        "As we discussed before, we have two different tasks in this example. These tasks need different loss functions; Cross-Entropy loss for the classification and Mean Square Error loss for the regression. Below, we define a new loss function class that sums both losses to considers them simultaneously. However, as the regression is relatively a harder task, we apply a higher weight to MSEloss."
      ]
    },
    {
      "cell_type": "code",
      "metadata": {
        "id": "oCrU_k18J2Ps"
      },
      "source": [
        "class ClassificationRegressionLoss(nn.Module):\n",
        "    def __init__(self):\n",
        "        super(ClassificationRegressionLoss, self).__init__()\n",
        "        self.ce_loss = nn.CrossEntropyLoss() # size_average=False\n",
        "        self.mse_loss = nn.MSELoss()\n",
        "        \n",
        "    def forward(self, y_pred, y_true):\n",
        "        loss_cls = self.ce_loss(y_pred[0], y_true[0]) # Cross Entropy Error (for classification)\n",
        "        loss_reg = self.mse_loss(y_pred[1], y_true[ 1]) # Mean Squared Error (for landmarks)\n",
        "        total_loss = loss_reg + loss_cls\n",
        "        return total_loss"
      ],
      "execution_count": null,
      "outputs": []
    },
    {
      "cell_type": "markdown",
      "metadata": {
        "id": "e-ujQ315X9ku"
      },
      "source": [
        "## Training"
      ]
    },
    {
      "cell_type": "code",
      "metadata": {
        "colab": {
          "base_uri": "https://localhost:8080/"
        },
        "id": "IqGF7KaxcgI3",
        "outputId": "fb60737a-8593-4c0c-dc68-76685f1547fd"
      },
      "source": [
        "optimizer = optim.Adam(network.parameters(), lr=0.0001, weight_decay=0)\n",
        "loss_function = ClassificationRegressionLoss()\n",
        "#Step_Learning_Rate = StepLR(step_size=2 , gamma=0.1, last_epoch=-1, verbose=False)\n",
        "exp = Experiment('./two_task_example', network, optimizer=optimizer, loss_function=loss_function, device=\"all\")\n",
        "exp.train(train_dataloader, valid_dataloader, callbacks=callbacks, epochs=num_epochs)"
      ],
      "execution_count": null,
      "outputs": [
        {
          "output_type": "stream",
          "text": [
            "Epoch:  1/15 Train steps: 10 Val steps: 4 46.30s loss: 0.445424 val_loss: 0.065863\n",
            "Epoch 1: val_loss improved from inf to 0.06586, saving file to ./two_task_example/checkpoint_epoch_1.ckpt\n",
            "Epoch 1: val_loss improved from inf to 0.06586, saving file to ./callbacks/best_epoch_1.ckpt\n",
            "Epoch:  2/15 Train steps: 10 Val steps: 4 46.32s loss: 0.055802 val_loss: 0.018385\n",
            "Epoch 2: val_loss improved from 0.06586 to 0.01838, saving file to ./two_task_example/checkpoint_epoch_2.ckpt\n",
            "Epoch 2: val_loss improved from 0.06586 to 0.01838, saving file to ./callbacks/best_epoch_2.ckpt\n",
            "Epoch:  3/15 Train steps: 10 Val steps: 4 46.32s loss: 0.018117 val_loss: 0.006982\n",
            "Epoch 3: val_loss improved from 0.01838 to 0.00698, saving file to ./two_task_example/checkpoint_epoch_3.ckpt\n",
            "Epoch 3: val_loss improved from 0.01838 to 0.00698, saving file to ./callbacks/best_epoch_3.ckpt\n",
            "Epoch:  4/15 Train steps: 10 Val steps: 4 45.96s loss: 0.008695 val_loss: 0.005553\n",
            "Epoch 4: val_loss improved from 0.00698 to 0.00555, saving file to ./two_task_example/checkpoint_epoch_4.ckpt\n",
            "Epoch 4: val_loss improved from 0.00698 to 0.00555, saving file to ./callbacks/best_epoch_4.ckpt\n",
            "Epoch:  5/15 Train steps: 10 Val steps: 4 46.26s loss: 0.006221 val_loss: 0.003451\n",
            "Epoch 5: val_loss improved from 0.00555 to 0.00345, saving file to ./two_task_example/checkpoint_epoch_5.ckpt\n",
            "Epoch 5: val_loss improved from 0.00555 to 0.00345, saving file to ./callbacks/best_epoch_5.ckpt\n",
            "Epoch:  6/15 Train steps: 10 Val steps: 4 46.63s loss: 0.005048 val_loss: 0.002240\n",
            "Epoch 6: val_loss improved from 0.00345 to 0.00224, saving file to ./two_task_example/checkpoint_epoch_6.ckpt\n",
            "Epoch 6: val_loss improved from 0.00345 to 0.00224, saving file to ./callbacks/best_epoch_6.ckpt\n",
            "Epoch:  7/15 Train steps: 10 Val steps: 4 46.86s loss: 0.004154 val_loss: 0.001679\n",
            "Epoch 7: val_loss improved from 0.00224 to 0.00168, saving file to ./two_task_example/checkpoint_epoch_7.ckpt\n",
            "Epoch 7: val_loss improved from 0.00224 to 0.00168, saving file to ./callbacks/best_epoch_7.ckpt\n",
            "Epoch:  8/15 Train steps: 10 Val steps: 4 46.20s loss: 0.002159 val_loss: 0.001291\n",
            "Epoch 8: val_loss improved from 0.00168 to 0.00129, saving file to ./two_task_example/checkpoint_epoch_8.ckpt\n",
            "Epoch 8: val_loss improved from 0.00168 to 0.00129, saving file to ./callbacks/best_epoch_8.ckpt\n",
            "Epoch:  9/15 Train steps: 10 Val steps: 4 46.49s loss: 0.001412 val_loss: 0.001006\n",
            "Epoch 9: val_loss improved from 0.00129 to 0.00101, saving file to ./two_task_example/checkpoint_epoch_9.ckpt\n",
            "Epoch 9: val_loss improved from 0.00129 to 0.00101, saving file to ./callbacks/best_epoch_9.ckpt\n",
            "Epoch: 10/15 Train steps: 10 Val steps: 4 46.41s loss: 0.001848 val_loss: 0.000800\n",
            "Epoch 10: val_loss improved from 0.00101 to 0.00080, saving file to ./two_task_example/checkpoint_epoch_10.ckpt\n",
            "Epoch 10: val_loss improved from 0.00101 to 0.00080, saving file to ./callbacks/best_epoch_10.ckpt\n",
            "Epoch: 11/15 Train steps: 10 Val steps: 4 45.67s loss: 0.001584 val_loss: 0.000678\n",
            "Epoch 11: val_loss improved from 0.00080 to 0.00068, saving file to ./two_task_example/checkpoint_epoch_11.ckpt\n",
            "Epoch 11: val_loss improved from 0.00080 to 0.00068, saving file to ./callbacks/best_epoch_11.ckpt\n",
            "Epoch: 12/15 Train steps: 10 Val steps: 4 45.72s loss: 0.000935 val_loss: 0.000622\n",
            "Epoch 12: val_loss improved from 0.00068 to 0.00062, saving file to ./two_task_example/checkpoint_epoch_12.ckpt\n",
            "Epoch 12: val_loss improved from 0.00068 to 0.00062, saving file to ./callbacks/best_epoch_12.ckpt\n",
            "Epoch: 13/15 Train steps: 10 Val steps: 4 45.11s loss: 0.001359 val_loss: 0.000542\n",
            "Epoch 13: val_loss improved from 0.00062 to 0.00054, saving file to ./two_task_example/checkpoint_epoch_13.ckpt\n",
            "Epoch 13: val_loss improved from 0.00062 to 0.00054, saving file to ./callbacks/best_epoch_13.ckpt\n",
            "Epoch: 14/15 Train steps: 10 Val steps: 4 45.40s loss: 0.001054 val_loss: 0.000468\n",
            "Epoch 14: val_loss improved from 0.00054 to 0.00047, saving file to ./two_task_example/checkpoint_epoch_14.ckpt\n",
            "Epoch 14: val_loss improved from 0.00054 to 0.00047, saving file to ./callbacks/best_epoch_14.ckpt\n",
            "Epoch: 15/15 Train steps: 10 Val steps: 4 45.58s loss: 0.001436 val_loss: 0.000417\n",
            "Epoch 15: val_loss improved from 0.00047 to 0.00042, saving file to ./two_task_example/checkpoint_epoch_15.ckpt\n",
            "Epoch 15: val_loss improved from 0.00047 to 0.00042, saving file to ./callbacks/best_epoch_15.ckpt\n",
            "Restoring model from ./two_task_example/checkpoint_epoch_15.ckpt\n",
            "Restoring model from ./callbacks/best_epoch_15.ckpt\n"
          ],
          "name": "stdout"
        },
        {
          "output_type": "execute_result",
          "data": {
            "text/plain": [
              "[{'epoch': 1,\n",
              "  'loss': 0.44542360545002097,\n",
              "  'time': 46.296777523999936,\n",
              "  'val_loss': 0.065862835657717},\n",
              " {'epoch': 2,\n",
              "  'loss': 0.05580225504660686,\n",
              "  'time': 46.32107198299991,\n",
              "  'val_loss': 0.01838479984100118},\n",
              " {'epoch': 3,\n",
              "  'loss': 0.018116830533563492,\n",
              "  'time': 46.32259177299966,\n",
              "  'val_loss': 0.006982036381771769},\n",
              " {'epoch': 4,\n",
              "  'loss': 0.008694756751176107,\n",
              "  'time': 45.958429328999955,\n",
              "  'val_loss': 0.005552749883270625},\n",
              " {'epoch': 5,\n",
              "  'loss': 0.006221386373516508,\n",
              "  'time': 46.25863487700008,\n",
              "  'val_loss': 0.003450976183750864},\n",
              " {'epoch': 6,\n",
              "  'loss': 0.0050482390616649764,\n",
              "  'time': 46.626975122000204,\n",
              "  'val_loss': 0.002240448512814262},\n",
              " {'epoch': 7,\n",
              "  'loss': 0.004153520859354316,\n",
              "  'time': 46.86461072799966,\n",
              "  'val_loss': 0.001678546481398922},\n",
              " {'epoch': 8,\n",
              "  'loss': 0.002158965720767062,\n",
              "  'time': 46.198860033000074,\n",
              "  'val_loss': 0.0012906256503416131},\n",
              " {'epoch': 9,\n",
              "  'loss': 0.001411929754633768,\n",
              "  'time': 46.49014936100002,\n",
              "  'val_loss': 0.0010059040246738328},\n",
              " {'epoch': 10,\n",
              "  'loss': 0.0018479142144920435,\n",
              "  'time': 46.41268300599995,\n",
              "  'val_loss': 0.0008003124714396292},\n",
              " {'epoch': 11,\n",
              "  'loss': 0.0015839843389369472,\n",
              "  'time': 45.67412645600007,\n",
              "  'val_loss': 0.0006779708130510919},\n",
              " {'epoch': 12,\n",
              "  'loss': 0.0009348557161690549,\n",
              "  'time': 45.72454239100034,\n",
              "  'val_loss': 0.0006224295986355329},\n",
              " {'epoch': 13,\n",
              "  'loss': 0.0013587493414408138,\n",
              "  'time': 45.11254277599983,\n",
              "  'val_loss': 0.0005422547801204891},\n",
              " {'epoch': 14,\n",
              "  'loss': 0.0010542610643064,\n",
              "  'time': 45.40019714899972,\n",
              "  'val_loss': 0.0004676090141245625},\n",
              " {'epoch': 15,\n",
              "  'loss': 0.0014355717091369489,\n",
              "  'time': 45.58170325999981,\n",
              "  'val_loss': 0.00041668113474522465}]"
            ]
          },
          "metadata": {
            "tags": []
          },
          "execution_count": 16
        }
      ]
    },
    {
      "cell_type": "markdown",
      "metadata": {
        "id": "u533lDNqYjIa"
      },
      "source": [
        "## Evaluation"
      ]
    },
    {
      "cell_type": "markdown",
      "metadata": {
        "id": "0_J-NaYhYZg1"
      },
      "source": [
        "As you have also noticed from the training logs, we have achieved the best performance (considering the validation loss) at the 15th epoch. The weights of the network for the corresponding epoch have been automatically saved and we use these parameters to evaluate our algorithm visually. Hence,  we take advantage of evaluate function of Poutyne, and apply it to the validation dataset. It provides us the predictions as well as the ground-truth for comparison, in case of need."
      ]
    },
    {
      "cell_type": "code",
      "metadata": {
        "id": "Gqki-sYR3paj",
        "colab": {
          "base_uri": "https://localhost:8080/"
        },
        "outputId": "fa304e89-7926-4b66-e434-0912ab6e95b9"
      },
      "source": [
        "model = Model(network, optimizer, loss_function, device=device)\n",
        "model.load_weights('./two_task_example/checkpoint_epoch_15.ckpt')\n",
        "loss, predictions, Ground_Truth = model.evaluate_generator(valid_dataloader, callbacks=callbacks, return_pred=True, return_ground_truth=True)"
      ],
      "execution_count": null,
      "outputs": [
        {
          "output_type": "stream",
          "text": [
            "Test steps: 4 11.08s test_loss: 0.000417                              \n"
          ],
          "name": "stdout"
        }
      ]
    },
    {
      "cell_type": "markdown",
      "metadata": {
        "id": "wJWgGcv6ZhXa"
      },
      "source": [
        "The `callbacks` feature also records the training logs. we can use this information to monitor and analyze the training process."
      ]
    },
    {
      "cell_type": "code",
      "metadata": {
        "id": "TZATeTicxV7c",
        "colab": {
          "base_uri": "https://localhost:8080/"
        },
        "outputId": "69c6035b-3243-4e10-defb-d2c1013ae940"
      },
      "source": [
        "logs = pd.read_csv('./callbacks/log.tsv', sep='\\t')\n",
        "print(logs)"
      ],
      "execution_count": null,
      "outputs": [
        {
          "output_type": "stream",
          "text": [
            "    epoch       time      lr      loss  val_loss\n",
            "0       1  46.296778  0.0001  0.445424  0.065863\n",
            "1       2  46.321072  0.0001  0.055802  0.018385\n",
            "2       3  46.322592  0.0001  0.018117  0.006982\n",
            "3       4  45.958429  0.0001  0.008695  0.005553\n",
            "4       5  46.258635  0.0001  0.006221  0.003451\n",
            "5       6  46.626975  0.0001  0.005048  0.002240\n",
            "6       7  46.864611  0.0001  0.004154  0.001679\n",
            "7       8  46.198860  0.0001  0.002159  0.001291\n",
            "8       9  46.490149  0.0001  0.001412  0.001006\n",
            "9      10  46.412683  0.0001  0.001848  0.000800\n",
            "10     11  45.674126  0.0001  0.001584  0.000678\n",
            "11     12  45.724542  0.0001  0.000935  0.000622\n",
            "12     13  45.112543  0.0001  0.001359  0.000542\n",
            "13     14  45.400197  0.0001  0.001054  0.000468\n",
            "14     15  45.581703  0.0001  0.001436  0.000417\n"
          ],
          "name": "stdout"
        }
      ]
    },
    {
      "cell_type": "code",
      "metadata": {
        "colab": {
          "base_uri": "https://localhost:8080/",
          "height": 281
        },
        "id": "kPgGEXLpBRqi",
        "outputId": "cfd5a664-5b59-4e90-a273-095b966391d1"
      },
      "source": [
        "train_loss = logs.loss\n",
        "valid_loss = logs.val_loss\n",
        "plt.plot(train_loss)\n",
        "plt.plot(valid_loss)\n",
        "plt.legend(['train_loss','valid_loss'])\n",
        "plt.title('training and validation losses')\n",
        "plt.show()"
      ],
      "execution_count": null,
      "outputs": [
        {
          "output_type": "display_data",
          "data": {
            "image/png": "[encoded data removed]",
            "text/plain": [
              "<Figure size 432x288 with 1 Axes>"
            ]
          },
          "metadata": {
            "tags": [],
            "needs_background": "light"
          }
        }
      ]
    },
    {
      "cell_type": "markdown",
      "metadata": {
        "id": "wrrndK5L7QSm"
      },
      "source": [
        "We can also evaluate the performance of the trained network (a network with the best weights) on any dataset, as below:"
      ]
    },
    {
      "cell_type": "code",
      "metadata": {
        "id": "PXqnJiev9nzW",
        "colab": {
          "base_uri": "https://localhost:8080/"
        },
        "outputId": "77ce8a4f-c70b-479d-faf2-c8389522d5a6"
      },
      "source": [
        "exp.test(valid_dataloader)"
      ],
      "execution_count": null,
      "outputs": [
        {
          "output_type": "stream",
          "text": [
            "Found best checkpoint at epoch: 15\n",
            "lr: 0.0001, loss: 0.00143557, val_loss: 0.000416681\n",
            "Loading checkpoint ./two_task_example/checkpoint_epoch_15.ckpt\n",
            "Running test\n",
            "Test steps: 4 11.32s test_loss: 0.000417                              \n"
          ],
          "name": "stdout"
        },
        {
          "output_type": "execute_result",
          "data": {
            "text/plain": [
              "{'test_loss': 0.00041668165141170975, 'time': 11.319942566999998}"
            ]
          },
          "metadata": {
            "tags": []
          },
          "execution_count": 25
        }
      ]
    },
    {
      "cell_type": "markdown",
      "metadata": {
        "id": "TXmExGe47pZK"
      },
      "source": [
        "Now let's evaluate the performance of the network visually."
      ]
    },
    {
      "cell_type": "code",
      "metadata": {
        "id": "JmGadRyuw7df",
        "colab": {
          "base_uri": "https://localhost:8080/",
          "height": 265
        },
        "outputId": "3dbe1302-5cbc-4583-a5e5-5b41ebe2a695"
      },
      "source": [
        "sample_number = 10\n",
        "image = valid_dataset[sample_number][0]\n",
        "image = image.permute(1,2,0).detach().numpy()\n",
        "image_rgb = cv2.cvtColor(np.float32(image), cv2.COLOR_BGR2RGB)\n",
        "#Gender = 'male' if np.where(predictions[0][sample_number]==max(predictions[0][sample_number]))[0]==0 else 'female'\n",
        "Gender = 'male' if np.argmax(predictions[0][sample_number])==0 else 'female'\n",
        "print('Gender is: ', Gender)\n",
        "w, h = valid_dataset[sample_number][1][2]\n",
        "(x1, y1) = predictions[1][sample_number][0:2]\n",
        "(x2, y2) = predictions[1][sample_number][2:4]\n",
        "x1, x2 = int(x1*h), int(x2*h)\n",
        "y1, y2 = int(y1*w), int(y2*w)\n",
        "image_rgb\t=\tcv2.drawMarker(image_rgb, (x1,y1), (0,255,0))\n",
        "image_rgb\t=\tcv2.drawMarker(image_rgb, (x2,y2), (0,255,0))\n",
        "image_rgb = np.clip(image_rgb , 0, 1)\n",
        "plt.imshow(image_rgb)\n",
        "plt.axis('off')\n",
        "plt.show()"
      ],
      "execution_count": null,
      "outputs": [
        {
          "output_type": "stream",
          "text": [
            "Gender is:  male\n"
          ],
          "name": "stdout"
        },
        {
          "output_type": "display_data",
          "data": {
            "image/png": "[encoded data removed]",
            "text/plain": [
              "<Figure size 432x288 with 1 Axes>"
            ]
          },
          "metadata": {
            "tags": [],
            "needs_background": "light"
          }
        }
      ]
    }
  ]
}