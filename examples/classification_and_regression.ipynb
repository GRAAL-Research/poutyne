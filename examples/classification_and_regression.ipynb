{
  "nbformat": 4,
  "nbformat_minor": 0,
  "metadata": {
    "accelerator": "GPU",
    "colab": {
      "name": "object_detection.ipynb",
      "provenance": [],
      "collapsed_sections": []
    },
    "kernelspec": {
      "display_name": "Python 3",
      "name": "python3"
    },
    "widgets": {
      "application/vnd.jupyter.widget-state+json": {
        "98f0534faf2945ab8de408c3576ed6e9": {
          "model_module": "@jupyter-widgets/controls",
          "model_name": "HBoxModel",
          "state": {
            "_view_name": "HBoxView",
            "_dom_classes": [],
            "_model_name": "HBoxModel",
            "_view_module": "@jupyter-widgets/controls",
            "_model_module_version": "1.5.0",
            "_view_count": null,
            "_view_module_version": "1.5.0",
            "box_style": "",
            "layout": "IPY_MODEL_9f244f2f52584c39be6b7c36ac147694",
            "_model_module": "@jupyter-widgets/controls",
            "children": [
              "IPY_MODEL_965105caa21d47369998a79836b91b2b",
              "IPY_MODEL_9d20bb92dbc74938b32471125c69f70e"
            ]
          }
        },
        "9f244f2f52584c39be6b7c36ac147694": {
          "model_module": "@jupyter-widgets/base",
          "model_name": "LayoutModel",
          "state": {
            "_view_name": "LayoutView",
            "grid_template_rows": null,
            "right": null,
            "justify_content": null,
            "_view_module": "@jupyter-widgets/base",
            "overflow": null,
            "_model_module_version": "1.2.0",
            "_view_count": null,
            "flex_flow": null,
            "width": null,
            "min_width": null,
            "border": null,
            "align_items": null,
            "bottom": null,
            "_model_module": "@jupyter-widgets/base",
            "top": null,
            "grid_column": null,
            "overflow_y": null,
            "overflow_x": null,
            "grid_auto_flow": null,
            "grid_area": null,
            "grid_template_columns": null,
            "flex": null,
            "_model_name": "LayoutModel",
            "justify_items": null,
            "grid_row": null,
            "max_height": null,
            "align_content": null,
            "visibility": null,
            "align_self": null,
            "height": null,
            "min_height": null,
            "padding": null,
            "grid_auto_rows": null,
            "grid_gap": null,
            "max_width": null,
            "order": null,
            "_view_module_version": "1.2.0",
            "grid_template_areas": null,
            "object_position": null,
            "object_fit": null,
            "grid_auto_columns": null,
            "margin": null,
            "display": null,
            "left": null
          }
        },
        "965105caa21d47369998a79836b91b2b": {
          "model_module": "@jupyter-widgets/controls",
          "model_name": "FloatProgressModel",
          "state": {
            "_view_name": "ProgressView",
            "style": "IPY_MODEL_41ff9cb6e5ef45479c29ece978ca8171",
            "_dom_classes": [],
            "description": "100%",
            "_model_name": "FloatProgressModel",
            "bar_style": "success",
            "max": 46827520,
            "_view_module": "@jupyter-widgets/controls",
            "_model_module_version": "1.5.0",
            "value": 46827520,
            "_view_count": null,
            "_view_module_version": "1.5.0",
            "orientation": "horizontal",
            "min": 0,
            "description_tooltip": null,
            "_model_module": "@jupyter-widgets/controls",
            "layout": "IPY_MODEL_79ef64dc3fc04ad1a4165d4016379515"
          }
        },
        "9d20bb92dbc74938b32471125c69f70e": {
          "model_module": "@jupyter-widgets/controls",
          "model_name": "HTMLModel",
          "state": {
            "_view_name": "HTMLView",
            "style": "IPY_MODEL_2f5b2c06f3ef491691f2590f5893b997",
            "_dom_classes": [],
            "description": "",
            "_model_name": "HTMLModel",
            "placeholder": "​",
            "_view_module": "@jupyter-widgets/controls",
            "_model_module_version": "1.5.0",
            "value": " 44.7M/44.7M [00:11&lt;00:00, 4.10MB/s]",
            "_view_count": null,
            "_view_module_version": "1.5.0",
            "description_tooltip": null,
            "_model_module": "@jupyter-widgets/controls",
            "layout": "IPY_MODEL_7772056197574b90b8fd72cf29a06952"
          }
        },
        "41ff9cb6e5ef45479c29ece978ca8171": {
          "model_module": "@jupyter-widgets/controls",
          "model_name": "ProgressStyleModel",
          "state": {
            "_view_name": "StyleView",
            "_model_name": "ProgressStyleModel",
            "description_width": "initial",
            "_view_module": "@jupyter-widgets/base",
            "_model_module_version": "1.5.0",
            "_view_count": null,
            "_view_module_version": "1.2.0",
            "bar_color": null,
            "_model_module": "@jupyter-widgets/controls"
          }
        },
        "79ef64dc3fc04ad1a4165d4016379515": {
          "model_module": "@jupyter-widgets/base",
          "model_name": "LayoutModel",
          "state": {
            "_view_name": "LayoutView",
            "grid_template_rows": null,
            "right": null,
            "justify_content": null,
            "_view_module": "@jupyter-widgets/base",
            "overflow": null,
            "_model_module_version": "1.2.0",
            "_view_count": null,
            "flex_flow": null,
            "width": null,
            "min_width": null,
            "border": null,
            "align_items": null,
            "bottom": null,
            "_model_module": "@jupyter-widgets/base",
            "top": null,
            "grid_column": null,
            "overflow_y": null,
            "overflow_x": null,
            "grid_auto_flow": null,
            "grid_area": null,
            "grid_template_columns": null,
            "flex": null,
            "_model_name": "LayoutModel",
            "justify_items": null,
            "grid_row": null,
            "max_height": null,
            "align_content": null,
            "visibility": null,
            "align_self": null,
            "height": null,
            "min_height": null,
            "padding": null,
            "grid_auto_rows": null,
            "grid_gap": null,
            "max_width": null,
            "order": null,
            "_view_module_version": "1.2.0",
            "grid_template_areas": null,
            "object_position": null,
            "object_fit": null,
            "grid_auto_columns": null,
            "margin": null,
            "display": null,
            "left": null
          }
        },
        "2f5b2c06f3ef491691f2590f5893b997": {
          "model_module": "@jupyter-widgets/controls",
          "model_name": "DescriptionStyleModel",
          "state": {
            "_view_name": "StyleView",
            "_model_name": "DescriptionStyleModel",
            "description_width": "",
            "_view_module": "@jupyter-widgets/base",
            "_model_module_version": "1.5.0",
            "_view_count": null,
            "_view_module_version": "1.2.0",
            "_model_module": "@jupyter-widgets/controls"
          }
        },
        "7772056197574b90b8fd72cf29a06952": {
          "model_module": "@jupyter-widgets/base",
          "model_name": "LayoutModel",
          "state": {
            "_view_name": "LayoutView",
            "grid_template_rows": null,
            "right": null,
            "justify_content": null,
            "_view_module": "@jupyter-widgets/base",
            "overflow": null,
            "_model_module_version": "1.2.0",
            "_view_count": null,
            "flex_flow": null,
            "width": null,
            "min_width": null,
            "border": null,
            "align_items": null,
            "bottom": null,
            "_model_module": "@jupyter-widgets/base",
            "top": null,
            "grid_column": null,
            "overflow_y": null,
            "overflow_x": null,
            "grid_auto_flow": null,
            "grid_area": null,
            "grid_template_columns": null,
            "flex": null,
            "_model_name": "LayoutModel",
            "justify_items": null,
            "grid_row": null,
            "max_height": null,
            "align_content": null,
            "visibility": null,
            "align_self": null,
            "height": null,
            "min_height": null,
            "padding": null,
            "grid_auto_rows": null,
            "grid_gap": null,
            "max_width": null,
            "order": null,
            "_view_module_version": "1.2.0",
            "grid_template_areas": null,
            "object_position": null,
            "object_fit": null,
            "grid_auto_columns": null,
            "margin": null,
            "display": null,
            "left": null
          }
        }
      }
    }
  },
  "cells": [
    {
      "cell_type": "markdown",
      "metadata": {
        "id": "9gmgN61SirPE"
      },
      "source": [
        "# Gender Classification and Eyes Location Detection: A Two Task Problem"
      ]
    },
    {
      "cell_type": "markdown",
      "metadata": {
        "id": "syR65Pohizmh"
      },
      "source": [
        "In this example, we are going to implement a multi-task problem. We try to identify the gender of the people, as well as locating their eyes in the image. Hence, we have two different tasks: classification (to identify the gender) and regression (to find the location of the eyes). We are going to use a single network (A CNN) to perform both tasks, however, we will need to apply different loss functions, each proper to a specific task. "
      ]
    },
    {
      "cell_type": "code",
      "metadata": {
        "colab": {
          "base_uri": "https://localhost:8080/"
        },
        "id": "VAG5NDFCiqxG",
        "outputId": "778d4244-c225-40e0-bd2e-db4262fc7282"
      },
      "source": [
        "%pip install poutyne    # to install the Poutyne library\n",
        "%pip install wget       # to install the wget library in order to download data"
      ],
      "execution_count": 1,
      "outputs": [
        {
          "output_type": "stream",
          "text": [
            "Collecting poutyne\n",
            "\u001b[?25l  Downloading https://files.pythonhosted.org/packages/89/fd/5781fdd6331b08fd29fc886c3b0a03332e8d6d24069c4dfc67009e791221/Poutyne-1.5-py3-none-any.whl (136kB)\n",
            "\r\u001b[K     |██▍                             | 10kB 20.5MB/s eta 0:00:01\r\u001b[K     |████▉                           | 20kB 27.0MB/s eta 0:00:01\r\u001b[K     |███████▏                        | 30kB 20.9MB/s eta 0:00:01\r\u001b[K     |█████████▋                      | 40kB 16.9MB/s eta 0:00:01\r\u001b[K     |████████████                    | 51kB 14.8MB/s eta 0:00:01\r\u001b[K     |██████████████▍                 | 61kB 14.3MB/s eta 0:00:01\r\u001b[K     |████████████████▊               | 71kB 15.8MB/s eta 0:00:01\r\u001b[K     |███████████████████▏            | 81kB 13.1MB/s eta 0:00:01\r\u001b[K     |█████████████████████▌          | 92kB 12.8MB/s eta 0:00:01\r\u001b[K     |████████████████████████        | 102kB 13.5MB/s eta 0:00:01\r\u001b[K     |██████████████████████████▎     | 112kB 13.5MB/s eta 0:00:01\r\u001b[K     |████████████████████████████▊   | 122kB 13.5MB/s eta 0:00:01\r\u001b[K     |███████████████████████████████ | 133kB 13.5MB/s eta 0:00:01\r\u001b[K     |████████████████████████████████| 143kB 13.5MB/s \n",
            "\u001b[?25hRequirement already satisfied: torch in /usr/local/lib/python3.7/dist-packages (from poutyne) (1.8.1+cu101)\n",
            "Requirement already satisfied: numpy in /usr/local/lib/python3.7/dist-packages (from poutyne) (1.19.5)\n",
            "Requirement already satisfied: typing-extensions in /usr/local/lib/python3.7/dist-packages (from torch->poutyne) (3.7.4.3)\n",
            "Installing collected packages: poutyne\n",
            "Successfully installed poutyne-1.5\n",
            "Collecting wget\n",
            "  Downloading https://files.pythonhosted.org/packages/47/6a/62e288da7bcda82b935ff0c6cfe542970f04e29c756b0e147251b2fb251f/wget-3.2.zip\n",
            "Building wheels for collected packages: wget\n",
            "  Building wheel for wget (setup.py) ... \u001b[?25l\u001b[?25hdone\n",
            "  Created wheel for wget: filename=wget-3.2-cp37-none-any.whl size=9681 sha256=921e998effcf24b3d815bc997f878457874d6cd8fc80e159a52c6fd59c75c6f8\n",
            "  Stored in directory: /root/.cache/pip/wheels/40/15/30/7d8f7cea2902b4db79e3fea550d7d7b85ecb27ef992b618f3f\n",
            "Successfully built wget\n",
            "Installing collected packages: wget\n",
            "Successfully installed wget-3.2\n"
          ],
          "name": "stdout"
        }
      ]
    },
    {
      "cell_type": "markdown",
      "metadata": {
        "id": "pUiFHqwBEBBx"
      },
      "source": [
        "Let’s import all the needed packages."
      ]
    },
    {
      "cell_type": "code",
      "metadata": {
        "id": "e3vspk0bpkbn"
      },
      "source": [
        "%matplotlib inline\n",
        "%reload_ext autoreload\n",
        "%autoreload 2\n",
        "\n",
        "import math\n",
        "import os\n",
        "import matplotlib.pyplot as plt\n",
        "import numpy as np\n",
        "import pandas as pd\n",
        "import wget\n",
        "import zipfile\n",
        "import cv2\n",
        "from natsort import natsorted\n",
        "import torch\n",
        "import torch.nn as nn\n",
        "import torch.nn.functional as F\n",
        "import torch.optim as optim\n",
        "from torch.autograd import Variable\n",
        "import torchvision.datasets as datasets\n",
        "import torchvision.models as models\n",
        "import torchvision.transforms as tfms\n",
        "from poutyne import set_seeds, Model, ModelCheckpoint, CSVLogger, Experiment, StepLR\n",
        "from torch.utils.data import DataLoader, Subset, Dataset\n",
        "from torchvision.utils import make_grid"
      ],
      "execution_count": 2,
      "outputs": []
    },
    {
      "cell_type": "markdown",
      "metadata": {
        "id": "NTIP6sKzENto"
      },
      "source": [
        "\n",
        "## Training Constants"
      ]
    },
    {
      "cell_type": "code",
      "metadata": {
        "colab": {
          "base_uri": "https://localhost:8080/"
        },
        "id": "vSfN1KvNpkgh",
        "outputId": "3a3474a8-b804-47b9-8f98-d8d331ff2ecc"
      },
      "source": [
        "num_epochs = 15\n",
        "learning_rate = 0.01\n",
        "batch_size = 32\n",
        "image_size = 224\n",
        "valid_split_percent = 0.1\n",
        "momentum = 0.5\n",
        "set_seeds(42)\n",
        "imagenet_mean = [0.485, 0.456, 0.406]  # mean of the ImageNet dataset for normalizing \n",
        "imagenet_std = [0.229, 0.224, 0.225]  # std of the ImageNet dataset for normalizing\n",
        "device = torch.device('cuda' if torch.cuda.is_available() else 'cpu')\n",
        "print('The running processor is...', device) "
      ],
      "execution_count": 3,
      "outputs": [
        {
          "output_type": "stream",
          "text": [
            "The running processor is... cuda\n"
          ],
          "name": "stdout"
        }
      ]
    },
    {
      "cell_type": "markdown",
      "metadata": {
        "id": "-9boLeZbaHVl"
      },
      "source": [
        "## CelebA Dataset"
      ]
    },
    {
      "cell_type": "markdown",
      "metadata": {
        "id": "rFVlGoTBaMbU"
      },
      "source": [
        "We are going to use CelebA dataset for this experiment. The CelebA \n",
        "dataset  is a large-scale face attributes dataset which can be employed as the training and test sets for the following computer vision tasks: face attribute recognition, face detection, landmark (or facial part) localization, and face editing & synthesis."
      ]
    },
    {
      "cell_type": "markdown",
      "metadata": {
        "id": "QhGYzr9-TgR7"
      },
      "source": [
        "## Fetching data \n"
      ]
    },
    {
      "cell_type": "markdown",
      "metadata": {
        "id": "nrTAzlJVxc_M"
      },
      "source": [
        "The section below consists of a few lines of codes that help us download celebA dataset from a public web source and unzip them."
      ]
    },
    {
      "cell_type": "code",
      "metadata": {
        "id": "n5Uw2sazRuZb"
      },
      "source": [
        "data_root = 'data/celeba'\n",
        "# Path to folder with the dataset\n",
        "dataset_folder = f'{data_root}/img_align_celeba'\n",
        "os.makedirs(data_root, exist_ok=True)\n",
        "os.makedirs(dataset_folder, exist_ok=True)\n",
        "\n",
        "# URL for the CelebA dataset (aligned images, attributes, landmasrks)\n",
        "url = 'https://graal.ift.ulaval.ca/public/celeba/img_align_celeba.zip'\n",
        "attr_url = 'https://graal.ift.ulaval.ca/public/celeba/list_attr_celeba.txt'\n",
        "land_mark_url = 'https://graal.ift.ulaval.ca/public/celeba/list_landmarks_align_celeba.txt'\n",
        "\n",
        "# Path to download the dataset to\n",
        "download_path = f'{data_root}/img_align_celeba.zip'\n",
        "land_mark_path = f'{data_root}/list_landmarks_align_celeba.txt'\n",
        "attr_path = f'{data_root}/list_attr_celeba.txt'\n",
        "\n",
        "# Download the dataset from the source\n",
        "wget.download(url,download_path)\n",
        "wget.download(land_mark_url,land_mark_path)\n",
        "wget.download(attr_url,attr_path)\n",
        "\n",
        "# Path to folder with the dataset\n",
        "dataset_folder = f'{data_root}/img_align_celeba'\n",
        "os.makedirs(dataset_folder, exist_ok=True)\n",
        "\n",
        "# Unzip the downloaded file \n",
        "with zipfile.ZipFile(download_path, 'r') as ziphandler:\n",
        "  ziphandler.extractall(dataset_folder)"
      ],
      "execution_count": 4,
      "outputs": []
    },
    {
      "cell_type": "markdown",
      "metadata": {
        "id": "UnmjepBnTq3_"
      },
      "source": [
        "## Create a custom dataset class"
      ]
    },
    {
      "cell_type": "markdown",
      "metadata": {
        "id": "4zbpOQJfyY2A"
      },
      "source": [
        "As we are going to implement a multi-task problem by a single CNN, we should provide the CNN with the ground truth in a proper way. Here, we have two different tasks: classification and regression. In the classification task, the goal is to identify the gender. The labels of the gender for each image are saved in the `list_attr_celeba.txt` file, in which 1 stands for male and -1 for female. Since we consider the loss of both tasks simultaneously, we scale all target values to the range of [0,1]. Hence, the gender labels will be changed as well, 1 for male and 0 for female. For the localization part, the coordinates of the eyes (Left and Right) are provided in the `list_landmarks_align_celeba.txt` file. In addition to scaling the number to the range of [0,1], we also need to rescale the coordinates to the image's new size (224,224)."
      ]
    },
    {
      "cell_type": "code",
      "metadata": {
        "id": "5M-syCA4Ry24"
      },
      "source": [
        "class CelebADataset(Dataset):\n",
        "  def __init__(self, root_dir, transform=None):\n",
        "    img_folder = data_root + '/img_align_celeba/img_align_celeba'\n",
        "    image_names = os.listdir(img_folder)\n",
        "    self.root_dir = img_folder\n",
        "    self.data_root = data_root\n",
        "    self.transform = transform \n",
        "    self.image_names = natsorted(image_names)\n",
        "\n",
        "  def __len__(self): \n",
        "    return len(self.image_names)\n",
        "\n",
        "  def __getitem__(self, idx):\n",
        "    img_path = os.path.join(self.root_dir, self.image_names[idx])\n",
        "    img = cv2.imread(img_path)\n",
        "    w, h, _ = img.shape\n",
        "    img = cv2.resize(img, (image_size, image_size))\n",
        "\n",
        "    # Apply transformations to the image\n",
        "    if self.transform:\n",
        "      img = self.transform(img)\n",
        "\n",
        "    img.requires_grad=True\n",
        "    land_mark = open(f'{self.data_root}/list_landmarks_align_celeba.txt','r').readlines()[idx+2]\n",
        "    land_mark_contents = land_mark.split(' ')\n",
        "    land_mark_contents = [x for x in land_mark_contents if x]\n",
        "    x_L, y_L ,x_R, y_R = int(land_mark_contents[1]), int(land_mark_contents[2]), int(land_mark_contents[3]), int(land_mark_contents[4])\n",
        "    w_scale = image_size/w\n",
        "    h_scale = image_size/h\n",
        "    x_L, x_R = (x_L*h_scale/h), (x_R*h_scale/h)  #rescaling for the size of (224,224) and finaly to the range of [0,1]\n",
        "    y_L, y_R = (y_L*w_scale/w), (y_R*w_scale/w)\n",
        "    attr = open(f'{self.data_root}/list_attr_celeba.txt','r').readlines()[idx+2]\n",
        "    attr_contents = attr.split(' ')\n",
        "    attr_contents = [x for x in attr_contents if x]\n",
        "    gender = attr_contents[21]\n",
        "    gender = int((int(gender)+1)/2)\n",
        "    return img, (torch.tensor(gender), torch.tensor([x_L, y_L, x_R, y_R], requires_grad=True),[w, h])\n",
        "\n",
        "transform = tfms.Compose([\n",
        "    tfms.ToTensor(),\n",
        "    tfms.Normalize(imagenet_mean, imagenet_std)\n",
        "])\n",
        "\n",
        "celeba_dataset = CelebADataset(data_root, transform)\n",
        "celeba_dataloader = DataLoader(celeba_dataset, batch_size=batch_size, shuffle=True)\n",
        "full_dataset_length = len(celeba_dataset)\n",
        "indices = list(np.arange(full_dataset_length))\n",
        "np.random.shuffle(indices)\n",
        "train_indices = indices[math.floor(full_dataset_length * valid_split_percent):]\n",
        "valid_indices = indices[:math.floor(full_dataset_length * valid_split_percent)]\n",
        "train_dataset = Subset(celeba_dataset, train_indices)\n",
        "valid_dataset = Subset(celeba_dataset, valid_indices)\n",
        "train_dataloader = DataLoader(train_dataset, batch_size=batch_size, shuffle=True)\n",
        "valid_dataloader = DataLoader(valid_dataset, batch_size=batch_size, shuffle=False)"
      ],
      "execution_count": 5,
      "outputs": []
    },
    {
      "cell_type": "markdown",
      "metadata": {
        "id": "_O4N5rXz1dZq"
      },
      "source": [
        "Here we can see how each dataset sample looks like:"
      ]
    },
    {
      "cell_type": "code",
      "metadata": {
        "colab": {
          "base_uri": "https://localhost:8080/"
        },
        "id": "OKBFCZD01qoJ",
        "outputId": "aea2778e-0514-4aa1-ea7b-a9d10422f216"
      },
      "source": [
        "print (train_dataset[0])"
      ],
      "execution_count": 6,
      "outputs": [
        {
          "output_type": "stream",
          "text": [
            "(tensor([[[-0.4226, -0.4226, -0.4226,  ...,  0.5536,  0.5536,  0.5536],\n",
            "         [-0.4226, -0.4226, -0.4226,  ...,  0.5536,  0.5536,  0.5536],\n",
            "         [-0.4226, -0.4226, -0.4226,  ...,  0.5536,  0.5536,  0.5536],\n",
            "         ...,\n",
            "         [-1.7583, -1.7240, -1.6898,  ..., -0.8678, -0.9020, -0.9192],\n",
            "         [-1.7754, -1.7754, -1.7583,  ..., -0.9192, -0.9192, -0.9363],\n",
            "         [-1.8439, -1.8268, -1.8097,  ..., -0.9192, -0.9192, -0.9363]],\n",
            "\n",
            "        [[-0.8102, -0.8102, -0.8102,  ...,  0.4153,  0.4153,  0.4153],\n",
            "         [-0.8102, -0.8102, -0.8102,  ...,  0.4153,  0.4153,  0.4153],\n",
            "         [-0.8102, -0.8102, -0.8102,  ...,  0.4153,  0.4153,  0.4153],\n",
            "         ...,\n",
            "         [-1.7906, -1.7206, -1.6681,  ..., -0.3200, -0.3025, -0.3025],\n",
            "         [-1.7381, -1.7206, -1.6856,  ..., -0.3200, -0.2850, -0.2850],\n",
            "         [-1.7381, -1.7206, -1.6856,  ..., -0.3200, -0.2850, -0.2850]],\n",
            "\n",
            "        [[-1.0550, -1.0550, -1.0550,  ...,  0.3568,  0.3568,  0.3568],\n",
            "         [-1.0550, -1.0550, -1.0550,  ...,  0.3568,  0.3568,  0.3568],\n",
            "         [-1.0550, -1.0550, -1.0550,  ...,  0.3568,  0.3568,  0.3568],\n",
            "         ...,\n",
            "         [-1.7173, -1.6476, -1.5604,  ...,  0.8099,  0.8099,  0.8099],\n",
            "         [-1.5779, -1.5604, -1.5081,  ...,  0.7925,  0.8274,  0.8274],\n",
            "         [-1.5430, -1.5256, -1.4733,  ...,  0.7925,  0.8274,  0.8274]]],\n",
            "       requires_grad=True), (tensor(0), tensor([0.4878, 0.5232, 0.7635, 0.5279], requires_grad=True), [218, 178]))\n"
          ],
          "name": "stdout"
        }
      ]
    },
    {
      "cell_type": "code",
      "metadata": {
        "id": "eaZUdAsRgrd9"
      },
      "source": [
        "# this cell will be removed (just a smaller sized dataset to find hyper parameters)\n",
        "z = Subset(celeba_dataset, np.arange(1,100))\n",
        "z1 = Subset(celeba_dataset, np.arange(1,300))\n",
        "train_dataloader = DataLoader(z1, batch_size=batch_size, shuffle=True)\n",
        "valid_dataloader = DataLoader(z, batch_size=batch_size, shuffle=True)"
      ],
      "execution_count": 7,
      "outputs": []
    },
    {
      "cell_type": "markdown",
      "metadata": {
        "id": "tFQpqD3hWcNX"
      },
      "source": [
        "Here, we can see an example from the training dataset. It shows an image of a person, printing the gender and also showing the location of the eyes."
      ]
    },
    {
      "cell_type": "code",
      "metadata": {
        "colab": {
          "base_uri": "https://localhost:8080/",
          "height": 266
        },
        "id": "ZgVduT00VWis",
        "outputId": "a87c19a1-b0f4-421e-be4c-d7e8626004df"
      },
      "source": [
        "sample_number = 16\n",
        "image = train_dataset[sample_number][0]\n",
        "image = image.permute(1,2,0).detach().numpy()\n",
        "image_rgb = cv2.cvtColor(np.float32(image), cv2.COLOR_BGR2RGB)\n",
        "image_rgb = image_rgb * imagenet_std + imagenet_mean\n",
        "Gender = 'male' if int(train_dataset[sample_number][1][0])==1 else 'female'\n",
        "print('Gender is: ', Gender)\n",
        "w, h = train_dataset[sample_number][1][2]\n",
        "(x1, y1) = train_dataset[sample_number][1][1][0:2]\n",
        "(x2, y2) = train_dataset[sample_number][1][1][2:4]\n",
        "x1, x2 = int(x1*h), int(x2*h)\n",
        "y1, y2 = int(y1*w), int(y2*w)\n",
        "image_rgb\t= cv2.drawMarker(image_rgb, (x1,y1), (0,255,0))\n",
        "image_rgb\t= cv2.drawMarker(image_rgb, (x2,y2), (0,255,0))\n",
        "image_rgb = np.clip(image_rgb , 0, 1)\n",
        "plt.imshow(image_rgb)\n",
        "plt.axis('off')\n",
        "plt.show()"
      ],
      "execution_count": 8,
      "outputs": [
        {
          "output_type": "stream",
          "text": [
            "Gender is:  female\n"
          ],
          "name": "stdout"
        },
        {
          "output_type": "display_data",
          "data": {
            "image/png": "[encoded data removed]",
            "text/plain": [
              "<Figure size 432x288 with 1 Axes>"
            ]
          },
          "metadata": {
            "tags": [],
            "needs_background": "light"
          }
        }
      ]
    },
    {
      "cell_type": "markdown",
      "metadata": {
        "id": "dz7aGIxCYOOP"
      },
      "source": [
        "## Network"
      ]
    },
    {
      "cell_type": "markdown",
      "metadata": {
        "id": "J6DpjTWLtn2c"
      },
      "source": [
        "Below, we define a new class, named 'ClassifierLocalizer, which accepts a pre-trained CNN and changes its last fully connected layer to be proper for the two task problem. The new fully connected layer contains 6 neurons, 2 for the classification task (male or female) and 4 for the localization task (x and y for the left and right eyes). Moreover, to put the location results on the same scale as the class scores, we apply the sigmoid function to the neurons assigned for the localization task."
      ]
    },
    {
      "cell_type": "code",
      "metadata": {
        "id": "9PP6UwOsJRLX"
      },
      "source": [
        "class ClassifierLocalizer(nn.Module):\n",
        "    def __init__(self, model_name, num_classes=2):\n",
        "        super(ClassifierLocalizer, self).__init__()\n",
        "        self.num_classes = num_classes\n",
        "        \n",
        "        # create cnn model\n",
        "        model = getattr(models, model_name)(pretrained=True)\n",
        "        \n",
        "        # remove fc layers and add a new fc layer\n",
        "        num_features = model.fc.in_features\n",
        "        model.fc = nn.Linear(num_features, 6) # classifier + localizer\n",
        "        self.model = model\n",
        "    \n",
        "    def forward(self, x):\n",
        "        x = self.model(x)                    # extract features from CNN\n",
        "        scores = x[:, :self.num_classes]     # class scores\n",
        "        coords = x[:, self.num_classes:]     # coordinates\n",
        "        return [scores, torch.sigmoid(coords)]   # sigmoid output is in the range of [0, 1]"
      ],
      "execution_count": 9,
      "outputs": []
    },
    {
      "cell_type": "markdown",
      "metadata": {
        "id": "WHeo0eIEy36f"
      },
      "source": [
        "Regarding the complexity of the problem, the number of the samples in the training dataset, and the similarity of the training dataset to the ImageNet dataset, we may decide to freeze some of the layers. In our current example, based on the mentioned factors, we freeze just the last fully connected layer."
      ]
    },
    {
      "cell_type": "code",
      "metadata": {
        "id": "irne02N9vK9e",
        "colab": {
          "base_uri": "https://localhost:8080/",
          "height": 1000,
          "referenced_widgets": [
            "98f0534faf2945ab8de408c3576ed6e9",
            "9f244f2f52584c39be6b7c36ac147694",
            "965105caa21d47369998a79836b91b2b",
            "9d20bb92dbc74938b32471125c69f70e",
            "41ff9cb6e5ef45479c29ece978ca8171",
            "79ef64dc3fc04ad1a4165d4016379515",
            "2f5b2c06f3ef491691f2590f5893b997",
            "7772056197574b90b8fd72cf29a06952"
          ]
        },
        "outputId": "ad53db95-0005-4396-8aa5-b8aec4df13da"
      },
      "source": [
        "network = ClassifierLocalizer(model_name='resnet18')\n",
        "\n",
        "def freeze_weights(network):\n",
        "    for name, param in network.named_parameters():\n",
        "        if not name.startswith('fc.'):\n",
        "            param.requires_grad = False\n",
        "\n",
        "freeze_weights(network)\n",
        "print(network)"
      ],
      "execution_count": 10,
      "outputs": [
        {
          "output_type": "stream",
          "text": [
            "Downloading: \"https://download.pytorch.org/models/resnet18-5c106cde.pth\" to /root/.cache/torch/hub/checkpoints/resnet18-5c106cde.pth\n"
          ],
          "name": "stderr"
        },
        {
          "output_type": "display_data",
          "data": {
            "application/vnd.jupyter.widget-view+json": {
              "model_id": "98f0534faf2945ab8de408c3576ed6e9",
              "version_minor": 0,
              "version_major": 2
            },
            "text/plain": [
              "HBox(children=(FloatProgress(value=0.0, max=46827520.0), HTML(value='')))"
            ]
          },
          "metadata": {
            "tags": []
          }
        },
        {
          "output_type": "stream",
          "text": [
            "\n",
            "ClassifierLocalizer(\n",
            "  (model): ResNet(\n",
            "    (conv1): Conv2d(3, 64, kernel_size=(7, 7), stride=(2, 2), padding=(3, 3), bias=False)\n",
            "    (bn1): BatchNorm2d(64, eps=1e-05, momentum=0.1, affine=True, track_running_stats=True)\n",
            "    (relu): ReLU(inplace=True)\n",
            "    (maxpool): MaxPool2d(kernel_size=3, stride=2, padding=1, dilation=1, ceil_mode=False)\n",
            "    (layer1): Sequential(\n",
            "      (0): BasicBlock(\n",
            "        (conv1): Conv2d(64, 64, kernel_size=(3, 3), stride=(1, 1), padding=(1, 1), bias=False)\n",
            "        (bn1): BatchNorm2d(64, eps=1e-05, momentum=0.1, affine=True, track_running_stats=True)\n",
            "        (relu): ReLU(inplace=True)\n",
            "        (conv2): Conv2d(64, 64, kernel_size=(3, 3), stride=(1, 1), padding=(1, 1), bias=False)\n",
            "        (bn2): BatchNorm2d(64, eps=1e-05, momentum=0.1, affine=True, track_running_stats=True)\n",
            "      )\n",
            "      (1): BasicBlock(\n",
            "        (conv1): Conv2d(64, 64, kernel_size=(3, 3), stride=(1, 1), padding=(1, 1), bias=False)\n",
            "        (bn1): BatchNorm2d(64, eps=1e-05, momentum=0.1, affine=True, track_running_stats=True)\n",
            "        (relu): ReLU(inplace=True)\n",
            "        (conv2): Conv2d(64, 64, kernel_size=(3, 3), stride=(1, 1), padding=(1, 1), bias=False)\n",
            "        (bn2): BatchNorm2d(64, eps=1e-05, momentum=0.1, affine=True, track_running_stats=True)\n",
            "      )\n",
            "    )\n",
            "    (layer2): Sequential(\n",
            "      (0): BasicBlock(\n",
            "        (conv1): Conv2d(64, 128, kernel_size=(3, 3), stride=(2, 2), padding=(1, 1), bias=False)\n",
            "        (bn1): BatchNorm2d(128, eps=1e-05, momentum=0.1, affine=True, track_running_stats=True)\n",
            "        (relu): ReLU(inplace=True)\n",
            "        (conv2): Conv2d(128, 128, kernel_size=(3, 3), stride=(1, 1), padding=(1, 1), bias=False)\n",
            "        (bn2): BatchNorm2d(128, eps=1e-05, momentum=0.1, affine=True, track_running_stats=True)\n",
            "        (downsample): Sequential(\n",
            "          (0): Conv2d(64, 128, kernel_size=(1, 1), stride=(2, 2), bias=False)\n",
            "          (1): BatchNorm2d(128, eps=1e-05, momentum=0.1, affine=True, track_running_stats=True)\n",
            "        )\n",
            "      )\n",
            "      (1): BasicBlock(\n",
            "        (conv1): Conv2d(128, 128, kernel_size=(3, 3), stride=(1, 1), padding=(1, 1), bias=False)\n",
            "        (bn1): BatchNorm2d(128, eps=1e-05, momentum=0.1, affine=True, track_running_stats=True)\n",
            "        (relu): ReLU(inplace=True)\n",
            "        (conv2): Conv2d(128, 128, kernel_size=(3, 3), stride=(1, 1), padding=(1, 1), bias=False)\n",
            "        (bn2): BatchNorm2d(128, eps=1e-05, momentum=0.1, affine=True, track_running_stats=True)\n",
            "      )\n",
            "    )\n",
            "    (layer3): Sequential(\n",
            "      (0): BasicBlock(\n",
            "        (conv1): Conv2d(128, 256, kernel_size=(3, 3), stride=(2, 2), padding=(1, 1), bias=False)\n",
            "        (bn1): BatchNorm2d(256, eps=1e-05, momentum=0.1, affine=True, track_running_stats=True)\n",
            "        (relu): ReLU(inplace=True)\n",
            "        (conv2): Conv2d(256, 256, kernel_size=(3, 3), stride=(1, 1), padding=(1, 1), bias=False)\n",
            "        (bn2): BatchNorm2d(256, eps=1e-05, momentum=0.1, affine=True, track_running_stats=True)\n",
            "        (downsample): Sequential(\n",
            "          (0): Conv2d(128, 256, kernel_size=(1, 1), stride=(2, 2), bias=False)\n",
            "          (1): BatchNorm2d(256, eps=1e-05, momentum=0.1, affine=True, track_running_stats=True)\n",
            "        )\n",
            "      )\n",
            "      (1): BasicBlock(\n",
            "        (conv1): Conv2d(256, 256, kernel_size=(3, 3), stride=(1, 1), padding=(1, 1), bias=False)\n",
            "        (bn1): BatchNorm2d(256, eps=1e-05, momentum=0.1, affine=True, track_running_stats=True)\n",
            "        (relu): ReLU(inplace=True)\n",
            "        (conv2): Conv2d(256, 256, kernel_size=(3, 3), stride=(1, 1), padding=(1, 1), bias=False)\n",
            "        (bn2): BatchNorm2d(256, eps=1e-05, momentum=0.1, affine=True, track_running_stats=True)\n",
            "      )\n",
            "    )\n",
            "    (layer4): Sequential(\n",
            "      (0): BasicBlock(\n",
            "        (conv1): Conv2d(256, 512, kernel_size=(3, 3), stride=(2, 2), padding=(1, 1), bias=False)\n",
            "        (bn1): BatchNorm2d(512, eps=1e-05, momentum=0.1, affine=True, track_running_stats=True)\n",
            "        (relu): ReLU(inplace=True)\n",
            "        (conv2): Conv2d(512, 512, kernel_size=(3, 3), stride=(1, 1), padding=(1, 1), bias=False)\n",
            "        (bn2): BatchNorm2d(512, eps=1e-05, momentum=0.1, affine=True, track_running_stats=True)\n",
            "        (downsample): Sequential(\n",
            "          (0): Conv2d(256, 512, kernel_size=(1, 1), stride=(2, 2), bias=False)\n",
            "          (1): BatchNorm2d(512, eps=1e-05, momentum=0.1, affine=True, track_running_stats=True)\n",
            "        )\n",
            "      )\n",
            "      (1): BasicBlock(\n",
            "        (conv1): Conv2d(512, 512, kernel_size=(3, 3), stride=(1, 1), padding=(1, 1), bias=False)\n",
            "        (bn1): BatchNorm2d(512, eps=1e-05, momentum=0.1, affine=True, track_running_stats=True)\n",
            "        (relu): ReLU(inplace=True)\n",
            "        (conv2): Conv2d(512, 512, kernel_size=(3, 3), stride=(1, 1), padding=(1, 1), bias=False)\n",
            "        (bn2): BatchNorm2d(512, eps=1e-05, momentum=0.1, affine=True, track_running_stats=True)\n",
            "      )\n",
            "    )\n",
            "    (avgpool): AdaptiveAvgPool2d(output_size=(1, 1))\n",
            "    (fc): Linear(in_features=512, out_features=6, bias=True)\n",
            "  )\n",
            ")\n"
          ],
          "name": "stdout"
        }
      ]
    },
    {
      "cell_type": "code",
      "metadata": {
        "id": "2E4XDkyM7kmi"
      },
      "source": [
        "network = ClassifierLocalizer(model_name='resnet18')  # network without freezing any layer."
      ],
      "execution_count": 11,
      "outputs": []
    },
    {
      "cell_type": "markdown",
      "metadata": {
        "id": "8482vAprYWgI"
      },
      "source": [
        "## Loss function"
      ]
    },
    {
      "cell_type": "markdown",
      "metadata": {
        "id": "DAa7rSqC3VJs"
      },
      "source": [
        "As we discussed before, we have two different tasks in this example. These tasks need different loss functions; Cross-Entropy loss for the classification and Mean Square Error loss for the regression. Below, we define a new loss function class that sums both losses to considers them simultaneously. However, as the regression is relatively a harder task, we apply a higher weight to MSEloss."
      ]
    },
    {
      "cell_type": "code",
      "metadata": {
        "id": "oCrU_k18J2Ps"
      },
      "source": [
        "class ClassificationRegressionLoss(nn.Module):\n",
        "    def __init__(self):\n",
        "        super(ClassificationRegressionLoss, self).__init__()\n",
        "        self.ce_loss = nn.CrossEntropyLoss() # size_average=False\n",
        "        self.mse_loss = nn.MSELoss()\n",
        "        \n",
        "    def forward(self, y_pred, y_true):\n",
        "        loss_cls = self.ce_loss(y_pred[0], y_true[0]) # Cross Entropy Error (for classification)\n",
        "        loss_reg = self.mse_loss(y_pred[1], y_true[ 1]) # Mean Squared Error (for landmarks)\n",
        "        total_loss = loss_reg + loss_cls\n",
        "        return total_loss"
      ],
      "execution_count": 12,
      "outputs": []
    },
    {
      "cell_type": "markdown",
      "metadata": {
        "id": "e-ujQ315X9ku"
      },
      "source": [
        "## Training"
      ]
    },
    {
      "cell_type": "code",
      "metadata": {
        "colab": {
          "base_uri": "https://localhost:8080/"
        },
        "id": "IqGF7KaxcgI3",
        "outputId": "affc1164-1226-4a79-b35d-98b1031e63d6"
      },
      "source": [
        "optimizer = optim.Adam(network.parameters(), lr=0.0001, weight_decay=0)\n",
        "loss_function = ClassificationRegressionLoss()\n",
        "#Step_Learning_Rate = StepLR(step_size=2 , gamma=0.1, last_epoch=-1, verbose=False)\n",
        "exp = Experiment('./two_task_example', network, optimizer=optimizer, loss_function=loss_function, device=\"all\")\n",
        "exp.train(train_dataloader, valid_dataloader, epochs=num_epochs)"
      ],
      "execution_count": 13,
      "outputs": [
        {
          "output_type": "stream",
          "text": [
            "Epoch:  1/15 Train steps: 10 Val steps: 4 41.31s loss: 0.445416 val_loss: 0.065720\n",
            "Epoch 1: val_loss improved from inf to 0.06572, saving file to ./two_task_example/checkpoint_epoch_1.ckpt\n",
            "Epoch:  2/15 Train steps: 10 Val steps: 4 41.06s loss: 0.055792 val_loss: 0.018242\n",
            "Epoch 2: val_loss improved from 0.06572 to 0.01824, saving file to ./two_task_example/checkpoint_epoch_2.ckpt\n",
            "Epoch:  3/15 Train steps: 10 Val steps: 4 41.88s loss: 0.017994 val_loss: 0.006965\n",
            "Epoch 3: val_loss improved from 0.01824 to 0.00697, saving file to ./two_task_example/checkpoint_epoch_3.ckpt\n",
            "Epoch:  4/15 Train steps: 10 Val steps: 4 42.17s loss: 0.008641 val_loss: 0.005509\n",
            "Epoch 4: val_loss improved from 0.00697 to 0.00551, saving file to ./two_task_example/checkpoint_epoch_4.ckpt\n",
            "Epoch:  5/15 Train steps: 10 Val steps: 4 42.27s loss: 0.006114 val_loss: 0.003416\n",
            "Epoch 5: val_loss improved from 0.00551 to 0.00342, saving file to ./two_task_example/checkpoint_epoch_5.ckpt\n",
            "Epoch:  6/15 Train steps: 10 Val steps: 4 40.99s loss: 0.005021 val_loss: 0.002237\n",
            "Epoch 6: val_loss improved from 0.00342 to 0.00224, saving file to ./two_task_example/checkpoint_epoch_6.ckpt\n",
            "Epoch:  7/15 Train steps: 10 Val steps: 4 40.96s loss: 0.004142 val_loss: 0.001677\n",
            "Epoch 7: val_loss improved from 0.00224 to 0.00168, saving file to ./two_task_example/checkpoint_epoch_7.ckpt\n",
            "Epoch:  8/15 Train steps: 10 Val steps: 4 41.15s loss: 0.002171 val_loss: 0.001298\n",
            "Epoch 8: val_loss improved from 0.00168 to 0.00130, saving file to ./two_task_example/checkpoint_epoch_8.ckpt\n",
            "Epoch:  9/15 Train steps: 10 Val steps: 4 40.82s loss: 0.001414 val_loss: 0.001002\n",
            "Epoch 9: val_loss improved from 0.00130 to 0.00100, saving file to ./two_task_example/checkpoint_epoch_9.ckpt\n",
            "Epoch: 10/15 Train steps: 10 Val steps: 4 40.73s loss: 0.001868 val_loss: 0.000793\n",
            "Epoch 10: val_loss improved from 0.00100 to 0.00079, saving file to ./two_task_example/checkpoint_epoch_10.ckpt\n",
            "Epoch: 11/15 Train steps: 10 Val steps: 4 40.58s loss: 0.001588 val_loss: 0.000673\n",
            "Epoch 11: val_loss improved from 0.00079 to 0.00067, saving file to ./two_task_example/checkpoint_epoch_11.ckpt\n",
            "Epoch: 12/15 Train steps: 10 Val steps: 4 40.79s loss: 0.000940 val_loss: 0.000618\n",
            "Epoch 12: val_loss improved from 0.00067 to 0.00062, saving file to ./two_task_example/checkpoint_epoch_12.ckpt\n",
            "Epoch: 13/15 Train steps: 10 Val steps: 4 40.79s loss: 0.001363 val_loss: 0.000538\n",
            "Epoch 13: val_loss improved from 0.00062 to 0.00054, saving file to ./two_task_example/checkpoint_epoch_13.ckpt\n",
            "Epoch: 14/15 Train steps: 10 Val steps: 4 40.91s loss: 0.001055 val_loss: 0.000464\n",
            "Epoch 14: val_loss improved from 0.00054 to 0.00046, saving file to ./two_task_example/checkpoint_epoch_14.ckpt\n",
            "Epoch: 15/15 Train steps: 10 Val steps: 4 40.73s loss: 0.001442 val_loss: 0.000415\n",
            "Epoch 15: val_loss improved from 0.00046 to 0.00042, saving file to ./two_task_example/checkpoint_epoch_15.ckpt\n",
            "Restoring model from ./two_task_example/checkpoint_epoch_15.ckpt\n"
          ],
          "name": "stdout"
        },
        {
          "output_type": "execute_result",
          "data": {
            "text/plain": [
              "[{'epoch': 1,\n",
              "  'loss': 0.4454163425542838,\n",
              "  'time': 41.313720158000024,\n",
              "  'val_loss': 0.06571958093631147},\n",
              " {'epoch': 2,\n",
              "  'loss': 0.05579190145567508,\n",
              "  'time': 41.06403929200002,\n",
              "  'val_loss': 0.018241822484391507},\n",
              " {'epoch': 3,\n",
              "  'loss': 0.017994123856758193,\n",
              "  'time': 41.87640490700005,\n",
              "  'val_loss': 0.006965236978210283},\n",
              " {'epoch': 4,\n",
              "  'loss': 0.008641207005118447,\n",
              "  'time': 42.17297467399999,\n",
              "  'val_loss': 0.00550889793425949},\n",
              " {'epoch': 5,\n",
              "  'loss': 0.006114348949845818,\n",
              "  'time': 42.265683317000025,\n",
              "  'val_loss': 0.003416255713826177},\n",
              " {'epoch': 6,\n",
              "  'loss': 0.0050208727551941884,\n",
              "  'time': 40.99299721500006,\n",
              "  'val_loss': 0.002237306550295666},\n",
              " {'epoch': 7,\n",
              "  'loss': 0.004141935542923551,\n",
              "  'time': 40.957000461999996,\n",
              "  'val_loss': 0.0016767869661138816},\n",
              " {'epoch': 8,\n",
              "  'loss': 0.0021708979470698928,\n",
              "  'time': 41.15089874299997,\n",
              "  'val_loss': 0.0012979068607562269},\n",
              " {'epoch': 9,\n",
              "  'loss': 0.0014142533515059828,\n",
              "  'time': 40.82482668300008,\n",
              "  'val_loss': 0.0010024735455946864},\n",
              " {'epoch': 10,\n",
              "  'loss': 0.001868469366510975,\n",
              "  'time': 40.72763868599998,\n",
              "  'val_loss': 0.0007928985869511962},\n",
              " {'epoch': 11,\n",
              "  'loss': 0.001588259880854608,\n",
              "  'time': 40.57691176399999,\n",
              "  'val_loss': 0.0006725203608647177},\n",
              " {'epoch': 12,\n",
              "  'loss': 0.0009398825426140557,\n",
              "  'time': 40.78728787,\n",
              "  'val_loss': 0.0006183475112504881},\n",
              " {'epoch': 13,\n",
              "  'loss': 0.0013632554814755218,\n",
              "  'time': 40.79355607100001,\n",
              "  'val_loss': 0.0005383087587284131},\n",
              " {'epoch': 14,\n",
              "  'loss': 0.0010550574241455233,\n",
              "  'time': 40.914678795999976,\n",
              "  'val_loss': 0.0004639155986939905},\n",
              " {'epoch': 15,\n",
              "  'loss': 0.0014417245614195995,\n",
              "  'time': 40.731565718999946,\n",
              "  'val_loss': 0.0004151195490255369}]"
            ]
          },
          "metadata": {
            "tags": []
          },
          "execution_count": 13
        }
      ]
    },
    {
      "cell_type": "markdown",
      "metadata": {
        "id": "u533lDNqYjIa"
      },
      "source": [
        "## Evaluation"
      ]
    },
    {
      "cell_type": "markdown",
      "metadata": {
        "id": "0_J-NaYhYZg1"
      },
      "source": [
        "As you have also noticed from the training logs, we have achieved the best performance (considering the validation loss) at the 15th epoch. The weights of the network for the corresponding epoch have been automatically saved and we use these parameters to evaluate our algorithm visually. Hence,  we take advantage of evaluate function of Poutyne, and apply it to the validation dataset. It provides us the predictions as well as the ground-truth for comparison, in case of need."
      ]
    },
    {
      "cell_type": "code",
      "metadata": {
        "id": "Gqki-sYR3paj",
        "colab": {
          "base_uri": "https://localhost:8080/"
        },
        "outputId": "aa2b5119-e384-4ea7-a185-acb90c38374c"
      },
      "source": [
        "model = Model(network, optimizer, loss_function, device=device)\n",
        "model.load_weights('./two_task_example/checkpoint.ckpt')\n",
        "loss, predictions, Ground_Truth = model.evaluate_generator(valid_dataloader, return_pred=True, return_ground_truth=True)"
      ],
      "execution_count": 14,
      "outputs": [
        {
          "output_type": "stream",
          "text": [
            "Test steps: 4 9.91s test_loss: 0.000415                               \n"
          ],
          "name": "stdout"
        }
      ]
    },
    {
      "cell_type": "code",
      "metadata": {
        "id": "TZATeTicxV7c",
        "colab": {
          "base_uri": "https://localhost:8080/"
        },
        "outputId": "a457adda-9977-4745-dcfe-0edc76bd2496"
      },
      "source": [
        "logs = pd.read_csv('./two_task_example/log.tsv', sep='\\t')\n",
        "print(logs)"
      ],
      "execution_count": 15,
      "outputs": [
        {
          "output_type": "stream",
          "text": [
            "    epoch       time      lr      loss  val_loss\n",
            "0       1  41.313720  0.0001  0.445416  0.065720\n",
            "1       2  41.064039  0.0001  0.055792  0.018242\n",
            "2       3  41.876405  0.0001  0.017994  0.006965\n",
            "3       4  42.172975  0.0001  0.008641  0.005509\n",
            "4       5  42.265683  0.0001  0.006114  0.003416\n",
            "5       6  40.992997  0.0001  0.005021  0.002237\n",
            "6       7  40.957000  0.0001  0.004142  0.001677\n",
            "7       8  41.150899  0.0001  0.002171  0.001298\n",
            "8       9  40.824827  0.0001  0.001414  0.001002\n",
            "9      10  40.727639  0.0001  0.001868  0.000793\n",
            "10     11  40.576912  0.0001  0.001588  0.000673\n",
            "11     12  40.787288  0.0001  0.000940  0.000618\n",
            "12     13  40.793556  0.0001  0.001363  0.000538\n",
            "13     14  40.914679  0.0001  0.001055  0.000464\n",
            "14     15  40.731566  0.0001  0.001442  0.000415\n"
          ],
          "name": "stdout"
        }
      ]
    },
    {
      "cell_type": "code",
      "metadata": {
        "colab": {
          "base_uri": "https://localhost:8080/",
          "height": 281
        },
        "id": "kPgGEXLpBRqi",
        "outputId": "4f32c652-e57b-4b6d-d3b0-7e6977874f91"
      },
      "source": [
        "train_loss = logs.loss\n",
        "valid_loss = logs.val_loss\n",
        "plt.plot(train_loss)\n",
        "plt.plot(valid_loss)\n",
        "plt.legend(['train_loss','valid_loss'])\n",
        "plt.title('training and validation losses')\n",
        "plt.show()"
      ],
      "execution_count": 16,
      "outputs": [
        {
          "output_type": "display_data",
          "data": {
            "image/png": "[encoded data removed]",
            "text/plain": [
              "<Figure size 432x288 with 1 Axes>"
            ]
          },
          "metadata": {
            "tags": [],
            "needs_background": "light"
          }
        }
      ]
    },
    {
      "cell_type": "markdown",
      "metadata": {
        "id": "wrrndK5L7QSm"
      },
      "source": [
        "We can also evaluate the performance of the trained network (a network with the best weights) on any dataset, as below:"
      ]
    },
    {
      "cell_type": "code",
      "metadata": {
        "id": "PXqnJiev9nzW",
        "colab": {
          "base_uri": "https://localhost:8080/"
        },
        "outputId": "eaf25a74-3c8d-4b18-ae5f-a8055bb2772a"
      },
      "source": [
        "exp.test(valid_dataloader)"
      ],
      "execution_count": 17,
      "outputs": [
        {
          "output_type": "stream",
          "text": [
            "Found best checkpoint at epoch: 15\n",
            "lr: 0.0001, loss: 0.00144172, val_loss: 0.00041512\n",
            "Loading checkpoint ./two_task_example/checkpoint_epoch_15.ckpt\n",
            "Running test\n",
            "Test steps: 4 10.21s test_loss: 0.000415                              \n"
          ],
          "name": "stdout"
        },
        {
          "output_type": "execute_result",
          "data": {
            "text/plain": [
              "{'test_loss': 0.00041512056075111784, 'time': 10.207756293000102}"
            ]
          },
          "metadata": {
            "tags": []
          },
          "execution_count": 17
        }
      ]
    },
    {
      "cell_type": "markdown",
      "metadata": {
        "id": "TXmExGe47pZK"
      },
      "source": [
        "Now let's evaluate the performance of the network visually."
      ]
    },
    {
      "cell_type": "code",
      "metadata": {
        "id": "JmGadRyuw7df",
        "colab": {
          "base_uri": "https://localhost:8080/",
          "height": 266
        },
        "outputId": "61acec43-ce3d-4897-99ba-cea0585dff0d"
      },
      "source": [
        "sample_number = 10\n",
        "image = valid_dataset[sample_number][0]\n",
        "image = image.permute(1,2,0).detach().numpy()\n",
        "image_rgb = cv2.cvtColor(np.float32(image), cv2.COLOR_BGR2RGB)\n",
        "image_rgb = image_rgb * imagenet_std + imagenet_mean\n",
        "#Gender = 'male' if np.where(predictions[0][sample_number]==max(predictions[0][sample_number]))[0]==0 else 'female'\n",
        "Gender = 'male' if np.argmax(predictions[0][sample_number])==0 else 'female'\n",
        "print('Gender is: ', Gender)\n",
        "w, h = valid_dataset[sample_number][1][2]\n",
        "(x1, y1) = predictions[1][sample_number][0:2]\n",
        "(x2, y2) = predictions[1][sample_number][2:4]\n",
        "x1, x2 = int(x1*h), int(x2*h)\n",
        "y1, y2 = int(y1*w), int(y2*w)\n",
        "image_rgb\t= cv2.drawMarker(image_rgb, (x1,y1), (0,255,0))\n",
        "image_rgb\t= cv2.drawMarker(image_rgb, (x2,y2), (0,255,0))\n",
        "image_rgb = np.clip(image_rgb , 0, 1)\n",
        "plt.imshow(image_rgb)\n",
        "plt.axis('off')\n",
        "plt.show()"
      ],
      "execution_count": 18,
      "outputs": [
        {
          "output_type": "stream",
          "text": [
            "Gender is:  male\n"
          ],
          "name": "stdout"
        },
        {
          "output_type": "display_data",
          "data": {
            "image/png": "[encoded data removed]",
            "text/plain": [
              "<Figure size 432x288 with 1 Axes>"
            ]
          },
          "metadata": {
            "tags": [],
            "needs_background": "light"
          }
        }
      ]
    }
  ]
}