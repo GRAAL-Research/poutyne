{
  "nbformat": 4,
  "nbformat_minor": 0,
  "metadata": {
    "accelerator": "GPU",
    "colab": {
      "name": "classification_and_regression.ipynb",
      "provenance": [],
      "collapsed_sections": []
    },
    "kernelspec": {
      "display_name": "Python 3",
      "name": "python3"
    },
    "widgets": {
      "application/vnd.jupyter.widget-state+json": {
        "c8f1b2dc7152490ea221b0ecc233875f": {
          "model_module": "@jupyter-widgets/controls",
          "model_name": "HBoxModel",
          "model_module_version": "1.5.0",
          "state": {
            "_view_name": "HBoxView",
            "_dom_classes": [],
            "_model_name": "HBoxModel",
            "_view_module": "@jupyter-widgets/controls",
            "_model_module_version": "1.5.0",
            "_view_count": null,
            "_view_module_version": "1.5.0",
            "box_style": "",
            "layout": "IPY_MODEL_40b4c43e89d44608be44fbae6d61f98e",
            "_model_module": "@jupyter-widgets/controls",
            "children": [
              "IPY_MODEL_d3adbf5765ac4618a16cd8531ce12453",
              "IPY_MODEL_10f0ec23e3ca4938a1830813d6a65cd8",
              "IPY_MODEL_3a9de25b56c4414d939ed049eb3c539d"
            ]
          }
        },
        "40b4c43e89d44608be44fbae6d61f98e": {
          "model_module": "@jupyter-widgets/base",
          "model_name": "LayoutModel",
          "model_module_version": "1.2.0",
          "state": {
            "_view_name": "LayoutView",
            "grid_template_rows": null,
            "right": null,
            "justify_content": null,
            "_view_module": "@jupyter-widgets/base",
            "overflow": null,
            "_model_module_version": "1.2.0",
            "_view_count": null,
            "flex_flow": null,
            "width": null,
            "min_width": null,
            "border": null,
            "align_items": null,
            "bottom": null,
            "_model_module": "@jupyter-widgets/base",
            "top": null,
            "grid_column": null,
            "overflow_y": null,
            "overflow_x": null,
            "grid_auto_flow": null,
            "grid_area": null,
            "grid_template_columns": null,
            "flex": null,
            "_model_name": "LayoutModel",
            "justify_items": null,
            "grid_row": null,
            "max_height": null,
            "align_content": null,
            "visibility": null,
            "align_self": null,
            "height": null,
            "min_height": null,
            "padding": null,
            "grid_auto_rows": null,
            "grid_gap": null,
            "max_width": null,
            "order": null,
            "_view_module_version": "1.2.0",
            "grid_template_areas": null,
            "object_position": null,
            "object_fit": null,
            "grid_auto_columns": null,
            "margin": null,
            "display": null,
            "left": null
          }
        },
        "d3adbf5765ac4618a16cd8531ce12453": {
          "model_module": "@jupyter-widgets/controls",
          "model_name": "HTMLModel",
          "model_module_version": "1.5.0",
          "state": {
            "_view_name": "HTMLView",
            "style": "IPY_MODEL_c3cb6ccf43664fd78f28f28ee5647d2a",
            "_dom_classes": [],
            "description": "",
            "_model_name": "HTMLModel",
            "placeholder": "​",
            "_view_module": "@jupyter-widgets/controls",
            "_model_module_version": "1.5.0",
            "value": "100%",
            "_view_count": null,
            "_view_module_version": "1.5.0",
            "description_tooltip": null,
            "_model_module": "@jupyter-widgets/controls",
            "layout": "IPY_MODEL_18a4d44056bd4ab8a08710d85b5613d8"
          }
        },
        "10f0ec23e3ca4938a1830813d6a65cd8": {
          "model_module": "@jupyter-widgets/controls",
          "model_name": "FloatProgressModel",
          "model_module_version": "1.5.0",
          "state": {
            "_view_name": "ProgressView",
            "style": "IPY_MODEL_3384627fa0b249fc9e61df8c7d3641fa",
            "_dom_classes": [],
            "description": "",
            "_model_name": "FloatProgressModel",
            "bar_style": "success",
            "max": 87319819,
            "_view_module": "@jupyter-widgets/controls",
            "_model_module_version": "1.5.0",
            "value": 87319819,
            "_view_count": null,
            "_view_module_version": "1.5.0",
            "orientation": "horizontal",
            "min": 0,
            "description_tooltip": null,
            "_model_module": "@jupyter-widgets/controls",
            "layout": "IPY_MODEL_ed68ca7a69ec4be08ea0c9ff18d173fc"
          }
        },
        "3a9de25b56c4414d939ed049eb3c539d": {
          "model_module": "@jupyter-widgets/controls",
          "model_name": "HTMLModel",
          "model_module_version": "1.5.0",
          "state": {
            "_view_name": "HTMLView",
            "style": "IPY_MODEL_53cd112f58414c47a2ff5abea10c35ee",
            "_dom_classes": [],
            "description": "",
            "_model_name": "HTMLModel",
            "placeholder": "​",
            "_view_module": "@jupyter-widgets/controls",
            "_model_module_version": "1.5.0",
            "value": " 83.3M/83.3M [00:01&lt;00:00, 51.2MB/s]",
            "_view_count": null,
            "_view_module_version": "1.5.0",
            "description_tooltip": null,
            "_model_module": "@jupyter-widgets/controls",
            "layout": "IPY_MODEL_bf177e77429a488fbd3120523db6beca"
          }
        },
        "c3cb6ccf43664fd78f28f28ee5647d2a": {
          "model_module": "@jupyter-widgets/controls",
          "model_name": "DescriptionStyleModel",
          "model_module_version": "1.5.0",
          "state": {
            "_view_name": "StyleView",
            "_model_name": "DescriptionStyleModel",
            "description_width": "",
            "_view_module": "@jupyter-widgets/base",
            "_model_module_version": "1.5.0",
            "_view_count": null,
            "_view_module_version": "1.2.0",
            "_model_module": "@jupyter-widgets/controls"
          }
        },
        "18a4d44056bd4ab8a08710d85b5613d8": {
          "model_module": "@jupyter-widgets/base",
          "model_name": "LayoutModel",
          "model_module_version": "1.2.0",
          "state": {
            "_view_name": "LayoutView",
            "grid_template_rows": null,
            "right": null,
            "justify_content": null,
            "_view_module": "@jupyter-widgets/base",
            "overflow": null,
            "_model_module_version": "1.2.0",
            "_view_count": null,
            "flex_flow": null,
            "width": null,
            "min_width": null,
            "border": null,
            "align_items": null,
            "bottom": null,
            "_model_module": "@jupyter-widgets/base",
            "top": null,
            "grid_column": null,
            "overflow_y": null,
            "overflow_x": null,
            "grid_auto_flow": null,
            "grid_area": null,
            "grid_template_columns": null,
            "flex": null,
            "_model_name": "LayoutModel",
            "justify_items": null,
            "grid_row": null,
            "max_height": null,
            "align_content": null,
            "visibility": null,
            "align_self": null,
            "height": null,
            "min_height": null,
            "padding": null,
            "grid_auto_rows": null,
            "grid_gap": null,
            "max_width": null,
            "order": null,
            "_view_module_version": "1.2.0",
            "grid_template_areas": null,
            "object_position": null,
            "object_fit": null,
            "grid_auto_columns": null,
            "margin": null,
            "display": null,
            "left": null
          }
        },
        "3384627fa0b249fc9e61df8c7d3641fa": {
          "model_module": "@jupyter-widgets/controls",
          "model_name": "ProgressStyleModel",
          "model_module_version": "1.5.0",
          "state": {
            "_view_name": "StyleView",
            "_model_name": "ProgressStyleModel",
            "description_width": "",
            "_view_module": "@jupyter-widgets/base",
            "_model_module_version": "1.5.0",
            "_view_count": null,
            "_view_module_version": "1.2.0",
            "bar_color": null,
            "_model_module": "@jupyter-widgets/controls"
          }
        },
        "ed68ca7a69ec4be08ea0c9ff18d173fc": {
          "model_module": "@jupyter-widgets/base",
          "model_name": "LayoutModel",
          "model_module_version": "1.2.0",
          "state": {
            "_view_name": "LayoutView",
            "grid_template_rows": null,
            "right": null,
            "justify_content": null,
            "_view_module": "@jupyter-widgets/base",
            "overflow": null,
            "_model_module_version": "1.2.0",
            "_view_count": null,
            "flex_flow": null,
            "width": null,
            "min_width": null,
            "border": null,
            "align_items": null,
            "bottom": null,
            "_model_module": "@jupyter-widgets/base",
            "top": null,
            "grid_column": null,
            "overflow_y": null,
            "overflow_x": null,
            "grid_auto_flow": null,
            "grid_area": null,
            "grid_template_columns": null,
            "flex": null,
            "_model_name": "LayoutModel",
            "justify_items": null,
            "grid_row": null,
            "max_height": null,
            "align_content": null,
            "visibility": null,
            "align_self": null,
            "height": null,
            "min_height": null,
            "padding": null,
            "grid_auto_rows": null,
            "grid_gap": null,
            "max_width": null,
            "order": null,
            "_view_module_version": "1.2.0",
            "grid_template_areas": null,
            "object_position": null,
            "object_fit": null,
            "grid_auto_columns": null,
            "margin": null,
            "display": null,
            "left": null
          }
        },
        "53cd112f58414c47a2ff5abea10c35ee": {
          "model_module": "@jupyter-widgets/controls",
          "model_name": "DescriptionStyleModel",
          "model_module_version": "1.5.0",
          "state": {
            "_view_name": "StyleView",
            "_model_name": "DescriptionStyleModel",
            "description_width": "",
            "_view_module": "@jupyter-widgets/base",
            "_model_module_version": "1.5.0",
            "_view_count": null,
            "_view_module_version": "1.2.0",
            "_model_module": "@jupyter-widgets/controls"
          }
        },
        "bf177e77429a488fbd3120523db6beca": {
          "model_module": "@jupyter-widgets/base",
          "model_name": "LayoutModel",
          "model_module_version": "1.2.0",
          "state": {
            "_view_name": "LayoutView",
            "grid_template_rows": null,
            "right": null,
            "justify_content": null,
            "_view_module": "@jupyter-widgets/base",
            "overflow": null,
            "_model_module_version": "1.2.0",
            "_view_count": null,
            "flex_flow": null,
            "width": null,
            "min_width": null,
            "border": null,
            "align_items": null,
            "bottom": null,
            "_model_module": "@jupyter-widgets/base",
            "top": null,
            "grid_column": null,
            "overflow_y": null,
            "overflow_x": null,
            "grid_auto_flow": null,
            "grid_area": null,
            "grid_template_columns": null,
            "flex": null,
            "_model_name": "LayoutModel",
            "justify_items": null,
            "grid_row": null,
            "max_height": null,
            "align_content": null,
            "visibility": null,
            "align_self": null,
            "height": null,
            "min_height": null,
            "padding": null,
            "grid_auto_rows": null,
            "grid_gap": null,
            "max_width": null,
            "order": null,
            "_view_module_version": "1.2.0",
            "grid_template_areas": null,
            "object_position": null,
            "object_fit": null,
            "grid_auto_columns": null,
            "margin": null,
            "display": null,
            "left": null
          }
        }
      }
    }
  },
  "cells": [
    {
      "cell_type": "markdown",
      "metadata": {
        "id": "9gmgN61SirPE"
      },
      "source": [
        "# Gender Classification and Eyes Location Detection: A Two Task Problem"
      ]
    },
    {
      "cell_type": "markdown",
      "metadata": {
        "id": "syR65Pohizmh"
      },
      "source": [
        "In this example, we are going to implement a multi-task problem. We try to identify the gender of the people, as well as locating their eyes in the image. Hence, we have two different tasks: classification (to identify the gender) and regression (to find the location of the eyes). We are going to use a single network (a CNN) to perform both tasks, however, we will need to apply different loss functions, each proper to a specific task. For this example we will need to install a few libraries (such as OpenCV, wget). If you don't have them, they can be installed as below:"
      ]
    },
    {
      "cell_type": "code",
      "metadata": {
        "colab": {
          "base_uri": "https://localhost:8080/"
        },
        "id": "VAG5NDFCiqxG",
        "outputId": "16111523-7899-4c17-91d2-59d9af78cf39"
      },
      "source": [
        "%pip install poutyne          # to install the Poutyne library\n",
        "%pip install wget             # to install the wget library in order to download data\n",
        "%pip install opencv-python    # to install the cv2 (opencv) library"
      ],
      "execution_count": 1,
      "outputs": [
        {
          "output_type": "stream",
          "text": [
            "Collecting poutyne\n",
            "  Downloading Poutyne-1.5-py3-none-any.whl (136 kB)\n",
            "\u001b[?25l\r\u001b[K     |██▍                             | 10 kB 33.4 MB/s eta 0:00:01\r\u001b[K     |████▉                           | 20 kB 21.4 MB/s eta 0:00:01\r\u001b[K     |███████▏                        | 30 kB 16.9 MB/s eta 0:00:01\r\u001b[K     |█████████▋                      | 40 kB 15.4 MB/s eta 0:00:01\r\u001b[K     |████████████                    | 51 kB 7.9 MB/s eta 0:00:01\r\u001b[K     |██████████████▍                 | 61 kB 7.6 MB/s eta 0:00:01\r\u001b[K     |████████████████▊               | 71 kB 8.0 MB/s eta 0:00:01\r\u001b[K     |███████████████████▏            | 81 kB 8.9 MB/s eta 0:00:01\r\u001b[K     |█████████████████████▌          | 92 kB 9.4 MB/s eta 0:00:01\r\u001b[K     |████████████████████████        | 102 kB 7.5 MB/s eta 0:00:01\r\u001b[K     |██████████████████████████▎     | 112 kB 7.5 MB/s eta 0:00:01\r\u001b[K     |████████████████████████████▊   | 122 kB 7.5 MB/s eta 0:00:01\r\u001b[K     |███████████████████████████████ | 133 kB 7.5 MB/s eta 0:00:01\r\u001b[K     |████████████████████████████████| 136 kB 7.5 MB/s \n",
            "\u001b[?25hRequirement already satisfied: numpy in /usr/local/lib/python3.7/dist-packages (from poutyne) (1.19.5)\n",
            "Requirement already satisfied: torch in /usr/local/lib/python3.7/dist-packages (from poutyne) (1.9.0+cu102)\n",
            "Requirement already satisfied: typing-extensions in /usr/local/lib/python3.7/dist-packages (from torch->poutyne) (3.7.4.3)\n",
            "Installing collected packages: poutyne\n",
            "Successfully installed poutyne-1.5\n",
            "Collecting wget\n",
            "  Downloading wget-3.2.zip (10 kB)\n",
            "Building wheels for collected packages: wget\n",
            "  Building wheel for wget (setup.py) ... \u001b[?25l\u001b[?25hdone\n",
            "  Created wheel for wget: filename=wget-3.2-py3-none-any.whl size=9672 sha256=2857ddc2483675e92d5f72a7a7e39d3cd244d38f0c373d83a24abac0b64dc22e\n",
            "  Stored in directory: /root/.cache/pip/wheels/a1/b6/7c/0e63e34eb06634181c63adacca38b79ff8f35c37e3c13e3c02\n",
            "Successfully built wget\n",
            "Installing collected packages: wget\n",
            "Successfully installed wget-3.2\n",
            "Requirement already satisfied: opencv-python in /usr/local/lib/python3.7/dist-packages (4.1.2.30)\n",
            "Requirement already satisfied: numpy>=1.14.5 in /usr/local/lib/python3.7/dist-packages (from opencv-python) (1.19.5)\n"
          ],
          "name": "stdout"
        }
      ]
    },
    {
      "cell_type": "markdown",
      "metadata": {
        "id": "pUiFHqwBEBBx"
      },
      "source": [
        "Let’s import all the needed packages."
      ]
    },
    {
      "cell_type": "code",
      "metadata": {
        "id": "e3vspk0bpkbn"
      },
      "source": [
        "%matplotlib inline\n",
        "%reload_ext autoreload\n",
        "%autoreload 2\n",
        "\n",
        "import math\n",
        "import os\n",
        "import matplotlib.pyplot as plt\n",
        "import numpy as np\n",
        "import pandas as pd\n",
        "import wget\n",
        "import zipfile\n",
        "import cv2\n",
        "import torch\n",
        "import torch.nn as nn\n",
        "import torch.nn.functional as F\n",
        "import torch.optim as optim\n",
        "import torchvision.datasets as datasets\n",
        "import torchvision.models as models\n",
        "import torchvision.transforms as tfms\n",
        "from poutyne import set_seeds, Model, ModelCheckpoint, CSVLogger, Experiment, StepLR\n",
        "from torch.utils.data import DataLoader, Subset, Dataset  \n",
        "from torchvision.utils import make_grid"
      ],
      "execution_count": 2,
      "outputs": []
    },
    {
      "cell_type": "markdown",
      "metadata": {
        "id": "NTIP6sKzENto"
      },
      "source": [
        "\n",
        "## Training Constants"
      ]
    },
    {
      "cell_type": "code",
      "metadata": {
        "colab": {
          "base_uri": "https://localhost:8080/"
        },
        "id": "vSfN1KvNpkgh",
        "outputId": "b49a9f10-059a-4813-9ef2-5f0bbdd1ec38"
      },
      "source": [
        "num_epochs = 40\n",
        "learning_rate = 0.005\n",
        "batch_size = 32\n",
        "image_size = 224\n",
        "w, h = 218, 178   # the width and the hight of original images before resizing\n",
        "set_seeds(48)\n",
        "gender_index = 20 # in the CelebA dataset gender information is the 21th item in the attributes vector.\n",
        "W = 0.7 # the weight of regression loss \n",
        "imagenet_mean = [0.485, 0.456, 0.406]  # mean of the ImageNet dataset for normalizing \n",
        "imagenet_std = [0.229, 0.224, 0.225]  # std of the ImageNet dataset for normalizing\n",
        "device = torch.device('cuda' if torch.cuda.is_available() else 'cpu')\n",
        "print('The running processor is...', device) "
      ],
      "execution_count": 4,
      "outputs": [
        {
          "output_type": "stream",
          "text": [
            "The running processor is... cuda\n"
          ],
          "name": "stdout"
        }
      ]
    },
    {
      "cell_type": "markdown",
      "metadata": {
        "id": "-9boLeZbaHVl"
      },
      "source": [
        "## CelebA Dataset"
      ]
    },
    {
      "cell_type": "markdown",
      "metadata": {
        "id": "rFVlGoTBaMbU"
      },
      "source": [
        "We are going to use the CelebA dataset for this experiment. The CelebA \n",
        "dataset  is a large-scale face attributes dataset which can be employed as the training and test sets for the following computer vision tasks: face attribute recognition, face detection, landmark (or facial part) localization, and face editing & synthesis."
      ]
    },
    {
      "cell_type": "markdown",
      "metadata": {
        "id": "QhGYzr9-TgR7"
      },
      "source": [
        "## Fetching data \n"
      ]
    },
    {
      "cell_type": "markdown",
      "metadata": {
        "id": "nrTAzlJVxc_M"
      },
      "source": [
        "The section below consists of a few lines of codes that help us download the CelebA dataset from a public web source and unzip it. Downloading the CelebA dataset can be also done directly using `torch.datasets.CelebA(data_root, download=True)`. However, due to the high traffic on the dataset's Google Drive (the main source of the dataset), it usually fails to function. Hence we decided to download it from another public source but use it with `torch.datasets.CelebA()`."
      ]
    },
    {
      "cell_type": "code",
      "metadata": {
        "id": "7hyL47KFUi-L"
      },
      "source": [
        "data_root = 'datasets'  \n",
        "\n",
        "base_url = \"https://graal.ift.ulaval.ca/public/celeba/\"\n",
        "\n",
        "file_list = [\n",
        "    \"img_align_celeba.zip\",\n",
        "    \"list_attr_celeba.txt\", \n",
        "    \"identity_CelebA.txt\",\n",
        "    \"list_bbox_celeba.txt\",\n",
        "    \"list_landmarks_align_celeba.txt\",\n",
        "    \"list_eval_partition.txt\"\n",
        "]\n",
        "\n",
        "# Path to folder with the dataset\n",
        "dataset_folder = f'{data_root}/celeba'\n",
        "os.makedirs(dataset_folder, exist_ok=True)\n",
        "\n",
        "for file in file_list:\n",
        "    url = f\"{base_url}/{file}\"\n",
        "    if not os.path.exists(f\"{dataset_folder}/{file}\"):\n",
        "        wget.download(url, f\"{dataset_folder}/{file}\")\n",
        "\n",
        "with zipfile.ZipFile(f\"{dataset_folder}/img_align_celeba.zip\", 'r') as ziphandler:\n",
        "    ziphandler.extractall(dataset_folder)"
      ],
      "execution_count": 5,
      "outputs": []
    },
    {
      "cell_type": "markdown",
      "metadata": {
        "id": "fBB1m9R9zw0q"
      },
      "source": [
        "Now, as the dataset is downloaded, we can define our datasets and dataloaders in its original way."
      ]
    },
    {
      "cell_type": "code",
      "metadata": {
        "id": "ES0KRDhFUueF"
      },
      "source": [
        "transforms = tfms.Compose([\n",
        "    tfms.Resize((image_size, image_size)),\n",
        "    tfms.ToTensor(),\n",
        "    tfms.Normalize(imagenet_mean, imagenet_std)\n",
        "])\n",
        "train_dataset = datasets.CelebA(\n",
        "    data_root,\n",
        "    split='train',\n",
        "    target_type=['attr', 'landmarks'],\n",
        "    transform=transforms\n",
        ")\n",
        "valid_dataset = datasets.CelebA(\n",
        "    data_root, \n",
        "    split='valid', \n",
        "    target_type=['attr', 'landmarks'], \n",
        "    transform=transforms\n",
        ")\n",
        "test_dataset = datasets.CelebA(\n",
        "    data_root, \n",
        "    split='test', \n",
        "    target_type=['attr', 'landmarks'], \n",
        "    transform=transforms\n",
        ")\n",
        "\n",
        "train_dataloader = DataLoader(train_dataset, batch_size=batch_size, shuffle=True)\n",
        "valid_dataloader = DataLoader(valid_dataset, batch_size=batch_size, shuffle=False)\n",
        "test_dataloader = DataLoader(test_dataset, batch_size=batch_size, shuffle=False)"
      ],
      "execution_count": 6,
      "outputs": []
    },
    {
      "cell_type": "markdown",
      "metadata": {
        "id": "_O4N5rXz1dZq"
      },
      "source": [
        "Here we can see how each dataset sample looks like:"
      ]
    },
    {
      "cell_type": "code",
      "metadata": {
        "colab": {
          "base_uri": "https://localhost:8080/"
        },
        "id": "OKBFCZD01qoJ",
        "outputId": "1c2d6d20-39f7-4b8b-dca1-7f1ac7b6a26a"
      },
      "source": [
        "print (train_dataset[0])"
      ],
      "execution_count": 7,
      "outputs": [
        {
          "output_type": "stream",
          "text": [
            "(tensor([[[ 2.2147,  2.2147,  2.2147,  ...,  2.1804,  2.2318,  2.2318],\n",
            "         [ 2.2147,  2.2147,  2.2147,  ...,  2.1975,  2.2318,  2.2318],\n",
            "         [ 2.2147,  2.2147,  2.2147,  ...,  2.2147,  2.2489,  2.2489],\n",
            "         ...,\n",
            "         [ 0.2624,  0.0056,  0.1426,  ..., -0.0287, -0.0287, -0.0287],\n",
            "         [ 0.1426,  0.2453,  0.5364,  ..., -0.0972, -0.0972, -0.0972],\n",
            "         [ 0.7591,  1.1872,  1.7180,  ..., -0.0801, -0.0629, -0.0629]],\n",
            "\n",
            "        [[ 2.0084,  2.0084,  2.0084,  ...,  2.0259,  2.1310,  2.1310],\n",
            "         [ 2.0084,  2.0084,  2.0084,  ...,  2.0434,  2.1310,  2.1310],\n",
            "         [ 2.0084,  2.0084,  2.0084,  ...,  2.0784,  2.1485,  2.1485],\n",
            "         ...,\n",
            "         [-0.7577, -1.0378, -0.9153,  ..., -1.0553, -1.0553, -1.0553],\n",
            "         [-0.9153, -0.8102, -0.5126,  ..., -1.1604, -1.1429, -1.1429],\n",
            "         [-0.2850,  0.1527,  0.6954,  ..., -1.1604, -1.1604, -1.1604]],\n",
            "\n",
            "        [[ 1.5768,  1.5768,  1.5768,  ...,  2.0823,  2.0648,  2.0648],\n",
            "         [ 1.5768,  1.5768,  1.5768,  ...,  2.0823,  2.0648,  2.0648],\n",
            "         [ 1.5768,  1.5768,  1.5768,  ...,  2.1171,  2.0823,  2.0823],\n",
            "         ...,\n",
            "         [-1.3687, -1.6302, -1.4907,  ..., -1.2990, -1.2816, -1.2816],\n",
            "         [-1.5081, -1.4036, -1.0898,  ..., -1.4210, -1.3861, -1.3861],\n",
            "         [-0.8807, -0.4450,  0.1128,  ..., -1.4210, -1.3861, -1.3861]]]), (tensor([0, 1, 1, 0, 0, 0, 0, 0, 0, 0, 0, 1, 0, 0, 0, 0, 0, 0, 1, 1, 0, 1, 0, 0,\n",
            "        1, 0, 0, 1, 0, 0, 0, 1, 1, 0, 1, 0, 1, 0, 0, 1]), tensor([ 69, 109, 106, 113,  77, 142,  73, 152, 108, 154])))\n"
          ],
          "name": "stdout"
        }
      ]
    },
    {
      "cell_type": "markdown",
      "metadata": {
        "id": "-UwapLAJ2z0-"
      },
      "source": [
        "Regarding the complexity of the problem and the number of training/valid samples, we have a huge number of training/validation images. Since there are not a considerable varation between images (e.g., the eye coordinates in images do not vary considerably), using all images in the dataset is not necessary and will only increase the training time. Hence, we can seperate and use a portion of data as below:"
      ]
    },
    {
      "cell_type": "code",
      "metadata": {
        "id": "eaZUdAsRgrd9"
      },
      "source": [
        "train_subset = Subset(train_dataset, np.arange(1,75000))\n",
        "valid_subset = Subset(valid_dataset, np.arange(1,1000))\n",
        "train_dataloader = DataLoader(train_subset, batch_size=batch_size, shuffle=False)\n",
        "valid_dataloader = DataLoader(valid_subset, batch_size=batch_size, shuffle=False)"
      ],
      "execution_count": 8,
      "outputs": []
    },
    {
      "cell_type": "markdown",
      "metadata": {
        "id": "tFQpqD3hWcNX"
      },
      "source": [
        "Here, we can see an example from the training dataset. It shows an image of a person, printing the gender and also showing the location of the eyes. It is worth mentioning that as we resize the image, the coordinates of the eyes should also be changed with same ratio."
      ]
    },
    {
      "cell_type": "code",
      "metadata": {
        "colab": {
          "base_uri": "https://localhost:8080/",
          "height": 266
        },
        "id": "ZgVduT00VWis",
        "outputId": "cffb9957-5418-47b8-a2ca-fd5d299545b0"
      },
      "source": [
        "sample_number = 1204\n",
        "image = train_dataset[sample_number][0]\n",
        "image = image.permute(1,2,0).detach().numpy()\n",
        "image_rgb = cv2.cvtColor(np.float32(image), cv2.COLOR_BGR2RGB)\n",
        "image_rgb = image_rgb * imagenet_std + imagenet_mean\n",
        "gender = 'male' if int(train_dataset[sample_number][1][0][gender_index])==1 else 'female'\n",
        "print('Gender is:', gender)\n",
        "w, h = 218, 178\n",
        "(x_L, y_L) = train_dataset[sample_number][1][1][0:2]  # The coordinates vector of the datasets starts with X_L, y_L, X_R, y_R\n",
        "(x_R, y_R) = train_dataset[sample_number][1][1][2:4]\n",
        "w_scale = image_size/w\n",
        "h_scale = image_size/h\n",
        "x_L, x_R = (x_L*h_scale), (x_R*h_scale)  #rescaling for the size of (224,224) and finaly to the range of [0,1]\n",
        "y_L, y_R = (y_L*w_scale), (y_R*w_scale)\n",
        "x_L, x_R = int(x_L), int(x_R)\n",
        "y_L, y_R = int(y_L), int(y_R)\n",
        "image_rgb = cv2.drawMarker(image_rgb, (x_L,y_L), (0,255,0))\n",
        "image_rgb = cv2.drawMarker(image_rgb, (x_R,y_R), (0,255,0))\n",
        "image_rgb = cv2.cvtColor(np.float32(image_rgb), cv2.COLOR_BGR2RGB)\n",
        "image_rgb = np.clip(image_rgb ,0 , 1)\n",
        "plt.imshow(image_rgb)\n",
        "plt.axis('off')\n",
        "plt.show()"
      ],
      "execution_count": 9,
      "outputs": [
        {
          "output_type": "stream",
          "text": [
            "Gender is: female\n"
          ],
          "name": "stdout"
        },
        {
          "output_type": "display_data",
          "data": {
            "image/png": "[encoded data removed]",
            "text/plain": [
              "<Figure size 432x288 with 1 Axes>"
            ]
          },
          "metadata": {
            "tags": [],
            "needs_background": "light"
          }
        }
      ]
    },
    {
      "cell_type": "markdown",
      "metadata": {
        "id": "dz7aGIxCYOOP"
      },
      "source": [
        "## Network"
      ]
    },
    {
      "cell_type": "markdown",
      "metadata": {
        "id": "J6DpjTWLtn2c"
      },
      "source": [
        "Below, we define a new class, named `ClassifierLocalizer`, which accepts a pre-trained CNN and changes its last fully connected layer to be proper for the two task problem. The new fully connected layer contains 6 neurons, 2 for the classification task (male or female) and 4 for the localization task (x and y for the left and right eyes). Moreover, to put the location results on the same scale as the class scores, we apply the sigmoid function to the neurons assigned for the localization task."
      ]
    },
    {
      "cell_type": "code",
      "metadata": {
        "id": "9PP6UwOsJRLX"
      },
      "source": [
        "class ClassifierLocalizer(nn.Module):\n",
        "    def __init__(self, model_name, num_classes=2):\n",
        "        super(ClassifierLocalizer, self).__init__()\n",
        "        self.num_classes = num_classes\n",
        "      \n",
        "        # create cnn model\n",
        "        model = getattr(models, model_name)(pretrained=True)\n",
        "      \n",
        "        # remove fc layers and add a new fc layer\n",
        "        num_features = model.fc.in_features\n",
        "        model.fc = nn.Linear(num_features, 6) # classifier + localizer\n",
        "        self.model = model\n",
        "    \n",
        "    def forward(self, x):\n",
        "        x = self.model(x)                    # extract features from CNN\n",
        "        scores = x[:, :self.num_classes]     # class scores\n",
        "        coords = x[:, self.num_classes:]     # coordinates\n",
        "        return scores, torch.sigmoid(coords)   # sigmoid output is in the range of [0, 1]"
      ],
      "execution_count": 10,
      "outputs": []
    },
    {
      "cell_type": "code",
      "metadata": {
        "colab": {
          "base_uri": "https://localhost:8080/",
          "height": 67,
          "referenced_widgets": [
            "c8f1b2dc7152490ea221b0ecc233875f",
            "40b4c43e89d44608be44fbae6d61f98e",
            "d3adbf5765ac4618a16cd8531ce12453",
            "10f0ec23e3ca4938a1830813d6a65cd8",
            "3a9de25b56c4414d939ed049eb3c539d",
            "c3cb6ccf43664fd78f28f28ee5647d2a",
            "18a4d44056bd4ab8a08710d85b5613d8",
            "3384627fa0b249fc9e61df8c7d3641fa",
            "ed68ca7a69ec4be08ea0c9ff18d173fc",
            "53cd112f58414c47a2ff5abea10c35ee",
            "bf177e77429a488fbd3120523db6beca"
          ]
        },
        "id": "irne02N9vK9e",
        "outputId": "ed609acd-f7b1-4b58-d069-da0daa2c7a77"
      },
      "source": [
        "network = ClassifierLocalizer(model_name='resnet34')"
      ],
      "execution_count": 11,
      "outputs": [
        {
          "output_type": "stream",
          "text": [
            "Downloading: \"https://download.pytorch.org/models/resnet34-b627a593.pth\" to /root/.cache/torch/hub/checkpoints/resnet34-b627a593.pth\n"
          ],
          "name": "stderr"
        },
        {
          "output_type": "display_data",
          "data": {
            "application/vnd.jupyter.widget-view+json": {
              "model_id": "c8f1b2dc7152490ea221b0ecc233875f",
              "version_minor": 0,
              "version_major": 2
            },
            "text/plain": [
              "  0%|          | 0.00/83.3M [00:00<?, ?B/s]"
            ]
          },
          "metadata": {
            "tags": []
          }
        }
      ]
    },
    {
      "cell_type": "markdown",
      "metadata": {
        "id": "8482vAprYWgI"
      },
      "source": [
        "## Loss function"
      ]
    },
    {
      "cell_type": "markdown",
      "metadata": {
        "id": "DAa7rSqC3VJs"
      },
      "source": [
        "As we discussed before, we have two different tasks in this example. These tasks need different loss functions; Cross-Entropy loss for the classification and Mean Square Error loss for the regression. Below, we define a new loss function class that sums both losses to considers them simultaneously. However, as the regression is relatively a simpler task here (due to similarity of coordinates in the images), we apply a lower weight to MSEloss."
      ]
    },
    {
      "cell_type": "code",
      "metadata": {
        "id": "oCrU_k18J2Ps"
      },
      "source": [
        "class ClassificationRegressionLoss(nn.Module):\n",
        "    def __init__(self, W):\n",
        "        super(ClassificationRegressionLoss, self).__init__()\n",
        "        self.ce_loss = nn.CrossEntropyLoss() # size_average=False\n",
        "        self.mse_loss = nn.MSELoss()\n",
        "        self.W = W\n",
        "        \n",
        "    def forward(self, y_pred, y_true):\n",
        "        loss_cls = self.ce_loss(y_pred[0], y_true[0][:,20]) # Cross Entropy Error (for classification)\n",
        "        loss_reg1 = self.mse_loss(y_pred[1][:,0], y_true[1][:,0]/h) # Mean Squared Error for X_L\n",
        "        loss_reg2 = self.mse_loss(y_pred[1][:,1], y_true[1][:,1]/w) # Mean Squared Error for Y_L\n",
        "        loss_reg3 = self.mse_loss(y_pred[1][:,2], y_true[1][:,2]/h) # Mean Squared Error for X_R\n",
        "        loss_reg4 = self.mse_loss(y_pred[1][:,3], y_true[1][:,3]/w) # Mean Squared Error for Y_R\n",
        "        total_loss = loss_cls + self.W * (loss_reg1 + loss_reg2 + loss_reg3 + loss_reg4)\n",
        "        return total_loss"
      ],
      "execution_count": 12,
      "outputs": []
    },
    {
      "cell_type": "markdown",
      "metadata": {
        "id": "e-ujQ315X9ku"
      },
      "source": [
        "## Training"
      ]
    },
    {
      "cell_type": "code",
      "metadata": {
        "colab": {
          "base_uri": "https://localhost:8080/"
        },
        "id": "IqGF7KaxcgI3",
        "outputId": "d68fbb57-0223-4cf3-d988-7ead403cdcda"
      },
      "source": [
        "optimizer = optim.SGD(network.parameters(), lr=learning_rate, weight_decay=0.001)\n",
        "loss_function = ClassificationRegressionLoss(W)\n",
        "exp = Experiment('./saves/two_task_example', network, optimizer=optimizer, loss_function=loss_function, device=\"all\")\n",
        "exp.train(valid_dataloader, valid_dataloader, epochs=num_epochs)"
      ],
      "execution_count": 13,
      "outputs": [
        {
          "output_type": "stream",
          "text": [
            "/usr/local/lib/python3.7/dist-packages/torch/nn/functional.py:718: UserWarning: Named tensors and all their associated APIs are an experimental feature and subject to change. Please do not use them for anything important until they are released as stable. (Triggered internally at  /pytorch/c10/core/TensorImpl.h:1156.)\n",
            "  return torch.max_pool2d(input, kernel_size, stride, padding, dilation, ceil_mode)\n"
          ],
          "name": "stderr"
        },
        {
          "output_type": "stream",
          "text": [
            "Epoch:  1/40 Train steps: 32 Val steps: 32 11.68s loss: 0.775775 val_loss: 0.640435 \n",
            "Epoch 1: val_loss improved from inf to 0.64044, saving file to ./saves/two_task_example/checkpoint_epoch_1.ckpt\n",
            "Epoch:  2/40 Train steps: 32 Val steps: 32 11.30s loss: 0.637852 val_loss: 0.539809 \n",
            "Epoch 2: val_loss improved from 0.64044 to 0.53981, saving file to ./saves/two_task_example/checkpoint_epoch_2.ckpt\n",
            "Epoch:  3/40 Train steps: 32 Val steps: 32 11.38s loss: 0.531476 val_loss: 0.447577 \n",
            "Epoch 3: val_loss improved from 0.53981 to 0.44758, saving file to ./saves/two_task_example/checkpoint_epoch_3.ckpt\n",
            "Epoch:  4/40 Train steps: 32 Val steps: 32 11.27s loss: 0.421999 val_loss: 0.353043 \n",
            "Epoch 4: val_loss improved from 0.44758 to 0.35304, saving file to ./saves/two_task_example/checkpoint_epoch_4.ckpt\n",
            "Epoch:  5/40 Train steps: 32 Val steps: 32 11.29s loss: 0.313470 val_loss: 0.267972 \n",
            "Epoch 5: val_loss improved from 0.35304 to 0.26797, saving file to ./saves/two_task_example/checkpoint_epoch_5.ckpt\n",
            "Epoch:  6/40 Train steps: 32 Val steps: 32 11.39s loss: 0.219526 val_loss: 0.196479 \n",
            "Epoch 6: val_loss improved from 0.26797 to 0.19648, saving file to ./saves/two_task_example/checkpoint_epoch_6.ckpt\n",
            "Epoch:  7/40 Train steps: 32 Val steps: 32 11.43s loss: 0.150263 val_loss: 0.143902 \n",
            "Epoch 7: val_loss improved from 0.19648 to 0.14390, saving file to ./saves/two_task_example/checkpoint_epoch_7.ckpt\n",
            "Epoch:  8/40 Train steps: 32 Val steps: 32 11.48s loss: 0.104579 val_loss: 0.109940 \n",
            "Epoch 8: val_loss improved from 0.14390 to 0.10994, saving file to ./saves/two_task_example/checkpoint_epoch_8.ckpt\n",
            "Epoch:  9/40 Train steps: 32 Val steps: 32 11.45s loss: 0.075892 val_loss: 0.086965 \n",
            "Epoch 9: val_loss improved from 0.10994 to 0.08696, saving file to ./saves/two_task_example/checkpoint_epoch_9.ckpt\n",
            "Epoch: 10/40 Train steps: 32 Val steps: 32 11.40s loss: 0.057761 val_loss: 0.071078 \n",
            "Epoch 10: val_loss improved from 0.08696 to 0.07108, saving file to ./saves/two_task_example/checkpoint_epoch_10.ckpt\n",
            "Epoch: 11/40 Train steps: 32 Val steps: 32 11.50s loss: 0.045851 val_loss: 0.060077 \n",
            "Epoch 11: val_loss improved from 0.07108 to 0.06008, saving file to ./saves/two_task_example/checkpoint_epoch_11.ckpt\n",
            "Epoch: 12/40 Train steps: 32 Val steps: 32 11.54s loss: 0.037653 val_loss: 0.052114 \n",
            "Epoch 12: val_loss improved from 0.06008 to 0.05211, saving file to ./saves/two_task_example/checkpoint_epoch_12.ckpt\n",
            "Epoch: 13/40 Train steps: 32 Val steps: 32 11.51s loss: 0.031765 val_loss: 0.045999 \n",
            "Epoch 13: val_loss improved from 0.05211 to 0.04600, saving file to ./saves/two_task_example/checkpoint_epoch_13.ckpt\n",
            "Epoch: 14/40 Train steps: 32 Val steps: 32 11.53s loss: 0.027375 val_loss: 0.041209 \n",
            "Epoch 14: val_loss improved from 0.04600 to 0.04121, saving file to ./saves/two_task_example/checkpoint_epoch_14.ckpt\n",
            "Epoch: 15/40 Train steps: 32 Val steps: 32 11.45s loss: 0.024006 val_loss: 0.037356 \n",
            "Epoch 15: val_loss improved from 0.04121 to 0.03736, saving file to ./saves/two_task_example/checkpoint_epoch_15.ckpt\n",
            "Epoch: 16/40 Train steps: 32 Val steps: 32 11.52s loss: 0.021349 val_loss: 0.034197 \n",
            "Epoch 16: val_loss improved from 0.03736 to 0.03420, saving file to ./saves/two_task_example/checkpoint_epoch_16.ckpt\n",
            "Epoch: 17/40 Train steps: 32 Val steps: 32 11.61s loss: 0.019206 val_loss: 0.031538 \n",
            "Epoch 17: val_loss improved from 0.03420 to 0.03154, saving file to ./saves/two_task_example/checkpoint_epoch_17.ckpt\n",
            "Epoch: 18/40 Train steps: 32 Val steps: 32 11.58s loss: 0.017442 val_loss: 0.029287 \n",
            "Epoch 18: val_loss improved from 0.03154 to 0.02929, saving file to ./saves/two_task_example/checkpoint_epoch_18.ckpt\n",
            "Epoch: 19/40 Train steps: 32 Val steps: 32 11.67s loss: 0.015969 val_loss: 0.027355 \n",
            "Epoch 19: val_loss improved from 0.02929 to 0.02736, saving file to ./saves/two_task_example/checkpoint_epoch_19.ckpt\n",
            "Epoch: 20/40 Train steps: 32 Val steps: 32 11.54s loss: 0.014721 val_loss: 0.025691 \n",
            "Epoch 20: val_loss improved from 0.02736 to 0.02569, saving file to ./saves/two_task_example/checkpoint_epoch_20.ckpt\n",
            "Epoch: 21/40 Train steps: 32 Val steps: 32 11.54s loss: 0.013647 val_loss: 0.024222 \n",
            "Epoch 21: val_loss improved from 0.02569 to 0.02422, saving file to ./saves/two_task_example/checkpoint_epoch_21.ckpt\n",
            "Epoch: 22/40 Train steps: 32 Val steps: 32 11.58s loss: 0.012715 val_loss: 0.022924 \n",
            "Epoch 22: val_loss improved from 0.02422 to 0.02292, saving file to ./saves/two_task_example/checkpoint_epoch_22.ckpt\n",
            "Epoch: 23/40 Train steps: 32 Val steps: 32 11.59s loss: 0.011898 val_loss: 0.021772 \n",
            "Epoch 23: val_loss improved from 0.02292 to 0.02177, saving file to ./saves/two_task_example/checkpoint_epoch_23.ckpt\n",
            "Epoch: 24/40 Train steps: 32 Val steps: 32 11.62s loss: 0.011175 val_loss: 0.020733 \n",
            "Epoch 24: val_loss improved from 0.02177 to 0.02073, saving file to ./saves/two_task_example/checkpoint_epoch_24.ckpt\n",
            "Epoch: 25/40 Train steps: 32 Val steps: 32 11.75s loss: 0.010530 val_loss: 0.019794 \n",
            "Epoch 25: val_loss improved from 0.02073 to 0.01979, saving file to ./saves/two_task_example/checkpoint_epoch_25.ckpt\n",
            "Epoch: 26/40 Train steps: 32 Val steps: 32 11.68s loss: 0.009951 val_loss: 0.018950 \n",
            "Epoch 26: val_loss improved from 0.01979 to 0.01895, saving file to ./saves/two_task_example/checkpoint_epoch_26.ckpt\n",
            "Epoch: 27/40 Train steps: 32 Val steps: 32 11.61s loss: 0.009429 val_loss: 0.018173 \n",
            "Epoch 27: val_loss improved from 0.01895 to 0.01817, saving file to ./saves/two_task_example/checkpoint_epoch_27.ckpt\n",
            "Epoch: 28/40 Train steps: 32 Val steps: 32 11.67s loss: 0.008955 val_loss: 0.017464 \n",
            "Epoch 28: val_loss improved from 0.01817 to 0.01746, saving file to ./saves/two_task_example/checkpoint_epoch_28.ckpt\n",
            "Epoch: 29/40 Train steps: 32 Val steps: 32 11.62s loss: 0.008523 val_loss: 0.016813 \n",
            "Epoch 29: val_loss improved from 0.01746 to 0.01681, saving file to ./saves/two_task_example/checkpoint_epoch_29.ckpt\n",
            "Epoch: 30/40 Train steps: 32 Val steps: 32 11.67s loss: 0.008127 val_loss: 0.016214 \n",
            "Epoch 30: val_loss improved from 0.01681 to 0.01621, saving file to ./saves/two_task_example/checkpoint_epoch_30.ckpt\n",
            "Epoch: 31/40 Train steps: 32 Val steps: 32 11.67s loss: 0.007763 val_loss: 0.015658 \n",
            "Epoch 31: val_loss improved from 0.01621 to 0.01566, saving file to ./saves/two_task_example/checkpoint_epoch_31.ckpt\n",
            "Epoch: 32/40 Train steps: 32 Val steps: 32 11.70s loss: 0.007428 val_loss: 0.015139 \n",
            "Epoch 32: val_loss improved from 0.01566 to 0.01514, saving file to ./saves/two_task_example/checkpoint_epoch_32.ckpt\n",
            "Epoch: 33/40 Train steps: 32 Val steps: 32 11.72s loss: 0.007117 val_loss: 0.014660 \n",
            "Epoch 33: val_loss improved from 0.01514 to 0.01466, saving file to ./saves/two_task_example/checkpoint_epoch_33.ckpt\n",
            "Epoch: 34/40 Train steps: 32 Val steps: 32 11.66s loss: 0.006828 val_loss: 0.014212 \n",
            "Epoch 34: val_loss improved from 0.01466 to 0.01421, saving file to ./saves/two_task_example/checkpoint_epoch_34.ckpt\n",
            "Epoch: 35/40 Train steps: 32 Val steps: 32 11.70s loss: 0.006560 val_loss: 0.013789 \n",
            "Epoch 35: val_loss improved from 0.01421 to 0.01379, saving file to ./saves/two_task_example/checkpoint_epoch_35.ckpt\n",
            "Epoch: 36/40 Train steps: 32 Val steps: 32 11.70s loss: 0.006309 val_loss: 0.013392 \n",
            "Epoch 36: val_loss improved from 0.01379 to 0.01339, saving file to ./saves/two_task_example/checkpoint_epoch_36.ckpt\n",
            "Epoch: 37/40 Train steps: 32 Val steps: 32 11.76s loss: 0.006075 val_loss: 0.013021 \n",
            "Epoch 37: val_loss improved from 0.01339 to 0.01302, saving file to ./saves/two_task_example/checkpoint_epoch_37.ckpt\n",
            "Epoch: 38/40 Train steps: 32 Val steps: 32 11.76s loss: 0.005855 val_loss: 0.012673 \n",
            "Epoch 38: val_loss improved from 0.01302 to 0.01267, saving file to ./saves/two_task_example/checkpoint_epoch_38.ckpt\n",
            "Epoch: 39/40 Train steps: 32 Val steps: 32 11.86s loss: 0.005649 val_loss: 0.012344 \n",
            "Epoch 39: val_loss improved from 0.01267 to 0.01234, saving file to ./saves/two_task_example/checkpoint_epoch_39.ckpt\n",
            "Epoch: 40/40 Train steps: 32 Val steps: 32 11.75s loss: 0.005455 val_loss: 0.012036 \n",
            "Epoch 40: val_loss improved from 0.01234 to 0.01204, saving file to ./saves/two_task_example/checkpoint_epoch_40.ckpt\n",
            "Restoring model from ./saves/two_task_example/checkpoint_epoch_40.ckpt\n"
          ],
          "name": "stdout"
        },
        {
          "output_type": "execute_result",
          "data": {
            "text/plain": [
              "[{'epoch': 1,\n",
              "  'loss': 0.7757749421460493,\n",
              "  'time': 11.682349395000017,\n",
              "  'val_loss': 0.6404353703583803},\n",
              " {'epoch': 2,\n",
              "  'loss': 0.6378523194873417,\n",
              "  'time': 11.304650409000004,\n",
              "  'val_loss': 0.53980884475035},\n",
              " {'epoch': 3,\n",
              "  'loss': 0.5314759527210955,\n",
              "  'time': 11.37990416400001,\n",
              "  'val_loss': 0.4475773820826957},\n",
              " {'epoch': 4,\n",
              "  'loss': 0.42199872241721853,\n",
              "  'time': 11.273646559999975,\n",
              "  'val_loss': 0.35304258990514503},\n",
              " {'epoch': 5,\n",
              "  'loss': 0.31346956028176975,\n",
              "  'time': 11.293214850000027,\n",
              "  'val_loss': 0.267972395017937},\n",
              " {'epoch': 6,\n",
              "  'loss': 0.21952575235604285,\n",
              "  'time': 11.388815800000032,\n",
              "  'val_loss': 0.19647866565066655},\n",
              " {'epoch': 7,\n",
              "  'loss': 0.15026326297229534,\n",
              "  'time': 11.434487423999997,\n",
              "  'val_loss': 0.1439022887665946},\n",
              " {'epoch': 8,\n",
              "  'loss': 0.10457923074250107,\n",
              "  'time': 11.476734780999948,\n",
              "  'val_loss': 0.10994030626954975},\n",
              " {'epoch': 9,\n",
              "  'loss': 0.07589154704487897,\n",
              "  'time': 11.453176231999976,\n",
              "  'val_loss': 0.08696476223172846},\n",
              " {'epoch': 10,\n",
              "  'loss': 0.057760993580896036,\n",
              "  'time': 11.403157216000011,\n",
              "  'val_loss': 0.07107804794688602},\n",
              " {'epoch': 11,\n",
              "  'loss': 0.045851028290809365,\n",
              "  'time': 11.500424906000035,\n",
              "  'val_loss': 0.0600771746627084},\n",
              " {'epoch': 12,\n",
              "  'loss': 0.037652989728721206,\n",
              "  'time': 11.541168754000012,\n",
              "  'val_loss': 0.052114254954430436},\n",
              " {'epoch': 13,\n",
              "  'loss': 0.03176478150620445,\n",
              "  'time': 11.510131617000013,\n",
              "  'val_loss': 0.045998795101562656},\n",
              " {'epoch': 14,\n",
              "  'loss': 0.027375330150992545,\n",
              "  'time': 11.530704071000002,\n",
              "  'val_loss': 0.04120868467189767},\n",
              " {'epoch': 15,\n",
              "  'loss': 0.02400633076707403,\n",
              "  'time': 11.45187268899997,\n",
              "  'val_loss': 0.037355904427316934},\n",
              " {'epoch': 16,\n",
              "  'loss': 0.02134921522163138,\n",
              "  'time': 11.515704644000039,\n",
              "  'val_loss': 0.034197216254991815},\n",
              " {'epoch': 17,\n",
              "  'loss': 0.01920601035243607,\n",
              "  'time': 11.608819793999999,\n",
              "  'val_loss': 0.03153808376527167},\n",
              " {'epoch': 18,\n",
              "  'loss': 0.017442492986316078,\n",
              "  'time': 11.576793865000013,\n",
              "  'val_loss': 0.02928703002355717},\n",
              " {'epoch': 19,\n",
              "  'loss': 0.015969494064044847,\n",
              "  'time': 11.665869143999998,\n",
              "  'val_loss': 0.02735533432156832},\n",
              " {'epoch': 20,\n",
              "  'loss': 0.014720774580350704,\n",
              "  'time': 11.542703569999958,\n",
              "  'val_loss': 0.02569137365222574},\n",
              " {'epoch': 21,\n",
              "  'loss': 0.013647228540448067,\n",
              "  'time': 11.540121579000015,\n",
              "  'val_loss': 0.024222167676782702},\n",
              " {'epoch': 22,\n",
              "  'loss': 0.012715295734428414,\n",
              "  'time': 11.58497091999999,\n",
              "  'val_loss': 0.022924272479625554},\n",
              " {'epoch': 23,\n",
              "  'loss': 0.011898064779842997,\n",
              "  'time': 11.589154002999976,\n",
              "  'val_loss': 0.0217717456984687},\n",
              " {'epoch': 24,\n",
              "  'loss': 0.011174681135807541,\n",
              "  'time': 11.623528161999957,\n",
              "  'val_loss': 0.020733088176619185},\n",
              " {'epoch': 25,\n",
              "  'loss': 0.01052974774506879,\n",
              "  'time': 11.746433698999908,\n",
              "  'val_loss': 0.019793566491630103},\n",
              " {'epoch': 26,\n",
              "  'loss': 0.009951238606677012,\n",
              "  'time': 11.676689418000024,\n",
              "  'val_loss': 0.01895001004669103},\n",
              " {'epoch': 27,\n",
              "  'loss': 0.009429267221908863,\n",
              "  'time': 11.612606804000052,\n",
              "  'val_loss': 0.01817288495659888},\n",
              " {'epoch': 28,\n",
              "  'loss': 0.008955310953238437,\n",
              "  'time': 11.671301204999963,\n",
              "  'val_loss': 0.01746393103447106},\n",
              " {'epoch': 29,\n",
              "  'loss': 0.008522910405988912,\n",
              "  'time': 11.623488164000037,\n",
              "  'val_loss': 0.01681302893753942},\n",
              " {'epoch': 30,\n",
              "  'loss': 0.00812726078701352,\n",
              "  'time': 11.668690422000054,\n",
              "  'val_loss': 0.01621371968178539},\n",
              " {'epoch': 31,\n",
              "  'loss': 0.007763497663211559,\n",
              "  'time': 11.67088706200002,\n",
              "  'val_loss': 0.015658369608544134},\n",
              " {'epoch': 32,\n",
              "  'loss': 0.00742788512392102,\n",
              "  'time': 11.69717032899996,\n",
              "  'val_loss': 0.0151393566974201},\n",
              " {'epoch': 33,\n",
              "  'loss': 0.007116981828981475,\n",
              "  'time': 11.721655383000098,\n",
              "  'val_loss': 0.014659564173943526},\n",
              " {'epoch': 34,\n",
              "  'loss': 0.006828422964099809,\n",
              "  'time': 11.658161200999984,\n",
              "  'val_loss': 0.014211675426265499},\n",
              " {'epoch': 35,\n",
              "  'loss': 0.006559998666806085,\n",
              "  'time': 11.698334118000048,\n",
              "  'val_loss': 0.013788821468422483},\n",
              " {'epoch': 36,\n",
              "  'loss': 0.006309382498319782,\n",
              "  'time': 11.699495968000065,\n",
              "  'val_loss': 0.013391543187208482},\n",
              " {'epoch': 37,\n",
              "  'loss': 0.00607502345917271,\n",
              "  'time': 11.756205808999994,\n",
              "  'val_loss': 0.013020716227210677},\n",
              " {'epoch': 38,\n",
              "  'loss': 0.005855387572228939,\n",
              "  'time': 11.760307075000014,\n",
              "  'val_loss': 0.012672511918528064},\n",
              " {'epoch': 39,\n",
              "  'loss': 0.005649007692302878,\n",
              "  'time': 11.860289791000014,\n",
              "  'val_loss': 0.012344369077467703},\n",
              " {'epoch': 40,\n",
              "  'loss': 0.0054548619865291605,\n",
              "  'time': 11.745131481000044,\n",
              "  'val_loss': 0.01203622511057584}]"
            ]
          },
          "metadata": {
            "tags": []
          },
          "execution_count": 13
        }
      ]
    },
    {
      "cell_type": "markdown",
      "metadata": {
        "id": "u533lDNqYjIa"
      },
      "source": [
        "## Evaluation"
      ]
    },
    {
      "cell_type": "markdown",
      "metadata": {
        "id": "0_J-NaYhYZg1"
      },
      "source": [
        "As you have also noticed from the training logs, in this try we achieved the best performance (considering the validation loss) at the 40th epoch. The weights of the network for the corresponding epoch have been automatically saved by the `Experiment` function and we use these parameters to evaluate our algorithm visually. For this purpose, we utilize the `load_checkpoint` method and set its argument to `best` to load the best weights of the model automatically. Finally,  we take advantage of the `evaluate` function of Poutyne, and apply it to the validation dataset. It provides us the predictions as well as the ground-truth for comparison, in case of need."
      ]
    },
    {
      "cell_type": "code",
      "metadata": {
        "id": "Gqki-sYR3paj",
        "colab": {
          "base_uri": "https://localhost:8080/"
        },
        "outputId": "95ecde79-2769-48a5-c0b9-431223dee7e7"
      },
      "source": [
        "exp.load_checkpoint('best')\n",
        "model = exp.model\n",
        "loss, predictions, ground_truth = model.evaluate_generator(valid_dataloader, return_pred=True, return_ground_truth=True)"
      ],
      "execution_count": 14,
      "outputs": [
        {
          "output_type": "stream",
          "text": [
            "Test steps: 32 4.21s test_loss: 0.012036                                \n"
          ],
          "name": "stdout"
        }
      ]
    },
    {
      "cell_type": "markdown",
      "metadata": {
        "id": "7BH_XxgQjGDa"
      },
      "source": [
        "The ``callbacks`` feature of Poutyne, also used by the Experiment class, records the training logs. We can use this information to monitor and analyze the training process."
      ]
    },
    {
      "cell_type": "code",
      "metadata": {
        "id": "TZATeTicxV7c",
        "colab": {
          "base_uri": "https://localhost:8080/"
        },
        "outputId": "af150d52-578f-4b13-f1ba-8478025192ae"
      },
      "source": [
        "logs = pd.read_csv('./saves/two_task_example/log.tsv', sep='\\t')\n",
        "print(logs)"
      ],
      "execution_count": 15,
      "outputs": [
        {
          "output_type": "stream",
          "text": [
            "    epoch       time     lr      loss  val_loss\n",
            "0       1  11.682349  0.005  0.775775  0.640435\n",
            "1       2  11.304650  0.005  0.637852  0.539809\n",
            "2       3  11.379904  0.005  0.531476  0.447577\n",
            "3       4  11.273647  0.005  0.421999  0.353043\n",
            "4       5  11.293215  0.005  0.313470  0.267972\n",
            "5       6  11.388816  0.005  0.219526  0.196479\n",
            "6       7  11.434487  0.005  0.150263  0.143902\n",
            "7       8  11.476735  0.005  0.104579  0.109940\n",
            "8       9  11.453176  0.005  0.075892  0.086965\n",
            "9      10  11.403157  0.005  0.057761  0.071078\n",
            "10     11  11.500425  0.005  0.045851  0.060077\n",
            "11     12  11.541169  0.005  0.037653  0.052114\n",
            "12     13  11.510132  0.005  0.031765  0.045999\n",
            "13     14  11.530704  0.005  0.027375  0.041209\n",
            "14     15  11.451873  0.005  0.024006  0.037356\n",
            "15     16  11.515705  0.005  0.021349  0.034197\n",
            "16     17  11.608820  0.005  0.019206  0.031538\n",
            "17     18  11.576794  0.005  0.017442  0.029287\n",
            "18     19  11.665869  0.005  0.015969  0.027355\n",
            "19     20  11.542704  0.005  0.014721  0.025691\n",
            "20     21  11.540122  0.005  0.013647  0.024222\n",
            "21     22  11.584971  0.005  0.012715  0.022924\n",
            "22     23  11.589154  0.005  0.011898  0.021772\n",
            "23     24  11.623528  0.005  0.011175  0.020733\n",
            "24     25  11.746434  0.005  0.010530  0.019794\n",
            "25     26  11.676689  0.005  0.009951  0.018950\n",
            "26     27  11.612607  0.005  0.009429  0.018173\n",
            "27     28  11.671301  0.005  0.008955  0.017464\n",
            "28     29  11.623488  0.005  0.008523  0.016813\n",
            "29     30  11.668690  0.005  0.008127  0.016214\n",
            "30     31  11.670887  0.005  0.007763  0.015658\n",
            "31     32  11.697170  0.005  0.007428  0.015139\n",
            "32     33  11.721655  0.005  0.007117  0.014660\n",
            "33     34  11.658161  0.005  0.006828  0.014212\n",
            "34     35  11.698334  0.005  0.006560  0.013789\n",
            "35     36  11.699496  0.005  0.006309  0.013392\n",
            "36     37  11.756206  0.005  0.006075  0.013021\n",
            "37     38  11.760307  0.005  0.005855  0.012673\n",
            "38     39  11.860290  0.005  0.005649  0.012344\n",
            "39     40  11.745131  0.005  0.005455  0.012036\n"
          ],
          "name": "stdout"
        }
      ]
    },
    {
      "cell_type": "code",
      "metadata": {
        "id": "kPgGEXLpBRqi",
        "colab": {
          "base_uri": "https://localhost:8080/",
          "height": 281
        },
        "outputId": "702f3a2f-3deb-4ce5-ba64-1f540430036d"
      },
      "source": [
        "train_loss = logs.loss\n",
        "valid_loss = logs.val_loss\n",
        "plt.plot(train_loss)\n",
        "plt.plot(valid_loss)\n",
        "plt.legend(['train_loss','valid_loss'])\n",
        "plt.title('training and validation losses')\n",
        "plt.show()"
      ],
      "execution_count": 16,
      "outputs": [
        {
          "output_type": "display_data",
          "data": {
            "image/png": "[encoded data removed]",
            "text/plain": [
              "<Figure size 432x288 with 1 Axes>"
            ]
          },
          "metadata": {
            "tags": [],
            "needs_background": "light"
          }
        }
      ]
    },
    {
      "cell_type": "markdown",
      "metadata": {
        "id": "wrrndK5L7QSm"
      },
      "source": [
        "We can also evaluate the performance of the trained network (a network with the best weights) on any dataset, as below:"
      ]
    },
    {
      "cell_type": "code",
      "metadata": {
        "id": "PXqnJiev9nzW",
        "colab": {
          "base_uri": "https://localhost:8080/"
        },
        "outputId": "a67a35bd-6b11-4267-d9fa-3476b8b169f6"
      },
      "source": [
        "exp.test(test_dataloader)"
      ],
      "execution_count": 17,
      "outputs": [
        {
          "output_type": "stream",
          "text": [
            "Found best checkpoint at epoch: 40\n",
            "lr: 0.005, loss: 0.00545486, val_loss: 0.0120362\n",
            "Loading checkpoint ./saves/two_task_example/checkpoint_epoch_40.ckpt\n",
            "Running test\n",
            "Test steps: 624 85.35s test_loss: 1.549294                                \n"
          ],
          "name": "stdout"
        },
        {
          "output_type": "execute_result",
          "data": {
            "text/plain": [
              "{'test_loss': 1.5492943743165994, 'time': 85.35328578999997}"
            ]
          },
          "metadata": {
            "tags": []
          },
          "execution_count": 17
        }
      ]
    },
    {
      "cell_type": "markdown",
      "metadata": {
        "id": "TXmExGe47pZK"
      },
      "source": [
        "Now let's evaluate the performance of the network visually."
      ]
    },
    {
      "cell_type": "code",
      "metadata": {
        "id": "JmGadRyuw7df",
        "colab": {
          "base_uri": "https://localhost:8080/",
          "height": 266
        },
        "outputId": "567971ce-93fb-4d6c-8e1d-74a18974df68"
      },
      "source": [
        "sample_number = 285\n",
        "image = valid_dataset[sample_number][0]\n",
        "image = image.permute(1,2,0).detach().numpy()\n",
        "image_rgb = cv2.cvtColor(np.float32(image), cv2.COLOR_BGR2RGB)\n",
        "image_rgb = image_rgb * imagenet_std + imagenet_mean\n",
        "gender = 'male' if np.argmax(predictions[0][sample_number])==0 else 'female'\n",
        "print('Gender is:', gender)\n",
        "(x_L, y_L) = predictions[1][sample_number][0:2]*image_size\n",
        "(x_R, y_R) = predictions[1][sample_number][2:4]*image_size\n",
        "x_L, x_R = int(x_L), int(x_R)\n",
        "y_L, y_R = int(y_L), int(y_R)\n",
        "image_rgb = cv2.drawMarker(image_rgb, (x_L,y_L), (0,255,0))\n",
        "image_rgb = cv2.drawMarker(image_rgb, (x_R,y_R), (0,255,0))\n",
        "image_rgb = cv2.cvtColor(np.float32(image_rgb), cv2.COLOR_BGR2RGB)\n",
        "image_rgb = np.clip(image_rgb , 0, 1)\n",
        "plt.imshow(image_rgb)\n",
        "plt.axis('off')\n",
        "plt.show()"
      ],
      "execution_count": 23,
      "outputs": [
        {
          "output_type": "stream",
          "text": [
            "Gender is: male\n"
          ],
          "name": "stdout"
        },
        {
          "output_type": "display_data",
          "data": {
            "image/png": "[encoded data removed]",
            "text/plain": [
              "<Figure size 432x288 with 1 Axes>"
            ]
          },
          "metadata": {
            "tags": [],
            "needs_background": "light"
          }
        }
      ]
    }
  ]
}