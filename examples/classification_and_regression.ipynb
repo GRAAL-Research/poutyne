{
 "cells": [
  {
   "cell_type": "markdown",
   "metadata": {
    "id": "9gmgN61SirPE"
   },
   "source": [
    "# Gender Classification and Eyes Localization"
   ]
  },
  {
   "cell_type": "markdown",
   "metadata": {
    "id": "syR65Pohizmh"
   },
   "source": [
    "In this example, we are going to implement a multi-task problem. We try to identify the gender of the people, as well as locating their eyes in the images. Hence, we have two different tasks: classification (to identify the gender) and regression (to find the location of the eyes). We are going to use a single network (A CNN) to perform both tasks, however, we will need to apply different loss functions, each proper to a specific task. "
   ]
  },
  {
   "cell_type": "code",
   "execution_count": null,
   "metadata": {
    "colab": {
     "base_uri": "https://localhost:8080/"
    },
    "id": "VAG5NDFCiqxG",
    "outputId": "632131fe-443a-4c41-cde1-d2cdea48a9e2"
   },
   "outputs": [
    {
     "name": "stdout",
     "output_type": "stream",
     "text": [
      "Requirement already satisfied: poutyne in /usr/local/lib/python3.7/dist-packages (1.4)\n",
      "Requirement already satisfied: numpy in /usr/local/lib/python3.7/dist-packages (from poutyne) (1.19.5)\n",
      "Requirement already satisfied: torch in /usr/local/lib/python3.7/dist-packages (from poutyne) (1.8.1+cu101)\n",
      "Requirement already satisfied: typing-extensions in /usr/local/lib/python3.7/dist-packages (from torch->poutyne) (3.7.4.3)\n"
     ]
    }
   ],
   "source": [
    "%pip install poutyne    # to install the putyne library"
   ]
  },
  {
   "cell_type": "markdown",
   "metadata": {
    "id": "pUiFHqwBEBBx"
   },
   "source": [
    "\n",
    "Let’s import all the needed packages."
   ]
  },
  {
   "cell_type": "code",
   "execution_count": null,
   "metadata": {
    "id": "e3vspk0bpkbn"
   },
   "outputs": [],
   "source": [
    "%matplotlib inline\n",
    "%reload_ext autoreload\n",
    "%autoreload 2\n",
    "\n",
    "import math\n",
    "import os\n",
    "import matplotlib.pyplot as plt\n",
    "import numpy as np\n",
    "import pandas as pd\n",
    "import gdown\n",
    "import zipfile\n",
    "import cv2\n",
    "from natsort import natsorted\n",
    "import torch\n",
    "import torch.nn as nn\n",
    "import torch.nn.functional as F\n",
    "import torch.optim as optim\n",
    "from torch.autograd import Variable\n",
    "import torchvision.datasets as datasets\n",
    "import torchvision.models as models\n",
    "import torchvision.transforms as tfms\n",
    "from poutyne import set_seeds, Model, ModelCheckpoint, CSVLogger, Experiment, StepLR\n",
    "from torch.utils.data import DataLoader, Subset, Dataset\n",
    "from torchvision.utils import make_grid"
   ]
  },
  {
   "cell_type": "markdown",
   "metadata": {
    "id": "NTIP6sKzENto"
   },
   "source": [
    "\n",
    "## Training Constants"
   ]
  },
  {
   "cell_type": "code",
   "execution_count": null,
   "metadata": {
    "colab": {
     "base_uri": "https://localhost:8080/"
    },
    "id": "vSfN1KvNpkgh",
    "outputId": "03193a30-48e7-4178-dba5-9d0142c24578"
   },
   "outputs": [
    {
     "name": "stdout",
     "output_type": "stream",
     "text": [
      "The running processor is... cuda\n"
     ]
    }
   ],
   "source": [
    "num_epochs = 3\n",
    "learning_rate = 0.01\n",
    "batch_size = 32\n",
    "image_size = 224\n",
    "valid_split_percent = 0.1\n",
    "momentum = 0.5\n",
    "set_seeds(42)\n",
    "imagenet_mean = [0.485, 0.456, 0.406]  # mean of the ImageNet dataset for normalizing \n",
    "imagenet_std = [0.229, 0.224, 0.225]  # std of the ImageNet dataset for normalizing\n",
    "device = torch.device('cuda' if torch.cuda.is_available() else 'cpu')\n",
    "print('The running processor is...', device) "
   ]
  },
  {
   "cell_type": "markdown",
   "metadata": {
    "id": "-9boLeZbaHVl"
   },
   "source": [
    "## CelebA Dataset"
   ]
  },
  {
   "cell_type": "markdown",
   "metadata": {
    "id": "rFVlGoTBaMbU"
   },
   "source": [
    "We are going to use CelebA dataset for this experiment. The CelebA \n",
    "dataset  is a large-scale face attributes dataset which can be employed as the training and test sets for the following computer vision tasks: face attribute recognition, face detection, landmark (or facial part) localization, and face editing & synthesis."
   ]
  },
  {
   "cell_type": "markdown",
   "metadata": {
    "id": "QhGYzr9-TgR7"
   },
   "source": [
    "## Fetching data \n"
   ]
  },
  {
   "cell_type": "markdown",
   "metadata": {
    "id": "nrTAzlJVxc_M"
   },
   "source": [
    "The section below consists of a few lines of codes that help us download celebA dataset from a public web source and unzip them."
   ]
  },
  {
   "cell_type": "code",
   "execution_count": null,
   "metadata": {
    "colab": {
     "base_uri": "https://localhost:8080/"
    },
    "id": "kq4uNCfPRKR4",
    "outputId": "5d197ce7-8ce0-4c97-e2a1-7e8528e17ba4"
   },
   "outputs": [
    {
     "name": "stderr",
     "output_type": "stream",
     "text": [
      "Downloading...\n",
      "From: https://graal.ift.ulaval.ca/public/celeba/img_align_celeba.zip\n",
      "To: /content/data/celeba/img_align_celeba.zip\n",
      "100%|██████████| 1.44G/1.44G [00:11<00:00, 122MB/s]\n",
      "Downloading...\n",
      "From: https://graal.ift.ulaval.ca/public/celeba/list_landmarks_align_celeba.txt\n",
      "To: /content/data/celeba/list_landmarks_align_celeba.txt\n",
      "100%|██████████| 12.2M/12.2M [00:00<00:00, 60.4MB/s]\n",
      "Downloading...\n",
      "From: https://graal.ift.ulaval.ca/public/celeba/list_attr_celeba.txt\n",
      "To: /content/data/celeba/list_attr_celeba.txt\n",
      "100%|██████████| 26.7M/26.7M [00:00<00:00, 36.4MB/s]\n"
     ]
    }
   ],
   "source": [
    "data_root = 'data/celeba'\n",
    "# Path to folder with the dataset\n",
    "dataset_folder = f'{data_root}/img_align_celeba'\n",
    "\n",
    "# URL for the CelebA dataset (aligned images, attributes, landmasrks)\n",
    "url = 'https://graal.ift.ulaval.ca/public/celeba/img_align_celeba.zip'\n",
    "attr_url = 'https://graal.ift.ulaval.ca/public/celeba/list_attr_celeba.txt'\n",
    "land_mark_url = 'https://graal.ift.ulaval.ca/public/celeba/list_landmarks_align_celeba.txt'\n",
    "\n",
    "# Path to download the dataset to\n",
    "download_path = f'{data_root}/img_align_celeba.zip'\n",
    "land_mark_path = f'{data_root}/list_landmarks_align_celeba.txt'\n",
    "attr_path = f'{data_root}/list_attr_celeba.txt'\n",
    "\n",
    "# Create required directories \n",
    "if not os.path.exists(data_root):\n",
    "  os.makedirs(data_root)\n",
    "  os.makedirs(dataset_folder)\n",
    "\n",
    "# Download the dataset from the source\n",
    "gdown.download(url, download_path, quiet=False)\n",
    "gdown.download(land_mark_url, land_mark_path, quiet=False)\n",
    "gdown.download(attr_url, attr_path, quiet=False)\n",
    "\n",
    "# Unzip the downloaded file \n",
    "with zipfile.ZipFile(download_path, 'r') as ziphandler:\n",
    "  ziphandler.extractall(dataset_folder)"
   ]
  },
  {
   "cell_type": "markdown",
   "metadata": {
    "id": "UnmjepBnTq3_"
   },
   "source": [
    "## Create a custom Dataset class"
   ]
  },
  {
   "cell_type": "markdown",
   "metadata": {
    "id": "4zbpOQJfyY2A"
   },
   "source": [
    "As we are going to implement a multi-task problem by a single CNN, we should provide the CNN with the ground truth in a proper way. Here, we have two different tasks: classification and regression. In the classification task, the goal is to identify the gender. The labels of the gender for each image are saved in the `list_attr_celeba.txt` file, in which 1 stands for male and -1 for female. Since we consider the loss of both tasks simultaneously, we scale all target values to the range of [0,1]. Hence, the gender labels will be changes as well, 1 for male and 0 for female.\n",
    "For the localization part, the coordinates of the eyes (Left and Right) are provided in the `list_landmarks_align_celeba.txt` file. In addition to scaling the number to the range of [0,1], we also need to rescale the coordinates to the image's new size (224,224)."
   ]
  },
  {
   "cell_type": "code",
   "execution_count": null,
   "metadata": {
    "id": "5M-syCA4Ry24"
   },
   "outputs": [],
   "source": [
    "class CelebADataset(Dataset):\n",
    "  def __init__(self, root_dir, transform=None):\n",
    "    img_folder = data_root + '/img_align_celeba/img_align_celeba'\n",
    "    image_names = os.listdir(img_folder)\n",
    "    self.root_dir = img_folder\n",
    "    self.data_root = data_root\n",
    "    self.transform = transform \n",
    "    self.image_names = natsorted(image_names)\n",
    "\n",
    "  def __len__(self): \n",
    "    return len(self.image_names)\n",
    "\n",
    "  def __getitem__(self, idx):\n",
    "    # Get the path to the image \n",
    "    img_path = os.path.join(self.root_dir, self.image_names[idx])\n",
    "    img = cv2.imread(img_path)\n",
    "    w, h, _ = img.shape\n",
    "    img = cv2.resize(img, (image_size, image_size))\n",
    "\n",
    "    # Apply transformations to the image\n",
    "    if self.transform:\n",
    "      img = self.transform(img)\n",
    "\n",
    "    img.requires_grad=True\n",
    "    land_mark = open(f'{self.data_root}/list_landmarks_align_celeba.txt','r').readlines()[idx+2]\n",
    "    land_mark_contents = land_mark.split(' ')\n",
    "    land_mark_contents = [x for x in land_mark_contents if x]\n",
    "    x_L, y_L ,x_R, y_R = int(land_mark_contents[1]), int(land_mark_contents[2]), int(land_mark_contents[3]), int(land_mark_contents[4])\n",
    "    w_scale = image_size/w\n",
    "    h_scale = image_size/h\n",
    "    x_L, x_R = (x_L*h_scale/h), (x_R*h_scale/h)  #rescaling for the size of (224,224) and finaly to the range of [0,1]\n",
    "    y_L, y_R = (y_L*w_scale/w), (y_R*w_scale/w)\n",
    "    attr = open(f'{self.data_root}/list_attr_celeba.txt','r').readlines()[idx+2]\n",
    "    attr_contents = attr.split(' ')\n",
    "    attr_contents = [x for x in attr_contents if x]\n",
    "    gender = attr_contents[21]\n",
    "    gender = int((int(gender)+1)/2)\n",
    "    #return img, torch.tensor([gender, x_L, y_L, x_R, y_R, h, w])\n",
    "    return img, (torch.tensor(gender), torch.tensor([x_L, y_L, x_R, y_R]),[w, h])\n",
    "\n",
    "transform=tfms.Compose([\n",
    "    tfms.ToTensor(),\n",
    "    tfms.Normalize(imagenet_mean, imagenet_std)\n",
    "])\n",
    "\n",
    "celeba_dataset = CelebADataset(data_root, transform)\n",
    "celeba_dataloader = DataLoader(celeba_dataset, batch_size=batch_size, shuffle=True)\n",
    "full_dataset_length = len(celeba_dataset)\n",
    "indices = list(np.arange(full_dataset_length))\n",
    "np.random.shuffle(indices)\n",
    "train_indices = indices[math.floor(full_dataset_length * valid_split_percent):]\n",
    "valid_indices = indices[:math.floor(full_dataset_length * valid_split_percent)]\n",
    "train_dataset = Subset(celeba_dataset, train_indices)\n",
    "valid_dataset = Subset(celeba_dataset, valid_indices)\n",
    "train_dataloader = DataLoader(train_dataset, batch_size=batch_size, shuffle=True)\n",
    "valid_dataloader = DataLoader(valid_dataset, batch_size=batch_size, shuffle=False)"
   ]
  },
  {
   "cell_type": "code",
   "execution_count": null,
   "metadata": {
    "colab": {
     "base_uri": "https://localhost:8080/"
    },
    "id": "eaZUdAsRgrd9",
    "outputId": "b5f11c11-848c-4972-ffe7-cb28e236c0c5"
   },
   "outputs": [
    {
     "data": {
      "text/plain": [
       "(tensor([[[-1.7240, -1.7240, -1.7240,  ..., -1.8439, -1.8439, -1.8439],\n",
       "          [-1.7240, -1.7240, -1.7240,  ..., -1.8439, -1.8439, -1.8439],\n",
       "          [-1.7240, -1.7240, -1.7240,  ..., -1.8439, -1.8439, -1.8439],\n",
       "          ...,\n",
       "          [-2.0323, -1.9809, -1.8953,  ..., -0.4054, -0.3541, -0.3541],\n",
       "          [-1.7754, -1.7583, -1.7240,  ..., -0.4226, -0.3883, -0.3883],\n",
       "          [-1.5870, -1.5699, -1.5357,  ..., -0.4226, -0.3883, -0.3883]],\n",
       " \n",
       "         [[-1.4055, -1.4055, -1.4055,  ..., -1.6155, -1.6155, -1.6155],\n",
       "          [-1.4055, -1.4055, -1.4055,  ..., -1.6155, -1.6155, -1.6155],\n",
       "          [-1.4055, -1.4055, -1.4055,  ..., -1.6155, -1.6155, -1.6155],\n",
       "          ...,\n",
       "          [-1.6681, -1.5805, -1.4755,  ..., -0.1099, -0.0749, -0.0749],\n",
       "          [-1.3880, -1.3354, -1.3004,  ..., -0.1275, -0.1099, -0.1099],\n",
       "          [-1.1779, -1.1253, -1.0903,  ..., -0.1275, -0.1099, -0.1099]],\n",
       " \n",
       "         [[-1.1421, -1.1421, -1.1421,  ..., -1.3861, -1.3861, -1.3861],\n",
       "          [-1.1421, -1.1421, -1.1421,  ..., -1.3861, -1.3861, -1.3861],\n",
       "          [-1.1421, -1.1421, -1.1421,  ..., -1.3861, -1.3861, -1.3861],\n",
       "          ...,\n",
       "          [-1.0376, -0.9504, -0.8110,  ...,  0.4614,  0.4962,  0.4962],\n",
       "          [-0.6890, -0.6541, -0.5670,  ...,  0.4439,  0.4614,  0.4614],\n",
       "          [-0.4450, -0.4101, -0.3230,  ...,  0.4439,  0.4614,  0.4614]]],\n",
       "        requires_grad=True),\n",
       " (tensor(0), tensor([0.4949, 0.5279, 0.7565, 0.5185]), [218, 178]))"
      ]
     },
     "execution_count": 8,
     "metadata": {
      "tags": []
     },
     "output_type": "execute_result"
    }
   ],
   "source": [
    "# this cell will be removed (just a smaller sized dataset to find hyper parameters)\n",
    "z = Subset(celeba_dataset, np.arange(1,100))\n",
    "z1 = Subset(celeba_dataset, np.arange(1,300))\n",
    "train_dataloader = DataLoader(z1, batch_size=batch_size, shuffle=True)\n",
    "valid_dataloader = DataLoader(z, batch_size=batch_size, shuffle=True)\n",
    "z[25]"
   ]
  },
  {
   "cell_type": "markdown",
   "metadata": {
    "id": "tFQpqD3hWcNX"
   },
   "source": [
    "Here, we can see an example from the training dataset."
   ]
  },
  {
   "cell_type": "code",
   "execution_count": null,
   "metadata": {
    "colab": {
     "base_uri": "https://localhost:8080/",
     "height": 265
    },
    "id": "ZgVduT00VWis",
    "outputId": "249cf511-b79c-45f6-9f49-ecbfbc967bc8"
   },
   "outputs": [
    {
     "name": "stdout",
     "output_type": "stream",
     "text": [
      "Gender is:  female\n"
     ]
    },
    {
     "data": {
      "image/png": "[encoded data removed]",
      "text/plain": [
       "<Figure size 432x288 with 1 Axes>"
      ]
     },
     "metadata": {
      "needs_background": "light",
      "tags": []
     },
     "output_type": "display_data"
    }
   ],
   "source": [
    "sample_number = 16\n",
    "image = train_dataset[sample_number][0]\n",
    "image = image.permute(1,2,0).detach().numpy()\n",
    "image_rgb = cv2.cvtColor(np.float32(image), cv2.COLOR_BGR2RGB)\n",
    "Gender = 'male' if int(train_dataset[sample_number][1][0])==1 else 'female'\n",
    "print('Gender is: ', Gender)\n",
    "w, h = train_dataset[sample_number][1][2]\n",
    "(x1, y1) = train_dataset[sample_number][1][1][0:2]\n",
    "(x2, y2) = train_dataset[sample_number][1][1][2:4]\n",
    "x1, x2 = int(x1*h), int(x2*h)\n",
    "y1, y2 = int(y1*w), int(y2*w)\n",
    "image_rgb\t=\tcv2.drawMarker(image_rgb, (x1,y1), (0,255,0))\n",
    "image_rgb\t=\tcv2.drawMarker(image_rgb, (x2,y2), (0,255,0))\n",
    "image_rgb = np.clip(image_rgb , 0, 1)\n",
    "plt.imshow(image_rgb)\n",
    "plt.axis('off')\n",
    "plt.show()"
   ]
  },
  {
   "cell_type": "markdown",
   "metadata": {
    "id": "dz7aGIxCYOOP"
   },
   "source": [
    "## Network"
   ]
  },
  {
   "cell_type": "markdown",
   "metadata": {
    "id": "J6DpjTWLtn2c"
   },
   "source": [
    "Below, we define a new class, named 'ClassifierLocalizer, which accepts a pre-trained CNN and changes its last fully connected layer to be proper for the two task problem. The new fully connected layer contains 6 neurons, 2 for the classification task (male or female) and 4 for the localization task (x and y for the left and right eyes). Moreover, to put the location results on the same scale as the class scores, we apply the sigmoid function to the neurons assigned for the localization task."
   ]
  },
  {
   "cell_type": "code",
   "execution_count": null,
   "metadata": {
    "id": "9PP6UwOsJRLX"
   },
   "outputs": [],
   "source": [
    "class ClassifierLocalizer(nn.Module):\n",
    "    def __init__(self, model_name, num_classes=2):\n",
    "        super(ClassifierLocalizer, self).__init__()\n",
    "        self.num_classes = num_classes\n",
    "        \n",
    "        # create cnn model\n",
    "        model = models.__dict__[model_name](True)\n",
    "        \n",
    "        # remove fc layers and add a new fc layer\n",
    "        num_features = model.fc.in_features\n",
    "        model.fc = nn.Linear(num_features, 6) # classifier + localizer\n",
    "        self.model = model\n",
    "    \n",
    "    def forward(self, x):\n",
    "        x = self.model(x)                    # extract features from CNN\n",
    "        scores = x[:, :self.num_classes]     # class scores\n",
    "        coords = x[:, self.num_classes:]     # coordinates\n",
    "        return [scores, F.sigmoid(coords)[:]]     # sigmoid output is in [0, 1]"
   ]
  },
  {
   "cell_type": "markdown",
   "metadata": {
    "id": "WHeo0eIEy36f"
   },
   "source": [
    "Regarding the complexity of the problem, the number of the samples in the training dataset, and the similarity of the training dataset to the ImageNet dataset, we may decide to freeze some of the layers. In our current example, based on the mentioned factors, we freeze just the last fully connected layer."
   ]
  },
  {
   "cell_type": "code",
   "execution_count": null,
   "metadata": {
    "colab": {
     "base_uri": "https://localhost:8080/"
    },
    "id": "irne02N9vK9e",
    "outputId": "52f5c28c-15e1-4b23-91a2-9ec5c69de9e8"
   },
   "outputs": [
    {
     "data": {
      "text/plain": [
       "ClassifierLocalizer(\n",
       "  (model): ResNet(\n",
       "    (conv1): Conv2d(3, 64, kernel_size=(7, 7), stride=(2, 2), padding=(3, 3), bias=False)\n",
       "    (bn1): BatchNorm2d(64, eps=1e-05, momentum=0.1, affine=True, track_running_stats=True)\n",
       "    (relu): ReLU(inplace=True)\n",
       "    (maxpool): MaxPool2d(kernel_size=3, stride=2, padding=1, dilation=1, ceil_mode=False)\n",
       "    (layer1): Sequential(\n",
       "      (0): BasicBlock(\n",
       "        (conv1): Conv2d(64, 64, kernel_size=(3, 3), stride=(1, 1), padding=(1, 1), bias=False)\n",
       "        (bn1): BatchNorm2d(64, eps=1e-05, momentum=0.1, affine=True, track_running_stats=True)\n",
       "        (relu): ReLU(inplace=True)\n",
       "        (conv2): Conv2d(64, 64, kernel_size=(3, 3), stride=(1, 1), padding=(1, 1), bias=False)\n",
       "        (bn2): BatchNorm2d(64, eps=1e-05, momentum=0.1, affine=True, track_running_stats=True)\n",
       "      )\n",
       "      (1): BasicBlock(\n",
       "        (conv1): Conv2d(64, 64, kernel_size=(3, 3), stride=(1, 1), padding=(1, 1), bias=False)\n",
       "        (bn1): BatchNorm2d(64, eps=1e-05, momentum=0.1, affine=True, track_running_stats=True)\n",
       "        (relu): ReLU(inplace=True)\n",
       "        (conv2): Conv2d(64, 64, kernel_size=(3, 3), stride=(1, 1), padding=(1, 1), bias=False)\n",
       "        (bn2): BatchNorm2d(64, eps=1e-05, momentum=0.1, affine=True, track_running_stats=True)\n",
       "      )\n",
       "    )\n",
       "    (layer2): Sequential(\n",
       "      (0): BasicBlock(\n",
       "        (conv1): Conv2d(64, 128, kernel_size=(3, 3), stride=(2, 2), padding=(1, 1), bias=False)\n",
       "        (bn1): BatchNorm2d(128, eps=1e-05, momentum=0.1, affine=True, track_running_stats=True)\n",
       "        (relu): ReLU(inplace=True)\n",
       "        (conv2): Conv2d(128, 128, kernel_size=(3, 3), stride=(1, 1), padding=(1, 1), bias=False)\n",
       "        (bn2): BatchNorm2d(128, eps=1e-05, momentum=0.1, affine=True, track_running_stats=True)\n",
       "        (downsample): Sequential(\n",
       "          (0): Conv2d(64, 128, kernel_size=(1, 1), stride=(2, 2), bias=False)\n",
       "          (1): BatchNorm2d(128, eps=1e-05, momentum=0.1, affine=True, track_running_stats=True)\n",
       "        )\n",
       "      )\n",
       "      (1): BasicBlock(\n",
       "        (conv1): Conv2d(128, 128, kernel_size=(3, 3), stride=(1, 1), padding=(1, 1), bias=False)\n",
       "        (bn1): BatchNorm2d(128, eps=1e-05, momentum=0.1, affine=True, track_running_stats=True)\n",
       "        (relu): ReLU(inplace=True)\n",
       "        (conv2): Conv2d(128, 128, kernel_size=(3, 3), stride=(1, 1), padding=(1, 1), bias=False)\n",
       "        (bn2): BatchNorm2d(128, eps=1e-05, momentum=0.1, affine=True, track_running_stats=True)\n",
       "      )\n",
       "    )\n",
       "    (layer3): Sequential(\n",
       "      (0): BasicBlock(\n",
       "        (conv1): Conv2d(128, 256, kernel_size=(3, 3), stride=(2, 2), padding=(1, 1), bias=False)\n",
       "        (bn1): BatchNorm2d(256, eps=1e-05, momentum=0.1, affine=True, track_running_stats=True)\n",
       "        (relu): ReLU(inplace=True)\n",
       "        (conv2): Conv2d(256, 256, kernel_size=(3, 3), stride=(1, 1), padding=(1, 1), bias=False)\n",
       "        (bn2): BatchNorm2d(256, eps=1e-05, momentum=0.1, affine=True, track_running_stats=True)\n",
       "        (downsample): Sequential(\n",
       "          (0): Conv2d(128, 256, kernel_size=(1, 1), stride=(2, 2), bias=False)\n",
       "          (1): BatchNorm2d(256, eps=1e-05, momentum=0.1, affine=True, track_running_stats=True)\n",
       "        )\n",
       "      )\n",
       "      (1): BasicBlock(\n",
       "        (conv1): Conv2d(256, 256, kernel_size=(3, 3), stride=(1, 1), padding=(1, 1), bias=False)\n",
       "        (bn1): BatchNorm2d(256, eps=1e-05, momentum=0.1, affine=True, track_running_stats=True)\n",
       "        (relu): ReLU(inplace=True)\n",
       "        (conv2): Conv2d(256, 256, kernel_size=(3, 3), stride=(1, 1), padding=(1, 1), bias=False)\n",
       "        (bn2): BatchNorm2d(256, eps=1e-05, momentum=0.1, affine=True, track_running_stats=True)\n",
       "      )\n",
       "    )\n",
       "    (layer4): Sequential(\n",
       "      (0): BasicBlock(\n",
       "        (conv1): Conv2d(256, 512, kernel_size=(3, 3), stride=(2, 2), padding=(1, 1), bias=False)\n",
       "        (bn1): BatchNorm2d(512, eps=1e-05, momentum=0.1, affine=True, track_running_stats=True)\n",
       "        (relu): ReLU(inplace=True)\n",
       "        (conv2): Conv2d(512, 512, kernel_size=(3, 3), stride=(1, 1), padding=(1, 1), bias=False)\n",
       "        (bn2): BatchNorm2d(512, eps=1e-05, momentum=0.1, affine=True, track_running_stats=True)\n",
       "        (downsample): Sequential(\n",
       "          (0): Conv2d(256, 512, kernel_size=(1, 1), stride=(2, 2), bias=False)\n",
       "          (1): BatchNorm2d(512, eps=1e-05, momentum=0.1, affine=True, track_running_stats=True)\n",
       "        )\n",
       "      )\n",
       "      (1): BasicBlock(\n",
       "        (conv1): Conv2d(512, 512, kernel_size=(3, 3), stride=(1, 1), padding=(1, 1), bias=False)\n",
       "        (bn1): BatchNorm2d(512, eps=1e-05, momentum=0.1, affine=True, track_running_stats=True)\n",
       "        (relu): ReLU(inplace=True)\n",
       "        (conv2): Conv2d(512, 512, kernel_size=(3, 3), stride=(1, 1), padding=(1, 1), bias=False)\n",
       "        (bn2): BatchNorm2d(512, eps=1e-05, momentum=0.1, affine=True, track_running_stats=True)\n",
       "      )\n",
       "    )\n",
       "    (avgpool): AdaptiveAvgPool2d(output_size=(1, 1))\n",
       "    (fc): Linear(in_features=512, out_features=6, bias=True)\n",
       "  )\n",
       ")"
      ]
     },
     "execution_count": 15,
     "metadata": {
      "tags": []
     },
     "output_type": "execute_result"
    }
   ],
   "source": [
    "network = ClassifierLocalizer(model_name='resnet18')\n",
    "\n",
    "def freeze_weights(network):\n",
    "    for name, param in network.named_parameters():\n",
    "        if not name.startswith('fc.'):\n",
    "            param.requires_grad = False\n",
    "\n",
    "freeze_weights(network)\n",
    "network"
   ]
  },
  {
   "cell_type": "code",
   "execution_count": null,
   "metadata": {
    "id": "RnO4fNrsbOA4"
   },
   "outputs": [],
   "source": [
    "save_path = './callbacks'\n",
    "os.makedirs(save_path, exist_ok=True)\n",
    "callbacks = [\n",
    "    # Save the latest weights to be able to continue the optimization at the end for more epochs.\n",
    "    ModelCheckpoint(os.path.join(save_path, 'last_epoch.ckpt')),\n",
    "\n",
    "    # Save the weights in a new file when the current model is better than all previous models.\n",
    "    ModelCheckpoint(os.path.join(save_path, 'best_epoch_{epoch}.ckpt'), monitor='val_loss', mode='min',\n",
    "                    save_best_only=True, restore_best=True, verbose=True),\n",
    "\n",
    "    # Save the losses and accuracies for each epoch in a TSV.\n",
    "    CSVLogger(os.path.join(save_path, 'log.tsv'), separator='\\t'),\n",
    "]"
   ]
  },
  {
   "cell_type": "markdown",
   "metadata": {
    "id": "8482vAprYWgI"
   },
   "source": [
    "## Loss function"
   ]
  },
  {
   "cell_type": "markdown",
   "metadata": {
    "id": "DAa7rSqC3VJs"
   },
   "source": [
    "As we discussed before, we have two different tasks in this example. These tasks need different loss functions; Cross-Entropy loss for the classification and Mean Square Error loss for the regression. Below, we define a new loss function class that sums both losses to considers them simultaneously. However, as the regression is relatively a harder task, we apply a higher weight to MSEloss."
   ]
  },
  {
   "cell_type": "code",
   "execution_count": null,
   "metadata": {
    "id": "oCrU_k18J2Ps"
   },
   "outputs": [],
   "source": [
    "class classification_regression_Loss(nn.Module):\n",
    "    def __init__(self):\n",
    "        super(classification_regression_Loss, self).__init__()\n",
    "        self.ce_loss = nn.CrossEntropyLoss() # size_average=False\n",
    "        self.mse_loss = nn.MSELoss()\n",
    "        \n",
    "    def forward(self, y_pred, y_true):\n",
    "        # Cross Entropy Error (for classification)\n",
    "        loss_cls = self.ce_loss(y_pred[0], y_true[0]) \n",
    "        # Mean Squared Error (for landmarks)\n",
    "        loss_reg = self.mse_loss(y_pred[1], y_true[ 1])\n",
    "        total_loss = loss_reg + loss_cls\n",
    "        return total_loss"
   ]
  },
  {
   "cell_type": "markdown",
   "metadata": {
    "id": "e-ujQ315X9ku"
   },
   "source": [
    "## Training"
   ]
  },
  {
   "cell_type": "code",
   "execution_count": null,
   "metadata": {
    "colab": {
     "base_uri": "https://localhost:8080/"
    },
    "id": "IqGF7KaxcgI3",
    "outputId": "993da4b5-179f-44f5-c42b-c12d2ffa9ce2"
   },
   "outputs": [
    {
     "name": "stdout",
     "output_type": "stream",
     "text": [
      "\r",
      "Epoch:  1/28 Step:  1/10  10.00% |██                  |ETA: 34.14s loss: 0.838301"
     ]
    },
    {
     "name": "stderr",
     "output_type": "stream",
     "text": [
      "/usr/local/lib/python3.7/dist-packages/torch/nn/functional.py:1709: UserWarning: nn.functional.sigmoid is deprecated. Use torch.sigmoid instead.\n",
      "  warnings.warn(\"nn.functional.sigmoid is deprecated. Use torch.sigmoid instead.\")\n"
     ]
    },
    {
     "name": "stdout",
     "output_type": "stream",
     "text": [
      "Epoch:  1/28 Train steps: 10 Val steps: 4 45.32s loss: 0.946098 val_loss: 1.020222\n",
      "Epoch 1: val_loss improved from inf to 1.02022, saving file to ./two_task_example/checkpoint_epoch_1.ckpt\n",
      "Epoch 1: val_loss improved from inf to 1.02022, saving file to ./callbacks/best_epoch_1.ckpt\n",
      "Epoch:  2/28 Train steps: 10 Val steps: 4 44.93s loss: 0.942724 val_loss: 0.994162\n",
      "Epoch 2: val_loss improved from 1.02022 to 0.99416, saving file to ./two_task_example/checkpoint_epoch_2.ckpt\n",
      "Epoch 2: val_loss improved from 1.02022 to 0.99416, saving file to ./callbacks/best_epoch_2.ckpt\n",
      "Epoch:  3/28 Train steps: 10 Val steps: 4 45.88s loss: 0.953241 val_loss: 0.992527\n",
      "Epoch 3: val_loss improved from 0.99416 to 0.99253, saving file to ./two_task_example/checkpoint_epoch_3.ckpt\n",
      "Epoch 3: val_loss improved from 0.99416 to 0.99253, saving file to ./callbacks/best_epoch_3.ckpt\n",
      "Epoch:  4/28 Train steps: 10 Val steps: 4 45.19s loss: 0.942391 val_loss: 0.993987\n",
      "Epoch:  5/28 Train steps: 10 Val steps: 4 44.89s loss: 0.947461 val_loss: 0.995583\n",
      "Epoch:  6/28 Train steps: 10 Val steps: 4 44.88s loss: 0.953464 val_loss: 0.988757\n",
      "Epoch 6: val_loss improved from 0.99253 to 0.98876, saving file to ./two_task_example/checkpoint_epoch_6.ckpt\n",
      "Epoch 6: val_loss improved from 0.99253 to 0.98876, saving file to ./callbacks/best_epoch_6.ckpt\n",
      "Epoch:  7/28 Train steps: 10 Val steps: 4 45.04s loss: 0.947528 val_loss: 0.994922\n",
      "Epoch:  8/28 Train steps: 10 Val steps: 4 45.23s loss: 0.942345 val_loss: 0.996991\n",
      "Epoch:  9/28 Train steps: 10 Val steps: 4 45.25s loss: 0.939325 val_loss: 1.003592\n",
      "Epoch: 10/28 Train steps: 10 Val steps: 4 44.45s loss: 0.941813 val_loss: 0.998188\n",
      "Epoch: 11/28 Train steps: 10 Val steps: 4 44.06s loss: 0.948667 val_loss: 0.989213\n",
      "Epoch: 12/28 Train steps: 10 Val steps: 4 45.05s loss: 0.943913 val_loss: 0.987642\n",
      "Epoch 12: val_loss improved from 0.98876 to 0.98764, saving file to ./two_task_example/checkpoint_epoch_12.ckpt\n",
      "Epoch 12: val_loss improved from 0.98876 to 0.98764, saving file to ./callbacks/best_epoch_12.ckpt\n",
      "Epoch: 13/28 Train steps: 10 Val steps: 4 45.23s loss: 0.946452 val_loss: 0.996489\n",
      "Epoch: 14/28 Train steps: 10 Val steps: 4 44.56s loss: 0.942922 val_loss: 0.986362\n",
      "Epoch 14: val_loss improved from 0.98764 to 0.98636, saving file to ./two_task_example/checkpoint_epoch_14.ckpt\n",
      "Epoch 14: val_loss improved from 0.98764 to 0.98636, saving file to ./callbacks/best_epoch_14.ckpt\n",
      "Epoch: 15/28 Train steps: 10 Val steps: 4 43.68s loss: 0.956844 val_loss: 0.982822\n",
      "Epoch 15: val_loss improved from 0.98636 to 0.98282, saving file to ./two_task_example/checkpoint_epoch_15.ckpt\n",
      "Epoch 15: val_loss improved from 0.98636 to 0.98282, saving file to ./callbacks/best_epoch_15.ckpt\n",
      "Epoch: 16/28 Train steps: 10 Val steps: 4 43.41s loss: 0.948733 val_loss: 0.989009\n",
      "Epoch: 17/28 Train steps: 10 Val steps: 4 43.69s loss: 0.953567 val_loss: 0.986131\n",
      "Epoch: 18/28 Train steps: 10 Val steps: 4 43.37s loss: 0.943922 val_loss: 0.992643\n",
      "Epoch: 19/28 Train steps: 10 Val steps: 4 43.47s loss: 0.949033 val_loss: 0.984534\n",
      "Epoch: 20/28 Train steps: 10 Val steps: 4 43.75s loss: 0.948842 val_loss: 0.994621\n",
      "Epoch: 21/28 Train steps: 10 Val steps: 4 43.61s loss: 0.940304 val_loss: 0.982920\n",
      "Epoch: 22/28 Train steps: 10 Val steps: 4 43.65s loss: 0.951446 val_loss: 0.992141\n",
      "Epoch: 23/28 Train steps: 10 Val steps: 4 43.88s loss: 0.938694 val_loss: 0.995546\n",
      "Epoch: 24/28 Train steps: 10 Val steps: 4 43.76s loss: 0.949264 val_loss: 0.993010\n",
      "Epoch: 25/28 Train steps: 10 Val steps: 4 43.52s loss: 0.948669 val_loss: 0.992225\n",
      "Epoch: 26/28 Train steps: 10 Val steps: 4 43.59s loss: 0.947549 val_loss: 0.996424\n",
      "Epoch: 27/28 Train steps: 10 Val steps: 4 43.47s loss: 0.944724 val_loss: 0.994032\n",
      "Epoch: 28/28 Train steps: 10 Val steps: 4 43.43s loss: 0.956054 val_loss: 0.992980\n",
      "Restoring model from ./two_task_example/checkpoint_epoch_15.ckpt\n",
      "Restoring model from ./callbacks/best_epoch_15.ckpt\n"
     ]
    },
    {
     "data": {
      "text/plain": [
       "[{'epoch': 1,\n",
       "  'loss': 0.9460984490388213,\n",
       "  'time': 45.31904164000002,\n",
       "  'val_loss': 1.0202224362980237},\n",
       " {'epoch': 2,\n",
       "  'loss': 0.9427235285972672,\n",
       "  'time': 44.93315522299997,\n",
       "  'val_loss': 0.994161950217353},\n",
       " {'epoch': 3,\n",
       "  'loss': 0.953240783517576,\n",
       "  'time': 45.88221875900001,\n",
       "  'val_loss': 0.9925269213589755},\n",
       " {'epoch': 4,\n",
       "  'loss': 0.9423910678429747,\n",
       "  'time': 45.192564403000006,\n",
       "  'val_loss': 0.9939865211043695},\n",
       " {'epoch': 5,\n",
       "  'loss': 0.9474611896336278,\n",
       "  'time': 44.89197103499998,\n",
       "  'val_loss': 0.9955827407162599},\n",
       " {'epoch': 6,\n",
       "  'loss': 0.9534642419288788,\n",
       "  'time': 44.876600936000045,\n",
       "  'val_loss': 0.9887565449632779},\n",
       " {'epoch': 7,\n",
       "  'loss': 0.9475283032675651,\n",
       "  'time': 45.041467245000035,\n",
       "  'val_loss': 0.9949218167199029},\n",
       " {'epoch': 8,\n",
       "  'loss': 0.9423452013711068,\n",
       "  'time': 45.225190913999995,\n",
       "  'val_loss': 0.9969907035731306},\n",
       " {'epoch': 9,\n",
       "  'loss': 0.9393246514741393,\n",
       "  'time': 45.250883708999936,\n",
       "  'val_loss': 1.0035923562868676},\n",
       " {'epoch': 10,\n",
       "  'loss': 0.9418132966976102,\n",
       "  'time': 44.447658305999994,\n",
       "  'val_loss': 0.9981884294086032},\n",
       " {'epoch': 11,\n",
       "  'loss': 0.9486668369044429,\n",
       "  'time': 44.06443805799995,\n",
       "  'val_loss': 0.9892128453110204},\n",
       " {'epoch': 12,\n",
       "  'loss': 0.9439130419472787,\n",
       "  'time': 45.04501296199987,\n",
       "  'val_loss': 0.9876416849367546},\n",
       " {'epoch': 13,\n",
       "  'loss': 0.946451984121648,\n",
       "  'time': 45.22840052299989,\n",
       "  'val_loss': 0.9964894116526902},\n",
       " {'epoch': 14,\n",
       "  'loss': 0.9429218418223403,\n",
       "  'time': 44.56261126300001,\n",
       "  'val_loss': 0.98636249189425},\n",
       " {'epoch': 15,\n",
       "  'loss': 0.9568440649023024,\n",
       "  'time': 43.67988895899998,\n",
       "  'val_loss': 0.9828217764093419},\n",
       " {'epoch': 16,\n",
       "  'loss': 0.948733438416867,\n",
       "  'time': 43.40851807499985,\n",
       "  'val_loss': 0.9890094977436643},\n",
       " {'epoch': 17,\n",
       "  'loss': 0.9535667968035542,\n",
       "  'time': 43.691756821000126,\n",
       "  'val_loss': 0.986131499512027},\n",
       " {'epoch': 18,\n",
       "  'loss': 0.9439222023239902,\n",
       "  'time': 43.368553005999956,\n",
       "  'val_loss': 0.9926431907547845},\n",
       " {'epoch': 19,\n",
       "  'loss': 0.9490328255704414,\n",
       "  'time': 43.47213208900007,\n",
       "  'val_loss': 0.9845340715514289},\n",
       " {'epoch': 20,\n",
       "  'loss': 0.9488422623446156,\n",
       "  'time': 43.75277922999999,\n",
       "  'val_loss': 0.9946209318710096},\n",
       " {'epoch': 21,\n",
       "  'loss': 0.9403040187813366,\n",
       "  'time': 43.61087775100009,\n",
       "  'val_loss': 0.982920492538298},\n",
       " {'epoch': 22,\n",
       "  'loss': 0.9514459309769314,\n",
       "  'time': 43.65451460600002,\n",
       "  'val_loss': 0.9921413455346618},\n",
       " {'epoch': 23,\n",
       "  'loss': 0.9386940435023611,\n",
       "  'time': 43.87515422899992,\n",
       "  'val_loss': 0.9955461615263813},\n",
       " {'epoch': 24,\n",
       "  'loss': 0.9492635049150142,\n",
       "  'time': 43.758634952999955,\n",
       "  'val_loss': 0.9930096383046623},\n",
       " {'epoch': 25,\n",
       "  'loss': 0.9486694192407921,\n",
       "  'time': 43.51662884799998,\n",
       "  'val_loss': 0.9922247607298572},\n",
       " {'epoch': 26,\n",
       "  'loss': 0.9475494304229584,\n",
       "  'time': 43.58578783799999,\n",
       "  'val_loss': 0.9964236325085766},\n",
       " {'epoch': 27,\n",
       "  'loss': 0.944723635413575,\n",
       "  'time': 43.46919681899999,\n",
       "  'val_loss': 0.9940322649599326},\n",
       " {'epoch': 28,\n",
       "  'loss': 0.9560542864145642,\n",
       "  'time': 43.431508011999995,\n",
       "  'val_loss': 0.9929799588039668}]"
      ]
     },
     "execution_count": 18,
     "metadata": {
      "tags": []
     },
     "output_type": "execute_result"
    }
   ],
   "source": [
    "optimizer = optim.Adagrad(network.parameters(), lr=0.0001, weight_decay=0)\n",
    "loss_function = classification_regression_Loss()\n",
    "#SL =StepLR(step_size=2 , gamma=0.1, last_epoch=-1, verbose=False)\n",
    "exp1 = Experiment('./two_task_example', network, optimizer=optimizer, loss_function=loss_function, device=\"all\")\n",
    "exp1.train(train_dataloader, valid_dataloader, callbacks=callbacks, epochs=28) #lr_schedulers=SL"
   ]
  },
  {
   "cell_type": "markdown",
   "metadata": {
    "id": "u533lDNqYjIa"
   },
   "source": [
    "## Evaluation"
   ]
  },
  {
   "cell_type": "code",
   "execution_count": null,
   "metadata": {
    "colab": {
     "base_uri": "https://localhost:8080/"
    },
    "id": "Gqki-sYR3paj",
    "outputId": "dbe03b0e-b5ec-43ef-aaba-099404edb896"
   },
   "outputs": [
    {
     "name": "stdout",
     "output_type": "stream",
     "text": [
      "\r",
      "Step: 1/4  25.00% |█████               |ETA: 10.46s test_loss: 0.957756"
     ]
    },
    {
     "name": "stderr",
     "output_type": "stream",
     "text": [
      "/usr/local/lib/python3.7/dist-packages/torch/nn/functional.py:1709: UserWarning: nn.functional.sigmoid is deprecated. Use torch.sigmoid instead.\n",
      "  warnings.warn(\"nn.functional.sigmoid is deprecated. Use torch.sigmoid instead.\")\n"
     ]
    },
    {
     "name": "stdout",
     "output_type": "stream",
     "text": [
      "Test steps: 4 10.73s test_loss: 0.982822                              \n"
     ]
    }
   ],
   "source": [
    "model = Model(network, optimizer, loss_function, device=device)\n",
    "loss, predictions, Ground_Truth = model.evaluate_generator(valid_dataloader, callbacks=callbacks, return_pred=True, return_ground_truth=True)"
   ]
  },
  {
   "cell_type": "code",
   "execution_count": null,
   "metadata": {
    "colab": {
     "base_uri": "https://localhost:8080/",
     "height": 907
    },
    "id": "TZATeTicxV7c",
    "outputId": "751e7639-db0a-4a6b-b240-93c831cf9012"
   },
   "outputs": [
    {
     "data": {
      "text/html": [
       "<div>\n",
       "<style scoped>\n",
       "    .dataframe tbody tr th:only-of-type {\n",
       "        vertical-align: middle;\n",
       "    }\n",
       "\n",
       "    .dataframe tbody tr th {\n",
       "        vertical-align: top;\n",
       "    }\n",
       "\n",
       "    .dataframe thead th {\n",
       "        text-align: right;\n",
       "    }\n",
       "</style>\n",
       "<table border=\"1\" class=\"dataframe\">\n",
       "  <thead>\n",
       "    <tr style=\"text-align: right;\">\n",
       "      <th></th>\n",
       "      <th>epoch</th>\n",
       "      <th>time</th>\n",
       "      <th>lr</th>\n",
       "      <th>loss</th>\n",
       "      <th>val_loss</th>\n",
       "    </tr>\n",
       "  </thead>\n",
       "  <tbody>\n",
       "    <tr>\n",
       "      <th>0</th>\n",
       "      <td>1</td>\n",
       "      <td>45.319042</td>\n",
       "      <td>0.0001</td>\n",
       "      <td>0.946098</td>\n",
       "      <td>1.020222</td>\n",
       "    </tr>\n",
       "    <tr>\n",
       "      <th>1</th>\n",
       "      <td>2</td>\n",
       "      <td>44.933155</td>\n",
       "      <td>0.0001</td>\n",
       "      <td>0.942724</td>\n",
       "      <td>0.994162</td>\n",
       "    </tr>\n",
       "    <tr>\n",
       "      <th>2</th>\n",
       "      <td>3</td>\n",
       "      <td>45.882219</td>\n",
       "      <td>0.0001</td>\n",
       "      <td>0.953241</td>\n",
       "      <td>0.992527</td>\n",
       "    </tr>\n",
       "    <tr>\n",
       "      <th>3</th>\n",
       "      <td>4</td>\n",
       "      <td>45.192564</td>\n",
       "      <td>0.0001</td>\n",
       "      <td>0.942391</td>\n",
       "      <td>0.993987</td>\n",
       "    </tr>\n",
       "    <tr>\n",
       "      <th>4</th>\n",
       "      <td>5</td>\n",
       "      <td>44.891971</td>\n",
       "      <td>0.0001</td>\n",
       "      <td>0.947461</td>\n",
       "      <td>0.995583</td>\n",
       "    </tr>\n",
       "    <tr>\n",
       "      <th>5</th>\n",
       "      <td>6</td>\n",
       "      <td>44.876601</td>\n",
       "      <td>0.0001</td>\n",
       "      <td>0.953464</td>\n",
       "      <td>0.988757</td>\n",
       "    </tr>\n",
       "    <tr>\n",
       "      <th>6</th>\n",
       "      <td>7</td>\n",
       "      <td>45.041467</td>\n",
       "      <td>0.0001</td>\n",
       "      <td>0.947528</td>\n",
       "      <td>0.994922</td>\n",
       "    </tr>\n",
       "    <tr>\n",
       "      <th>7</th>\n",
       "      <td>8</td>\n",
       "      <td>45.225191</td>\n",
       "      <td>0.0001</td>\n",
       "      <td>0.942345</td>\n",
       "      <td>0.996991</td>\n",
       "    </tr>\n",
       "    <tr>\n",
       "      <th>8</th>\n",
       "      <td>9</td>\n",
       "      <td>45.250884</td>\n",
       "      <td>0.0001</td>\n",
       "      <td>0.939325</td>\n",
       "      <td>1.003592</td>\n",
       "    </tr>\n",
       "    <tr>\n",
       "      <th>9</th>\n",
       "      <td>10</td>\n",
       "      <td>44.447658</td>\n",
       "      <td>0.0001</td>\n",
       "      <td>0.941813</td>\n",
       "      <td>0.998188</td>\n",
       "    </tr>\n",
       "    <tr>\n",
       "      <th>10</th>\n",
       "      <td>11</td>\n",
       "      <td>44.064438</td>\n",
       "      <td>0.0001</td>\n",
       "      <td>0.948667</td>\n",
       "      <td>0.989213</td>\n",
       "    </tr>\n",
       "    <tr>\n",
       "      <th>11</th>\n",
       "      <td>12</td>\n",
       "      <td>45.045013</td>\n",
       "      <td>0.0001</td>\n",
       "      <td>0.943913</td>\n",
       "      <td>0.987642</td>\n",
       "    </tr>\n",
       "    <tr>\n",
       "      <th>12</th>\n",
       "      <td>13</td>\n",
       "      <td>45.228401</td>\n",
       "      <td>0.0001</td>\n",
       "      <td>0.946452</td>\n",
       "      <td>0.996489</td>\n",
       "    </tr>\n",
       "    <tr>\n",
       "      <th>13</th>\n",
       "      <td>14</td>\n",
       "      <td>44.562611</td>\n",
       "      <td>0.0001</td>\n",
       "      <td>0.942922</td>\n",
       "      <td>0.986362</td>\n",
       "    </tr>\n",
       "    <tr>\n",
       "      <th>14</th>\n",
       "      <td>15</td>\n",
       "      <td>43.679889</td>\n",
       "      <td>0.0001</td>\n",
       "      <td>0.956844</td>\n",
       "      <td>0.982822</td>\n",
       "    </tr>\n",
       "    <tr>\n",
       "      <th>15</th>\n",
       "      <td>16</td>\n",
       "      <td>43.408518</td>\n",
       "      <td>0.0001</td>\n",
       "      <td>0.948733</td>\n",
       "      <td>0.989009</td>\n",
       "    </tr>\n",
       "    <tr>\n",
       "      <th>16</th>\n",
       "      <td>17</td>\n",
       "      <td>43.691757</td>\n",
       "      <td>0.0001</td>\n",
       "      <td>0.953567</td>\n",
       "      <td>0.986131</td>\n",
       "    </tr>\n",
       "    <tr>\n",
       "      <th>17</th>\n",
       "      <td>18</td>\n",
       "      <td>43.368553</td>\n",
       "      <td>0.0001</td>\n",
       "      <td>0.943922</td>\n",
       "      <td>0.992643</td>\n",
       "    </tr>\n",
       "    <tr>\n",
       "      <th>18</th>\n",
       "      <td>19</td>\n",
       "      <td>43.472132</td>\n",
       "      <td>0.0001</td>\n",
       "      <td>0.949033</td>\n",
       "      <td>0.984534</td>\n",
       "    </tr>\n",
       "    <tr>\n",
       "      <th>19</th>\n",
       "      <td>20</td>\n",
       "      <td>43.752779</td>\n",
       "      <td>0.0001</td>\n",
       "      <td>0.948842</td>\n",
       "      <td>0.994621</td>\n",
       "    </tr>\n",
       "    <tr>\n",
       "      <th>20</th>\n",
       "      <td>21</td>\n",
       "      <td>43.610878</td>\n",
       "      <td>0.0001</td>\n",
       "      <td>0.940304</td>\n",
       "      <td>0.982920</td>\n",
       "    </tr>\n",
       "    <tr>\n",
       "      <th>21</th>\n",
       "      <td>22</td>\n",
       "      <td>43.654515</td>\n",
       "      <td>0.0001</td>\n",
       "      <td>0.951446</td>\n",
       "      <td>0.992141</td>\n",
       "    </tr>\n",
       "    <tr>\n",
       "      <th>22</th>\n",
       "      <td>23</td>\n",
       "      <td>43.875154</td>\n",
       "      <td>0.0001</td>\n",
       "      <td>0.938694</td>\n",
       "      <td>0.995546</td>\n",
       "    </tr>\n",
       "    <tr>\n",
       "      <th>23</th>\n",
       "      <td>24</td>\n",
       "      <td>43.758635</td>\n",
       "      <td>0.0001</td>\n",
       "      <td>0.949264</td>\n",
       "      <td>0.993010</td>\n",
       "    </tr>\n",
       "    <tr>\n",
       "      <th>24</th>\n",
       "      <td>25</td>\n",
       "      <td>43.516629</td>\n",
       "      <td>0.0001</td>\n",
       "      <td>0.948669</td>\n",
       "      <td>0.992225</td>\n",
       "    </tr>\n",
       "    <tr>\n",
       "      <th>25</th>\n",
       "      <td>26</td>\n",
       "      <td>43.585788</td>\n",
       "      <td>0.0001</td>\n",
       "      <td>0.947549</td>\n",
       "      <td>0.996424</td>\n",
       "    </tr>\n",
       "    <tr>\n",
       "      <th>26</th>\n",
       "      <td>27</td>\n",
       "      <td>43.469197</td>\n",
       "      <td>0.0001</td>\n",
       "      <td>0.944724</td>\n",
       "      <td>0.994032</td>\n",
       "    </tr>\n",
       "    <tr>\n",
       "      <th>27</th>\n",
       "      <td>28</td>\n",
       "      <td>43.431508</td>\n",
       "      <td>0.0001</td>\n",
       "      <td>0.956054</td>\n",
       "      <td>0.992980</td>\n",
       "    </tr>\n",
       "  </tbody>\n",
       "</table>\n",
       "</div>"
      ],
      "text/plain": [
       "    epoch       time      lr      loss  val_loss\n",
       "0       1  45.319042  0.0001  0.946098  1.020222\n",
       "1       2  44.933155  0.0001  0.942724  0.994162\n",
       "2       3  45.882219  0.0001  0.953241  0.992527\n",
       "3       4  45.192564  0.0001  0.942391  0.993987\n",
       "4       5  44.891971  0.0001  0.947461  0.995583\n",
       "5       6  44.876601  0.0001  0.953464  0.988757\n",
       "6       7  45.041467  0.0001  0.947528  0.994922\n",
       "7       8  45.225191  0.0001  0.942345  0.996991\n",
       "8       9  45.250884  0.0001  0.939325  1.003592\n",
       "9      10  44.447658  0.0001  0.941813  0.998188\n",
       "10     11  44.064438  0.0001  0.948667  0.989213\n",
       "11     12  45.045013  0.0001  0.943913  0.987642\n",
       "12     13  45.228401  0.0001  0.946452  0.996489\n",
       "13     14  44.562611  0.0001  0.942922  0.986362\n",
       "14     15  43.679889  0.0001  0.956844  0.982822\n",
       "15     16  43.408518  0.0001  0.948733  0.989009\n",
       "16     17  43.691757  0.0001  0.953567  0.986131\n",
       "17     18  43.368553  0.0001  0.943922  0.992643\n",
       "18     19  43.472132  0.0001  0.949033  0.984534\n",
       "19     20  43.752779  0.0001  0.948842  0.994621\n",
       "20     21  43.610878  0.0001  0.940304  0.982920\n",
       "21     22  43.654515  0.0001  0.951446  0.992141\n",
       "22     23  43.875154  0.0001  0.938694  0.995546\n",
       "23     24  43.758635  0.0001  0.949264  0.993010\n",
       "24     25  43.516629  0.0001  0.948669  0.992225\n",
       "25     26  43.585788  0.0001  0.947549  0.996424\n",
       "26     27  43.469197  0.0001  0.944724  0.994032\n",
       "27     28  43.431508  0.0001  0.956054  0.992980"
      ]
     },
     "execution_count": 20,
     "metadata": {
      "tags": []
     },
     "output_type": "execute_result"
    }
   ],
   "source": [
    "import pandas as pd\n",
    "logs = pd.read_csv('./callbacks/log.tsv', sep='\\t')\n",
    "logs"
   ]
  },
  {
   "cell_type": "code",
   "execution_count": null,
   "metadata": {
    "colab": {
     "base_uri": "https://localhost:8080/"
    },
    "id": "PXqnJiev9nzW",
    "outputId": "4d6ebabc-29c6-457f-97af-546b1720ce3f"
   },
   "outputs": [
    {
     "name": "stdout",
     "output_type": "stream",
     "text": [
      "Found best checkpoint at epoch: 15\n",
      "lr: 0.0001, loss: 0.956844, val_loss: 0.982822\n",
      "Loading checkpoint ./two_task_example/checkpoint_epoch_15.ckpt\n",
      "Running test\n",
      "Step: 1/4  25.00% |█████               |ETA: 10.33s test_loss: 1.059451"
     ]
    },
    {
     "name": "stderr",
     "output_type": "stream",
     "text": [
      "/usr/local/lib/python3.7/dist-packages/torch/nn/functional.py:1709: UserWarning: nn.functional.sigmoid is deprecated. Use torch.sigmoid instead.\n",
      "  warnings.warn(\"nn.functional.sigmoid is deprecated. Use torch.sigmoid instead.\")\n"
     ]
    },
    {
     "name": "stdout",
     "output_type": "stream",
     "text": [
      "Test steps: 4 10.57s test_loss: 0.982822                              \n"
     ]
    },
    {
     "data": {
      "text/plain": [
       "{'test_loss': 0.98282164515871, 'time': 10.572555282999929}"
      ]
     },
     "execution_count": 21,
     "metadata": {
      "tags": []
     },
     "output_type": "execute_result"
    }
   ],
   "source": [
    "exp1.test(valid_dataloader)"
   ]
  },
  {
   "cell_type": "code",
   "execution_count": null,
   "metadata": {
    "colab": {
     "base_uri": "https://localhost:8080/",
     "height": 265
    },
    "id": "JmGadRyuw7df",
    "outputId": "b5dd0e5b-e014-49ed-df74-8a010245bdfd"
   },
   "outputs": [
    {
     "name": "stdout",
     "output_type": "stream",
     "text": [
      "Gender is:  male\n"
     ]
    },
    {
     "data": {
      "image/png": "[encoded data removed]",
      "text/plain": [
       "<Figure size 432x288 with 1 Axes>"
      ]
     },
     "metadata": {
      "needs_background": "light",
      "tags": []
     },
     "output_type": "display_data"
    }
   ],
   "source": [
    "sample_number = 10\n",
    "image = valid_dataset[sample_number][0]\n",
    "image = image.permute(1,2,0).detach().numpy()\n",
    "image_rgb = cv2.cvtColor(np.float32(image), cv2.COLOR_BGR2RGB)\n",
    "Gender = 'male' if np.where(predictions[0][sample_number]==max(predictions[0][sample_number]))[0]==0 else 'female'\n",
    "print('Gender is: ', Gender)\n",
    "w, h = valid_dataset[sample_number][1][2]\n",
    "(x1, y1) = predictions[1][sample_number][0:2]\n",
    "(x2, y2) = predictions[1][sample_number][2:4]\n",
    "x1, x2 = int(x1*h), int(x2*h)\n",
    "y1, y2 = int(y1*w), int(y2*w)\n",
    "image_rgb\t=\tcv2.drawMarker(image_rgb, (x1,y1), (0,255,0))\n",
    "image_rgb\t=\tcv2.drawMarker(image_rgb, (x2,y2), (0,255,0))\n",
    "image_rgb = np.clip(image_rgb , 0, 1)\n",
    "plt.imshow(image_rgb)\n",
    "plt.axis('off')\n",
    "plt.show()"
   ]
  }
 ],
 "metadata": {
  "accelerator": "GPU",
  "colab": {
   "collapsed_sections": [],
   "name": "object_detection.ipynb",
   "provenance": []
  },
  "kernelspec": {
   "display_name": "Python 3",
   "language": "python",
   "name": "python3"
  },
  "language_info": {
   "codemirror_mode": {
    "name": "ipython",
    "version": 3
   },
   "file_extension": ".py",
   "mimetype": "text/x-python",
   "name": "python",
   "nbconvert_exporter": "python",
   "pygments_lexer": "ipython3",
   "version": "3.8.3"
  }
 },
 "nbformat": 4,
 "nbformat_minor": 1
}
