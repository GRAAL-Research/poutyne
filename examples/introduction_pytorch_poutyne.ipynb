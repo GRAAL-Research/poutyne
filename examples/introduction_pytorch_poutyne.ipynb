{
 "cells": [
  {
   "cell_type": "markdown",
   "metadata": {},
   "source": [
    "# Introduction to PyTorch and Poutyne\n",
    "\n",
    "In this notebook, we train a simple fully-connected network and a simple convolutional network on MNIST. First, we train it by coding our own training loop as the PyTorch library expects of us to. Then, we use Poutyne to simplify our code."
   ]
  },
  {
   "cell_type": "code",
   "execution_count": 1,
   "metadata": {},
   "outputs": [],
   "source": [
    "# Import the package needed.\n",
    "%matplotlib inline\n",
    "import matplotlib.pyplot as plt\n",
    "\n",
    "import math\n",
    "import numpy as np\n",
    "import torch\n",
    "import torch.nn as nn\n",
    "import torch.optim as optim\n",
    "from torch.utils.data.dataset import Subset\n",
    "\n",
    "from torchvision import transforms, utils\n",
    "from torchvision.datasets.mnist import MNIST\n",
    "\n",
    "from poutyne.framework import Model, ModelCheckpoint, CSVLogger, Callback, Experiment\n",
    "from poutyne import torch_to_numpy, set_seeds"
   ]
  },
  {
   "cell_type": "code",
   "execution_count": 2,
   "metadata": {},
   "outputs": [],
   "source": [
    "# Set Pythons's, NumPy's and PyTorch's seeds so that our training are (almost) reproducible.\n",
    "set_seeds(42)"
   ]
  },
  {
   "cell_type": "markdown",
   "metadata": {},
   "source": [
    "# Basis of Training a Neural Network\n",
    "\n",
    "In **stochastic gradient descent**, a **batch** of `m` examples are drawn from the train dataset. In the so-called forward pass, these examples are passed through the neural network and an average of their loss values is done. In the backward pass, the average loss is backpropagated through the network to compute the gradient of each parameter. In practice, the `m` examples of a batch are drawn without replacement. Thus, we define one **epoch** of training being the number of batches needed to loop through the entire training dataset.\n",
    "\n",
    "In addition to the training dataset, a **validation dataset** is used to evaluate the neural network at the end of each epoch. This validation dataset can be used to select the best model during training and thus avoiding overfitting the training set. It also can have other uses such as selecting hyperparameters\n",
    "\n",
    "Finally, a **test dataset** is used at the end to evaluate the final model.\n",
    "\n",
    "## Training constants"
   ]
  },
  {
   "cell_type": "code",
   "execution_count": 3,
   "metadata": {},
   "outputs": [],
   "source": [
    "# Train on GPU if one is present\n",
    "cuda_device = 0\n",
    "device = torch.device(\"cuda:%d\" % cuda_device if torch.cuda.is_available() else \"cpu\")\n",
    "\n",
    "# The dataset is split 80/20 for the train and validation datasets respectively.\n",
    "train_split_percent = 0.8\n",
    "\n",
    "# The MNIST dataset has 10 classes\n",
    "num_classes = 10\n",
    "\n",
    "# Training hyperparameters\n",
    "batch_size = 32\n",
    "learning_rate = 0.1\n",
    "num_epochs = 5"
   ]
  },
  {
   "cell_type": "markdown",
   "metadata": {},
   "source": [
    "## Loading the MNIST dataset\n",
    "\n",
    "The following loads the MNIST dataset and creates the PyTorch DataLoaders that split our datasets into batches. The train DataLoader shuffles the examples of the train dataset to draw the examples without replacement."
   ]
  },
  {
   "cell_type": "code",
   "execution_count": 4,
   "metadata": {},
   "outputs": [],
   "source": [
    "full_train_dataset = MNIST('./mnist/', train=True, download=True, transform=transforms.ToTensor())\n",
    "test_dataset = MNIST('./mnist/', train=False, download=True, transform=transforms.ToTensor())\n",
    "\n",
    "num_data = len(full_train_dataset)\n",
    "indices = list(range(num_data))\n",
    "np.random.shuffle(indices)\n",
    "\n",
    "split = math.floor(train_split_percent * num_data)\n",
    "\n",
    "train_indices = indices[:split]\n",
    "train_dataset = Subset(full_train_dataset, train_indices)\n",
    "\n",
    "valid_indices = indices[split:]\n",
    "valid_dataset = Subset(full_train_dataset, valid_indices)\n",
    "\n",
    "train_loader = torch.utils.data.DataLoader(train_dataset, batch_size=batch_size, shuffle=True)\n",
    "valid_loader = torch.utils.data.DataLoader(valid_dataset, batch_size=batch_size)\n",
    "test_loader = torch.utils.data.DataLoader(test_dataset, batch_size=batch_size)\n",
    "\n",
    "loaders = train_loader, valid_loader, test_loader"
   ]
  },
  {
   "cell_type": "markdown",
   "metadata": {},
   "source": [
    "Let's take a look at some examples of the dataset."
   ]
  },
  {
   "cell_type": "code",
   "execution_count": 5,
   "metadata": {
    "scrolled": false
   },
   "outputs": [
    {
     "data": {
      "image/png": "[encoded data removed]",
      "text/plain": [
       "<Figure size 720x720 with 1 Axes>"
      ]
     },
     "metadata": {
      "needs_background": "light"
     },
     "output_type": "display_data"
    }
   ],
   "source": [
    "# Get the first batch in our train DataLoader and \n",
    "# format it in grid.\n",
    "inputs = next(iter(train_loader))[0]\n",
    "input_grid = utils.make_grid(inputs)\n",
    "\n",
    "# Plot the images.\n",
    "fig = plt.figure(figsize=(10, 10))\n",
    "inp = input_grid.numpy().transpose((1, 2, 0))\n",
    "plt.imshow(inp)\n",
    "plt.show()"
   ]
  },
  {
   "cell_type": "markdown",
   "metadata": {},
   "source": [
    "## Neural Network Architectures\n",
    "\n",
    "We train a fully-connected neural network and a convolutional neural network with approximately the same number of parameters.\n",
    "\n",
    "### Fully-connected Network\n",
    "In short, the fully-connected network follows this architecture: ``Input -> [Linear -> ReLU]*3 -> Linear``. The following table shows it in details:\n",
    "\n",
    "| Layer Type                  | Output Size |       # of Parameters       |\n",
    "|-----------------------------|:-----------:|:---------------------------:|\n",
    "| Input                       |   1x28x28   |              0              |\n",
    "| Flatten                     |  1\\*28\\*28  |              0              |\n",
    "| **Linear with 256 neurons** |     256     | 28\\*28\\*256 + 256 = 200,960 |\n",
    "| ReLU                        |      *      |              0              |\n",
    "| **Linear with 128 neurons** |     128     |   256*128 + 128 = 32,896    |\n",
    "| ReLU                        |      *      |              0              |\n",
    "| **Linear with 64 neurons**  |     64      |     128*64 + 64 = 8,256     |\n",
    "| ReLU                        |      *      |              0              |\n",
    "| **Linear with 10 neurons**  |      10     |      64*10 + 10 = 650       |\n",
    "\n",
    "Total # of parameters of the fully-connected network: 242,762\n",
    "\n",
    "### Convolutional Network\n",
    "\n",
    "The convolutional neural network architecture starts with some convolution and max-pooling layers. These are then followed by fully-connected layers. We calculate the total number of parameters that the network needs. In short, the convolutional network follows this architecture: ``Input -> [Conv -> ReLU -> MaxPool]*2 -> Dropout -> Linear -> ReLU -> Dropout -> Linear``. The following table shows it in details:\n",
    "\n",
    "| Layer Type                                     | Output Size |        # of Parameters        |\n",
    "|------------------------------------------------|:-----------:|:-----------------------------:|\n",
    "| Input                                          |   1x28x28   |               0               |\n",
    "| **Conv with 16 3x3 filters with padding of 1** |   16x28x28  |    16\\*1\\*3\\*3 + 16 = 160     |\n",
    "| ReLU                                           |   16x28x28  |               0               |\n",
    "| MaxPool 2x2                                    |   16x14x14  |               0               |\n",
    "| **Conv with 32 3x3 filters with padding of 1** |   32x14x14  |   32\\*16\\*3\\*3 + 32 = 4,640   |\n",
    "| ReLU                                           |   32x14x14  |               0               |\n",
    "| MaxPool 2x2                                    |    32x7x7   |               0               |\n",
    "| Dropout of 0.25                                |    32x7x7   |               0               |\n",
    "| Flatten                                        |   32\\*7\\*7  |               0               |\n",
    "| **Linear with 128 neurons**                    |     128     | 32\\*7\\*7\\*128 + 128 = 200,832 |\n",
    "| ReLU                                           |     128     |               0               |\n",
    "| Dropout of 0.5                                 |     128     |               0               |\n",
    "| **Linear with 10 neurons**                     |      10     |        128\\*10 + 10 = 1290    |\n",
    "\n",
    "Total # of parameters of the convolutional network: 206,922"
   ]
  },
  {
   "cell_type": "code",
   "execution_count": 6,
   "metadata": {
    "scrolled": false
   },
   "outputs": [],
   "source": [
    "def create_fully_connected_network():\n",
    "    \"\"\"\n",
    "    This function returns the fully-connected network layed out above.\n",
    "    \"\"\"\n",
    "    return nn.Sequential(\n",
    "        nn.Flatten(),\n",
    "        nn.Linear(28*28, 256),\n",
    "        nn.ReLU(),\n",
    "        nn.Linear(256, 128),\n",
    "        nn.ReLU(),\n",
    "        nn.Linear(128, 64),\n",
    "        nn.ReLU(),\n",
    "        nn.Linear(64, num_classes)\n",
    "    )\n",
    "\n",
    "def create_convolutional_network():\n",
    "    \"\"\"\n",
    "    This function returns the convolutional network layed out above.\n",
    "    \"\"\"\n",
    "    return nn.Sequential(\n",
    "        nn.Conv2d(in_channels=1, out_channels=16, kernel_size=3, padding=1),\n",
    "        nn.ReLU(),\n",
    "        nn.MaxPool2d(2),\n",
    "        nn.Conv2d(in_channels=16, out_channels=32, kernel_size=3, padding=1),\n",
    "        nn.ReLU(),\n",
    "        nn.MaxPool2d(2),\n",
    "        nn.Dropout(0.25),\n",
    "        nn.Flatten(),\n",
    "        nn.Linear(32*7*7, 128),\n",
    "        nn.ReLU(),\n",
    "        nn.Dropout(0.5),\n",
    "        nn.Linear(128, num_classes)\n",
    "    )"
   ]
  },
  {
   "cell_type": "markdown",
   "metadata": {},
   "source": [
    "# Training the PyTorch way \n",
    "\n",
    "That is, doing your own training loop."
   ]
  },
  {
   "cell_type": "code",
   "execution_count": 7,
   "metadata": {},
   "outputs": [],
   "source": [
    "def pytorch_accuracy(y_pred, y_true):\n",
    "    \"\"\"\n",
    "    Computes the accuracy for a batch of predictions\n",
    "    \n",
    "    Args:\n",
    "        y_pred (torch.Tensor): the logit predictions of the neural network.\n",
    "        y_true (torch.Tensor): the ground truths.\n",
    "        \n",
    "    Returns:\n",
    "        The average accuracy of the batch.\n",
    "    \"\"\"\n",
    "    y_pred = y_pred.argmax(1)\n",
    "    return (y_pred == y_true).float().mean() * 100\n",
    "\n",
    "def pytorch_train_one_epoch(pytorch_network, optimizer, loss_function):\n",
    "    \"\"\"\n",
    "    Trains the neural network for one epoch on the train DataLoader.\n",
    "    \n",
    "    Args:\n",
    "        pytorch_network (torch.nn.Module): The neural network to train.\n",
    "        optimizer (torch.optim.Optimizer): The optimizer of the neural network\n",
    "        loss_function: The loss function.\n",
    "    \n",
    "    Returns:\n",
    "        A tuple (loss, accuracy) corresponding to an average of the losses and\n",
    "        an average of the accuracy, respectively, on the train DataLoader.\n",
    "    \"\"\"\n",
    "    pytorch_network.train(True)\n",
    "    with torch.enable_grad():\n",
    "        loss_sum = 0.\n",
    "        acc_sum = 0.\n",
    "        example_count = 0\n",
    "        for (x, y) in train_loader:\n",
    "            # Transfer batch on GPU if needed.\n",
    "            x = x.to(device)\n",
    "            y = y.to(device)\n",
    "\n",
    "            optimizer.zero_grad()\n",
    "\n",
    "            y_pred = pytorch_network(x)\n",
    "\n",
    "            loss = loss_function(y_pred, y)\n",
    "\n",
    "            loss.backward()\n",
    "\n",
    "            optimizer.step()\n",
    "\n",
    "            # Since the loss and accuracy are averages for the batch, we multiply \n",
    "            # them by the the number of examples so that we can do the right \n",
    "            # averages at the end of the epoch.\n",
    "            loss_sum += float(loss) * len(x)\n",
    "            acc_sum += float(pytorch_accuracy(y_pred, y)) * len(x)\n",
    "            example_count += len(x)\n",
    "\n",
    "    avg_loss = loss_sum / example_count\n",
    "    avg_acc = acc_sum / example_count\n",
    "    return avg_loss, avg_acc\n",
    "\n",
    "def pytorch_test(pytorch_network, loader, loss_function):\n",
    "    \"\"\"\n",
    "    Tests the neural network on a DataLoader.\n",
    "    \n",
    "    Args:\n",
    "        pytorch_network (torch.nn.Module): The neural network to test.\n",
    "        loader (torch.utils.data.DataLoader): The DataLoader to test on.\n",
    "        loss_function: The loss function.\n",
    "    \n",
    "    Returns:\n",
    "        A tuple (loss, accuracy) corresponding to an average of the losses and\n",
    "        an average of the accuracy, respectively, on the DataLoader.\n",
    "    \"\"\"\n",
    "    pytorch_network.eval()\n",
    "    with torch.no_grad():\n",
    "        loss_sum = 0.\n",
    "        acc_sum = 0.\n",
    "        example_count = 0\n",
    "        for (x, y) in loader:\n",
    "            # Transfer batch on GPU if needed.\n",
    "            x = x.to(device)\n",
    "            y = y.to(device)\n",
    "            \n",
    "            y_pred = pytorch_network(x)\n",
    "            loss = loss_function(y_pred, y)\n",
    "\n",
    "            # Since the loss and accuracy are averages for the batch, we multiply \n",
    "            # them by the the number of examples so that we can do the right \n",
    "            # averages at the end of the test.\n",
    "            loss_sum += float(loss) * len(x)\n",
    "            acc_sum += float(pytorch_accuracy(y_pred, y)) * len(x)\n",
    "            example_count += len(x)\n",
    "    \n",
    "    avg_loss = loss_sum / example_count\n",
    "    avg_acc = acc_sum / example_count\n",
    "    return avg_loss, avg_acc\n",
    "        \n",
    "    \n",
    "def pytorch_train(pytorch_network):   \n",
    "    \"\"\"\n",
    "    This function transfers the neural network to the right device, \n",
    "    trains it for a certain number of epochs, tests at each epoch on\n",
    "    the validation set and outputs the results on the test set at the\n",
    "    end of training.\n",
    "    \n",
    "    Args:\n",
    "        pytorch_network (torch.nn.Module): The neural network to train.\n",
    "        \n",
    "    Example:\n",
    "        This function displays something like this:\n",
    "        \n",
    "        .. code-block:: python\n",
    "\n",
    "            Epoch 1/5: loss: 0.5026924496193726, acc: 84.26666259765625, val_loss: 0.17258917854229608, val_acc: 94.75\n",
    "            Epoch 2/5: loss: 0.13690324830015502, acc: 95.73332977294922, val_loss: 0.14024296019474666, val_acc: 95.68333435058594\n",
    "            Epoch 3/5: loss: 0.08836929737279813, acc: 97.29582977294922, val_loss: 0.10380942322810491, val_acc: 96.66666412353516\n",
    "            Epoch 4/5: loss: 0.06714504160980383, acc: 97.91874694824219, val_loss: 0.09626663728555043, val_acc: 97.18333435058594\n",
    "            Epoch 5/5: loss: 0.05063822727650404, acc: 98.42708587646484, val_loss: 0.10017542181412378, val_acc: 96.95833587646484\n",
    "            Test:\n",
    "                Loss: 0.09501855444908142\n",
    "                Accuracy: 97.12999725341797\n",
    "    \"\"\"\n",
    "    print(pytorch_network)\n",
    "    \n",
    "    # Transfer weights on GPU if needed.\n",
    "    pytorch_network.to(device)\n",
    "    \n",
    "    optimizer = optim.SGD(pytorch_network.parameters(), lr=learning_rate)\n",
    "    loss_function = nn.CrossEntropyLoss()\n",
    "    \n",
    "    for epoch in range(1, num_epochs + 1):\n",
    "        # Training the neural network via backpropagation\n",
    "        train_loss, train_acc = pytorch_train_one_epoch(pytorch_network, optimizer, loss_function)\n",
    "        \n",
    "        # Validation at the end of the epoch\n",
    "        valid_loss, valid_acc = pytorch_test(pytorch_network, valid_loader, loss_function)\n",
    "\n",
    "        print(\"Epoch {}/{}: loss: {}, acc: {}, val_loss: {}, val_acc: {}\".format(\n",
    "            epoch, num_epochs, train_loss, train_acc, valid_loss, valid_acc\n",
    "        ))\n",
    "    \n",
    "    # Test at the end of the training\n",
    "    test_loss, test_acc = pytorch_test(pytorch_network, test_loader, loss_function)\n",
    "    print('Test:\\n\\tLoss: {}\\n\\tAccuracy: {}'.format(test_loss, test_acc))"
   ]
  },
  {
   "cell_type": "code",
   "execution_count": 8,
   "metadata": {},
   "outputs": [
    {
     "name": "stdout",
     "output_type": "stream",
     "text": [
      "Sequential(\n",
      "  (0): Flatten()\n",
      "  (1): Linear(in_features=784, out_features=256, bias=True)\n",
      "  (2): ReLU()\n",
      "  (3): Linear(in_features=256, out_features=128, bias=True)\n",
      "  (4): ReLU()\n",
      "  (5): Linear(in_features=128, out_features=64, bias=True)\n",
      "  (6): ReLU()\n",
      "  (7): Linear(in_features=64, out_features=10, bias=True)\n",
      ")\n",
      "Epoch 1/5: loss: 0.5026924486209949, acc: 84.26666666666667, val_loss: 0.17258916554848353, val_acc: 94.75\n",
      "Epoch 2/5: loss: 0.13673794320225716, acc: 95.76041666666667, val_loss: 0.15051656740903854, val_acc: 95.5\n",
      "Epoch 3/5: loss: 0.08862295651187499, acc: 97.275, val_loss: 0.10005557791392009, val_acc: 96.70833333333333\n",
      "Epoch 4/5: loss: 0.06701619473099708, acc: 97.91458333333334, val_loss: 0.100683355341355, val_acc: 97.0\n",
      "Epoch 5/5: loss: 0.05082535463074843, acc: 98.45, val_loss: 0.09013855959971746, val_acc: 97.25\n",
      "Test:\n",
      "\tLoss: 0.08079261252880096\n",
      "\tAccuracy: 97.43\n"
     ]
    }
   ],
   "source": [
    "fc_net = create_fully_connected_network()\n",
    "pytorch_train(fc_net)"
   ]
  },
  {
   "cell_type": "code",
   "execution_count": 9,
   "metadata": {},
   "outputs": [
    {
     "name": "stdout",
     "output_type": "stream",
     "text": [
      "Sequential(\n",
      "  (0): Conv2d(1, 16, kernel_size=(3, 3), stride=(1, 1), padding=(1, 1))\n",
      "  (1): ReLU()\n",
      "  (2): MaxPool2d(kernel_size=2, stride=2, padding=0, dilation=1, ceil_mode=False)\n",
      "  (3): Conv2d(16, 32, kernel_size=(3, 3), stride=(1, 1), padding=(1, 1))\n",
      "  (4): ReLU()\n",
      "  (5): MaxPool2d(kernel_size=2, stride=2, padding=0, dilation=1, ceil_mode=False)\n",
      "  (6): Dropout(p=0.25, inplace=False)\n",
      "  (7): Flatten()\n",
      "  (8): Linear(in_features=1568, out_features=128, bias=True)\n",
      "  (9): ReLU()\n",
      "  (10): Dropout(p=0.5, inplace=False)\n",
      "  (11): Linear(in_features=128, out_features=10, bias=True)\n",
      ")\n",
      "Epoch 1/5: loss: 0.39368337676674126, acc: 87.33333333333333, val_loss: 0.08271710021297136, val_acc: 97.43333333333334\n",
      "Epoch 2/5: loss: 0.13093601385007303, acc: 96.03333333333333, val_loss: 0.060145569880803426, val_acc: 98.275\n",
      "Epoch 3/5: loss: 0.10285072015970945, acc: 96.88333333333334, val_loss: 0.05715340468287468, val_acc: 98.275\n",
      "Epoch 4/5: loss: 0.08574063800772032, acc: 97.40416666666667, val_loss: 0.04314564943313599, val_acc: 98.5\n",
      "Epoch 5/5: loss: 0.07594804890702168, acc: 97.72291666666666, val_loss: 0.04446266069014867, val_acc: 98.65\n",
      "Test:\n",
      "\tLoss: 0.034414319026470186\n",
      "\tAccuracy: 98.92\n"
     ]
    }
   ],
   "source": [
    "conv_net = create_convolutional_network()\n",
    "pytorch_train(conv_net)"
   ]
  },
  {
   "cell_type": "markdown",
   "metadata": {},
   "source": [
    "# Training the Poutyne way\n",
    "\n",
    "That is, only 8 lines of code with a better output."
   ]
  },
  {
   "cell_type": "code",
   "execution_count": 10,
   "metadata": {},
   "outputs": [],
   "source": [
    "def poutyne_train(pytorch_network):\n",
    "    \"\"\"\n",
    "    This function creates a Poutyne Model (see https://poutyne.org/model.html), sends the Model\n",
    "    on the specified device, and uses the `fit_generator` method to train the neural network. \n",
    "    At the end, the `evaluate_generator` is used on  the test set.\n",
    "    \n",
    "    Args:\n",
    "        pytorch_network (torch.nn.Module): The neural network to train.\n",
    "    \"\"\"\n",
    "    print(pytorch_network)\n",
    "    \n",
    "    optimizer = optim.SGD(pytorch_network.parameters(), lr=learning_rate)\n",
    "    loss_function = nn.CrossEntropyLoss()\n",
    "\n",
    "    # Poutyne Model\n",
    "    model = Model(pytorch_network, optimizer, loss_function, batch_metrics=['accuracy'])\n",
    "\n",
    "    # Send model on GPU\n",
    "    model.to(device)\n",
    "\n",
    "    # Train\n",
    "    model.fit_generator(train_loader, valid_loader, epochs=num_epochs)\n",
    "\n",
    "    # Test\n",
    "    test_loss, test_acc = model.evaluate_generator(test_loader)\n",
    "    print('Test:\\n\\tLoss: {}\\n\\tAccuracy: {}'.format(test_loss, test_acc))"
   ]
  },
  {
   "cell_type": "code",
   "execution_count": 11,
   "metadata": {},
   "outputs": [
    {
     "name": "stdout",
     "output_type": "stream",
     "text": [
      "Sequential(\n",
      "  (0): Flatten()\n",
      "  (1): Linear(in_features=784, out_features=256, bias=True)\n",
      "  (2): ReLU()\n",
      "  (3): Linear(in_features=256, out_features=128, bias=True)\n",
      "  (4): ReLU()\n",
      "  (5): Linear(in_features=128, out_features=64, bias=True)\n",
      "  (6): ReLU()\n",
      "  (7): Linear(in_features=64, out_features=10, bias=True)\n",
      ")\n",
      "Epoch 1/5 10.57s Step 1500/1500: loss: 0.489895, acc: 84.668750, val_loss: 0.170369, val_acc: 94.750000\n",
      "Epoch 2/5 10.73s Step 1500/1500: loss: 0.136227, acc: 95.943750, val_loss: 0.115536, val_acc: 96.333333\n",
      "Epoch 3/5 9.74s Step 1500/1500: loss: 0.089760, acc: 97.195833, val_loss: 0.094134, val_acc: 97.075000\n",
      "Epoch 4/5 10.92s Step 1500/1500: loss: 0.065264, acc: 97.983333, val_loss: 0.103249, val_acc: 96.708333\n",
      "Epoch 5/5 10.50s Step 1500/1500: loss: 0.050911, acc: 98.408333, val_loss: 0.105603, val_acc: 96.633333\n",
      "Test:\n",
      "\tLoss: 0.09738772313594818\n",
      "\tAccuracy: 97.05\n"
     ]
    }
   ],
   "source": [
    "fc_net = create_fully_connected_network()\n",
    "poutyne_train(fc_net)"
   ]
  },
  {
   "cell_type": "code",
   "execution_count": 12,
   "metadata": {},
   "outputs": [
    {
     "name": "stdout",
     "output_type": "stream",
     "text": [
      "Sequential(\n",
      "  (0): Conv2d(1, 16, kernel_size=(3, 3), stride=(1, 1), padding=(1, 1))\n",
      "  (1): ReLU()\n",
      "  (2): MaxPool2d(kernel_size=2, stride=2, padding=0, dilation=1, ceil_mode=False)\n",
      "  (3): Conv2d(16, 32, kernel_size=(3, 3), stride=(1, 1), padding=(1, 1))\n",
      "  (4): ReLU()\n",
      "  (5): MaxPool2d(kernel_size=2, stride=2, padding=0, dilation=1, ceil_mode=False)\n",
      "  (6): Dropout(p=0.25, inplace=False)\n",
      "  (7): Flatten()\n",
      "  (8): Linear(in_features=1568, out_features=128, bias=True)\n",
      "  (9): ReLU()\n",
      "  (10): Dropout(p=0.5, inplace=False)\n",
      "  (11): Linear(in_features=128, out_features=10, bias=True)\n",
      ")\n",
      "Epoch 1/5 12.08s Step 1500/1500: loss: 0.396106, acc: 87.035417, val_loss: 0.077737, val_acc: 97.375000\n",
      "Epoch 2/5 12.11s Step 1500/1500: loss: 0.130993, acc: 96.047917, val_loss: 0.055515, val_acc: 98.183333\n",
      "Epoch 3/5 11.47s Step 1500/1500: loss: 0.101883, acc: 96.870833, val_loss: 0.066538, val_acc: 97.908333\n",
      "Epoch 4/5 11.56s Step 1500/1500: loss: 0.084212, acc: 97.422917, val_loss: 0.044709, val_acc: 98.566667\n",
      "Epoch 5/5 11.69s Step 1500/1500: loss: 0.075197, acc: 97.722917, val_loss: 0.041355, val_acc: 98.708333\n",
      "Test:\n",
      "\tLoss: 0.029043858456611633\n",
      "\tAccuracy: 98.93\n"
     ]
    }
   ],
   "source": [
    "conv_net = create_convolutional_network()\n",
    "poutyne_train(conv_net)"
   ]
  },
  {
   "cell_type": "markdown",
   "metadata": {},
   "source": [
    "# Poutyne Callbacks\n",
    "\n",
    "One nice feature of Poutyne is [callbacks](https://poutyne.org/callbacks.html). Callbacks allow to do actions during training of the neural network. In the following example, we use 3 callbacks. One that saves the latest weights in a file to be able to continue the optimization at the end of training if more epochs are needed. Another one that saves the best weights according to the performance on the validation dataset. Finally, another one that saves the displayed logs into a CSV file."
   ]
  },
  {
   "cell_type": "code",
   "execution_count": 13,
   "metadata": {},
   "outputs": [],
   "source": [
    "def train_with_callbacks(name, pytorch_network):\n",
    "    \"\"\"\n",
    "    In addition to the the `poutyne_train`, this function saves checkpoints and logs as described above.\n",
    "\n",
    "    Args:\n",
    "        name (str): a name used to save logs and checkpoints.\n",
    "        pytorch_network (torch.nn.Module): The neural network to train.\n",
    "    \"\"\"\n",
    "    print(pytorch_network)\n",
    "    \n",
    "    callbacks = [\n",
    "        # Save the latest weights to be able to continue the optimization at the end for more epochs.\n",
    "        ModelCheckpoint(name + '_last_epoch.ckpt', temporary_filename='last_epoch.ckpt.tmp'),\n",
    "\n",
    "        # Save the weights in a new file when the current model is better than all previous models.\n",
    "        ModelCheckpoint(name + '_best_epoch_{epoch}.ckpt', monitor='val_acc', mode='max', save_best_only=True, restore_best=True, verbose=True, temporary_filename='best_epoch.ckpt.tmp'),\n",
    "\n",
    "        # Save the losses and accuracies for each epoch in a TSV.\n",
    "        CSVLogger(name + '_log.tsv', separator='\\t'),\n",
    "    ]\n",
    "    \n",
    "    train_loader, valid_loader, test_loader = loaders\n",
    "    optimizer = optim.SGD(pytorch_network.parameters(), lr=learning_rate)\n",
    "    loss_function = nn.CrossEntropyLoss()\n",
    "    model = Model(pytorch_network, optimizer, loss_function, batch_metrics=['accuracy'])\n",
    "    model.to(device)\n",
    "    model.fit_generator(train_loader, valid_loader, epochs=num_epochs, callbacks=callbacks)\n",
    "    test_loss, test_acc = model.evaluate_generator(test_loader)\n",
    "    print('Test:\\n\\tLoss: {}\\n\\tAccuracy: {}'.format(test_loss, test_acc))"
   ]
  },
  {
   "cell_type": "code",
   "execution_count": 14,
   "metadata": {},
   "outputs": [
    {
     "name": "stdout",
     "output_type": "stream",
     "text": [
      "Sequential(\n",
      "  (0): Flatten()\n",
      "  (1): Linear(in_features=784, out_features=256, bias=True)\n",
      "  (2): ReLU()\n",
      "  (3): Linear(in_features=256, out_features=128, bias=True)\n",
      "  (4): ReLU()\n",
      "  (5): Linear(in_features=128, out_features=64, bias=True)\n",
      "  (6): ReLU()\n",
      "  (7): Linear(in_features=64, out_features=10, bias=True)\n",
      ")\n",
      "Epoch 1/5 10.39s Step 1500/1500: loss: 0.508231, acc: 84.181250, val_loss: 0.191087, val_acc: 94.233333\n",
      "Epoch 1: val_acc improved from -inf to 94.23333, saving file to fc_best_epoch_1.ckpt\n",
      "Epoch 2/5 10.41s Step 1500/1500: loss: 0.135742, acc: 95.858333, val_loss: 0.133668, val_acc: 95.975000\n",
      "Epoch 2: val_acc improved from 94.23333 to 95.97500, saving file to fc_best_epoch_2.ckpt\n",
      "Epoch 3/5 10.28s Step 1500/1500: loss: 0.091761, acc: 97.156250, val_loss: 0.110453, val_acc: 96.575000\n",
      "Epoch 3: val_acc improved from 95.97500 to 96.57500, saving file to fc_best_epoch_3.ckpt\n",
      "Epoch 4/5 10.88s Step 1500/1500: loss: 0.068618, acc: 97.831250, val_loss: 0.086133, val_acc: 97.333333\n",
      "Epoch 4: val_acc improved from 96.57500 to 97.33333, saving file to fc_best_epoch_4.ckpt\n",
      "Epoch 5/5 10.75s Step 1500/1500: loss: 0.052458, acc: 98.379167, val_loss: 0.095458, val_acc: 97.108333\n",
      "Restoring model from fc_best_epoch_4.ckpt\n",
      "Test:\n",
      "\tLoss: 0.07873534116744996\n",
      "\tAccuracy: 97.54\n"
     ]
    }
   ],
   "source": [
    "fc_net = create_fully_connected_network()\n",
    "train_with_callbacks('fc', fc_net)"
   ]
  },
  {
   "cell_type": "code",
   "execution_count": 15,
   "metadata": {},
   "outputs": [
    {
     "name": "stdout",
     "output_type": "stream",
     "text": [
      "Sequential(\n",
      "  (0): Conv2d(1, 16, kernel_size=(3, 3), stride=(1, 1), padding=(1, 1))\n",
      "  (1): ReLU()\n",
      "  (2): MaxPool2d(kernel_size=2, stride=2, padding=0, dilation=1, ceil_mode=False)\n",
      "  (3): Conv2d(16, 32, kernel_size=(3, 3), stride=(1, 1), padding=(1, 1))\n",
      "  (4): ReLU()\n",
      "  (5): MaxPool2d(kernel_size=2, stride=2, padding=0, dilation=1, ceil_mode=False)\n",
      "  (6): Dropout(p=0.25, inplace=False)\n",
      "  (7): Flatten()\n",
      "  (8): Linear(in_features=1568, out_features=128, bias=True)\n",
      "  (9): ReLU()\n",
      "  (10): Dropout(p=0.5, inplace=False)\n",
      "  (11): Linear(in_features=128, out_features=10, bias=True)\n",
      ")\n",
      "Epoch 1/5 12.30s Step 1500/1500: loss: 0.360715, acc: 88.322917, val_loss: 0.081634, val_acc: 97.525000\n",
      "Epoch 1: val_acc improved from -inf to 97.52500, saving file to conv_best_epoch_1.ckpt\n",
      "Epoch 2/5 11.99s Step 1500/1500: loss: 0.133433, acc: 95.979167, val_loss: 0.056934, val_acc: 98.166667\n",
      "Epoch 2: val_acc improved from 97.52500 to 98.16667, saving file to conv_best_epoch_2.ckpt\n",
      "Epoch 3/5 12.19s Step 1500/1500: loss: 0.098064, acc: 97.066667, val_loss: 0.044310, val_acc: 98.600000\n",
      "Epoch 3: val_acc improved from 98.16667 to 98.60000, saving file to conv_best_epoch_3.ckpt\n",
      "Epoch 4/5 12.60s Step 1500/1500: loss: 0.084538, acc: 97.429167, val_loss: 0.041837, val_acc: 98.608333\n",
      "Epoch 4: val_acc improved from 98.60000 to 98.60833, saving file to conv_best_epoch_4.ckpt\n",
      "Epoch 5/5 12.12s Step 1500/1500: loss: 0.073270, acc: 97.768750, val_loss: 0.038199, val_acc: 98.825000\n",
      "Epoch 5: val_acc improved from 98.60833 to 98.82500, saving file to conv_best_epoch_5.ckpt\n",
      "Restoring model from conv_best_epoch_5.ckpt\n",
      "Test:\n",
      "\tLoss: 0.029612627041339875\n",
      "\tAccuracy: 99.05\n"
     ]
    }
   ],
   "source": [
    "conv_net = create_convolutional_network()\n",
    "train_with_callbacks('conv', conv_net)"
   ]
  },
  {
   "cell_type": "markdown",
   "metadata": {},
   "source": [
    "# Making Your Own Callback\n",
    "\n",
    "While Poutyne provides a great number of [predefined callbacks](https://poutyne.org/callbacks.html), it is sometimes useful to make your own callback. \n",
    "\n",
    "In the following example, we want to see the effect of temperature on the optimization of our neural network. To do so, we either increase or decrease the temperature during the optimization. As one can see in the result, temperature either as no effect or has detrimental effect on the performance of the neural network. This is so because the temperature has for effect to artificially changing the learning rates. Since we have found the right learning rate, increasing or decreasing it shows no improvement on the results."
   ]
  },
  {
   "cell_type": "code",
   "execution_count": 16,
   "metadata": {},
   "outputs": [],
   "source": [
    "class CrossEntropyLossWithTemperature(nn.Module):\n",
    "    \"\"\"\n",
    "    This loss module is the cross-entropy loss function\n",
    "    with temperature. It divides the logits by a temperature\n",
    "    value before computing the cross-entropy loss.\n",
    "    \n",
    "    Args:\n",
    "        initial_temperature (float): The initial value of the temperature.\n",
    "    \"\"\"\n",
    "    def __init__(self, initial_temperature):\n",
    "        super().__init__()\n",
    "        self.temperature = initial_temperature\n",
    "        self.celoss = nn.CrossEntropyLoss()\n",
    "        \n",
    "    def forward(self, y_pred, y_true):\n",
    "        y_pred = y_pred / self.temperature\n",
    "        return self.celoss(y_pred, y_true)\n",
    "\n",
    "class TemperatureCallback(Callback):\n",
    "    \"\"\"\n",
    "    This callback multiply the loss temperature with a decay before\n",
    "    each batch.\n",
    "    \n",
    "    Args:\n",
    "        celoss_with_temp (CrossEntropyLossWithTemperature): the loss module.\n",
    "        decay (float): The value of the temperature decay.\n",
    "    \"\"\"\n",
    "    def __init__(self, celoss_with_temp, decay):\n",
    "        super().__init__()\n",
    "        self.celoss_with_temp = celoss_with_temp\n",
    "        self.decay = decay\n",
    "    \n",
    "    def on_train_batch_begin(self, batch, logs):\n",
    "        self.celoss_with_temp.temperature *= self.decay\n",
    "\n",
    "def train_with_temperature(pytorch_network, initial_temperature, temperature_decay):\n",
    "    \"\"\"\n",
    "    In addition to the the `poutyne_train`, this function uses a cross-entropy loss\n",
    "    with temperature and decays the temperature at each batch.\n",
    "\n",
    "    Args:\n",
    "        pytorch_network (torch.nn.Module): The neural network to train.\n",
    "        initial_temperature (float): The initial value of the temperature.\n",
    "        decay (float): The value of the temperature decay.\n",
    "    \"\"\"\n",
    "    print(pytorch_network)\n",
    "    train_loader, valid_loader, test_loader = loaders\n",
    "    optimizer = optim.SGD(pytorch_network.parameters(), lr=learning_rate)\n",
    "    \n",
    "    loss_function = CrossEntropyLossWithTemperature(initial_temperature)\n",
    "    callbacks = [TemperatureCallback(loss_function, temperature_decay)]\n",
    "    model = Model(pytorch_network, optimizer, loss_function, batch_metrics=['accuracy'])\n",
    "    model.to(device)\n",
    "    model.fit_generator(train_loader, valid_loader, epochs=num_epochs, callbacks=callbacks)\n",
    "    test_loss, test_acc = model.evaluate_generator(test_loader)\n",
    "    print('Test:\\n\\tLoss: {}\\n\\tAccuracy: {}'.format(test_loss, test_acc))"
   ]
  },
  {
   "cell_type": "code",
   "execution_count": 17,
   "metadata": {},
   "outputs": [
    {
     "name": "stdout",
     "output_type": "stream",
     "text": [
      "Sequential(\n",
      "  (0): Conv2d(1, 16, kernel_size=(3, 3), stride=(1, 1), padding=(1, 1))\n",
      "  (1): ReLU()\n",
      "  (2): MaxPool2d(kernel_size=2, stride=2, padding=0, dilation=1, ceil_mode=False)\n",
      "  (3): Conv2d(16, 32, kernel_size=(3, 3), stride=(1, 1), padding=(1, 1))\n",
      "  (4): ReLU()\n",
      "  (5): MaxPool2d(kernel_size=2, stride=2, padding=0, dilation=1, ceil_mode=False)\n",
      "  (6): Dropout(p=0.25, inplace=False)\n",
      "  (7): Flatten()\n",
      "  (8): Linear(in_features=1568, out_features=128, bias=True)\n",
      "  (9): ReLU()\n",
      "  (10): Dropout(p=0.5, inplace=False)\n",
      "  (11): Linear(in_features=128, out_features=10, bias=True)\n",
      ")\n",
      "Epoch 1/5 12.23s Step 1500/1500: loss: 0.431915, acc: 86.218750, val_loss: 0.077116, val_acc: 97.566667\n",
      "Epoch 2/5 11.79s Step 1500/1500: loss: 0.131324, acc: 96.154167, val_loss: 0.057988, val_acc: 98.150000\n",
      "Epoch 3/5 11.89s Step 1500/1500: loss: 0.106748, acc: 96.862500, val_loss: 0.052646, val_acc: 98.391667\n",
      "Epoch 4/5 12.25s Step 1500/1500: loss: 0.107931, acc: 96.958333, val_loss: 0.056798, val_acc: 98.166667\n",
      "Epoch 5/5 11.84s Step 1500/1500: loss: 0.123481, acc: 96.583333, val_loss: 0.071415, val_acc: 98.083333\n",
      "Test:\n",
      "\tLoss: 0.06291989715099335\n",
      "\tAccuracy: 98.24\n"
     ]
    }
   ],
   "source": [
    "conv_net = create_convolutional_network()\n",
    "# Initial temperature = 0.1\n",
    "# Final temperature ≈ 0.1 * 1.0008^7500 ≈ 40.25\n",
    "train_with_temperature(conv_net, \n",
    "                       initial_temperature=0.1, \n",
    "                       temperature_decay=1.0008)"
   ]
  },
  {
   "cell_type": "code",
   "execution_count": 18,
   "metadata": {},
   "outputs": [
    {
     "name": "stdout",
     "output_type": "stream",
     "text": [
      "Sequential(\n",
      "  (0): Conv2d(1, 16, kernel_size=(3, 3), stride=(1, 1), padding=(1, 1))\n",
      "  (1): ReLU()\n",
      "  (2): MaxPool2d(kernel_size=2, stride=2, padding=0, dilation=1, ceil_mode=False)\n",
      "  (3): Conv2d(16, 32, kernel_size=(3, 3), stride=(1, 1), padding=(1, 1))\n",
      "  (4): ReLU()\n",
      "  (5): MaxPool2d(kernel_size=2, stride=2, padding=0, dilation=1, ceil_mode=False)\n",
      "  (6): Dropout(p=0.25, inplace=False)\n",
      "  (7): Flatten()\n",
      "  (8): Linear(in_features=1568, out_features=128, bias=True)\n",
      "  (9): ReLU()\n",
      "  (10): Dropout(p=0.5, inplace=False)\n",
      "  (11): Linear(in_features=128, out_features=10, bias=True)\n",
      ")\n",
      "Epoch 1/5 11.77s Step 1500/1500: loss: 0.588329, acc: 80.539583, val_loss: 0.116366, val_acc: 96.383333\n",
      "Epoch 2/5 11.87s Step 1500/1500: loss: 0.159414, acc: 95.258333, val_loss: 0.073682, val_acc: 97.616667\n",
      "Epoch 3/5 12.17s Step 1500/1500: loss: 0.127515, acc: 96.158333, val_loss: 0.054854, val_acc: 98.275000\n",
      "Epoch 4/5 12.12s Step 1500/1500: loss: 0.112578, acc: 96.606250, val_loss: 0.055366, val_acc: 98.283333\n",
      "Epoch 5/5 12.03s Step 1500/1500: loss: 0.134833, acc: 96.231250, val_loss: 0.084162, val_acc: 97.625000\n",
      "Test:\n",
      "\tLoss: 0.07264839706420899\n",
      "\tAccuracy: 97.99\n"
     ]
    }
   ],
   "source": [
    "conv_net = create_convolutional_network()\n",
    "# Initial temperature = 40.25\n",
    "# Final temperature ≈ 40.25 * 0.9992^7500 ≈ 0.1\n",
    "train_with_temperature(conv_net,\n",
    "                       initial_temperature=4.25, \n",
    "                       temperature_decay=0.9995)"
   ]
  },
  {
   "cell_type": "markdown",
   "metadata": {},
   "source": [
    "# Poutyne Experiment\n",
    "Most of the time when using Poutyne (or even Pytorch in general), we will find ourselves in an iterative model hyperparameters finetuning loop. For efficient model search, we will usually wish to save our best performing models, their training and testing statistics and even sometimes wish to retrain an already trained model for further tuning. All of the above can be easily implemented with the flexibility of Poutyne Callbacks, but having to define and initialize each and every Callback object we wish for our model quickly feels cumbersome.\n",
    "\n",
    "This is why Poutyne provides an [Experiment class](https://poutyne.org/experiment.html), which aims specifically at enabling quick model iteration search, while not sacrifying on the quality of a single experiment - statistics logging, best models saving, etc. Experiment is actually a simple wrapper between a Pytorch module and Poutyne's core Callback objects for logging and saving. Given a working directory where to output the various logging files and a Pytorch module, the Experiment class reduces the whole training loop to a single line.\n",
    "\n",
    "The following code should use [Poutyne's Experiment class](https://poutyne.org/experiment.html) to train a network for 5 epochs. The code should be quite simpler than the code in the Poutyne Callbacks section while doing more (only 3 lines). Once trained for 5 epochs, it is then possible to resume the optimization at the 5th epoch for 5 more epochs until the 10th epoch using the same function."
   ]
  },
  {
   "cell_type": "code",
   "execution_count": null,
   "metadata": {},
   "outputs": [],
   "source": [
    "def experiment_train(pytorch_network, working_directory, epochs=5):\n",
    "    \"\"\"\n",
    "    This function creates a Poutyne Experiment, trains the input module\n",
    "    on the train loader and then tests its performance on the test loader.\n",
    "    All training and testing statistics are saved, as well as best model\n",
    "    checkpoints.\n",
    "    \n",
    "    Args:\n",
    "        pytorch_network (torch.nn.Module): The neural network to train.\n",
    "        working_directory (str): The directory where to output files to save.\n",
    "        epochs (int): The number of epochs. (Default: 5)\n",
    "    \"\"\"\n",
    "    print(pytorch_network)\n",
    "\n",
    "    # Poutyne Experiment\n",
    "    exp = Experiment(working_directory, pytorch_network, device=device, optimizer='sgd', task='classif')\n",
    "\n",
    "    # Train\n",
    "    exp.train(train_loader, valid_loader, epochs=epochs)\n",
    "\n",
    "    # Test\n",
    "    exp.test(test_loader)"
   ]
  },
  {
   "cell_type": "code",
   "execution_count": null,
   "metadata": {},
   "outputs": [
    {
     "name": "stdout",
     "output_type": "stream",
     "text": [
      "Sequential(\n",
      "  (0): Conv2d(1, 16, kernel_size=(3, 3), stride=(1, 1), padding=(1, 1))\n",
      "  (1): ReLU()\n",
      "  (2): MaxPool2d(kernel_size=2, stride=2, padding=0, dilation=1, ceil_mode=False)\n",
      "  (3): Conv2d(16, 32, kernel_size=(3, 3), stride=(1, 1), padding=(1, 1))\n",
      "  (4): ReLU()\n",
      "  (5): MaxPool2d(kernel_size=2, stride=2, padding=0, dilation=1, ceil_mode=False)\n",
      "  (6): Dropout(p=0.25, inplace=False)\n",
      "  (7): Flatten()\n",
      "  (8): Linear(in_features=1568, out_features=128, bias=True)\n",
      "  (9): ReLU()\n",
      "  (10): Dropout(p=0.5, inplace=False)\n",
      "  (11): Linear(in_features=128, out_features=10, bias=True)\n",
      ")\n",
      "Epoch 1/5 15.39s Step 1500/1500: loss: 1.025398, acc: 66.664583, fscore_micro: 0.666646, val_loss: 0.317650, val_acc: 90.458333, val_fscore_micro: 0.904583\n",
      "Epoch 1: val_acc improved from -inf to 90.45833, saving file to ./conv_net_experiment/checkpoint_epoch_1.ckpt\n",
      "Epoch 2/5 14.07s Step 1500/1500: loss: 0.374973, acc: 88.418750, fscore_micro: 0.884188, val_loss: 0.178774, val_acc: 94.558333, val_fscore_micro: 0.945583\n",
      "Epoch 2: val_acc improved from 90.45833 to 94.55833, saving file to ./conv_net_experiment/checkpoint_epoch_2.ckpt\n",
      "Epoch 3/5 14.91s Step 1500/1500: loss: 0.251193, acc: 92.445833, fscore_micro: 0.924458, val_loss: 0.127881, val_acc: 96.125000, val_fscore_micro: 0.961250\n",
      "Epoch 3: val_acc improved from 94.55833 to 96.12500, saving file to ./conv_net_experiment/checkpoint_epoch_3.ckpt\n",
      "Epoch 4/5 14.87s Step 1500/1500: loss: 0.197997, acc: 94.052083, fscore_micro: 0.940521, val_loss: 0.101625, val_acc: 96.775000, val_fscore_micro: 0.967750\n",
      "Epoch 4: val_acc improved from 96.12500 to 96.77500, saving file to ./conv_net_experiment/checkpoint_epoch_4.ckpt\n",
      "Epoch 5/5 14.70s Step 1500/1500: loss: 0.170571, acc: 94.862500, fscore_micro: 0.948625, val_loss: 0.090143, val_acc: 97.075000, val_fscore_micro: 0.970750\n",
      "Epoch 5: val_acc improved from 96.77500 to 97.07500, saving file to ./conv_net_experiment/checkpoint_epoch_5.ckpt\n",
      "Restoring model from ./conv_net_experiment/checkpoint_epoch_5.ckpt\n",
      "On best model: test_loss: 0.0765609, test_acc: 97.48, test_fscore_micro: 0.9748\n"
     ]
    }
   ],
   "source": [
    "conv_net = create_convolutional_network()\n",
    "experiment_train(conv_net, './conv_net_experiment')"
   ]
  },
  {
   "cell_type": "code",
   "execution_count": null,
   "metadata": {},
   "outputs": [
    {
     "name": "stdout",
     "output_type": "stream",
     "text": [
      "Sequential(\n",
      "  (0): Conv2d(1, 16, kernel_size=(3, 3), stride=(1, 1), padding=(1, 1))\n",
      "  (1): ReLU()\n",
      "  (2): MaxPool2d(kernel_size=2, stride=2, padding=0, dilation=1, ceil_mode=False)\n",
      "  (3): Conv2d(16, 32, kernel_size=(3, 3), stride=(1, 1), padding=(1, 1))\n",
      "  (4): ReLU()\n",
      "  (5): MaxPool2d(kernel_size=2, stride=2, padding=0, dilation=1, ceil_mode=False)\n",
      "  (6): Dropout(p=0.25, inplace=False)\n",
      "  (7): Flatten()\n",
      "  (8): Linear(in_features=1568, out_features=128, bias=True)\n",
      "  (9): ReLU()\n",
      "  (10): Dropout(p=0.5, inplace=False)\n",
      "  (11): Linear(in_features=128, out_features=10, bias=True)\n",
      ")\n",
      "Loading weights from ./conv_net_experiment/checkpoint.ckpt and starting at epoch 6.\n",
      "Loading optimizer state from ./conv_net_experiment/checkpoint.optim and starting at epoch 6.\n",
      "Epoch 6/10 15.05s Step 1500/1500: loss: 0.141787, acc: 95.747917, fscore_micro: 0.957479, val_loss: 0.080299, val_acc: 97.408333, val_fscore_micro: 0.974083\n",
      "Epoch 6: val_acc improved from 97.07500 to 97.40833, saving file to ./conv_net_experiment/checkpoint_epoch_6.ckpt\n",
      "Epoch 7/10 15.16s Step 1500/1500: loss: 0.125111, acc: 96.281250, fscore_micro: 0.962812, val_loss: 0.071671, val_acc: 97.516667, val_fscore_micro: 0.975167\n",
      "Epoch 7: val_acc improved from 97.40833 to 97.51667, saving file to ./conv_net_experiment/checkpoint_epoch_7.ckpt\n",
      "Epoch 8/10 15.54s Step 1500/1500: loss: 0.114591, acc: 96.568750, fscore_micro: 0.965688, val_loss: 0.068869, val_acc: 97.816667, val_fscore_micro: 0.978167\n",
      "Epoch 8: val_acc improved from 97.51667 to 97.81667, saving file to ./conv_net_experiment/checkpoint_epoch_8.ckpt\n",
      "Epoch 9/10 ETA 1s Step 1326/1500: loss: 0.023140, acc: 100.000000"
     ]
    }
   ],
   "source": [
    "conv_net = create_convolutional_network()\n",
    "experiment_train(conv_net, './conv_net_experiment', epochs=10)"
   ]
  },
  {
   "cell_type": "code",
   "execution_count": null,
   "metadata": {},
   "outputs": [],
   "source": []
  }
 ],
 "metadata": {
  "kernelspec": {
   "display_name": "Python 3",
   "language": "python",
   "name": "python3"
  },
  "language_info": {
   "codemirror_mode": {
    "name": "ipython",
    "version": 3
   },
   "file_extension": ".py",
   "mimetype": "text/x-python",
   "name": "python",
   "nbconvert_exporter": "python",
   "pygments_lexer": "ipython3",
   "version": "3.7.6"
  },
  "pycharm": {
   "stem_cell": {
    "cell_type": "raw",
    "metadata": {
     "collapsed": false
    },
    "source": []
   }
  }
 },
 "nbformat": 4,
 "nbformat_minor": 2
}
