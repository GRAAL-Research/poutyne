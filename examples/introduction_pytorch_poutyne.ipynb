{
 "cells": [
  {
   "cell_type": "markdown",
   "metadata": {},
   "source": [
    "# Introduction to PyTorch and Poutyne\n",
    "\n",
    "In this notebook, we train a simple fully-connected network and a simple convolutional network on MNIST. First, we train it by coding our own training loop as the PyTorch library expects of us to. Then, we use Poutyne to simplify our code."
   ]
  },
  {
   "cell_type": "code",
   "execution_count": 23,
   "metadata": {},
   "outputs": [],
   "source": [
    "# Import the package needed.\n",
    "%matplotlib inline\n",
    "import matplotlib.pyplot as plt\n",
    "\n",
    "import math\n",
    "import numpy as np\n",
    "import torch\n",
    "import torch.nn as nn\n",
    "import torch.optim as optim\n",
    "from torch.utils.data.dataset import Subset\n",
    "\n",
    "from torchvision import transforms, utils\n",
    "from torchvision.datasets.mnist import MNIST\n",
    "\n",
    "from poutyne.framework import Model, ModelCheckpoint, CSVLogger, Callback, Experiment\n",
    "from poutyne import torch_to_numpy"
   ]
  },
  {
   "cell_type": "code",
   "execution_count": 2,
   "metadata": {},
   "outputs": [],
   "source": [
    "# Set the Numpy and PyTorch seeds so that our training are (almost) reproducible.\n",
    "torch.manual_seed(42)\n",
    "np.random.seed(42)"
   ]
  },
  {
   "cell_type": "markdown",
   "metadata": {},
   "source": [
    "# Basis of Training a Neural Network\n",
    "\n",
    "In **stochastic gradient descent**, a **batch** of `m` examples are drawn from the train dataset. In the so-called forward pass, these examples are passed through the neural network and an average of their loss values is done. In the backward pass, the average loss is backpropagated through the network to compute the gradient of each parameter. In practice, the `m` examples of a batch are drawn without replacement. Thus, we define one **epoch** of training being the number of batches needed to loop through the entire training dataset.\n",
    "\n",
    "In addition to the training dataset, a **validation dataset** is used to evaluate the neural network at the end of each epoch. This validation dataset can be used to select the best model during training and thus avoiding overfitting the training set. It also can have other uses such as selecting hyperparameters\n",
    "\n",
    "Finally, a **test dataset** is used at the end to evaluate the final model.\n",
    "\n",
    "## Training constants"
   ]
  },
  {
   "cell_type": "code",
   "execution_count": 3,
   "metadata": {},
   "outputs": [],
   "source": [
    "# Train on GPU if one is present\n",
    "cuda_device = 0\n",
    "device = torch.device(\"cuda:%d\" % cuda_device if torch.cuda.is_available() else \"cpu\")\n",
    "\n",
    "# The dataset is split 80/20 for the train and validation datasets respectively.\n",
    "train_split_percent = 0.8\n",
    "\n",
    "# The MNIST dataset has 10 classes\n",
    "num_classes = 10\n",
    "\n",
    "# Training hyperparameters\n",
    "batch_size = 32\n",
    "learning_rate = 0.1\n",
    "num_epochs = 5"
   ]
  },
  {
   "cell_type": "markdown",
   "metadata": {},
   "source": [
    "## Loading the MNIST dataset\n",
    "\n",
    "The following loads the MNIST dataset and creates the PyTorch DataLoaders that split our datasets into batches. The train DataLoader shuffles the examples of the train dataset to draw the examples without replacement."
   ]
  },
  {
   "cell_type": "code",
   "execution_count": 4,
   "metadata": {},
   "outputs": [],
   "source": [
    "full_train_dataset = MNIST('./mnist/', train=True, download=True, transform=transforms.ToTensor())\n",
    "test_dataset = MNIST('./mnist/', train=False, download=True, transform=transforms.ToTensor())\n",
    "\n",
    "num_data = len(full_train_dataset)\n",
    "indices = list(range(num_data))\n",
    "np.random.shuffle(indices)\n",
    "\n",
    "split = math.floor(train_split_percent * num_data)\n",
    "\n",
    "train_indices = indices[:split]\n",
    "train_dataset = Subset(full_train_dataset, train_indices)\n",
    "\n",
    "valid_indices = indices[split:]\n",
    "valid_dataset = Subset(full_train_dataset, valid_indices)\n",
    "\n",
    "train_loader = torch.utils.data.DataLoader(train_dataset, batch_size=batch_size, shuffle=True)\n",
    "valid_loader = torch.utils.data.DataLoader(valid_dataset, batch_size=batch_size)\n",
    "test_loader = torch.utils.data.DataLoader(test_dataset, batch_size=batch_size)\n",
    "\n",
    "loaders = train_loader, valid_loader, test_loader"
   ]
  },
  {
   "cell_type": "markdown",
   "metadata": {},
   "source": [
    "Let's take a look at some examples of the dataset."
   ]
  },
  {
   "cell_type": "code",
   "execution_count": 5,
   "metadata": {
    "scrolled": false
   },
   "outputs": [
    {
     "data": {
      "text/plain": [
       "<matplotlib.image.AxesImage at 0x7f7dd76f03c8>"
      ]
     },
     "execution_count": 5,
     "metadata": {},
     "output_type": "execute_result"
    },
    {
     "data": {
      "image/png": "[encoded data removed]",
      "text/plain": [
       "<Figure size 720x720 with 1 Axes>"
      ]
     },
     "metadata": {
      "needs_background": "light"
     },
     "output_type": "display_data"
    }
   ],
   "source": [
    "# Get the first batch in our train DataLoader and \n",
    "# format it in grid.\n",
    "inputs = next(iter(train_loader))[0]\n",
    "input_grid = utils.make_grid(inputs)\n",
    "\n",
    "# Plot the images.\n",
    "fig = plt.figure(figsize=(10, 10))\n",
    "inp = input_grid.numpy().transpose((1, 2, 0))\n",
    "plt.imshow(inp)"
   ]
  },
  {
   "cell_type": "markdown",
   "metadata": {},
   "source": [
    "## Neural Network Architectures\n",
    "\n",
    "We train a fully-connected neural network and a convolutional neural network with approximately the same number of parameters.\n",
    "\n",
    "### Fully-connected Network\n",
    "In short, the fully-connected network follows this architecture: ``Input -> [Linear -> ReLU]*3 -> Linear``. The following table shows it in details:\n",
    "\n",
    "| Layer Type                  | Output Size |    # of Parameters   |\n",
    "|-----------------------------|:-----------:|:--------------------:|\n",
    "| Input                       |   1x28x28   |           0          |\n",
    "| Flatten                     |  1\\*28\\*28  |           0          |\n",
    "| **Linear with 256 neurons** |     256     | 28\\*28*256 = 200,704 |\n",
    "| ReLU                        |      *      |           0          |\n",
    "| **Linear with 128 neurons** |     128     |   256*128 = 32,768   |\n",
    "| ReLU                        |      *      |           0          |\n",
    "| **Linear with 64 neurons**  |     64      |    128*64 = 8,192    |\n",
    "| ReLU                        |      *      |           0          |\n",
    "| **Linear with 10 neurons**  |      10     |     64*10 = 640      |\n",
    "\n",
    "Total # of parameters of the fully-connected network: 242,304\n",
    "\n",
    "### Convolutional Network\n",
    "\n",
    "The convolutional neural network architecture starts with some convolution and max-pooling layers. These are then followed by fully-connected layers. We calculate the total number of parameters that the network needs. In short, the convolutional network follows this architecture: ``Input -> [Conv -> ReLU -> MaxPool]*2 -> Dropout -> Linear -> ReLU -> Dropout -> Linear``. The following table shows it in details:\n",
    "\n",
    "| Layer Type                                     | Output Size |     # of Parameters     |\n",
    "|------------------------------------------------|:-----------:|:-----------------------:|\n",
    "| Input                                          |   1x28x28   |            0            |\n",
    "| **Conv with 16 3x3 filters with padding of 1** |   16x28x28  |      16\\*3\\*3 = 144     |\n",
    "| ReLU                                           |   16x28x28  |            0            |\n",
    "| MaxPool 2x2                                    |   16x14x14  |            0            |\n",
    "| **Conv with 32 3x3 filters with padding of 1** |   32x14x14  |      32\\*3\\*3 = 288     |\n",
    "| ReLU                                           |   32x14x14  |            0            |\n",
    "| MaxPool 2x2                                    |    32x7x7   |            0            |\n",
    "| Dropout of 0.25                                |    32x7x7   |            0            |\n",
    "| Flatten                                        |   32\\*7\\*7  |            0            |\n",
    "| **Linear with 128 neurons**                    |     128     | 32\\*7\\*7\\*128 = 200,704 |\n",
    "| ReLU                                           |     128     |            0            |\n",
    "| Dropout of 0.5                                 |     128     |            0            |\n",
    "| **Linear with 10 neurons**                     |      10     |      128\\*10 = 1280     |\n",
    "\n",
    "Total # of parameters of the convolutional network: 202,416"
   ]
  },
  {
   "cell_type": "code",
   "execution_count": 6,
   "metadata": {
    "scrolled": false
   },
   "outputs": [],
   "source": [
    "def create_fully_connected_network():\n",
    "    \"\"\"\n",
    "    This function returns the fully-connected network layed out above.\n",
    "    \"\"\"\n",
    "    return nn.Sequential(\n",
    "        nn.Flatten(),\n",
    "        nn.Linear(28*28, 256),\n",
    "        nn.ReLU(),\n",
    "        nn.Linear(256, 128),\n",
    "        nn.ReLU(),\n",
    "        nn.Linear(128, 64),\n",
    "        nn.ReLU(),\n",
    "        nn.Linear(64, num_classes)\n",
    "    )\n",
    "\n",
    "def create_convolutional_network():\n",
    "    \"\"\"\n",
    "    This function returns the convolutional network layed out above.\n",
    "    \"\"\"\n",
    "    return nn.Sequential(\n",
    "        nn.Conv2d(in_channels=1, out_channels=16, kernel_size=3, padding=1),\n",
    "        nn.ReLU(),\n",
    "        nn.MaxPool2d(2),\n",
    "        nn.Conv2d(in_channels=16, out_channels=32, kernel_size=3, padding=1),\n",
    "        nn.ReLU(),\n",
    "        nn.MaxPool2d(2),\n",
    "        nn.Dropout(0.25),\n",
    "        nn.Flatten(),\n",
    "        nn.Linear(32*7*7, 128),\n",
    "        nn.ReLU(),\n",
    "        nn.Dropout(0.5),\n",
    "        nn.Linear(128, num_classes)\n",
    "    )"
   ]
  },
  {
   "cell_type": "markdown",
   "metadata": {},
   "source": [
    "# Training the PyTorch way \n",
    "\n",
    "That is, doing your own training loop."
   ]
  },
  {
   "cell_type": "code",
   "execution_count": 7,
   "metadata": {},
   "outputs": [],
   "source": [
    "def pytorch_accuracy(y_pred, y_true):\n",
    "    \"\"\"\n",
    "    Computes the accuracy for a batch of predictions\n",
    "    \n",
    "    Args:\n",
    "        y_pred (torch.Tensor): the logit predictions of the neural network.\n",
    "        y_true (torch.Tensor): the ground truths.\n",
    "        \n",
    "    Returns:\n",
    "        The average accuracy of the batch.\n",
    "    \"\"\"\n",
    "    y_pred = y_pred.argmax(1)\n",
    "    return (y_pred == y_true).float().mean() * 100\n",
    "\n",
    "def pytorch_train_one_epoch(pytorch_module, optimizer, loss_function):\n",
    "    \"\"\"\n",
    "    Trains the neural network for one epoch on the train DataLoader.\n",
    "    \n",
    "    Args:\n",
    "        pytorch_module (torch.nn.Module): The neural network to train.\n",
    "        optimizer (torch.optim.Optimizer): The optimizer of the neural network\n",
    "        loss_function: The loss function.\n",
    "    \n",
    "    Returns:\n",
    "        A tuple (loss, accuracy) corresponding to an average of the losses and\n",
    "        an average of the accuracy, respectively, on the train DataLoader.\n",
    "    \"\"\"\n",
    "    pytorch_module.train(True)\n",
    "    with torch.enable_grad():\n",
    "        loss_sum = 0.\n",
    "        acc_sum = 0.\n",
    "        example_count = 0\n",
    "        for (x, y) in train_loader:\n",
    "            # Transfer batch on GPU if needed.\n",
    "            x = x.to(device)\n",
    "            y = y.to(device)\n",
    "\n",
    "            optimizer.zero_grad()\n",
    "\n",
    "            y_pred = pytorch_module(x)\n",
    "\n",
    "            loss = loss_function(y_pred, y)\n",
    "\n",
    "            loss.backward()\n",
    "\n",
    "            optimizer.step()\n",
    "\n",
    "            # Since the loss and accuracy are averages for the batch, we multiply \n",
    "            # them by the the number of examples so that we can do the right \n",
    "            # averages at the end of the epoch.\n",
    "            loss_sum += float(loss) * len(x)\n",
    "            acc_sum += float(pytorch_accuracy(y_pred, y)) * len(x)\n",
    "            example_count += len(x)\n",
    "\n",
    "    avg_loss = loss_sum / example_count\n",
    "    avg_acc = acc_sum / example_count\n",
    "    return avg_loss, avg_acc\n",
    "\n",
    "def pytorch_test(pytorch_module, loader, loss_function):\n",
    "    \"\"\"\n",
    "    Tests the neural network on a DataLoader.\n",
    "    \n",
    "    Args:\n",
    "        pytorch_module (torch.nn.Module): The neural network to test.\n",
    "        loader (torch.utils.data.DataLoader): The DataLoader to test on.\n",
    "        loss_function: The loss function.\n",
    "    \n",
    "    Returns:\n",
    "        A tuple (loss, accuracy) corresponding to an average of the losses and\n",
    "        an average of the accuracy, respectively, on the DataLoader.\n",
    "    \"\"\"\n",
    "    pytorch_module.eval()\n",
    "    with torch.no_grad():\n",
    "        loss_sum = 0.\n",
    "        acc_sum = 0.\n",
    "        example_count = 0\n",
    "        for (x, y) in loader:\n",
    "            # Transfer batch on GPU if needed.\n",
    "            x = x.to(device)\n",
    "            y = y.to(device)\n",
    "            \n",
    "            y_pred = pytorch_module(x)\n",
    "            loss = loss_function(y_pred, y)\n",
    "\n",
    "            # Since the loss and accuracy are averages for the batch, we multiply \n",
    "            # them by the the number of examples so that we can do the right \n",
    "            # averages at the end of the test.\n",
    "            loss_sum += float(loss) * len(x)\n",
    "            acc_sum += float(pytorch_accuracy(y_pred, y)) * len(x)\n",
    "            example_count += len(x)\n",
    "    \n",
    "    avg_loss = loss_sum / example_count\n",
    "    avg_acc = acc_sum / example_count\n",
    "    return avg_loss, avg_acc\n",
    "        \n",
    "    \n",
    "def pytorch_train(pytorch_module):   \n",
    "    \"\"\"\n",
    "    This function transfers the neural network to the right device, \n",
    "    trains it for a certain number of epochs, tests at each epoch on\n",
    "    the validation set and outputs the results on the test set at the\n",
    "    end of training.\n",
    "    \n",
    "    Args:\n",
    "        pytorch_module (torch.nn.Module): The neural network to train.\n",
    "        \n",
    "    Example:\n",
    "        This function displays something like this:\n",
    "        \n",
    "        .. code-block:: python\n",
    "\n",
    "            Epoch 1/5: loss: 0.5026924496193726, acc: 84.26666259765625, val_loss: 0.17258917854229608, val_acc: 94.75\n",
    "            Epoch 2/5: loss: 0.13690324830015502, acc: 95.73332977294922, val_loss: 0.14024296019474666, val_acc: 95.68333435058594\n",
    "            Epoch 3/5: loss: 0.08836929737279813, acc: 97.29582977294922, val_loss: 0.10380942322810491, val_acc: 96.66666412353516\n",
    "            Epoch 4/5: loss: 0.06714504160980383, acc: 97.91874694824219, val_loss: 0.09626663728555043, val_acc: 97.18333435058594\n",
    "            Epoch 5/5: loss: 0.05063822727650404, acc: 98.42708587646484, val_loss: 0.10017542181412378, val_acc: 96.95833587646484\n",
    "            Test:\n",
    "                Loss: 0.09501855444908142\n",
    "                Accuracy: 97.12999725341797\n",
    "    \"\"\"\n",
    "    print(pytorch_module)\n",
    "    \n",
    "    # Transfer weights on GPU if needed.\n",
    "    pytorch_module.to(device)\n",
    "    \n",
    "    optimizer = optim.SGD(pytorch_module.parameters(), lr=learning_rate)\n",
    "    loss_function = nn.CrossEntropyLoss()\n",
    "    \n",
    "    for epoch in range(1, num_epochs + 1):\n",
    "        # Training the neural network via backpropagation\n",
    "        train_loss, train_acc = pytorch_train_one_epoch(pytorch_module, optimizer, loss_function)\n",
    "        \n",
    "        # Validation at the end of the epoch\n",
    "        valid_loss, valid_acc = pytorch_test(pytorch_module, valid_loader, loss_function)\n",
    "\n",
    "        print(\"Epoch {}/{}: loss: {}, acc: {}, val_loss: {}, val_acc: {}\".format(\n",
    "            epoch, num_epochs, train_loss, train_acc, valid_loss, valid_acc\n",
    "        ))\n",
    "    \n",
    "    # Test at the end of the training\n",
    "    test_loss, test_acc = pytorch_test(pytorch_module, test_loader, loss_function)\n",
    "    print('Test:\\n\\tLoss: {}\\n\\tAccuracy: {}'.format(test_loss, test_acc))"
   ]
  },
  {
   "cell_type": "code",
   "execution_count": 8,
   "metadata": {},
   "outputs": [
    {
     "name": "stdout",
     "output_type": "stream",
     "text": [
      "Sequential(\n",
      "  (0): Flatten()\n",
      "  (1): Linear(in_features=784, out_features=256, bias=True)\n",
      "  (2): ReLU()\n",
      "  (3): Linear(in_features=256, out_features=128, bias=True)\n",
      "  (4): ReLU()\n",
      "  (5): Linear(in_features=128, out_features=64, bias=True)\n",
      "  (6): ReLU()\n",
      "  (7): Linear(in_features=64, out_features=10, bias=True)\n",
      ")\n",
      "Epoch 1/5: loss: 0.5027033858584861, acc: 84.26666666666667, val_loss: 0.17308224300046762, val_acc: 94.70833333333333\n",
      "Epoch 2/5: loss: 0.13664239076307663, acc: 95.75833333333334, val_loss: 0.14514247783025105, val_acc: 95.60833333333333\n",
      "Epoch 3/5: loss: 0.08835018526824812, acc: 97.25, val_loss: 0.10308833610452711, val_acc: 96.66666666666667\n",
      "Epoch 4/5: loss: 0.0668404719455478, acc: 97.94166666666666, val_loss: 0.10181141934109231, val_acc: 96.90833333333333\n",
      "Epoch 5/5: loss: 0.05007533495815005, acc: 98.45833333333333, val_loss: 0.09903668748401105, val_acc: 97.01666666666667\n",
      "Test:\n",
      "\tLoss: 0.09028350643445737\n",
      "\tAccuracy: 97.24\n"
     ]
    }
   ],
   "source": [
    "fc_net = create_fully_connected_network()\n",
    "pytorch_train(fc_net)"
   ]
  },
  {
   "cell_type": "code",
   "execution_count": 9,
   "metadata": {},
   "outputs": [
    {
     "name": "stdout",
     "output_type": "stream",
     "text": [
      "Sequential(\n",
      "  (0): Conv2d(1, 16, kernel_size=(3, 3), stride=(1, 1), padding=(1, 1))\n",
      "  (1): ReLU()\n",
      "  (2): MaxPool2d(kernel_size=2, stride=2, padding=0, dilation=1, ceil_mode=False)\n",
      "  (3): Conv2d(16, 32, kernel_size=(3, 3), stride=(1, 1), padding=(1, 1))\n",
      "  (4): ReLU()\n",
      "  (5): MaxPool2d(kernel_size=2, stride=2, padding=0, dilation=1, ceil_mode=False)\n",
      "  (6): Dropout(p=0.25, inplace=False)\n",
      "  (7): Flatten()\n",
      "  (8): Linear(in_features=1568, out_features=128, bias=True)\n",
      "  (9): ReLU()\n",
      "  (10): Dropout(p=0.5, inplace=False)\n",
      "  (11): Linear(in_features=128, out_features=10, bias=True)\n",
      ")\n",
      "Epoch 1/5: loss: 0.3875936897105227, acc: 87.59791666666666, val_loss: 0.08310377469286323, val_acc: 97.31666666666666\n",
      "Epoch 2/5: loss: 0.12722661278148492, acc: 96.05625, val_loss: 0.07161106672541549, val_acc: 97.70833333333333\n",
      "Epoch 3/5: loss: 0.10355726061272436, acc: 96.93541666666667, val_loss: 0.05188252531504259, val_acc: 98.36666666666666\n",
      "Epoch 4/5: loss: 0.08773091599236553, acc: 97.38958333333333, val_loss: 0.04286649031657726, val_acc: 98.65\n",
      "Epoch 5/5: loss: 0.0763954936742084, acc: 97.7, val_loss: 0.046035126739724846, val_acc: 98.53333333333333\n",
      "Test:\n",
      "\tLoss: 0.037466235650368614\n",
      "\tAccuracy: 98.69\n"
     ]
    }
   ],
   "source": [
    "conv_net = create_convolutional_network()\n",
    "pytorch_train(conv_net)"
   ]
  },
  {
   "cell_type": "markdown",
   "metadata": {},
   "source": [
    "# Training the Poutyne way\n",
    "\n",
    "That is, only 8 lines of code with a better output."
   ]
  },
  {
   "cell_type": "code",
   "execution_count": 10,
   "metadata": {},
   "outputs": [],
   "source": [
    "def poutyne_train(pytorch_module):\n",
    "    \"\"\"\n",
    "    This function creates a Poutyne Model, sends the Model on the specified device,\n",
    "    and uses the `fit_generator` method to train the neural network. At the end,\n",
    "    the `evaluate_generator` is used on the test set.\n",
    "    \n",
    "    Args:\n",
    "        pytorch_module (torch.nn.Module): The neural network to train.\n",
    "    \"\"\"\n",
    "    print(pytorch_module)\n",
    "    \n",
    "    optimizer = optim.SGD(pytorch_module.parameters(), lr=learning_rate)\n",
    "    loss_function = nn.CrossEntropyLoss()\n",
    "\n",
    "    # Poutyne Model\n",
    "    model = Model(pytorch_module, optimizer, loss_function, batch_metrics=['accuracy'])\n",
    "\n",
    "    # Send model on GPU\n",
    "    model.to(device)\n",
    "\n",
    "    # Train\n",
    "    model.fit_generator(train_loader, valid_loader, epochs=num_epochs)\n",
    "\n",
    "    # Test\n",
    "    test_loss, test_acc = model.evaluate_generator(test_loader)\n",
    "    print('Test:\\n\\tLoss: {}\\n\\tAccuracy: {}'.format(test_loss, test_acc))"
   ]
  },
  {
   "cell_type": "code",
   "execution_count": 11,
   "metadata": {},
   "outputs": [
    {
     "name": "stdout",
     "output_type": "stream",
     "text": [
      "Sequential(\n",
      "  (0): Flatten()\n",
      "  (1): Linear(in_features=784, out_features=256, bias=True)\n",
      "  (2): ReLU()\n",
      "  (3): Linear(in_features=256, out_features=128, bias=True)\n",
      "  (4): ReLU()\n",
      "  (5): Linear(in_features=128, out_features=64, bias=True)\n",
      "  (6): ReLU()\n",
      "  (7): Linear(in_features=64, out_features=10, bias=True)\n",
      ")\n",
      "Epoch 1/5 20.33s Step 1500/1500: loss: 0.498863, acc: 84.285417, val_loss: 0.170418, val_acc: 94.950000\n",
      "Epoch 2/5 19.17s Step 1500/1500: loss: 0.135578, acc: 95.845833, val_loss: 0.113370, val_acc: 96.533333\n",
      "Epoch 3/5 20.15s Step 1500/1500: loss: 0.091117, acc: 97.243750, val_loss: 0.092461, val_acc: 97.050000\n",
      "Epoch 4/5 20.91s Step 1500/1500: loss: 0.067478, acc: 97.900000, val_loss: 0.089698, val_acc: 97.266667\n",
      "Epoch 5/5 20.34s Step 1500/1500: loss: 0.053467, acc: 98.343750, val_loss: 0.100649, val_acc: 96.808333\n",
      "Test:\n",
      "\tLoss: 0.09103834614804945\n",
      "\tAccuracy: 97.21\n"
     ]
    }
   ],
   "source": [
    "fc_net = create_fully_connected_network()\n",
    "poutyne_train(fc_net)"
   ]
  },
  {
   "cell_type": "code",
   "execution_count": 12,
   "metadata": {},
   "outputs": [
    {
     "name": "stdout",
     "output_type": "stream",
     "text": [
      "Sequential(\n",
      "  (0): Conv2d(1, 16, kernel_size=(3, 3), stride=(1, 1), padding=(1, 1))\n",
      "  (1): ReLU()\n",
      "  (2): MaxPool2d(kernel_size=2, stride=2, padding=0, dilation=1, ceil_mode=False)\n",
      "  (3): Conv2d(16, 32, kernel_size=(3, 3), stride=(1, 1), padding=(1, 1))\n",
      "  (4): ReLU()\n",
      "  (5): MaxPool2d(kernel_size=2, stride=2, padding=0, dilation=1, ceil_mode=False)\n",
      "  (6): Dropout(p=0.25, inplace=False)\n",
      "  (7): Flatten()\n",
      "  (8): Linear(in_features=1568, out_features=128, bias=True)\n",
      "  (9): ReLU()\n",
      "  (10): Dropout(p=0.5, inplace=False)\n",
      "  (11): Linear(in_features=128, out_features=10, bias=True)\n",
      ")\n",
      "Epoch 1/5 40.40s Step 1500/1500: loss: 0.402764, acc: 86.856250, val_loss: 0.083147, val_acc: 97.441667\n",
      "Epoch 2/5 42.58s Step 1500/1500: loss: 0.130895, acc: 96.027083, val_loss: 0.057410, val_acc: 98.133333\n",
      "Epoch 3/5 41.55s Step 1500/1500: loss: 0.099638, acc: 96.866667, val_loss: 0.050850, val_acc: 98.425000\n",
      "Epoch 4/5 41.32s Step 1500/1500: loss: 0.085509, acc: 97.429167, val_loss: 0.044986, val_acc: 98.675000\n",
      "Epoch 5/5 42.87s Step 1500/1500: loss: 0.075208, acc: 97.700000, val_loss: 0.051910, val_acc: 98.358333\n",
      "Test:\n",
      "\tLoss: 0.03817803502021852\n",
      "\tAccuracy: 98.74\n"
     ]
    }
   ],
   "source": [
    "conv_net = create_convolutional_network()\n",
    "poutyne_train(conv_net)"
   ]
  },
  {
   "cell_type": "markdown",
   "metadata": {},
   "source": [
    "# Poutyne Callbacks\n",
    "\n",
    "One nice feature of Poutyne is callbacks. Callbacks allow to do actions during training of the neural network. In the following example, we use 3 callbacks. One that saves the latest weights in a file to be able to continue the optimization at the end of training if more epochs are needed. Another one that saves the best weights according to the performance on the validation dataset. Finally, another one that saves the displayed logs into TSV file."
   ]
  },
  {
   "cell_type": "code",
   "execution_count": 13,
   "metadata": {},
   "outputs": [],
   "source": [
    "def train_with_callbacks(name, pytorch_module):\n",
    "    \"\"\"\n",
    "    In addition to the the `poutyne_train`, this function saves checkpoints and logs as described above.\n",
    "\n",
    "    Args:\n",
    "        name (str): a name used to save logs and checkpoints.\n",
    "        pytorch_module (torch.nn.Module): The neural network to train.\n",
    "    \"\"\"\n",
    "    print(pytorch_module)\n",
    "    \n",
    "    callbacks = [\n",
    "        # Save the latest weights to be able to continue the optimization at the end for more epochs.\n",
    "        ModelCheckpoint(name + '_last_epoch.ckpt', temporary_filename='last_epoch.ckpt.tmp'),\n",
    "\n",
    "        # Save the weights in a new file when the current model is better than all previous models.\n",
    "        ModelCheckpoint(name + '_best_epoch_{epoch}.ckpt', monitor='val_acc', mode='max', save_best_only=True, restore_best=True, verbose=True, temporary_filename='best_epoch.ckpt.tmp'),\n",
    "\n",
    "        # Save the losses and accuracies for each epoch in a TSV.\n",
    "        CSVLogger(name + '_log.tsv', separator='\\t'),\n",
    "    ]\n",
    "    \n",
    "    train_loader, valid_loader, test_loader = loaders\n",
    "    optimizer = optim.SGD(pytorch_module.parameters(), lr=learning_rate)\n",
    "    loss_function = nn.CrossEntropyLoss()\n",
    "    model = Model(pytorch_module, optimizer, loss_function, batch_metrics=['accuracy'])\n",
    "    model.to(device)\n",
    "    model.fit_generator(train_loader, valid_loader, epochs=num_epochs, callbacks=callbacks)\n",
    "    test_loss, test_acc = model.evaluate_generator(test_loader)\n",
    "    print('Test:\\n\\tLoss: {}\\n\\tAccuracy: {}'.format(test_loss, test_acc))"
   ]
  },
  {
   "cell_type": "code",
   "execution_count": 14,
   "metadata": {},
   "outputs": [
    {
     "name": "stdout",
     "output_type": "stream",
     "text": [
      "Sequential(\n",
      "  (0): Flatten()\n",
      "  (1): Linear(in_features=784, out_features=256, bias=True)\n",
      "  (2): ReLU()\n",
      "  (3): Linear(in_features=256, out_features=128, bias=True)\n",
      "  (4): ReLU()\n",
      "  (5): Linear(in_features=128, out_features=64, bias=True)\n",
      "  (6): ReLU()\n",
      "  (7): Linear(in_features=64, out_features=10, bias=True)\n",
      ")\n",
      "Epoch 1/5 19.16s Step 1500/1500: loss: 0.493419, acc: 84.245833, val_loss: 0.192187, val_acc: 94.108333\n",
      "Epoch 1: val_acc improved from -inf to 94.10833, saving file to fc_best_epoch_1.ckpt\n",
      "Epoch 2/5 20.69s Step 1500/1500: loss: 0.138545, acc: 95.750000, val_loss: 0.113667, val_acc: 96.550000\n",
      "Epoch 2: val_acc improved from 94.10833 to 96.55000, saving file to fc_best_epoch_2.ckpt\n",
      "Epoch 3/5 20.32s Step 1500/1500: loss: 0.090771, acc: 97.220833, val_loss: 0.100878, val_acc: 96.950000\n",
      "Epoch 3: val_acc improved from 96.55000 to 96.95000, saving file to fc_best_epoch_3.ckpt\n",
      "Epoch 4/5 21.08s Step 1500/1500: loss: 0.066957, acc: 97.925000, val_loss: 0.091997, val_acc: 97.133333\n",
      "Epoch 4: val_acc improved from 96.95000 to 97.13333, saving file to fc_best_epoch_4.ckpt\n",
      "Epoch 5/5 20.69s Step 1500/1500: loss: 0.052168, acc: 98.412500, val_loss: 0.080172, val_acc: 97.575000\n",
      "Epoch 5: val_acc improved from 97.13333 to 97.57500, saving file to fc_best_epoch_5.ckpt\n",
      "Restoring model from fc_best_epoch_5.ckpt\n",
      "Test:\n",
      "\tLoss: 0.06647196899803821\n",
      "\tAccuracy: 98.01\n"
     ]
    }
   ],
   "source": [
    "fc_net = create_fully_connected_network()\n",
    "train_with_callbacks('fc', fc_net)"
   ]
  },
  {
   "cell_type": "code",
   "execution_count": 15,
   "metadata": {},
   "outputs": [
    {
     "name": "stdout",
     "output_type": "stream",
     "text": [
      "Sequential(\n",
      "  (0): Conv2d(1, 16, kernel_size=(3, 3), stride=(1, 1), padding=(1, 1))\n",
      "  (1): ReLU()\n",
      "  (2): MaxPool2d(kernel_size=2, stride=2, padding=0, dilation=1, ceil_mode=False)\n",
      "  (3): Conv2d(16, 32, kernel_size=(3, 3), stride=(1, 1), padding=(1, 1))\n",
      "  (4): ReLU()\n",
      "  (5): MaxPool2d(kernel_size=2, stride=2, padding=0, dilation=1, ceil_mode=False)\n",
      "  (6): Dropout(p=0.25, inplace=False)\n",
      "  (7): Flatten()\n",
      "  (8): Linear(in_features=1568, out_features=128, bias=True)\n",
      "  (9): ReLU()\n",
      "  (10): Dropout(p=0.5, inplace=False)\n",
      "  (11): Linear(in_features=128, out_features=10, bias=True)\n",
      ")\n",
      "Epoch 1/5 42.68s Step 1500/1500: loss: 0.350165, acc: 88.725000, val_loss: 0.084906, val_acc: 97.366667\n",
      "Epoch 1: val_acc improved from -inf to 97.36667, saving file to conv_best_epoch_1.ckpt\n",
      "Epoch 2/5 42.81s Step 1500/1500: loss: 0.124853, acc: 96.200000, val_loss: 0.060569, val_acc: 98.108333\n",
      "Epoch 2: val_acc improved from 97.36667 to 98.10833, saving file to conv_best_epoch_2.ckpt\n",
      "Epoch 3/5 45.88s Step 1500/1500: loss: 0.097774, acc: 97.064583, val_loss: 0.047572, val_acc: 98.541667\n",
      "Epoch 3: val_acc improved from 98.10833 to 98.54167, saving file to conv_best_epoch_3.ckpt\n",
      "Epoch 4/5 45.32s Step 1500/1500: loss: 0.083313, acc: 97.385417, val_loss: 0.040643, val_acc: 98.700000\n",
      "Epoch 4: val_acc improved from 98.54167 to 98.70000, saving file to conv_best_epoch_4.ckpt\n",
      "Epoch 5/5 45.31s Step 1500/1500: loss: 0.073397, acc: 97.764583, val_loss: 0.037460, val_acc: 98.791667\n",
      "Epoch 5: val_acc improved from 98.70000 to 98.79167, saving file to conv_best_epoch_5.ckpt\n",
      "Restoring model from conv_best_epoch_5.ckpt\n",
      "Test:\n",
      "\tLoss: 0.033826558238366854\n",
      "\tAccuracy: 98.75\n"
     ]
    }
   ],
   "source": [
    "conv_net = create_convolutional_network()\n",
    "train_with_callbacks('conv', conv_net)"
   ]
  },
  {
   "cell_type": "markdown",
   "metadata": {},
   "source": [
    "# Making Your Own Callback\n",
    "\n",
    "While Poutyne provides a great number of predefined callbacks (see https://poutyne.org/callbacks.html), it is sometimes useful to make your own callback. \n",
    "\n",
    "In the following example, we want to see the effect of temperature on the optimization of our neural network. To do so, we either increase or decrease the temperature during the optimization. As one can see in the result, temperature either as no effect or has detrimental effect on the performance of the neural network. This is so because the temperature has for effect to artificially changing the learning rates. Since we have found the right learning rate, increasing or decreasing it shows no improvement on the results."
   ]
  },
  {
   "cell_type": "code",
   "execution_count": 16,
   "metadata": {},
   "outputs": [],
   "source": [
    "class CrossEntropyLossWithTemperature(nn.Module):\n",
    "    \"\"\"\n",
    "    This loss module is the cross-entropy loss function\n",
    "    with temperature. It divides the logits by a temperature\n",
    "    value before computing the cross-entropy loss.\n",
    "    \n",
    "    Args:\n",
    "        initial_temperature (float): The initial value of the temperature.\n",
    "    \"\"\"\n",
    "    def __init__(self, initial_temperature):\n",
    "        super().__init__()\n",
    "        self.temperature = initial_temperature\n",
    "        self.celoss = nn.CrossEntropyLoss()\n",
    "        \n",
    "    def forward(self, y_pred, y_true):\n",
    "        y_pred = y_pred / self.temperature\n",
    "        return self.celoss(y_pred, y_true)\n",
    "\n",
    "class TemperatureCallback(Callback):\n",
    "    \"\"\"\n",
    "    This callback multiply the loss temperature with a decay before\n",
    "    each batch.\n",
    "    \n",
    "    Args:\n",
    "        celoss_with_temp (CrossEntropyLossWithTemperature): the loss module.\n",
    "        decay (float): The value of the temperature decay.\n",
    "    \"\"\"\n",
    "    def __init__(self, celoss_with_temp, decay):\n",
    "        super().__init__()\n",
    "        self.celoss_with_temp = celoss_with_temp\n",
    "        self.decay = decay\n",
    "    \n",
    "    def on_batch_begin(self, batch, logs):\n",
    "        self.celoss_with_temp.temperature *= self.decay\n",
    "\n",
    "def train_with_temperature(pytorch_module, initial_temperature, temperature_decay):\n",
    "    \"\"\"\n",
    "    In addition to the the `poutyne_train`, this function uses a cross-entropy loss\n",
    "    with temperature and decays the temperature at each batch.\n",
    "\n",
    "    Args:\n",
    "        pytorch_module (torch.nn.Module): The neural network to train.\n",
    "        initial_temperature (float): The initial value of the temperature.\n",
    "        decay (float): The value of the temperature decay.\n",
    "    \"\"\"\n",
    "    print(pytorch_module)\n",
    "    train_loader, valid_loader, test_loader = loaders\n",
    "    optimizer = optim.SGD(pytorch_module.parameters(), lr=learning_rate)\n",
    "    \n",
    "    loss_function = CrossEntropyLossWithTemperature(initial_temperature)\n",
    "    callbacks = [TemperatureCallback(loss_function, temperature_decay)]\n",
    "    model = Model(pytorch_module, optimizer, loss_function, batch_metrics=['accuracy'])\n",
    "    model.to(device)\n",
    "    model.fit_generator(train_loader, valid_loader, epochs=num_epochs, callbacks=callbacks)\n",
    "    test_loss, test_acc = model.evaluate_generator(test_loader)\n",
    "    print('Test:\\n\\tLoss: {}\\n\\tAccuracy: {}'.format(test_loss, test_acc))"
   ]
  },
  {
   "cell_type": "code",
   "execution_count": 17,
   "metadata": {},
   "outputs": [
    {
     "name": "stdout",
     "output_type": "stream",
     "text": [
      "Sequential(\n",
      "  (0): Conv2d(1, 16, kernel_size=(3, 3), stride=(1, 1), padding=(1, 1))\n",
      "  (1): ReLU()\n",
      "  (2): MaxPool2d(kernel_size=2, stride=2, padding=0, dilation=1, ceil_mode=False)\n",
      "  (3): Conv2d(16, 32, kernel_size=(3, 3), stride=(1, 1), padding=(1, 1))\n",
      "  (4): ReLU()\n",
      "  (5): MaxPool2d(kernel_size=2, stride=2, padding=0, dilation=1, ceil_mode=False)\n",
      "  (6): Dropout(p=0.25, inplace=False)\n",
      "  (7): Flatten()\n",
      "  (8): Linear(in_features=1568, out_features=128, bias=True)\n",
      "  (9): ReLU()\n",
      "  (10): Dropout(p=0.5, inplace=False)\n",
      "  (11): Linear(in_features=128, out_features=10, bias=True)\n",
      ")\n",
      "Epoch 1/5 40.01s Step 1500/1500: loss: 0.433375, acc: 86.481250, val_loss: 0.067979, val_acc: 98.016667\n",
      "Epoch 2/5 40.44s Step 1500/1500: loss: 0.127288, acc: 96.435417, val_loss: 0.053940, val_acc: 98.283333\n",
      "Epoch 3/5 42.61s Step 1500/1500: loss: 0.104376, acc: 96.918750, val_loss: 0.049845, val_acc: 98.575000\n",
      "Epoch 4/5 41.73s Step 1500/1500: loss: 0.106108, acc: 97.102083, val_loss: 0.056210, val_acc: 98.408333\n",
      "Epoch 5/5 41.11s Step 1500/1500: loss: 0.123093, acc: 96.714583, val_loss: 0.071055, val_acc: 98.158333\n",
      "Test:\n",
      "\tLoss: 0.06410875598192214\n",
      "\tAccuracy: 98.29\n"
     ]
    }
   ],
   "source": [
    "conv_net = create_convolutional_network()\n",
    "# Initial temperature = 0.1\n",
    "# Final temperature ≈ 0.1 * 1.0008^7500 ≈ 40.25\n",
    "train_with_temperature(conv_net, \n",
    "                       initial_temperature=0.1, \n",
    "                       temperature_decay=1.0008)"
   ]
  },
  {
   "cell_type": "code",
   "execution_count": 18,
   "metadata": {},
   "outputs": [
    {
     "name": "stdout",
     "output_type": "stream",
     "text": [
      "Sequential(\n",
      "  (0): Conv2d(1, 16, kernel_size=(3, 3), stride=(1, 1), padding=(1, 1))\n",
      "  (1): ReLU()\n",
      "  (2): MaxPool2d(kernel_size=2, stride=2, padding=0, dilation=1, ceil_mode=False)\n",
      "  (3): Conv2d(16, 32, kernel_size=(3, 3), stride=(1, 1), padding=(1, 1))\n",
      "  (4): ReLU()\n",
      "  (5): MaxPool2d(kernel_size=2, stride=2, padding=0, dilation=1, ceil_mode=False)\n",
      "  (6): Dropout(p=0.25, inplace=False)\n",
      "  (7): Flatten()\n",
      "  (8): Linear(in_features=1568, out_features=128, bias=True)\n",
      "  (9): ReLU()\n",
      "  (10): Dropout(p=0.5, inplace=False)\n",
      "  (11): Linear(in_features=128, out_features=10, bias=True)\n",
      ")\n",
      "Epoch 1/5 40.13s Step 1500/1500: loss: 0.683385, acc: 77.008333, val_loss: 0.109731, val_acc: 96.441667\n",
      "Epoch 2/5 40.91s Step 1500/1500: loss: 0.166542, acc: 94.856250, val_loss: 0.077006, val_acc: 97.591667\n",
      "Epoch 3/5 44.85s Step 1500/1500: loss: 0.129828, acc: 96.193750, val_loss: 0.059286, val_acc: 98.183333\n",
      "Epoch 4/5 52.82s Step 1500/1500: loss: 0.114093, acc: 96.608333, val_loss: 0.071145, val_acc: 97.858333\n",
      "Epoch 5/5 48.31s Step 1500/1500: loss: 0.140458, acc: 95.989583, val_loss: 0.111325, val_acc: 96.675000\n",
      "Test:\n",
      "\tLoss: 0.08065698689678392\n",
      "\tAccuracy: 97.33\n"
     ]
    }
   ],
   "source": [
    "conv_net = create_convolutional_network()\n",
    "# Initial temperature = 40.25\n",
    "# Final temperature ≈ 40.25 * 0.9992^7500 ≈ 0.1\n",
    "train_with_temperature(conv_net,\n",
    "                       initial_temperature=4.25, \n",
    "                       temperature_decay=0.9995)"
   ]
  },
  {
   "cell_type": "markdown",
   "metadata": {},
   "source": [
    "# Experiment\n",
    "Most of the time when using Poutyne (or even Pytorch in general), we will find ourselves in an iterative model hyperparameters finetuning loop. For efficient model search, we will usually wish to save our best performing models, their training and testing statistics and even sometimes wish to retrain an already trained model for further tuning. All of the above can be easily implemented with the flexibility of Poutyne Callbacks, but having to define and initialize each and every Callback object we wish for our model quickly feels cumbersome.\n",
    "\n",
    "This is why Poutyne also provides an Experiment object, which aims specifically at enabling quick model iteration search, while not sacrifying on the quality of a single experiment - statistics logging, best models saving, etc. Experiment is actually a simple wrapper between a Pytorch module and Poutyne's core Callback objects for logging and saving. Given a working directory where to output the various logging files and a Pytorch module, the Experiment class reduces the whole training loop to a single line."
   ]
  },
  {
   "cell_type": "code",
   "execution_count": 27,
   "metadata": {},
   "outputs": [],
   "source": [
    "def experiment_train(pytorch_module, working_directory):\n",
    "    \"\"\"\n",
    "    This function creates a Poutyne Experiment, trains the input module\n",
    "    on the train loader and then tests its performance on the test loader.\n",
    "    All training and testing statistics are saved, as well as best model\n",
    "    checkpoints.\n",
    "    \n",
    "    Args:\n",
    "        pytorch_module (torch.nn.Module): The neural network to train.\n",
    "        working_directory (str): The directory where to output files to save.\n",
    "    \"\"\"\n",
    "    print(pytorch_module)\n",
    "\n",
    "    # Poutyne Experiment\n",
    "    exp = Experiment(working_directory, pytorch_module, device=device, optimizer='sgd', task='classif')\n",
    "\n",
    "    # Train\n",
    "    exp.train(train_loader, valid_loader, epochs=5)\n",
    "\n",
    "    # Test\n",
    "    exp.test(test_loader)"
   ]
  },
  {
   "cell_type": "code",
   "execution_count": null,
   "metadata": {},
   "outputs": [
    {
     "name": "stdout",
     "output_type": "stream",
     "text": [
      "Sequential(\n",
      "  (0): Conv2d(1, 16, kernel_size=(3, 3), stride=(1, 1), padding=(1, 1))\n",
      "  (1): ReLU()\n",
      "  (2): MaxPool2d(kernel_size=2, stride=2, padding=0, dilation=1, ceil_mode=False)\n",
      "  (3): Conv2d(16, 32, kernel_size=(3, 3), stride=(1, 1), padding=(1, 1))\n",
      "  (4): ReLU()\n",
      "  (5): MaxPool2d(kernel_size=2, stride=2, padding=0, dilation=1, ceil_mode=False)\n",
      "  (6): Dropout(p=0.25, inplace=False)\n",
      "  (7): Flatten()\n",
      "  (8): Linear(in_features=1568, out_features=128, bias=True)\n",
      "  (9): ReLU()\n",
      "  (10): Dropout(p=0.5, inplace=False)\n",
      "  (11): Linear(in_features=128, out_features=10, bias=True)\n",
      ")\n",
      "Epoch 1/5 27.29s Step 1500/1500: loss: 1.320709, acc: 56.893750, val_loss: 0.360875, val_acc: 89.441667\n",
      "Epoch 1: val_acc improved from -inf to 89.44167, saving file to ./conv_net_experiment/checkpoint_epoch_1.ckpt\n",
      "Epoch 2/5 51.52s Step 1500/1500: loss: 0.384434, acc: 87.991667, val_loss: 0.192422, val_acc: 94.091667\n",
      "Epoch 2: val_acc improved from 89.44167 to 94.09167, saving file to ./conv_net_experiment/checkpoint_epoch_2.ckpt\n",
      "Epoch 3/5 38.02s Step 1500/1500: loss: 0.248806, acc: 92.402083, val_loss: 0.132024, val_acc: 95.958333\n",
      "Epoch 3: val_acc improved from 94.09167 to 95.95833, saving file to ./conv_net_experiment/checkpoint_epoch_3.ckpt\n",
      "Epoch 4/5 39.79s Step 1500/1500: loss: 0.194590, acc: 94.166667, val_loss: 0.103610, val_acc: 96.791667\n",
      "Epoch 4: val_acc improved from 95.95833 to 96.79167, saving file to ./conv_net_experiment/checkpoint_epoch_4.ckpt\n",
      "Epoch 5/5 ETA 42s Step 46/1500: loss: 0.265483, acc: 93.7500000"
     ]
    }
   ],
   "source": [
    "device = torch.device('cpu')\n",
    "conv_net = create_convolutional_network()\n",
    "experiment_train(conv_net, './conv_net_experiment')"
   ]
  }
 ],
 "metadata": {
  "kernelspec": {
   "display_name": "Python 3",
   "language": "python",
   "name": "python3"
  },
  "language_info": {
   "codemirror_mode": {
    "name": "ipython",
    "version": 3
   },
   "file_extension": ".py",
   "mimetype": "text/x-python",
   "name": "python",
   "nbconvert_exporter": "python",
   "pygments_lexer": "ipython3",
   "version": "3.7.3"
  },
  "pycharm": {
   "stem_cell": {
    "cell_type": "raw",
    "metadata": {
     "collapsed": false
    },
    "source": []
   }
  }
 },
 "nbformat": 4,
 "nbformat_minor": 2
}
