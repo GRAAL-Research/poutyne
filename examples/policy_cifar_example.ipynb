{
 "cells": [
  {
   "cell_type": "markdown",
   "metadata": {},
   "source": [
    "# Train CIFAR with the `policy` module"
   ]
  },
  {
   "cell_type": "code",
   "execution_count": 1,
   "metadata": {},
   "outputs": [],
   "source": [
    "import torch"
   ]
  },
  {
   "cell_type": "code",
   "execution_count": 2,
   "metadata": {},
   "outputs": [],
   "source": [
    "cuda_device = 0\n",
    "device = torch.device(\"cuda:%d\" % cuda_device if torch.cuda.is_available() else \"cpu\")"
   ]
  },
  {
   "cell_type": "markdown",
   "metadata": {},
   "source": [
    "# Load the data"
   ]
  },
  {
   "cell_type": "code",
   "execution_count": 3,
   "metadata": {},
   "outputs": [],
   "source": [
    "from torchvision import transforms\n",
    "\n",
    "_mean = [0.485, 0.456, 0.406]\n",
    "_std = [0.229, 0.224, 0.225]\n",
    "\n",
    "\n",
    "train_transform = transforms.Compose([\n",
    "    transforms.RandomHorizontalFlip(),\n",
    "    transforms.ColorJitter(.3, .3, .3),\n",
    "    transforms.ToTensor(),\n",
    "    transforms.Normalize(_mean, _std),\n",
    "])\n",
    "val_transform = transforms.Compose([\n",
    "    transforms.ToTensor(),\n",
    "    transforms.Normalize(_mean, _std),\n",
    "])"
   ]
  },
  {
   "cell_type": "code",
   "execution_count": 4,
   "metadata": {},
   "outputs": [
    {
     "name": "stdout",
     "output_type": "stream",
     "text": [
      "Downloading https://www.cs.toronto.edu/~kriz/cifar-10-python.tar.gz to data/cifar-10-python.tar.gz\n",
      "Files already downloaded and verified\n"
     ]
    }
   ],
   "source": [
    "import torchvision.datasets as datasets\n",
    "\n",
    "root = \"data\"\n",
    "train_ds = datasets.CIFAR10(root, train=True, transform=train_transform, download=True)\n",
    "val_ds = datasets.CIFAR10(root, train=False, transform=val_transform, download=True)"
   ]
  },
  {
   "cell_type": "code",
   "execution_count": 5,
   "metadata": {},
   "outputs": [],
   "source": [
    "from torch.utils.data import DataLoader\n",
    "\n",
    "BATCH_SIZE = 1024\n",
    "\n",
    "train_dl = DataLoader(\n",
    "    train_ds,\n",
    "    batch_size=BATCH_SIZE,\n",
    "    shuffle=True,\n",
    "    num_workers=8,\n",
    ")\n",
    "val_dl = DataLoader(\n",
    "    val_ds,\n",
    "    batch_size=BATCH_SIZE,\n",
    "    shuffle=False,\n",
    "    num_workers=8,\n",
    ")"
   ]
  },
  {
   "cell_type": "markdown",
   "metadata": {},
   "source": [
    "# The model\n",
    "We'll train a simple resnet18 network.\n",
    "This takes a while without GPU but is pretty quick with GPU."
   ]
  },
  {
   "cell_type": "code",
   "execution_count": 6,
   "metadata": {},
   "outputs": [],
   "source": [
    "from torchvision.models import resnet18\n",
    "import torch.nn as nn\n",
    "import torch.optim as optim\n",
    "\n",
    "\n",
    "def get_module():\n",
    "    model = resnet18(pretrained=False)\n",
    "    model.avgpool = nn.AdaptiveAvgPool2d(1)\n",
    "    model.fc = nn.Linear(512, 10)\n",
    "    return model"
   ]
  },
  {
   "cell_type": "code",
   "execution_count": 7,
   "metadata": {},
   "outputs": [],
   "source": [
    "epochs = 5"
   ]
  },
  {
   "cell_type": "markdown",
   "metadata": {},
   "source": [
    "# Training without the `policies` module"
   ]
  },
  {
   "cell_type": "code",
   "execution_count": 8,
   "metadata": {},
   "outputs": [],
   "source": [
    "from poutyne.framework import Model"
   ]
  },
  {
   "cell_type": "code",
   "execution_count": 9,
   "metadata": {},
   "outputs": [
    {
     "name": "stdout",
     "output_type": "stream",
     "text": [
      "Epoch 1/5 8.24s Step 49/49: loss: 2.092977, acc: 23.660000, val_loss: 1.841767, val_acc: 33.580000\n",
      "Epoch 2/5 8.14s Step 49/49: loss: 1.772642, acc: 35.740000, val_loss: 1.643668, val_acc: 40.350000\n",
      "Epoch 3/5 8.25s Step 49/49: loss: 1.631970, acc: 40.464000, val_loss: 1.557429, val_acc: 43.020000\n",
      "Epoch 4/5 8.23s Step 49/49: loss: 1.549494, acc: 43.436000, val_loss: 1.501173, val_acc: 45.340000\n",
      "Epoch 5/5 8.09s Step 49/49: loss: 1.485391, acc: 46.050000, val_loss: 1.441768, val_acc: 47.470000\n"
     ]
    }
   ],
   "source": [
    "pytorch_network = get_module().to(device)\n",
    "criterion = nn.CrossEntropyLoss()\n",
    "optimizer = optim.SGD(pytorch_network.parameters(), lr=0.01)\n",
    "\n",
    "model = Model(\n",
    "    pytorch_network,\n",
    "    optimizer,\n",
    "    criterion,\n",
    "    batch_metrics=[\"acc\"],\n",
    ")\n",
    "model = model.to(device)\n",
    "\n",
    "history = model.fit_generator(\n",
    "    train_dl,\n",
    "    val_dl,\n",
    "    epochs=epochs,\n",
    ")"
   ]
  },
  {
   "cell_type": "markdown",
   "metadata": {},
   "source": [
    "# Training with the `policies` module"
   ]
  },
  {
   "cell_type": "code",
   "execution_count": 10,
   "metadata": {},
   "outputs": [
    {
     "data": {
      "text/plain": [
       "49"
      ]
     },
     "execution_count": 10,
     "metadata": {},
     "output_type": "execute_result"
    }
   ],
   "source": [
    "steps_per_epoch = len(train_dl)\n",
    "steps_per_epoch"
   ]
  },
  {
   "cell_type": "code",
   "execution_count": 11,
   "metadata": {},
   "outputs": [
    {
     "name": "stdout",
     "output_type": "stream",
     "text": [
      "Epoch 1/5 8.34s Step 49/49: loss: 1.860783, acc: 32.882000, val_loss: 1.894520, val_acc: 39.270000\n",
      "Epoch 2/5 8.42s Step 49/49: loss: 1.426773, acc: 48.764000, val_loss: 1.236555, val_acc: 55.940000\n",
      "Epoch 3/5 8.42s Step 49/49: loss: 1.187993, acc: 57.988000, val_loss: 1.105385, val_acc: 60.670000\n",
      "Epoch 4/5 8.19s Step 49/49: loss: 1.005736, acc: 64.486000, val_loss: 0.972105, val_acc: 65.840000\n",
      "Epoch 5/5 8.28s Step 49/49: loss: 0.847678, acc: 70.214000, val_loss: 0.909907, val_acc: 67.970000\n"
     ]
    }
   ],
   "source": [
    "from poutyne.framework import OptimizerPolicy, one_cycle_phases\n",
    "\n",
    "\n",
    "pytorch_network = get_module().to(device)\n",
    "criterion = nn.CrossEntropyLoss()\n",
    "optimizer = optim.SGD(pytorch_network.parameters(), lr=0.01)\n",
    "\n",
    "model = Model(\n",
    "    pytorch_network,\n",
    "    optimizer,\n",
    "    criterion,\n",
    "    metrics=[\"acc\"],\n",
    ")\n",
    "model = model.to(device)\n",
    "\n",
    "policy = OptimizerPolicy(\n",
    "    one_cycle_phases(epochs * steps_per_epoch, lr=(0.01, 0.1, 0.008)),\n",
    ")\n",
    "history = model.fit_generator(\n",
    "    train_dl,\n",
    "    val_dl,\n",
    "    epochs=epochs,\n",
    "    callbacks=[policy],\n",
    ")"
   ]
  }
 ],
 "metadata": {
  "kernelspec": {
   "display_name": "Python 3",
   "language": "python",
   "name": "python3"
  },
  "language_info": {
   "codemirror_mode": {
    "name": "ipython",
    "version": 3
   },
   "file_extension": ".py",
   "mimetype": "text/x-python",
   "name": "python",
   "nbconvert_exporter": "python",
   "pygments_lexer": "ipython3",
   "version": "3.6.8"
  },
  "pycharm": {
   "stem_cell": {
    "cell_type": "raw",
    "source": [],
    "metadata": {
     "collapsed": false
    }
   }
  }
 },
 "nbformat": 4,
 "nbformat_minor": 2
}