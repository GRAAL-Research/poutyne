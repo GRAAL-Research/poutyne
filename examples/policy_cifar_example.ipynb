{
 "cells": [
  {
   "cell_type": "markdown",
   "metadata": {},
   "source": [
    "# Train CIFAR with the `policy` module\n",
    "\n",
    "Let's install the latest version of Poutyne (if it's not already) and import all the needed packages."
   ]
  },
  {
   "cell_type": "code",
   "execution_count": 1,
   "metadata": {},
   "outputs": [],
   "source": [
    "%pip install --upgrade poutyne\n",
    "\n",
    "import torch\n",
    "import torch.nn as nn\n",
    "import torch.optim as optim\n",
    "import torchvision.datasets as datasets\n",
    "from torch.utils.data import DataLoader\n",
    "from torchvision import transforms\n",
    "from torchvision.models import resnet18\n",
    "\n",
    "from poutyne import Model, OptimizerPolicy, one_cycle_phases"
   ]
  },
  {
   "cell_type": "markdown",
   "metadata": {},
   "source": [
    "## Training constant\n",
    "But first, let's set the training constants, the CUDA device used for training if one is present, we set the batch size (i.e. the number of elements to see before updating the model) and the number of epochs (i.e. the number of times we see the full dataset)."
   ]
  },
  {
   "cell_type": "code",
   "execution_count": 2,
   "metadata": {},
   "outputs": [],
   "source": [
    "cuda_device = 0\n",
    "device = torch.device(\"cuda:%d\" % cuda_device if torch.cuda.is_available() else \"cpu\")\n",
    "\n",
    "batch_size = 1024\n",
    "epochs = 5"
   ]
  },
  {
   "cell_type": "markdown",
   "metadata": {},
   "source": [
    "# Load the data"
   ]
  },
  {
   "cell_type": "code",
   "execution_count": 3,
   "metadata": {},
   "outputs": [],
   "source": [
    "_mean = [0.485, 0.456, 0.406]\n",
    "_std = [0.229, 0.224, 0.225]\n",
    "\n",
    "\n",
    "train_transform = transforms.Compose([\n",
    "    transforms.RandomHorizontalFlip(),\n",
    "    transforms.ColorJitter(.3, .3, .3),\n",
    "    transforms.ToTensor(),\n",
    "    transforms.Normalize(_mean, _std),\n",
    "])\n",
    "val_transform = transforms.Compose([\n",
    "    transforms.ToTensor(),\n",
    "    transforms.Normalize(_mean, _std),\n",
    "])"
   ]
  },
  {
   "cell_type": "code",
   "execution_count": 4,
   "metadata": {},
   "outputs": [
    {
     "name": "stdout",
     "output_type": "stream",
     "text": [
      "Files already downloaded and verified\n",
      "Files already downloaded and verified\n"
     ]
    }
   ],
   "source": [
    "root = \"datasets\"\n",
    "train_ds = datasets.CIFAR10(root, train=True, transform=train_transform, download=True)\n",
    "val_ds = datasets.CIFAR10(root, train=False, transform=val_transform, download=True)"
   ]
  },
  {
   "cell_type": "code",
   "execution_count": 5,
   "metadata": {},
   "outputs": [],
   "source": [
    "train_dl = DataLoader(\n",
    "    train_ds,\n",
    "    batch_size=batch_size,\n",
    "    shuffle=True,\n",
    "    num_workers=8\n",
    ")\n",
    "val_dl = DataLoader(\n",
    "    val_ds,\n",
    "    batch_size=batch_size,\n",
    "    shuffle=False,\n",
    "    num_workers=8\n",
    ")"
   ]
  },
  {
   "cell_type": "markdown",
   "metadata": {},
   "source": [
    "# The model\n",
    "We'll train a simple `resNet-18` network.\n",
    "This takes a while without GPU but is pretty quick with GPU."
   ]
  },
  {
   "cell_type": "code",
   "execution_count": 6,
   "metadata": {},
   "outputs": [],
   "source": [
    "def get_module():\n",
    "    model = resnet18(pretrained=False)\n",
    "    model.avgpool = nn.AdaptiveAvgPool2d(1)\n",
    "    model.fc = nn.Linear(512, 10)\n",
    "    return model\n"
   ]
  },
  {
   "cell_type": "markdown",
   "metadata": {},
   "source": [
    "# Training without the `policies` module"
   ]
  },
  {
   "cell_type": "code",
   "execution_count": 7,
   "metadata": {},
   "outputs": [
    {
     "name": "stdout",
     "output_type": "stream",
     "text": [
      "\u001b[35mEpoch: \u001b[36m1/5 \u001b[35mTrain steps: \u001b[36m49 \u001b[35mVal steps: \u001b[36m10 \u001b[32m8.36s \u001b[35mloss:\u001b[94m 2.117263\u001b[35m acc:\u001b[94m 23.430000\u001b[35m val_loss:\u001b[94m 1.857028\u001b[35m val_acc:\u001b[94m 33.690000\u001b[0m\n",
      "\u001b[35mEpoch: \u001b[36m2/5 \u001b[35mTrain steps: \u001b[36m49 \u001b[35mVal steps: \u001b[36m10 \u001b[32m8.35s \u001b[35mloss:\u001b[94m 1.797844\u001b[35m acc:\u001b[94m 34.568000\u001b[35m val_loss:\u001b[94m 1.663795\u001b[35m val_acc:\u001b[94m 39.050000\u001b[0m\n",
      "\u001b[35mEpoch: \u001b[36m3/5 \u001b[35mTrain steps: \u001b[36m49 \u001b[35mVal steps: \u001b[36m10 \u001b[32m8.42s \u001b[35mloss:\u001b[94m 1.643785\u001b[35m acc:\u001b[94m 40.474000\u001b[35m val_loss:\u001b[94m 1.546482\u001b[35m val_acc:\u001b[94m 44.070000\u001b[0m\n",
      "\u001b[35mEpoch: \u001b[36m4/5 \u001b[35mTrain steps: \u001b[36m49 \u001b[35mVal steps: \u001b[36m10 \u001b[32m8.38s \u001b[35mloss:\u001b[94m 1.550369\u001b[35m acc:\u001b[94m 43.554000\u001b[35m val_loss:\u001b[94m 1.469080\u001b[35m val_acc:\u001b[94m 46.690000\u001b[0m\n",
      "\u001b[35mEpoch: \u001b[36m5/5 \u001b[35mTrain steps: \u001b[36m49 \u001b[35mVal steps: \u001b[36m10 \u001b[32m8.39s \u001b[35mloss:\u001b[94m 1.481794\u001b[35m acc:\u001b[94m 46.146000\u001b[35m val_loss:\u001b[94m 1.425816\u001b[35m val_acc:\u001b[94m 48.110000\u001b[0m\n"
     ]
    }
   ],
   "source": [
    "pytorch_network = get_module()\n",
    "criterion = nn.CrossEntropyLoss()\n",
    "optimizer = optim.SGD(pytorch_network.parameters(), lr=0.01)\n",
    "\n",
    "model = Model(\n",
    "    pytorch_network,\n",
    "    optimizer,\n",
    "    criterion,\n",
    "    batch_metrics=[\"acc\"],\n",
    "    device=device,\n",
    ")\n",
    "\n",
    "history = model.fit_generator(\n",
    "    train_dl,\n",
    "    val_dl,\n",
    "    epochs=epochs,\n",
    ")"
   ]
  },
  {
   "cell_type": "markdown",
   "metadata": {},
   "source": [
    "# Training with the `policies` module"
   ]
  },
  {
   "cell_type": "code",
   "execution_count": 8,
   "metadata": {},
   "outputs": [
    {
     "data": {
      "text/plain": [
       "49"
      ]
     },
     "execution_count": 8,
     "metadata": {},
     "output_type": "execute_result"
    }
   ],
   "source": [
    "steps_per_epoch = len(train_dl)\n",
    "steps_per_epoch"
   ]
  },
  {
   "cell_type": "code",
   "execution_count": 9,
   "metadata": {},
   "outputs": [
    {
     "name": "stdout",
     "output_type": "stream",
     "text": [
      "\u001b[35mEpoch: \u001b[36m1/5 \u001b[35mTrain steps: \u001b[36m49 \u001b[35mVal steps: \u001b[36m10 \u001b[32m8.49s \u001b[35mloss:\u001b[94m 1.864204\u001b[35m acc:\u001b[94m 32.568000\u001b[35m val_loss:\u001b[94m 1.752385\u001b[35m val_acc:\u001b[94m 41.630000\u001b[0m\n",
      "\u001b[35mEpoch: \u001b[36m2/5 \u001b[35mTrain steps: \u001b[36m49 \u001b[35mVal steps: \u001b[36m10 \u001b[32m8.48s \u001b[35mloss:\u001b[94m 1.403389\u001b[35m acc:\u001b[94m 49.632000\u001b[35m val_loss:\u001b[94m 1.403605\u001b[35m val_acc:\u001b[94m 49.820000\u001b[0m\n",
      "\u001b[35mEpoch: \u001b[36m3/5 \u001b[35mTrain steps: \u001b[36m49 \u001b[35mVal steps: \u001b[36m10 \u001b[32m8.64s \u001b[35mloss:\u001b[94m 1.172077\u001b[35m acc:\u001b[94m 58.390000\u001b[35m val_loss:\u001b[94m 1.093589\u001b[35m val_acc:\u001b[94m 61.370000\u001b[0m\n",
      "\u001b[35mEpoch: \u001b[36m4/5 \u001b[35mTrain steps: \u001b[36m49 \u001b[35mVal steps: \u001b[36m10 \u001b[32m8.55s \u001b[35mloss:\u001b[94m 0.983761\u001b[35m acc:\u001b[94m 65.396000\u001b[35m val_loss:\u001b[94m 0.971778\u001b[35m val_acc:\u001b[94m 65.950000\u001b[0m\n",
      "\u001b[35mEpoch: \u001b[36m5/5 \u001b[35mTrain steps: \u001b[36m49 \u001b[35mVal steps: \u001b[36m10 \u001b[32m8.53s \u001b[35mloss:\u001b[94m 0.826081\u001b[35m acc:\u001b[94m 70.952000\u001b[35m val_loss:\u001b[94m 0.898928\u001b[35m val_acc:\u001b[94m 68.810000\u001b[0m\n"
     ]
    }
   ],
   "source": [
    "pytorch_network = get_module()\n",
    "criterion = nn.CrossEntropyLoss()\n",
    "optimizer = optim.SGD(pytorch_network.parameters(), lr=0.01)\n",
    "\n",
    "model = Model(\n",
    "    pytorch_network,\n",
    "    optimizer,\n",
    "    criterion,\n",
    "    batch_metrics=[\"acc\"],\n",
    "    device=device,\n",
    ")\n",
    "\n",
    "policy = OptimizerPolicy(\n",
    "    one_cycle_phases(epochs * steps_per_epoch, lr=(0.01, 0.1, 0.008)),\n",
    ")\n",
    "history = model.fit_generator(\n",
    "    train_dl,\n",
    "    val_dl,\n",
    "    epochs=epochs,\n",
    "    callbacks=[policy],\n",
    ")"
   ]
  },
  {
   "cell_type": "code",
   "execution_count": null,
   "metadata": {},
   "outputs": [],
   "source": []
  }
 ],
 "metadata": {
  "accelerator": "GPU",
  "kernelspec": {
   "display_name": "Python 3",
   "language": "python",
   "name": "python3"
  },
  "language_info": {
   "codemirror_mode": {
    "name": "ipython",
    "version": 3
   },
   "file_extension": ".py",
   "mimetype": "text/x-python",
   "name": "python",
   "nbconvert_exporter": "python",
   "pygments_lexer": "ipython3",
   "version": "3.8.5"
  }
 },
 "nbformat": 4,
 "nbformat_minor": 2
}
