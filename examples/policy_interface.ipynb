{
 "cells": [
  {
   "cell_type": "markdown",
   "metadata": {},
   "source": [
    "# Interface of the `policy` module\n",
    "\n",
    "The `policy` modules gives you fine grained control over the training process.\n",
    "This notebooks demonstrates how the `policy` module works and how you can create your own policies.\n",
    "\n",
    "Note: make sure matplotlib is installed."
   ]
  },
  {
   "cell_type": "code",
   "execution_count": null,
   "metadata": {},
   "outputs": [],
   "source": [
    "import matplotlib.pyplot as plt\n",
    "%matplotlib inline"
   ]
  },
  {
   "cell_type": "markdown",
   "metadata": {},
   "source": [
    "## Parameter spaces and phases\n",
    "Parameter spaces like `linspace` and `cosinespace` are the basic building blocks."
   ]
  },
  {
   "cell_type": "code",
   "execution_count": null,
   "metadata": {},
   "outputs": [],
   "source": [
    "from pytoune.framework import linspace, cosinespace"
   ]
  },
  {
   "cell_type": "markdown",
   "metadata": {},
   "source": [
    "You can define the space and iterate over them:"
   ]
  },
  {
   "cell_type": "code",
   "execution_count": null,
   "metadata": {},
   "outputs": [],
   "source": [
    "space = linspace(1, 0, 3)\n",
    "for i in space:\n",
    "    print(i)"
   ]
  },
  {
   "cell_type": "code",
   "execution_count": null,
   "metadata": {},
   "outputs": [],
   "source": [
    "space = cosinespace(1, 0, 5)\n",
    "for i in space:\n",
    "    print(i)"
   ]
  },
  {
   "cell_type": "markdown",
   "metadata": {},
   "source": [
    "You can use the space and create a phase with them:"
   ]
  },
  {
   "cell_type": "code",
   "execution_count": null,
   "metadata": {},
   "outputs": [],
   "source": [
    "from pytoune.framework import Phase\n",
    "\n",
    "phase = Phase(lr=linspace(0, 1, 3))\n",
    "\n",
    "# and iterate\n",
    "for d in phase:\n",
    "    print(d)"
   ]
  },
  {
   "cell_type": "markdown",
   "metadata": {},
   "source": [
    "You can also visualize your phase:"
   ]
  },
  {
   "cell_type": "code",
   "execution_count": null,
   "metadata": {},
   "outputs": [],
   "source": [
    "phase.plot(\"lr\");"
   ]
  },
  {
   "cell_type": "markdown",
   "metadata": {},
   "source": [
    "Phases can have multiple parameters:"
   ]
  },
  {
   "cell_type": "code",
   "execution_count": null,
   "metadata": {},
   "outputs": [],
   "source": [
    "phase = Phase(\n",
    "    lr=linspace(0, 1, 10),\n",
    "    momentum=cosinespace(.99, .9, 10),\n",
    ")\n",
    "\n",
    "phase.plot(\"lr\");\n",
    "phase.plot(\"momentum\")"
   ]
  },
  {
   "cell_type": "markdown",
   "metadata": {},
   "source": [
    "## Visualize different phases"
   ]
  },
  {
   "cell_type": "code",
   "execution_count": null,
   "metadata": {},
   "outputs": [],
   "source": [
    "steps = 100\n",
    "\n",
    "fig, ax = plt.subplots()\n",
    "# Constant value\n",
    "Phase(lr=linspace(.7, .7, steps)).plot(ax=ax)\n",
    "# Linear\n",
    "Phase(lr=linspace(0, 1, steps)).plot(ax=ax)\n",
    "# Cosine\n",
    "Phase(lr=cosinespace(1, 0, steps)).plot(ax=ax);"
   ]
  },
  {
   "cell_type": "markdown",
   "metadata": {},
   "source": [
    "## Visualize multiple parameters in one phase"
   ]
  },
  {
   "cell_type": "code",
   "execution_count": null,
   "metadata": {},
   "outputs": [],
   "source": [
    "steps = 100\n",
    "phase = Phase(lr=linspace(1, 0.5, steps), momentum=cosinespace(.8, 1, steps))\n",
    "\n",
    "fig, axes = plt.subplots(1, 2, figsize=(12, 3))\n",
    "phase.plot(\"lr\", ax=axes[0])\n",
    "phase.plot(\"momentum\", ax=axes[1]);"
   ]
  },
  {
   "cell_type": "markdown",
   "metadata": {},
   "source": [
    "# Build complex policies from basic phases\n",
    "You can build complex optimizer policies by chaining phases together:"
   ]
  },
  {
   "cell_type": "code",
   "execution_count": null,
   "metadata": {},
   "outputs": [],
   "source": [
    "from pytoune.framework import OptimizerPolicy\n",
    "\n",
    "policy = OptimizerPolicy([\n",
    "    Phase(lr=linspace(0, 1, 100)),\n",
    "    Phase(lr=cosinespace(1, 0, 200)),\n",
    "    Phase(lr=linspace(0, .5, 100)),\n",
    "    Phase(lr=linspace(.5, .1, 300)),\n",
    "])\n",
    "\n",
    "policy.plot();"
   ]
  },
  {
   "cell_type": "markdown",
   "metadata": {},
   "source": [
    "## Use already defined complex policies\n",
    "\n",
    "It's easy to build your own policies, but PyToune contains some pre-defined phases."
   ]
  },
  {
   "cell_type": "code",
   "execution_count": null,
   "metadata": {},
   "outputs": [],
   "source": [
    "from pytoune.framework import sgdr_phases\n",
    "\n",
    "# build them manually\n",
    "policy = OptimizerPolicy([\n",
    "    Phase(lr=cosinespace(1, 0, 200)),\n",
    "    Phase(lr=cosinespace(1, 0, 400)),\n",
    "    Phase(lr=cosinespace(1, 0, 800)),\n",
    "])\n",
    "policy.plot()\n",
    "\n",
    "# or use the pre-defined one\n",
    "policy = OptimizerPolicy(sgdr_phases(base_cycle_length=200, cycles=3, cycle_mult=2))\n",
    "policy.plot();"
   ]
  },
  {
   "cell_type": "markdown",
   "metadata": {},
   "source": [
    "Pre-defined ones are just a list phases:"
   ]
  },
  {
   "cell_type": "code",
   "execution_count": null,
   "metadata": {},
   "outputs": [],
   "source": [
    "sgdr_phases(base_cycle_length=200, cycles=3, cycle_mult=2)"
   ]
  },
  {
   "cell_type": "markdown",
   "metadata": {},
   "source": [
    "Here is the one-cycle policy:"
   ]
  },
  {
   "cell_type": "code",
   "execution_count": null,
   "metadata": {},
   "outputs": [],
   "source": [
    "from pytoune.framework import one_cycle_phases\n",
    "\n",
    "tp = OptimizerPolicy(one_cycle_phases(steps=500))\n",
    "tp.plot(\"lr\")\n",
    "tp.plot(\"momentum\");"
   ]
  }
 ],
 "metadata": {
  "kernelspec": {
   "display_name": "Python 3",
   "language": "python",
   "name": "python3"
  },
  "language_info": {
   "codemirror_mode": {
    "name": "ipython",
    "version": 3
   },
   "file_extension": ".py",
   "mimetype": "text/x-python",
   "name": "python",
   "nbconvert_exporter": "python",
   "pygments_lexer": "ipython3",
   "version": "3.6.5"
  }
 },
 "nbformat": 4,
 "nbformat_minor": 2
}
