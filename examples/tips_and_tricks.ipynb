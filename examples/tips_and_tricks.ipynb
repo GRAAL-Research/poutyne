{
 "cells": [
  {
   "cell_type": "markdown",
   "metadata": {},
   "source": [
    "# Poutyne's Tips and Tricks\n",
    "\n",
    "Poutyne offers a variety of tools for fine-tuning the information generated during the training, such as colouring the training update message, a progress bar, multi-GPUs, user callbacks interface and a user naming interface for the metrics' names. \n",
    "\n",
    "Let's install the latest version of Poutyne and colorama (if they are not already), and import all the needed packages."
   ]
  },
  {
   "cell_type": "code",
   "execution_count": 1,
   "metadata": {},
   "outputs": [],
   "source": [
    "%pip install --upgrade poutyne\n",
    "%pip install --upgrade colorama\n",
    "%matplotlib inline\n",
    "import os\n",
    "import math\n",
    "import shutil\n",
    "\n",
    "import matplotlib.pyplot as plt\n",
    "import numpy as np\n",
    "from sklearn.metrics import roc_auc_score\n",
    "import torch\n",
    "import torch.nn as nn\n",
    "import torch.optim as optim\n",
    "from torch.utils.data import random_split, DataLoader\n",
    "from torchvision import transforms, utils\n",
    "from torchvision.datasets.mnist import MNIST\n",
    "\n",
    "from poutyne import (\n",
    "    set_seeds,\n",
    "    Model,\n",
    "    ModelCheckpoint,\n",
    "    CSVLogger,\n",
    "    Callback,\n",
    "    ModelBundle,\n",
    "    Metric,\n",
    "    SKLearnMetrics,\n",
    "    plot_history,\n",
    ")"
   ]
  },
  {
   "cell_type": "markdown",
   "metadata": {},
   "source": [
    "## Hyperparameters, Dataset and Network\n",
    "\n",
    "In this section, we setup the hyperparameters, dataset and network we will use throughout these tips and tricks. "
   ]
  },
  {
   "cell_type": "markdown",
   "metadata": {},
   "source": [
    "### Training Constants\n",
    "\n",
    "Now, let's set our training constants. We first have the CUDA device used for training if one is present. Second, we set the `train_split` to 0.8 (80%) to use 80% of the dataset for training and 20% for testing the trained model. Third, we set the number of classes (i.e. one for each digit). Finally, we set the batch size (i.e. the number of elements to see before updating the model), the learning rate for the optimizer, and the number of epochs (i.e. the number of times we see the full dataset)."
   ]
  },
  {
   "cell_type": "code",
   "execution_count": 2,
   "metadata": {},
   "outputs": [],
   "source": [
    "cuda_device = 0\n",
    "device = torch.device(f\"cuda:{cuda_device}\" if torch.cuda.is_available() else \"cpu\")\n",
    "\n",
    "train_split_percent = 0.8\n",
    "\n",
    "num_classes = 10\n",
    "\n",
    "batch_size = 32\n",
    "learning_rate = 0.1\n",
    "num_epochs = 5"
   ]
  },
  {
   "cell_type": "markdown",
   "metadata": {},
   "source": [
    "In Poutyne, as we will see in the following sections, you can define your own loss functions and optimizers. However, we can also pass magic strings to use PyTorch's standard optimizers and loss functions. Furthermore, for the optimizer, we can also use a dictionary to set other parameters as the learning rate, for instance, if we don't want the default learning rate.\n",
    "\n",
    "Here, we initialize the dictionary for our optimizer as well as the string for our loss function. We thus use SGD with the specified learning rate and the cross-entropy loss."
   ]
  },
  {
   "cell_type": "code",
   "execution_count": 3,
   "metadata": {},
   "outputs": [],
   "source": [
    "optimizer = dict(optim='sgd', lr=learning_rate)  # Could be 'sgd' if we didn't need to change the learning rate.\n",
    "loss_function = 'cross_entropy'"
   ]
  },
  {
   "cell_type": "markdown",
   "metadata": {},
   "source": [
    "### Loading the Dataset\n",
    "\n",
    "The following code helps load the MNIST dataset and creates the PyTorch DataLoaders that split our datasets into batches. Then, the train DataLoader shuffles the examples of the training dataset to draw the examples without replacement."
   ]
  },
  {
   "cell_type": "code",
   "execution_count": 4,
   "metadata": {},
   "outputs": [],
   "source": [
    "full_train_dataset = MNIST('./datasets', train=True, download=True, transform=transforms.ToTensor())\n",
    "test_dataset = MNIST('./datasets', train=False, download=True, transform=transforms.ToTensor())\n",
    "\n",
    "num_data = len(full_train_dataset)\n",
    "train_length = int(math.floor(train_split_percent * num_data))\n",
    "valid_length = num_data - train_length\n",
    "\n",
    "train_dataset, valid_dataset = random_split(\n",
    "    full_train_dataset,\n",
    "    [train_length, valid_length],\n",
    "    generator=torch.Generator().manual_seed(42),\n",
    ")\n",
    "\n",
    "train_loader = DataLoader(train_dataset, batch_size=batch_size, num_workers=2, shuffle=True)\n",
    "valid_loader = DataLoader(valid_dataset, batch_size=batch_size, num_workers=2)\n",
    "test_loader = DataLoader(test_dataset, batch_size=batch_size, num_workers=2)"
   ]
  },
  {
   "cell_type": "code",
   "execution_count": 5,
   "metadata": {},
   "outputs": [
    {
     "data": {
      "text/plain": [
       "(48000, 12000)"
      ]
     },
     "execution_count": 5,
     "metadata": {},
     "output_type": "execute_result"
    }
   ],
   "source": [
    "len(train_dataset), len(valid_dataset)"
   ]
  },
  {
   "cell_type": "markdown",
   "metadata": {},
   "source": [
    "### Initializing the Network\n",
    "\n",
    "We create a fonction to initialize a simple convolutional neural network."
   ]
  },
  {
   "cell_type": "code",
   "execution_count": 6,
   "metadata": {},
   "outputs": [],
   "source": [
    "def create_network():\n",
    "    return nn.Sequential(\n",
    "        nn.Conv2d(in_channels=1, out_channels=16, kernel_size=3, padding=1),\n",
    "        nn.ReLU(),\n",
    "        nn.MaxPool2d(2),\n",
    "        nn.Conv2d(in_channels=16, out_channels=32, kernel_size=3, padding=1),\n",
    "        nn.ReLU(),\n",
    "        nn.MaxPool2d(2),\n",
    "        nn.Dropout(0.25),\n",
    "        nn.Flatten(),\n",
    "        nn.Linear(32 * 7 * 7, 128),\n",
    "        nn.ReLU(),\n",
    "        nn.Dropout(0.5),\n",
    "        nn.Linear(128, num_classes),\n",
    "    )"
   ]
  },
  {
   "cell_type": "markdown",
   "metadata": {},
   "source": [
    "## Vanilla Usage\n",
    "\n",
    "The following code trains our network in the simplest way possible with Poutyne. We use the accuracy and F1-score metrics so that we can see the performance during training."
   ]
  },
  {
   "cell_type": "code",
   "execution_count": 7,
   "metadata": {},
   "outputs": [
    {
     "name": "stdout",
     "output_type": "stream",
     "text": [
      "\u001b[35mEpoch: \u001b[36m1/5 \u001b[35mTrain steps: \u001b[36m1500 \u001b[35mVal steps: \u001b[36m375 \u001b[32m8.06s \u001b[35mloss:\u001b[94m 0.378701\u001b[35m acc:\u001b[94m 87.714583\u001b[35m fscore_macro:\u001b[94m 0.876223\u001b[35m val_loss:\u001b[94m 0.098711\u001b[35m val_acc:\u001b[94m 96.983333\u001b[35m val_fscore_macro:\u001b[94m 0.969770\u001b[0m\n",
      "\u001b[35mEpoch: \u001b[36m2/5 \u001b[35mTrain steps: \u001b[36m1500 \u001b[35mVal steps: \u001b[36m375 \u001b[32m8.11s \u001b[35mloss:\u001b[94m 0.133642\u001b[35m acc:\u001b[94m 95.958333\u001b[35m fscore_macro:\u001b[94m 0.959268\u001b[35m val_loss:\u001b[94m 0.068319\u001b[35m val_acc:\u001b[94m 97.941667\u001b[35m val_fscore_macro:\u001b[94m 0.979237\u001b[0m\n",
      "\u001b[35mEpoch: \u001b[36m3/5 \u001b[35mTrain steps: \u001b[36m1500 \u001b[35mVal steps: \u001b[36m375 \u001b[32m7.98s \u001b[35mloss:\u001b[94m 0.096036\u001b[35m acc:\u001b[94m 97.106250\u001b[35m fscore_macro:\u001b[94m 0.970866\u001b[35m val_loss:\u001b[94m 0.052802\u001b[35m val_acc:\u001b[94m 98.358333\u001b[35m val_fscore_macro:\u001b[94m 0.983536\u001b[0m\n",
      "\u001b[35mEpoch: \u001b[36m4/5 \u001b[35mTrain steps: \u001b[36m1500 \u001b[35mVal steps: \u001b[36m375 \u001b[32m7.95s \u001b[35mloss:\u001b[94m 0.081676\u001b[35m acc:\u001b[94m 97.493750\u001b[35m fscore_macro:\u001b[94m 0.974809\u001b[35m val_loss:\u001b[94m 0.048693\u001b[35m val_acc:\u001b[94m 98.566667\u001b[35m val_fscore_macro:\u001b[94m 0.985642\u001b[0m\n",
      "\u001b[35mEpoch: \u001b[36m5/5 \u001b[35mTrain steps: \u001b[36m1500 \u001b[35mVal steps: \u001b[36m375 \u001b[32m8.41s \u001b[35mloss:\u001b[94m 0.073082\u001b[35m acc:\u001b[94m 97.731250\u001b[35m fscore_macro:\u001b[94m 0.977137\u001b[35m val_loss:\u001b[94m 0.042849\u001b[35m val_acc:\u001b[94m 98.700000\u001b[35m val_fscore_macro:\u001b[94m 0.986997\u001b[0m\n",
      "\u001b[35mTest steps: \u001b[36m313 \u001b[32m0.97s \u001b[35mtest_loss:\u001b[94m 0.034079\u001b[35m test_acc:\u001b[94m 98.910000\u001b[35m test_fscore_macro:\u001b[94m 0.988960\u001b[0m            \n"
     ]
    }
   ],
   "source": [
    "# Instantiating our network\n",
    "network = create_network()\n",
    "\n",
    "# Poutyne Model on GPU\n",
    "model = Model(\n",
    "    network,\n",
    "    optimizer,\n",
    "    loss_function,\n",
    "    batch_metrics=['accuracy'],  # Displayed for each batch and at the end of the epoch.\n",
    "    epoch_metrics=['f1'],  # Displayed only at the end of the epoch.\n",
    "    device=device,\n",
    ")\n",
    "\n",
    "# Train\n",
    "history = model.fit_generator(train_loader, valid_loader, epochs=num_epochs)\n",
    "\n",
    "# Test\n",
    "test_loss, test_acc = model.evaluate_generator(test_loader)"
   ]
  },
  {
   "cell_type": "markdown",
   "metadata": {},
   "source": [
    "## Plotting Training"
   ]
  },
  {
   "cell_type": "markdown",
   "metadata": {},
   "source": [
    "The training methods in Poutyne returns a list of dictionaries containing the metrics output during training. Using Poutyne, it is then possible to plot this training history."
   ]
  },
  {
   "cell_type": "code",
   "execution_count": 8,
   "metadata": {
    "scrolled": false
   },
   "outputs": [
    {
     "data": {
      "image/png": "[encoded data removed]",
      "text/plain": [
       "<Figure size 432x288 with 1 Axes>"
      ]
     },
     "metadata": {
      "needs_background": "light"
     },
     "output_type": "display_data"
    },
    {
     "data": {
      "image/png": "[encoded data removed]",
      "text/plain": [
       "<Figure size 432x288 with 1 Axes>"
      ]
     },
     "metadata": {
      "needs_background": "light"
     },
     "output_type": "display_data"
    },
    {
     "data": {
      "image/png": "[encoded data removed]",
      "text/plain": [
       "<Figure size 432x288 with 1 Axes>"
      ]
     },
     "metadata": {
      "needs_background": "light"
     },
     "output_type": "display_data"
    },
    {
     "data": {
      "image/png": "[encoded data removed]",
      "text/plain": [
       "<Figure size 432x288 with 1 Axes>"
      ]
     },
     "metadata": {
      "needs_background": "light"
     },
     "output_type": "display_data"
    }
   ],
   "source": [
    "_ = plot_history(history)"
   ]
  },
  {
   "cell_type": "markdown",
   "metadata": {},
   "source": [
    "It is also possible to restrict the metrics shown and to customize the plots by using custom labels and titles."
   ]
  },
  {
   "cell_type": "code",
   "execution_count": 9,
   "metadata": {},
   "outputs": [
    {
     "data": {
      "image/png": "[encoded data removed]",
      "text/plain": [
       "<Figure size 432x288 with 1 Axes>"
      ]
     },
     "metadata": {
      "needs_background": "light"
     },
     "output_type": "display_data"
    },
    {
     "data": {
      "image/png": "[encoded data removed]",
      "text/plain": [
       "<Figure size 432x288 with 1 Axes>"
      ]
     },
     "metadata": {
      "needs_background": "light"
     },
     "output_type": "display_data"
    }
   ],
   "source": [
    "_ = plot_history(\n",
    "    history,\n",
    "    metrics=['loss', 'acc'],\n",
    "    labels=['Loss', 'Accuracy'],\n",
    "    titles='Training of MNIST',\n",
    ")"
   ]
  },
  {
   "cell_type": "markdown",
   "metadata": {},
   "source": [
    "## Initilalizing Your Optimizer and Loss Function Yourself\n",
    "\n",
    "Instead of using magic strings for the optimizer and the loss function, it's quite easy to initialize your own and pass them to Poutyne."
   ]
  },
  {
   "cell_type": "code",
   "execution_count": 10,
   "metadata": {},
   "outputs": [
    {
     "name": "stdout",
     "output_type": "stream",
     "text": [
      "\u001b[35mEpoch: \u001b[36m1/5 \u001b[35mTrain steps: \u001b[36m1500 \u001b[35mVal steps: \u001b[36m375 \u001b[32m7.01s \u001b[35mloss:\u001b[94m 0.378740\u001b[35m acc:\u001b[94m 87.750000\u001b[35m val_loss:\u001b[94m 0.091613\u001b[35m val_acc:\u001b[94m 97.275000\u001b[0m\n",
      "\u001b[35mEpoch: \u001b[36m2/5 \u001b[35mTrain steps: \u001b[36m1500 \u001b[35mVal steps: \u001b[36m375 \u001b[32m6.52s \u001b[35mloss:\u001b[94m 0.131763\u001b[35m acc:\u001b[94m 95.912500\u001b[35m val_loss:\u001b[94m 0.060723\u001b[35m val_acc:\u001b[94m 98.233333\u001b[0m\n",
      "\u001b[35mEpoch: \u001b[36m3/5 \u001b[35mTrain steps: \u001b[36m1500 \u001b[35mVal steps: \u001b[36m375 \u001b[32m6.38s \u001b[35mloss:\u001b[94m 0.099851\u001b[35m acc:\u001b[94m 96.922917\u001b[35m val_loss:\u001b[94m 0.053079\u001b[35m val_acc:\u001b[94m 98.525000\u001b[0m\n",
      "\u001b[35mEpoch: \u001b[36m4/5 \u001b[35mTrain steps: \u001b[36m1500 \u001b[35mVal steps: \u001b[36m375 \u001b[32m6.53s \u001b[35mloss:\u001b[94m 0.088178\u001b[35m acc:\u001b[94m 97.235417\u001b[35m val_loss:\u001b[94m 0.050858\u001b[35m val_acc:\u001b[94m 98.541667\u001b[0m\n",
      "\u001b[35mEpoch: \u001b[36m5/5 \u001b[35mTrain steps: \u001b[36m1500 \u001b[35mVal steps: \u001b[36m375 \u001b[32m6.58s \u001b[35mloss:\u001b[94m 0.075830\u001b[35m acc:\u001b[94m 97.645833\u001b[35m val_loss:\u001b[94m 0.042662\u001b[35m val_acc:\u001b[94m 98.766667\u001b[0m\n",
      "\u001b[35mTest steps: \u001b[36m313 \u001b[32m0.84s \u001b[35mtest_loss:\u001b[94m 0.030614\u001b[35m test_acc:\u001b[94m 98.950000\u001b[0m                                                   \n"
     ]
    }
   ],
   "source": [
    "# Instantiating our network\n",
    "network = create_network()\n",
    "\n",
    "# Instantiating our loss function and optimizer\n",
    "own_optimizer = optim.SGD(network.parameters(), lr=learning_rate)\n",
    "own_loss_function = nn.CrossEntropyLoss()\n",
    "\n",
    "# Poutyne Model on GPU\n",
    "model = Model(\n",
    "    network,\n",
    "    own_optimizer,\n",
    "    own_loss_function,\n",
    "    batch_metrics=['accuracy'],\n",
    "    device=device,\n",
    ")\n",
    "\n",
    "# Train\n",
    "model.fit_generator(train_loader, valid_loader, epochs=num_epochs)\n",
    "\n",
    "# Test\n",
    "test_loss, test_acc = model.evaluate_generator(test_loader)"
   ]
  },
  {
   "cell_type": "markdown",
   "metadata": {},
   "source": [
    "## Using Your Own Metric\n",
    "\n",
    "Poutyne offers [a few metrics out-of-the-box](https://poutyne.org/metrics.html#object-oriented-api) and also supports metrics from [TorchMetrics](https://torchmetrics.readthedocs.io/), a library implementing many known metrics in PyTorch. See the [TorchMetrics documentation](https://torchmetrics.readthedocs.io/en/latest/references/modules.html) for available TorchMetrics metrics.\n",
    "\n",
    "If metrics available in Poutyne and TorchMetrics do not suit your needs, you can define your own metric. Poutyne offers two interfaces for metrics. The first interface is the same as PyTorch loss functions: `metric(y_pred, y_true)`. When using that interface, the metric is assumed to be decomposable and is averaged for the whole epoch.\n",
    "\n",
    "The second interface is defined by the [`Metric` class](https://poutyne.org/metrics.html#interface). As documented in the class, it provides methods for updating and computing the metric. This interface is compatible with [TorchMetrics](https://torchmetrics.readthedocs.io/).\n",
    "\n",
    "In the code below, we demonstrate the usage of the two interfaces by implementing the accuracy in the two ways. The Metric interface is a bit more complex to use but also offers more flexibility."
   ]
  },
  {
   "cell_type": "code",
   "execution_count": 11,
   "metadata": {},
   "outputs": [],
   "source": [
    "# Creating a metric using the PyTorch loss interface.\n",
    "def my_accuracy_func(y_pred, y_true):\n",
    "    y_pred = y_pred.argmax(1)\n",
    "    acc_pred = (y_pred == y_true).float().mean()\n",
    "    return acc_pred * 100\n",
    "\n",
    "\n",
    "# Creating a metric using the Metric interface.\n",
    "class MyAccuracyMetric(Metric):\n",
    "    def __init__(self):\n",
    "        super().__init__()\n",
    "        self.reset()\n",
    "\n",
    "    def _compute_stats(self, y_pred, y_true):\n",
    "        \"\"\"\n",
    "        Compute the number of true positives and the total number of elements\n",
    "        of a given batch.\n",
    "        \"\"\"\n",
    "        y_pred = y_pred.argmax(1)\n",
    "        num_true_positives = (y_pred == y_true).long().sum().item()\n",
    "        total_exemples = y_true.numel()\n",
    "        return num_true_positives, total_exemples\n",
    "\n",
    "    def _compute_accuracy_from_stats(self, num_true_positives, total_exemples):\n",
    "        \"\"\"\n",
    "        Compute the accuracy given by the statistics computed in _compute_stats().\n",
    "        \"\"\"\n",
    "        return num_true_positives / total_exemples * 100\n",
    "\n",
    "    def _update(self, y_pred, y_true):\n",
    "        \"\"\"\n",
    "        Increment the running number of true positives and number of elements.\n",
    "        \"\"\"\n",
    "        num_true_positives, total_exemples = self._compute_stats(y_pred, y_true)\n",
    "        self.num_true_positives += num_true_positives\n",
    "        self.total_exemples += total_exemples\n",
    "        return num_true_positives, total_exemples\n",
    "\n",
    "    def forward(self, y_pred, y_true):\n",
    "        \"\"\"\n",
    "        When using the metric as a batch metric, this is called. If the metric is only\n",
    "        used as an epoch metric, there is no need to implement this.\n",
    "        \"\"\"\n",
    "        num_true_positives, total_exemples = self._update(y_pred, y_true)\n",
    "        return self._compute_accuracy_from_stats(num_true_positives, total_exemples)\n",
    "\n",
    "    def update(self, y_pred, y_true):\n",
    "        \"\"\"\n",
    "        When using the metric as an epoch metric, this is called. If the metric is only\n",
    "        used as a batch metric, there is no need to implement this.\n",
    "        \"\"\"\n",
    "        self._update(y_pred, y_true)\n",
    "\n",
    "    def compute(self):\n",
    "        \"\"\"\n",
    "        This is called at the end to get the value for the whole epoch.\n",
    "        \"\"\"\n",
    "        return self._compute_accuracy_from_stats(self.num_true_positives, self.total_exemples)\n",
    "\n",
    "    def reset(self) -> None:\n",
    "        \"\"\"\n",
    "        Reset the statistics for another epoch.\n",
    "        \"\"\"\n",
    "        self.num_true_positives = 0\n",
    "        self.total_exemples = 0"
   ]
  },
  {
   "cell_type": "code",
   "execution_count": 12,
   "metadata": {},
   "outputs": [
    {
     "name": "stdout",
     "output_type": "stream",
     "text": [
      "\u001b[35mEpoch: \u001b[36m1/5 \u001b[35mTrain steps: \u001b[36m1500 \u001b[35mVal steps: \u001b[36m375 \u001b[32m6.74s \u001b[35mloss:\u001b[94m 0.383959\u001b[35m my_accuracy_func:\u001b[94m 87.666667\u001b[35m my_accuracy_metric:\u001b[94m 87.666667\u001b[35m val_loss:\u001b[94m 0.090163\u001b[35m val_my_accuracy_func:\u001b[94m 97.383333\u001b[35m val_my_accuracy_metric:\u001b[94m 97.383333\u001b[0m\n",
      "\u001b[35mEpoch: \u001b[36m2/5 \u001b[35mTrain steps: \u001b[36m1500 \u001b[35mVal steps: \u001b[36m375 \u001b[32m6.66s \u001b[35mloss:\u001b[94m 0.128223\u001b[35m my_accuracy_func:\u001b[94m 96.100000\u001b[35m my_accuracy_metric:\u001b[94m 96.100000\u001b[35m val_loss:\u001b[94m 0.066320\u001b[35m val_my_accuracy_func:\u001b[94m 98.091667\u001b[35m val_my_accuracy_metric:\u001b[94m 98.091667\u001b[0m\n",
      "\u001b[35mEpoch: \u001b[36m3/5 \u001b[35mTrain steps: \u001b[36m1500 \u001b[35mVal steps: \u001b[36m375 \u001b[32m6.70s \u001b[35mloss:\u001b[94m 0.099619\u001b[35m my_accuracy_func:\u001b[94m 97.010417\u001b[35m my_accuracy_metric:\u001b[94m 97.010417\u001b[35m val_loss:\u001b[94m 0.057889\u001b[35m val_my_accuracy_func:\u001b[94m 98.208333\u001b[35m val_my_accuracy_metric:\u001b[94m 98.208333\u001b[0m\n",
      "\u001b[35mEpoch: \u001b[36m4/5 \u001b[35mTrain steps: \u001b[36m1500 \u001b[35mVal steps: \u001b[36m375 \u001b[32m6.63s \u001b[35mloss:\u001b[94m 0.083622\u001b[35m my_accuracy_func:\u001b[94m 97.460417\u001b[35m my_accuracy_metric:\u001b[94m 97.460417\u001b[35m val_loss:\u001b[94m 0.050346\u001b[35m val_my_accuracy_func:\u001b[94m 98.366667\u001b[35m val_my_accuracy_metric:\u001b[94m 98.366667\u001b[0m\n",
      "\u001b[35mEpoch: \u001b[36m5/5 \u001b[35mTrain steps: \u001b[36m1500 \u001b[35mVal steps: \u001b[36m375 \u001b[32m6.92s \u001b[35mloss:\u001b[94m 0.076653\u001b[35m my_accuracy_func:\u001b[94m 97.685417\u001b[35m my_accuracy_metric:\u001b[94m 97.685417\u001b[35m val_loss:\u001b[94m 0.059265\u001b[35m val_my_accuracy_func:\u001b[94m 98.291667\u001b[35m val_my_accuracy_metric:\u001b[94m 98.291667\u001b[0m\n",
      "\u001b[35mTest steps: \u001b[36m313 \u001b[32m0.88s \u001b[35mtest_loss:\u001b[94m 0.045160\u001b[35m test_my_accuracy_func:\u001b[94m 98.530000\u001b[35m test_my_accuracy_metric:\u001b[94m 98.530000\u001b[0m                                                    \n"
     ]
    }
   ],
   "source": [
    "# Instantiating our network\n",
    "network = create_network()\n",
    "\n",
    "# Poutyne Model on GPU\n",
    "model = Model(\n",
    "    network,\n",
    "    optimizer,\n",
    "    loss_function,\n",
    "    batch_metrics=[my_accuracy_func, MyAccuracyMetric()],\n",
    "    device=device,\n",
    ")\n",
    "\n",
    "# Train\n",
    "model.fit_generator(train_loader, valid_loader, epochs=num_epochs)\n",
    "\n",
    "# Test\n",
    "test_loss, (test_acc, test_f1) = model.evaluate_generator(test_loader)"
   ]
  },
  {
   "cell_type": "markdown",
   "metadata": {},
   "source": [
    "Furthermore, you could also use the [`SKLearnMetrics`](https://poutyne.org/metrics.html#poutyne.SKLearnMetrics) wrapper to wrap a Scikit-learn metric as an epoch metric. Below, we show how to compute the AUC ROC using the [`SKLearnMetrics`](https://poutyne.org/metrics.html#poutyne.SKLearnMetrics) class."
   ]
  },
  {
   "cell_type": "code",
   "execution_count": 13,
   "metadata": {},
   "outputs": [],
   "source": [
    "def softmax(x, axis=1):\n",
    "    \"\"\"\n",
    "    Compute softmax function.\n",
    "    \"\"\"\n",
    "    e_x = np.exp(x - x.max(axis=axis, keepdims=True))\n",
    "    return e_x / e_x.sum(axis=axis, keepdims=True)\n",
    "\n",
    "\n",
    "def roc_auc(y_true, y_pred, **kwargs):\n",
    "    \"\"\"\n",
    "    Since the `roc_auc_score` from Scikit-learn requires normalized probabilities,\n",
    "    we use the softmax function on the predictions.\n",
    "    \"\"\"\n",
    "    y_pred = softmax(y_pred)\n",
    "    return roc_auc_score(y_true, y_pred, **kwargs)\n",
    "\n",
    "\n",
    "# kwargs are keyword arguments we wish to pass to roc_auc.\n",
    "roc_epoch_metric = SKLearnMetrics(roc_auc, kwargs=dict(multi_class='ovr', average='macro'))"
   ]
  },
  {
   "cell_type": "code",
   "execution_count": 14,
   "metadata": {},
   "outputs": [
    {
     "name": "stdout",
     "output_type": "stream",
     "text": [
      "\u001b[35mEpoch: \u001b[36m1/5 \u001b[35mTrain steps: \u001b[36m1500 \u001b[35mVal steps: \u001b[36m375 \u001b[32m8.23s \u001b[35mloss:\u001b[94m 0.368582\u001b[35m acc:\u001b[94m 88.110417\u001b[35m fscore_macro:\u001b[94m 0.879912\u001b[35m roc_auc:\u001b[94m 0.991401\u001b[35m val_loss:\u001b[94m 0.106674\u001b[35m val_acc:\u001b[94m 96.800000\u001b[35m val_fscore_macro:\u001b[94m 0.967872\u001b[35m val_roc_auc:\u001b[94m 0.999144\u001b[0m\n",
      "\u001b[35mEpoch: \u001b[36m2/5 \u001b[35mTrain steps: \u001b[36m1500 \u001b[35mVal steps: \u001b[36m375 \u001b[32m8.68s \u001b[35mloss:\u001b[94m 0.126682\u001b[35m acc:\u001b[94m 96.135417\u001b[35m fscore_macro:\u001b[94m 0.961056\u001b[35m roc_auc:\u001b[94m 0.998664\u001b[35m val_loss:\u001b[94m 0.061894\u001b[35m val_acc:\u001b[94m 98.258333\u001b[35m val_fscore_macro:\u001b[94m 0.982487\u001b[35m val_roc_auc:\u001b[94m 0.999681\u001b[0m\n",
      "\u001b[35mEpoch: \u001b[36m3/5 \u001b[35mTrain steps: \u001b[36m1500 \u001b[35mVal steps: \u001b[36m375 \u001b[32m8.72s \u001b[35mloss:\u001b[94m 0.098693\u001b[35m acc:\u001b[94m 97.008333\u001b[35m fscore_macro:\u001b[94m 0.969876\u001b[35m roc_auc:\u001b[94m 0.999182\u001b[35m val_loss:\u001b[94m 0.053538\u001b[35m val_acc:\u001b[94m 98.400000\u001b[35m val_fscore_macro:\u001b[94m 0.983909\u001b[35m val_roc_auc:\u001b[94m 0.999758\u001b[0m\n",
      "\u001b[35mEpoch: \u001b[36m4/5 \u001b[35mTrain steps: \u001b[36m1500 \u001b[35mVal steps: \u001b[36m375 \u001b[32m8.53s \u001b[35mloss:\u001b[94m 0.084671\u001b[35m acc:\u001b[94m 97.391667\u001b[35m fscore_macro:\u001b[94m 0.973760\u001b[35m roc_auc:\u001b[94m 0.999401\u001b[35m val_loss:\u001b[94m 0.050164\u001b[35m val_acc:\u001b[94m 98.541667\u001b[35m val_fscore_macro:\u001b[94m 0.985300\u001b[35m val_roc_auc:\u001b[94m 0.999795\u001b[0m\n",
      "\u001b[35mEpoch: \u001b[36m5/5 \u001b[35mTrain steps: \u001b[36m1500 \u001b[35mVal steps: \u001b[36m375 \u001b[32m8.20s \u001b[35mloss:\u001b[94m 0.071751\u001b[35m acc:\u001b[94m 97.822917\u001b[35m fscore_macro:\u001b[94m 0.978080\u001b[35m roc_auc:\u001b[94m 0.999565\u001b[35m val_loss:\u001b[94m 0.045306\u001b[35m val_acc:\u001b[94m 98.616667\u001b[35m val_fscore_macro:\u001b[94m 0.986045\u001b[35m val_roc_auc:\u001b[94m 0.999814\u001b[0m\n",
      "\u001b[35mTest steps: \u001b[36m313 \u001b[32m0.98s \u001b[35mtest_loss:\u001b[94m 0.033772\u001b[35m test_acc:\u001b[94m 98.890000\u001b[35m test_fscore_macro:\u001b[94m 0.988862\u001b[35m test_roc_auc:\u001b[94m 0.999912\u001b[0m\n"
     ]
    }
   ],
   "source": [
    "# Instantiating our network\n",
    "network = create_network()\n",
    "\n",
    "# Poutyne Model on GPU\n",
    "model = Model(\n",
    "    network,\n",
    "    optimizer,\n",
    "    loss_function,\n",
    "    batch_metrics=['accuracy'],\n",
    "    epoch_metrics=['f1', roc_epoch_metric],\n",
    "    device=device,\n",
    ")\n",
    "\n",
    "# Train\n",
    "model.fit_generator(train_loader, valid_loader, epochs=num_epochs)\n",
    "\n",
    "# Test\n",
    "test_loss, (test_acc, test_f1, test_roc) = model.evaluate_generator(test_loader)"
   ]
  },
  {
   "cell_type": "markdown",
   "metadata": {},
   "source": [
    "## Bypassing PyTorch DataLoaders\n",
    "\n",
    "Above, we defined DataLoaders for our datasets. However, with Poutyne, it is not strictly necessary since it provides the [`fit_dataset`](https://poutyne.org/model.html#poutyne.Model.fit_dataset) and [`evaluate_dataset`](https://poutyne.org/model.html#poutyne.Model.evaluate_dataset) methods to which you can pass the necessary parameters such as the batch size. Under the hood, Poutyne initializes the DataLoaders for you."
   ]
  },
  {
   "cell_type": "code",
   "execution_count": 15,
   "metadata": {
    "scrolled": false
   },
   "outputs": [
    {
     "name": "stdout",
     "output_type": "stream",
     "text": [
      "\u001b[35mEpoch: \u001b[36m1/5 \u001b[35mTrain steps: \u001b[36m1500 \u001b[35mVal steps: \u001b[36m375 \u001b[32m6.40s \u001b[35mloss:\u001b[94m 0.376303\u001b[35m acc:\u001b[94m 87.952083\u001b[35m val_loss:\u001b[94m 0.084193\u001b[35m val_acc:\u001b[94m 97.575000\u001b[0m\n",
      "\u001b[35mEpoch: \u001b[36m2/5 \u001b[35mTrain steps: \u001b[36m1500 \u001b[35mVal steps: \u001b[36m375 \u001b[32m6.70s \u001b[35mloss:\u001b[94m 0.129315\u001b[35m acc:\u001b[94m 96.097917\u001b[35m val_loss:\u001b[94m 0.074739\u001b[35m val_acc:\u001b[94m 97.750000\u001b[0m\n",
      "\u001b[35mEpoch: \u001b[36m3/5 \u001b[35mTrain steps: \u001b[36m1500 \u001b[35mVal steps: \u001b[36m375 \u001b[32m6.64s \u001b[35mloss:\u001b[94m 0.102616\u001b[35m acc:\u001b[94m 96.868750\u001b[35m val_loss:\u001b[94m 0.056323\u001b[35m val_acc:\u001b[94m 98.491667\u001b[0m\n",
      "\u001b[35mEpoch: \u001b[36m4/5 \u001b[35mTrain steps: \u001b[36m1500 \u001b[35mVal steps: \u001b[36m375 \u001b[32m6.48s \u001b[35mloss:\u001b[94m 0.087765\u001b[35m acc:\u001b[94m 97.391667\u001b[35m val_loss:\u001b[94m 0.052291\u001b[35m val_acc:\u001b[94m 98.533333\u001b[0m\n",
      "\u001b[35mEpoch: \u001b[36m5/5 \u001b[35mTrain steps: \u001b[36m1500 \u001b[35mVal steps: \u001b[36m375 \u001b[32m6.55s \u001b[35mloss:\u001b[94m 0.075437\u001b[35m acc:\u001b[94m 97.672917\u001b[35m val_loss:\u001b[94m 0.046242\u001b[35m val_acc:\u001b[94m 98.791667\u001b[0m\n",
      "\u001b[35mTest steps: \u001b[36m313 \u001b[32m0.85s \u001b[35mtest_loss:\u001b[94m 0.033271\u001b[35m test_acc:\u001b[94m 98.920000\u001b[0m                                                   \n"
     ]
    }
   ],
   "source": [
    "# Instantiating our network\n",
    "network = create_network()\n",
    "\n",
    "# Poutyne Model on GPU\n",
    "model = Model(\n",
    "    network,\n",
    "    optimizer,\n",
    "    loss_function,\n",
    "    batch_metrics=['accuracy'],\n",
    "    device=device,\n",
    ")\n",
    "\n",
    "# Train\n",
    "model.fit_dataset(\n",
    "    train_dataset,\n",
    "    valid_dataset,\n",
    "    epochs=num_epochs,\n",
    "    batch_size=batch_size,\n",
    "    num_workers=2,\n",
    ")\n",
    "\n",
    "# Test\n",
    "test_loss, test_acc = model.evaluate_dataset(\n",
    "    test_dataset,\n",
    "    batch_size=batch_size,\n",
    "    num_workers=2,\n",
    ")"
   ]
  },
  {
   "cell_type": "markdown",
   "metadata": {
    "pycharm": {
     "name": "#%% md\n"
    }
   },
   "source": [
    "## Using Callbacks\n",
    "\n",
    "One nice feature of Poutyne is [callbacks](https://poutyne.org/callbacks.html). Callbacks allow doing actions during the training of the neural network. In the following example, we use three callbacks. The first that saves the latest weights in a file to be able to continue the optimization at the end of training if more epochs are needed. The second that saves the best weights according to the performance on the validation dataset. The last that saves the displayed logs into a TSV file."
   ]
  },
  {
   "cell_type": "code",
   "execution_count": 16,
   "metadata": {
    "pycharm": {
     "name": "#%%\n"
    }
   },
   "outputs": [],
   "source": [
    "# Saves everything into saves/convnet_mnist\n",
    "save_path = \"saves/convnet_mnist\"\n",
    "os.makedirs(save_path, exist_ok=True)\n",
    "\n",
    "callbacks = [\n",
    "    # Save the latest weights to be able to continue the optimization at the end for more epochs.\n",
    "    ModelCheckpoint(os.path.join(save_path, 'last_epoch.ckpt')),\n",
    "    # Save the weights in a new file when the current model is better than all previous models.\n",
    "    ModelCheckpoint(\n",
    "        os.path.join(save_path, 'best_epoch_{epoch}.ckpt'),\n",
    "        monitor='val_acc',\n",
    "        mode='max',\n",
    "        save_best_only=True,\n",
    "        restore_best=True,\n",
    "        verbose=True,\n",
    "    ),\n",
    "    # Save the losses and accuracies for each epoch in a TSV.\n",
    "    CSVLogger(os.path.join(save_path, 'log.tsv'), separator='\\t'),\n",
    "]"
   ]
  },
  {
   "cell_type": "code",
   "execution_count": 17,
   "metadata": {},
   "outputs": [
    {
     "name": "stdout",
     "output_type": "stream",
     "text": [
      "\u001b[35mEpoch: \u001b[36m1/5 \u001b[35mTrain steps: \u001b[36m1500 \u001b[35mVal steps: \u001b[36m375 \u001b[32m6.80s \u001b[35mloss:\u001b[94m 0.379219\u001b[35m acc:\u001b[94m 87.589583\u001b[35m val_loss:\u001b[94m 0.095315\u001b[35m val_acc:\u001b[94m 97.183333\u001b[0m\n",
      "Epoch 1: val_acc improved from -inf to 97.18333, saving file to saves/convnet_mnist/best_epoch_1.ckpt\n",
      "\u001b[35mEpoch: \u001b[36m2/5 \u001b[35mTrain steps: \u001b[36m1500 \u001b[35mVal steps: \u001b[36m375 \u001b[32m6.60s \u001b[35mloss:\u001b[94m 0.127790\u001b[35m acc:\u001b[94m 96.127083\u001b[35m val_loss:\u001b[94m 0.069420\u001b[35m val_acc:\u001b[94m 97.966667\u001b[0m\n",
      "Epoch 2: val_acc improved from 97.18333 to 97.96667, saving file to saves/convnet_mnist/best_epoch_2.ckpt\n",
      "\u001b[35mEpoch: \u001b[36m3/5 \u001b[35mTrain steps: \u001b[36m1500 \u001b[35mVal steps: \u001b[36m375 \u001b[32m6.76s \u001b[35mloss:\u001b[94m 0.100507\u001b[35m acc:\u001b[94m 96.997917\u001b[35m val_loss:\u001b[94m 0.052325\u001b[35m val_acc:\u001b[94m 98.375000\u001b[0m\n",
      "Epoch 3: val_acc improved from 97.96667 to 98.37500, saving file to saves/convnet_mnist/best_epoch_3.ckpt\n",
      "\u001b[35mEpoch: \u001b[36m4/5 \u001b[35mTrain steps: \u001b[36m1500 \u001b[35mVal steps: \u001b[36m375 \u001b[32m6.53s \u001b[35mloss:\u001b[94m 0.084314\u001b[35m acc:\u001b[94m 97.416667\u001b[35m val_loss:\u001b[94m 0.049132\u001b[35m val_acc:\u001b[94m 98.633333\u001b[0m\n",
      "Epoch 4: val_acc improved from 98.37500 to 98.63333, saving file to saves/convnet_mnist/best_epoch_4.ckpt\n",
      "\u001b[35mEpoch: \u001b[36m5/5 \u001b[35mTrain steps: \u001b[36m1500 \u001b[35mVal steps: \u001b[36m375 \u001b[32m6.49s \u001b[35mloss:\u001b[94m 0.073190\u001b[35m acc:\u001b[94m 97.775000\u001b[35m val_loss:\u001b[94m 0.044298\u001b[35m val_acc:\u001b[94m 98.750000\u001b[0m\n",
      "Epoch 5: val_acc improved from 98.63333 to 98.75000, saving file to saves/convnet_mnist/best_epoch_5.ckpt\n",
      "Restoring data from saves/convnet_mnist/best_epoch_5.ckpt\n",
      "\u001b[35mTest steps: \u001b[36m313 \u001b[32m0.82s \u001b[35mtest_loss:\u001b[94m 0.030420\u001b[35m test_acc:\u001b[94m 99.000000\u001b[0m                                                   \n"
     ]
    }
   ],
   "source": [
    "# Instantiating our network\n",
    "network = create_network()\n",
    "\n",
    "# Poutyne Model on GPU\n",
    "model = Model(\n",
    "    network,\n",
    "    optimizer,\n",
    "    loss_function,\n",
    "    batch_metrics=['accuracy'],\n",
    "    device=device,\n",
    ")\n",
    "\n",
    "# Train\n",
    "model.fit_generator(train_loader, valid_loader, epochs=num_epochs, callbacks=callbacks)\n",
    "\n",
    "# Test\n",
    "test_loss, test_acc = model.evaluate_generator(test_loader)"
   ]
  },
  {
   "cell_type": "markdown",
   "metadata": {
    "pycharm": {
     "name": "#%% md\n"
    }
   },
   "source": [
    "## Making Your Own Callback\n",
    "\n",
    "While Poutyne provides a great number of [predefined callbacks](https://poutyne.org/callbacks.html), it is sometimes useful to make your own callback.\n",
    "\n",
    "In the following example, we want to see the effect of temperature on the optimization of our neural network. To do so, we either increase or decrease the temperature during the optimization. As one can see in the result, temperature either as no effect or has a detrimental effect on the performance of the neural network. This is so because the temperature has for effect to artificially changing the learning rates. Since we have found the right learning rate, increasing or decreasing, it shows no improvement on the results."
   ]
  },
  {
   "cell_type": "code",
   "execution_count": 18,
   "metadata": {},
   "outputs": [],
   "source": [
    "class CrossEntropyLossWithTemperature(nn.Module):\n",
    "    \"\"\"\n",
    "    This loss module is the cross-entropy loss function\n",
    "    with temperature. It divides the logits by a temperature\n",
    "    value before computing the cross-entropy loss.\n",
    "\n",
    "    Args:\n",
    "        initial_temperature (float): The initial value of the temperature.\n",
    "    \"\"\"\n",
    "\n",
    "    def __init__(self, initial_temperature):\n",
    "        super().__init__()\n",
    "        self.temperature = initial_temperature\n",
    "        self.celoss = nn.CrossEntropyLoss()\n",
    "\n",
    "    def forward(self, y_pred, y_true):\n",
    "        y_pred = y_pred / self.temperature\n",
    "        return self.celoss(y_pred, y_true)"
   ]
  },
  {
   "cell_type": "code",
   "execution_count": 19,
   "metadata": {
    "pycharm": {
     "name": "#%%\n"
    }
   },
   "outputs": [],
   "source": [
    "class TemperatureCallback(Callback):\n",
    "    \"\"\"\n",
    "    This callback multiply the loss temperature with a decay before\n",
    "    each batch.\n",
    "\n",
    "    Args:\n",
    "        celoss_with_temp (CrossEntropyLossWithTemperature): the loss module.\n",
    "        decay (float): The value of the temperature decay.\n",
    "    \"\"\"\n",
    "\n",
    "    def __init__(self, celoss_with_temp, decay):\n",
    "        super().__init__()\n",
    "        self.celoss_with_temp = celoss_with_temp\n",
    "        self.decay = decay\n",
    "\n",
    "    def on_train_batch_begin(self, batch, logs):\n",
    "        self.celoss_with_temp.temperature *= self.decay"
   ]
  },
  {
   "cell_type": "markdown",
   "metadata": {
    "pycharm": {
     "name": "#%% md\n"
    }
   },
   "source": [
    "So our loss function will be the cross-entropy with temperature with an initial temperature of `0.1` and a temperature decay of `1.0008`."
   ]
  },
  {
   "cell_type": "code",
   "execution_count": 20,
   "metadata": {
    "pycharm": {
     "name": "#%%\n"
    }
   },
   "outputs": [],
   "source": [
    "custom_loss_function = CrossEntropyLossWithTemperature(0.1)\n",
    "callbacks = [TemperatureCallback(custom_loss_function, 1.0008)]"
   ]
  },
  {
   "cell_type": "markdown",
   "metadata": {
    "pycharm": {
     "name": "#%% md\n"
    }
   },
   "source": [
    "Now let's test our training loop for one epoch using the accuracy as the batch metric."
   ]
  },
  {
   "cell_type": "code",
   "execution_count": 21,
   "metadata": {},
   "outputs": [
    {
     "name": "stdout",
     "output_type": "stream",
     "text": [
      "\u001b[35mEpoch: \u001b[36m1/5 \u001b[35mTrain steps: \u001b[36m1500 \u001b[35mVal steps: \u001b[36m375 \u001b[32m6.74s \u001b[35mloss:\u001b[94m 0.470274\u001b[35m acc:\u001b[94m 85.037500\u001b[35m val_loss:\u001b[94m 0.089246\u001b[35m val_acc:\u001b[94m 97.325000\u001b[0m\n",
      "\u001b[35mEpoch: \u001b[36m2/5 \u001b[35mTrain steps: \u001b[36m1500 \u001b[35mVal steps: \u001b[36m375 \u001b[32m6.62s \u001b[35mloss:\u001b[94m 0.136065\u001b[35m acc:\u001b[94m 96.068750\u001b[35m val_loss:\u001b[94m 0.058898\u001b[35m val_acc:\u001b[94m 98.283333\u001b[0m\n",
      "\u001b[35mEpoch: \u001b[36m3/5 \u001b[35mTrain steps: \u001b[36m1500 \u001b[35mVal steps: \u001b[36m375 \u001b[32m6.82s \u001b[35mloss:\u001b[94m 0.111425\u001b[35m acc:\u001b[94m 96.741667\u001b[35m val_loss:\u001b[94m 0.057114\u001b[35m val_acc:\u001b[94m 98.291667\u001b[0m\n",
      "\u001b[35mEpoch: \u001b[36m4/5 \u001b[35mTrain steps: \u001b[36m1500 \u001b[35mVal steps: \u001b[36m375 \u001b[32m6.71s \u001b[35mloss:\u001b[94m 0.109230\u001b[35m acc:\u001b[94m 96.927083\u001b[35m val_loss:\u001b[94m 0.063533\u001b[35m val_acc:\u001b[94m 98.183333\u001b[0m\n",
      "\u001b[35mEpoch: \u001b[36m5/5 \u001b[35mTrain steps: \u001b[36m1500 \u001b[35mVal steps: \u001b[36m375 \u001b[32m6.82s \u001b[35mloss:\u001b[94m 0.123607\u001b[35m acc:\u001b[94m 96.660417\u001b[35m val_loss:\u001b[94m 0.074446\u001b[35m val_acc:\u001b[94m 98.025000\u001b[0m\n",
      "\u001b[35mTest steps: \u001b[36m313 \u001b[32m0.87s \u001b[35mtest_loss:\u001b[94m 0.062896\u001b[35m test_acc:\u001b[94m 98.290000\u001b[0m                                                   \n"
     ]
    }
   ],
   "source": [
    "# Instantiating our network\n",
    "network = create_network()\n",
    "\n",
    "# Poutyne Model on GPU\n",
    "model = Model(\n",
    "    network,\n",
    "    optimizer,\n",
    "    custom_loss_function,\n",
    "    batch_metrics=['accuracy'],\n",
    "    device=device,\n",
    ")\n",
    "\n",
    "# Train\n",
    "model.fit_generator(train_loader, valid_loader, epochs=num_epochs, callbacks=callbacks)\n",
    "\n",
    "# Test\n",
    "test_loss, test_acc = model.evaluate_generator(test_loader)"
   ]
  },
  {
   "cell_type": "markdown",
   "metadata": {},
   "source": [
    "## Using ModelBundle\n",
    "\n",
    "Most of the time, when using Poutyne (or even PyTorch in general), we will find ourselves in an iterative model hyperparameters finetuning loop. For efficient model search, we will usually wish to save our best performing models, their training and testing statistics and even sometimes wish to retrain an already trained model for further tuning. All of the above can be easily implemented with the flexibility of Poutyne Callbacks, but having to define and initialize each and every Callback object we wish for our model quickly feels cumbersome.\n",
    "\n",
    "This is why Poutyne provides a [ModelBundle class](https://poutyne.org/experiment.html#poutyne.ModelBundle), which aims specifically at enabling quick model iteration search, while not sacrificing the quality of a single experiment - statistics logging, best models saving, etc. ModelBundle is actually a simple wrapper between a PyTorch network and Poutyne's core Callback objects for logging and saving. Given a working directory where to output the various logging files and a PyTorch network, the ModelBundle class reduces the whole training loop to a single line.\n",
    "\n",
    "The following code uses [Poutyne's ModelBundle class](https://poutyne.org/experiment.html#poutyne.ModelBundle) to train a network for 5 epochs. The code is quite simpler than the code in the Poutyne Callbacks section while doing more (only a few lines). Once trained for 5 epochs, it is then possible to resume the optimization at the 5th epoch for 5 more epochs until the 10th epoch using the same function."
   ]
  },
  {
   "cell_type": "code",
   "execution_count": 22,
   "metadata": {},
   "outputs": [],
   "source": [
    "def train_model_bundle(network, name, epochs=5):\n",
    "    \"\"\"\n",
    "    This function creates a Poutyne ModelBundle, trains the input module\n",
    "    on the train loader and then tests its performance on the test loader.\n",
    "    All training and testing statistics are saved, as well as best model\n",
    "    checkpoints.\n",
    "\n",
    "    Args:\n",
    "        network (torch.nn.Module): The neural network to train.\n",
    "        working_directory (str): The directory where to output files to save.\n",
    "        epochs (int): The number of epochs. (Default: 5)\n",
    "    \"\"\"\n",
    "    # Everything is going to be saved in ./saves/{name}.\n",
    "    save_path = os.path.join('saves', name)\n",
    "\n",
    "    # Poutyne ModelBundle\n",
    "    model_bundle = ModelBundle.from_network(\n",
    "        save_path,\n",
    "        network,\n",
    "        optimizer=optimizer,\n",
    "        task='classif',\n",
    "        device=device,\n",
    "    )\n",
    "\n",
    "    # Train\n",
    "    model_bundle.train(train_loader, valid_loader, epochs=epochs)\n",
    "\n",
    "    # Test\n",
    "    model_bundle.test(test_loader)"
   ]
  },
  {
   "cell_type": "markdown",
   "metadata": {},
   "source": [
    "Let's first remove the output directory if it exists so that we start training from scratch."
   ]
  },
  {
   "cell_type": "code",
   "execution_count": 23,
   "metadata": {},
   "outputs": [],
   "source": [
    "shutil.rmtree('saves/convnet_mnist_model_bundle', ignore_errors=True)"
   ]
  },
  {
   "cell_type": "markdown",
   "metadata": {},
   "source": [
    "Let's train for 5 epochs."
   ]
  },
  {
   "cell_type": "code",
   "execution_count": 24,
   "metadata": {},
   "outputs": [
    {
     "name": "stdout",
     "output_type": "stream",
     "text": [
      "\u001b[35mEpoch: \u001b[36m1/5 \u001b[35mTrain steps: \u001b[36m1500 \u001b[35mVal steps: \u001b[36m375 \u001b[32m8.51s \u001b[35mloss:\u001b[94m 0.366255\u001b[35m acc:\u001b[94m 88.012500\u001b[35m fscore_macro:\u001b[94m 0.879123\u001b[35m val_loss:\u001b[94m 0.077714\u001b[35m val_acc:\u001b[94m 97.741667\u001b[35m val_fscore_macro:\u001b[94m 0.977352\u001b[0m\n",
      "Epoch 1: val_acc improved from -inf to 97.74167, saving file to saves/convnet_mnist_model_bundle/checkpoint_epoch_1.ckpt\n",
      "\u001b[35mEpoch: \u001b[36m2/5 \u001b[35mTrain steps: \u001b[36m1500 \u001b[35mVal steps: \u001b[36m375 \u001b[32m8.45s \u001b[35mloss:\u001b[94m 0.127324\u001b[35m acc:\u001b[94m 96.200000\u001b[35m fscore_macro:\u001b[94m 0.961720\u001b[35m val_loss:\u001b[94m 0.060472\u001b[35m val_acc:\u001b[94m 98.208333\u001b[35m val_fscore_macro:\u001b[94m 0.982050\u001b[0m\n",
      "Epoch 2: val_acc improved from 97.74167 to 98.20833, saving file to saves/convnet_mnist_model_bundle/checkpoint_epoch_2.ckpt\n",
      "\u001b[35mEpoch: \u001b[36m3/5 \u001b[35mTrain steps: \u001b[36m1500 \u001b[35mVal steps: \u001b[36m375 \u001b[32m8.12s \u001b[35mloss:\u001b[94m 0.098540\u001b[35m acc:\u001b[94m 97.052083\u001b[35m fscore_macro:\u001b[94m 0.970294\u001b[35m val_loss:\u001b[94m 0.053993\u001b[35m val_acc:\u001b[94m 98.358333\u001b[35m val_fscore_macro:\u001b[94m 0.983539\u001b[0m\n",
      "Epoch 3: val_acc improved from 98.20833 to 98.35833, saving file to saves/convnet_mnist_model_bundle/checkpoint_epoch_3.ckpt\n",
      "\u001b[35mEpoch: \u001b[36m4/5 \u001b[35mTrain steps: \u001b[36m1500 \u001b[35mVal steps: \u001b[36m375 \u001b[32m8.03s \u001b[35mloss:\u001b[94m 0.081231\u001b[35m acc:\u001b[94m 97.552083\u001b[35m fscore_macro:\u001b[94m 0.975337\u001b[35m val_loss:\u001b[94m 0.044749\u001b[35m val_acc:\u001b[94m 98.608333\u001b[35m val_fscore_macro:\u001b[94m 0.986048\u001b[0m\n",
      "Epoch 4: val_acc improved from 98.35833 to 98.60833, saving file to saves/convnet_mnist_model_bundle/checkpoint_epoch_4.ckpt\n",
      "\u001b[35mEpoch: \u001b[36m5/5 \u001b[35mTrain steps: \u001b[36m1500 \u001b[35mVal steps: \u001b[36m375 \u001b[32m8.39s \u001b[35mloss:\u001b[94m 0.073298\u001b[35m acc:\u001b[94m 97.839583\u001b[35m fscore_macro:\u001b[94m 0.978247\u001b[35m val_loss:\u001b[94m 0.038756\u001b[35m val_acc:\u001b[94m 98.825000\u001b[35m val_fscore_macro:\u001b[94m 0.988171\u001b[0m\n",
      "Epoch 5: val_acc improved from 98.60833 to 98.82500, saving file to saves/convnet_mnist_model_bundle/checkpoint_epoch_5.ckpt\n",
      "Restoring data from saves/convnet_mnist_model_bundle/checkpoint_epoch_5.ckpt\n",
      "Found best checkpoint at epoch: 5\n",
      "lr: 0.1, loss: 0.0732985, acc: 97.8396, fscore_macro: 0.978247, val_loss: 0.038756, val_acc: 98.825, val_fscore_macro: 0.988171\n",
      "Loading checkpoint saves/convnet_mnist_model_bundle/checkpoint_epoch_5.ckpt\n",
      "Running test\n",
      "\u001b[35mTest steps: \u001b[36m313 \u001b[32m1.11s \u001b[35mtest_loss:\u001b[94m 0.030811\u001b[35m test_acc:\u001b[94m 98.980000\u001b[35m test_fscore_macro:\u001b[94m 0.989685\u001b[0m             \n"
     ]
    }
   ],
   "source": [
    "network = create_network()\n",
    "train_model_bundle(network, 'convnet_mnist_model_bundle', epochs=5)"
   ]
  },
  {
   "cell_type": "markdown",
   "metadata": {},
   "source": [
    "Notice how setting `task='classif'` when instantiating `ModelBundle` adds for use our loss function, the batch metric accuracy, the epoch metric F1 and set up callbacks that use them. If you wish, you still can use your own loss function and metrics instead of passing this argument.\n",
    "\n",
    "We have trained for 5 epochs, let's now resume training for another 5 epochs for a total of 10 epochs. Notice that we reinstantiate the network. ModelBundle will load back the weights for us and resume training."
   ]
  },
  {
   "cell_type": "code",
   "execution_count": 25,
   "metadata": {
    "scrolled": false
   },
   "outputs": [
    {
     "name": "stdout",
     "output_type": "stream",
     "text": [
      "Loading weights from saves/convnet_mnist_model_bundle/checkpoint.ckpt and starting at epoch 6.\n",
      "Loading optimizer state from saves/convnet_mnist_model_bundle/checkpoint.optim and starting at epoch 6.\n",
      "Loading random states from saves/convnet_mnist_model_bundle/checkpoint.randomstate and starting at epoch 6.\n",
      "\u001b[35mEpoch: \u001b[36m 6/10 \u001b[35mTrain steps: \u001b[36m1500 \u001b[35mVal steps: \u001b[36m375 \u001b[32m8.16s \u001b[35mloss:\u001b[94m 0.065763\u001b[35m acc:\u001b[94m 98.022917\u001b[35m fscore_macro:\u001b[94m 0.980102\u001b[35m val_loss:\u001b[94m 0.037387\u001b[35m val_acc:\u001b[94m 98.941667\u001b[35m val_fscore_macro:\u001b[94m 0.989383\u001b[0m\n",
      "Epoch 6: val_acc improved from 98.82500 to 98.94167, saving file to saves/convnet_mnist_model_bundle/checkpoint_epoch_6.ckpt\n",
      "\u001b[35mEpoch: \u001b[36m 7/10 \u001b[35mTrain steps: \u001b[36m1500 \u001b[35mVal steps: \u001b[36m375 \u001b[32m8.41s \u001b[35mloss:\u001b[94m 0.062799\u001b[35m acc:\u001b[94m 98.081250\u001b[35m fscore_macro:\u001b[94m 0.980670\u001b[35m val_loss:\u001b[94m 0.036032\u001b[35m val_acc:\u001b[94m 98.958333\u001b[35m val_fscore_macro:\u001b[94m 0.989533\u001b[0m\n",
      "Epoch 7: val_acc improved from 98.94167 to 98.95833, saving file to saves/convnet_mnist_model_bundle/checkpoint_epoch_7.ckpt\n",
      "\u001b[35mEpoch: \u001b[36m 8/10 \u001b[35mTrain steps: \u001b[36m1500 \u001b[35mVal steps: \u001b[36m375 \u001b[32m8.29s \u001b[35mloss:\u001b[94m 0.059569\u001b[35m acc:\u001b[94m 98.181250\u001b[35m fscore_macro:\u001b[94m 0.981675\u001b[35m val_loss:\u001b[94m 0.035780\u001b[35m val_acc:\u001b[94m 99.016667\u001b[35m val_fscore_macro:\u001b[94m 0.990083\u001b[0m\n",
      "Epoch 8: val_acc improved from 98.95833 to 99.01667, saving file to saves/convnet_mnist_model_bundle/checkpoint_epoch_8.ckpt\n",
      "\u001b[35mEpoch: \u001b[36m 9/10 \u001b[35mTrain steps: \u001b[36m1500 \u001b[35mVal steps: \u001b[36m375 \u001b[32m8.27s \u001b[35mloss:\u001b[94m 0.054568\u001b[35m acc:\u001b[94m 98.297917\u001b[35m fscore_macro:\u001b[94m 0.982850\u001b[35m val_loss:\u001b[94m 0.036158\u001b[35m val_acc:\u001b[94m 98.966667\u001b[35m val_fscore_macro:\u001b[94m 0.989618\u001b[0m\n",
      "\u001b[35mEpoch: \u001b[36m10/10 \u001b[35mTrain steps: \u001b[36m1500 \u001b[35mVal steps: \u001b[36m375 \u001b[32m8.25s \u001b[35mloss:\u001b[94m 0.049007\u001b[35m acc:\u001b[94m 98.520833\u001b[35m fscore_macro:\u001b[94m 0.985098\u001b[35m val_loss:\u001b[94m 0.035492\u001b[35m val_acc:\u001b[94m 99.041667\u001b[35m val_fscore_macro:\u001b[94m 0.990369\u001b[0m\n",
      "Epoch 10: val_acc improved from 99.01667 to 99.04167, saving file to saves/convnet_mnist_model_bundle/checkpoint_epoch_10.ckpt\n",
      "Restoring data from saves/convnet_mnist_model_bundle/checkpoint_epoch_10.ckpt\n",
      "Found best checkpoint at epoch: 10\n",
      "lr: 0.1, loss: 0.0490065, acc: 98.5208, fscore_macro: 0.985098, val_loss: 0.0354915, val_acc: 99.0417, val_fscore_macro: 0.990369\n",
      "Loading checkpoint saves/convnet_mnist_model_bundle/checkpoint_epoch_10.ckpt\n",
      "Running test\n",
      "\u001b[35mTest steps: \u001b[36m313 \u001b[32m0.96s \u001b[35mtest_loss:\u001b[94m 0.026244\u001b[35m test_acc:\u001b[94m 99.170000\u001b[35m test_fscore_macro:\u001b[94m 0.991575\u001b[0m             \n"
     ]
    }
   ],
   "source": [
    "network = create_network()\n",
    "train_model_bundle(network, 'convnet_mnist_model_bundle', epochs=10)"
   ]
  },
  {
   "cell_type": "markdown",
   "metadata": {
    "pycharm": {
     "name": "#%% md\n"
    }
   },
   "source": [
    "## Coloring\n",
    "\n",
    "Also, Poutyne use by default a coloring template of the training step when the package `colorama` is installed.\n",
    "One could either remove the coloring (`progress_options=dict(coloring=False)`) or set a different coloring template using the fields:\n",
    "`text_color`, `ratio_color`, `metric_value_color`, `time_color` and `progress_bar_color`.\n",
    "If a field is not specified, the default color will be used.\n",
    "[See available colors in colorama's source code](https://github.com/tartley/colorama/blob/9946cfb/colorama/ansi.py#L49).\n",
    "\n",
    "Here an example where we set the `text_color` to RED and the `progress_bar_color` to LIGHTGREEN_EX."
   ]
  },
  {
   "cell_type": "code",
   "execution_count": 26,
   "metadata": {},
   "outputs": [],
   "source": [
    "progress_options = dict(coloring=dict(text_color=\"RED\", progress_bar_color=\"LIGHTGREEN_EX\"))"
   ]
  },
  {
   "cell_type": "code",
   "execution_count": 27,
   "metadata": {
    "pycharm": {
     "name": "#%%\n"
    }
   },
   "outputs": [
    {
     "name": "stdout",
     "output_type": "stream",
     "text": [
      "\u001b[31mEpoch: \u001b[36m1/5 \u001b[31mTrain steps: \u001b[36m1500 \u001b[31mVal steps: \u001b[36m375 \u001b[32m6.54s \u001b[31mloss:\u001b[94m 0.370519\u001b[31m acc:\u001b[94m 88.125000\u001b[31m val_loss:\u001b[94m 0.089264\u001b[31m val_acc:\u001b[94m 97.366667\u001b[0m\n",
      "\u001b[31mEpoch: \u001b[36m2/5 \u001b[31mTrain steps: \u001b[36m1500 \u001b[31mVal steps: \u001b[36m375 \u001b[32m6.41s \u001b[31mloss:\u001b[94m 0.129163\u001b[31m acc:\u001b[94m 96.087500\u001b[31m val_loss:\u001b[94m 0.065395\u001b[31m val_acc:\u001b[94m 98.075000\u001b[0m\n",
      "\u001b[31mEpoch: \u001b[36m3/5 \u001b[31mTrain steps: \u001b[36m1500 \u001b[31mVal steps: \u001b[36m375 \u001b[32m6.27s \u001b[31mloss:\u001b[94m 0.098094\u001b[31m acc:\u001b[94m 97.097917\u001b[31m val_loss:\u001b[94m 0.058571\u001b[31m val_acc:\u001b[94m 98.341667\u001b[0m\n",
      "\u001b[31mEpoch: \u001b[36m4/5 \u001b[31mTrain steps: \u001b[36m1500 \u001b[31mVal steps: \u001b[36m375 \u001b[32m6.58s \u001b[31mloss:\u001b[94m 0.085683\u001b[31m acc:\u001b[94m 97.452083\u001b[31m val_loss:\u001b[94m 0.049200\u001b[31m val_acc:\u001b[94m 98.658333\u001b[0m\n",
      "\u001b[31mEpoch: \u001b[36m5/5 \u001b[31mTrain steps: \u001b[36m1500 \u001b[31mVal steps: \u001b[36m375 \u001b[32m6.62s \u001b[31mloss:\u001b[94m 0.074192\u001b[31m acc:\u001b[94m 97.768750\u001b[31m val_loss:\u001b[94m 0.046122\u001b[31m val_acc:\u001b[94m 98.675000\u001b[0m\n",
      "\u001b[31mTest steps: \u001b[36m313 \u001b[32m0.84s \u001b[31mtest_loss:\u001b[94m 0.032857\u001b[31m test_acc:\u001b[94m 98.890000\u001b[0m                                                   \n"
     ]
    }
   ],
   "source": [
    "# Instantiating our network\n",
    "network = create_network()\n",
    "\n",
    "# Poutyne Model on GPU\n",
    "model = Model(\n",
    "    network,\n",
    "    optimizer,\n",
    "    loss_function,\n",
    "    batch_metrics=['accuracy'],\n",
    "    device=device,\n",
    ")\n",
    "\n",
    "# Train\n",
    "model.fit_generator(\n",
    "    train_loader,\n",
    "    valid_loader,\n",
    "    epochs=num_epochs,\n",
    "    progress_options=progress_options,\n",
    ")\n",
    "\n",
    "# Test\n",
    "test_loss, test_acc = model.evaluate_generator(\n",
    "    test_loader,\n",
    "    progress_options=progress_options,\n",
    ")"
   ]
  },
  {
   "cell_type": "markdown",
   "metadata": {},
   "source": [
    "## Custom Metric Names\n",
    "\n",
    "It's also possible to name the metric using a tuple format `(<metric name>, metric)`. That way, it's possible to use multiple times the same metric type (i.e. having micro and macro F1-score)."
   ]
  },
  {
   "cell_type": "code",
   "execution_count": 28,
   "metadata": {},
   "outputs": [
    {
     "name": "stdout",
     "output_type": "stream",
     "text": [
      "\u001b[35mEpoch: \u001b[36m1/5 \u001b[35mTrain steps: \u001b[36m1500 \u001b[35mVal steps: \u001b[36m375 \u001b[32m7.92s \u001b[35mloss:\u001b[94m 0.355768\u001b[35m My accuracy name:\u001b[94m 88.662500\u001b[35m My f1 name:\u001b[94m 0.885614\u001b[35m val_loss:\u001b[94m 0.090990\u001b[35m val_My accuracy name:\u001b[94m 97.208333\u001b[35m val_My f1 name:\u001b[94m 0.971917\u001b[0m\n",
      "\u001b[35mEpoch: \u001b[36m2/5 \u001b[35mTrain steps: \u001b[36m1500 \u001b[35mVal steps: \u001b[36m375 \u001b[32m8.21s \u001b[35mloss:\u001b[94m 0.123316\u001b[35m My accuracy name:\u001b[94m 96.358333\u001b[35m My f1 name:\u001b[94m 0.963292\u001b[35m val_loss:\u001b[94m 0.064429\u001b[35m val_My accuracy name:\u001b[94m 98.050000\u001b[35m val_My f1 name:\u001b[94m 0.980377\u001b[0m\n",
      "\u001b[35mEpoch: \u001b[36m3/5 \u001b[35mTrain steps: \u001b[36m1500 \u001b[35mVal steps: \u001b[36m375 \u001b[32m8.02s \u001b[35mloss:\u001b[94m 0.098334\u001b[35m My accuracy name:\u001b[94m 97.056250\u001b[35m My f1 name:\u001b[94m 0.970343\u001b[35m val_loss:\u001b[94m 0.053564\u001b[35m val_My accuracy name:\u001b[94m 98.408333\u001b[35m val_My f1 name:\u001b[94m 0.983988\u001b[0m\n",
      "\u001b[35mEpoch: \u001b[36m4/5 \u001b[35mTrain steps: \u001b[36m1500 \u001b[35mVal steps: \u001b[36m375 \u001b[32m8.30s \u001b[35mloss:\u001b[94m 0.084703\u001b[35m My accuracy name:\u001b[94m 97.435417\u001b[35m My f1 name:\u001b[94m 0.974177\u001b[35m val_loss:\u001b[94m 0.049505\u001b[35m val_My accuracy name:\u001b[94m 98.591667\u001b[35m val_My f1 name:\u001b[94m 0.985820\u001b[0m\n",
      "\u001b[35mEpoch: \u001b[36m5/5 \u001b[35mTrain steps: \u001b[36m1500 \u001b[35mVal steps: \u001b[36m375 \u001b[32m7.98s \u001b[35mloss:\u001b[94m 0.073237\u001b[35m My accuracy name:\u001b[94m 97.772917\u001b[35m My f1 name:\u001b[94m 0.977587\u001b[35m val_loss:\u001b[94m 0.044072\u001b[35m val_My accuracy name:\u001b[94m 98.725000\u001b[35m val_My f1 name:\u001b[94m 0.987223\u001b[0m\n",
      "\u001b[35mTest steps: \u001b[36m313 \u001b[32m0.96s \u001b[35mtest_loss:\u001b[94m 0.029208\u001b[35m test_My accuracy name:\u001b[94m 99.000000\u001b[35m test_My f1 name:\u001b[94m 0.989950\u001b[0m               \n"
     ]
    }
   ],
   "source": [
    "# Instantiating our network\n",
    "network = create_network()\n",
    "\n",
    "# Poutyne Model on GPU\n",
    "model = Model(\n",
    "    network,\n",
    "    optimizer,\n",
    "    loss_function,\n",
    "    batch_metrics=[(\"My accuracy name\", 'accuracy')],\n",
    "    epoch_metrics=[(\"My f1 name\", 'f1')],\n",
    "    device=device,\n",
    ")\n",
    "\n",
    "# Train\n",
    "model.fit_generator(train_loader, valid_loader, epochs=num_epochs)\n",
    "\n",
    "# Test\n",
    "test_loss, (test_acc, test_f1) = model.evaluate_generator(test_loader)"
   ]
  },
  {
   "cell_type": "markdown",
   "metadata": {},
   "source": [
    "## Multi-GPUs\n",
    "\n",
    "Finally, it's also possible to use multi-GPUs for your training either by specifying a list of devices or using the arg `\"all\"` to take them all.\n",
    "\n",
    "> Obviously, you need more than one GPUs for that option.\n",
    "\n",
    "In our case here, multi-gpus takes more time because the task is not big enough to profit from multi-gpus."
   ]
  },
  {
   "cell_type": "code",
   "execution_count": 29,
   "metadata": {},
   "outputs": [
    {
     "name": "stdout",
     "output_type": "stream",
     "text": [
      "\u001b[35mEpoch: \u001b[36m1/5 \u001b[35mTrain steps: \u001b[36m1500 \u001b[35mVal steps: \u001b[36m375 \u001b[32m17.00s \u001b[35mloss:\u001b[94m 0.386154\u001b[35m acc:\u001b[94m 87.333333\u001b[35m val_loss:\u001b[94m 0.092202\u001b[35m val_acc:\u001b[94m 97.191667\u001b[0m\n",
      "\u001b[35mEpoch: \u001b[36m2/5 \u001b[35mTrain steps: \u001b[36m1500 \u001b[35mVal steps: \u001b[36m375 \u001b[32m14.81s \u001b[35mloss:\u001b[94m 0.125460\u001b[35m acc:\u001b[94m 96.172917\u001b[35m val_loss:\u001b[94m 0.062402\u001b[35m val_acc:\u001b[94m 98.116667\u001b[0m\n",
      "\u001b[35mEpoch: \u001b[36m3/5 \u001b[35mTrain steps: \u001b[36m1500 \u001b[35mVal steps: \u001b[36m375 \u001b[32m14.63s \u001b[35mloss:\u001b[94m 0.097736\u001b[35m acc:\u001b[94m 96.977083\u001b[35m val_loss:\u001b[94m 0.056723\u001b[35m val_acc:\u001b[94m 98.383333\u001b[0m\n",
      "\u001b[35mEpoch: \u001b[36m4/5 \u001b[35mTrain steps: \u001b[36m1500 \u001b[35mVal steps: \u001b[36m375 \u001b[32m14.74s \u001b[35mloss:\u001b[94m 0.083548\u001b[35m acc:\u001b[94m 97.508333\u001b[35m val_loss:\u001b[94m 0.045911\u001b[35m val_acc:\u001b[94m 98.725000\u001b[0m\n",
      "\u001b[35mEpoch: \u001b[36m5/5 \u001b[35mTrain steps: \u001b[36m1500 \u001b[35mVal steps: \u001b[36m375 \u001b[32m14.80s \u001b[35mloss:\u001b[94m 0.075282\u001b[35m acc:\u001b[94m 97.731250\u001b[35m val_loss:\u001b[94m 0.045916\u001b[35m val_acc:\u001b[94m 98.650000\u001b[0m\n"
     ]
    },
    {
     "data": {
      "text/plain": [
       "[{'epoch': 1,\n",
       "  'time': 17.00380860781297,\n",
       "  'loss': 0.3861539592298989,\n",
       "  'acc': 87.33333333333333,\n",
       "  'val_loss': 0.09220197118197879,\n",
       "  'val_acc': 97.19166666666666},\n",
       " {'epoch': 2,\n",
       "  'time': 14.805061359889805,\n",
       "  'loss': 0.12545990319394817,\n",
       "  'acc': 96.17291666666667,\n",
       "  'val_loss': 0.06240178443475937,\n",
       "  'val_acc': 98.11666666666666},\n",
       " {'epoch': 3,\n",
       "  'time': 14.63108725193888,\n",
       "  'loss': 0.09773606853660506,\n",
       "  'acc': 96.97708333333334,\n",
       "  'val_loss': 0.0567228243414623,\n",
       "  'val_acc': 98.38333333333334},\n",
       " {'epoch': 4,\n",
       "  'time': 14.74231273215264,\n",
       "  'loss': 0.08354751471034251,\n",
       "  'acc': 97.50833333333334,\n",
       "  'val_loss': 0.04591141694528051,\n",
       "  'val_acc': 98.725},\n",
       " {'epoch': 5,\n",
       "  'time': 14.79857192421332,\n",
       "  'loss': 0.0752823881568232,\n",
       "  'acc': 97.73125,\n",
       "  'val_loss': 0.04591631960236312,\n",
       "  'val_acc': 98.65}]"
      ]
     },
     "execution_count": 29,
     "metadata": {},
     "output_type": "execute_result"
    }
   ],
   "source": [
    "# Instantiating our network\n",
    "network = create_network()\n",
    "\n",
    "# Poutyne Model on GPU\n",
    "model = Model(\n",
    "    network,\n",
    "    optimizer,\n",
    "    loss_function,\n",
    "    batch_metrics=['accuracy'],\n",
    "    device=\"all\",\n",
    ")\n",
    "\n",
    "# Train\n",
    "model.fit_generator(train_loader, valid_loader, epochs=num_epochs)"
   ]
  },
  {
   "cell_type": "code",
   "execution_count": null,
   "metadata": {},
   "outputs": [],
   "source": []
  }
 ],
 "metadata": {
  "accelerator": "GPU",
  "kernelspec": {
   "display_name": "Python 3 (ipykernel)",
   "language": "python",
   "name": "python3"
  },
  "language_info": {
   "codemirror_mode": {
    "name": "ipython",
    "version": 3
   },
   "file_extension": ".py",
   "mimetype": "text/x-python",
   "name": "python",
   "nbconvert_exporter": "python",
   "pygments_lexer": "ipython3",
   "version": "3.9.5"
  }
 },
 "nbformat": 4,
 "nbformat_minor": 1
}
