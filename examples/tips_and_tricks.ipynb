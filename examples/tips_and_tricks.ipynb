{
 "cells": [
  {
   "cell_type": "markdown",
   "metadata": {},
   "source": [
    "# Poutyne's Tips and Tricks\n",
    "\n",
    "Poutyne offers a variety of tools for fine-tuning the information generated during the training, such as colouring the training update message, a progress bar, multi-GPUs, user callbacks interface and a user naming interface for the metrics' names. \n",
    "\n",
    "Let's install the latest version of Poutyne and colorama (if they are not already), and import all the needed packages."
   ]
  },
  {
   "cell_type": "code",
   "execution_count": 1,
   "metadata": {},
   "outputs": [],
   "source": [
    "%pip install --upgrade poutyne\n",
    "%pip install --upgrade colorama\n",
    "%matplotlib inline\n",
    "import os\n",
    "import math\n",
    "import shutil\n",
    "\n",
    "import matplotlib.pyplot as plt\n",
    "import numpy as np\n",
    "from sklearn.metrics import roc_auc_score\n",
    "import torch\n",
    "import torch.nn as nn\n",
    "import torch.optim as optim\n",
    "from torch.utils.data import random_split, DataLoader\n",
    "from torchvision import transforms, utils\n",
    "from torchvision.datasets.mnist import MNIST\n",
    "\n",
    "from poutyne import set_seeds, Model, ModelCheckpoint, CSVLogger, Callback, ModelBundle, SKLearnMetrics, plot_history"
   ]
  },
  {
   "cell_type": "markdown",
   "metadata": {},
   "source": [
    "## Hyperparameters, Dataset and Network\n",
    "\n",
    "In this section, we setup the hyperparameters, dataset and network we will use throughout these tips and tricks. "
   ]
  },
  {
   "cell_type": "markdown",
   "metadata": {},
   "source": [
    "### Training Constants\n",
    "\n",
    "Now, let's set our training constants. We first have the CUDA device used for training if one is present. Second, we set the `train_split` to 0.8 (80%) to use 80% of the dataset for training and 20% for testing the trained model. Third, we set the number of classes (i.e. one for each digit). Finally, we set the batch size (i.e. the number of elements to see before updating the model), the learning rate for the optimizer, and the number of epochs (i.e. the number of times we see the full dataset)."
   ]
  },
  {
   "cell_type": "code",
   "execution_count": 2,
   "metadata": {},
   "outputs": [],
   "source": [
    "cuda_device = 0\n",
    "device = torch.device(\"cuda:%d\" % cuda_device if torch.cuda.is_available() else \"cpu\")\n",
    "\n",
    "train_split_percent = 0.8\n",
    "\n",
    "num_classes = 10\n",
    "\n",
    "batch_size = 32\n",
    "learning_rate = 0.1\n",
    "num_epochs = 5"
   ]
  },
  {
   "cell_type": "markdown",
   "metadata": {},
   "source": [
    "In Poutyne, as we will see in the following sections, you can define your own loss functions and optimizers. However, we can also pass magic strings to use PyTorch's standard optimizers and loss functions. Furthermore, for the optimizer, we can also use a dictionary to set other parameters as the learning rate, for instance, if we don't want the default learning rate.\n",
    "\n",
    "Here, we initialize the dictionary for our optimizer as well as the string for our loss function. We thus use SGD with the specified learning rate and the cross-entropy loss."
   ]
  },
  {
   "cell_type": "code",
   "execution_count": 3,
   "metadata": {},
   "outputs": [],
   "source": [
    "optimizer = dict(optim='sgd', lr=learning_rate)  # Could be 'sgd' if we didn't need to change the learning rate.\n",
    "loss_function = 'cross_entropy'"
   ]
  },
  {
   "cell_type": "markdown",
   "metadata": {},
   "source": [
    "### Loading the Dataset\n",
    "\n",
    "The following code helps load the MNIST dataset and creates the PyTorch DataLoaders that split our datasets into batches. Then, the train DataLoader shuffles the examples of the training dataset to draw the examples without replacement."
   ]
  },
  {
   "cell_type": "code",
   "execution_count": 4,
   "metadata": {},
   "outputs": [],
   "source": [
    "full_train_dataset = MNIST('./datasets', train=True, download=True, transform=transforms.ToTensor())\n",
    "test_dataset = MNIST('./datasets', train=False, download=True, transform=transforms.ToTensor())\n",
    "\n",
    "num_data = len(full_train_dataset)\n",
    "train_length = int(math.floor(train_split_percent * num_data))\n",
    "valid_length = num_data - train_length\n",
    "\n",
    "train_dataset, valid_dataset = random_split(\n",
    "    full_train_dataset,\n",
    "    [train_length, valid_length],\n",
    "    generator=torch.Generator().manual_seed(42),\n",
    ")\n",
    "\n",
    "train_loader = DataLoader(train_dataset, batch_size=batch_size, num_workers=2, shuffle=True)\n",
    "valid_loader = DataLoader(valid_dataset, batch_size=batch_size, num_workers=2)\n",
    "test_loader = DataLoader(test_dataset, batch_size=batch_size, num_workers=2)"
   ]
  },
  {
   "cell_type": "code",
   "execution_count": 5,
   "metadata": {},
   "outputs": [
    {
     "data": {
      "text/plain": [
       "(48000, 12000)"
      ]
     },
     "execution_count": 5,
     "metadata": {},
     "output_type": "execute_result"
    }
   ],
   "source": [
    "len(train_dataset), len(valid_dataset)"
   ]
  },
  {
   "cell_type": "markdown",
   "metadata": {},
   "source": [
    "### Initializing the Network\n",
    "\n",
    "We create a fonction to initialize a simple convolutional neural network."
   ]
  },
  {
   "cell_type": "code",
   "execution_count": 6,
   "metadata": {},
   "outputs": [],
   "source": [
    "def create_network():\n",
    "    return nn.Sequential(\n",
    "        nn.Conv2d(in_channels=1, out_channels=16, kernel_size=3, padding=1),\n",
    "        nn.ReLU(),\n",
    "        nn.MaxPool2d(2),\n",
    "        nn.Conv2d(in_channels=16, out_channels=32, kernel_size=3, padding=1),\n",
    "        nn.ReLU(),\n",
    "        nn.MaxPool2d(2),\n",
    "        nn.Dropout(0.25),\n",
    "        nn.Flatten(),\n",
    "        nn.Linear(32 * 7 * 7, 128),\n",
    "        nn.ReLU(),\n",
    "        nn.Dropout(0.5),\n",
    "        nn.Linear(128, num_classes),\n",
    "    )"
   ]
  },
  {
   "cell_type": "markdown",
   "metadata": {},
   "source": [
    "## Vanilla Usage\n",
    "\n",
    "The following code trains our network in the simplest way possible with Poutyne. We use the accuracy metric so that we can see the performance during training."
   ]
  },
  {
   "cell_type": "code",
   "execution_count": 7,
   "metadata": {},
   "outputs": [
    {
     "name": "stdout",
     "output_type": "stream",
     "text": [
      "\u001b[35mEpoch: \u001b[36m1/5 \u001b[35mTrain steps: \u001b[36m1500 \u001b[35mVal steps: \u001b[36m375 \u001b[32m7.33s \u001b[35mloss:\u001b[94m 0.392164\u001b[35m acc:\u001b[94m 87.325000\u001b[35m val_loss:\u001b[94m 0.085520\u001b[35m val_acc:\u001b[94m 97.475000\u001b[0m\n",
      "\u001b[35mEpoch: \u001b[36m2/5 \u001b[35mTrain steps: \u001b[36m1500 \u001b[35mVal steps: \u001b[36m375 \u001b[32m6.66s \u001b[35mloss:\u001b[94m 0.133344\u001b[35m acc:\u001b[94m 95.872917\u001b[35m val_loss:\u001b[94m 0.063004\u001b[35m val_acc:\u001b[94m 98.050000\u001b[0m\n",
      "\u001b[35mEpoch: \u001b[36m3/5 \u001b[35mTrain steps: \u001b[36m1500 \u001b[35mVal steps: \u001b[36m375 \u001b[32m6.63s \u001b[35mloss:\u001b[94m 0.101859\u001b[35m acc:\u001b[94m 96.885417\u001b[35m val_loss:\u001b[94m 0.053152\u001b[35m val_acc:\u001b[94m 98.266667\u001b[0m\n",
      "\u001b[35mEpoch: \u001b[36m4/5 \u001b[35mTrain steps: \u001b[36m1500 \u001b[35mVal steps: \u001b[36m375 \u001b[32m6.67s \u001b[35mloss:\u001b[94m 0.086312\u001b[35m acc:\u001b[94m 97.347917\u001b[35m val_loss:\u001b[94m 0.051262\u001b[35m val_acc:\u001b[94m 98.425000\u001b[0m\n",
      "\u001b[35mEpoch: \u001b[36m5/5 \u001b[35mTrain steps: \u001b[36m1500 \u001b[35mVal steps: \u001b[36m375 \u001b[32m6.90s \u001b[35mloss:\u001b[94m 0.076157\u001b[35m acc:\u001b[94m 97.666667\u001b[35m val_loss:\u001b[94m 0.045157\u001b[35m val_acc:\u001b[94m 98.583333\u001b[0m\n",
      "\u001b[35mTest steps: \u001b[36m313 \u001b[32m0.81s \u001b[35mtest_loss:\u001b[94m 0.035525\u001b[35m test_acc:\u001b[94m 98.780000\u001b[0m                                                   \n"
     ]
    }
   ],
   "source": [
    "# Instantiating our network\n",
    "network = create_network()\n",
    "\n",
    "# Poutyne Model on GPU\n",
    "model = Model(\n",
    "    network,\n",
    "    optimizer,\n",
    "    loss_function,\n",
    "    batch_metrics=['accuracy'],\n",
    "    device=device,\n",
    ")\n",
    "\n",
    "# Train\n",
    "history = model.fit_generator(train_loader, valid_loader, epochs=num_epochs)\n",
    "\n",
    "# Test\n",
    "test_loss, test_acc = model.evaluate_generator(test_loader)"
   ]
  },
  {
   "cell_type": "markdown",
   "metadata": {},
   "source": [
    "## Plotting Training"
   ]
  },
  {
   "cell_type": "markdown",
   "metadata": {},
   "source": [
    "The training methods in Poutyne returns a list of dictionaries containing the metrics output during training. Using Poutyne, it is then possible to plot this training history."
   ]
  },
  {
   "cell_type": "code",
   "execution_count": 8,
   "metadata": {
    "scrolled": false
   },
   "outputs": [
    {
     "data": {
      "image/png": "[encoded data removed]",
      "text/plain": [
       "<Figure size 432x288 with 1 Axes>"
      ]
     },
     "metadata": {
      "needs_background": "light"
     },
     "output_type": "display_data"
    },
    {
     "data": {
      "image/png": "[encoded data removed]",
      "text/plain": [
       "<Figure size 432x288 with 1 Axes>"
      ]
     },
     "metadata": {
      "needs_background": "light"
     },
     "output_type": "display_data"
    },
    {
     "data": {
      "image/png": "[encoded data removed]",
      "text/plain": [
       "<Figure size 432x288 with 1 Axes>"
      ]
     },
     "metadata": {
      "needs_background": "light"
     },
     "output_type": "display_data"
    }
   ],
   "source": [
    "_ = plot_history(history)"
   ]
  },
  {
   "cell_type": "markdown",
   "metadata": {},
   "source": [
    "It is also possible to restrict the metrics shown and to customize the plots by using custom labels and titles."
   ]
  },
  {
   "cell_type": "code",
   "execution_count": 9,
   "metadata": {},
   "outputs": [
    {
     "data": {
      "image/png": "[encoded data removed]",
      "text/plain": [
       "<Figure size 432x288 with 1 Axes>"
      ]
     },
     "metadata": {
      "needs_background": "light"
     },
     "output_type": "display_data"
    },
    {
     "data": {
      "image/png": "[encoded data removed]",
      "text/plain": [
       "<Figure size 432x288 with 1 Axes>"
      ]
     },
     "metadata": {
      "needs_background": "light"
     },
     "output_type": "display_data"
    }
   ],
   "source": [
    "_ = plot_history(\n",
    "    history,\n",
    "    metrics=['loss', 'acc'],\n",
    "    labels=['Loss', 'Accuracy'],\n",
    "    titles='Training of MNIST',\n",
    ")"
   ]
  },
  {
   "cell_type": "markdown",
   "metadata": {},
   "source": [
    "## Initilalizing Your Optimizer and Loss Function Yourself\n",
    "\n",
    "Instead of using magic strings for the optimizer and the loss function, it's quite easy to initialize your own and pass them to Poutyne."
   ]
  },
  {
   "cell_type": "code",
   "execution_count": 10,
   "metadata": {},
   "outputs": [
    {
     "name": "stdout",
     "output_type": "stream",
     "text": [
      "\u001b[35mEpoch: \u001b[36m1/5 \u001b[35mTrain steps: \u001b[36m1500 \u001b[35mVal steps: \u001b[36m375 \u001b[32m6.71s \u001b[35mloss:\u001b[94m 0.365053\u001b[35m acc:\u001b[94m 88.239583\u001b[35m val_loss:\u001b[94m 0.091337\u001b[35m val_acc:\u001b[94m 97.400000\u001b[0m\n",
      "\u001b[35mEpoch: \u001b[36m2/5 \u001b[35mTrain steps: \u001b[36m1500 \u001b[35mVal steps: \u001b[36m375 \u001b[32m6.60s \u001b[35mloss:\u001b[94m 0.133106\u001b[35m acc:\u001b[94m 96.022917\u001b[35m val_loss:\u001b[94m 0.061691\u001b[35m val_acc:\u001b[94m 98.150000\u001b[0m\n",
      "\u001b[35mEpoch: \u001b[36m3/5 \u001b[35mTrain steps: \u001b[36m1500 \u001b[35mVal steps: \u001b[36m375 \u001b[32m6.54s \u001b[35mloss:\u001b[94m 0.101986\u001b[35m acc:\u001b[94m 96.827083\u001b[35m val_loss:\u001b[94m 0.057666\u001b[35m val_acc:\u001b[94m 98.241667\u001b[0m\n",
      "\u001b[35mEpoch: \u001b[36m4/5 \u001b[35mTrain steps: \u001b[36m1500 \u001b[35mVal steps: \u001b[36m375 \u001b[32m6.78s \u001b[35mloss:\u001b[94m 0.086449\u001b[35m acc:\u001b[94m 97.345833\u001b[35m val_loss:\u001b[94m 0.058191\u001b[35m val_acc:\u001b[94m 98.308333\u001b[0m\n",
      "\u001b[35mEpoch: \u001b[36m5/5 \u001b[35mTrain steps: \u001b[36m1500 \u001b[35mVal steps: \u001b[36m375 \u001b[32m6.71s \u001b[35mloss:\u001b[94m 0.078655\u001b[35m acc:\u001b[94m 97.585417\u001b[35m val_loss:\u001b[94m 0.041714\u001b[35m val_acc:\u001b[94m 98.766667\u001b[0m\n",
      "\u001b[35mTest steps: \u001b[36m313 \u001b[32m0.85s \u001b[35mtest_loss:\u001b[94m 0.033013\u001b[35m test_acc:\u001b[94m 98.950000\u001b[0m                                                  \n"
     ]
    }
   ],
   "source": [
    "# Instantiating our network\n",
    "network = create_network()\n",
    "\n",
    "# Instantiating our loss function and optimizer\n",
    "own_optimizer = optim.SGD(network.parameters(), lr=learning_rate)\n",
    "own_loss_function = nn.CrossEntropyLoss()\n",
    "\n",
    "# Poutyne Model on GPU\n",
    "model = Model(\n",
    "    network,\n",
    "    own_optimizer,\n",
    "    own_loss_function,\n",
    "    batch_metrics=['accuracy'],\n",
    "    device=device,\n",
    ")\n",
    "\n",
    "# Train\n",
    "model.fit_generator(train_loader, valid_loader, epochs=num_epochs)\n",
    "\n",
    "# Test\n",
    "test_loss, test_acc = model.evaluate_generator(test_loader)"
   ]
  },
  {
   "cell_type": "markdown",
   "metadata": {},
   "source": [
    "## Bypassing PyTorch DataLoaders\n",
    "\n",
    "Above, we defined DataLoaders for our datasets. However, with Poutyne, it is not strictly necessary since it provides the [`fit_dataset`](https://poutyne.org/model.html#poutyne.Model.fit_dataset) and [`evaluate_dataset`](https://poutyne.org/model.html#poutyne.Model.evaluate_dataset) methods to which you can pass the necessary parameters such as the batch size. Under the hood, Poutyne initializes the DataLoaders for you."
   ]
  },
  {
   "cell_type": "code",
   "execution_count": 11,
   "metadata": {
    "scrolled": false
   },
   "outputs": [
    {
     "name": "stdout",
     "output_type": "stream",
     "text": [
      "\u001b[35mEpoch: \u001b[36m1/5 \u001b[35mTrain steps: \u001b[36m1500 \u001b[35mVal steps: \u001b[36m375 \u001b[32m6.43s \u001b[35mloss:\u001b[94m 0.371617\u001b[35m acc:\u001b[94m 87.952083\u001b[35m val_loss:\u001b[94m 0.089730\u001b[35m val_acc:\u001b[94m 97.333333\u001b[0m\n",
      "\u001b[35mEpoch: \u001b[36m2/5 \u001b[35mTrain steps: \u001b[36m1500 \u001b[35mVal steps: \u001b[36m375 \u001b[32m6.65s \u001b[35mloss:\u001b[94m 0.135583\u001b[35m acc:\u001b[94m 95.995833\u001b[35m val_loss:\u001b[94m 0.071818\u001b[35m val_acc:\u001b[94m 97.825000\u001b[0m\n",
      "\u001b[35mEpoch: \u001b[36m3/5 \u001b[35mTrain steps: \u001b[36m1500 \u001b[35mVal steps: \u001b[36m375 \u001b[32m6.70s \u001b[35mloss:\u001b[94m 0.101501\u001b[35m acc:\u001b[94m 96.977083\u001b[35m val_loss:\u001b[94m 0.061804\u001b[35m val_acc:\u001b[94m 98.208333\u001b[0m\n",
      "\u001b[35mEpoch: \u001b[36m4/5 \u001b[35mTrain steps: \u001b[36m1500 \u001b[35mVal steps: \u001b[36m375 \u001b[32m6.67s \u001b[35mloss:\u001b[94m 0.084267\u001b[35m acc:\u001b[94m 97.443750\u001b[35m val_loss:\u001b[94m 0.049440\u001b[35m val_acc:\u001b[94m 98.575000\u001b[0m\n",
      "\u001b[35mEpoch: \u001b[36m5/5 \u001b[35mTrain steps: \u001b[36m1500 \u001b[35mVal steps: \u001b[36m375 \u001b[32m6.72s \u001b[35mloss:\u001b[94m 0.074224\u001b[35m acc:\u001b[94m 97.716667\u001b[35m val_loss:\u001b[94m 0.053801\u001b[35m val_acc:\u001b[94m 98.600000\u001b[0m\n",
      "\u001b[35mTest steps: \u001b[36m313 \u001b[32m0.85s \u001b[35mtest_loss:\u001b[94m 0.039867\u001b[35m test_acc:\u001b[94m 98.770000\u001b[0m                                                   \n"
     ]
    }
   ],
   "source": [
    "# Instantiating our network\n",
    "network = create_network()\n",
    "\n",
    "# Poutyne Model on GPU\n",
    "model = Model(\n",
    "    network,\n",
    "    optimizer,\n",
    "    loss_function,\n",
    "    batch_metrics=['accuracy'],\n",
    "    device=device,\n",
    ")\n",
    "\n",
    "# Train\n",
    "model.fit_dataset(\n",
    "    train_dataset,\n",
    "    valid_dataset,\n",
    "    epochs=num_epochs,\n",
    "    batch_size=batch_size,\n",
    "    num_workers=2,\n",
    ")\n",
    "\n",
    "# Test\n",
    "test_loss, test_acc = model.evaluate_dataset(\n",
    "    test_dataset,\n",
    "    batch_size=batch_size,\n",
    "    num_workers=2,\n",
    ")"
   ]
  },
  {
   "cell_type": "markdown",
   "metadata": {
    "pycharm": {
     "name": "#%% md\n"
    }
   },
   "source": [
    "## Using Callbacks\n",
    "\n",
    "One nice feature of Poutyne is [callbacks](https://poutyne.org/callbacks.html). Callbacks allow doing actions during the training of the neural network. In the following example, we use three callbacks. The first that saves the latest weights in a file to be able to continue the optimization at the end of training if more epochs are needed. The second that saves the best weights according to the performance on the validation dataset. The last that saves the displayed logs into a TSV file."
   ]
  },
  {
   "cell_type": "code",
   "execution_count": 12,
   "metadata": {
    "pycharm": {
     "name": "#%%\n"
    }
   },
   "outputs": [],
   "source": [
    "# Saves everything into saves/convnet_mnist\n",
    "save_path = \"saves/convnet_mnist\"\n",
    "os.makedirs(save_path, exist_ok=True)\n",
    "\n",
    "callbacks = [\n",
    "    # Save the latest weights to be able to continue the optimization at the end for more epochs.\n",
    "    ModelCheckpoint(os.path.join(save_path, 'last_epoch.ckpt')),\n",
    "    # Save the weights in a new file when the current model is better than all previous models.\n",
    "    ModelCheckpoint(\n",
    "        os.path.join(save_path, 'best_epoch_{epoch}.ckpt'),\n",
    "        monitor='val_acc',\n",
    "        mode='max',\n",
    "        save_best_only=True,\n",
    "        restore_best=True,\n",
    "        verbose=True,\n",
    "    ),\n",
    "    # Save the losses and accuracies for each epoch in a TSV.\n",
    "    CSVLogger(os.path.join(save_path, 'log.tsv'), separator='\\t'),\n",
    "]"
   ]
  },
  {
   "cell_type": "code",
   "execution_count": 13,
   "metadata": {},
   "outputs": [
    {
     "name": "stdout",
     "output_type": "stream",
     "text": [
      "\u001b[35mEpoch: \u001b[36m1/5 \u001b[35mTrain steps: \u001b[36m1500 \u001b[35mVal steps: \u001b[36m375 \u001b[32m6.46s \u001b[35mloss:\u001b[94m 0.367525\u001b[35m acc:\u001b[94m 88.304167\u001b[35m val_loss:\u001b[94m 0.089383\u001b[35m val_acc:\u001b[94m 97.275000\u001b[0m\n",
      "Epoch 1: val_acc improved from -inf to 97.27500, saving file to saves/convnet_mnist/best_epoch_1.ckpt\n",
      "\u001b[35mEpoch: \u001b[36m2/5 \u001b[35mTrain steps: \u001b[36m1500 \u001b[35mVal steps: \u001b[36m375 \u001b[32m6.53s \u001b[35mloss:\u001b[94m 0.126357\u001b[35m acc:\u001b[94m 96.177083\u001b[35m val_loss:\u001b[94m 0.069978\u001b[35m val_acc:\u001b[94m 97.850000\u001b[0m\n",
      "Epoch 2: val_acc improved from 97.27500 to 97.85000, saving file to saves/convnet_mnist/best_epoch_2.ckpt\n",
      "\u001b[35mEpoch: \u001b[36m3/5 \u001b[35mTrain steps: \u001b[36m1500 \u001b[35mVal steps: \u001b[36m375 \u001b[32m6.59s \u001b[35mloss:\u001b[94m 0.099100\u001b[35m acc:\u001b[94m 97.002083\u001b[35m val_loss:\u001b[94m 0.063499\u001b[35m val_acc:\u001b[94m 98.008333\u001b[0m\n",
      "Epoch 3: val_acc improved from 97.85000 to 98.00833, saving file to saves/convnet_mnist/best_epoch_3.ckpt\n",
      "\u001b[35mEpoch: \u001b[36m4/5 \u001b[35mTrain steps: \u001b[36m1500 \u001b[35mVal steps: \u001b[36m375 \u001b[32m6.57s \u001b[35mloss:\u001b[94m 0.086884\u001b[35m acc:\u001b[94m 97.347917\u001b[35m val_loss:\u001b[94m 0.046537\u001b[35m val_acc:\u001b[94m 98.750000\u001b[0m\n",
      "Epoch 4: val_acc improved from 98.00833 to 98.75000, saving file to saves/convnet_mnist/best_epoch_4.ckpt\n",
      "\u001b[35mEpoch: \u001b[36m5/5 \u001b[35mTrain steps: \u001b[36m1500 \u001b[35mVal steps: \u001b[36m375 \u001b[32m6.87s \u001b[35mloss:\u001b[94m 0.074684\u001b[35m acc:\u001b[94m 97.683333\u001b[35m val_loss:\u001b[94m 0.045957\u001b[35m val_acc:\u001b[94m 98.600000\u001b[0m\n",
      "Restoring data from saves/convnet_mnist/best_epoch_4.ckpt\n",
      "\u001b[35mTest steps: \u001b[36m313 \u001b[32m0.84s \u001b[35mtest_loss:\u001b[94m 0.037858\u001b[35m test_acc:\u001b[94m 98.790000\u001b[0m                                                   \n"
     ]
    }
   ],
   "source": [
    "# Instantiating our network\n",
    "network = create_network()\n",
    "\n",
    "# Poutyne Model on GPU\n",
    "model = Model(\n",
    "    network,\n",
    "    optimizer,\n",
    "    loss_function,\n",
    "    batch_metrics=['accuracy'],\n",
    "    device=device,\n",
    ")\n",
    "\n",
    "# Train\n",
    "model.fit_generator(train_loader, valid_loader, epochs=num_epochs, callbacks=callbacks)\n",
    "\n",
    "# Test\n",
    "test_loss, test_acc = model.evaluate_generator(test_loader)"
   ]
  },
  {
   "cell_type": "markdown",
   "metadata": {
    "pycharm": {
     "name": "#%% md\n"
    }
   },
   "source": [
    "## Making Your Own Callback\n",
    "\n",
    "While Poutyne provides a great number of [predefined callbacks](https://poutyne.org/callbacks.html), it is sometimes useful to make your own callback.\n",
    "\n",
    "In the following example, we want to see the effect of temperature on the optimization of our neural network. To do so, we either increase or decrease the temperature during the optimization. As one can see in the result, temperature either as no effect or has a detrimental effect on the performance of the neural network. This is so because the temperature has for effect to artificially changing the learning rates. Since we have found the right learning rate, increasing or decreasing, it shows no improvement on the results."
   ]
  },
  {
   "cell_type": "code",
   "execution_count": 14,
   "metadata": {},
   "outputs": [],
   "source": [
    "class CrossEntropyLossWithTemperature(nn.Module):\n",
    "    \"\"\"\n",
    "    This loss module is the cross-entropy loss function\n",
    "    with temperature. It divides the logits by a temperature\n",
    "    value before computing the cross-entropy loss.\n",
    "\n",
    "    Args:\n",
    "        initial_temperature (float): The initial value of the temperature.\n",
    "    \"\"\"\n",
    "\n",
    "    def __init__(self, initial_temperature):\n",
    "        super().__init__()\n",
    "        self.temperature = initial_temperature\n",
    "        self.celoss = nn.CrossEntropyLoss()\n",
    "\n",
    "    def forward(self, y_pred, y_true):\n",
    "        y_pred = y_pred / self.temperature\n",
    "        return self.celoss(y_pred, y_true)"
   ]
  },
  {
   "cell_type": "code",
   "execution_count": 15,
   "metadata": {
    "pycharm": {
     "name": "#%%\n"
    }
   },
   "outputs": [],
   "source": [
    "class TemperatureCallback(Callback):\n",
    "    \"\"\"\n",
    "    This callback multiply the loss temperature with a decay before\n",
    "    each batch.\n",
    "\n",
    "    Args:\n",
    "        celoss_with_temp (CrossEntropyLossWithTemperature): the loss module.\n",
    "        decay (float): The value of the temperature decay.\n",
    "    \"\"\"\n",
    "\n",
    "    def __init__(self, celoss_with_temp, decay):\n",
    "        super().__init__()\n",
    "        self.celoss_with_temp = celoss_with_temp\n",
    "        self.decay = decay\n",
    "\n",
    "    def on_train_batch_begin(self, batch, logs):\n",
    "        self.celoss_with_temp.temperature *= self.decay"
   ]
  },
  {
   "cell_type": "markdown",
   "metadata": {
    "pycharm": {
     "name": "#%% md\n"
    }
   },
   "source": [
    "So our loss function will be the cross-entropy with temperature with an initial temperature of `0.1` and a temperature decay of `1.0008`."
   ]
  },
  {
   "cell_type": "code",
   "execution_count": 16,
   "metadata": {
    "pycharm": {
     "name": "#%%\n"
    }
   },
   "outputs": [],
   "source": [
    "custom_loss_function = CrossEntropyLossWithTemperature(0.1)\n",
    "callbacks = [TemperatureCallback(custom_loss_function, 1.0008)]"
   ]
  },
  {
   "cell_type": "markdown",
   "metadata": {
    "pycharm": {
     "name": "#%% md\n"
    }
   },
   "source": [
    "Now let's test our training loop for one epoch using the accuracy as the batch metric."
   ]
  },
  {
   "cell_type": "code",
   "execution_count": 17,
   "metadata": {},
   "outputs": [
    {
     "name": "stdout",
     "output_type": "stream",
     "text": [
      "\u001b[35mEpoch: \u001b[36m1/5 \u001b[35mTrain steps: \u001b[36m1500 \u001b[35mVal steps: \u001b[36m375 \u001b[32m6.94s \u001b[35mloss:\u001b[94m 0.496481\u001b[35m acc:\u001b[94m 84.237500\u001b[35m val_loss:\u001b[94m 0.100912\u001b[35m val_acc:\u001b[94m 96.958333\u001b[0m\n",
      "\u001b[35mEpoch: \u001b[36m2/5 \u001b[35mTrain steps: \u001b[36m1500 \u001b[35mVal steps: \u001b[36m375 \u001b[32m6.82s \u001b[35mloss:\u001b[94m 0.152266\u001b[35m acc:\u001b[94m 95.558333\u001b[35m val_loss:\u001b[94m 0.066391\u001b[35m val_acc:\u001b[94m 97.975000\u001b[0m\n",
      "\u001b[35mEpoch: \u001b[36m3/5 \u001b[35mTrain steps: \u001b[36m1500 \u001b[35mVal steps: \u001b[36m375 \u001b[32m6.81s \u001b[35mloss:\u001b[94m 0.121345\u001b[35m acc:\u001b[94m 96.481250\u001b[35m val_loss:\u001b[94m 0.059777\u001b[35m val_acc:\u001b[94m 98.200000\u001b[0m\n",
      "\u001b[35mEpoch: \u001b[36m4/5 \u001b[35mTrain steps: \u001b[36m1500 \u001b[35mVal steps: \u001b[36m375 \u001b[32m6.88s \u001b[35mloss:\u001b[94m 0.121209\u001b[35m acc:\u001b[94m 96.522917\u001b[35m val_loss:\u001b[94m 0.066871\u001b[35m val_acc:\u001b[94m 98.133333\u001b[0m\n",
      "\u001b[35mEpoch: \u001b[36m5/5 \u001b[35mTrain steps: \u001b[36m1500 \u001b[35mVal steps: \u001b[36m375 \u001b[32m7.09s \u001b[35mloss:\u001b[94m 0.132810\u001b[35m acc:\u001b[94m 96.247917\u001b[35m val_loss:\u001b[94m 0.078289\u001b[35m val_acc:\u001b[94m 97.966667\u001b[0m\n",
      "\u001b[35mTest steps: \u001b[36m313 \u001b[32m0.86s \u001b[35mtest_loss:\u001b[94m 0.067028\u001b[35m test_acc:\u001b[94m 98.100000\u001b[0m                                                   \n"
     ]
    }
   ],
   "source": [
    "# Instantiating our network\n",
    "network = create_network()\n",
    "\n",
    "# Poutyne Model on GPU\n",
    "model = Model(\n",
    "    network,\n",
    "    optimizer,\n",
    "    custom_loss_function,\n",
    "    batch_metrics=['accuracy'],\n",
    "    device=device,\n",
    ")\n",
    "\n",
    "# Train\n",
    "model.fit_generator(train_loader, valid_loader, epochs=num_epochs, callbacks=callbacks)\n",
    "\n",
    "# Test\n",
    "test_loss, test_acc = model.evaluate_generator(test_loader)"
   ]
  },
  {
   "cell_type": "markdown",
   "metadata": {},
   "source": [
    "## Using ModelBundle\n",
    "\n",
    "Most of the time, when using Poutyne (or even PyTorch in general), we will find ourselves in an iterative model hyperparameters finetuning loop. For efficient model search, we will usually wish to save our best performing models, their training and testing statistics and even sometimes wish to retrain an already trained model for further tuning. All of the above can be easily implemented with the flexibility of Poutyne Callbacks, but having to define and initialize each and every Callback object we wish for our model quickly feels cumbersome.\n",
    "\n",
    "This is why Poutyne provides a [ModelBundle class](https://poutyne.org/experiment.html#poutyne.ModelBundle), which aims specifically at enabling quick model iteration search, while not sacrificing the quality of a single experiment - statistics logging, best models saving, etc. ModelBundle is actually a simple wrapper between a PyTorch network and Poutyne's core Callback objects for logging and saving. Given a working directory where to output the various logging files and a PyTorch network, the ModelBundle class reduces the whole training loop to a single line.\n",
    "\n",
    "The following code uses [Poutyne's ModelBundle class](https://poutyne.org/experiment.html#poutyne.ModelBundle) to train a network for 5 epochs. The code is quite simpler than the code in the Poutyne Callbacks section while doing more (only a few lines). Once trained for 5 epochs, it is then possible to resume the optimization at the 5th epoch for 5 more epochs until the 10th epoch using the same function."
   ]
  },
  {
   "cell_type": "code",
   "execution_count": 18,
   "metadata": {},
   "outputs": [],
   "source": [
    "def train_model_bundle(network, name, epochs=5):\n",
    "    \"\"\"\n",
    "    This function creates a Poutyne ModelBundle, trains the input module\n",
    "    on the train loader and then tests its performance on the test loader.\n",
    "    All training and testing statistics are saved, as well as best model\n",
    "    checkpoints.\n",
    "\n",
    "    Args:\n",
    "        network (torch.nn.Module): The neural network to train.\n",
    "        working_directory (str): The directory where to output files to save.\n",
    "        epochs (int): The number of epochs. (Default: 5)\n",
    "    \"\"\"\n",
    "    # Everything is going to be saved in ./saves/{name}.\n",
    "    save_path = os.path.join('saves', name)\n",
    "\n",
    "    # Poutyne ModelBundle\n",
    "    model_bundle = ModelBundle.from_network(\n",
    "        save_path,\n",
    "        network,\n",
    "        optimizer=optimizer,\n",
    "        task='classif',\n",
    "        device=device,\n",
    "    )\n",
    "\n",
    "    # Train\n",
    "    model_bundle.train(train_loader, valid_loader, epochs=epochs)\n",
    "\n",
    "    # Test\n",
    "    model_bundle.test(test_loader)"
   ]
  },
  {
   "cell_type": "markdown",
   "metadata": {},
   "source": [
    "Let's first remove the output directory if it exists so that we start training from scratch."
   ]
  },
  {
   "cell_type": "code",
   "execution_count": 19,
   "metadata": {},
   "outputs": [],
   "source": [
    "shutil.rmtree('saves/convnet_mnist_model_bundle', ignore_errors=True)"
   ]
  },
  {
   "cell_type": "markdown",
   "metadata": {},
   "source": [
    "Let's train for 5 epochs."
   ]
  },
  {
   "cell_type": "code",
   "execution_count": 20,
   "metadata": {},
   "outputs": [
    {
     "name": "stdout",
     "output_type": "stream",
     "text": [
      "\u001b[35mEpoch: \u001b[36m1/5 \u001b[35mTrain steps: \u001b[36m1500 \u001b[35mVal steps: \u001b[36m375 \u001b[32m8.39s \u001b[35mloss:\u001b[94m 0.378093\u001b[35m acc:\u001b[94m 87.887500\u001b[35m fscore_macro:\u001b[94m 0.877790\u001b[35m val_loss:\u001b[94m 0.084488\u001b[35m val_acc:\u001b[94m 97.583333\u001b[35m val_fscore_macro:\u001b[94m 0.975736\u001b[0m\n",
      "Epoch 1: val_acc improved from -inf to 97.58333, saving file to saves/convnet_mnist_model_bundle/checkpoint_epoch_1.ckpt\n",
      "\u001b[35mEpoch: \u001b[36m2/5 \u001b[35mTrain steps: \u001b[36m1500 \u001b[35mVal steps: \u001b[36m375 \u001b[32m8.37s \u001b[35mloss:\u001b[94m 0.126794\u001b[35m acc:\u001b[94m 96.212500\u001b[35m fscore_macro:\u001b[94m 0.961847\u001b[35m val_loss:\u001b[94m 0.060774\u001b[35m val_acc:\u001b[94m 98.166667\u001b[35m val_fscore_macro:\u001b[94m 0.981594\u001b[0m\n",
      "Epoch 2: val_acc improved from 97.58333 to 98.16667, saving file to saves/convnet_mnist_model_bundle/checkpoint_epoch_2.ckpt\n",
      "\u001b[35mEpoch: \u001b[36m3/5 \u001b[35mTrain steps: \u001b[36m1500 \u001b[35mVal steps: \u001b[36m375 \u001b[32m8.31s \u001b[35mloss:\u001b[94m 0.097885\u001b[35m acc:\u001b[94m 97.022917\u001b[35m fscore_macro:\u001b[94m 0.969988\u001b[35m val_loss:\u001b[94m 0.064631\u001b[35m val_acc:\u001b[94m 98.191667\u001b[35m val_fscore_macro:\u001b[94m 0.981835\u001b[0m\n",
      "Epoch 3: val_acc improved from 98.16667 to 98.19167, saving file to saves/convnet_mnist_model_bundle/checkpoint_epoch_3.ckpt\n",
      "\u001b[35mEpoch: \u001b[36m4/5 \u001b[35mTrain steps: \u001b[36m1500 \u001b[35mVal steps: \u001b[36m375 \u001b[32m8.31s \u001b[35mloss:\u001b[94m 0.082031\u001b[35m acc:\u001b[94m 97.568750\u001b[35m fscore_macro:\u001b[94m 0.975543\u001b[35m val_loss:\u001b[94m 0.046968\u001b[35m val_acc:\u001b[94m 98.583333\u001b[35m val_fscore_macro:\u001b[94m 0.985771\u001b[0m\n",
      "Epoch 4: val_acc improved from 98.19167 to 98.58333, saving file to saves/convnet_mnist_model_bundle/checkpoint_epoch_4.ckpt\n",
      "\u001b[35mEpoch: \u001b[36m5/5 \u001b[35mTrain steps: \u001b[36m1500 \u001b[35mVal steps: \u001b[36m375 \u001b[32m8.45s \u001b[35mloss:\u001b[94m 0.071452\u001b[35m acc:\u001b[94m 97.904167\u001b[35m fscore_macro:\u001b[94m 0.978877\u001b[35m val_loss:\u001b[94m 0.047092\u001b[35m val_acc:\u001b[94m 98.675000\u001b[35m val_fscore_macro:\u001b[94m 0.986733\u001b[0m\n",
      "Epoch 5: val_acc improved from 98.58333 to 98.67500, saving file to saves/convnet_mnist_model_bundle/checkpoint_epoch_5.ckpt\n",
      "Restoring data from saves/convnet_mnist_model_bundle/checkpoint_epoch_5.ckpt\n",
      "Found best checkpoint at epoch: 5\n",
      "lr: 0.1, loss: 0.071452, acc: 97.9042, fscore_macro: 0.978877, val_loss: 0.0470915, val_acc: 98.675, val_fscore_macro: 0.986733\n",
      "Loading checkpoint saves/convnet_mnist_model_bundle/checkpoint_epoch_5.ckpt\n",
      "Running test\n",
      "\u001b[35mTest steps: \u001b[36m313 \u001b[32m0.98s \u001b[35mtest_loss:\u001b[94m 0.034543\u001b[35m test_acc:\u001b[94m 99.020000\u001b[35m test_fscore_macro:\u001b[94m 0.990178\u001b[0m             \n"
     ]
    }
   ],
   "source": [
    "network = create_network()\n",
    "train_model_bundle(network, 'convnet_mnist_model_bundle', epochs=5)"
   ]
  },
  {
   "cell_type": "markdown",
   "metadata": {},
   "source": [
    "Notice how setting `task='classif'` when instantiating `ModelBundle` adds for use our loss function, the batch metric accuracy, the epoch metric F1 and set up callbacks that use them. If you wish, you still can use your own loss function and metrics instead of passing this argument.\n",
    "\n",
    "We have trained for 5 epochs, let's now resume training for another 5 epochs for a total of 10 epochs. Notice that we reinstantiate the network. ModelBundle will load back the weights for us and resume training."
   ]
  },
  {
   "cell_type": "code",
   "execution_count": 21,
   "metadata": {
    "scrolled": false
   },
   "outputs": [
    {
     "name": "stdout",
     "output_type": "stream",
     "text": [
      "Loading weights from saves/convnet_mnist_model_bundle/checkpoint.ckpt and starting at epoch 6.\n",
      "Loading optimizer state from saves/convnet_mnist_model_bundle/checkpoint.optim and starting at epoch 6.\n",
      "\u001b[35mEpoch: \u001b[36m 6/10 \u001b[35mTrain steps: \u001b[36m1500 \u001b[35mVal steps: \u001b[36m375 \u001b[32m8.54s \u001b[35mloss:\u001b[94m 0.051976\u001b[35m acc:\u001b[94m 98.350000\u001b[35m fscore_macro:\u001b[94m 0.983391\u001b[35m val_loss:\u001b[94m 0.047969\u001b[35m val_acc:\u001b[94m 98.708333\u001b[35m val_fscore_macro:\u001b[94m 0.986965\u001b[0m\n",
      "Epoch 6: val_acc improved from 98.67500 to 98.70833, saving file to saves/convnet_mnist_model_bundle/checkpoint_epoch_6.ckpt\n",
      "\u001b[35mEpoch: \u001b[36m 7/10 \u001b[35mTrain steps: \u001b[36m1500 \u001b[35mVal steps: \u001b[36m375 \u001b[32m8.43s \u001b[35mloss:\u001b[94m 0.043907\u001b[35m acc:\u001b[94m 98.652083\u001b[35m fscore_macro:\u001b[94m 0.986438\u001b[35m val_loss:\u001b[94m 0.047314\u001b[35m val_acc:\u001b[94m 98.650000\u001b[35m val_fscore_macro:\u001b[94m 0.986425\u001b[0m\n",
      "\u001b[35mEpoch: \u001b[36m 8/10 \u001b[35mTrain steps: \u001b[36m1500 \u001b[35mVal steps: \u001b[36m375 \u001b[32m8.51s \u001b[35mloss:\u001b[94m 0.042017\u001b[35m acc:\u001b[94m 98.695833\u001b[35m fscore_macro:\u001b[94m 0.986879\u001b[35m val_loss:\u001b[94m 0.043239\u001b[35m val_acc:\u001b[94m 98.816667\u001b[35m val_fscore_macro:\u001b[94m 0.988115\u001b[0m\n",
      "Epoch 8: val_acc improved from 98.70833 to 98.81667, saving file to saves/convnet_mnist_model_bundle/checkpoint_epoch_8.ckpt\n",
      "\u001b[35mEpoch: \u001b[36m 9/10 \u001b[35mTrain steps: \u001b[36m1500 \u001b[35mVal steps: \u001b[36m375 \u001b[32m8.56s \u001b[35mloss:\u001b[94m 0.037321\u001b[35m acc:\u001b[94m 98.797917\u001b[35m fscore_macro:\u001b[94m 0.987883\u001b[35m val_loss:\u001b[94m 0.042176\u001b[35m val_acc:\u001b[94m 98.858333\u001b[35m val_fscore_macro:\u001b[94m 0.988515\u001b[0m\n",
      "Epoch 9: val_acc improved from 98.81667 to 98.85833, saving file to saves/convnet_mnist_model_bundle/checkpoint_epoch_9.ckpt\n",
      "\u001b[35mEpoch: \u001b[36m10/10 \u001b[35mTrain steps: \u001b[36m1500 \u001b[35mVal steps: \u001b[36m375 \u001b[32m8.17s \u001b[35mloss:\u001b[94m 0.033220\u001b[35m acc:\u001b[94m 98.966667\u001b[35m fscore_macro:\u001b[94m 0.989596\u001b[35m val_loss:\u001b[94m 0.048035\u001b[35m val_acc:\u001b[94m 98.733333\u001b[35m val_fscore_macro:\u001b[94m 0.987244\u001b[0m\n",
      "Restoring data from saves/convnet_mnist_model_bundle/checkpoint_epoch_9.ckpt\n",
      "Found best checkpoint at epoch: 9\n",
      "lr: 0.1, loss: 0.0373214, acc: 98.7979, fscore_macro: 0.987883, val_loss: 0.0421756, val_acc: 98.8583, val_fscore_macro: 0.988515\n",
      "Loading checkpoint saves/convnet_mnist_model_bundle/checkpoint_epoch_9.ckpt\n",
      "Running test\n",
      "\u001b[35mTest steps: \u001b[36m313 \u001b[32m0.89s \u001b[35mtest_loss:\u001b[94m 0.028555\u001b[35m test_acc:\u001b[94m 99.170000\u001b[35m test_fscore_macro:\u001b[94m 0.991654\u001b[0m             \n"
     ]
    }
   ],
   "source": [
    "network = create_network()\n",
    "train_model_bundle(network, 'convnet_mnist_model_bundle', epochs=10)"
   ]
  },
  {
   "cell_type": "markdown",
   "metadata": {
    "pycharm": {
     "name": "#%% md\n"
    }
   },
   "source": [
    "## Coloring\n",
    "\n",
    "Also, Poutyne use by default a coloring template of the training step when the package `colorama` is installed.\n",
    "One could either remove the coloring (`progress_options=dict(coloring=False)`) or set a different coloring template using the fields:\n",
    "`text_color`, `ratio_color`, `metric_value_color`, `time_color` and `progress_bar_color`.\n",
    "If a field is not specified, the default color will be used.\n",
    "[See available colors in colorama's source code](https://github.com/tartley/colorama/blob/9946cfb/colorama/ansi.py#L49).\n",
    "\n",
    "Here an example where we set the `text_color` to RED and the `progress_bar_color` to LIGHTGREEN_EX."
   ]
  },
  {
   "cell_type": "code",
   "execution_count": 22,
   "metadata": {},
   "outputs": [],
   "source": [
    "progress_options = dict(coloring=dict(text_color=\"RED\", progress_bar_color=\"LIGHTGREEN_EX\"))"
   ]
  },
  {
   "cell_type": "code",
   "execution_count": 23,
   "metadata": {
    "pycharm": {
     "name": "#%%\n"
    }
   },
   "outputs": [
    {
     "name": "stdout",
     "output_type": "stream",
     "text": [
      "\u001b[31mEpoch: \u001b[36m1/5 \u001b[31mTrain steps: \u001b[36m1500 \u001b[31mVal steps: \u001b[36m375 \u001b[32m6.49s \u001b[31mloss:\u001b[94m 0.370323\u001b[31m acc:\u001b[94m 88.183333\u001b[31m val_loss:\u001b[94m 0.096811\u001b[31m val_acc:\u001b[94m 97.033333\u001b[0m\n",
      "\u001b[31mEpoch: \u001b[36m2/5 \u001b[31mTrain steps: \u001b[36m1500 \u001b[31mVal steps: \u001b[36m375 \u001b[32m6.81s \u001b[31mloss:\u001b[94m 0.128223\u001b[31m acc:\u001b[94m 96.200000\u001b[31m val_loss:\u001b[94m 0.066572\u001b[31m val_acc:\u001b[94m 98.066667\u001b[0m\n",
      "\u001b[31mEpoch: \u001b[36m3/5 \u001b[31mTrain steps: \u001b[36m1500 \u001b[31mVal steps: \u001b[36m375 \u001b[32m6.62s \u001b[31mloss:\u001b[94m 0.098609\u001b[31m acc:\u001b[94m 97.047917\u001b[31m val_loss:\u001b[94m 0.054764\u001b[31m val_acc:\u001b[94m 98.458333\u001b[0m\n",
      "\u001b[31mEpoch: \u001b[36m4/5 \u001b[31mTrain steps: \u001b[36m1500 \u001b[31mVal steps: \u001b[36m375 \u001b[32m6.75s \u001b[31mloss:\u001b[94m 0.085013\u001b[31m acc:\u001b[94m 97.427083\u001b[31m val_loss:\u001b[94m 0.050137\u001b[31m val_acc:\u001b[94m 98.566667\u001b[0m\n",
      "\u001b[31mEpoch: \u001b[36m5/5 \u001b[31mTrain steps: \u001b[36m1500 \u001b[31mVal steps: \u001b[36m375 \u001b[32m6.70s \u001b[31mloss:\u001b[94m 0.074507\u001b[31m acc:\u001b[94m 97.775000\u001b[31m val_loss:\u001b[94m 0.045560\u001b[31m val_acc:\u001b[94m 98.625000\u001b[0m\n",
      "\u001b[31mTest steps: \u001b[36m313 \u001b[32m0.82s \u001b[31mtest_loss:\u001b[94m 0.032162\u001b[31m test_acc:\u001b[94m 98.940000\u001b[0m                                                   \n"
     ]
    }
   ],
   "source": [
    "# Instantiating our network\n",
    "network = create_network()\n",
    "\n",
    "# Poutyne Model on GPU\n",
    "model = Model(\n",
    "    network,\n",
    "    optimizer,\n",
    "    loss_function,\n",
    "    batch_metrics=['accuracy'],\n",
    "    device=device,\n",
    ")\n",
    "\n",
    "# Train\n",
    "model.fit_generator(\n",
    "    train_loader,\n",
    "    valid_loader,\n",
    "    epochs=num_epochs,\n",
    "    progress_options=progress_options,\n",
    ")\n",
    "\n",
    "# Test\n",
    "test_loss, test_acc = model.evaluate_generator(\n",
    "    test_loader,\n",
    "    progress_options=progress_options,\n",
    ")"
   ]
  },
  {
   "cell_type": "markdown",
   "metadata": {},
   "source": [
    "## Epoch Metrics\n",
    "\n",
    "It's also possible to used epoch metrics such as [`F1-score`](https://poutyne.org/metrics.html#poutyne.FBeta). You could also define your own epoch metric using the [`EpochMetric`](https://poutyne.org/metrics.html#epoch-metric-interface) interface."
   ]
  },
  {
   "cell_type": "code",
   "execution_count": 24,
   "metadata": {},
   "outputs": [
    {
     "name": "stdout",
     "output_type": "stream",
     "text": [
      "\u001b[35mEpoch: \u001b[36m1/5 \u001b[35mTrain steps: \u001b[36m1500 \u001b[35mVal steps: \u001b[36m375 \u001b[32m8.34s \u001b[35mloss:\u001b[94m 0.357594\u001b[35m acc:\u001b[94m 88.618750\u001b[35m fscore_macro:\u001b[94m 0.885173\u001b[35m val_loss:\u001b[94m 0.085604\u001b[35m val_acc:\u001b[94m 97.491667\u001b[35m val_fscore_macro:\u001b[94m 0.974808\u001b[0m\n",
      "\u001b[35mEpoch: \u001b[36m2/5 \u001b[35mTrain steps: \u001b[36m1500 \u001b[35mVal steps: \u001b[36m375 \u001b[32m8.27s \u001b[35mloss:\u001b[94m 0.125151\u001b[35m acc:\u001b[94m 96.291667\u001b[35m fscore_macro:\u001b[94m 0.962652\u001b[35m val_loss:\u001b[94m 0.065226\u001b[35m val_acc:\u001b[94m 98.041667\u001b[35m val_fscore_macro:\u001b[94m 0.980284\u001b[0m\n",
      "\u001b[35mEpoch: \u001b[36m3/5 \u001b[35mTrain steps: \u001b[36m1500 \u001b[35mVal steps: \u001b[36m375 \u001b[32m8.02s \u001b[35mloss:\u001b[94m 0.098076\u001b[35m acc:\u001b[94m 97.035417\u001b[35m fscore_macro:\u001b[94m 0.970116\u001b[35m val_loss:\u001b[94m 0.055486\u001b[35m val_acc:\u001b[94m 98.391667\u001b[35m val_fscore_macro:\u001b[94m 0.983862\u001b[0m\n",
      "\u001b[35mEpoch: \u001b[36m4/5 \u001b[35mTrain steps: \u001b[36m1500 \u001b[35mVal steps: \u001b[36m375 \u001b[32m8.20s \u001b[35mloss:\u001b[94m 0.086199\u001b[35m acc:\u001b[94m 97.397917\u001b[35m fscore_macro:\u001b[94m 0.973817\u001b[35m val_loss:\u001b[94m 0.052385\u001b[35m val_acc:\u001b[94m 98.441667\u001b[35m val_fscore_macro:\u001b[94m 0.984307\u001b[0m\n",
      "\u001b[35mEpoch: \u001b[36m5/5 \u001b[35mTrain steps: \u001b[36m1500 \u001b[35mVal steps: \u001b[36m375 \u001b[32m8.28s \u001b[35mloss:\u001b[94m 0.074596\u001b[35m acc:\u001b[94m 97.714583\u001b[35m fscore_macro:\u001b[94m 0.976992\u001b[35m val_loss:\u001b[94m 0.044496\u001b[35m val_acc:\u001b[94m 98.633333\u001b[35m val_fscore_macro:\u001b[94m 0.986262\u001b[0m\n",
      "\u001b[35mTest steps: \u001b[36m313 \u001b[32m0.96s \u001b[35mtest_loss:\u001b[94m 0.030659\u001b[35m test_acc:\u001b[94m 98.930000\u001b[35m test_fscore_macro:\u001b[94m 0.989244\u001b[0m             \n"
     ]
    }
   ],
   "source": [
    "# Instantiating our network\n",
    "network = create_network()\n",
    "\n",
    "# Poutyne Model on GPU\n",
    "model = Model(\n",
    "    network,\n",
    "    optimizer,\n",
    "    loss_function,\n",
    "    batch_metrics=['accuracy'],\n",
    "    epoch_metrics=['f1'],\n",
    "    device=device,\n",
    ")\n",
    "\n",
    "# Train\n",
    "model.fit_generator(train_loader, valid_loader, epochs=num_epochs)\n",
    "\n",
    "# Test\n",
    "test_loss, (test_acc, test_f1) = model.evaluate_generator(test_loader)"
   ]
  },
  {
   "cell_type": "markdown",
   "metadata": {},
   "source": [
    "Furthermore, you could also use the [`SKLearnMetrics`](https://poutyne.org/metrics.html#poutyne.SKLearnMetrics) wrapper to wrap a Scikit-learn metric as an epoch metric. Below, we show how to compute the AUC ROC using the [`SKLearnMetrics`](https://poutyne.org/metrics.html#poutyne.SKLearnMetrics) class."
   ]
  },
  {
   "cell_type": "code",
   "execution_count": 25,
   "metadata": {},
   "outputs": [],
   "source": [
    "def softmax(x, axis=1):\n",
    "    \"\"\"\n",
    "    Compute softmax function.\n",
    "    \"\"\"\n",
    "    e_x = np.exp(x - x.max(axis=axis, keepdims=True))\n",
    "    return e_x / e_x.sum(axis=axis, keepdims=True)\n",
    "\n",
    "\n",
    "def roc_auc(y_true, y_pred, **kwargs):\n",
    "    \"\"\"\n",
    "    Since the `roc_auc_score` from Scikit-learn requires normalized probabilities,\n",
    "    we use the softmax function on the predictions.\n",
    "    \"\"\"\n",
    "    y_pred = softmax(y_pred)\n",
    "    return roc_auc_score(y_true, y_pred, **kwargs)\n",
    "\n",
    "\n",
    "# kwargs are keyword arguments we wish to pass to roc_auc.\n",
    "roc_epoch_metric = SKLearnMetrics(roc_auc, kwargs=dict(multi_class='ovr', average='macro'))"
   ]
  },
  {
   "cell_type": "code",
   "execution_count": 26,
   "metadata": {},
   "outputs": [
    {
     "name": "stdout",
     "output_type": "stream",
     "text": [
      "\u001b[35mEpoch: \u001b[36m1/5 \u001b[35mTrain steps: \u001b[36m1500 \u001b[35mVal steps: \u001b[36m375 \u001b[32m8.50s \u001b[35mloss:\u001b[94m 0.381807\u001b[35m acc:\u001b[94m 87.725000\u001b[35m fscore_macro:\u001b[94m 0.876033\u001b[35m roc_auc:\u001b[94m 0.990784\u001b[35m val_loss:\u001b[94m 0.092061\u001b[35m val_acc:\u001b[94m 97.216667\u001b[35m val_fscore_macro:\u001b[94m 0.971906\u001b[35m val_roc_auc:\u001b[94m 0.999303\u001b[0m\n",
      "\u001b[35mEpoch: \u001b[36m2/5 \u001b[35mTrain steps: \u001b[36m1500 \u001b[35mVal steps: \u001b[36m375 \u001b[32m8.69s \u001b[35mloss:\u001b[94m 0.126951\u001b[35m acc:\u001b[94m 96.183333\u001b[35m fscore_macro:\u001b[94m 0.961550\u001b[35m roc_auc:\u001b[94m 0.998688\u001b[35m val_loss:\u001b[94m 0.062108\u001b[35m val_acc:\u001b[94m 98.091667\u001b[35m val_fscore_macro:\u001b[94m 0.980786\u001b[35m val_roc_auc:\u001b[94m 0.999649\u001b[0m\n",
      "\u001b[35mEpoch: \u001b[36m3/5 \u001b[35mTrain steps: \u001b[36m1500 \u001b[35mVal steps: \u001b[36m375 \u001b[32m8.79s \u001b[35mloss:\u001b[94m 0.099735\u001b[35m acc:\u001b[94m 96.989583\u001b[35m fscore_macro:\u001b[94m 0.969644\u001b[35m roc_auc:\u001b[94m 0.999133\u001b[35m val_loss:\u001b[94m 0.060721\u001b[35m val_acc:\u001b[94m 98.241667\u001b[35m val_fscore_macro:\u001b[94m 0.982287\u001b[35m val_roc_auc:\u001b[94m 0.999714\u001b[0m\n",
      "\u001b[35mEpoch: \u001b[36m4/5 \u001b[35mTrain steps: \u001b[36m1500 \u001b[35mVal steps: \u001b[36m375 \u001b[32m8.45s \u001b[35mloss:\u001b[94m 0.083001\u001b[35m acc:\u001b[94m 97.554167\u001b[35m fscore_macro:\u001b[94m 0.975338\u001b[35m roc_auc:\u001b[94m 0.999356\u001b[35m val_loss:\u001b[94m 0.049250\u001b[35m val_acc:\u001b[94m 98.550000\u001b[35m val_fscore_macro:\u001b[94m 0.985377\u001b[35m val_roc_auc:\u001b[94m 0.999786\u001b[0m\n",
      "\u001b[35mEpoch: \u001b[36m5/5 \u001b[35mTrain steps: \u001b[36m1500 \u001b[35mVal steps: \u001b[36m375 \u001b[32m8.58s \u001b[35mloss:\u001b[94m 0.074022\u001b[35m acc:\u001b[94m 97.683333\u001b[35m fscore_macro:\u001b[94m 0.976677\u001b[35m roc_auc:\u001b[94m 0.999519\u001b[35m val_loss:\u001b[94m 0.047499\u001b[35m val_acc:\u001b[94m 98.633333\u001b[35m val_fscore_macro:\u001b[94m 0.986264\u001b[35m val_roc_auc:\u001b[94m 0.999800\u001b[0m\n",
      "\u001b[35mTest steps: \u001b[36m313 \u001b[32m1.06s \u001b[35mtest_loss:\u001b[94m 0.034351\u001b[35m test_acc:\u001b[94m 98.910000\u001b[35m test_fscore_macro:\u001b[94m 0.988990\u001b[35m test_roc_auc:\u001b[94m 0.999914\u001b[0m\n"
     ]
    }
   ],
   "source": [
    "# Instantiating our network\n",
    "network = create_network()\n",
    "\n",
    "# Poutyne Model on GPU\n",
    "model = Model(\n",
    "    network,\n",
    "    optimizer,\n",
    "    loss_function,\n",
    "    batch_metrics=['accuracy'],\n",
    "    epoch_metrics=['f1', roc_epoch_metric],\n",
    "    device=device,\n",
    ")\n",
    "\n",
    "# Train\n",
    "model.fit_generator(train_loader, valid_loader, epochs=num_epochs)\n",
    "\n",
    "# Test\n",
    "test_loss, (test_acc, test_f1, test_roc) = model.evaluate_generator(test_loader)"
   ]
  },
  {
   "cell_type": "markdown",
   "metadata": {},
   "source": [
    "## Custom Metric Names\n",
    "\n",
    "It's also possible to name the metric using a tuple format `(<metric name>, metric)`. That way, it's possible to use multiple times the same metric type (i.e. having micro and macro F1-score)."
   ]
  },
  {
   "cell_type": "code",
   "execution_count": 27,
   "metadata": {},
   "outputs": [
    {
     "name": "stdout",
     "output_type": "stream",
     "text": [
      "\u001b[35mEpoch: \u001b[36m1/5 \u001b[35mTrain steps: \u001b[36m1500 \u001b[35mVal steps: \u001b[36m375 \u001b[32m8.28s \u001b[35mloss:\u001b[94m 0.406818\u001b[35m My accuracy name:\u001b[94m 86.564583\u001b[35m My f1 name:\u001b[94m 0.865036\u001b[35m val_loss:\u001b[94m 0.091769\u001b[35m val_My accuracy name:\u001b[94m 97.191667\u001b[35m val_My f1 name:\u001b[94m 0.971806\u001b[0m\n",
      "\u001b[35mEpoch: \u001b[36m2/5 \u001b[35mTrain steps: \u001b[36m1500 \u001b[35mVal steps: \u001b[36m375 \u001b[32m8.26s \u001b[35mloss:\u001b[94m 0.128237\u001b[35m My accuracy name:\u001b[94m 96.120833\u001b[35m My f1 name:\u001b[94m 0.960871\u001b[35m val_loss:\u001b[94m 0.064072\u001b[35m val_My accuracy name:\u001b[94m 98.141667\u001b[35m val_My f1 name:\u001b[94m 0.981286\u001b[0m\n",
      "\u001b[35mEpoch: \u001b[36m3/5 \u001b[35mTrain steps: \u001b[36m1500 \u001b[35mVal steps: \u001b[36m375 \u001b[32m8.34s \u001b[35mloss:\u001b[94m 0.096778\u001b[35m My accuracy name:\u001b[94m 97.062500\u001b[35m My f1 name:\u001b[94m 0.970436\u001b[35m val_loss:\u001b[94m 0.054216\u001b[35m val_My accuracy name:\u001b[94m 98.375000\u001b[35m val_My f1 name:\u001b[94m 0.983604\u001b[0m\n",
      "\u001b[35mEpoch: \u001b[36m4/5 \u001b[35mTrain steps: \u001b[36m1500 \u001b[35mVal steps: \u001b[36m375 \u001b[32m8.50s \u001b[35mloss:\u001b[94m 0.079858\u001b[35m My accuracy name:\u001b[94m 97.572917\u001b[35m My f1 name:\u001b[94m 0.975558\u001b[35m val_loss:\u001b[94m 0.049437\u001b[35m val_My accuracy name:\u001b[94m 98.608333\u001b[35m val_My f1 name:\u001b[94m 0.985975\u001b[0m\n",
      "\u001b[35mEpoch: \u001b[36m5/5 \u001b[35mTrain steps: \u001b[36m1500 \u001b[35mVal steps: \u001b[36m375 \u001b[32m8.27s \u001b[35mloss:\u001b[94m 0.071876\u001b[35m My accuracy name:\u001b[94m 97.785417\u001b[35m My f1 name:\u001b[94m 0.977690\u001b[35m val_loss:\u001b[94m 0.043721\u001b[35m val_My accuracy name:\u001b[94m 98.675000\u001b[35m val_My f1 name:\u001b[94m 0.986609\u001b[0m\n",
      "\u001b[35mTest steps: \u001b[36m313 \u001b[32m0.95s \u001b[35mtest_loss:\u001b[94m 0.030263\u001b[35m test_My accuracy name:\u001b[94m 98.990000\u001b[35m test_My f1 name:\u001b[94m 0.989837\u001b[0m               \n"
     ]
    }
   ],
   "source": [
    "# Instantiating our network\n",
    "network = create_network()\n",
    "\n",
    "# Poutyne Model on GPU\n",
    "model = Model(\n",
    "    network,\n",
    "    optimizer,\n",
    "    loss_function,\n",
    "    batch_metrics=[(\"My accuracy name\", 'accuracy')],\n",
    "    epoch_metrics=[(\"My f1 name\", 'f1')],\n",
    "    device=device,\n",
    ")\n",
    "\n",
    "# Train\n",
    "model.fit_generator(train_loader, valid_loader, epochs=num_epochs)\n",
    "\n",
    "# Test\n",
    "test_loss, (test_acc, test_f1) = model.evaluate_generator(test_loader)"
   ]
  },
  {
   "cell_type": "markdown",
   "metadata": {},
   "source": [
    "## Multi-GPUs\n",
    "\n",
    "Finally, it's also possible to use multi-GPUs for your training either by specifying a list of devices or using the arg `\"all\"` to take them all.\n",
    "\n",
    "> Obviously, you need more than one GPUs for that option.\n",
    "\n",
    "In our case here, multi-gpus takes more time because the task is not big enough to profit from multi-gpus."
   ]
  },
  {
   "cell_type": "code",
   "execution_count": 28,
   "metadata": {},
   "outputs": [
    {
     "name": "stdout",
     "output_type": "stream",
     "text": [
      "\u001b[35mEpoch: \u001b[36m1/5 \u001b[35mTrain steps: \u001b[36m1500 \u001b[35mVal steps: \u001b[36m375 \u001b[32m18.30s \u001b[35mloss:\u001b[94m 0.363074\u001b[35m acc:\u001b[94m 88.327083\u001b[35m val_loss:\u001b[94m 0.082302\u001b[35m val_acc:\u001b[94m 97.591667\u001b[0m\n",
      "\u001b[35mEpoch: \u001b[36m2/5 \u001b[35mTrain steps: \u001b[36m1500 \u001b[35mVal steps: \u001b[36m375 \u001b[32m14.45s \u001b[35mloss:\u001b[94m 0.130380\u001b[35m acc:\u001b[94m 96.039583\u001b[35m val_loss:\u001b[94m 0.067326\u001b[35m val_acc:\u001b[94m 98.050000\u001b[0m\n",
      "\u001b[35mEpoch: \u001b[36m3/5 \u001b[35mTrain steps: \u001b[36m1500 \u001b[35mVal steps: \u001b[36m375 \u001b[32m14.44s \u001b[35mloss:\u001b[94m 0.102080\u001b[35m acc:\u001b[94m 96.910417\u001b[35m val_loss:\u001b[94m 0.060734\u001b[35m val_acc:\u001b[94m 98.275000\u001b[0m\n",
      "\u001b[35mEpoch: \u001b[36m4/5 \u001b[35mTrain steps: \u001b[36m1500 \u001b[35mVal steps: \u001b[36m375 \u001b[32m14.48s \u001b[35mloss:\u001b[94m 0.084889\u001b[35m acc:\u001b[94m 97.414583\u001b[35m val_loss:\u001b[94m 0.044693\u001b[35m val_acc:\u001b[94m 98.708333\u001b[0m\n",
      "\u001b[35mEpoch: \u001b[36m5/5 \u001b[35mTrain steps: \u001b[36m1500 \u001b[35mVal steps: \u001b[36m375 \u001b[32m14.60s \u001b[35mloss:\u001b[94m 0.074630\u001b[35m acc:\u001b[94m 97.729167\u001b[35m val_loss:\u001b[94m 0.049067\u001b[35m val_acc:\u001b[94m 98.508333\u001b[0m\n"
     ]
    },
    {
     "data": {
      "text/plain": [
       "[{'epoch': 1,\n",
       "  'time': 18.295885302009992,\n",
       "  'loss': 0.3630740385986865,\n",
       "  'acc': 88.32708333333333,\n",
       "  'val_loss': 0.08230177901592106,\n",
       "  'val_acc': 97.59166666666667},\n",
       " {'epoch': 2,\n",
       "  'time': 14.453654351993464,\n",
       "  'loss': 0.13038020479671347,\n",
       "  'acc': 96.03958333333334,\n",
       "  'val_loss': 0.06732586475741119,\n",
       "  'val_acc': 98.05},\n",
       " {'epoch': 3,\n",
       "  'time': 14.443042377999518,\n",
       "  'loss': 0.10208004223524282,\n",
       "  'acc': 96.91041666666666,\n",
       "  'val_loss': 0.060733863756138214,\n",
       "  'val_acc': 98.275},\n",
       " {'epoch': 4,\n",
       "  'time': 14.475745540985372,\n",
       "  'loss': 0.08488924899002692,\n",
       "  'acc': 97.41458333333334,\n",
       "  'val_loss': 0.04469311863329494,\n",
       "  'val_acc': 98.70833333333333},\n",
       " {'epoch': 5,\n",
       "  'time': 14.59749897295842,\n",
       "  'loss': 0.07463015206251293,\n",
       "  'acc': 97.72916666666667,\n",
       "  'val_loss': 0.04906748805160169,\n",
       "  'val_acc': 98.50833333333334}]"
      ]
     },
     "execution_count": 28,
     "metadata": {},
     "output_type": "execute_result"
    }
   ],
   "source": [
    "# Instantiating our network\n",
    "network = create_network()\n",
    "\n",
    "# Poutyne Model on GPU\n",
    "model = Model(\n",
    "    network,\n",
    "    optimizer,\n",
    "    loss_function,\n",
    "    batch_metrics=['accuracy'],\n",
    "    device=\"all\",\n",
    ")\n",
    "\n",
    "# Train\n",
    "model.fit_generator(train_loader, valid_loader, epochs=num_epochs)"
   ]
  },
  {
   "cell_type": "code",
   "execution_count": null,
   "metadata": {},
   "outputs": [],
   "source": []
  }
 ],
 "metadata": {
  "accelerator": "GPU",
  "kernelspec": {
   "display_name": "Python 3 (ipykernel)",
   "language": "python",
   "name": "python3"
  },
  "language_info": {
   "codemirror_mode": {
    "name": "ipython",
    "version": 3
   },
   "file_extension": ".py",
   "mimetype": "text/x-python",
   "name": "python",
   "nbconvert_exporter": "python",
   "pygments_lexer": "ipython3",
   "version": "3.8.10"
  }
 },
 "nbformat": 4,
 "nbformat_minor": 1
}
