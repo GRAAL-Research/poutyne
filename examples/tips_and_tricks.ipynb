{
 "cells": [
  {
   "cell_type": "markdown",
   "metadata": {},
   "source": [
    "# Poutyne's Tips and Tricks\n",
    "\n",
    "Poutyne offers a variety of tools for fine-tuning the information generated during the training, such as colouring the training update message, a progress bar, multi-GPUs, user callbacks interface and a user naming interface for the metrics' names. \n",
    "\n",
    "Let's install the latest version of Poutyne and colorama (if they are not already), and import all the needed packages."
   ]
  },
  {
   "cell_type": "code",
   "execution_count": 1,
   "metadata": {},
   "outputs": [],
   "source": [
    "%pip install --upgrade poutyne\n",
    "%pip install --upgrade colorama\n",
    "%matplotlib inline\n",
    "import os\n",
    "import math\n",
    "\n",
    "import matplotlib.pyplot as plt\n",
    "import numpy as np\n",
    "from sklearn.metrics import roc_auc_score\n",
    "import torch\n",
    "import torch.nn as nn\n",
    "import torch.optim as optim\n",
    "from torch.utils.data import random_split, DataLoader\n",
    "from torchvision import transforms, utils\n",
    "from torchvision.datasets.mnist import MNIST\n",
    "\n",
    "from poutyne import set_seeds, Model, ModelCheckpoint, CSVLogger, Callback, Experiment, SKLearnMetrics"
   ]
  },
  {
   "cell_type": "markdown",
   "metadata": {},
   "source": [
    "## Hyperparameters, Dataset and Network\n",
    "\n",
    "In this section, we setup the hyperparameters, dataset and network we will use throughout these tips and tricks. "
   ]
  },
  {
   "cell_type": "markdown",
   "metadata": {},
   "source": [
    "### Training Constants\n",
    "\n",
    "Now, let's set our training constants. We first have the CUDA device used for training if one is present. Second, we set the `train_split` to 0.8 (80%) to use 80% of the dataset for training and 20% for testing the trained model. Third, we set the number of classes (i.e. one for each digit). Finally, we set the batch size (i.e. the number of elements to see before updating the model), the learning rate for the optimizer, and the number of epochs (i.e. the number of times we see the full dataset)."
   ]
  },
  {
   "cell_type": "code",
   "execution_count": 2,
   "metadata": {},
   "outputs": [],
   "source": [
    "cuda_device = 0\n",
    "device = torch.device(\"cuda:%d\" % cuda_device if torch.cuda.is_available() else \"cpu\")\n",
    "\n",
    "train_split_percent = 0.8\n",
    "\n",
    "num_classes = 10\n",
    "\n",
    "batch_size = 32\n",
    "learning_rate = 0.1\n",
    "num_epochs = 5"
   ]
  },
  {
   "cell_type": "markdown",
   "metadata": {},
   "source": [
    "In Poutyne, as we will see in the following sections, you can define your own loss functions and optimizers. However, we can also pass magic strings to use PyTorch's standard optimizers and loss functions. Furthermore, for the optimizer, we can also use a dictionary to set other parameters as the learning rate, for instance, if we don't want the default learning rate.\n",
    "\n",
    "Here, we initialize the dictionary for our optimizer as well as the string for our loss function. We thus use SGD with the specified learning rate and the cross-entropy loss."
   ]
  },
  {
   "cell_type": "code",
   "execution_count": 3,
   "metadata": {},
   "outputs": [],
   "source": [
    "optimizer = dict(optim='sgd', lr=learning_rate) # Could be 'sgd' if we didn't need to change the learning rate.\n",
    "loss_function = 'cross_entropy'"
   ]
  },
  {
   "cell_type": "markdown",
   "metadata": {},
   "source": [
    "### Loading the Dataset\n",
    "\n",
    "The following code helps load the MNIST dataset and creates the PyTorch DataLoaders that split our datasets into batches. Then, the train DataLoader shuffles the examples of the training dataset to draw the examples without replacement."
   ]
  },
  {
   "cell_type": "code",
   "execution_count": 4,
   "metadata": {},
   "outputs": [],
   "source": [
    "full_train_dataset = MNIST('./datasets', train=True, download=True, transform=transforms.ToTensor())\n",
    "test_dataset = MNIST('./datasets', train=False, download=True, transform=transforms.ToTensor())\n",
    "\n",
    "num_data = len(full_train_dataset)\n",
    "train_length = int(math.floor(train_split_percent * num_data))\n",
    "valid_length = num_data - train_length\n",
    "\n",
    "train_dataset, valid_dataset = random_split(full_train_dataset, \n",
    "                                            [train_length, valid_length],\n",
    "                                            generator=torch.Generator().manual_seed(42))\n",
    "\n",
    "train_loader = DataLoader(train_dataset, batch_size=batch_size, num_workers=2, shuffle=True)\n",
    "valid_loader = DataLoader(valid_dataset, batch_size=batch_size, num_workers=2)\n",
    "test_loader = DataLoader(test_dataset, batch_size=batch_size, num_workers=2)"
   ]
  },
  {
   "cell_type": "code",
   "execution_count": 5,
   "metadata": {},
   "outputs": [
    {
     "data": {
      "text/plain": [
       "(48000, 12000)"
      ]
     },
     "execution_count": 5,
     "metadata": {},
     "output_type": "execute_result"
    }
   ],
   "source": [
    "len(train_dataset), len(valid_dataset)"
   ]
  },
  {
   "cell_type": "markdown",
   "metadata": {},
   "source": [
    "### Initializing the Network\n",
    "\n",
    "We create a fonction to initialize a simple convolutional neural network."
   ]
  },
  {
   "cell_type": "code",
   "execution_count": 6,
   "metadata": {},
   "outputs": [],
   "source": [
    "def create_network():\n",
    "    return nn.Sequential(\n",
    "        nn.Conv2d(in_channels=1, out_channels=16, kernel_size=3, padding=1),\n",
    "        nn.ReLU(),\n",
    "        nn.MaxPool2d(2),\n",
    "        nn.Conv2d(in_channels=16, out_channels=32, kernel_size=3, padding=1),\n",
    "        nn.ReLU(),\n",
    "        nn.MaxPool2d(2),\n",
    "        nn.Dropout(0.25),\n",
    "        nn.Flatten(),\n",
    "        nn.Linear(32*7*7, 128),\n",
    "        nn.ReLU(),\n",
    "        nn.Dropout(0.5),\n",
    "        nn.Linear(128, num_classes)\n",
    "    )"
   ]
  },
  {
   "cell_type": "markdown",
   "metadata": {},
   "source": [
    "## Vanilla Usage\n",
    "\n",
    "The following code trains our network in the simplest way possible with Poutyne. We use the accuracy metric so that we can see the performance during training."
   ]
  },
  {
   "cell_type": "code",
   "execution_count": 7,
   "metadata": {},
   "outputs": [
    {
     "name": "stdout",
     "output_type": "stream",
     "text": [
      "\u001b[35mEpoch: \u001b[36m1/5 \u001b[35mTrain steps: \u001b[36m1500 \u001b[35mVal steps: \u001b[36m375 \u001b[32m6.26s \u001b[35mloss:\u001b[94m 0.364863\u001b[35m acc:\u001b[94m 88.131250\u001b[35m val_loss:\u001b[94m 0.108600\u001b[35m val_acc:\u001b[94m 96.633333\u001b[0m\n",
      "\u001b[35mEpoch: \u001b[36m2/5 \u001b[35mTrain steps: \u001b[36m1500 \u001b[35mVal steps: \u001b[36m375 \u001b[32m6.29s \u001b[35mloss:\u001b[94m 0.126696\u001b[35m acc:\u001b[94m 95.991667\u001b[35m val_loss:\u001b[94m 0.063045\u001b[35m val_acc:\u001b[94m 98.141667\u001b[0m\n",
      "\u001b[35mEpoch: \u001b[36m3/5 \u001b[35mTrain steps: \u001b[36m1500 \u001b[35mVal steps: \u001b[36m375 \u001b[32m6.14s \u001b[35mloss:\u001b[94m 0.099989\u001b[35m acc:\u001b[94m 96.943750\u001b[35m val_loss:\u001b[94m 0.054086\u001b[35m val_acc:\u001b[94m 98.433333\u001b[0m\n",
      "\u001b[35mEpoch: \u001b[36m4/5 \u001b[35mTrain steps: \u001b[36m1500 \u001b[35mVal steps: \u001b[36m375 \u001b[32m6.16s \u001b[35mloss:\u001b[94m 0.083581\u001b[35m acc:\u001b[94m 97.500000\u001b[35m val_loss:\u001b[94m 0.051291\u001b[35m val_acc:\u001b[94m 98.500000\u001b[0m\n",
      "\u001b[35mEpoch: \u001b[36m5/5 \u001b[35mTrain steps: \u001b[36m1500 \u001b[35mVal steps: \u001b[36m375 \u001b[32m6.35s \u001b[35mloss:\u001b[94m 0.075759\u001b[35m acc:\u001b[94m 97.762500\u001b[35m val_loss:\u001b[94m 0.044111\u001b[35m val_acc:\u001b[94m 98.775000\u001b[0m\n",
      "\u001b[35mTest steps: \u001b[36m313 \u001b[32m0.75s \u001b[35mtest_loss:\u001b[94m 0.027585\u001b[35m test_acc:\u001b[94m 98.970000\u001b[0m                                                  \n"
     ]
    }
   ],
   "source": [
    "# Instantiating our network\n",
    "network = create_network()\n",
    "\n",
    "# Poutyne Model on GPU\n",
    "model = Model(network, optimizer, loss_function,\n",
    "              batch_metrics=['accuracy'], \n",
    "              device=device)\n",
    "\n",
    "# Train\n",
    "model.fit_generator(train_loader, valid_loader, epochs=num_epochs)\n",
    "\n",
    "# Test\n",
    "test_loss, test_acc = model.evaluate_generator(test_loader)"
   ]
  },
  {
   "cell_type": "markdown",
   "metadata": {},
   "source": [
    "## Initilalizing Your Optimizer and Loss Function Yourself\n",
    "\n",
    "Instead of using magic strings for the optimizer and the loss function, it's quite easy to initialize your own and pass them to Poutyne."
   ]
  },
  {
   "cell_type": "code",
   "execution_count": 8,
   "metadata": {},
   "outputs": [
    {
     "name": "stdout",
     "output_type": "stream",
     "text": [
      "\u001b[35mEpoch: \u001b[36m1/5 \u001b[35mTrain steps: \u001b[36m1500 \u001b[35mVal steps: \u001b[36m375 \u001b[32m6.31s \u001b[35mloss:\u001b[94m 0.378764\u001b[35m acc:\u001b[94m 87.666667\u001b[35m val_loss:\u001b[94m 0.089832\u001b[35m val_acc:\u001b[94m 97.341667\u001b[0m\n",
      "\u001b[35mEpoch: \u001b[36m2/5 \u001b[35mTrain steps: \u001b[36m1500 \u001b[35mVal steps: \u001b[36m375 \u001b[32m6.32s \u001b[35mloss:\u001b[94m 0.128875\u001b[35m acc:\u001b[94m 96.127083\u001b[35m val_loss:\u001b[94m 0.066408\u001b[35m val_acc:\u001b[94m 98.033333\u001b[0m\n",
      "\u001b[35mEpoch: \u001b[36m3/5 \u001b[35mTrain steps: \u001b[36m1500 \u001b[35mVal steps: \u001b[36m375 \u001b[32m6.38s \u001b[35mloss:\u001b[94m 0.098024\u001b[35m acc:\u001b[94m 97.012500\u001b[35m val_loss:\u001b[94m 0.054016\u001b[35m val_acc:\u001b[94m 98.508333\u001b[0m\n",
      "\u001b[35mEpoch: \u001b[36m4/5 \u001b[35mTrain steps: \u001b[36m1500 \u001b[35mVal steps: \u001b[36m375 \u001b[32m6.22s \u001b[35mloss:\u001b[94m 0.082791\u001b[35m acc:\u001b[94m 97.452083\u001b[35m val_loss:\u001b[94m 0.052957\u001b[35m val_acc:\u001b[94m 98.441667\u001b[0m\n",
      "\u001b[35mEpoch: \u001b[36m5/5 \u001b[35mTrain steps: \u001b[36m1500 \u001b[35mVal steps: \u001b[36m375 \u001b[32m6.37s \u001b[35mloss:\u001b[94m 0.075380\u001b[35m acc:\u001b[94m 97.754167\u001b[35m val_loss:\u001b[94m 0.050414\u001b[35m val_acc:\u001b[94m 98.475000\u001b[0m\n",
      "\u001b[35mTest steps: \u001b[36m313 \u001b[32m0.75s \u001b[35mtest_loss:\u001b[94m 0.036658\u001b[35m test_acc:\u001b[94m 98.780000\u001b[0m                                                  \n"
     ]
    }
   ],
   "source": [
    "# Instantiating our network\n",
    "network = create_network()\n",
    "\n",
    "# Instantiating our loss function and optimizer\n",
    "own_optimizer = optim.SGD(network.parameters(), lr=learning_rate)\n",
    "own_loss_function = nn.CrossEntropyLoss()\n",
    "\n",
    "# Poutyne Model on GPU\n",
    "model = Model(network, own_optimizer, own_loss_function, \n",
    "              batch_metrics=['accuracy'], \n",
    "              device=device)\n",
    "\n",
    "# Train\n",
    "model.fit_generator(train_loader, valid_loader, epochs=num_epochs)\n",
    "\n",
    "# Test\n",
    "test_loss, test_acc = model.evaluate_generator(test_loader)"
   ]
  },
  {
   "cell_type": "markdown",
   "metadata": {},
   "source": [
    "## Bypassing PyTorch DataLoaders\n",
    "\n",
    "Above, we defined DataLoaders for our datasets. However, with Poutyne, it is not strictly necessary since it provides the [`fit_dataset`](https://poutyne.org/model.html#poutyne.Model.fit_dataset) and [`evaluate_dataset`](https://poutyne.org/model.html#poutyne.Model.evaluate_dataset) methods to which you can pass the necessary parameters such as the batch size. Under the hood, Poutyne initializes the DataLoaders for you."
   ]
  },
  {
   "cell_type": "code",
   "execution_count": 9,
   "metadata": {
    "scrolled": false
   },
   "outputs": [
    {
     "name": "stdout",
     "output_type": "stream",
     "text": [
      "\u001b[35mEpoch: \u001b[36m1/5 \u001b[35mTrain steps: \u001b[36m1500 \u001b[35mVal steps: \u001b[36m375 \u001b[32m6.07s \u001b[35mloss:\u001b[94m 0.384156\u001b[35m acc:\u001b[94m 87.412500\u001b[35m val_loss:\u001b[94m 0.102481\u001b[35m val_acc:\u001b[94m 96.950000\u001b[0m\n",
      "\u001b[35mEpoch: \u001b[36m2/5 \u001b[35mTrain steps: \u001b[36m1500 \u001b[35mVal steps: \u001b[36m375 \u001b[32m6.31s \u001b[35mloss:\u001b[94m 0.128977\u001b[35m acc:\u001b[94m 96.050000\u001b[35m val_loss:\u001b[94m 0.066917\u001b[35m val_acc:\u001b[94m 98.108333\u001b[0m\n",
      "\u001b[35mEpoch: \u001b[36m3/5 \u001b[35mTrain steps: \u001b[36m1500 \u001b[35mVal steps: \u001b[36m375 \u001b[32m6.28s \u001b[35mloss:\u001b[94m 0.100961\u001b[35m acc:\u001b[94m 96.966667\u001b[35m val_loss:\u001b[94m 0.053764\u001b[35m val_acc:\u001b[94m 98.525000\u001b[0m\n",
      "\u001b[35mEpoch: \u001b[36m4/5 \u001b[35mTrain steps: \u001b[36m1500 \u001b[35mVal steps: \u001b[36m375 \u001b[32m6.20s \u001b[35mloss:\u001b[94m 0.086132\u001b[35m acc:\u001b[94m 97.368750\u001b[35m val_loss:\u001b[94m 0.050919\u001b[35m val_acc:\u001b[94m 98.466667\u001b[0m\n",
      "\u001b[35mEpoch: \u001b[36m5/5 \u001b[35mTrain steps: \u001b[36m1500 \u001b[35mVal steps: \u001b[36m375 \u001b[32m6.16s \u001b[35mloss:\u001b[94m 0.073995\u001b[35m acc:\u001b[94m 97.766667\u001b[35m val_loss:\u001b[94m 0.043581\u001b[35m val_acc:\u001b[94m 98.791667\u001b[0m\n",
      "\u001b[35mTest steps: \u001b[36m313 \u001b[32m0.75s \u001b[35mtest_loss:\u001b[94m 0.036267\u001b[35m test_acc:\u001b[94m 98.980000\u001b[0m                                                   \n"
     ]
    }
   ],
   "source": [
    "# Instantiating our network\n",
    "network = create_network()\n",
    "\n",
    "# Poutyne Model on GPU\n",
    "model = Model(network, optimizer, loss_function,\n",
    "              batch_metrics=['accuracy'], \n",
    "              device=device)\n",
    "\n",
    "# Train\n",
    "model.fit_dataset(train_dataset, \n",
    "                  valid_dataset, \n",
    "                  epochs=num_epochs, \n",
    "                  batch_size=batch_size, \n",
    "                  num_workers=2)\n",
    "\n",
    "# Test\n",
    "test_loss, test_acc = model.evaluate_dataset(test_dataset, \n",
    "                                             batch_size=batch_size, \n",
    "                                             num_workers=2)"
   ]
  },
  {
   "cell_type": "markdown",
   "metadata": {
    "pycharm": {
     "name": "#%% md\n"
    }
   },
   "source": [
    "## Using Callbacks\n",
    "\n",
    "One nice feature of Poutyne is [callbacks](https://poutyne.org/callbacks.html). Callbacks allow doing actions during the training of the neural network. In the following example, we use three callbacks. The first that saves the latest weights in a file to be able to continue the optimization at the end of training if more epochs are needed. The second that saves the best weights according to the performance on the validation dataset. The last that saves the displayed logs into a TSV file."
   ]
  },
  {
   "cell_type": "code",
   "execution_count": 10,
   "metadata": {
    "pycharm": {
     "name": "#%%\n"
    }
   },
   "outputs": [],
   "source": [
    "# Saves everything into saves/convnet_mnist\n",
    "save_path = \"saves/convnet_mnist\"\n",
    "os.makedirs(save_path, exist_ok=True)\n",
    "\n",
    "callbacks = [\n",
    "    # Save the latest weights to be able to continue the optimization at the end for more epochs.\n",
    "    ModelCheckpoint(os.path.join(save_path, 'last_epoch.ckpt')),\n",
    "\n",
    "    # Save the weights in a new file when the current model is better than all previous models.\n",
    "    ModelCheckpoint(os.path.join(save_path, 'best_epoch_{epoch}.ckpt'), monitor='val_acc', mode='max', \n",
    "                    save_best_only=True, restore_best=True, verbose=True),\n",
    "\n",
    "    # Save the losses and accuracies for each epoch in a TSV.\n",
    "    CSVLogger(os.path.join(save_path, 'log.tsv'), separator='\\t'),\n",
    "]"
   ]
  },
  {
   "cell_type": "code",
   "execution_count": 11,
   "metadata": {},
   "outputs": [
    {
     "name": "stdout",
     "output_type": "stream",
     "text": [
      "\u001b[35mEpoch: \u001b[36m1/5 \u001b[35mTrain steps: \u001b[36m1500 \u001b[35mVal steps: \u001b[36m375 \u001b[32m6.06s \u001b[35mloss:\u001b[94m 0.363334\u001b[35m acc:\u001b[94m 88.272917\u001b[35m val_loss:\u001b[94m 0.083082\u001b[35m val_acc:\u001b[94m 97.508333\u001b[0m\n",
      "Epoch 1: val_acc improved from -inf to 97.50833, saving file to saves/convnet_mnist/best_epoch_1.ckpt\n",
      "\u001b[35mEpoch: \u001b[36m2/5 \u001b[35mTrain steps: \u001b[36m1500 \u001b[35mVal steps: \u001b[36m375 \u001b[32m6.23s \u001b[35mloss:\u001b[94m 0.129105\u001b[35m acc:\u001b[94m 96.068750\u001b[35m val_loss:\u001b[94m 0.058399\u001b[35m val_acc:\u001b[94m 98.166667\u001b[0m\n",
      "Epoch 2: val_acc improved from 97.50833 to 98.16667, saving file to saves/convnet_mnist/best_epoch_2.ckpt\n",
      "\u001b[35mEpoch: \u001b[36m3/5 \u001b[35mTrain steps: \u001b[36m1500 \u001b[35mVal steps: \u001b[36m375 \u001b[32m6.24s \u001b[35mloss:\u001b[94m 0.097697\u001b[35m acc:\u001b[94m 97.066667\u001b[35m val_loss:\u001b[94m 0.058446\u001b[35m val_acc:\u001b[94m 98.316667\u001b[0m\n",
      "Epoch 3: val_acc improved from 98.16667 to 98.31667, saving file to saves/convnet_mnist/best_epoch_3.ckpt\n",
      "\u001b[35mEpoch: \u001b[36m4/5 \u001b[35mTrain steps: \u001b[36m1500 \u001b[35mVal steps: \u001b[36m375 \u001b[32m6.24s \u001b[35mloss:\u001b[94m 0.084468\u001b[35m acc:\u001b[94m 97.452083\u001b[35m val_loss:\u001b[94m 0.048789\u001b[35m val_acc:\u001b[94m 98.550000\u001b[0m\n",
      "Epoch 4: val_acc improved from 98.31667 to 98.55000, saving file to saves/convnet_mnist/best_epoch_4.ckpt\n",
      "\u001b[35mEpoch: \u001b[36m5/5 \u001b[35mTrain steps: \u001b[36m1500 \u001b[35mVal steps: \u001b[36m375 \u001b[32m6.26s \u001b[35mloss:\u001b[94m 0.072188\u001b[35m acc:\u001b[94m 97.812500\u001b[35m val_loss:\u001b[94m 0.042376\u001b[35m val_acc:\u001b[94m 98.766667\u001b[0m\n",
      "Epoch 5: val_acc improved from 98.55000 to 98.76667, saving file to saves/convnet_mnist/best_epoch_5.ckpt\n",
      "Restoring model from saves/convnet_mnist/best_epoch_5.ckpt\n",
      "\u001b[35mTest steps: \u001b[36m313 \u001b[32m0.74s \u001b[35mtest_loss:\u001b[94m 0.030345\u001b[35m test_acc:\u001b[94m 98.960000\u001b[0m                                                  \n"
     ]
    }
   ],
   "source": [
    "# Instantiating our network\n",
    "network = create_network()\n",
    "\n",
    "# Poutyne Model on GPU\n",
    "model = Model(network, optimizer, loss_function, \n",
    "              batch_metrics=['accuracy'],\n",
    "              device=device)\n",
    "\n",
    "# Train\n",
    "model.fit_generator(train_loader,\n",
    "                    valid_loader,\n",
    "                    epochs=num_epochs,\n",
    "                    callbacks=callbacks)\n",
    "\n",
    "# Test\n",
    "test_loss, test_acc = model.evaluate_generator(test_loader)"
   ]
  },
  {
   "cell_type": "markdown",
   "metadata": {
    "pycharm": {
     "name": "#%% md\n"
    }
   },
   "source": [
    "## Making Your Own Callback\n",
    "\n",
    "While Poutyne provides a great number of [predefined callbacks](https://poutyne.org/callbacks.html), it is sometimes useful to make your own callback.\n",
    "\n",
    "In the following example, we want to see the effect of temperature on the optimization of our neural network. To do so, we either increase or decrease the temperature during the optimization. As one can see in the result, temperature either as no effect or has a detrimental effect on the performance of the neural network. This is so because the temperature has for effect to artificially changing the learning rates. Since we have found the right learning rate, increasing or decreasing, it shows no improvement on the results."
   ]
  },
  {
   "cell_type": "code",
   "execution_count": 12,
   "metadata": {},
   "outputs": [],
   "source": [
    "class CrossEntropyLossWithTemperature(nn.Module):\n",
    "    \"\"\"\n",
    "    This loss module is the cross-entropy loss function\n",
    "    with temperature. It divides the logits by a temperature\n",
    "    value before computing the cross-entropy loss.\n",
    "\n",
    "    Args:\n",
    "        initial_temperature (float): The initial value of the temperature.\n",
    "    \"\"\"\n",
    "\n",
    "    def __init__(self, initial_temperature):\n",
    "        super().__init__()\n",
    "        self.temperature = initial_temperature\n",
    "        self.celoss = nn.CrossEntropyLoss()\n",
    "\n",
    "    def forward(self, y_pred, y_true):\n",
    "        y_pred = y_pred / self.temperature\n",
    "        return self.celoss(y_pred, y_true)"
   ]
  },
  {
   "cell_type": "code",
   "execution_count": 13,
   "metadata": {
    "pycharm": {
     "name": "#%%\n"
    }
   },
   "outputs": [],
   "source": [
    "class TemperatureCallback(Callback):\n",
    "    \"\"\"\n",
    "    This callback multiply the loss temperature with a decay before\n",
    "    each batch.\n",
    "\n",
    "    Args:\n",
    "        celoss_with_temp (CrossEntropyLossWithTemperature): the loss module.\n",
    "        decay (float): The value of the temperature decay.\n",
    "    \"\"\"\n",
    "    def __init__(self, celoss_with_temp, decay):\n",
    "        super().__init__()\n",
    "        self.celoss_with_temp = celoss_with_temp\n",
    "        self.decay = decay\n",
    "\n",
    "    def on_train_batch_begin(self, batch, logs):\n",
    "        self.celoss_with_temp.temperature *= self.decay"
   ]
  },
  {
   "cell_type": "markdown",
   "metadata": {
    "pycharm": {
     "name": "#%% md\n"
    }
   },
   "source": [
    "So our loss function will be the cross-entropy with temperature with an initial temperature of `0.1` and a temperature decay of `1.0008`."
   ]
  },
  {
   "cell_type": "code",
   "execution_count": 14,
   "metadata": {
    "pycharm": {
     "name": "#%%\n"
    }
   },
   "outputs": [],
   "source": [
    "custom_loss_function = CrossEntropyLossWithTemperature(0.1)\n",
    "callbacks = [TemperatureCallback(custom_loss_function, 1.0008)]"
   ]
  },
  {
   "cell_type": "markdown",
   "metadata": {
    "pycharm": {
     "name": "#%% md\n"
    }
   },
   "source": [
    "Now let's test our training loop for one epoch using the accuracy as the batch metric."
   ]
  },
  {
   "cell_type": "code",
   "execution_count": 15,
   "metadata": {},
   "outputs": [
    {
     "name": "stdout",
     "output_type": "stream",
     "text": [
      "\u001b[35mEpoch: \u001b[36m1/5 \u001b[35mTrain steps: \u001b[36m1500 \u001b[35mVal steps: \u001b[36m375 \u001b[32m6.22s \u001b[35mloss:\u001b[94m 0.524956\u001b[35m acc:\u001b[94m 82.987500\u001b[35m val_loss:\u001b[94m 0.082677\u001b[35m val_acc:\u001b[94m 97.525000\u001b[0m\n",
      "\u001b[35mEpoch: \u001b[36m2/5 \u001b[35mTrain steps: \u001b[36m1500 \u001b[35mVal steps: \u001b[36m375 \u001b[32m6.17s \u001b[35mloss:\u001b[94m 0.157685\u001b[35m acc:\u001b[94m 95.247917\u001b[35m val_loss:\u001b[94m 0.064936\u001b[35m val_acc:\u001b[94m 98.066667\u001b[0m\n",
      "\u001b[35mEpoch: \u001b[36m3/5 \u001b[35mTrain steps: \u001b[36m1500 \u001b[35mVal steps: \u001b[36m375 \u001b[32m6.40s \u001b[35mloss:\u001b[94m 0.130516\u001b[35m acc:\u001b[94m 96.093750\u001b[35m val_loss:\u001b[94m 0.061940\u001b[35m val_acc:\u001b[94m 98.200000\u001b[0m\n",
      "\u001b[35mEpoch: \u001b[36m4/5 \u001b[35mTrain steps: \u001b[36m1500 \u001b[35mVal steps: \u001b[36m375 \u001b[32m6.27s \u001b[35mloss:\u001b[94m 0.130717\u001b[35m acc:\u001b[94m 96.310417\u001b[35m val_loss:\u001b[94m 0.064953\u001b[35m val_acc:\u001b[94m 98.075000\u001b[0m\n",
      "\u001b[35mEpoch: \u001b[36m5/5 \u001b[35mTrain steps: \u001b[36m1500 \u001b[35mVal steps: \u001b[36m375 \u001b[32m6.41s \u001b[35mloss:\u001b[94m 0.145397\u001b[35m acc:\u001b[94m 95.914583\u001b[35m val_loss:\u001b[94m 0.081095\u001b[35m val_acc:\u001b[94m 97.983333\u001b[0m\n",
      "\u001b[35mTest steps: \u001b[36m313 \u001b[32m0.74s \u001b[35mtest_loss:\u001b[94m 0.069856\u001b[35m test_acc:\u001b[94m 98.240000\u001b[0m                                                   \n"
     ]
    }
   ],
   "source": [
    "# Instantiating our network\n",
    "network = create_network()\n",
    "\n",
    "# Poutyne Model on GPU\n",
    "model = Model(network, optimizer, custom_loss_function, \n",
    "              batch_metrics=['accuracy'],\n",
    "              device=device)\n",
    "\n",
    "# Train\n",
    "model.fit_generator(train_loader,\n",
    "                    valid_loader,\n",
    "                    epochs=num_epochs,\n",
    "                    callbacks=callbacks)\n",
    "\n",
    "# Test\n",
    "test_loss, test_acc = model.evaluate_generator(test_loader)"
   ]
  },
  {
   "cell_type": "markdown",
   "metadata": {},
   "source": [
    "## Using Experiment\n",
    "\n",
    "Most of the time, when using Poutyne (or even Pytorch in general), we will find ourselves in an iterative model hyperparameters finetuning loop. For efficient model search, we will usually wish to save our best performing models, their training and testing statistics and even sometimes wish to retrain an already trained model for further tuning. All of the above can be easily implemented with the flexibility of Poutyne Callbacks, but having to define and initialize each and every Callback object we wish for our model quickly feels cumbersome.\n",
    "\n",
    "This is why Poutyne provides an [Experiment class](https://poutyne.org/experiment.html), which aims specifically at enabling quick model iteration search, while not sacrificing the quality of a single experiment - statistics logging, best models saving, etc. Experiment is actually a simple wrapper between a PyTorch network and Poutyne's core Callback objects for logging and saving. Given a working directory where to output the various logging files and a PyTorch network, the Experiment class reduces the whole training loop to a single line.\n",
    "\n",
    "The following code uses [Poutyne's Experiment class](https://poutyne.org/experiment.html) to train a network for 5 epochs. The code is quite simpler than the code in the Poutyne Callbacks section while doing more (only a few lines). Once trained for 5 epochs, it is then possible to resume the optimization at the 5th epoch for 5 more epochs until the 10th epoch using the same function."
   ]
  },
  {
   "cell_type": "code",
   "execution_count": 16,
   "metadata": {},
   "outputs": [],
   "source": [
    "def experiment_train(network, name, epochs=5):\n",
    "    \"\"\"\n",
    "    This function creates a Poutyne Experiment, trains the input module\n",
    "    on the train loader and then tests its performance on the test loader.\n",
    "    All training and testing statistics are saved, as well as best model\n",
    "    checkpoints.\n",
    "    \n",
    "    Args:\n",
    "        network (torch.nn.Module): The neural network to train.\n",
    "        working_directory (str): The directory where to output files to save.\n",
    "        epochs (int): The number of epochs. (Default: 5)\n",
    "    \"\"\"\n",
    "    # Everything is going to be saved in ./saves/{name}.\n",
    "    save_path = os.path.join('saves', name)\n",
    "\n",
    "    # Poutyne Experiment\n",
    "    expt = Experiment(save_path, network, optimizer=optimizer, task='classif', device=device)\n",
    "\n",
    "    # Train\n",
    "    expt.train(train_loader, valid_loader, epochs=epochs)\n",
    "\n",
    "    # Test\n",
    "    expt.test(test_loader)"
   ]
  },
  {
   "cell_type": "code",
   "execution_count": 17,
   "metadata": {},
   "outputs": [
    {
     "name": "stdout",
     "output_type": "stream",
     "text": [
      "Loading weights from saves/convnet_mnist_experiment/checkpoint.ckpt and starting at epoch 11.\n",
      "Loading optimizer state from saves/convnet_mnist_experiment/checkpoint.optim and starting at epoch 11.\n",
      "Restoring model from saves/convnet_mnist_experiment/checkpoint_epoch_10.ckpt\n",
      "Found best checkpoint at epoch: 10\n",
      "lr: 0.1, loss: 0.0380142, acc: 98.8438, fscore_micro: 0.988437, val_loss: 0.0415888, val_acc: 98.9167, val_fscore_micro: 0.989167\n",
      "Loading checkpoint saves/convnet_mnist_experiment/checkpoint_epoch_10.ckpt\n",
      "Running test\n",
      "\u001b[35mTest steps: \u001b[36m313 \u001b[32m0.94s \u001b[35mtest_loss:\u001b[94m 0.032788\u001b[35m test_acc:\u001b[94m 98.980000\u001b[35m test_fscore_micro:\u001b[94m 0.989800\u001b[0m             \n"
     ]
    }
   ],
   "source": [
    "network = create_network()\n",
    "experiment_train(network, 'convnet_mnist_experiment', epochs=5)"
   ]
  },
  {
   "cell_type": "markdown",
   "metadata": {},
   "source": [
    "Notice how setting `task='classif'` when instantiating `Experiment` adds for use our loss function, the batch metric accuracy, the epoch metric F1 and set up callbacks that use them. If you wish, you still can use your own loss function and metrics instead of passing this argument.\n",
    "\n",
    "We have trained for 5 epochs, let's now resume training for another 5 epochs for a total of 10 epochs. Notice that we reinstantiate the network. Experiment will load back the weights for us and resume training."
   ]
  },
  {
   "cell_type": "code",
   "execution_count": 18,
   "metadata": {
    "scrolled": false
   },
   "outputs": [
    {
     "name": "stdout",
     "output_type": "stream",
     "text": [
      "Loading weights from saves/convnet_mnist_experiment/checkpoint.ckpt and starting at epoch 11.\n",
      "Loading optimizer state from saves/convnet_mnist_experiment/checkpoint.optim and starting at epoch 11.\n",
      "Restoring model from saves/convnet_mnist_experiment/checkpoint_epoch_10.ckpt\n",
      "Found best checkpoint at epoch: 10\n",
      "lr: 0.1, loss: 0.0380142, acc: 98.8438, fscore_micro: 0.988437, val_loss: 0.0415888, val_acc: 98.9167, val_fscore_micro: 0.989167\n",
      "Loading checkpoint saves/convnet_mnist_experiment/checkpoint_epoch_10.ckpt\n",
      "Running test\n",
      "\u001b[35mTest steps: \u001b[36m313 \u001b[32m0.88s \u001b[35mtest_loss:\u001b[94m 0.032788\u001b[35m test_acc:\u001b[94m 98.980000\u001b[35m test_fscore_micro:\u001b[94m 0.989800\u001b[0m             \n"
     ]
    }
   ],
   "source": [
    "network = create_network()\n",
    "experiment_train(network, 'convnet_mnist_experiment', epochs=10)"
   ]
  },
  {
   "cell_type": "markdown",
   "metadata": {
    "pycharm": {
     "name": "#%% md\n"
    }
   },
   "source": [
    "## Coloring\n",
    "\n",
    "Also, Poutyne use by default a coloring template of the training step when the package `colorama` is installed.\n",
    "One could either remove the coloring (`progress_options=dict(coloring=False)`) or set a different coloring template using the fields:\n",
    "`text_color`, `ratio_color`, `metric_value_color`, `time_color` and `progress_bar_color`.\n",
    "If a field is not specified, the default color will be used.\n",
    "[See available colors in colorama's source code](https://github.com/tartley/colorama/blob/9946cfb/colorama/ansi.py#L49).\n",
    "\n",
    "Here an example where we set the `text_color` to RED and the `progress_bar_color` to LIGHTGREEN_EX."
   ]
  },
  {
   "cell_type": "code",
   "execution_count": 19,
   "metadata": {},
   "outputs": [],
   "source": [
    "progress_options = dict(\n",
    "    coloring=dict(text_color=\"RED\", progress_bar_color=\"LIGHTGREEN_EX\")\n",
    ")"
   ]
  },
  {
   "cell_type": "code",
   "execution_count": 20,
   "metadata": {
    "pycharm": {
     "name": "#%%\n"
    }
   },
   "outputs": [
    {
     "name": "stdout",
     "output_type": "stream",
     "text": [
      "\u001b[31mEpoch: \u001b[36m1/5 \u001b[31mTrain steps: \u001b[36m1500 \u001b[31mVal steps: \u001b[36m375 \u001b[32m6.34s \u001b[31mloss:\u001b[94m 0.372919\u001b[31m acc:\u001b[94m 87.906250\u001b[31m val_loss:\u001b[94m 0.087468\u001b[31m val_acc:\u001b[94m 97.325000\u001b[0m\n",
      "\u001b[31mEpoch: \u001b[36m2/5 \u001b[31mTrain steps: \u001b[36m1500 \u001b[31mVal steps: \u001b[36m375 \u001b[32m6.28s \u001b[31mloss:\u001b[94m 0.131601\u001b[31m acc:\u001b[94m 96.054167\u001b[31m val_loss:\u001b[94m 0.063087\u001b[31m val_acc:\u001b[94m 98.150000\u001b[0m\n",
      "\u001b[31mEpoch: \u001b[36m3/5 \u001b[31mTrain steps: \u001b[36m1500 \u001b[31mVal steps: \u001b[36m375 \u001b[32m6.16s \u001b[31mloss:\u001b[94m 0.101879\u001b[31m acc:\u001b[94m 96.877083\u001b[31m val_loss:\u001b[94m 0.054765\u001b[31m val_acc:\u001b[94m 98.341667\u001b[0m\n",
      "\u001b[31mEpoch: \u001b[36m4/5 \u001b[31mTrain steps: \u001b[36m1500 \u001b[31mVal steps: \u001b[36m375 \u001b[32m6.17s \u001b[31mloss:\u001b[94m 0.084397\u001b[31m acc:\u001b[94m 97.497917\u001b[31m val_loss:\u001b[94m 0.051853\u001b[31m val_acc:\u001b[94m 98.375000\u001b[0m\n",
      "\u001b[31mEpoch: \u001b[36m5/5 \u001b[31mTrain steps: \u001b[36m1500 \u001b[31mVal steps: \u001b[36m375 \u001b[32m6.34s \u001b[31mloss:\u001b[94m 0.075443\u001b[31m acc:\u001b[94m 97.677083\u001b[31m val_loss:\u001b[94m 0.048552\u001b[31m val_acc:\u001b[94m 98.550000\u001b[0m\n",
      "\u001b[31mTest steps: \u001b[36m313 \u001b[32m0.76s \u001b[31mtest_loss:\u001b[94m 0.035207\u001b[31m test_acc:\u001b[94m 98.770000\u001b[0m                                                   \n"
     ]
    }
   ],
   "source": [
    "# Instantiating our network\n",
    "network = create_network()\n",
    "\n",
    "# Poutyne Model on GPU\n",
    "model = Model(network, optimizer, loss_function, \n",
    "              batch_metrics=['accuracy'],\n",
    "              device=device)\n",
    "\n",
    "# Train\n",
    "model.fit_generator(train_loader, \n",
    "                    valid_loader, \n",
    "                    epochs=num_epochs, \n",
    "                    progress_options=progress_options)\n",
    "\n",
    "# Test\n",
    "test_loss, test_acc = model.evaluate_generator(test_loader, \n",
    "                                               progress_options=progress_options)"
   ]
  },
  {
   "cell_type": "markdown",
   "metadata": {},
   "source": [
    "## Epoch Metrics\n",
    "\n",
    "It's also possible to used epoch metrics such as [`F1-score`](https://poutyne.org/metrics.html#poutyne.FBeta). You could also define your own epoch metric using the [`EpochMetric`](https://poutyne.org/metrics.html#epoch-metric-interface) interface."
   ]
  },
  {
   "cell_type": "code",
   "execution_count": 21,
   "metadata": {},
   "outputs": [
    {
     "name": "stdout",
     "output_type": "stream",
     "text": [
      "\u001b[35mEpoch: \u001b[36m1/5 \u001b[35mTrain steps: \u001b[36m1500 \u001b[35mVal steps: \u001b[36m375 \u001b[32m8.25s \u001b[35mloss:\u001b[94m 0.375131\u001b[35m acc:\u001b[94m 87.710417\u001b[35m fscore_micro:\u001b[94m 0.877104\u001b[35m val_loss:\u001b[94m 0.087440\u001b[35m val_acc:\u001b[94m 97.250000\u001b[35m val_fscore_micro:\u001b[94m 0.972500\u001b[0m\n",
      "\u001b[35mEpoch: \u001b[36m2/5 \u001b[35mTrain steps: \u001b[36m1500 \u001b[35mVal steps: \u001b[36m375 \u001b[32m7.98s \u001b[35mloss:\u001b[94m 0.129126\u001b[35m acc:\u001b[94m 96.089583\u001b[35m fscore_micro:\u001b[94m 0.960896\u001b[35m val_loss:\u001b[94m 0.063637\u001b[35m val_acc:\u001b[94m 98.125000\u001b[35m val_fscore_micro:\u001b[94m 0.981250\u001b[0m\n",
      "\u001b[35mEpoch: \u001b[36m3/5 \u001b[35mTrain steps: \u001b[36m1500 \u001b[35mVal steps: \u001b[36m375 \u001b[32m8.16s \u001b[35mloss:\u001b[94m 0.098845\u001b[35m acc:\u001b[94m 97.070833\u001b[35m fscore_micro:\u001b[94m 0.970708\u001b[35m val_loss:\u001b[94m 0.049600\u001b[35m val_acc:\u001b[94m 98.566667\u001b[35m val_fscore_micro:\u001b[94m 0.985667\u001b[0m\n",
      "\u001b[35mEpoch: \u001b[36m4/5 \u001b[35mTrain steps: \u001b[36m1500 \u001b[35mVal steps: \u001b[36m375 \u001b[32m8.16s \u001b[35mloss:\u001b[94m 0.084809\u001b[35m acc:\u001b[94m 97.383333\u001b[35m fscore_micro:\u001b[94m 0.973833\u001b[35m val_loss:\u001b[94m 0.046043\u001b[35m val_acc:\u001b[94m 98.583333\u001b[35m val_fscore_micro:\u001b[94m 0.985833\u001b[0m\n",
      "\u001b[35mEpoch: \u001b[36m5/5 \u001b[35mTrain steps: \u001b[36m1500 \u001b[35mVal steps: \u001b[36m375 \u001b[32m8.06s \u001b[35mloss:\u001b[94m 0.073265\u001b[35m acc:\u001b[94m 97.758333\u001b[35m fscore_micro:\u001b[94m 0.977583\u001b[35m val_loss:\u001b[94m 0.044262\u001b[35m val_acc:\u001b[94m 98.708333\u001b[35m val_fscore_micro:\u001b[94m 0.987083\u001b[0m\n",
      "\u001b[35mTest steps: \u001b[36m313 \u001b[32m0.95s \u001b[35mtest_loss:\u001b[94m 0.032165\u001b[35m test_acc:\u001b[94m 98.860000\u001b[35m test_fscore_micro:\u001b[94m 0.988600\u001b[0m             \n"
     ]
    }
   ],
   "source": [
    "# Instantiating our network\n",
    "network = create_network()\n",
    "\n",
    "# Poutyne Model on GPU\n",
    "model = Model(network, optimizer, loss_function,\n",
    "              batch_metrics=['accuracy'], \n",
    "              epoch_metrics=['f1'], \n",
    "              device=device)\n",
    "\n",
    "# Train\n",
    "model.fit_generator(train_loader, valid_loader, epochs=num_epochs)\n",
    "\n",
    "# Test\n",
    "test_loss, (test_acc, test_f1) = model.evaluate_generator(test_loader)"
   ]
  },
  {
   "cell_type": "markdown",
   "metadata": {},
   "source": [
    "Furthermore, you could also use the [`SKLearnMetrics`](https://poutyne.org/metrics.html#poutyne.SKLearnMetrics) wrapper to wrap a Scikit-learn metric as an epoch metric. Below, we show how to compute the AUC ROC using the [`SKLearnMetrics`](https://poutyne.org/metrics.html#poutyne.SKLearnMetrics) class."
   ]
  },
  {
   "cell_type": "code",
   "execution_count": 22,
   "metadata": {},
   "outputs": [],
   "source": [
    "def softmax(x, axis=1):\n",
    "    \"\"\"\n",
    "    Compute softmax function.\n",
    "    \"\"\"\n",
    "    e_x = np.exp(x - x.max(axis=axis, keepdims=True))\n",
    "    return e_x / e_x.sum(axis=axis, keepdims=True)\n",
    "\n",
    "def roc_auc(y_true, y_pred, **kwargs):\n",
    "    \"\"\"\n",
    "    Since the `roc_auc_score` from Scikit-learn requires normalized probabilities,\n",
    "    we use the softmax function on the predictions.\n",
    "    \"\"\"\n",
    "    y_pred = softmax(y_pred)\n",
    "    return roc_auc_score(y_true, y_pred, **kwargs)\n",
    "\n",
    "# kwargs are keyword arguments we wish to pass to roc_auc.\n",
    "roc_epoch_metric = SKLearnMetrics(roc_auc, \n",
    "                                  kwargs=dict(multi_class='ovr', average='macro'))"
   ]
  },
  {
   "cell_type": "code",
   "execution_count": 23,
   "metadata": {},
   "outputs": [
    {
     "name": "stdout",
     "output_type": "stream",
     "text": [
      "\u001b[35mEpoch: \u001b[36m1/5 \u001b[35mTrain steps: \u001b[36m1500 \u001b[35mVal steps: \u001b[36m375 \u001b[32m8.52s \u001b[35mloss:\u001b[94m 0.377142\u001b[35m acc:\u001b[94m 87.545833\u001b[35m fscore_micro:\u001b[94m 0.875458\u001b[35m roc_auc:\u001b[94m 0.991092\u001b[35m val_loss:\u001b[94m 0.091776\u001b[35m val_acc:\u001b[94m 97.300000\u001b[35m val_fscore_micro:\u001b[94m 0.973000\u001b[35m val_roc_auc:\u001b[94m 0.999393\u001b[0m\n",
      "\u001b[35mEpoch: \u001b[36m2/5 \u001b[35mTrain steps: \u001b[36m1500 \u001b[35mVal steps: \u001b[36m375 \u001b[32m8.47s \u001b[35mloss:\u001b[94m 0.127960\u001b[35m acc:\u001b[94m 96.187500\u001b[35m fscore_micro:\u001b[94m 0.961875\u001b[35m roc_auc:\u001b[94m 0.998650\u001b[35m val_loss:\u001b[94m 0.062178\u001b[35m val_acc:\u001b[94m 98.125000\u001b[35m val_fscore_micro:\u001b[94m 0.981250\u001b[35m val_roc_auc:\u001b[94m 0.999660\u001b[0m\n",
      "\u001b[35mEpoch: \u001b[36m3/5 \u001b[35mTrain steps: \u001b[36m1500 \u001b[35mVal steps: \u001b[36m375 \u001b[32m8.44s \u001b[35mloss:\u001b[94m 0.097671\u001b[35m acc:\u001b[94m 97.104167\u001b[35m fscore_micro:\u001b[94m 0.971042\u001b[35m roc_auc:\u001b[94m 0.999189\u001b[35m val_loss:\u001b[94m 0.054568\u001b[35m val_acc:\u001b[94m 98.300000\u001b[35m val_fscore_micro:\u001b[94m 0.983000\u001b[35m val_roc_auc:\u001b[94m 0.999761\u001b[0m\n",
      "\u001b[35mEpoch: \u001b[36m4/5 \u001b[35mTrain steps: \u001b[36m1500 \u001b[35mVal steps: \u001b[36m375 \u001b[32m8.54s \u001b[35mloss:\u001b[94m 0.084467\u001b[35m acc:\u001b[94m 97.433333\u001b[35m fscore_micro:\u001b[94m 0.974333\u001b[35m roc_auc:\u001b[94m 0.999361\u001b[35m val_loss:\u001b[94m 0.056364\u001b[35m val_acc:\u001b[94m 98.366667\u001b[35m val_fscore_micro:\u001b[94m 0.983667\u001b[35m val_roc_auc:\u001b[94m 0.999744\u001b[0m\n",
      "\u001b[35mEpoch: \u001b[36m5/5 \u001b[35mTrain steps: \u001b[36m1500 \u001b[35mVal steps: \u001b[36m375 \u001b[32m8.56s \u001b[35mloss:\u001b[94m 0.072830\u001b[35m acc:\u001b[94m 97.810417\u001b[35m fscore_micro:\u001b[94m 0.978104\u001b[35m roc_auc:\u001b[94m 0.999525\u001b[35m val_loss:\u001b[94m 0.046075\u001b[35m val_acc:\u001b[94m 98.658333\u001b[35m val_fscore_micro:\u001b[94m 0.986583\u001b[35m val_roc_auc:\u001b[94m 0.999810\u001b[0m\n",
      "\u001b[35mTest steps: \u001b[36m313 \u001b[32m0.98s \u001b[35mtest_loss:\u001b[94m 0.034844\u001b[35m test_acc:\u001b[94m 98.890000\u001b[35m test_fscore_micro:\u001b[94m 0.988900\u001b[35m test_roc_auc:\u001b[94m 0.999910\u001b[0m\n"
     ]
    }
   ],
   "source": [
    "# Instantiating our network\n",
    "network = create_network()\n",
    "\n",
    "# Poutyne Model on GPU\n",
    "model = Model(network, optimizer, loss_function,\n",
    "              batch_metrics=['accuracy'], \n",
    "              epoch_metrics=['f1', roc_epoch_metric], \n",
    "              device=device)\n",
    "\n",
    "# Train\n",
    "model.fit_generator(train_loader, valid_loader, epochs=num_epochs)\n",
    "\n",
    "# Test\n",
    "test_loss, (test_acc, test_f1, test_roc) = model.evaluate_generator(test_loader)"
   ]
  },
  {
   "cell_type": "markdown",
   "metadata": {},
   "source": [
    "## Custom Metric Names\n",
    "\n",
    "It's also possible to name the metric using a tuple format `(<metric name>, metric)`. That way, it's possible to use multiple times the same metric type (i.e. having micro and macro F1-score)."
   ]
  },
  {
   "cell_type": "code",
   "execution_count": 24,
   "metadata": {},
   "outputs": [
    {
     "name": "stdout",
     "output_type": "stream",
     "text": [
      "\u001b[35mEpoch: \u001b[36m1/5 \u001b[35mTrain steps: \u001b[36m1500 \u001b[35mVal steps: \u001b[36m375 \u001b[32m7.91s \u001b[35mloss:\u001b[94m 0.354099\u001b[35m My accuracy name:\u001b[94m 88.662500\u001b[35m My f1 name:\u001b[94m 0.886625\u001b[35m val_loss:\u001b[94m 0.086341\u001b[35m val_My accuracy name:\u001b[94m 97.300000\u001b[35m val_My f1 name:\u001b[94m 0.973000\u001b[0m\n",
      "\u001b[35mEpoch: \u001b[36m2/5 \u001b[35mTrain steps: \u001b[36m1500 \u001b[35mVal steps: \u001b[36m375 \u001b[32m7.68s \u001b[35mloss:\u001b[94m 0.125351\u001b[35m My accuracy name:\u001b[94m 96.183333\u001b[35m My f1 name:\u001b[94m 0.961833\u001b[35m val_loss:\u001b[94m 0.057793\u001b[35m val_My accuracy name:\u001b[94m 98.266667\u001b[35m val_My f1 name:\u001b[94m 0.982667\u001b[0m\n",
      "\u001b[35mEpoch: \u001b[36m3/5 \u001b[35mTrain steps: \u001b[36m1500 \u001b[35mVal steps: \u001b[36m375 \u001b[32m7.91s \u001b[35mloss:\u001b[94m 0.097752\u001b[35m My accuracy name:\u001b[94m 97.050000\u001b[35m My f1 name:\u001b[94m 0.970500\u001b[35m val_loss:\u001b[94m 0.052885\u001b[35m val_My accuracy name:\u001b[94m 98.500000\u001b[35m val_My f1 name:\u001b[94m 0.985000\u001b[0m\n",
      "\u001b[35mEpoch: \u001b[36m4/5 \u001b[35mTrain steps: \u001b[36m1500 \u001b[35mVal steps: \u001b[36m375 \u001b[32m8.08s \u001b[35mloss:\u001b[94m 0.083571\u001b[35m My accuracy name:\u001b[94m 97.454167\u001b[35m My f1 name:\u001b[94m 0.974542\u001b[35m val_loss:\u001b[94m 0.050879\u001b[35m val_My accuracy name:\u001b[94m 98.475000\u001b[35m val_My f1 name:\u001b[94m 0.984750\u001b[0m\n",
      "\u001b[35mEpoch: \u001b[36m5/5 \u001b[35mTrain steps: \u001b[36m1500 \u001b[35mVal steps: \u001b[36m375 \u001b[32m8.03s \u001b[35mloss:\u001b[94m 0.073961\u001b[35m My accuracy name:\u001b[94m 97.739583\u001b[35m My f1 name:\u001b[94m 0.977396\u001b[35m val_loss:\u001b[94m 0.043142\u001b[35m val_My accuracy name:\u001b[94m 98.700000\u001b[35m val_My f1 name:\u001b[94m 0.987000\u001b[0m\n",
      "\u001b[35mTest steps: \u001b[36m313 \u001b[32m0.99s \u001b[35mtest_loss:\u001b[94m 0.031091\u001b[35m test_My accuracy name:\u001b[94m 98.930000\u001b[35m test_My f1 name:\u001b[94m 0.989300\u001b[0m               \n"
     ]
    }
   ],
   "source": [
    "# Instantiating our network\n",
    "network = create_network()\n",
    "\n",
    "# Poutyne Model on GPU\n",
    "model = Model(network, optimizer, loss_function,\n",
    "              batch_metrics=[(\"My accuracy name\", 'accuracy')],\n",
    "              epoch_metrics=[(\"My f1 name\", 'f1')],\n",
    "              device=device)\n",
    "\n",
    "# Train\n",
    "model.fit_generator(train_loader, valid_loader, epochs=num_epochs)\n",
    "\n",
    "# Test\n",
    "test_loss, (test_acc, test_f1) = model.evaluate_generator(test_loader)"
   ]
  },
  {
   "cell_type": "markdown",
   "metadata": {},
   "source": [
    "## Multi-GPUs\n",
    "\n",
    "Finally, it's also possible to use multi-GPUs for your training either by specifying a list of devices or using the arg `\"all\"` to take them all.\n",
    "\n",
    "> Obviously, you need more than one GPUs for that option.\n",
    "\n",
    "In our case here, multi-gpus takes more time because the task is not big enough to profit from multi-gpus."
   ]
  },
  {
   "cell_type": "code",
   "execution_count": 25,
   "metadata": {},
   "outputs": [
    {
     "name": "stdout",
     "output_type": "stream",
     "text": [
      "\u001b[35mEpoch: \u001b[36m1/5 \u001b[35mTrain steps: \u001b[36m1500 \u001b[35mVal steps: \u001b[36m375 \u001b[32m17.00s \u001b[35mloss:\u001b[94m 0.364252\u001b[35m acc:\u001b[94m 88.235417\u001b[35m val_loss:\u001b[94m 0.085155\u001b[35m val_acc:\u001b[94m 97.458333\u001b[0m\n",
      "\u001b[35mEpoch: \u001b[36m2/5 \u001b[35mTrain steps: \u001b[36m1500 \u001b[35mVal steps: \u001b[36m375 \u001b[32m13.68s \u001b[35mloss:\u001b[94m 0.121587\u001b[35m acc:\u001b[94m 96.331250\u001b[35m val_loss:\u001b[94m 0.060322\u001b[35m val_acc:\u001b[94m 98.183333\u001b[0m\n",
      "\u001b[35mEpoch: \u001b[36m3/5 \u001b[35mTrain steps: \u001b[36m1500 \u001b[35mVal steps: \u001b[36m375 \u001b[32m13.66s \u001b[35mloss:\u001b[94m 0.094449\u001b[35m acc:\u001b[94m 97.193750\u001b[35m val_loss:\u001b[94m 0.053570\u001b[35m val_acc:\u001b[94m 98.375000\u001b[0m\n",
      "\u001b[35mEpoch: \u001b[36m4/5 \u001b[35mTrain steps: \u001b[36m1500 \u001b[35mVal steps: \u001b[36m375 \u001b[32m13.60s \u001b[35mloss:\u001b[94m 0.080947\u001b[35m acc:\u001b[94m 97.633333\u001b[35m val_loss:\u001b[94m 0.045832\u001b[35m val_acc:\u001b[94m 98.700000\u001b[0m\n",
      "\u001b[35mEpoch: \u001b[36m5/5 \u001b[35mTrain steps: \u001b[36m1500 \u001b[35mVal steps: \u001b[36m375 \u001b[32m13.82s \u001b[35mloss:\u001b[94m 0.072224\u001b[35m acc:\u001b[94m 97.760417\u001b[35m val_loss:\u001b[94m 0.042439\u001b[35m val_acc:\u001b[94m 98.750000\u001b[0m\n"
     ]
    },
    {
     "data": {
      "text/plain": [
       "[{'epoch': 1,\n",
       "  'loss': 0.3642516027536864,\n",
       "  'time': 17.00069876294583,\n",
       "  'acc': 88.23541666666667,\n",
       "  'val_loss': 0.08515502402248482,\n",
       "  'val_acc': 97.45833333333333},\n",
       " {'epoch': 2,\n",
       "  'loss': 0.12158718129402647,\n",
       "  'time': 13.684815986081958,\n",
       "  'acc': 96.33125,\n",
       "  'val_loss': 0.06032236566596354,\n",
       "  'val_acc': 98.18333333333334},\n",
       " {'epoch': 3,\n",
       "  'loss': 0.09444938493948818,\n",
       "  'time': 13.658660827204585,\n",
       "  'acc': 97.19375,\n",
       "  'val_loss': 0.05356967293145135,\n",
       "  'val_acc': 98.375},\n",
       " {'epoch': 4,\n",
       "  'loss': 0.08094733673124574,\n",
       "  'time': 13.596006898209453,\n",
       "  'acc': 97.63333333333334,\n",
       "  'val_loss': 0.04583202180735922,\n",
       "  'val_acc': 98.7},\n",
       " {'epoch': 5,\n",
       "  'loss': 0.07222401596867713,\n",
       "  'time': 13.818883433938026,\n",
       "  'acc': 97.76041666666667,\n",
       "  'val_loss': 0.04243871802262341,\n",
       "  'val_acc': 98.75}]"
      ]
     },
     "execution_count": 25,
     "metadata": {},
     "output_type": "execute_result"
    }
   ],
   "source": [
    "# Instantiating our network\n",
    "network = create_network()\n",
    "\n",
    "# Poutyne Model on GPU\n",
    "model = Model(network, optimizer, loss_function, \n",
    "              batch_metrics=['accuracy'],\n",
    "              device=\"all\")\n",
    "\n",
    "# Train\n",
    "model.fit_generator(train_loader, valid_loader, epochs=num_epochs)"
   ]
  },
  {
   "cell_type": "code",
   "execution_count": null,
   "metadata": {},
   "outputs": [],
   "source": []
  }
 ],
 "metadata": {
  "accelerator": "GPU",
  "kernelspec": {
   "display_name": "Python 3",
   "language": "python",
   "name": "python3"
  },
  "language_info": {
   "codemirror_mode": {
    "name": "ipython",
    "version": 3
   },
   "file_extension": ".py",
   "mimetype": "text/x-python",
   "name": "python",
   "nbconvert_exporter": "python",
   "pygments_lexer": "ipython3",
   "version": "3.8.5"
  }
 },
 "nbformat": 4,
 "nbformat_minor": 1
}
