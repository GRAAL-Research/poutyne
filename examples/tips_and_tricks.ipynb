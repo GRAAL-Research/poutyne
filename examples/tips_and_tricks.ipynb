{
 "cells": [
  {
   "cell_type": "markdown",
   "metadata": {},
   "source": [
    "# Poutyne's Tips and Tricks\n",
    "\n",
    "Poutyne offers a variety of tools for fine-tuning the information generated during the training, such as colouring the training update message, a progress bar, multi-GPUs, user callbacks interface and a user naming interface for the metrics' names. \n",
    "\n",
    "Let's install the latest version of Poutyne and colorama (if they are not already), and import all the needed packages."
   ]
  },
  {
   "cell_type": "code",
   "execution_count": 1,
   "metadata": {},
   "outputs": [],
   "source": [
    "%pip install --upgrade poutyne\n",
    "%pip install --upgrade colorama\n",
    "%matplotlib inline\n",
    "import os\n",
    "import math\n",
    "import shutil\n",
    "\n",
    "import matplotlib.pyplot as plt\n",
    "import numpy as np\n",
    "from sklearn.metrics import roc_auc_score\n",
    "import torch\n",
    "import torch.nn as nn\n",
    "import torch.optim as optim\n",
    "from torch.utils.data import random_split, DataLoader\n",
    "from torchvision import transforms, utils\n",
    "from torchvision.datasets.mnist import MNIST\n",
    "\n",
    "from poutyne import set_seeds, Model, ModelCheckpoint, CSVLogger, Callback, Experiment, SKLearnMetrics"
   ]
  },
  {
   "cell_type": "markdown",
   "metadata": {},
   "source": [
    "## Hyperparameters, Dataset and Network\n",
    "\n",
    "In this section, we setup the hyperparameters, dataset and network we will use throughout these tips and tricks. "
   ]
  },
  {
   "cell_type": "markdown",
   "metadata": {},
   "source": [
    "### Training Constants\n",
    "\n",
    "Now, let's set our training constants. We first have the CUDA device used for training if one is present. Second, we set the `train_split` to 0.8 (80%) to use 80% of the dataset for training and 20% for testing the trained model. Third, we set the number of classes (i.e. one for each digit). Finally, we set the batch size (i.e. the number of elements to see before updating the model), the learning rate for the optimizer, and the number of epochs (i.e. the number of times we see the full dataset)."
   ]
  },
  {
   "cell_type": "code",
   "execution_count": 2,
   "metadata": {},
   "outputs": [],
   "source": [
    "cuda_device = 0\n",
    "device = torch.device(\"cuda:%d\" % cuda_device if torch.cuda.is_available() else \"cpu\")\n",
    "\n",
    "train_split_percent = 0.8\n",
    "\n",
    "num_classes = 10\n",
    "\n",
    "batch_size = 32\n",
    "learning_rate = 0.1\n",
    "num_epochs = 5"
   ]
  },
  {
   "cell_type": "markdown",
   "metadata": {},
   "source": [
    "In Poutyne, as we will see in the following sections, you can define your own loss functions and optimizers. However, we can also pass magic strings to use PyTorch's standard optimizers and loss functions. Furthermore, for the optimizer, we can also use a dictionary to set other parameters as the learning rate, for instance, if we don't want the default learning rate.\n",
    "\n",
    "Here, we initialize the dictionary for our optimizer as well as the string for our loss function. We thus use SGD with the specified learning rate and the cross-entropy loss."
   ]
  },
  {
   "cell_type": "code",
   "execution_count": 3,
   "metadata": {},
   "outputs": [],
   "source": [
    "optimizer = dict(optim='sgd', lr=learning_rate)  # Could be 'sgd' if we didn't need to change the learning rate.\n",
    "loss_function = 'cross_entropy'"
   ]
  },
  {
   "cell_type": "markdown",
   "metadata": {},
   "source": [
    "### Loading the Dataset\n",
    "\n",
    "The following code helps load the MNIST dataset and creates the PyTorch DataLoaders that split our datasets into batches. Then, the train DataLoader shuffles the examples of the training dataset to draw the examples without replacement."
   ]
  },
  {
   "cell_type": "code",
   "execution_count": 4,
   "metadata": {},
   "outputs": [],
   "source": [
    "full_train_dataset = MNIST('./datasets', train=True, download=True, transform=transforms.ToTensor())\n",
    "test_dataset = MNIST('./datasets', train=False, download=True, transform=transforms.ToTensor())\n",
    "\n",
    "num_data = len(full_train_dataset)\n",
    "train_length = int(math.floor(train_split_percent * num_data))\n",
    "valid_length = num_data - train_length\n",
    "\n",
    "train_dataset, valid_dataset = random_split(\n",
    "    full_train_dataset,\n",
    "    [train_length, valid_length],\n",
    "    generator=torch.Generator().manual_seed(42),\n",
    ")\n",
    "\n",
    "train_loader = DataLoader(train_dataset, batch_size=batch_size, num_workers=2, shuffle=True)\n",
    "valid_loader = DataLoader(valid_dataset, batch_size=batch_size, num_workers=2)\n",
    "test_loader = DataLoader(test_dataset, batch_size=batch_size, num_workers=2)"
   ]
  },
  {
   "cell_type": "code",
   "execution_count": 5,
   "metadata": {},
   "outputs": [
    {
     "data": {
      "text/plain": [
       "(48000, 12000)"
      ]
     },
     "execution_count": 5,
     "metadata": {},
     "output_type": "execute_result"
    }
   ],
   "source": [
    "len(train_dataset), len(valid_dataset)"
   ]
  },
  {
   "cell_type": "markdown",
   "metadata": {},
   "source": [
    "### Initializing the Network\n",
    "\n",
    "We create a fonction to initialize a simple convolutional neural network."
   ]
  },
  {
   "cell_type": "code",
   "execution_count": 6,
   "metadata": {},
   "outputs": [],
   "source": [
    "def create_network():\n",
    "    return nn.Sequential(\n",
    "        nn.Conv2d(in_channels=1, out_channels=16, kernel_size=3, padding=1),\n",
    "        nn.ReLU(),\n",
    "        nn.MaxPool2d(2),\n",
    "        nn.Conv2d(in_channels=16, out_channels=32, kernel_size=3, padding=1),\n",
    "        nn.ReLU(),\n",
    "        nn.MaxPool2d(2),\n",
    "        nn.Dropout(0.25),\n",
    "        nn.Flatten(),\n",
    "        nn.Linear(32 * 7 * 7, 128),\n",
    "        nn.ReLU(),\n",
    "        nn.Dropout(0.5),\n",
    "        nn.Linear(128, num_classes),\n",
    "    )"
   ]
  },
  {
   "cell_type": "markdown",
   "metadata": {},
   "source": [
    "## Vanilla Usage\n",
    "\n",
    "The following code trains our network in the simplest way possible with Poutyne. We use the accuracy metric so that we can see the performance during training."
   ]
  },
  {
   "cell_type": "code",
   "execution_count": 7,
   "metadata": {},
   "outputs": [
    {
     "name": "stdout",
     "output_type": "stream",
     "text": [
      "\u001b[35mEpoch: \u001b[36m1/5 \u001b[35mTrain steps: \u001b[36m1500 \u001b[35mVal steps: \u001b[36m375 \u001b[32m6.07s \u001b[35mloss:\u001b[94m 0.361972\u001b[35m acc:\u001b[94m 88.356250\u001b[35m val_loss:\u001b[94m 0.087303\u001b[35m val_acc:\u001b[94m 97.441667\u001b[0m\n",
      "\u001b[35mEpoch: \u001b[36m2/5 \u001b[35mTrain steps: \u001b[36m1500 \u001b[35mVal steps: \u001b[36m375 \u001b[32m6.16s \u001b[35mloss:\u001b[94m 0.134901\u001b[35m acc:\u001b[94m 95.941667\u001b[35m val_loss:\u001b[94m 0.067312\u001b[35m val_acc:\u001b[94m 97.991667\u001b[0m\n",
      "\u001b[35mEpoch: \u001b[36m3/5 \u001b[35mTrain steps: \u001b[36m1500 \u001b[35mVal steps: \u001b[36m375 \u001b[32m5.82s \u001b[35mloss:\u001b[94m 0.100921\u001b[35m acc:\u001b[94m 97.014583\u001b[35m val_loss:\u001b[94m 0.058147\u001b[35m val_acc:\u001b[94m 98.308333\u001b[0m\n",
      "\u001b[35mEpoch: \u001b[36m4/5 \u001b[35mTrain steps: \u001b[36m1500 \u001b[35mVal steps: \u001b[36m375 \u001b[32m5.82s \u001b[35mloss:\u001b[94m 0.085242\u001b[35m acc:\u001b[94m 97.443750\u001b[35m val_loss:\u001b[94m 0.044614\u001b[35m val_acc:\u001b[94m 98.683333\u001b[0m\n",
      "\u001b[35mEpoch: \u001b[36m5/5 \u001b[35mTrain steps: \u001b[36m1500 \u001b[35mVal steps: \u001b[36m375 \u001b[32m6.29s \u001b[35mloss:\u001b[94m 0.077132\u001b[35m acc:\u001b[94m 97.727083\u001b[35m val_loss:\u001b[94m 0.045989\u001b[35m val_acc:\u001b[94m 98.725000\u001b[0m\n",
      "\u001b[35mTest steps: \u001b[36m313 \u001b[32m0.71s \u001b[35mtest_loss:\u001b[94m 0.036373\u001b[35m test_acc:\u001b[94m 98.810000\u001b[0m                                                   \n"
     ]
    }
   ],
   "source": [
    "# Instantiating our network\n",
    "network = create_network()\n",
    "\n",
    "# Poutyne Model on GPU\n",
    "model = Model(\n",
    "    network,\n",
    "    optimizer,\n",
    "    loss_function,\n",
    "    batch_metrics=['accuracy'],\n",
    "    device=device,\n",
    ")\n",
    "\n",
    "# Train\n",
    "model.fit_generator(train_loader, valid_loader, epochs=num_epochs)\n",
    "\n",
    "# Test\n",
    "test_loss, test_acc = model.evaluate_generator(test_loader)"
   ]
  },
  {
   "cell_type": "markdown",
   "metadata": {},
   "source": [
    "## Initilalizing Your Optimizer and Loss Function Yourself\n",
    "\n",
    "Instead of using magic strings for the optimizer and the loss function, it's quite easy to initialize your own and pass them to Poutyne."
   ]
  },
  {
   "cell_type": "code",
   "execution_count": 8,
   "metadata": {},
   "outputs": [
    {
     "name": "stdout",
     "output_type": "stream",
     "text": [
      "\u001b[35mEpoch: \u001b[36m1/5 \u001b[35mTrain steps: \u001b[36m1500 \u001b[35mVal steps: \u001b[36m375 \u001b[32m6.02s \u001b[35mloss:\u001b[94m 0.352180\u001b[35m acc:\u001b[94m 88.787500\u001b[35m val_loss:\u001b[94m 0.106241\u001b[35m val_acc:\u001b[94m 96.541667\u001b[0m\n",
      "\u001b[35mEpoch: \u001b[36m2/5 \u001b[35mTrain steps: \u001b[36m1500 \u001b[35mVal steps: \u001b[36m375 \u001b[32m6.06s \u001b[35mloss:\u001b[94m 0.130747\u001b[35m acc:\u001b[94m 96.018750\u001b[35m val_loss:\u001b[94m 0.061103\u001b[35m val_acc:\u001b[94m 98.250000\u001b[0m\n",
      "\u001b[35mEpoch: \u001b[36m3/5 \u001b[35mTrain steps: \u001b[36m1500 \u001b[35mVal steps: \u001b[36m375 \u001b[32m6.10s \u001b[35mloss:\u001b[94m 0.101365\u001b[35m acc:\u001b[94m 96.920833\u001b[35m val_loss:\u001b[94m 0.055351\u001b[35m val_acc:\u001b[94m 98.400000\u001b[0m\n",
      "\u001b[35mEpoch: \u001b[36m4/5 \u001b[35mTrain steps: \u001b[36m1500 \u001b[35mVal steps: \u001b[36m375 \u001b[32m6.12s \u001b[35mloss:\u001b[94m 0.085372\u001b[35m acc:\u001b[94m 97.429167\u001b[35m val_loss:\u001b[94m 0.048014\u001b[35m val_acc:\u001b[94m 98.566667\u001b[0m\n",
      "\u001b[35mEpoch: \u001b[36m5/5 \u001b[35mTrain steps: \u001b[36m1500 \u001b[35mVal steps: \u001b[36m375 \u001b[32m6.20s \u001b[35mloss:\u001b[94m 0.075207\u001b[35m acc:\u001b[94m 97.758333\u001b[35m val_loss:\u001b[94m 0.042446\u001b[35m val_acc:\u001b[94m 98.725000\u001b[0m\n",
      "\u001b[35mTest steps: \u001b[36m313 \u001b[32m0.74s \u001b[35mtest_loss:\u001b[94m 0.032898\u001b[35m test_acc:\u001b[94m 98.900000\u001b[0m                                                   \n"
     ]
    }
   ],
   "source": [
    "# Instantiating our network\n",
    "network = create_network()\n",
    "\n",
    "# Instantiating our loss function and optimizer\n",
    "own_optimizer = optim.SGD(network.parameters(), lr=learning_rate)\n",
    "own_loss_function = nn.CrossEntropyLoss()\n",
    "\n",
    "# Poutyne Model on GPU\n",
    "model = Model(\n",
    "    network,\n",
    "    own_optimizer,\n",
    "    own_loss_function,\n",
    "    batch_metrics=['accuracy'],\n",
    "    device=device,\n",
    ")\n",
    "\n",
    "# Train\n",
    "model.fit_generator(train_loader, valid_loader, epochs=num_epochs)\n",
    "\n",
    "# Test\n",
    "test_loss, test_acc = model.evaluate_generator(test_loader)"
   ]
  },
  {
   "cell_type": "markdown",
   "metadata": {},
   "source": [
    "## Bypassing PyTorch DataLoaders\n",
    "\n",
    "Above, we defined DataLoaders for our datasets. However, with Poutyne, it is not strictly necessary since it provides the [`fit_dataset`](https://poutyne.org/model.html#poutyne.Model.fit_dataset) and [`evaluate_dataset`](https://poutyne.org/model.html#poutyne.Model.evaluate_dataset) methods to which you can pass the necessary parameters such as the batch size. Under the hood, Poutyne initializes the DataLoaders for you."
   ]
  },
  {
   "cell_type": "code",
   "execution_count": 9,
   "metadata": {
    "scrolled": false
   },
   "outputs": [
    {
     "name": "stdout",
     "output_type": "stream",
     "text": [
      "\u001b[35mEpoch: \u001b[36m1/5 \u001b[35mTrain steps: \u001b[36m1500 \u001b[35mVal steps: \u001b[36m375 \u001b[32m6.05s \u001b[35mloss:\u001b[94m 0.352229\u001b[35m acc:\u001b[94m 88.495833\u001b[35m val_loss:\u001b[94m 0.082042\u001b[35m val_acc:\u001b[94m 97.383333\u001b[0m\n",
      "\u001b[35mEpoch: \u001b[36m2/5 \u001b[35mTrain steps: \u001b[36m1500 \u001b[35mVal steps: \u001b[36m375 \u001b[32m6.27s \u001b[35mloss:\u001b[94m 0.119815\u001b[35m acc:\u001b[94m 96.275000\u001b[35m val_loss:\u001b[94m 0.063403\u001b[35m val_acc:\u001b[94m 98.025000\u001b[0m\n",
      "\u001b[35mEpoch: \u001b[36m3/5 \u001b[35mTrain steps: \u001b[36m1500 \u001b[35mVal steps: \u001b[36m375 \u001b[32m6.15s \u001b[35mloss:\u001b[94m 0.095047\u001b[35m acc:\u001b[94m 97.112500\u001b[35m val_loss:\u001b[94m 0.049626\u001b[35m val_acc:\u001b[94m 98.450000\u001b[0m\n",
      "\u001b[35mEpoch: \u001b[36m4/5 \u001b[35mTrain steps: \u001b[36m1500 \u001b[35mVal steps: \u001b[36m375 \u001b[32m6.05s \u001b[35mloss:\u001b[94m 0.080510\u001b[35m acc:\u001b[94m 97.600000\u001b[35m val_loss:\u001b[94m 0.050516\u001b[35m val_acc:\u001b[94m 98.500000\u001b[0m\n",
      "\u001b[35mEpoch: \u001b[36m5/5 \u001b[35mTrain steps: \u001b[36m1500 \u001b[35mVal steps: \u001b[36m375 \u001b[32m6.14s \u001b[35mloss:\u001b[94m 0.069013\u001b[35m acc:\u001b[94m 97.877083\u001b[35m val_loss:\u001b[94m 0.049061\u001b[35m val_acc:\u001b[94m 98.608333\u001b[0m\n",
      "\u001b[35mTest steps: \u001b[36m313 \u001b[32m0.71s \u001b[35mtest_loss:\u001b[94m 0.033449\u001b[35m test_acc:\u001b[94m 98.940000\u001b[0m                                                   \n"
     ]
    }
   ],
   "source": [
    "# Instantiating our network\n",
    "network = create_network()\n",
    "\n",
    "# Poutyne Model on GPU\n",
    "model = Model(\n",
    "    network,\n",
    "    optimizer,\n",
    "    loss_function,\n",
    "    batch_metrics=['accuracy'],\n",
    "    device=device,\n",
    ")\n",
    "\n",
    "# Train\n",
    "model.fit_dataset(\n",
    "    train_dataset,\n",
    "    valid_dataset,\n",
    "    epochs=num_epochs,\n",
    "    batch_size=batch_size,\n",
    "    num_workers=2,\n",
    ")\n",
    "\n",
    "# Test\n",
    "test_loss, test_acc = model.evaluate_dataset(\n",
    "    test_dataset,\n",
    "    batch_size=batch_size,\n",
    "    num_workers=2,\n",
    ")"
   ]
  },
  {
   "cell_type": "markdown",
   "metadata": {
    "pycharm": {
     "name": "#%% md\n"
    }
   },
   "source": [
    "## Using Callbacks\n",
    "\n",
    "One nice feature of Poutyne is [callbacks](https://poutyne.org/callbacks.html). Callbacks allow doing actions during the training of the neural network. In the following example, we use three callbacks. The first that saves the latest weights in a file to be able to continue the optimization at the end of training if more epochs are needed. The second that saves the best weights according to the performance on the validation dataset. The last that saves the displayed logs into a TSV file."
   ]
  },
  {
   "cell_type": "code",
   "execution_count": 10,
   "metadata": {
    "pycharm": {
     "name": "#%%\n"
    }
   },
   "outputs": [],
   "source": [
    "# Saves everything into saves/convnet_mnist\n",
    "save_path = \"saves/convnet_mnist\"\n",
    "os.makedirs(save_path, exist_ok=True)\n",
    "\n",
    "callbacks = [\n",
    "    # Save the latest weights to be able to continue the optimization at the end for more epochs.\n",
    "    ModelCheckpoint(os.path.join(save_path, 'last_epoch.ckpt')),\n",
    "    # Save the weights in a new file when the current model is better than all previous models.\n",
    "    ModelCheckpoint(\n",
    "        os.path.join(save_path, 'best_epoch_{epoch}.ckpt'),\n",
    "        monitor='val_acc',\n",
    "        mode='max',\n",
    "        save_best_only=True,\n",
    "        restore_best=True,\n",
    "        verbose=True,\n",
    "    ),\n",
    "    # Save the losses and accuracies for each epoch in a TSV.\n",
    "    CSVLogger(os.path.join(save_path, 'log.tsv'), separator='\\t'),\n",
    "]"
   ]
  },
  {
   "cell_type": "code",
   "execution_count": 11,
   "metadata": {},
   "outputs": [
    {
     "name": "stdout",
     "output_type": "stream",
     "text": [
      "\u001b[35mEpoch: \u001b[36m1/5 \u001b[35mTrain steps: \u001b[36m1500 \u001b[35mVal steps: \u001b[36m375 \u001b[32m5.94s \u001b[35mloss:\u001b[94m 0.383525\u001b[35m acc:\u001b[94m 87.658333\u001b[35m val_loss:\u001b[94m 0.096297\u001b[35m val_acc:\u001b[94m 97.116667\u001b[0m\n",
      "Epoch 1: val_acc improved from -inf to 97.11667, saving file to saves/convnet_mnist/best_epoch_1.ckpt\n",
      "\u001b[35mEpoch: \u001b[36m2/5 \u001b[35mTrain steps: \u001b[36m1500 \u001b[35mVal steps: \u001b[36m375 \u001b[32m6.06s \u001b[35mloss:\u001b[94m 0.128864\u001b[35m acc:\u001b[94m 96.072917\u001b[35m val_loss:\u001b[94m 0.068194\u001b[35m val_acc:\u001b[94m 97.925000\u001b[0m\n",
      "Epoch 2: val_acc improved from 97.11667 to 97.92500, saving file to saves/convnet_mnist/best_epoch_2.ckpt\n",
      "\u001b[35mEpoch: \u001b[36m3/5 \u001b[35mTrain steps: \u001b[36m1500 \u001b[35mVal steps: \u001b[36m375 \u001b[32m6.27s \u001b[35mloss:\u001b[94m 0.100207\u001b[35m acc:\u001b[94m 97.066667\u001b[35m val_loss:\u001b[94m 0.054465\u001b[35m val_acc:\u001b[94m 98.408333\u001b[0m\n",
      "Epoch 3: val_acc improved from 97.92500 to 98.40833, saving file to saves/convnet_mnist/best_epoch_3.ckpt\n",
      "\u001b[35mEpoch: \u001b[36m4/5 \u001b[35mTrain steps: \u001b[36m1500 \u001b[35mVal steps: \u001b[36m375 \u001b[32m6.18s \u001b[35mloss:\u001b[94m 0.084217\u001b[35m acc:\u001b[94m 97.504167\u001b[35m val_loss:\u001b[94m 0.049870\u001b[35m val_acc:\u001b[94m 98.491667\u001b[0m\n",
      "Epoch 4: val_acc improved from 98.40833 to 98.49167, saving file to saves/convnet_mnist/best_epoch_4.ckpt\n",
      "\u001b[35mEpoch: \u001b[36m5/5 \u001b[35mTrain steps: \u001b[36m1500 \u001b[35mVal steps: \u001b[36m375 \u001b[32m5.99s \u001b[35mloss:\u001b[94m 0.074849\u001b[35m acc:\u001b[94m 97.731250\u001b[35m val_loss:\u001b[94m 0.044819\u001b[35m val_acc:\u001b[94m 98.600000\u001b[0m\n",
      "Epoch 5: val_acc improved from 98.49167 to 98.60000, saving file to saves/convnet_mnist/best_epoch_5.ckpt\n",
      "Restoring model from saves/convnet_mnist/best_epoch_5.ckpt\n",
      "\u001b[35mTest steps: \u001b[36m313 \u001b[32m0.70s \u001b[35mtest_loss:\u001b[94m 0.034130\u001b[35m test_acc:\u001b[94m 98.900000\u001b[0m                                                   \n"
     ]
    }
   ],
   "source": [
    "# Instantiating our network\n",
    "network = create_network()\n",
    "\n",
    "# Poutyne Model on GPU\n",
    "model = Model(\n",
    "    network,\n",
    "    optimizer,\n",
    "    loss_function,\n",
    "    batch_metrics=['accuracy'],\n",
    "    device=device,\n",
    ")\n",
    "\n",
    "# Train\n",
    "model.fit_generator(train_loader, valid_loader, epochs=num_epochs, callbacks=callbacks)\n",
    "\n",
    "# Test\n",
    "test_loss, test_acc = model.evaluate_generator(test_loader)"
   ]
  },
  {
   "cell_type": "markdown",
   "metadata": {
    "pycharm": {
     "name": "#%% md\n"
    }
   },
   "source": [
    "## Making Your Own Callback\n",
    "\n",
    "While Poutyne provides a great number of [predefined callbacks](https://poutyne.org/callbacks.html), it is sometimes useful to make your own callback.\n",
    "\n",
    "In the following example, we want to see the effect of temperature on the optimization of our neural network. To do so, we either increase or decrease the temperature during the optimization. As one can see in the result, temperature either as no effect or has a detrimental effect on the performance of the neural network. This is so because the temperature has for effect to artificially changing the learning rates. Since we have found the right learning rate, increasing or decreasing, it shows no improvement on the results."
   ]
  },
  {
   "cell_type": "code",
   "execution_count": 12,
   "metadata": {},
   "outputs": [],
   "source": [
    "class CrossEntropyLossWithTemperature(nn.Module):\n",
    "    \"\"\"\n",
    "    This loss module is the cross-entropy loss function\n",
    "    with temperature. It divides the logits by a temperature\n",
    "    value before computing the cross-entropy loss.\n",
    "\n",
    "    Args:\n",
    "        initial_temperature (float): The initial value of the temperature.\n",
    "    \"\"\"\n",
    "\n",
    "    def __init__(self, initial_temperature):\n",
    "        super().__init__()\n",
    "        self.temperature = initial_temperature\n",
    "        self.celoss = nn.CrossEntropyLoss()\n",
    "\n",
    "    def forward(self, y_pred, y_true):\n",
    "        y_pred = y_pred / self.temperature\n",
    "        return self.celoss(y_pred, y_true)"
   ]
  },
  {
   "cell_type": "code",
   "execution_count": 13,
   "metadata": {
    "pycharm": {
     "name": "#%%\n"
    }
   },
   "outputs": [],
   "source": [
    "class TemperatureCallback(Callback):\n",
    "    \"\"\"\n",
    "    This callback multiply the loss temperature with a decay before\n",
    "    each batch.\n",
    "\n",
    "    Args:\n",
    "        celoss_with_temp (CrossEntropyLossWithTemperature): the loss module.\n",
    "        decay (float): The value of the temperature decay.\n",
    "    \"\"\"\n",
    "\n",
    "    def __init__(self, celoss_with_temp, decay):\n",
    "        super().__init__()\n",
    "        self.celoss_with_temp = celoss_with_temp\n",
    "        self.decay = decay\n",
    "\n",
    "    def on_train_batch_begin(self, batch, logs):\n",
    "        self.celoss_with_temp.temperature *= self.decay"
   ]
  },
  {
   "cell_type": "markdown",
   "metadata": {
    "pycharm": {
     "name": "#%% md\n"
    }
   },
   "source": [
    "So our loss function will be the cross-entropy with temperature with an initial temperature of `0.1` and a temperature decay of `1.0008`."
   ]
  },
  {
   "cell_type": "code",
   "execution_count": 14,
   "metadata": {
    "pycharm": {
     "name": "#%%\n"
    }
   },
   "outputs": [],
   "source": [
    "custom_loss_function = CrossEntropyLossWithTemperature(0.1)\n",
    "callbacks = [TemperatureCallback(custom_loss_function, 1.0008)]"
   ]
  },
  {
   "cell_type": "markdown",
   "metadata": {
    "pycharm": {
     "name": "#%% md\n"
    }
   },
   "source": [
    "Now let's test our training loop for one epoch using the accuracy as the batch metric."
   ]
  },
  {
   "cell_type": "code",
   "execution_count": 15,
   "metadata": {},
   "outputs": [
    {
     "name": "stdout",
     "output_type": "stream",
     "text": [
      "\u001b[35mEpoch: \u001b[36m1/5 \u001b[35mTrain steps: \u001b[36m1500 \u001b[35mVal steps: \u001b[36m375 \u001b[32m6.24s \u001b[35mloss:\u001b[94m 0.395715\u001b[35m acc:\u001b[94m 87.560417\u001b[35m val_loss:\u001b[94m 0.085003\u001b[35m val_acc:\u001b[94m 97.516667\u001b[0m\n",
      "\u001b[35mEpoch: \u001b[36m2/5 \u001b[35mTrain steps: \u001b[36m1500 \u001b[35mVal steps: \u001b[36m375 \u001b[32m6.26s \u001b[35mloss:\u001b[94m 0.133953\u001b[35m acc:\u001b[94m 96.075000\u001b[35m val_loss:\u001b[94m 0.075043\u001b[35m val_acc:\u001b[94m 97.825000\u001b[0m\n",
      "\u001b[35mEpoch: \u001b[36m3/5 \u001b[35mTrain steps: \u001b[36m1500 \u001b[35mVal steps: \u001b[36m375 \u001b[32m6.16s \u001b[35mloss:\u001b[94m 0.107138\u001b[35m acc:\u001b[94m 96.885417\u001b[35m val_loss:\u001b[94m 0.058533\u001b[35m val_acc:\u001b[94m 98.233333\u001b[0m\n",
      "\u001b[35mEpoch: \u001b[36m4/5 \u001b[35mTrain steps: \u001b[36m1500 \u001b[35mVal steps: \u001b[36m375 \u001b[32m6.26s \u001b[35mloss:\u001b[94m 0.107013\u001b[35m acc:\u001b[94m 96.916667\u001b[35m val_loss:\u001b[94m 0.061053\u001b[35m val_acc:\u001b[94m 98.266667\u001b[0m\n",
      "\u001b[35mEpoch: \u001b[36m5/5 \u001b[35mTrain steps: \u001b[36m1500 \u001b[35mVal steps: \u001b[36m375 \u001b[32m6.34s \u001b[35mloss:\u001b[94m 0.124850\u001b[35m acc:\u001b[94m 96.572917\u001b[35m val_loss:\u001b[94m 0.077240\u001b[35m val_acc:\u001b[94m 97.975000\u001b[0m\n",
      "\u001b[35mTest steps: \u001b[36m313 \u001b[32m0.73s \u001b[35mtest_loss:\u001b[94m 0.065244\u001b[35m test_acc:\u001b[94m 98.200000\u001b[0m                                                   \n"
     ]
    }
   ],
   "source": [
    "# Instantiating our network\n",
    "network = create_network()\n",
    "\n",
    "# Poutyne Model on GPU\n",
    "model = Model(\n",
    "    network,\n",
    "    optimizer,\n",
    "    custom_loss_function,\n",
    "    batch_metrics=['accuracy'],\n",
    "    device=device,\n",
    ")\n",
    "\n",
    "# Train\n",
    "model.fit_generator(train_loader, valid_loader, epochs=num_epochs, callbacks=callbacks)\n",
    "\n",
    "# Test\n",
    "test_loss, test_acc = model.evaluate_generator(test_loader)"
   ]
  },
  {
   "cell_type": "markdown",
   "metadata": {},
   "source": [
    "## Using Experiment\n",
    "\n",
    "Most of the time, when using Poutyne (or even PyTorch in general), we will find ourselves in an iterative model hyperparameters finetuning loop. For efficient model search, we will usually wish to save our best performing models, their training and testing statistics and even sometimes wish to retrain an already trained model for further tuning. All of the above can be easily implemented with the flexibility of Poutyne Callbacks, but having to define and initialize each and every Callback object we wish for our model quickly feels cumbersome.\n",
    "\n",
    "This is why Poutyne provides an [Experiment class](https://poutyne.org/experiment.html), which aims specifically at enabling quick model iteration search, while not sacrificing the quality of a single experiment - statistics logging, best models saving, etc. Experiment is actually a simple wrapper between a PyTorch network and Poutyne's core Callback objects for logging and saving. Given a working directory where to output the various logging files and a PyTorch network, the Experiment class reduces the whole training loop to a single line.\n",
    "\n",
    "The following code uses [Poutyne's Experiment class](https://poutyne.org/experiment.html) to train a network for 5 epochs. The code is quite simpler than the code in the Poutyne Callbacks section while doing more (only a few lines). Once trained for 5 epochs, it is then possible to resume the optimization at the 5th epoch for 5 more epochs until the 10th epoch using the same function."
   ]
  },
  {
   "cell_type": "code",
   "execution_count": 16,
   "metadata": {},
   "outputs": [],
   "source": [
    "def experiment_train(network, name, epochs=5):\n",
    "    \"\"\"\n",
    "    This function creates a Poutyne Experiment, trains the input module\n",
    "    on the train loader and then tests its performance on the test loader.\n",
    "    All training and testing statistics are saved, as well as best model\n",
    "    checkpoints.\n",
    "\n",
    "    Args:\n",
    "        network (torch.nn.Module): The neural network to train.\n",
    "        working_directory (str): The directory where to output files to save.\n",
    "        epochs (int): The number of epochs. (Default: 5)\n",
    "    \"\"\"\n",
    "    # Everything is going to be saved in ./saves/{name}.\n",
    "    save_path = os.path.join('saves', name)\n",
    "\n",
    "    # Poutyne Experiment\n",
    "    expt = Experiment(\n",
    "        save_path,\n",
    "        network,\n",
    "        optimizer=optimizer,\n",
    "        task='classif',\n",
    "        device=device,\n",
    "    )\n",
    "\n",
    "    # Train\n",
    "    expt.train(train_loader, valid_loader, epochs=epochs)\n",
    "\n",
    "    # Test\n",
    "    expt.test(test_loader)"
   ]
  },
  {
   "cell_type": "markdown",
   "metadata": {},
   "source": [
    "Let's first remove the output directory if it exists so that we start training from scratch."
   ]
  },
  {
   "cell_type": "code",
   "execution_count": 17,
   "metadata": {},
   "outputs": [],
   "source": [
    "shutil.rmtree('saves/convnet_mnist_experiment', ignore_errors=True)"
   ]
  },
  {
   "cell_type": "markdown",
   "metadata": {},
   "source": [
    "Let's train for 5 epochs."
   ]
  },
  {
   "cell_type": "code",
   "execution_count": 18,
   "metadata": {},
   "outputs": [
    {
     "name": "stdout",
     "output_type": "stream",
     "text": [
      "\u001b[35mEpoch: \u001b[36m1/5 \u001b[35mTrain steps: \u001b[36m1500 \u001b[35mVal steps: \u001b[36m375 \u001b[32m7.58s \u001b[35mloss:\u001b[94m 0.379637\u001b[35m acc:\u001b[94m 87.677083\u001b[35m fscore_micro:\u001b[94m 0.876771\u001b[35m val_loss:\u001b[94m 0.084187\u001b[35m val_acc:\u001b[94m 97.358333\u001b[35m val_fscore_micro:\u001b[94m 0.973583\u001b[0m\n",
      "Epoch 1: val_acc improved from -inf to 97.35833, saving file to saves/convnet_mnist_experiment/checkpoint_epoch_1.ckpt\n",
      "\u001b[35mEpoch: \u001b[36m2/5 \u001b[35mTrain steps: \u001b[36m1500 \u001b[35mVal steps: \u001b[36m375 \u001b[32m8.12s \u001b[35mloss:\u001b[94m 0.125676\u001b[35m acc:\u001b[94m 96.160417\u001b[35m fscore_micro:\u001b[94m 0.961604\u001b[35m val_loss:\u001b[94m 0.060368\u001b[35m val_acc:\u001b[94m 98.191667\u001b[35m val_fscore_micro:\u001b[94m 0.981917\u001b[0m\n",
      "Epoch 2: val_acc improved from 97.35833 to 98.19167, saving file to saves/convnet_mnist_experiment/checkpoint_epoch_2.ckpt\n",
      "\u001b[35mEpoch: \u001b[36m3/5 \u001b[35mTrain steps: \u001b[36m1500 \u001b[35mVal steps: \u001b[36m375 \u001b[32m7.96s \u001b[35mloss:\u001b[94m 0.094743\u001b[35m acc:\u001b[94m 97.066667\u001b[35m fscore_micro:\u001b[94m 0.970667\u001b[35m val_loss:\u001b[94m 0.053131\u001b[35m val_acc:\u001b[94m 98.475000\u001b[35m val_fscore_micro:\u001b[94m 0.984750\u001b[0m\n",
      "Epoch 3: val_acc improved from 98.19167 to 98.47500, saving file to saves/convnet_mnist_experiment/checkpoint_epoch_3.ckpt\n",
      "\u001b[35mEpoch: \u001b[36m4/5 \u001b[35mTrain steps: \u001b[36m1500 \u001b[35mVal steps: \u001b[36m375 \u001b[32m7.60s \u001b[35mloss:\u001b[94m 0.079384\u001b[35m acc:\u001b[94m 97.604167\u001b[35m fscore_micro:\u001b[94m 0.976042\u001b[35m val_loss:\u001b[94m 0.049395\u001b[35m val_acc:\u001b[94m 98.541667\u001b[35m val_fscore_micro:\u001b[94m 0.985417\u001b[0m\n",
      "Epoch 4: val_acc improved from 98.47500 to 98.54167, saving file to saves/convnet_mnist_experiment/checkpoint_epoch_4.ckpt\n",
      "\u001b[35mEpoch: \u001b[36m5/5 \u001b[35mTrain steps: \u001b[36m1500 \u001b[35mVal steps: \u001b[36m375 \u001b[32m8.10s \u001b[35mloss:\u001b[94m 0.069202\u001b[35m acc:\u001b[94m 97.875000\u001b[35m fscore_micro:\u001b[94m 0.978750\u001b[35m val_loss:\u001b[94m 0.041774\u001b[35m val_acc:\u001b[94m 98.750000\u001b[35m val_fscore_micro:\u001b[94m 0.987500\u001b[0m\n",
      "Epoch 5: val_acc improved from 98.54167 to 98.75000, saving file to saves/convnet_mnist_experiment/checkpoint_epoch_5.ckpt\n",
      "Restoring model from saves/convnet_mnist_experiment/checkpoint_epoch_5.ckpt\n",
      "Found best checkpoint at epoch: 5\n",
      "lr: 0.1, loss: 0.069202, acc: 97.875, fscore_micro: 0.97875, val_loss: 0.0417745, val_acc: 98.75, val_fscore_micro: 0.9875\n",
      "Loading checkpoint saves/convnet_mnist_experiment/checkpoint_epoch_5.ckpt\n",
      "Running test\n",
      "\u001b[35mTest steps: \u001b[36m313 \u001b[32m0.90s \u001b[35mtest_loss:\u001b[94m 0.033221\u001b[35m test_acc:\u001b[94m 98.900000\u001b[35m test_fscore_micro:\u001b[94m 0.989000\u001b[0m             \n"
     ]
    }
   ],
   "source": [
    "network = create_network()\n",
    "experiment_train(network, 'convnet_mnist_experiment', epochs=5)"
   ]
  },
  {
   "cell_type": "markdown",
   "metadata": {},
   "source": [
    "Notice how setting `task='classif'` when instantiating `Experiment` adds for use our loss function, the batch metric accuracy, the epoch metric F1 and set up callbacks that use them. If you wish, you still can use your own loss function and metrics instead of passing this argument.\n",
    "\n",
    "We have trained for 5 epochs, let's now resume training for another 5 epochs for a total of 10 epochs. Notice that we reinstantiate the network. Experiment will load back the weights for us and resume training."
   ]
  },
  {
   "cell_type": "code",
   "execution_count": 19,
   "metadata": {
    "scrolled": false
   },
   "outputs": [
    {
     "name": "stdout",
     "output_type": "stream",
     "text": [
      "Loading weights from saves/convnet_mnist_experiment/checkpoint.ckpt and starting at epoch 6.\n",
      "Loading optimizer state from saves/convnet_mnist_experiment/checkpoint.optim and starting at epoch 6.\n",
      "\u001b[35mEpoch: \u001b[36m 6/10 \u001b[35mTrain steps: \u001b[36m1500 \u001b[35mVal steps: \u001b[36m375 \u001b[32m8.06s \u001b[35mloss:\u001b[94m 0.052389\u001b[35m acc:\u001b[94m 98.431250\u001b[35m fscore_micro:\u001b[94m 0.984312\u001b[35m val_loss:\u001b[94m 0.037236\u001b[35m val_acc:\u001b[94m 98.866667\u001b[35m val_fscore_micro:\u001b[94m 0.988667\u001b[0m\n",
      "Epoch 6: val_acc improved from 98.75000 to 98.86667, saving file to saves/convnet_mnist_experiment/checkpoint_epoch_6.ckpt\n",
      "\u001b[35mEpoch: \u001b[36m 7/10 \u001b[35mTrain steps: \u001b[36m1500 \u001b[35mVal steps: \u001b[36m375 \u001b[32m8.19s \u001b[35mloss:\u001b[94m 0.044752\u001b[35m acc:\u001b[94m 98.618750\u001b[35m fscore_micro:\u001b[94m 0.986188\u001b[35m val_loss:\u001b[94m 0.043445\u001b[35m val_acc:\u001b[94m 98.816667\u001b[35m val_fscore_micro:\u001b[94m 0.988167\u001b[0m\n",
      "\u001b[35mEpoch: \u001b[36m 8/10 \u001b[35mTrain steps: \u001b[36m1500 \u001b[35mVal steps: \u001b[36m375 \u001b[32m8.12s \u001b[35mloss:\u001b[94m 0.040014\u001b[35m acc:\u001b[94m 98.739583\u001b[35m fscore_micro:\u001b[94m 0.987396\u001b[35m val_loss:\u001b[94m 0.042200\u001b[35m val_acc:\u001b[94m 98.850000\u001b[35m val_fscore_micro:\u001b[94m 0.988500\u001b[0m\n",
      "\u001b[35mEpoch: \u001b[36m 9/10 \u001b[35mTrain steps: \u001b[36m1500 \u001b[35mVal steps: \u001b[36m375 \u001b[32m8.20s \u001b[35mloss:\u001b[94m 0.036133\u001b[35m acc:\u001b[94m 98.852083\u001b[35m fscore_micro:\u001b[94m 0.988521\u001b[35m val_loss:\u001b[94m 0.041828\u001b[35m val_acc:\u001b[94m 98.800000\u001b[35m val_fscore_micro:\u001b[94m 0.988000\u001b[0m\n",
      "\u001b[35mEpoch: \u001b[36m10/10 \u001b[35mTrain steps: \u001b[36m1500 \u001b[35mVal steps: \u001b[36m375 \u001b[32m7.83s \u001b[35mloss:\u001b[94m 0.033650\u001b[35m acc:\u001b[94m 98.902083\u001b[35m fscore_micro:\u001b[94m 0.989021\u001b[35m val_loss:\u001b[94m 0.038637\u001b[35m val_acc:\u001b[94m 98.941667\u001b[35m val_fscore_micro:\u001b[94m 0.989417\u001b[0m\n",
      "Epoch 10: val_acc improved from 98.86667 to 98.94167, saving file to saves/convnet_mnist_experiment/checkpoint_epoch_10.ckpt\n",
      "Restoring model from saves/convnet_mnist_experiment/checkpoint_epoch_10.ckpt\n",
      "Found best checkpoint at epoch: 10\n",
      "lr: 0.1, loss: 0.03365, acc: 98.9021, fscore_micro: 0.989021, val_loss: 0.0386373, val_acc: 98.9417, val_fscore_micro: 0.989417\n",
      "Loading checkpoint saves/convnet_mnist_experiment/checkpoint_epoch_10.ckpt\n",
      "Running test\n",
      "\u001b[35mTest steps: \u001b[36m313 \u001b[32m0.96s \u001b[35mtest_loss:\u001b[94m 0.028896\u001b[35m test_acc:\u001b[94m 99.130000\u001b[35m test_fscore_micro:\u001b[94m 0.991300\u001b[0m             \n"
     ]
    }
   ],
   "source": [
    "network = create_network()\n",
    "experiment_train(network, 'convnet_mnist_experiment', epochs=10)"
   ]
  },
  {
   "cell_type": "markdown",
   "metadata": {
    "pycharm": {
     "name": "#%% md\n"
    }
   },
   "source": [
    "## Coloring\n",
    "\n",
    "Also, Poutyne use by default a coloring template of the training step when the package `colorama` is installed.\n",
    "One could either remove the coloring (`progress_options=dict(coloring=False)`) or set a different coloring template using the fields:\n",
    "`text_color`, `ratio_color`, `metric_value_color`, `time_color` and `progress_bar_color`.\n",
    "If a field is not specified, the default color will be used.\n",
    "[See available colors in colorama's source code](https://github.com/tartley/colorama/blob/9946cfb/colorama/ansi.py#L49).\n",
    "\n",
    "Here an example where we set the `text_color` to RED and the `progress_bar_color` to LIGHTGREEN_EX."
   ]
  },
  {
   "cell_type": "code",
   "execution_count": 20,
   "metadata": {},
   "outputs": [],
   "source": [
    "progress_options = dict(coloring=dict(text_color=\"RED\", progress_bar_color=\"LIGHTGREEN_EX\"))"
   ]
  },
  {
   "cell_type": "code",
   "execution_count": 21,
   "metadata": {
    "pycharm": {
     "name": "#%%\n"
    }
   },
   "outputs": [
    {
     "name": "stdout",
     "output_type": "stream",
     "text": [
      "\u001b[31mEpoch: \u001b[36m1/5 \u001b[31mTrain steps: \u001b[36m1500 \u001b[31mVal steps: \u001b[36m375 \u001b[32m6.18s \u001b[31mloss:\u001b[94m 0.372028\u001b[31m acc:\u001b[94m 88.018750\u001b[31m val_loss:\u001b[94m 0.089478\u001b[31m val_acc:\u001b[94m 97.208333\u001b[0m\n",
      "\u001b[31mEpoch: \u001b[36m2/5 \u001b[31mTrain steps: \u001b[36m1500 \u001b[31mVal steps: \u001b[36m375 \u001b[32m5.92s \u001b[31mloss:\u001b[94m 0.131184\u001b[31m acc:\u001b[94m 95.979167\u001b[31m val_loss:\u001b[94m 0.064974\u001b[31m val_acc:\u001b[94m 98.041667\u001b[0m\n",
      "\u001b[31mEpoch: \u001b[36m3/5 \u001b[31mTrain steps: \u001b[36m1500 \u001b[31mVal steps: \u001b[36m375 \u001b[32m6.19s \u001b[31mloss:\u001b[94m 0.103582\u001b[31m acc:\u001b[94m 96.820833\u001b[31m val_loss:\u001b[94m 0.053344\u001b[31m val_acc:\u001b[94m 98.458333\u001b[0m\n",
      "\u001b[31mEpoch: \u001b[36m4/5 \u001b[31mTrain steps: \u001b[36m1500 \u001b[31mVal steps: \u001b[36m375 \u001b[32m5.96s \u001b[31mloss:\u001b[94m 0.085685\u001b[31m acc:\u001b[94m 97.425000\u001b[31m val_loss:\u001b[94m 0.054837\u001b[31m val_acc:\u001b[94m 98.291667\u001b[0m\n",
      "\u001b[31mEpoch: \u001b[36m5/5 \u001b[31mTrain steps: \u001b[36m1500 \u001b[31mVal steps: \u001b[36m375 \u001b[32m6.25s \u001b[31mloss:\u001b[94m 0.075787\u001b[31m acc:\u001b[94m 97.735417\u001b[31m val_loss:\u001b[94m 0.047432\u001b[31m val_acc:\u001b[94m 98.625000\u001b[0m\n",
      "\u001b[31mTest steps: \u001b[36m313 \u001b[32m0.72s \u001b[31mtest_loss:\u001b[94m 0.034735\u001b[31m test_acc:\u001b[94m 98.830000\u001b[0m                                                   \n"
     ]
    }
   ],
   "source": [
    "# Instantiating our network\n",
    "network = create_network()\n",
    "\n",
    "# Poutyne Model on GPU\n",
    "model = Model(\n",
    "    network,\n",
    "    optimizer,\n",
    "    loss_function,\n",
    "    batch_metrics=['accuracy'],\n",
    "    device=device,\n",
    ")\n",
    "\n",
    "# Train\n",
    "model.fit_generator(\n",
    "    train_loader,\n",
    "    valid_loader,\n",
    "    epochs=num_epochs,\n",
    "    progress_options=progress_options,\n",
    ")\n",
    "\n",
    "# Test\n",
    "test_loss, test_acc = model.evaluate_generator(\n",
    "    test_loader,\n",
    "    progress_options=progress_options,\n",
    ")"
   ]
  },
  {
   "cell_type": "markdown",
   "metadata": {},
   "source": [
    "## Epoch Metrics\n",
    "\n",
    "It's also possible to used epoch metrics such as [`F1-score`](https://poutyne.org/metrics.html#poutyne.FBeta). You could also define your own epoch metric using the [`EpochMetric`](https://poutyne.org/metrics.html#epoch-metric-interface) interface."
   ]
  },
  {
   "cell_type": "code",
   "execution_count": 22,
   "metadata": {},
   "outputs": [
    {
     "name": "stdout",
     "output_type": "stream",
     "text": [
      "\u001b[35mEpoch: \u001b[36m1/5 \u001b[35mTrain steps: \u001b[36m1500 \u001b[35mVal steps: \u001b[36m375 \u001b[32m7.97s \u001b[35mloss:\u001b[94m 0.375144\u001b[35m acc:\u001b[94m 87.718750\u001b[35m fscore_micro:\u001b[94m 0.877187\u001b[35m val_loss:\u001b[94m 0.087457\u001b[35m val_acc:\u001b[94m 97.316667\u001b[35m val_fscore_micro:\u001b[94m 0.973167\u001b[0m\n",
      "\u001b[35mEpoch: \u001b[36m2/5 \u001b[35mTrain steps: \u001b[36m1500 \u001b[35mVal steps: \u001b[36m375 \u001b[32m8.06s \u001b[35mloss:\u001b[94m 0.129188\u001b[35m acc:\u001b[94m 96.072917\u001b[35m fscore_micro:\u001b[94m 0.960729\u001b[35m val_loss:\u001b[94m 0.062854\u001b[35m val_acc:\u001b[94m 98.250000\u001b[35m val_fscore_micro:\u001b[94m 0.982500\u001b[0m\n",
      "\u001b[35mEpoch: \u001b[36m3/5 \u001b[35mTrain steps: \u001b[36m1500 \u001b[35mVal steps: \u001b[36m375 \u001b[32m7.96s \u001b[35mloss:\u001b[94m 0.098542\u001b[35m acc:\u001b[94m 97.060417\u001b[35m fscore_micro:\u001b[94m 0.970604\u001b[35m val_loss:\u001b[94m 0.048471\u001b[35m val_acc:\u001b[94m 98.675000\u001b[35m val_fscore_micro:\u001b[94m 0.986750\u001b[0m\n",
      "\u001b[35mEpoch: \u001b[36m4/5 \u001b[35mTrain steps: \u001b[36m1500 \u001b[35mVal steps: \u001b[36m375 \u001b[32m7.97s \u001b[35mloss:\u001b[94m 0.086430\u001b[35m acc:\u001b[94m 97.366667\u001b[35m fscore_micro:\u001b[94m 0.973667\u001b[35m val_loss:\u001b[94m 0.046291\u001b[35m val_acc:\u001b[94m 98.633333\u001b[35m val_fscore_micro:\u001b[94m 0.986333\u001b[0m\n",
      "\u001b[35mEpoch: \u001b[36m5/5 \u001b[35mTrain steps: \u001b[36m1500 \u001b[35mVal steps: \u001b[36m375 \u001b[32m7.99s \u001b[35mloss:\u001b[94m 0.073769\u001b[35m acc:\u001b[94m 97.752083\u001b[35m fscore_micro:\u001b[94m 0.977521\u001b[35m val_loss:\u001b[94m 0.044213\u001b[35m val_acc:\u001b[94m 98.716667\u001b[35m val_fscore_micro:\u001b[94m 0.987167\u001b[0m\n",
      "\u001b[35mTest steps: \u001b[36m313 \u001b[32m0.89s \u001b[35mtest_loss:\u001b[94m 0.032697\u001b[35m test_acc:\u001b[94m 98.830000\u001b[35m test_fscore_micro:\u001b[94m 0.988300\u001b[0m             \n"
     ]
    }
   ],
   "source": [
    "# Instantiating our network\n",
    "network = create_network()\n",
    "\n",
    "# Poutyne Model on GPU\n",
    "model = Model(\n",
    "    network,\n",
    "    optimizer,\n",
    "    loss_function,\n",
    "    batch_metrics=['accuracy'],\n",
    "    epoch_metrics=['f1'],\n",
    "    device=device,\n",
    ")\n",
    "\n",
    "# Train\n",
    "model.fit_generator(train_loader, valid_loader, epochs=num_epochs)\n",
    "\n",
    "# Test\n",
    "test_loss, (test_acc, test_f1) = model.evaluate_generator(test_loader)"
   ]
  },
  {
   "cell_type": "markdown",
   "metadata": {},
   "source": [
    "Furthermore, you could also use the [`SKLearnMetrics`](https://poutyne.org/metrics.html#poutyne.SKLearnMetrics) wrapper to wrap a Scikit-learn metric as an epoch metric. Below, we show how to compute the AUC ROC using the [`SKLearnMetrics`](https://poutyne.org/metrics.html#poutyne.SKLearnMetrics) class."
   ]
  },
  {
   "cell_type": "code",
   "execution_count": 23,
   "metadata": {},
   "outputs": [],
   "source": [
    "def softmax(x, axis=1):\n",
    "    \"\"\"\n",
    "    Compute softmax function.\n",
    "    \"\"\"\n",
    "    e_x = np.exp(x - x.max(axis=axis, keepdims=True))\n",
    "    return e_x / e_x.sum(axis=axis, keepdims=True)\n",
    "\n",
    "\n",
    "def roc_auc(y_true, y_pred, **kwargs):\n",
    "    \"\"\"\n",
    "    Since the `roc_auc_score` from Scikit-learn requires normalized probabilities,\n",
    "    we use the softmax function on the predictions.\n",
    "    \"\"\"\n",
    "    y_pred = softmax(y_pred)\n",
    "    return roc_auc_score(y_true, y_pred, **kwargs)\n",
    "\n",
    "\n",
    "# kwargs are keyword arguments we wish to pass to roc_auc.\n",
    "roc_epoch_metric = SKLearnMetrics(roc_auc, kwargs=dict(multi_class='ovr', average='macro'))"
   ]
  },
  {
   "cell_type": "code",
   "execution_count": 24,
   "metadata": {},
   "outputs": [
    {
     "name": "stdout",
     "output_type": "stream",
     "text": [
      "\u001b[35mEpoch: \u001b[36m1/5 \u001b[35mTrain steps: \u001b[36m1500 \u001b[35mVal steps: \u001b[36m375 \u001b[32m8.42s \u001b[35mloss:\u001b[94m 0.376383\u001b[35m acc:\u001b[94m 87.625000\u001b[35m fscore_micro:\u001b[94m 0.876250\u001b[35m roc_auc:\u001b[94m 0.991113\u001b[35m val_loss:\u001b[94m 0.087053\u001b[35m val_acc:\u001b[94m 97.366667\u001b[35m val_fscore_micro:\u001b[94m 0.973667\u001b[35m val_roc_auc:\u001b[94m 0.999423\u001b[0m\n",
      "\u001b[35mEpoch: \u001b[36m2/5 \u001b[35mTrain steps: \u001b[36m1500 \u001b[35mVal steps: \u001b[36m375 \u001b[32m8.45s \u001b[35mloss:\u001b[94m 0.127255\u001b[35m acc:\u001b[94m 96.158333\u001b[35m fscore_micro:\u001b[94m 0.961583\u001b[35m roc_auc:\u001b[94m 0.998681\u001b[35m val_loss:\u001b[94m 0.064747\u001b[35m val_acc:\u001b[94m 97.991667\u001b[35m val_fscore_micro:\u001b[94m 0.979917\u001b[35m val_roc_auc:\u001b[94m 0.999660\u001b[0m\n",
      "\u001b[35mEpoch: \u001b[36m3/5 \u001b[35mTrain steps: \u001b[36m1500 \u001b[35mVal steps: \u001b[36m375 \u001b[32m8.00s \u001b[35mloss:\u001b[94m 0.096615\u001b[35m acc:\u001b[94m 97.085417\u001b[35m fscore_micro:\u001b[94m 0.970854\u001b[35m roc_auc:\u001b[94m 0.999214\u001b[35m val_loss:\u001b[94m 0.055131\u001b[35m val_acc:\u001b[94m 98.308333\u001b[35m val_fscore_micro:\u001b[94m 0.983083\u001b[35m val_roc_auc:\u001b[94m 0.999734\u001b[0m\n",
      "\u001b[35mEpoch: \u001b[36m4/5 \u001b[35mTrain steps: \u001b[36m1500 \u001b[35mVal steps: \u001b[36m375 \u001b[32m8.17s \u001b[35mloss:\u001b[94m 0.082269\u001b[35m acc:\u001b[94m 97.470833\u001b[35m fscore_micro:\u001b[94m 0.974708\u001b[35m roc_auc:\u001b[94m 0.999394\u001b[35m val_loss:\u001b[94m 0.064558\u001b[35m val_acc:\u001b[94m 98.183333\u001b[35m val_fscore_micro:\u001b[94m 0.981833\u001b[35m val_roc_auc:\u001b[94m 0.999668\u001b[0m\n",
      "\u001b[35mEpoch: \u001b[36m5/5 \u001b[35mTrain steps: \u001b[36m1500 \u001b[35mVal steps: \u001b[36m375 \u001b[32m8.31s \u001b[35mloss:\u001b[94m 0.073760\u001b[35m acc:\u001b[94m 97.800000\u001b[35m fscore_micro:\u001b[94m 0.978000\u001b[35m roc_auc:\u001b[94m 0.999499\u001b[35m val_loss:\u001b[94m 0.042955\u001b[35m val_acc:\u001b[94m 98.775000\u001b[35m val_fscore_micro:\u001b[94m 0.987750\u001b[35m val_roc_auc:\u001b[94m 0.999813\u001b[0m\n",
      "\u001b[35mTest steps: \u001b[36m313 \u001b[32m1.02s \u001b[35mtest_loss:\u001b[94m 0.031269\u001b[35m test_acc:\u001b[94m 98.920000\u001b[35m test_fscore_micro:\u001b[94m 0.989200\u001b[35m test_roc_auc:\u001b[94m 0.999930\u001b[0m\n"
     ]
    }
   ],
   "source": [
    "# Instantiating our network\n",
    "network = create_network()\n",
    "\n",
    "# Poutyne Model on GPU\n",
    "model = Model(\n",
    "    network,\n",
    "    optimizer,\n",
    "    loss_function,\n",
    "    batch_metrics=['accuracy'],\n",
    "    epoch_metrics=['f1', roc_epoch_metric],\n",
    "    device=device,\n",
    ")\n",
    "\n",
    "# Train\n",
    "model.fit_generator(train_loader, valid_loader, epochs=num_epochs)\n",
    "\n",
    "# Test\n",
    "test_loss, (test_acc, test_f1, test_roc) = model.evaluate_generator(test_loader)"
   ]
  },
  {
   "cell_type": "markdown",
   "metadata": {},
   "source": [
    "## Custom Metric Names\n",
    "\n",
    "It's also possible to name the metric using a tuple format `(<metric name>, metric)`. That way, it's possible to use multiple times the same metric type (i.e. having micro and macro F1-score)."
   ]
  },
  {
   "cell_type": "code",
   "execution_count": 25,
   "metadata": {},
   "outputs": [
    {
     "name": "stdout",
     "output_type": "stream",
     "text": [
      "\u001b[35mEpoch: \u001b[36m1/5 \u001b[35mTrain steps: \u001b[36m1500 \u001b[35mVal steps: \u001b[36m375 \u001b[32m8.32s \u001b[35mloss:\u001b[94m 0.353638\u001b[35m My accuracy name:\u001b[94m 88.616667\u001b[35m My f1 name:\u001b[94m 0.886167\u001b[35m val_loss:\u001b[94m 0.089077\u001b[35m val_My accuracy name:\u001b[94m 97.308333\u001b[35m val_My f1 name:\u001b[94m 0.973083\u001b[0m\n",
      "\u001b[35mEpoch: \u001b[36m2/5 \u001b[35mTrain steps: \u001b[36m1500 \u001b[35mVal steps: \u001b[36m375 \u001b[32m7.95s \u001b[35mloss:\u001b[94m 0.126063\u001b[35m My accuracy name:\u001b[94m 96.206250\u001b[35m My f1 name:\u001b[94m 0.962062\u001b[35m val_loss:\u001b[94m 0.059756\u001b[35m val_My accuracy name:\u001b[94m 98.141667\u001b[35m val_My f1 name:\u001b[94m 0.981417\u001b[0m\n",
      "\u001b[35mEpoch: \u001b[36m3/5 \u001b[35mTrain steps: \u001b[36m1500 \u001b[35mVal steps: \u001b[36m375 \u001b[32m8.18s \u001b[35mloss:\u001b[94m 0.098228\u001b[35m My accuracy name:\u001b[94m 96.991667\u001b[35m My f1 name:\u001b[94m 0.969917\u001b[35m val_loss:\u001b[94m 0.053443\u001b[35m val_My accuracy name:\u001b[94m 98.391667\u001b[35m val_My f1 name:\u001b[94m 0.983917\u001b[0m\n",
      "\u001b[35mEpoch: \u001b[36m4/5 \u001b[35mTrain steps: \u001b[36m1500 \u001b[35mVal steps: \u001b[36m375 \u001b[32m8.02s \u001b[35mloss:\u001b[94m 0.082435\u001b[35m My accuracy name:\u001b[94m 97.437500\u001b[35m My f1 name:\u001b[94m 0.974375\u001b[35m val_loss:\u001b[94m 0.051137\u001b[35m val_My accuracy name:\u001b[94m 98.458333\u001b[35m val_My f1 name:\u001b[94m 0.984583\u001b[0m\n",
      "\u001b[35mEpoch: \u001b[36m5/5 \u001b[35mTrain steps: \u001b[36m1500 \u001b[35mVal steps: \u001b[36m375 \u001b[32m8.14s \u001b[35mloss:\u001b[94m 0.073525\u001b[35m My accuracy name:\u001b[94m 97.816667\u001b[35m My f1 name:\u001b[94m 0.978167\u001b[35m val_loss:\u001b[94m 0.040368\u001b[35m val_My accuracy name:\u001b[94m 98.766667\u001b[35m val_My f1 name:\u001b[94m 0.987667\u001b[0m\n",
      "\u001b[35mTest steps: \u001b[36m313 \u001b[32m0.88s \u001b[35mtest_loss:\u001b[94m 0.029605\u001b[35m test_My accuracy name:\u001b[94m 99.090000\u001b[35m test_My f1 name:\u001b[94m 0.990900\u001b[0m               \n"
     ]
    }
   ],
   "source": [
    "# Instantiating our network\n",
    "network = create_network()\n",
    "\n",
    "# Poutyne Model on GPU\n",
    "model = Model(\n",
    "    network,\n",
    "    optimizer,\n",
    "    loss_function,\n",
    "    batch_metrics=[(\"My accuracy name\", 'accuracy')],\n",
    "    epoch_metrics=[(\"My f1 name\", 'f1')],\n",
    "    device=device,\n",
    ")\n",
    "\n",
    "# Train\n",
    "model.fit_generator(train_loader, valid_loader, epochs=num_epochs)\n",
    "\n",
    "# Test\n",
    "test_loss, (test_acc, test_f1) = model.evaluate_generator(test_loader)"
   ]
  },
  {
   "cell_type": "markdown",
   "metadata": {},
   "source": [
    "## Multi-GPUs\n",
    "\n",
    "Finally, it's also possible to use multi-GPUs for your training either by specifying a list of devices or using the arg `\"all\"` to take them all.\n",
    "\n",
    "> Obviously, you need more than one GPUs for that option.\n",
    "\n",
    "In our case here, multi-gpus takes more time because the task is not big enough to profit from multi-gpus."
   ]
  },
  {
   "cell_type": "code",
   "execution_count": 26,
   "metadata": {},
   "outputs": [
    {
     "name": "stdout",
     "output_type": "stream",
     "text": [
      "\u001b[35mEpoch: \u001b[36m1/5 \u001b[35mTrain steps: \u001b[36m1500 \u001b[35mVal steps: \u001b[36m375 \u001b[32m16.84s \u001b[35mloss:\u001b[94m 0.363681\u001b[35m acc:\u001b[94m 88.293750\u001b[35m val_loss:\u001b[94m 0.089468\u001b[35m val_acc:\u001b[94m 97.200000\u001b[0m\n",
      "\u001b[35mEpoch: \u001b[36m2/5 \u001b[35mTrain steps: \u001b[36m1500 \u001b[35mVal steps: \u001b[36m375 \u001b[32m13.47s \u001b[35mloss:\u001b[94m 0.122287\u001b[35m acc:\u001b[94m 96.327083\u001b[35m val_loss:\u001b[94m 0.061055\u001b[35m val_acc:\u001b[94m 98.183333\u001b[0m\n",
      "\u001b[35mEpoch: \u001b[36m3/5 \u001b[35mTrain steps: \u001b[36m1500 \u001b[35mVal steps: \u001b[36m375 \u001b[32m13.52s \u001b[35mloss:\u001b[94m 0.094459\u001b[35m acc:\u001b[94m 97.085417\u001b[35m val_loss:\u001b[94m 0.053442\u001b[35m val_acc:\u001b[94m 98.416667\u001b[0m\n",
      "\u001b[35mEpoch: \u001b[36m4/5 \u001b[35mTrain steps: \u001b[36m1500 \u001b[35mVal steps: \u001b[36m375 \u001b[32m13.52s \u001b[35mloss:\u001b[94m 0.083207\u001b[35m acc:\u001b[94m 97.470833\u001b[35m val_loss:\u001b[94m 0.045540\u001b[35m val_acc:\u001b[94m 98.666667\u001b[0m\n",
      "\u001b[35mEpoch: \u001b[36m5/5 \u001b[35mTrain steps: \u001b[36m1500 \u001b[35mVal steps: \u001b[36m375 \u001b[32m13.43s \u001b[35mloss:\u001b[94m 0.072128\u001b[35m acc:\u001b[94m 97.743750\u001b[35m val_loss:\u001b[94m 0.045042\u001b[35m val_acc:\u001b[94m 98.725000\u001b[0m\n"
     ]
    },
    {
     "data": {
      "text/plain": [
       "[{'epoch': 1,\n",
       "  'loss': 0.36368098325654863,\n",
       "  'time': 16.836329106241465,\n",
       "  'acc': 88.29375,\n",
       "  'val_loss': 0.08946797955626001,\n",
       "  'val_acc': 97.2},\n",
       " {'epoch': 2,\n",
       "  'loss': 0.12228657090896741,\n",
       "  'time': 13.474665391258895,\n",
       "  'acc': 96.32708333333333,\n",
       "  'val_loss': 0.061055052138864994,\n",
       "  'val_acc': 98.18333333333334},\n",
       " {'epoch': 3,\n",
       "  'loss': 0.09445926585246343,\n",
       "  'time': 13.518960327841341,\n",
       "  'acc': 97.08541666666666,\n",
       "  'val_loss': 0.053441811537680524,\n",
       "  'val_acc': 98.41666666666667},\n",
       " {'epoch': 4,\n",
       "  'loss': 0.0832067237754236,\n",
       "  'time': 13.52086081309244,\n",
       "  'acc': 97.47083333333333,\n",
       "  'val_loss': 0.04553964463128553,\n",
       "  'val_acc': 98.66666666666667},\n",
       " {'epoch': 5,\n",
       "  'loss': 0.07212845032298355,\n",
       "  'time': 13.43437219504267,\n",
       "  'acc': 97.74375,\n",
       "  'val_loss': 0.04504214830510318,\n",
       "  'val_acc': 98.725}]"
      ]
     },
     "execution_count": 26,
     "metadata": {},
     "output_type": "execute_result"
    }
   ],
   "source": [
    "# Instantiating our network\n",
    "network = create_network()\n",
    "\n",
    "# Poutyne Model on GPU\n",
    "model = Model(\n",
    "    network,\n",
    "    optimizer,\n",
    "    loss_function,\n",
    "    batch_metrics=['accuracy'],\n",
    "    device=\"all\",\n",
    ")\n",
    "\n",
    "# Train\n",
    "model.fit_generator(train_loader, valid_loader, epochs=num_epochs)"
   ]
  },
  {
   "cell_type": "code",
   "execution_count": null,
   "metadata": {},
   "outputs": [],
   "source": []
  }
 ],
 "metadata": {
  "accelerator": "GPU",
  "kernelspec": {
   "display_name": "Python 3",
   "language": "python",
   "name": "python3"
  },
  "language_info": {
   "codemirror_mode": {
    "name": "ipython",
    "version": 3
   },
   "file_extension": ".py",
   "mimetype": "text/x-python",
   "name": "python",
   "nbconvert_exporter": "python",
   "pygments_lexer": "ipython3",
   "version": "3.8.10"
  }
 },
 "nbformat": 4,
 "nbformat_minor": 1
}
