{
 "cells": [
  {
   "cell_type": "code",
   "execution_count": 1,
   "metadata": {},
   "outputs": [],
   "source": [
    "%pip install --upgrade poutyne # to install lastest poutyne version, if it's not already\n",
    "import os\n",
    "import tarfile\n",
    "import urllib.request\n",
    "\n",
    "import matplotlib.pyplot as plt\n",
    "import numpy as np\n",
    "import pandas as pd\n",
    "from sklearn.model_selection import train_test_split\n",
    "import torch\n",
    "import torch.nn as nn\n",
    "import torch.optim as optim\n",
    "import torchvision.models as models\n",
    "from torch.utils import model_zoo\n",
    "from torch.utils.data import Subset, DataLoader\n",
    "from torchvision import transforms\n",
    "from torchvision.datasets import ImageFolder\n",
    "\n",
    "from poutyne import set_seeds, Model, ModelCheckpoint, CSVLogger, Experiment"
   ]
  },
  {
   "cell_type": "markdown",
   "metadata": {
    "pycharm": {
     "name": "#%% md\n"
    }
   },
   "source": [
    "Also, we need to set Pythons's, NumPy's and PyTorch's seeds by using Poutyne function so that our training is (almost) reproducible."
   ]
  },
  {
   "cell_type": "code",
   "execution_count": 2,
   "metadata": {
    "pycharm": {
     "name": "#%%\n"
    }
   },
   "outputs": [],
   "source": [
    "set_seeds(42)"
   ]
  },
  {
   "cell_type": "markdown",
   "metadata": {},
   "source": [
    "We download the dataset."
   ]
  },
  {
   "cell_type": "code",
   "execution_count": 3,
   "metadata": {},
   "outputs": [],
   "source": [
    "def download_and_extract_dataset(path):\n",
    "    os.makedirs(path, exist_ok=True)\n",
    "    tgz_filename = os.path.join(path, \"images.tgz\")\n",
    "    \n",
    "    print(\"Downloading dataset...\")\n",
    "    urllib.request.urlretrieve(\"https://graal.ift.ulaval.ca/public/CUB200.tgz\", tgz_filename)\n",
    "    print(\"Extracting archive...\")\n",
    "    archive = tarfile.open(tgz_filename)\n",
    "    archive.extractall(path)"
   ]
  },
  {
   "cell_type": "code",
   "execution_count": 4,
   "metadata": {},
   "outputs": [
    {
     "name": "stdout",
     "output_type": "stream",
     "text": [
      "Downloading dataset...\n",
      "Extracting archive...\n"
     ]
    }
   ],
   "source": [
    "base_path = './datasets/CUB200'\n",
    "extract_dest = os.path.join(base_path, 'images')\n",
    "download_and_extract_dataset(base_path)"
   ]
  },
  {
   "cell_type": "markdown",
   "metadata": {},
   "source": [
    "We create our dataset object."
   ]
  },
  {
   "cell_type": "code",
   "execution_count": 5,
   "metadata": {},
   "outputs": [],
   "source": [
    "norm_coefs = {}\n",
    "norm_coefs['cub200'] = [(0.47421962,  0.4914721 ,  0.42382449), (0.22846779,  0.22387765,  0.26495799)]\n",
    "norm_coefs['imagenet'] = [(0.485, 0.456, 0.406), (0.229, 0.224, 0.225)]\n",
    "transform = transforms.Compose([\n",
    "    transforms.Resize((224,224)),\n",
    "    transforms.ToTensor(),\n",
    "    transforms.Normalize(*norm_coefs['cub200'])\n",
    "])\n",
    "\n",
    "# is_valid_file removes hidden files from the dataset.\n",
    "dataset = ImageFolder(extract_dest, transform=transform, \n",
    "                      is_valid_file=lambda path: not os.path.split(path)[1].startswith('.'))"
   ]
  },
  {
   "cell_type": "markdown",
   "metadata": {
    "pycharm": {
     "name": "#%% md\n"
    }
   },
   "source": [
    "We do the split train/valid/test with a 60/20/20 split respectively. We do a *stratified* split with scikit-learn in order to get examples of every class in every split."
   ]
  },
  {
   "cell_type": "code",
   "execution_count": 6,
   "metadata": {},
   "outputs": [],
   "source": [
    "# We take 60% of the dataset for the training dataset\n",
    "train_indices, valid_test_indices = train_test_split(np.arange(len(dataset)),\n",
    "                                                     train_size=0.6,\n",
    "                                                     stratify=dataset.targets,\n",
    "                                                     random_state=42)\n",
    "# We take 20% for the validation dataset and 20% for the test dataset\n",
    "# (i.e. 50% of the remaining 40%).\n",
    "valid_indices, test_indices = train_test_split(valid_test_indices,\n",
    "                                               train_size=0.5,\n",
    "                                               stratify=np.asarray(dataset.targets)[valid_test_indices],\n",
    "                                               random_state=42)\n",
    "\n",
    "train_dataset = Subset(dataset, train_indices)\n",
    "valid_dataset = Subset(dataset, valid_indices)\n",
    "test_dataset = Subset(dataset, test_indices)"
   ]
  },
  {
   "cell_type": "markdown",
   "metadata": {
    "pycharm": {
     "name": "#%% md\n"
    }
   },
   "source": [
    "Now, let's set our training constants. We first have the CUDA device used for training if one is present. Secondly, we set the number of classes (i.e. one for each number). Finally, we set the batch size (i.e. the number of elements to see before updating the model), the learning rate for the optimizer, and the number of epochs (i.e. the number of times we see the full dataset).\n"
   ]
  },
  {
   "cell_type": "code",
   "execution_count": 7,
   "metadata": {
    "pycharm": {
     "name": "#%%\n"
    }
   },
   "outputs": [],
   "source": [
    "# Training constants\n",
    "cuda_device = 0\n",
    "device = torch.device(\"cuda:%d\" % cuda_device if torch.cuda.is_available() else \"cpu\")\n",
    "\n",
    "num_classes = 200\n",
    "batch_size = 64\n",
    "learning_rate = 0.1\n",
    "n_epoch = 30"
   ]
  },
  {
   "cell_type": "markdown",
   "metadata": {},
   "source": [
    "Creation of the PyTorch's dataloader to split our data into batches."
   ]
  },
  {
   "cell_type": "code",
   "execution_count": 8,
   "metadata": {},
   "outputs": [],
   "source": [
    "train_loader = DataLoader(train_dataset, batch_size=batch_size, num_workers=8, shuffle=True)\n",
    "valid_loader = DataLoader(valid_dataset, batch_size=batch_size, num_workers=8)\n",
    "test_loader = DataLoader(test_dataset, batch_size=batch_size, num_workers=8)"
   ]
  },
  {
   "cell_type": "markdown",
   "metadata": {},
   "source": [
    "We load a pretrained `ResNet-18` networks and replace the head with the number of neurons equal to our number of classes."
   ]
  },
  {
   "cell_type": "code",
   "execution_count": 9,
   "metadata": {
    "scrolled": false
   },
   "outputs": [],
   "source": [
    "resnet18 = models.resnet18(pretrained=True)\n",
    "resnet18.fc = nn.Linear(resnet18.fc.in_features, num_classes)"
   ]
  },
  {
   "cell_type": "markdown",
   "metadata": {},
   "source": [
    "We freeze the network except for its head."
   ]
  },
  {
   "cell_type": "code",
   "execution_count": 10,
   "metadata": {},
   "outputs": [],
   "source": [
    "def freeze_weights(resnet18):\n",
    "    for name, param in resnet18.named_parameters():\n",
    "        if not name.startswith('fc.'):\n",
    "            param.requires_grad = False\n",
    "\n",
    "freeze_weights(resnet18)"
   ]
  },
  {
   "cell_type": "markdown",
   "metadata": {
    "pycharm": {
     "name": "#%% md\n"
    }
   },
   "source": [
    "We define callbacks for saving last epoch, best epoch and logging the results."
   ]
  },
  {
   "cell_type": "code",
   "execution_count": 11,
   "metadata": {
    "pycharm": {
     "name": "#%%\n"
    }
   },
   "outputs": [],
   "source": [
    "# We are saving everything into ./saves/cub200.\n",
    "save_base_dir = 'saves'\n",
    "save_path = os.path.join(save_base_dir, 'cub200')\n",
    "os.makedirs(save_path, exist_ok=True)\n",
    "\n",
    "callbacks = [\n",
    "    # Save the latest weights to be able to resume the optimization at the end for more epochs.\n",
    "    ModelCheckpoint(os.path.join(save_path, 'last_epoch.ckpt')),\n",
    "\n",
    "    # Save the weights in a new file when the current model is better than all previous models.\n",
    "    ModelCheckpoint(os.path.join(save_path, 'best_epoch_{epoch}.ckpt'), monitor='val_acc', mode='max', \n",
    "                    save_best_only=True, restore_best=True, verbose=True),\n",
    "\n",
    "    # Save the losses and accuracies for each epoch in a TSV.\n",
    "    CSVLogger(os.path.join(save_path, 'log.tsv'), separator='\\t'),\n",
    "]"
   ]
  },
  {
   "cell_type": "markdown",
   "metadata": {},
   "source": [
    "Finally, we start the training and output its final test loss, accuracy, and micro F1-score.\n",
    "\n",
    "> Note that the F1-score is quite similar to the accuracy since the dataset is very balanced."
   ]
  },
  {
   "cell_type": "code",
   "execution_count": 12,
   "metadata": {},
   "outputs": [
    {
     "name": "stdout",
     "output_type": "stream",
     "text": [
      "\u001b[35mEpoch: \u001b[36m 1/30 \u001b[35mTrain steps: \u001b[36m57 \u001b[35mVal steps: \u001b[36m19 \u001b[32m5.26s \u001b[35mloss:\u001b[94m 4.984878\u001b[35m acc:\u001b[94m 4.614534\u001b[35m fscore_micro:\u001b[94m 0.046145\u001b[35m val_loss:\u001b[94m 4.329983\u001b[35m val_acc:\u001b[94m 10.356255\u001b[35m val_fscore_micro:\u001b[94m 0.103563\u001b[0m\n",
      "Epoch 1: val_acc improved from -inf to 10.35626, saving file to saves/cub200/best_epoch_1.ckpt\n",
      "\u001b[35mEpoch: \u001b[36m 2/30 \u001b[35mTrain steps: \u001b[36m57 \u001b[35mVal steps: \u001b[36m19 \u001b[32m5.25s \u001b[35mloss:\u001b[94m 3.730639\u001b[35m acc:\u001b[94m 23.984526\u001b[35m fscore_micro:\u001b[94m 0.239845\u001b[35m val_loss:\u001b[94m 3.651718\u001b[35m val_acc:\u001b[94m 21.209611\u001b[35m val_fscore_micro:\u001b[94m 0.212096\u001b[0m\n",
      "Epoch 2: val_acc improved from 10.35626 to 21.20961, saving file to saves/cub200/best_epoch_2.ckpt\n",
      "\u001b[35mEpoch: \u001b[36m 3/30 \u001b[35mTrain steps: \u001b[36m57 \u001b[35mVal steps: \u001b[36m19 \u001b[32m5.28s \u001b[35mloss:\u001b[94m 2.916003\u001b[35m acc:\u001b[94m 43.188726\u001b[35m fscore_micro:\u001b[94m 0.431887\u001b[35m val_loss:\u001b[94m 3.165393\u001b[35m val_acc:\u001b[94m 30.571665\u001b[35m val_fscore_micro:\u001b[94m 0.305717\u001b[0m\n",
      "Epoch 3: val_acc improved from 21.20961 to 30.57167, saving file to saves/cub200/best_epoch_3.ckpt\n",
      "\u001b[35mEpoch: \u001b[36m 4/30 \u001b[35mTrain steps: \u001b[36m57 \u001b[35mVal steps: \u001b[36m19 \u001b[32m5.14s \u001b[35mloss:\u001b[94m 2.359695\u001b[35m acc:\u001b[94m 55.457309\u001b[35m fscore_micro:\u001b[94m 0.554573\u001b[35m val_loss:\u001b[94m 2.882293\u001b[35m val_acc:\u001b[94m 34.548467\u001b[35m val_fscore_micro:\u001b[94m 0.345485\u001b[0m\n",
      "Epoch 4: val_acc improved from 30.57167 to 34.54847, saving file to saves/cub200/best_epoch_4.ckpt\n",
      "\u001b[35mEpoch: \u001b[36m 5/30 \u001b[35mTrain steps: \u001b[36m57 \u001b[35mVal steps: \u001b[36m19 \u001b[32m5.01s \u001b[35mloss:\u001b[94m 1.985980\u001b[35m acc:\u001b[94m 64.548218\u001b[35m fscore_micro:\u001b[94m 0.645482\u001b[35m val_loss:\u001b[94m 2.743506\u001b[35m val_acc:\u001b[94m 36.454018\u001b[35m val_fscore_micro:\u001b[94m 0.364540\u001b[0m\n",
      "Epoch 5: val_acc improved from 34.54847 to 36.45402, saving file to saves/cub200/best_epoch_5.ckpt\n",
      "\u001b[35mEpoch: \u001b[36m 6/30 \u001b[35mTrain steps: \u001b[36m57 \u001b[35mVal steps: \u001b[36m19 \u001b[32m5.02s \u001b[35mloss:\u001b[94m 1.687166\u001b[35m acc:\u001b[94m 71.566731\u001b[35m fscore_micro:\u001b[94m 0.715667\u001b[35m val_loss:\u001b[94m 2.572532\u001b[35m val_acc:\u001b[94m 40.347970\u001b[35m val_fscore_micro:\u001b[94m 0.403480\u001b[0m\n",
      "Epoch 6: val_acc improved from 36.45402 to 40.34797, saving file to saves/cub200/best_epoch_6.ckpt\n",
      "\u001b[35mEpoch: \u001b[36m 7/30 \u001b[35mTrain steps: \u001b[36m57 \u001b[35mVal steps: \u001b[36m19 \u001b[32m4.92s \u001b[35mloss:\u001b[94m 1.463140\u001b[35m acc:\u001b[94m 76.291793\u001b[35m fscore_micro:\u001b[94m 0.762918\u001b[35m val_loss:\u001b[94m 2.474046\u001b[35m val_acc:\u001b[94m 42.170671\u001b[35m val_fscore_micro:\u001b[94m 0.421707\u001b[0m\n",
      "Epoch 7: val_acc improved from 40.34797 to 42.17067, saving file to saves/cub200/best_epoch_7.ckpt\n",
      "\u001b[35mEpoch: \u001b[36m 8/30 \u001b[35mTrain steps: \u001b[36m57 \u001b[35mVal steps: \u001b[36m19 \u001b[32m5.15s \u001b[35mloss:\u001b[94m 1.296519\u001b[35m acc:\u001b[94m 79.856314\u001b[35m fscore_micro:\u001b[94m 0.798563\u001b[35m val_loss:\u001b[94m 2.370366\u001b[35m val_acc:\u001b[94m 43.330572\u001b[35m val_fscore_micro:\u001b[94m 0.433306\u001b[0m\n",
      "Epoch 8: val_acc improved from 42.17067 to 43.33057, saving file to saves/cub200/best_epoch_8.ckpt\n",
      "\u001b[35mEpoch: \u001b[36m 9/30 \u001b[35mTrain steps: \u001b[36m57 \u001b[35mVal steps: \u001b[36m19 \u001b[32m4.92s \u001b[35mloss:\u001b[94m 1.146529\u001b[35m acc:\u001b[94m 82.508980\u001b[35m fscore_micro:\u001b[94m 0.825090\u001b[35m val_loss:\u001b[94m 2.339533\u001b[35m val_acc:\u001b[94m 43.744822\u001b[35m val_fscore_micro:\u001b[94m 0.437448\u001b[0m\n",
      "Epoch 9: val_acc improved from 43.33057 to 43.74482, saving file to saves/cub200/best_epoch_9.ckpt\n",
      "\u001b[35mEpoch: \u001b[36m10/30 \u001b[35mTrain steps: \u001b[36m57 \u001b[35mVal steps: \u001b[36m19 \u001b[32m5.33s \u001b[35mloss:\u001b[94m 1.041320\u001b[35m acc:\u001b[94m 86.156397\u001b[35m fscore_micro:\u001b[94m 0.861564\u001b[35m val_loss:\u001b[94m 2.260914\u001b[35m val_acc:\u001b[94m 47.307374\u001b[35m val_fscore_micro:\u001b[94m 0.473074\u001b[0m\n",
      "Epoch 10: val_acc improved from 43.74482 to 47.30737, saving file to saves/cub200/best_epoch_10.ckpt\n",
      "\u001b[35mEpoch: \u001b[36m11/30 \u001b[35mTrain steps: \u001b[36m57 \u001b[35mVal steps: \u001b[36m19 \u001b[32m5.07s \u001b[35mloss:\u001b[94m 0.938370\u001b[35m acc:\u001b[94m 87.759049\u001b[35m fscore_micro:\u001b[94m 0.877590\u001b[35m val_loss:\u001b[94m 2.215440\u001b[35m val_acc:\u001b[94m 46.810273\u001b[35m val_fscore_micro:\u001b[94m 0.468103\u001b[0m\n",
      "\u001b[35mEpoch: \u001b[36m12/30 \u001b[35mTrain steps: \u001b[36m57 \u001b[35mVal steps: \u001b[36m19 \u001b[32m5.47s \u001b[35mloss:\u001b[94m 0.857947\u001b[35m acc:\u001b[94m 89.195910\u001b[35m fscore_micro:\u001b[94m 0.891959\u001b[35m val_loss:\u001b[94m 2.191947\u001b[35m val_acc:\u001b[94m 47.224523\u001b[35m val_fscore_micro:\u001b[94m 0.472245\u001b[0m\n",
      "\u001b[35mEpoch: \u001b[36m13/30 \u001b[35mTrain steps: \u001b[36m57 \u001b[35mVal steps: \u001b[36m19 \u001b[32m5.79s \u001b[35mloss:\u001b[94m 0.783668\u001b[35m acc:\u001b[94m 91.710417\u001b[35m fscore_micro:\u001b[94m 0.917104\u001b[35m val_loss:\u001b[94m 2.191301\u001b[35m val_acc:\u001b[94m 47.473074\u001b[35m val_fscore_micro:\u001b[94m 0.474731\u001b[0m\n",
      "Epoch 13: val_acc improved from 47.30737 to 47.47307, saving file to saves/cub200/best_epoch_13.ckpt\n",
      "\u001b[35mEpoch: \u001b[36m14/30 \u001b[35mTrain steps: \u001b[36m57 \u001b[35mVal steps: \u001b[36m19 \u001b[32m5.51s \u001b[35mloss:\u001b[94m 0.726757\u001b[35m acc:\u001b[94m 92.567008\u001b[35m fscore_micro:\u001b[94m 0.925670\u001b[35m val_loss:\u001b[94m 2.163284\u001b[35m val_acc:\u001b[94m 47.555924\u001b[35m val_fscore_micro:\u001b[94m 0.475559\u001b[0m\n",
      "Epoch 14: val_acc improved from 47.47307 to 47.55592, saving file to saves/cub200/best_epoch_14.ckpt\n",
      "\u001b[35mEpoch: \u001b[36m15/30 \u001b[35mTrain steps: \u001b[36m57 \u001b[35mVal steps: \u001b[36m19 \u001b[32m5.41s \u001b[35mloss:\u001b[94m 0.671790\u001b[35m acc:\u001b[94m 93.561757\u001b[35m fscore_micro:\u001b[94m 0.935618\u001b[35m val_loss:\u001b[94m 2.143682\u001b[35m val_acc:\u001b[94m 47.638774\u001b[35m val_fscore_micro:\u001b[94m 0.476388\u001b[0m\n",
      "Epoch 15: val_acc improved from 47.55592 to 47.63877, saving file to saves/cub200/best_epoch_15.ckpt\n",
      "\u001b[35mEpoch: \u001b[36m16/30 \u001b[35mTrain steps: \u001b[36m57 \u001b[35mVal steps: \u001b[36m19 \u001b[32m5.38s \u001b[35mloss:\u001b[94m 0.629114\u001b[35m acc:\u001b[94m 94.667035\u001b[35m fscore_micro:\u001b[94m 0.946670\u001b[35m val_loss:\u001b[94m 2.130498\u001b[35m val_acc:\u001b[94m 49.047224\u001b[35m val_fscore_micro:\u001b[94m 0.490472\u001b[0m\n",
      "Epoch 16: val_acc improved from 47.63877 to 49.04722, saving file to saves/cub200/best_epoch_16.ckpt\n",
      "\u001b[35mEpoch: \u001b[36m17/30 \u001b[35mTrain steps: \u001b[36m57 \u001b[35mVal steps: \u001b[36m19 \u001b[32m5.76s \u001b[35mloss:\u001b[94m 0.580824\u001b[35m acc:\u001b[94m 95.717049\u001b[35m fscore_micro:\u001b[94m 0.957170\u001b[35m val_loss:\u001b[94m 2.116311\u001b[35m val_acc:\u001b[94m 47.224524\u001b[35m val_fscore_micro:\u001b[94m 0.472245\u001b[0m\n",
      "\u001b[35mEpoch: \u001b[36m18/30 \u001b[35mTrain steps: \u001b[36m57 \u001b[35mVal steps: \u001b[36m19 \u001b[32m5.37s \u001b[35mloss:\u001b[94m 0.547148\u001b[35m acc:\u001b[94m 96.076264\u001b[35m fscore_micro:\u001b[94m 0.960763\u001b[35m val_loss:\u001b[94m 2.112233\u001b[35m val_acc:\u001b[94m 47.638774\u001b[35m val_fscore_micro:\u001b[94m 0.476388\u001b[0m\n",
      "\u001b[35mEpoch: \u001b[36m19/30 \u001b[35mTrain steps: \u001b[36m57 \u001b[35mVal steps: \u001b[36m19 \u001b[32m5.20s \u001b[35mloss:\u001b[94m 0.512744\u001b[35m acc:\u001b[94m 96.822327\u001b[35m fscore_micro:\u001b[94m 0.968223\u001b[35m val_loss:\u001b[94m 2.075002\u001b[35m val_acc:\u001b[94m 49.295775\u001b[35m val_fscore_micro:\u001b[94m 0.492958\u001b[0m\n",
      "Epoch 19: val_acc improved from 49.04722 to 49.29577, saving file to saves/cub200/best_epoch_19.ckpt\n",
      "\u001b[35mEpoch: \u001b[36m20/30 \u001b[35mTrain steps: \u001b[36m57 \u001b[35mVal steps: \u001b[36m19 \u001b[32m5.42s \u001b[35mloss:\u001b[94m 0.489004\u001b[35m acc:\u001b[94m 97.236806\u001b[35m fscore_micro:\u001b[94m 0.972368\u001b[35m val_loss:\u001b[94m 2.077726\u001b[35m val_acc:\u001b[94m 50.041425\u001b[35m val_fscore_micro:\u001b[94m 0.500414\u001b[0m\n",
      "Epoch 20: val_acc improved from 49.29577 to 50.04142, saving file to saves/cub200/best_epoch_20.ckpt\n",
      "\u001b[35mEpoch: \u001b[36m21/30 \u001b[35mTrain steps: \u001b[36m57 \u001b[35mVal steps: \u001b[36m19 \u001b[32m5.49s \u001b[35mloss:\u001b[94m 0.460475\u001b[35m acc:\u001b[94m 97.927604\u001b[35m fscore_micro:\u001b[94m 0.979276\u001b[35m val_loss:\u001b[94m 2.081020\u001b[35m val_acc:\u001b[94m 48.881524\u001b[35m val_fscore_micro:\u001b[94m 0.488815\u001b[0m\n",
      "\u001b[35mEpoch: \u001b[36m22/30 \u001b[35mTrain steps: \u001b[36m57 \u001b[35mVal steps: \u001b[36m19 \u001b[32m5.49s \u001b[35mloss:\u001b[94m 0.434759\u001b[35m acc:\u001b[94m 98.038132\u001b[35m fscore_micro:\u001b[94m 0.980381\u001b[35m val_loss:\u001b[94m 2.059778\u001b[35m val_acc:\u001b[94m 49.461475\u001b[35m val_fscore_micro:\u001b[94m 0.494615\u001b[0m\n",
      "\u001b[35mEpoch: \u001b[36m23/30 \u001b[35mTrain steps: \u001b[36m57 \u001b[35mVal steps: \u001b[36m19 \u001b[32m5.32s \u001b[35mloss:\u001b[94m 0.414827\u001b[35m acc:\u001b[94m 98.535507\u001b[35m fscore_micro:\u001b[94m 0.985355\u001b[35m val_loss:\u001b[94m 2.064994\u001b[35m val_acc:\u001b[94m 49.710025\u001b[35m val_fscore_micro:\u001b[94m 0.497100\u001b[0m\n",
      "\u001b[35mEpoch: \u001b[36m24/30 \u001b[35mTrain steps: \u001b[36m57 \u001b[35mVal steps: \u001b[36m19 \u001b[32m5.73s \u001b[35mloss:\u001b[94m 0.397676\u001b[35m acc:\u001b[94m 98.618403\u001b[35m fscore_micro:\u001b[94m 0.986184\u001b[35m val_loss:\u001b[94m 2.051294\u001b[35m val_acc:\u001b[94m 50.041425\u001b[35m val_fscore_micro:\u001b[94m 0.500414\u001b[0m\n",
      "Epoch 24: val_acc improved from 50.04142 to 50.04143, saving file to saves/cub200/best_epoch_24.ckpt\n"
     ]
    },
    {
     "name": "stdout",
     "output_type": "stream",
     "text": [
      "\u001b[35mEpoch: \u001b[36m25/30 \u001b[35mTrain steps: \u001b[36m57 \u001b[35mVal steps: \u001b[36m19 \u001b[32m5.46s \u001b[35mloss:\u001b[94m 0.379117\u001b[35m acc:\u001b[94m 98.839458\u001b[35m fscore_micro:\u001b[94m 0.988395\u001b[35m val_loss:\u001b[94m 2.049864\u001b[35m val_acc:\u001b[94m 50.372825\u001b[35m val_fscore_micro:\u001b[94m 0.503728\u001b[0m\n",
      "Epoch 25: val_acc improved from 50.04143 to 50.37283, saving file to saves/cub200/best_epoch_25.ckpt\n",
      "\u001b[35mEpoch: \u001b[36m26/30 \u001b[35mTrain steps: \u001b[36m57 \u001b[35mVal steps: \u001b[36m19 \u001b[32m5.28s \u001b[35mloss:\u001b[94m 0.355746\u001b[35m acc:\u001b[94m 99.253938\u001b[35m fscore_micro:\u001b[94m 0.992539\u001b[35m val_loss:\u001b[94m 2.050693\u001b[35m val_acc:\u001b[94m 50.041425\u001b[35m val_fscore_micro:\u001b[94m 0.500414\u001b[0m\n",
      "\u001b[35mEpoch: \u001b[36m27/30 \u001b[35mTrain steps: \u001b[36m57 \u001b[35mVal steps: \u001b[36m19 \u001b[32m5.43s \u001b[35mloss:\u001b[94m 0.346945\u001b[35m acc:\u001b[94m 99.253938\u001b[35m fscore_micro:\u001b[94m 0.992539\u001b[35m val_loss:\u001b[94m 2.038936\u001b[35m val_acc:\u001b[94m 50.372825\u001b[35m val_fscore_micro:\u001b[94m 0.503728\u001b[0m\n",
      "Epoch 27: val_acc improved from 50.37283 to 50.37283, saving file to saves/cub200/best_epoch_27.ckpt\n",
      "\u001b[35mEpoch: \u001b[36m28/30 \u001b[35mTrain steps: \u001b[36m57 \u001b[35mVal steps: \u001b[36m19 \u001b[32m5.39s \u001b[35mloss:\u001b[94m 0.330237\u001b[35m acc:\u001b[94m 99.419729\u001b[35m fscore_micro:\u001b[94m 0.994197\u001b[35m val_loss:\u001b[94m 2.027896\u001b[35m val_acc:\u001b[94m 49.710025\u001b[35m val_fscore_micro:\u001b[94m 0.497100\u001b[0m\n",
      "\u001b[35mEpoch: \u001b[36m29/30 \u001b[35mTrain steps: \u001b[36m57 \u001b[35mVal steps: \u001b[36m19 \u001b[32m5.60s \u001b[35mloss:\u001b[94m 0.317088\u001b[35m acc:\u001b[94m 99.447361\u001b[35m fscore_micro:\u001b[94m 0.994474\u001b[35m val_loss:\u001b[94m 2.044203\u001b[35m val_acc:\u001b[94m 50.041425\u001b[35m val_fscore_micro:\u001b[94m 0.500414\u001b[0m\n",
      "\u001b[35mEpoch: \u001b[36m30/30 \u001b[35mTrain steps: \u001b[36m57 \u001b[35mVal steps: \u001b[36m19 \u001b[32m5.35s \u001b[35mloss:\u001b[94m 0.312700\u001b[35m acc:\u001b[94m 99.585521\u001b[35m fscore_micro:\u001b[94m 0.995855\u001b[35m val_loss:\u001b[94m 2.036675\u001b[35m val_acc:\u001b[94m 50.207125\u001b[35m val_fscore_micro:\u001b[94m 0.502071\u001b[0m\n",
      "Restoring model from saves/cub200/best_epoch_27.ckpt\n",
      "\u001b[35mTest steps: \u001b[36m19 \u001b[32m1.78s \u001b[35mtest_loss:\u001b[94m 2.002988\u001b[35m test_acc:\u001b[94m 51.118476\u001b[35m test_fscore_micro:\u001b[94m 0.511185\u001b[0m           \n"
     ]
    }
   ],
   "source": [
    "optimizer = optim.SGD(resnet18.fc.parameters(), lr=learning_rate, weight_decay=0.001)\n",
    "loss_function = nn.CrossEntropyLoss()\n",
    "\n",
    "model = Model(resnet18, optimizer, loss_function, \n",
    "              batch_metrics=['accuracy'], epoch_metrics=['f1'],\n",
    "              device=device)\n",
    "\n",
    "model.fit_generator(train_loader, valid_loader, epochs=n_epoch, callbacks=callbacks)\n",
    "\n",
    "test_loss, (test_acc, test_f1) = model.evaluate_generator(test_loader)"
   ]
  },
  {
   "cell_type": "code",
   "execution_count": 13,
   "metadata": {
    "scrolled": false
   },
   "outputs": [
    {
     "name": "stdout",
     "output_type": "stream",
     "text": [
      "    epoch      time   lr      loss        acc  fscore_micro  val_loss  \\\n",
      "0       1  5.261212  0.1  4.984878   4.614534      0.046145  4.329983   \n",
      "1       2  5.254282  0.1  3.730639  23.984526      0.239845  3.651718   \n",
      "2       3  5.275054  0.1  2.916003  43.188726      0.431887  3.165393   \n",
      "3       4  5.139137  0.1  2.359695  55.457309      0.554573  2.882293   \n",
      "4       5  5.009642  0.1  1.985980  64.548218      0.645482  2.743506   \n",
      "5       6  5.019162  0.1  1.687166  71.566731      0.715667  2.572532   \n",
      "6       7  4.915594  0.1  1.463140  76.291793      0.762918  2.474046   \n",
      "7       8  5.151500  0.1  1.296519  79.856314      0.798563  2.370366   \n",
      "8       9  4.922735  0.1  1.146529  82.508980      0.825090  2.339533   \n",
      "9      10  5.330284  0.1  1.041320  86.156397      0.861564  2.260914   \n",
      "10     11  5.067723  0.1  0.938370  87.759049      0.877590  2.215440   \n",
      "11     12  5.465988  0.1  0.857947  89.195910      0.891959  2.191947   \n",
      "12     13  5.788359  0.1  0.783668  91.710417      0.917104  2.191301   \n",
      "13     14  5.510693  0.1  0.726757  92.567008      0.925670  2.163284   \n",
      "14     15  5.409089  0.1  0.671790  93.561757      0.935618  2.143682   \n",
      "15     16  5.383382  0.1  0.629114  94.667035      0.946670  2.130498   \n",
      "16     17  5.758362  0.1  0.580824  95.717049      0.957170  2.116311   \n",
      "17     18  5.369471  0.1  0.547148  96.076264      0.960763  2.112233   \n",
      "18     19  5.204324  0.1  0.512744  96.822327      0.968223  2.075002   \n",
      "19     20  5.417673  0.1  0.489004  97.236806      0.972368  2.077726   \n",
      "20     21  5.486404  0.1  0.460475  97.927604      0.979276  2.081020   \n",
      "21     22  5.488888  0.1  0.434759  98.038132      0.980381  2.059778   \n",
      "22     23  5.315572  0.1  0.414827  98.535507      0.985355  2.064994   \n",
      "23     24  5.730207  0.1  0.397676  98.618403      0.986184  2.051294   \n",
      "24     25  5.460709  0.1  0.379117  98.839458      0.988395  2.049864   \n",
      "25     26  5.279990  0.1  0.355746  99.253938      0.992539  2.050693   \n",
      "26     27  5.429697  0.1  0.346945  99.253938      0.992539  2.038936   \n",
      "27     28  5.394186  0.1  0.330237  99.419729      0.994197  2.027896   \n",
      "28     29  5.602181  0.1  0.317088  99.447361      0.994474  2.044203   \n",
      "29     30  5.350323  0.1  0.312700  99.585521      0.995855  2.036675   \n",
      "\n",
      "      val_acc  val_fscore_micro  \n",
      "0   10.356255          0.103563  \n",
      "1   21.209611          0.212096  \n",
      "2   30.571665          0.305717  \n",
      "3   34.548467          0.345485  \n",
      "4   36.454018          0.364540  \n",
      "5   40.347970          0.403480  \n",
      "6   42.170671          0.421707  \n",
      "7   43.330572          0.433306  \n",
      "8   43.744822          0.437448  \n",
      "9   47.307374          0.473074  \n",
      "10  46.810273          0.468103  \n",
      "11  47.224523          0.472245  \n",
      "12  47.473074          0.474731  \n",
      "13  47.555924          0.475559  \n",
      "14  47.638774          0.476388  \n",
      "15  49.047224          0.490472  \n",
      "16  47.224524          0.472245  \n",
      "17  47.638774          0.476388  \n",
      "18  49.295775          0.492958  \n",
      "19  50.041425          0.500414  \n",
      "20  48.881524          0.488815  \n",
      "21  49.461475          0.494615  \n",
      "22  49.710025          0.497100  \n",
      "23  50.041425          0.500414  \n",
      "24  50.372825          0.503728  \n",
      "25  50.041425          0.500414  \n",
      "26  50.372825          0.503728  \n",
      "27  49.710025          0.497100  \n",
      "28  50.041425          0.500414  \n",
      "29  50.207125          0.502071  \n",
      "Best epoch: 27\n"
     ]
    }
   ],
   "source": [
    "logs = pd.read_csv(os.path.join(save_path, 'log.tsv'), sep='\\t')\n",
    "print(logs)\n",
    "\n",
    "best_epoch_idx = logs['val_acc'].idxmax()\n",
    "best_epoch = int(logs.loc[best_epoch_idx]['epoch'])\n",
    "print(\"Best epoch: %d\" % best_epoch)"
   ]
  },
  {
   "cell_type": "code",
   "execution_count": 14,
   "metadata": {
    "scrolled": true
   },
   "outputs": [
    {
     "data": {
      "image/png": "[encoded data removed]",
      "text/plain": [
       "<Figure size 432x288 with 1 Axes>"
      ]
     },
     "metadata": {
      "needs_background": "light"
     },
     "output_type": "display_data"
    }
   ],
   "source": [
    "metrics = ['loss', 'val_loss']\n",
    "plt.plot(logs['epoch'], logs[metrics])\n",
    "plt.legend(metrics)\n",
    "plt.show()"
   ]
  },
  {
   "cell_type": "code",
   "execution_count": 15,
   "metadata": {
    "pycharm": {
     "name": "#%%\n"
    }
   },
   "outputs": [
    {
     "data": {
      "image/png": "[encoded data removed]",
      "text/plain": [
       "<Figure size 432x288 with 1 Axes>"
      ]
     },
     "metadata": {
      "needs_background": "light"
     },
     "output_type": "display_data"
    }
   ],
   "source": [
    "metrics = ['acc', 'val_acc']\n",
    "plt.plot(logs['epoch'], logs[metrics])\n",
    "plt.legend(metrics)\n",
    "plt.show()"
   ]
  },
  {
   "cell_type": "markdown",
   "metadata": {},
   "source": [
    "Since we have created checkpoints using callbacks, we can restore the best model from those checkpoints and test it."
   ]
  },
  {
   "cell_type": "code",
   "execution_count": 16,
   "metadata": {
    "pycharm": {
     "name": "#%%\n"
    }
   },
   "outputs": [
    {
     "name": "stdout",
     "output_type": "stream",
     "text": [
      "\u001b[35mTest steps: \u001b[36m19 \u001b[32m1.59s \u001b[35mtest_loss:\u001b[94m 2.002988\u001b[35m test_acc:\u001b[94m 51.118476\u001b[35m test_fscore_micro:\u001b[94m 0.511185\u001b[0m           \n"
     ]
    }
   ],
   "source": [
    "resnet18 = models.resnet18(pretrained=False, num_classes=num_classes)\n",
    "\n",
    "model = Model(resnet18, 'sgd', 'cross_entropy', \n",
    "              batch_metrics=['accuracy'], epoch_metrics=['f1'],\n",
    "              device=device)\n",
    "\n",
    "model.load_weights(os.path.join(save_path, 'best_epoch_{epoch}.ckpt').format(epoch=best_epoch))\n",
    "\n",
    "test_loss, (test_acc, test_f1) = model.evaluate_generator(test_loader)"
   ]
  },
  {
   "cell_type": "markdown",
   "metadata": {},
   "source": [
    "We can also use the Experiment class to train our network. This class saves checkpoints and logs as above in a directory and allows to stop and resume optimization at will. See documentation for details."
   ]
  },
  {
   "cell_type": "code",
   "execution_count": 17,
   "metadata": {},
   "outputs": [],
   "source": [
    "def experiment_train(epochs):\n",
    "    # Reload the pretrained network and freeze it except for its head.\n",
    "    resnet18 = models.resnet18(pretrained=True)\n",
    "    resnet18.fc = nn.Linear(resnet18.fc.in_features, num_classes)\n",
    "    freeze_weights(resnet18)\n",
    "\n",
    "    # Saves everything into ./saves/cub200_resnet18_experiment\n",
    "    save_path = os.path.join(save_base_dir, 'cub200_resnet18_experiment')\n",
    "    \n",
    "    optimizer = optim.SGD(resnet18.fc.parameters(), lr=learning_rate, weight_decay=0.001)\n",
    "\n",
    "    # Poutyne Experiment\n",
    "    exp = Experiment(save_path, resnet18, device=device, optimizer=optimizer, task='classif')\n",
    "\n",
    "    # Train\n",
    "    exp.train(train_loader, valid_loader, epochs=epochs)\n",
    "\n",
    "    # Test\n",
    "    exp.test(test_loader)"
   ]
  },
  {
   "cell_type": "markdown",
   "metadata": {},
   "source": [
    "Let’s train for 5 epochs."
   ]
  },
  {
   "cell_type": "code",
   "execution_count": 18,
   "metadata": {
    "scrolled": false
   },
   "outputs": [
    {
     "name": "stdout",
     "output_type": "stream",
     "text": [
      "\u001b[35mEpoch: \u001b[36m1/5 \u001b[35mTrain steps: \u001b[36m57 \u001b[35mVal steps: \u001b[36m19 \u001b[32m5.18s \u001b[35mloss:\u001b[94m 4.972403\u001b[35m acc:\u001b[94m 4.448743\u001b[35m fscore_micro:\u001b[94m 0.044487\u001b[35m val_loss:\u001b[94m 4.354537\u001b[35m val_acc:\u001b[94m 11.350456\u001b[35m val_fscore_micro:\u001b[94m 0.113505\u001b[0m\n",
      "Epoch 1: val_acc improved from -inf to 11.35046, saving file to saves/cub200_resnet18_experiment/checkpoint_epoch_1.ckpt\n",
      "\u001b[35mEpoch: \u001b[36m2/5 \u001b[35mTrain steps: \u001b[36m57 \u001b[35mVal steps: \u001b[36m19 \u001b[32m5.03s \u001b[35mloss:\u001b[94m 3.739010\u001b[35m acc:\u001b[94m 23.984526\u001b[35m fscore_micro:\u001b[94m 0.239845\u001b[35m val_loss:\u001b[94m 3.638358\u001b[35m val_acc:\u001b[94m 21.458161\u001b[35m val_fscore_micro:\u001b[94m 0.214582\u001b[0m\n",
      "Epoch 2: val_acc improved from 11.35046 to 21.45816, saving file to saves/cub200_resnet18_experiment/checkpoint_epoch_2.ckpt\n",
      "\u001b[35mEpoch: \u001b[36m3/5 \u001b[35mTrain steps: \u001b[36m57 \u001b[35mVal steps: \u001b[36m19 \u001b[32m5.13s \u001b[35mloss:\u001b[94m 2.918689\u001b[35m acc:\u001b[94m 41.503178\u001b[35m fscore_micro:\u001b[94m 0.415032\u001b[35m val_loss:\u001b[94m 3.234509\u001b[35m val_acc:\u001b[94m 28.417564\u001b[35m val_fscore_micro:\u001b[94m 0.284176\u001b[0m\n",
      "Epoch 3: val_acc improved from 21.45816 to 28.41756, saving file to saves/cub200_resnet18_experiment/checkpoint_epoch_3.ckpt\n",
      "\u001b[35mEpoch: \u001b[36m4/5 \u001b[35mTrain steps: \u001b[36m57 \u001b[35mVal steps: \u001b[36m19 \u001b[32m5.18s \u001b[35mloss:\u001b[94m 2.376595\u001b[35m acc:\u001b[94m 55.153357\u001b[35m fscore_micro:\u001b[94m 0.551534\u001b[35m val_loss:\u001b[94m 2.913982\u001b[35m val_acc:\u001b[94m 36.205468\u001b[35m val_fscore_micro:\u001b[94m 0.362055\u001b[0m\n",
      "Epoch 4: val_acc improved from 28.41756 to 36.20547, saving file to saves/cub200_resnet18_experiment/checkpoint_epoch_4.ckpt\n",
      "\u001b[35mEpoch: \u001b[36m5/5 \u001b[35mTrain steps: \u001b[36m57 \u001b[35mVal steps: \u001b[36m19 \u001b[32m5.08s \u001b[35mloss:\u001b[94m 1.976730\u001b[35m acc:\u001b[94m 65.349544\u001b[35m fscore_micro:\u001b[94m 0.653495\u001b[35m val_loss:\u001b[94m 2.722522\u001b[35m val_acc:\u001b[94m 37.531069\u001b[35m val_fscore_micro:\u001b[94m 0.375311\u001b[0m\n",
      "Epoch 5: val_acc improved from 36.20547 to 37.53107, saving file to saves/cub200_resnet18_experiment/checkpoint_epoch_5.ckpt\n",
      "Restoring model from saves/cub200_resnet18_experiment/checkpoint_epoch_5.ckpt\n",
      "Found best checkpoint at epoch: 5\n",
      "lr: 0.1, loss: 1.97673, acc: 65.3495, fscore_micro: 0.653495, val_loss: 2.72252, val_acc: 37.5311, val_fscore_micro: 0.375311\n",
      "Loading checkpoint saves/cub200_resnet18_experiment/checkpoint_epoch_5.ckpt\n",
      "Running test\n",
      "\u001b[35mTest steps: \u001b[36m19 \u001b[32m1.56s \u001b[35mtest_loss:\u001b[94m 2.696897\u001b[35m test_acc:\u001b[94m 39.768020\u001b[35m test_fscore_micro:\u001b[94m 0.397680\u001b[0m           \n"
     ]
    }
   ],
   "source": [
    "experiment_train(epochs=5)"
   ]
  },
  {
   "cell_type": "markdown",
   "metadata": {},
   "source": [
    "Let’s train for 5 more epochs (10 epochs total)."
   ]
  },
  {
   "cell_type": "code",
   "execution_count": 19,
   "metadata": {
    "scrolled": false
   },
   "outputs": [
    {
     "name": "stdout",
     "output_type": "stream",
     "text": [
      "Loading weights from saves/cub200_resnet18_experiment/checkpoint.ckpt and starting at epoch 6.\n",
      "Loading optimizer state from saves/cub200_resnet18_experiment/checkpoint.optim and starting at epoch 6.\n",
      "\u001b[35mEpoch: \u001b[36m 6/10 \u001b[35mTrain steps: \u001b[36m57 \u001b[35mVal steps: \u001b[36m19 \u001b[32m5.16s \u001b[35mloss:\u001b[94m 1.668047\u001b[35m acc:\u001b[94m 71.677259\u001b[35m fscore_micro:\u001b[94m 0.716773\u001b[35m val_loss:\u001b[94m 2.573154\u001b[35m val_acc:\u001b[94m 41.425021\u001b[35m val_fscore_micro:\u001b[94m 0.414250\u001b[0m\n",
      "Epoch 6: val_acc improved from 37.53107 to 41.42502, saving file to saves/cub200_resnet18_experiment/checkpoint_epoch_6.ckpt\n",
      "\u001b[35mEpoch: \u001b[36m 7/10 \u001b[35mTrain steps: \u001b[36m57 \u001b[35mVal steps: \u001b[36m19 \u001b[32m5.01s \u001b[35mloss:\u001b[94m 1.463776\u001b[35m acc:\u001b[94m 76.844432\u001b[35m fscore_micro:\u001b[94m 0.768444\u001b[35m val_loss:\u001b[94m 2.463882\u001b[35m val_acc:\u001b[94m 43.744822\u001b[35m val_fscore_micro:\u001b[94m 0.437448\u001b[0m\n",
      "Epoch 7: val_acc improved from 41.42502 to 43.74482, saving file to saves/cub200_resnet18_experiment/checkpoint_epoch_7.ckpt\n",
      "\u001b[35mEpoch: \u001b[36m 8/10 \u001b[35mTrain steps: \u001b[36m57 \u001b[35mVal steps: \u001b[36m19 \u001b[32m5.41s \u001b[35mloss:\u001b[94m 1.282330\u001b[35m acc:\u001b[94m 80.851064\u001b[35m fscore_micro:\u001b[94m 0.808511\u001b[35m val_loss:\u001b[94m 2.420289\u001b[35m val_acc:\u001b[94m 44.159072\u001b[35m val_fscore_micro:\u001b[94m 0.441591\u001b[0m\n",
      "Epoch 8: val_acc improved from 43.74482 to 44.15907, saving file to saves/cub200_resnet18_experiment/checkpoint_epoch_8.ckpt\n",
      "\u001b[35mEpoch: \u001b[36m 9/10 \u001b[35mTrain steps: \u001b[36m57 \u001b[35mVal steps: \u001b[36m19 \u001b[32m5.02s \u001b[35mloss:\u001b[94m 1.149077\u001b[35m acc:\u001b[94m 83.337939\u001b[35m fscore_micro:\u001b[94m 0.833379\u001b[35m val_loss:\u001b[94m 2.343573\u001b[35m val_acc:\u001b[94m 44.656172\u001b[35m val_fscore_micro:\u001b[94m 0.446562\u001b[0m\n",
      "Epoch 9: val_acc improved from 44.15907 to 44.65617, saving file to saves/cub200_resnet18_experiment/checkpoint_epoch_9.ckpt\n",
      "\u001b[35mEpoch: \u001b[36m10/10 \u001b[35mTrain steps: \u001b[36m57 \u001b[35mVal steps: \u001b[36m19 \u001b[32m4.98s \u001b[35mloss:\u001b[94m 1.028025\u001b[35m acc:\u001b[94m 86.681404\u001b[35m fscore_micro:\u001b[94m 0.866814\u001b[35m val_loss:\u001b[94m 2.283656\u001b[35m val_acc:\u001b[94m 46.147473\u001b[35m val_fscore_micro:\u001b[94m 0.461475\u001b[0m\n",
      "Epoch 10: val_acc improved from 44.65617 to 46.14747, saving file to saves/cub200_resnet18_experiment/checkpoint_epoch_10.ckpt\n",
      "Restoring model from saves/cub200_resnet18_experiment/checkpoint_epoch_10.ckpt\n",
      "Found best checkpoint at epoch: 10\n",
      "lr: 0.1, loss: 1.02802, acc: 86.6814, fscore_micro: 0.866814, val_loss: 2.28366, val_acc: 46.1475, val_fscore_micro: 0.461475\n",
      "Loading checkpoint saves/cub200_resnet18_experiment/checkpoint_epoch_10.ckpt\n",
      "Running test\n",
      "\u001b[35mTest steps: \u001b[36m19 \u001b[32m1.49s \u001b[35mtest_loss:\u001b[94m 2.245021\u001b[35m test_acc:\u001b[94m 47.224523\u001b[35m test_fscore_micro:\u001b[94m 0.472245\u001b[0m           \n"
     ]
    }
   ],
   "source": [
    "# Retrain for 5 more epochs\n",
    "experiment_train(epochs=10)"
   ]
  }
 ],
 "metadata": {
  "accelerator": "GPU",
  "kernelspec": {
   "display_name": "Python 3",
   "language": "python",
   "name": "python3"
  },
  "language_info": {
   "codemirror_mode": {
    "name": "ipython",
    "version": 3
   },
   "file_extension": ".py",
   "mimetype": "text/x-python",
   "name": "python",
   "nbconvert_exporter": "python",
   "pygments_lexer": "ipython3",
   "version": "3.8.5"
  }
 },
 "nbformat": 4,
 "nbformat_minor": 2
}
