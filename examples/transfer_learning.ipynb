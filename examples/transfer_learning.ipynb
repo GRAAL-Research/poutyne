{
 "cells": [
  {
   "cell_type": "code",
   "execution_count": 1,
   "metadata": {},
   "outputs": [],
   "source": [
    "%pip install --upgrade poutyne # to install lastest poutyne version, if it's not already\n",
    "import math\n",
    "import os\n",
    "import tarfile\n",
    "import urllib.request\n",
    "from shutil import copyfile\n",
    "\n",
    "import matplotlib.pyplot as plt\n",
    "import numpy as np\n",
    "import pandas as pd\n",
    "import torch\n",
    "import torch.nn as nn\n",
    "import torch.optim as optim\n",
    "import torchvision.models as models\n",
    "from torch.utils import model_zoo\n",
    "from torch.utils.data import DataLoader\n",
    "from torchvision import transforms\n",
    "from torchvision.datasets import ImageFolder\n",
    "\n",
    "from poutyne import set_seeds, Model, ModelCheckpoint, CSVLogger, Experiment"
   ]
  },
  {
   "cell_type": "markdown",
   "metadata": {
    "pycharm": {
     "name": "#%% md\n"
    }
   },
   "source": [
    "Also, we need to set Pythons's, NumPy's and PyTorch's seeds by using Poutyne function so that our training is (almost) reproducible."
   ]
  },
  {
   "cell_type": "code",
   "execution_count": 2,
   "metadata": {
    "pycharm": {
     "name": "#%%\n"
    }
   },
   "outputs": [],
   "source": [
    "set_seeds(42)"
   ]
  },
  {
   "cell_type": "code",
   "execution_count": 3,
   "metadata": {},
   "outputs": [],
   "source": [
    "def download_and_extract_dataset(path):\n",
    "    os.makedirs(path, exist_ok=True)\n",
    "    tgz_filename = os.path.join(path, \"images.tgz\")\n",
    "    \n",
    "    print(\"Downloading dataset...\")\n",
    "    urllib.request.urlretrieve(\"https://graal.ift.ulaval.ca/public/CUB200.tgz\", tgz_filename)\n",
    "    print(\"Extracting archive...\")\n",
    "    archive = tarfile.open(tgz_filename)\n",
    "    archive.extractall(path)"
   ]
  },
  {
   "cell_type": "code",
   "execution_count": 4,
   "metadata": {},
   "outputs": [],
   "source": [
    "def copy(source_path, filenames, dest_path):\n",
    "    for filename in filenames:\n",
    "        source = os.path.join(source_path, filename)\n",
    "        dest = os.path.join(dest_path, filename)\n",
    "        copyfile(source, dest)\n",
    "\n",
    "def split_train_valid_test(dataset_path, train_path, valid_path, test_path, train_split=0.6, valid_split=0.2): # test_split=0.2\n",
    "    for classname in sorted(os.listdir(dataset_path)):\n",
    "        if classname.startswith('.'):\n",
    "            continue\n",
    "        train_class_path = os.path.join(train_path, classname)\n",
    "        valid_class_path = os.path.join(valid_path, classname)\n",
    "        test_class_path = os.path.join(test_path, classname)\n",
    "\n",
    "        os.makedirs(train_class_path, exist_ok=True)\n",
    "        os.makedirs(valid_class_path, exist_ok=True)\n",
    "        os.makedirs(test_class_path, exist_ok=True)\n",
    "\n",
    "        dataset_class_path = os.path.join(dataset_path, classname)\n",
    "        filenames = sorted(filename for filename in os.listdir(dataset_class_path) if not filename.startswith('.'))\n",
    "        np.random.shuffle(filenames)\n",
    "\n",
    "        num_examples = len(filenames)\n",
    "        train_last_idx = math.ceil(num_examples*train_split)\n",
    "        valid_last_idx = train_last_idx + math.floor(num_examples*valid_split)\n",
    "        train_filenames = filenames[0:train_last_idx]\n",
    "        valid_filenames = filenames[train_last_idx:valid_last_idx]\n",
    "        test_filenames = filenames[valid_last_idx:]\n",
    "        copy(dataset_class_path, train_filenames, train_class_path)\n",
    "        copy(dataset_class_path, valid_filenames, valid_class_path)\n",
    "        copy(dataset_class_path, test_filenames, test_class_path)"
   ]
  },
  {
   "cell_type": "markdown",
   "metadata": {
    "pycharm": {
     "name": "#%% md\n"
    }
   },
   "source": [
    "We do the split train/valid/test."
   ]
  },
  {
   "cell_type": "code",
   "execution_count": 5,
   "metadata": {},
   "outputs": [],
   "source": [
    "base_path = './datasets/CUB200'\n",
    "dataset_path = os.path.join(base_path, 'images')\n",
    "train_path = os.path.join(base_path, 'train')\n",
    "valid_path = os.path.join(base_path, 'valid')\n",
    "test_path = os.path.join(base_path, 'test')"
   ]
  },
  {
   "cell_type": "code",
   "execution_count": 6,
   "metadata": {},
   "outputs": [
    {
     "name": "stdout",
     "output_type": "stream",
     "text": [
      "Downloading dataset...\n",
      "Extracting archive...\n"
     ]
    }
   ],
   "source": [
    "download_and_extract_dataset(base_path)\n",
    "split_train_valid_test(dataset_path, train_path, valid_path, test_path)"
   ]
  },
  {
   "cell_type": "markdown",
   "metadata": {
    "pycharm": {
     "name": "#%% md\n"
    }
   },
   "source": [
    "Now, let's set our training constants. We first have the CUDA device used for training if one is present. Secondly, we set the number of classes (i.e. one for each number). Finally, we set the batch size (i.e. the number of elements to see before updating the model), the learning rate for the optimizer, and the number of epochs (i.e. the number of times we see the full dataset).\n"
   ]
  },
  {
   "cell_type": "code",
   "execution_count": 7,
   "metadata": {
    "pycharm": {
     "name": "#%%\n"
    }
   },
   "outputs": [],
   "source": [
    "# Training constants\n",
    "cuda_device = 0\n",
    "device = torch.device(\"cuda:%d\" % cuda_device if torch.cuda.is_available() else \"cpu\")\n",
    "\n",
    "num_classes = 200\n",
    "batch_size = 64\n",
    "learning_rate = 0.1\n",
    "n_epoch = 30"
   ]
  },
  {
   "cell_type": "markdown",
   "metadata": {},
   "source": [
    "Creation of the PyTorch's datasets for our problem."
   ]
  },
  {
   "cell_type": "code",
   "execution_count": 8,
   "metadata": {},
   "outputs": [],
   "source": [
    "norm_coefs = {}\n",
    "norm_coefs['cub200'] = [(0.47421962,  0.4914721 ,  0.42382449), (0.22846779,  0.22387765,  0.26495799)]\n",
    "norm_coefs['imagenet'] = [(0.485, 0.456, 0.406), (0.229, 0.224, 0.225)]\n",
    "transform = transforms.Compose([\n",
    "    transforms.Resize((224,224)),\n",
    "    transforms.ToTensor(),\n",
    "    transforms.Normalize(*norm_coefs['cub200'])\n",
    "])\n",
    "\n",
    "train_set = ImageFolder(train_path, transform=transform)\n",
    "valid_set = ImageFolder(valid_path, transform=transform)\n",
    "test_set = ImageFolder(test_path, transform=transform)\n",
    "\n",
    "train_loader = DataLoader(train_set, batch_size=batch_size, num_workers=8, shuffle=True)\n",
    "valid_loader = DataLoader(valid_set, batch_size=batch_size, num_workers=8)\n",
    "test_loader = DataLoader(test_set, batch_size=batch_size, num_workers=8)"
   ]
  },
  {
   "cell_type": "markdown",
   "metadata": {},
   "source": [
    "We load a pretrained `ResNet-18` networks and replace the head with the number of neurons equal to our number of classes."
   ]
  },
  {
   "cell_type": "code",
   "execution_count": 9,
   "metadata": {
    "scrolled": false
   },
   "outputs": [],
   "source": [
    "resnet18 = models.resnet18(pretrained=True)\n",
    "resnet18.fc = nn.Linear(resnet18.fc.in_features, num_classes)"
   ]
  },
  {
   "cell_type": "markdown",
   "metadata": {},
   "source": [
    "We freeze the network except for its head."
   ]
  },
  {
   "cell_type": "code",
   "execution_count": 10,
   "metadata": {},
   "outputs": [],
   "source": [
    "def freeze_weights(resnet18):\n",
    "    for name, param in resnet18.named_parameters():\n",
    "        if not name.startswith('fc.'):\n",
    "            param.requires_grad = False\n",
    "\n",
    "freeze_weights(resnet18)"
   ]
  },
  {
   "cell_type": "markdown",
   "metadata": {
    "pycharm": {
     "name": "#%% md\n"
    }
   },
   "source": [
    "We define callbacks for saving last epoch, best epoch and logging the results."
   ]
  },
  {
   "cell_type": "code",
   "execution_count": 11,
   "metadata": {
    "pycharm": {
     "name": "#%%\n"
    }
   },
   "outputs": [],
   "source": [
    "# We are saving everything into ./saves/cub200.\n",
    "save_base_dir = 'saves'\n",
    "save_path = os.path.join(save_base_dir, 'cub200')\n",
    "os.makedirs(save_path, exist_ok=True)\n",
    "\n",
    "callbacks = [\n",
    "    # Save the latest weights to be able to resume the optimization at the end for more epochs.\n",
    "    ModelCheckpoint(os.path.join(save_path, 'last_epoch.ckpt')),\n",
    "\n",
    "    # Save the weights in a new file when the current model is better than all previous models.\n",
    "    ModelCheckpoint(os.path.join(save_path, 'best_epoch_{epoch}.ckpt'), monitor='val_acc', mode='max', \n",
    "                    save_best_only=True, restore_best=True, verbose=True),\n",
    "\n",
    "    # Save the losses and accuracies for each epoch in a TSV.\n",
    "    CSVLogger(os.path.join(save_path, 'log.tsv'), separator='\\t'),\n",
    "]"
   ]
  },
  {
   "cell_type": "markdown",
   "metadata": {},
   "source": [
    "Finally, we start the training and output its final test loss, accuracy, and micro F1-score.\n",
    "\n",
    "> Note that the F1-score is quite similar to the accuracy since the dataset is very balanced."
   ]
  },
  {
   "cell_type": "code",
   "execution_count": 12,
   "metadata": {},
   "outputs": [
    {
     "name": "stdout",
     "output_type": "stream",
     "text": [
      "\u001b[35mEpoch: \u001b[36m 1/30 \u001b[35mTrain steps: \u001b[36m58 \u001b[35mVal steps: \u001b[36m18 \u001b[32m5.13s \u001b[35mloss:\u001b[94m 4.971728\u001b[35m acc:\u001b[94m 4.487699\u001b[35m fscore_micro:\u001b[94m 0.044877\u001b[35m val_loss:\u001b[94m 4.306483\u001b[35m val_acc:\u001b[94m 12.743363\u001b[35m val_fscore_micro:\u001b[94m 0.127434\u001b[0m\n",
      "Epoch 1: val_acc improved from -inf to 12.74336, saving file to saves/cub200/best_epoch_1.ckpt\n",
      "\u001b[35mEpoch: \u001b[36m 2/30 \u001b[35mTrain steps: \u001b[36m58 \u001b[35mVal steps: \u001b[36m18 \u001b[32m4.87s \u001b[35mloss:\u001b[94m 3.715159\u001b[35m acc:\u001b[94m 24.709381\u001b[35m fscore_micro:\u001b[94m 0.247094\u001b[35m val_loss:\u001b[94m 3.612310\u001b[35m val_acc:\u001b[94m 20.707965\u001b[35m val_fscore_micro:\u001b[94m 0.207080\u001b[0m\n",
      "Epoch 2: val_acc improved from 12.74336 to 20.70796, saving file to saves/cub200/best_epoch_2.ckpt\n",
      "\u001b[35mEpoch: \u001b[36m 3/30 \u001b[35mTrain steps: \u001b[36m58 \u001b[35mVal steps: \u001b[36m18 \u001b[32m4.91s \u001b[35mloss:\u001b[94m 2.893865\u001b[35m acc:\u001b[94m 42.930522\u001b[35m fscore_micro:\u001b[94m 0.429305\u001b[35m val_loss:\u001b[94m 3.142848\u001b[35m val_acc:\u001b[94m 30.353982\u001b[35m val_fscore_micro:\u001b[94m 0.303540\u001b[0m\n",
      "Epoch 3: val_acc improved from 20.70796 to 30.35398, saving file to saves/cub200/best_epoch_3.ckpt\n",
      "\u001b[35mEpoch: \u001b[36m 4/30 \u001b[35mTrain steps: \u001b[36m58 \u001b[35mVal steps: \u001b[36m18 \u001b[32m4.96s \u001b[35mloss:\u001b[94m 2.355975\u001b[35m acc:\u001b[94m 55.258178\u001b[35m fscore_micro:\u001b[94m 0.552582\u001b[35m val_loss:\u001b[94m 2.839871\u001b[35m val_acc:\u001b[94m 36.371681\u001b[35m val_fscore_micro:\u001b[94m 0.363717\u001b[0m\n",
      "Epoch 4: val_acc improved from 30.35398 to 36.37168, saving file to saves/cub200/best_epoch_4.ckpt\n",
      "\u001b[35mEpoch: \u001b[36m 5/30 \u001b[35mTrain steps: \u001b[36m58 \u001b[35mVal steps: \u001b[36m18 \u001b[32m5.09s \u001b[35mloss:\u001b[94m 1.950990\u001b[35m acc:\u001b[94m 64.368748\u001b[35m fscore_micro:\u001b[94m 0.643687\u001b[35m val_loss:\u001b[94m 2.631912\u001b[35m val_acc:\u001b[94m 40.619469\u001b[35m val_fscore_micro:\u001b[94m 0.406195\u001b[0m\n",
      "Epoch 5: val_acc improved from 36.37168 to 40.61947, saving file to saves/cub200/best_epoch_5.ckpt\n",
      "\u001b[35mEpoch: \u001b[36m 6/30 \u001b[35mTrain steps: \u001b[36m58 \u001b[35mVal steps: \u001b[36m18 \u001b[32m4.97s \u001b[35mloss:\u001b[94m 1.669538\u001b[35m acc:\u001b[94m 71.208435\u001b[35m fscore_micro:\u001b[94m 0.712084\u001b[35m val_loss:\u001b[94m 2.502099\u001b[35m val_acc:\u001b[94m 42.743363\u001b[35m val_fscore_micro:\u001b[94m 0.427434\u001b[0m\n",
      "Epoch 6: val_acc improved from 40.61947 to 42.74336, saving file to saves/cub200/best_epoch_6.ckpt\n",
      "\u001b[35mEpoch: \u001b[36m 7/30 \u001b[35mTrain steps: \u001b[36m58 \u001b[35mVal steps: \u001b[36m18 \u001b[32m5.19s \u001b[35mloss:\u001b[94m 1.468114\u001b[35m acc:\u001b[94m 75.804271\u001b[35m fscore_micro:\u001b[94m 0.758043\u001b[35m val_loss:\u001b[94m 2.401000\u001b[35m val_acc:\u001b[94m 43.008850\u001b[35m val_fscore_micro:\u001b[94m 0.430088\u001b[0m\n",
      "Epoch 7: val_acc improved from 42.74336 to 43.00885, saving file to saves/cub200/best_epoch_7.ckpt\n",
      "\u001b[35mEpoch: \u001b[36m 8/30 \u001b[35mTrain steps: \u001b[36m58 \u001b[35mVal steps: \u001b[36m18 \u001b[32m5.27s \u001b[35mloss:\u001b[94m 1.290188\u001b[35m acc:\u001b[94m 79.562044\u001b[35m fscore_micro:\u001b[94m 0.795620\u001b[35m val_loss:\u001b[94m 2.307899\u001b[35m val_acc:\u001b[94m 46.106195\u001b[35m val_fscore_micro:\u001b[94m 0.461062\u001b[0m\n",
      "Epoch 8: val_acc improved from 43.00885 to 46.10619, saving file to saves/cub200/best_epoch_8.ckpt\n",
      "\u001b[35mEpoch: \u001b[36m 9/30 \u001b[35mTrain steps: \u001b[36m58 \u001b[35mVal steps: \u001b[36m18 \u001b[32m5.12s \u001b[35mloss:\u001b[94m 1.147733\u001b[35m acc:\u001b[94m 83.184645\u001b[35m fscore_micro:\u001b[94m 0.831846\u001b[35m val_loss:\u001b[94m 2.255263\u001b[35m val_acc:\u001b[94m 46.637168\u001b[35m val_fscore_micro:\u001b[94m 0.466372\u001b[0m\n",
      "Epoch 9: val_acc improved from 46.10619 to 46.63717, saving file to saves/cub200/best_epoch_9.ckpt\n",
      "\u001b[35mEpoch: \u001b[36m10/30 \u001b[35mTrain steps: \u001b[36m58 \u001b[35mVal steps: \u001b[36m18 \u001b[32m4.91s \u001b[35mloss:\u001b[94m 1.041504\u001b[35m acc:\u001b[94m 86.131387\u001b[35m fscore_micro:\u001b[94m 0.861314\u001b[35m val_loss:\u001b[94m 2.192490\u001b[35m val_acc:\u001b[94m 46.725664\u001b[35m val_fscore_micro:\u001b[94m 0.467257\u001b[0m\n",
      "Epoch 10: val_acc improved from 46.63717 to 46.72566, saving file to saves/cub200/best_epoch_10.ckpt\n",
      "\u001b[35mEpoch: \u001b[36m11/30 \u001b[35mTrain steps: \u001b[36m58 \u001b[35mVal steps: \u001b[36m18 \u001b[32m4.96s \u001b[35mloss:\u001b[94m 0.940394\u001b[35m acc:\u001b[94m 87.510138\u001b[35m fscore_micro:\u001b[94m 0.875101\u001b[35m val_loss:\u001b[94m 2.188433\u001b[35m val_acc:\u001b[94m 47.787611\u001b[35m val_fscore_micro:\u001b[94m 0.477876\u001b[0m\n",
      "Epoch 11: val_acc improved from 46.72566 to 47.78761, saving file to saves/cub200/best_epoch_11.ckpt\n",
      "\u001b[35mEpoch: \u001b[36m12/30 \u001b[35mTrain steps: \u001b[36m58 \u001b[35mVal steps: \u001b[36m18 \u001b[32m4.85s \u001b[35mloss:\u001b[94m 0.863334\u001b[35m acc:\u001b[94m 89.213301\u001b[35m fscore_micro:\u001b[94m 0.892133\u001b[35m val_loss:\u001b[94m 2.125058\u001b[35m val_acc:\u001b[94m 48.141593\u001b[35m val_fscore_micro:\u001b[94m 0.481416\u001b[0m\n",
      "Epoch 12: val_acc improved from 47.78761 to 48.14159, saving file to saves/cub200/best_epoch_12.ckpt\n",
      "\u001b[35mEpoch: \u001b[36m13/30 \u001b[35mTrain steps: \u001b[36m58 \u001b[35mVal steps: \u001b[36m18 \u001b[32m5.10s \u001b[35mloss:\u001b[94m 0.792032\u001b[35m acc:\u001b[94m 90.646121\u001b[35m fscore_micro:\u001b[94m 0.906461\u001b[35m val_loss:\u001b[94m 2.103872\u001b[35m val_acc:\u001b[94m 49.823009\u001b[35m val_fscore_micro:\u001b[94m 0.498230\u001b[0m\n",
      "Epoch 13: val_acc improved from 48.14159 to 49.82301, saving file to saves/cub200/best_epoch_13.ckpt\n",
      "\u001b[35mEpoch: \u001b[36m14/30 \u001b[35mTrain steps: \u001b[36m58 \u001b[35mVal steps: \u001b[36m18 \u001b[32m4.97s \u001b[35mloss:\u001b[94m 0.727125\u001b[35m acc:\u001b[94m 92.403352\u001b[35m fscore_micro:\u001b[94m 0.924034\u001b[35m val_loss:\u001b[94m 2.097979\u001b[35m val_acc:\u001b[94m 47.610619\u001b[35m val_fscore_micro:\u001b[94m 0.476106\u001b[0m\n",
      "\u001b[35mEpoch: \u001b[36m15/30 \u001b[35mTrain steps: \u001b[36m58 \u001b[35mVal steps: \u001b[36m18 \u001b[32m5.09s \u001b[35mloss:\u001b[94m 0.678893\u001b[35m acc:\u001b[94m 93.511760\u001b[35m fscore_micro:\u001b[94m 0.935118\u001b[35m val_loss:\u001b[94m 2.079125\u001b[35m val_acc:\u001b[94m 49.203540\u001b[35m val_fscore_micro:\u001b[94m 0.492035\u001b[0m\n",
      "\u001b[35mEpoch: \u001b[36m16/30 \u001b[35mTrain steps: \u001b[36m58 \u001b[35mVal steps: \u001b[36m18 \u001b[32m4.94s \u001b[35mloss:\u001b[94m 0.644448\u001b[35m acc:\u001b[94m 93.619897\u001b[35m fscore_micro:\u001b[94m 0.936199\u001b[35m val_loss:\u001b[94m 2.041098\u001b[35m val_acc:\u001b[94m 50.353982\u001b[35m val_fscore_micro:\u001b[94m 0.503540\u001b[0m\n",
      "Epoch 16: val_acc improved from 49.82301 to 50.35398, saving file to saves/cub200/best_epoch_16.ckpt\n",
      "\u001b[35mEpoch: \u001b[36m17/30 \u001b[35mTrain steps: \u001b[36m58 \u001b[35mVal steps: \u001b[36m18 \u001b[32m4.93s \u001b[35mloss:\u001b[94m 0.589432\u001b[35m acc:\u001b[94m 95.133820\u001b[35m fscore_micro:\u001b[94m 0.951338\u001b[35m val_loss:\u001b[94m 2.040287\u001b[35m val_acc:\u001b[94m 50.619469\u001b[35m val_fscore_micro:\u001b[94m 0.506195\u001b[0m\n",
      "Epoch 17: val_acc improved from 50.35398 to 50.61947, saving file to saves/cub200/best_epoch_17.ckpt\n",
      "\u001b[35mEpoch: \u001b[36m18/30 \u001b[35mTrain steps: \u001b[36m58 \u001b[35mVal steps: \u001b[36m18 \u001b[32m5.01s \u001b[35mloss:\u001b[94m 0.554054\u001b[35m acc:\u001b[94m 96.161125\u001b[35m fscore_micro:\u001b[94m 0.961611\u001b[35m val_loss:\u001b[94m 2.032041\u001b[35m val_acc:\u001b[94m 50.088496\u001b[35m val_fscore_micro:\u001b[94m 0.500885\u001b[0m\n",
      "\u001b[35mEpoch: \u001b[36m19/30 \u001b[35mTrain steps: \u001b[36m58 \u001b[35mVal steps: \u001b[36m18 \u001b[32m4.97s \u001b[35mloss:\u001b[94m 0.521383\u001b[35m acc:\u001b[94m 96.755880\u001b[35m fscore_micro:\u001b[94m 0.967559\u001b[35m val_loss:\u001b[94m 2.028201\u001b[35m val_acc:\u001b[94m 50.442478\u001b[35m val_fscore_micro:\u001b[94m 0.504425\u001b[0m\n",
      "\u001b[35mEpoch: \u001b[36m20/30 \u001b[35mTrain steps: \u001b[36m58 \u001b[35mVal steps: \u001b[36m18 \u001b[32m4.99s \u001b[35mloss:\u001b[94m 0.496054\u001b[35m acc:\u001b[94m 96.918086\u001b[35m fscore_micro:\u001b[94m 0.969181\u001b[35m val_loss:\u001b[94m 2.018480\u001b[35m val_acc:\u001b[94m 48.407080\u001b[35m val_fscore_micro:\u001b[94m 0.484071\u001b[0m\n",
      "\u001b[35mEpoch: \u001b[36m21/30 \u001b[35mTrain steps: \u001b[36m58 \u001b[35mVal steps: \u001b[36m18 \u001b[32m5.11s \u001b[35mloss:\u001b[94m 0.464412\u001b[35m acc:\u001b[94m 97.458773\u001b[35m fscore_micro:\u001b[94m 0.974588\u001b[35m val_loss:\u001b[94m 2.007874\u001b[35m val_acc:\u001b[94m 50.176991\u001b[35m val_fscore_micro:\u001b[94m 0.501770\u001b[0m\n",
      "\u001b[35mEpoch: \u001b[36m22/30 \u001b[35mTrain steps: \u001b[36m58 \u001b[35mVal steps: \u001b[36m18 \u001b[32m5.21s \u001b[35mloss:\u001b[94m 0.441281\u001b[35m acc:\u001b[94m 97.945391\u001b[35m fscore_micro:\u001b[94m 0.979454\u001b[35m val_loss:\u001b[94m 2.001693\u001b[35m val_acc:\u001b[94m 51.061947\u001b[35m val_fscore_micro:\u001b[94m 0.510619\u001b[0m\n",
      "Epoch 22: val_acc improved from 50.61947 to 51.06195, saving file to saves/cub200/best_epoch_22.ckpt\n",
      "\u001b[35mEpoch: \u001b[36m23/30 \u001b[35mTrain steps: \u001b[36m58 \u001b[35mVal steps: \u001b[36m18 \u001b[32m4.99s \u001b[35mloss:\u001b[94m 0.416535\u001b[35m acc:\u001b[94m 98.459043\u001b[35m fscore_micro:\u001b[94m 0.984590\u001b[35m val_loss:\u001b[94m 1.987710\u001b[35m val_acc:\u001b[94m 50.265487\u001b[35m val_fscore_micro:\u001b[94m 0.502655\u001b[0m\n",
      "\u001b[35mEpoch: \u001b[36m24/30 \u001b[35mTrain steps: \u001b[36m58 \u001b[35mVal steps: \u001b[36m18 \u001b[32m5.06s \u001b[35mloss:\u001b[94m 0.399392\u001b[35m acc:\u001b[94m 98.350906\u001b[35m fscore_micro:\u001b[94m 0.983509\u001b[35m val_loss:\u001b[94m 1.997951\u001b[35m val_acc:\u001b[94m 50.176991\u001b[35m val_fscore_micro:\u001b[94m 0.501770\u001b[0m\n",
      "\u001b[35mEpoch: \u001b[36m25/30 \u001b[35mTrain steps: \u001b[36m58 \u001b[35mVal steps: \u001b[36m18 \u001b[32m5.07s \u001b[35mloss:\u001b[94m 0.385319\u001b[35m acc:\u001b[94m 98.567180\u001b[35m fscore_micro:\u001b[94m 0.985672\u001b[35m val_loss:\u001b[94m 1.985123\u001b[35m val_acc:\u001b[94m 50.442478\u001b[35m val_fscore_micro:\u001b[94m 0.504425\u001b[0m\n"
     ]
    },
    {
     "name": "stdout",
     "output_type": "stream",
     "text": [
      "\u001b[35mEpoch: \u001b[36m26/30 \u001b[35mTrain steps: \u001b[36m58 \u001b[35mVal steps: \u001b[36m18 \u001b[32m5.40s \u001b[35mloss:\u001b[94m 0.366069\u001b[35m acc:\u001b[94m 98.972695\u001b[35m fscore_micro:\u001b[94m 0.989727\u001b[35m val_loss:\u001b[94m 1.978603\u001b[35m val_acc:\u001b[94m 51.327434\u001b[35m val_fscore_micro:\u001b[94m 0.513274\u001b[0m\n",
      "Epoch 26: val_acc improved from 51.06195 to 51.32743, saving file to saves/cub200/best_epoch_26.ckpt\n",
      "\u001b[35mEpoch: \u001b[36m27/30 \u001b[35mTrain steps: \u001b[36m58 \u001b[35mVal steps: \u001b[36m18 \u001b[32m4.98s \u001b[35mloss:\u001b[94m 0.350929\u001b[35m acc:\u001b[94m 99.161936\u001b[35m fscore_micro:\u001b[94m 0.991619\u001b[35m val_loss:\u001b[94m 1.977024\u001b[35m val_acc:\u001b[94m 52.212389\u001b[35m val_fscore_micro:\u001b[94m 0.522124\u001b[0m\n",
      "Epoch 27: val_acc improved from 51.32743 to 52.21239, saving file to saves/cub200/best_epoch_27.ckpt\n",
      "\u001b[35mEpoch: \u001b[36m28/30 \u001b[35mTrain steps: \u001b[36m58 \u001b[35mVal steps: \u001b[36m18 \u001b[32m5.04s \u001b[35mloss:\u001b[94m 0.345045\u001b[35m acc:\u001b[94m 99.053798\u001b[35m fscore_micro:\u001b[94m 0.990538\u001b[35m val_loss:\u001b[94m 1.977225\u001b[35m val_acc:\u001b[94m 51.769912\u001b[35m val_fscore_micro:\u001b[94m 0.517699\u001b[0m\n",
      "\u001b[35mEpoch: \u001b[36m29/30 \u001b[35mTrain steps: \u001b[36m58 \u001b[35mVal steps: \u001b[36m18 \u001b[32m4.95s \u001b[35mloss:\u001b[94m 0.322397\u001b[35m acc:\u001b[94m 99.297107\u001b[35m fscore_micro:\u001b[94m 0.992971\u001b[35m val_loss:\u001b[94m 1.975152\u001b[35m val_acc:\u001b[94m 51.504425\u001b[35m val_fscore_micro:\u001b[94m 0.515044\u001b[0m\n",
      "\u001b[35mEpoch: \u001b[36m30/30 \u001b[35mTrain steps: \u001b[36m58 \u001b[35mVal steps: \u001b[36m18 \u001b[32m5.06s \u001b[35mloss:\u001b[94m 0.316426\u001b[35m acc:\u001b[94m 99.459313\u001b[35m fscore_micro:\u001b[94m 0.994593\u001b[35m val_loss:\u001b[94m 1.971837\u001b[35m val_acc:\u001b[94m 51.592920\u001b[35m val_fscore_micro:\u001b[94m 0.515929\u001b[0m\n",
      "Restoring model from saves/cub200/best_epoch_27.ckpt\n",
      "\u001b[35mTest steps: \u001b[36m19 \u001b[32m1.55s \u001b[35mtest_loss:\u001b[94m 2.046891\u001b[35m test_acc:\u001b[94m 49.916943\u001b[35m test_fscore_micro:\u001b[94m 0.499169\u001b[0m           \n"
     ]
    }
   ],
   "source": [
    "optimizer = optim.SGD(resnet18.fc.parameters(), lr=learning_rate, weight_decay=0.001)\n",
    "loss_function = nn.CrossEntropyLoss()\n",
    "\n",
    "model = Model(resnet18, optimizer, loss_function, \n",
    "              batch_metrics=['accuracy'], epoch_metrics=['f1'],\n",
    "              device=device)\n",
    "\n",
    "model.fit_generator(train_loader, valid_loader, epochs=n_epoch, callbacks=callbacks)\n",
    "\n",
    "test_loss, (test_acc, test_f1) = model.evaluate_generator(test_loader)"
   ]
  },
  {
   "cell_type": "code",
   "execution_count": 13,
   "metadata": {
    "scrolled": false
   },
   "outputs": [
    {
     "name": "stdout",
     "output_type": "stream",
     "text": [
      "    epoch      time   lr      loss        acc  fscore_micro  val_loss  \\\n",
      "0       1  5.127235  0.1  4.971728   4.487699      0.044877  4.306483   \n",
      "1       2  4.868146  0.1  3.715159  24.709381      0.247094  3.612310   \n",
      "2       3  4.910415  0.1  2.893865  42.930522      0.429305  3.142848   \n",
      "3       4  4.963105  0.1  2.355975  55.258178      0.552582  2.839871   \n",
      "4       5  5.088407  0.1  1.950990  64.368748      0.643687  2.631912   \n",
      "5       6  4.970546  0.1  1.669538  71.208435      0.712084  2.502099   \n",
      "6       7  5.190205  0.1  1.468114  75.804271      0.758043  2.401000   \n",
      "7       8  5.269884  0.1  1.290188  79.562044      0.795620  2.307899   \n",
      "8       9  5.122114  0.1  1.147733  83.184645      0.831846  2.255263   \n",
      "9      10  4.910460  0.1  1.041504  86.131387      0.861314  2.192490   \n",
      "10     11  4.961812  0.1  0.940394  87.510138      0.875101  2.188433   \n",
      "11     12  4.850869  0.1  0.863334  89.213301      0.892133  2.125058   \n",
      "12     13  5.104850  0.1  0.792032  90.646121      0.906461  2.103872   \n",
      "13     14  4.967371  0.1  0.727125  92.403352      0.924034  2.097979   \n",
      "14     15  5.094226  0.1  0.678893  93.511760      0.935118  2.079125   \n",
      "15     16  4.943682  0.1  0.644448  93.619897      0.936199  2.041098   \n",
      "16     17  4.926453  0.1  0.589432  95.133820      0.951338  2.040287   \n",
      "17     18  5.005701  0.1  0.554054  96.161125      0.961611  2.032041   \n",
      "18     19  4.968292  0.1  0.521383  96.755880      0.967559  2.028201   \n",
      "19     20  4.987905  0.1  0.496054  96.918086      0.969181  2.018480   \n",
      "20     21  5.112163  0.1  0.464412  97.458773      0.974588  2.007874   \n",
      "21     22  5.206536  0.1  0.441281  97.945391      0.979454  2.001693   \n",
      "22     23  4.990251  0.1  0.416535  98.459043      0.984590  1.987710   \n",
      "23     24  5.063807  0.1  0.399392  98.350906      0.983509  1.997951   \n",
      "24     25  5.070442  0.1  0.385319  98.567180      0.985672  1.985123   \n",
      "25     26  5.399604  0.1  0.366069  98.972695      0.989727  1.978603   \n",
      "26     27  4.976099  0.1  0.350929  99.161936      0.991619  1.977024   \n",
      "27     28  5.042406  0.1  0.345045  99.053798      0.990538  1.977225   \n",
      "28     29  4.946943  0.1  0.322397  99.297107      0.992971  1.975152   \n",
      "29     30  5.062000  0.1  0.316426  99.459313      0.994593  1.971837   \n",
      "\n",
      "      val_acc  val_fscore_micro  \n",
      "0   12.743363          0.127434  \n",
      "1   20.707965          0.207080  \n",
      "2   30.353982          0.303540  \n",
      "3   36.371681          0.363717  \n",
      "4   40.619469          0.406195  \n",
      "5   42.743363          0.427434  \n",
      "6   43.008850          0.430088  \n",
      "7   46.106195          0.461062  \n",
      "8   46.637168          0.466372  \n",
      "9   46.725664          0.467257  \n",
      "10  47.787611          0.477876  \n",
      "11  48.141593          0.481416  \n",
      "12  49.823009          0.498230  \n",
      "13  47.610619          0.476106  \n",
      "14  49.203540          0.492035  \n",
      "15  50.353982          0.503540  \n",
      "16  50.619469          0.506195  \n",
      "17  50.088496          0.500885  \n",
      "18  50.442478          0.504425  \n",
      "19  48.407080          0.484071  \n",
      "20  50.176991          0.501770  \n",
      "21  51.061947          0.510619  \n",
      "22  50.265487          0.502655  \n",
      "23  50.176991          0.501770  \n",
      "24  50.442478          0.504425  \n",
      "25  51.327434          0.513274  \n",
      "26  52.212389          0.522124  \n",
      "27  51.769912          0.517699  \n",
      "28  51.504425          0.515044  \n",
      "29  51.592920          0.515929  \n",
      "Best epoch: 27\n"
     ]
    }
   ],
   "source": [
    "logs = pd.read_csv(os.path.join(save_path, 'log.tsv'), sep='\\t')\n",
    "print(logs)\n",
    "\n",
    "best_epoch_idx = logs['val_acc'].idxmax()\n",
    "best_epoch = int(logs.loc[best_epoch_idx]['epoch'])\n",
    "print(\"Best epoch: %d\" % best_epoch)"
   ]
  },
  {
   "cell_type": "code",
   "execution_count": 14,
   "metadata": {
    "scrolled": true
   },
   "outputs": [
    {
     "data": {
      "image/png": "[encoded data removed]",
      "text/plain": [
       "<Figure size 432x288 with 1 Axes>"
      ]
     },
     "metadata": {
      "needs_background": "light"
     },
     "output_type": "display_data"
    }
   ],
   "source": [
    "metrics = ['loss', 'val_loss']\n",
    "plt.plot(logs['epoch'], logs[metrics])\n",
    "plt.legend(metrics)\n",
    "plt.show()"
   ]
  },
  {
   "cell_type": "code",
   "execution_count": 15,
   "metadata": {
    "pycharm": {
     "name": "#%%\n"
    }
   },
   "outputs": [
    {
     "data": {
      "image/png": "[encoded data removed]",
      "text/plain": [
       "<Figure size 432x288 with 1 Axes>"
      ]
     },
     "metadata": {
      "needs_background": "light"
     },
     "output_type": "display_data"
    }
   ],
   "source": [
    "metrics = ['acc', 'val_acc']\n",
    "plt.plot(logs['epoch'], logs[metrics])\n",
    "plt.legend(metrics)\n",
    "plt.show()"
   ]
  },
  {
   "cell_type": "markdown",
   "metadata": {},
   "source": [
    "Since we have created checkpoints using callbacks, we can restore the best model from those checkpoints and test it."
   ]
  },
  {
   "cell_type": "code",
   "execution_count": 16,
   "metadata": {
    "pycharm": {
     "name": "#%%\n"
    }
   },
   "outputs": [
    {
     "name": "stdout",
     "output_type": "stream",
     "text": [
      "\u001b[35mTest steps: \u001b[36m19 \u001b[32m1.48s \u001b[35mtest_loss:\u001b[94m 2.046891\u001b[35m test_acc:\u001b[94m 49.916943\u001b[35m test_fscore_micro:\u001b[94m 0.499169\u001b[0m           \n"
     ]
    }
   ],
   "source": [
    "resnet18 = models.resnet18(pretrained=False, num_classes=num_classes)\n",
    "\n",
    "model = Model(resnet18, 'sgd', 'cross_entropy', \n",
    "              batch_metrics=['accuracy'], epoch_metrics=['f1'],\n",
    "              device=device)\n",
    "\n",
    "model.load_weights(os.path.join(save_path, 'best_epoch_{epoch}.ckpt').format(epoch=best_epoch))\n",
    "\n",
    "test_loss, (test_acc, test_f1) = model.evaluate_generator(test_loader)"
   ]
  },
  {
   "cell_type": "markdown",
   "metadata": {},
   "source": [
    "We can also use the Experiment class to train our network. This class saves checkpoints and logs as above in a directory and allows to stop and resume optimization at will. See documentation for details."
   ]
  },
  {
   "cell_type": "code",
   "execution_count": 17,
   "metadata": {},
   "outputs": [],
   "source": [
    "def experiment_train(epochs):\n",
    "    # Reload the pretrained network and freeze it except for its head.\n",
    "    resnet18 = models.resnet18(pretrained=True)\n",
    "    resnet18.fc = nn.Linear(resnet18.fc.in_features, num_classes)\n",
    "    freeze_weights(resnet18)\n",
    "\n",
    "    # Saves everything into ./saves/cub200_resnet18_experiment\n",
    "    save_path = os.path.join(save_base_dir, 'cub200_resnet18_experiment')\n",
    "    \n",
    "    optimizer = optim.SGD(resnet18.fc.parameters(), lr=learning_rate, weight_decay=0.001)\n",
    "\n",
    "    # Poutyne Experiment\n",
    "    exp = Experiment(save_path, resnet18, device=device, optimizer=optimizer, task='classif')\n",
    "\n",
    "    # Train\n",
    "    exp.train(train_loader, valid_loader, epochs=epochs)\n",
    "\n",
    "    # Test\n",
    "    exp.test(test_loader)"
   ]
  },
  {
   "cell_type": "markdown",
   "metadata": {},
   "source": [
    "Let’s train for 5 epochs."
   ]
  },
  {
   "cell_type": "code",
   "execution_count": 18,
   "metadata": {
    "scrolled": false
   },
   "outputs": [
    {
     "name": "stdout",
     "output_type": "stream",
     "text": [
      "\u001b[35mEpoch: \u001b[36m1/5 \u001b[35mTrain steps: \u001b[36m58 \u001b[35mVal steps: \u001b[36m18 \u001b[32m4.94s \u001b[35mloss:\u001b[94m 4.967954\u001b[35m acc:\u001b[94m 5.163558\u001b[35m fscore_micro:\u001b[94m 0.051636\u001b[35m val_loss:\u001b[94m 4.271911\u001b[35m val_acc:\u001b[94m 13.451327\u001b[35m val_fscore_micro:\u001b[94m 0.134513\u001b[0m\n",
      "Epoch 1: val_acc improved from -inf to 13.45133, saving file to saves/cub200_resnet18_experiment/checkpoint_epoch_1.ckpt\n",
      "\u001b[35mEpoch: \u001b[36m2/5 \u001b[35mTrain steps: \u001b[36m58 \u001b[35mVal steps: \u001b[36m18 \u001b[32m5.12s \u001b[35mloss:\u001b[94m 3.715132\u001b[35m acc:\u001b[94m 24.817518\u001b[35m fscore_micro:\u001b[94m 0.248175\u001b[35m val_loss:\u001b[94m 3.558552\u001b[35m val_acc:\u001b[94m 25.132743\u001b[35m val_fscore_micro:\u001b[94m 0.251327\u001b[0m\n",
      "Epoch 2: val_acc improved from 13.45133 to 25.13274, saving file to saves/cub200_resnet18_experiment/checkpoint_epoch_2.ckpt\n",
      "\u001b[35mEpoch: \u001b[36m3/5 \u001b[35mTrain steps: \u001b[36m58 \u001b[35mVal steps: \u001b[36m18 \u001b[32m5.16s \u001b[35mloss:\u001b[94m 2.894842\u001b[35m acc:\u001b[94m 41.957286\u001b[35m fscore_micro:\u001b[94m 0.419573\u001b[35m val_loss:\u001b[94m 3.120051\u001b[35m val_acc:\u001b[94m 31.415929\u001b[35m val_fscore_micro:\u001b[94m 0.314159\u001b[0m\n",
      "Epoch 3: val_acc improved from 25.13274 to 31.41593, saving file to saves/cub200_resnet18_experiment/checkpoint_epoch_3.ckpt\n",
      "\u001b[35mEpoch: \u001b[36m4/5 \u001b[35mTrain steps: \u001b[36m58 \u001b[35mVal steps: \u001b[36m18 \u001b[32m4.91s \u001b[35mloss:\u001b[94m 2.351315\u001b[35m acc:\u001b[94m 55.907002\u001b[35m fscore_micro:\u001b[94m 0.559070\u001b[35m val_loss:\u001b[94m 2.830120\u001b[35m val_acc:\u001b[94m 35.663717\u001b[35m val_fscore_micro:\u001b[94m 0.356637\u001b[0m\n",
      "Epoch 4: val_acc improved from 31.41593 to 35.66372, saving file to saves/cub200_resnet18_experiment/checkpoint_epoch_4.ckpt\n",
      "\u001b[35mEpoch: \u001b[36m5/5 \u001b[35mTrain steps: \u001b[36m58 \u001b[35mVal steps: \u001b[36m18 \u001b[32m4.93s \u001b[35mloss:\u001b[94m 1.963724\u001b[35m acc:\u001b[94m 64.233577\u001b[35m fscore_micro:\u001b[94m 0.642336\u001b[35m val_loss:\u001b[94m 2.638514\u001b[35m val_acc:\u001b[94m 40.000000\u001b[35m val_fscore_micro:\u001b[94m 0.400000\u001b[0m\n",
      "Epoch 5: val_acc improved from 35.66372 to 40.00000, saving file to saves/cub200_resnet18_experiment/checkpoint_epoch_5.ckpt\n",
      "Restoring model from saves/cub200_resnet18_experiment/checkpoint_epoch_5.ckpt\n",
      "Found best checkpoint at epoch: 5\n",
      "lr: 0.1, loss: 1.96372, acc: 64.2336, fscore_micro: 0.642336, val_loss: 2.63851, val_acc: 40, val_fscore_micro: 0.4\n",
      "Loading checkpoint saves/cub200_resnet18_experiment/checkpoint_epoch_5.ckpt\n",
      "Running test\n",
      "\u001b[35mTest steps: \u001b[36m19 \u001b[32m1.47s \u001b[35mtest_loss:\u001b[94m 2.692590\u001b[35m test_acc:\u001b[94m 40.199335\u001b[35m test_fscore_micro:\u001b[94m 0.401993\u001b[0m           \n"
     ]
    }
   ],
   "source": [
    "experiment_train(epochs=5)"
   ]
  },
  {
   "cell_type": "markdown",
   "metadata": {},
   "source": [
    "Let’s train for 5 more epochs (10 epochs total)."
   ]
  },
  {
   "cell_type": "code",
   "execution_count": 19,
   "metadata": {
    "scrolled": false
   },
   "outputs": [
    {
     "name": "stdout",
     "output_type": "stream",
     "text": [
      "Loading weights from saves/cub200_resnet18_experiment/checkpoint.ckpt and starting at epoch 6.\n",
      "Loading optimizer state from saves/cub200_resnet18_experiment/checkpoint.optim and starting at epoch 6.\n",
      "\u001b[35mEpoch: \u001b[36m 6/10 \u001b[35mTrain steps: \u001b[36m58 \u001b[35mVal steps: \u001b[36m18 \u001b[32m5.03s \u001b[35mloss:\u001b[94m 1.667619\u001b[35m acc:\u001b[94m 71.884293\u001b[35m fscore_micro:\u001b[94m 0.718843\u001b[35m val_loss:\u001b[94m 2.488077\u001b[35m val_acc:\u001b[94m 42.920354\u001b[35m val_fscore_micro:\u001b[94m 0.429204\u001b[0m\n",
      "Epoch 6: val_acc improved from 40.00000 to 42.92035, saving file to saves/cub200_resnet18_experiment/checkpoint_epoch_6.ckpt\n",
      "\u001b[35mEpoch: \u001b[36m 7/10 \u001b[35mTrain steps: \u001b[36m58 \u001b[35mVal steps: \u001b[36m18 \u001b[32m4.95s \u001b[35mloss:\u001b[94m 1.452402\u001b[35m acc:\u001b[94m 76.507164\u001b[35m fscore_micro:\u001b[94m 0.765072\u001b[35m val_loss:\u001b[94m 2.388242\u001b[35m val_acc:\u001b[94m 44.778761\u001b[35m val_fscore_micro:\u001b[94m 0.447788\u001b[0m\n",
      "Epoch 7: val_acc improved from 42.92035 to 44.77876, saving file to saves/cub200_resnet18_experiment/checkpoint_epoch_7.ckpt\n",
      "\u001b[35mEpoch: \u001b[36m 8/10 \u001b[35mTrain steps: \u001b[36m58 \u001b[35mVal steps: \u001b[36m18 \u001b[32m5.13s \u001b[35mloss:\u001b[94m 1.286908\u001b[35m acc:\u001b[94m 79.643147\u001b[35m fscore_micro:\u001b[94m 0.796431\u001b[35m val_loss:\u001b[94m 2.312258\u001b[35m val_acc:\u001b[94m 45.398230\u001b[35m val_fscore_micro:\u001b[94m 0.453982\u001b[0m\n",
      "Epoch 8: val_acc improved from 44.77876 to 45.39823, saving file to saves/cub200_resnet18_experiment/checkpoint_epoch_8.ckpt\n",
      "\u001b[35mEpoch: \u001b[36m 9/10 \u001b[35mTrain steps: \u001b[36m58 \u001b[35mVal steps: \u001b[36m18 \u001b[32m5.36s \u001b[35mloss:\u001b[94m 1.148064\u001b[35m acc:\u001b[94m 83.427954\u001b[35m fscore_micro:\u001b[94m 0.834280\u001b[35m val_loss:\u001b[94m 2.251353\u001b[35m val_acc:\u001b[94m 46.283186\u001b[35m val_fscore_micro:\u001b[94m 0.462832\u001b[0m\n",
      "Epoch 9: val_acc improved from 45.39823 to 46.28319, saving file to saves/cub200_resnet18_experiment/checkpoint_epoch_9.ckpt\n",
      "\u001b[35mEpoch: \u001b[36m10/10 \u001b[35mTrain steps: \u001b[36m58 \u001b[35mVal steps: \u001b[36m18 \u001b[32m5.10s \u001b[35mloss:\u001b[94m 1.033199\u001b[35m acc:\u001b[94m 85.590700\u001b[35m fscore_micro:\u001b[94m 0.855907\u001b[35m val_loss:\u001b[94m 2.215845\u001b[35m val_acc:\u001b[94m 47.433628\u001b[35m val_fscore_micro:\u001b[94m 0.474336\u001b[0m\n",
      "Epoch 10: val_acc improved from 46.28319 to 47.43363, saving file to saves/cub200_resnet18_experiment/checkpoint_epoch_10.ckpt\n",
      "Restoring model from saves/cub200_resnet18_experiment/checkpoint_epoch_10.ckpt\n",
      "Found best checkpoint at epoch: 10\n",
      "lr: 0.1, loss: 1.0332, acc: 85.5907, fscore_micro: 0.855907, val_loss: 2.21584, val_acc: 47.4336, val_fscore_micro: 0.474336\n",
      "Loading checkpoint saves/cub200_resnet18_experiment/checkpoint_epoch_10.ckpt\n",
      "Running test\n",
      "\u001b[35mTest steps: \u001b[36m19 \u001b[32m1.52s \u001b[35mtest_loss:\u001b[94m 2.279974\u001b[35m test_acc:\u001b[94m 47.093023\u001b[35m test_fscore_micro:\u001b[94m 0.470930\u001b[0m           \n"
     ]
    }
   ],
   "source": [
    "# Retrain for 5 more epochs\n",
    "experiment_train(epochs=10)"
   ]
  }
 ],
 "metadata": {
  "accelerator": "GPU",
  "kernelspec": {
   "display_name": "Python 3",
   "language": "python",
   "name": "python3"
  },
  "language_info": {
   "codemirror_mode": {
    "name": "ipython",
    "version": 3
   },
   "file_extension": ".py",
   "mimetype": "text/x-python",
   "name": "python",
   "nbconvert_exporter": "python",
   "pygments_lexer": "ipython3",
   "version": "3.8.5"
  }
 },
 "nbformat": 4,
 "nbformat_minor": 2
}
