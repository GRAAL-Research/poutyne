{
 "cells": [
  {
   "cell_type": "code",
   "execution_count": 1,
   "metadata": {},
   "outputs": [],
   "source": [
    "import os\n",
    "import urllib.request\n",
    "import tarfile\n",
    "from shutil import copyfile\n",
    "import math\n",
    "import numpy as np\n",
    "import pandas as pd\n",
    "import matplotlib.pyplot as plt\n",
    "\n",
    "from torchvision import transforms\n",
    "\n",
    "import torch\n",
    "import torch.nn as nn\n",
    "import torch.optim as optim\n",
    "import torchvision.models as models\n",
    "from torchvision.datasets import ImageFolder\n",
    "\n",
    "from torch.utils import model_zoo\n",
    "\n",
    "from poutyne.framework import Model, ModelCheckpoint, BestModelRestore, CSVLogger, Experiment\n",
    "from poutyne import torch_to_numpy, set_seeds"
   ]
  },
  {
   "cell_type": "code",
   "execution_count": 2,
   "metadata": {},
   "outputs": [],
   "source": [
    "def download_and_extract_dataset(path):\n",
    "    tgz_filename = \"images.tgz\"\n",
    "    urllib.request.urlretrieve(\"http://www.vision.caltech.edu/visipedia-data/CUB-200/images.tgz\", tgz_filename)\n",
    "    os.makedirs(path, exist_ok=True)\n",
    "    archive = tarfile.open(tgz_filename)\n",
    "    archive.extractall(path)"
   ]
  },
  {
   "cell_type": "code",
   "execution_count": 3,
   "metadata": {},
   "outputs": [],
   "source": [
    "def copy(source_path, filenames, dest_path):\n",
    "    for filename in filenames:\n",
    "        source = os.path.join(source_path, filename)\n",
    "        dest = os.path.join(dest_path, filename)\n",
    "        copyfile(source, dest)\n",
    "\n",
    "def split_train_valid_test(dataset_path, train_path, valid_path, test_path, train_split=0.6, valid_split=0.2): # test_split=0.2\n",
    "    np.random.seed(42)\n",
    "    for classname in sorted(os.listdir(dataset_path)):\n",
    "        if classname.startswith('.'):\n",
    "            continue\n",
    "        train_class_path = os.path.join(train_path, classname)\n",
    "        valid_class_path = os.path.join(valid_path, classname)\n",
    "        test_class_path = os.path.join(test_path, classname)\n",
    "\n",
    "        os.makedirs(train_class_path, exist_ok=True)\n",
    "        os.makedirs(valid_class_path, exist_ok=True)\n",
    "        os.makedirs(test_class_path, exist_ok=True)\n",
    "\n",
    "        dataset_class_path = os.path.join(dataset_path, classname)\n",
    "        filenames = sorted(filename for filename in os.listdir(dataset_class_path) if not filename.startswith('.'))\n",
    "        np.random.shuffle(filenames)\n",
    "\n",
    "        num_examples = len(filenames)\n",
    "        train_last_idx = math.ceil(num_examples*train_split)\n",
    "        valid_last_idx = train_last_idx + math.floor(num_examples*valid_split)\n",
    "        train_filenames = filenames[0:train_last_idx]\n",
    "        valid_filenames = filenames[train_last_idx:valid_last_idx]\n",
    "        test_filenames = filenames[valid_last_idx:]\n",
    "        copy(dataset_class_path, train_filenames, train_class_path)\n",
    "        copy(dataset_class_path, valid_filenames, valid_class_path)\n",
    "        copy(dataset_class_path, test_filenames, test_class_path)"
   ]
  },
  {
   "cell_type": "code",
   "execution_count": 4,
   "metadata": {},
   "outputs": [],
   "source": [
    "# We do the split train/valid/test.\n",
    "\n",
    "base_path = './CUB200'\n",
    "dataset_path = os.path.join(base_path, 'images')\n",
    "train_path = os.path.join(base_path, 'train')\n",
    "valid_path = os.path.join(base_path, 'valid')\n",
    "test_path = os.path.join(base_path, 'test')"
   ]
  },
  {
   "cell_type": "code",
   "execution_count": 5,
   "metadata": {},
   "outputs": [],
   "source": [
    "download_and_extract_dataset(base_path)\n",
    "split_train_valid_test(dataset_path, train_path, valid_path, test_path)"
   ]
  },
  {
   "cell_type": "code",
   "execution_count": 6,
   "metadata": {},
   "outputs": [],
   "source": [
    "cuda_device = 0\n",
    "device = torch.device(\"cuda:%d\" % cuda_device if torch.cuda.is_available() else \"cpu\")"
   ]
  },
  {
   "cell_type": "code",
   "execution_count": 7,
   "metadata": {},
   "outputs": [],
   "source": [
    "# Training hyperparameters\n",
    "\n",
    "batch_size = 32\n",
    "learning_rate = 0.1\n",
    "n_epoch = 30\n",
    "num_classes = 200"
   ]
  },
  {
   "cell_type": "code",
   "execution_count": 8,
   "metadata": {},
   "outputs": [
    {
     "data": {
      "text/plain": [
       "<torch._C.Generator at 0x7fb3603322d0>"
      ]
     },
     "execution_count": 8,
     "metadata": {},
     "output_type": "execute_result"
    }
   ],
   "source": [
    "# Set Pythons's, NumPy's and PyTorch's seeds so that our training are (almost) reproducible.\n",
    "set_seeds(42)"
   ]
  },
  {
   "cell_type": "code",
   "execution_count": 9,
   "metadata": {},
   "outputs": [],
   "source": [
    "# Creation of the PyTorch's datasets for our problem.\n",
    "\n",
    "norm_coefs = {}\n",
    "norm_coefs['cub200'] = [(0.47421962,  0.4914721 ,  0.42382449), (0.22846779,  0.22387765,  0.26495799)]\n",
    "norm_coefs['imagenet'] = [(0.485, 0.456, 0.406), (0.229, 0.224, 0.225)]\n",
    "transform = transforms.Compose([\n",
    "    transforms.Resize((224,224)),\n",
    "    transforms.ToTensor(),\n",
    "    transforms.Normalize(*norm_coefs['cub200'])\n",
    "])\n",
    "\n",
    "train_set = ImageFolder(train_path, transform=transform)\n",
    "valid_set = ImageFolder(valid_path, transform=transform)\n",
    "test_set = ImageFolder(test_path, transform=transform)\n",
    "\n",
    "\n",
    "train_loader = torch.utils.data.DataLoader(train_set, batch_size=batch_size, shuffle=True)\n",
    "valid_loader = torch.utils.data.DataLoader(valid_set, batch_size=batch_size)\n",
    "test_loader = torch.utils.data.DataLoader(test_set, batch_size=batch_size)"
   ]
  },
  {
   "cell_type": "code",
   "execution_count": 10,
   "metadata": {
    "scrolled": false
   },
   "outputs": [],
   "source": [
    "# Loading a pretrained ResNet-18 networks and replacing \n",
    "# the head with the number of neurons equal to our number \n",
    "# of classes.\n",
    "\n",
    "resnet18 = models.resnet18(pretrained=True)\n",
    "resnet18.fc = nn.Linear(resnet18.fc.in_features, num_classes)"
   ]
  },
  {
   "cell_type": "code",
   "execution_count": 11,
   "metadata": {},
   "outputs": [],
   "source": [
    "# We freeze the network except for its head.\n",
    "\n",
    "def freeze_weights(resnet18):\n",
    "    for name, param in resnet18.named_parameters():\n",
    "        if not name.startswith('fc.'):\n",
    "            param.requires_grad = False\n",
    "\n",
    "freeze_weights(resnet18)"
   ]
  },
  {
   "cell_type": "code",
   "execution_count": 12,
   "metadata": {},
   "outputs": [],
   "source": [
    "# One nice feature of Poutyne is callbacks.\n",
    "\n",
    "callbacks = [\n",
    "    # Save the latest weights to be able to resume the optimization at the end for more epochs.\n",
    "    ModelCheckpoint('last_epoch.ckpt', temporary_filename='last_epoch.ckpt.tmp'),\n",
    "    \n",
    "    # Save the weights in a new file when the current model is better than all previous models.\n",
    "    ModelCheckpoint('best_epoch_{epoch}.ckpt', monitor='val_acc', mode='max', save_best_only=True, restore_best=True, verbose=True, temporary_filename='best_epoch.ckpt.tmp'),\n",
    "    \n",
    "    # Save the losses and accuracies for each epoch in a TSV.\n",
    "    CSVLogger('log.tsv', separator='\\t'),\n",
    "]"
   ]
  },
  {
   "cell_type": "code",
   "execution_count": 13,
   "metadata": {},
   "outputs": [
    {
     "name": "stdout",
     "output_type": "stream",
     "text": [
      "Epoch 1/30 30.23s Step 116/116: loss: 4.738788, acc: 6.731549, fscore_micro: 0.067315, val_loss: 3.886809, val_acc: 11.327434, val_fscore_micro: 0.113274\n",
      "Epoch 1: val_acc improved from -inf to 11.32743, saving file to best_epoch_1.ckpt\n",
      "Epoch 2/30 30.94s Step 116/116: loss: 3.006773, acc: 33.144093, fscore_micro: 0.331441, val_loss: 3.271729, val_acc: 21.592920, val_fscore_micro: 0.215929\n",
      "Epoch 2: val_acc improved from 11.32743 to 21.59292, saving file to best_epoch_2.ckpt\n",
      "Epoch 3/30 33.16s Step 116/116: loss: 2.153980, acc: 52.771019, fscore_micro: 0.527710, val_loss: 2.667525, val_acc: 35.752212, val_fscore_micro: 0.357522\n",
      "Epoch 3: val_acc improved from 21.59292 to 35.75221, saving file to best_epoch_3.ckpt\n",
      "Epoch 4/30 33.33s Step 116/116: loss: 1.666963, acc: 64.909435, fscore_micro: 0.649094, val_loss: 2.600248, val_acc: 36.106195, val_fscore_micro: 0.361062\n",
      "Epoch 4: val_acc improved from 35.75221 to 36.10619, saving file to best_epoch_4.ckpt\n",
      "Epoch 5/30 33.37s Step 116/116: loss: 1.336615, acc: 73.019735, fscore_micro: 0.730197, val_loss: 2.355025, val_acc: 41.327434, val_fscore_micro: 0.413274\n",
      "Epoch 5: val_acc improved from 36.10619 to 41.32743, saving file to best_epoch_5.ckpt\n",
      "Epoch 6/30 33.74s Step 116/116: loss: 1.119106, acc: 79.264666, fscore_micro: 0.792647, val_loss: 2.245564, val_acc: 43.628319, val_fscore_micro: 0.436283\n",
      "Epoch 6: val_acc improved from 41.32743 to 43.62832, saving file to best_epoch_6.ckpt\n",
      "Epoch 7/30 33.47s Step 116/116: loss: 0.942244, acc: 83.941606, fscore_micro: 0.839416, val_loss: 2.164859, val_acc: 44.955752, val_fscore_micro: 0.449558\n",
      "Epoch 7: val_acc improved from 43.62832 to 44.95575, saving file to best_epoch_7.ckpt\n",
      "Epoch 8/30 33.02s Step 116/116: loss: 0.834597, acc: 86.563936, fscore_micro: 0.865639, val_loss: 2.138340, val_acc: 46.460177, val_fscore_micro: 0.464602\n",
      "Epoch 8: val_acc improved from 44.95575 to 46.46018, saving file to best_epoch_8.ckpt\n",
      "Epoch 9/30 32.78s Step 116/116: loss: 0.707844, acc: 89.943228, fscore_micro: 0.899432, val_loss: 2.096751, val_acc: 47.256637, val_fscore_micro: 0.472566\n",
      "Epoch 9: val_acc improved from 46.46018 to 47.25664, saving file to best_epoch_9.ckpt\n",
      "Epoch 10/30 33.43s Step 116/116: loss: 0.657364, acc: 90.456880, fscore_micro: 0.904569, val_loss: 2.091874, val_acc: 48.407080, val_fscore_micro: 0.484071\n",
      "Epoch 10: val_acc improved from 47.25664 to 48.40708, saving file to best_epoch_10.ckpt\n",
      "Epoch 11/30 33.29s Step 116/116: loss: 0.579423, acc: 92.944039, fscore_micro: 0.929440, val_loss: 2.079854, val_acc: 47.964602, val_fscore_micro: 0.479646\n",
      "Epoch 12/30 33.44s Step 116/116: loss: 0.518997, acc: 94.484996, fscore_micro: 0.944850, val_loss: 2.053490, val_acc: 48.230088, val_fscore_micro: 0.482301\n",
      "Epoch 13/30 32.97s Step 116/116: loss: 0.477968, acc: 95.647472, fscore_micro: 0.956475, val_loss: 2.057845, val_acc: 48.938053, val_fscore_micro: 0.489381\n",
      "Epoch 13: val_acc improved from 48.40708 to 48.93805, saving file to best_epoch_13.ckpt\n",
      "Epoch 14/30 32.81s Step 116/116: loss: 0.443343, acc: 95.728575, fscore_micro: 0.957286, val_loss: 2.032495, val_acc: 48.672566, val_fscore_micro: 0.486726\n",
      "Epoch 15/30 33.07s Step 116/116: loss: 0.407208, acc: 96.755880, fscore_micro: 0.967559, val_loss: 2.042751, val_acc: 48.849558, val_fscore_micro: 0.488496\n",
      "Epoch 16/30 32.96s Step 116/116: loss: 0.387245, acc: 97.296567, fscore_micro: 0.972966, val_loss: 1.982231, val_acc: 51.150443, val_fscore_micro: 0.511504\n",
      "Epoch 16: val_acc improved from 48.93805 to 51.15044, saving file to best_epoch_16.ckpt\n",
      "Epoch 17/30 32.36s Step 116/116: loss: 0.363878, acc: 97.350635, fscore_micro: 0.973506, val_loss: 2.042369, val_acc: 48.584071, val_fscore_micro: 0.485841\n",
      "Epoch 18/30 32.90s Step 116/116: loss: 0.346148, acc: 98.350906, fscore_micro: 0.983509, val_loss: 2.014449, val_acc: 49.911504, val_fscore_micro: 0.499115\n",
      "Epoch 19/30 32.85s Step 116/116: loss: 0.323372, acc: 98.621249, fscore_micro: 0.986212, val_loss: 1.962966, val_acc: 51.681416, val_fscore_micro: 0.516814\n",
      "Epoch 19: val_acc improved from 51.15044 to 51.68142, saving file to best_epoch_19.ckpt\n",
      "Epoch 20/30 32.63s Step 116/116: loss: 0.302575, acc: 98.459043, fscore_micro: 0.984590, val_loss: 1.993863, val_acc: 50.707965, val_fscore_micro: 0.507080\n",
      "Epoch 21/30 30.50s Step 116/116: loss: 0.295383, acc: 98.648283, fscore_micro: 0.986483, val_loss: 2.003684, val_acc: 50.442478, val_fscore_micro: 0.504425\n",
      "Epoch 22/30 30.95s Step 116/116: loss: 0.290717, acc: 98.594215, fscore_micro: 0.985942, val_loss: 1.975835, val_acc: 50.707965, val_fscore_micro: 0.507080\n",
      "Epoch 23/30 30.03s Step 116/116: loss: 0.271518, acc: 98.972695, fscore_micro: 0.989727, val_loss: 1.972084, val_acc: 50.442478, val_fscore_micro: 0.504425\n",
      "Epoch 24/30 31.55s Step 116/116: loss: 0.264984, acc: 99.270073, fscore_micro: 0.992701, val_loss: 1.987788, val_acc: 49.557522, val_fscore_micro: 0.495575\n",
      "Epoch 25/30 31.78s Step 116/116: loss: 0.247648, acc: 99.270073, fscore_micro: 0.992701, val_loss: 1.996973, val_acc: 51.150442, val_fscore_micro: 0.511504\n",
      "Epoch 26/30 31.04s Step 116/116: loss: 0.244376, acc: 99.297107, fscore_micro: 0.992971, val_loss: 1.989042, val_acc: 50.884956, val_fscore_micro: 0.508850\n",
      "Epoch 27/30 30.11s Step 116/116: loss: 0.239771, acc: 99.648554, fscore_micro: 0.996486, val_loss: 2.000352, val_acc: 50.884956, val_fscore_micro: 0.508850\n",
      "Epoch 28/30 30.17s Step 116/116: loss: 0.235576, acc: 99.378210, fscore_micro: 0.993782, val_loss: 1.983018, val_acc: 50.088496, val_fscore_micro: 0.500885\n",
      "Epoch 29/30 30.24s Step 116/116: loss: 0.225873, acc: 99.513382, fscore_micro: 0.995134, val_loss: 2.003679, val_acc: 50.707965, val_fscore_micro: 0.507080\n",
      "Epoch 30/30 31.26s Step 116/116: loss: 0.229586, acc: 99.459313, fscore_micro: 0.994593, val_loss: 1.989235, val_acc: 50.176991, val_fscore_micro: 0.501770\n",
      "Restoring model from best_epoch_19.ckpt\n",
      "Test:\n",
      "\tLoss: 2.065306835396345\n",
      "\tAccuracy: [49.83388704  0.49833888]\n"
     ]
    }
   ],
   "source": [
    "# Finally, we start the training and output its final test \n",
    "# loss, accuracy, and micro F1-score.\n",
    "# Note that the F1-score is quite similar to the accuracy \n",
    "# since the dataset is very balanced.\n",
    "\n",
    "# Optimizer and loss function\n",
    "optimizer = optim.SGD(resnet18.fc.parameters(), lr=learning_rate, weight_decay=0.001)\n",
    "loss_function = nn.CrossEntropyLoss()\n",
    "\n",
    "# Poutyne Model\n",
    "model = Model(resnet18, optimizer, loss_function, batch_metrics=['accuracy'], epoch_metrics=['f1'])\n",
    "\n",
    "# Send model on GPU\n",
    "model.to(device)\n",
    "\n",
    "# Train\n",
    "model.fit_generator(train_loader, valid_loader, epochs=n_epoch, callbacks=callbacks)\n",
    "\n",
    "# Test\n",
    "test_loss, test_acc = model.evaluate_generator(test_loader)\n",
    "print('Test:\\n\\tLoss: {}\\n\\tAccuracy: {}'.format(test_loss, test_acc))"
   ]
  },
  {
   "cell_type": "code",
   "execution_count": 14,
   "metadata": {
    "scrolled": false
   },
   "outputs": [
    {
     "name": "stdout",
     "output_type": "stream",
     "text": [
      "    epoch       time   lr      loss        acc  fscore_micro  val_loss  \\\n",
      "0       1  30.227874  0.1  4.738788   6.731549      0.067315  3.886809   \n",
      "1       2  30.940623  0.1  3.006773  33.144093      0.331441  3.271729   \n",
      "2       3  33.158612  0.1  2.153980  52.771019      0.527710  2.667525   \n",
      "3       4  33.331771  0.1  1.666963  64.909435      0.649094  2.600248   \n",
      "4       5  33.366570  0.1  1.336615  73.019735      0.730197  2.355025   \n",
      "5       6  33.735695  0.1  1.119106  79.264666      0.792647  2.245564   \n",
      "6       7  33.466024  0.1  0.942244  83.941606      0.839416  2.164859   \n",
      "7       8  33.016263  0.1  0.834597  86.563936      0.865639  2.138340   \n",
      "8       9  32.776520  0.1  0.707844  89.943228      0.899432  2.096751   \n",
      "9      10  33.433662  0.1  0.657364  90.456880      0.904569  2.091874   \n",
      "10     11  33.290968  0.1  0.579423  92.944039      0.929440  2.079854   \n",
      "11     12  33.440002  0.1  0.518997  94.484996      0.944850  2.053490   \n",
      "12     13  32.967461  0.1  0.477968  95.647472      0.956475  2.057845   \n",
      "13     14  32.806037  0.1  0.443343  95.728575      0.957286  2.032495   \n",
      "14     15  33.068354  0.1  0.407208  96.755880      0.967559  2.042751   \n",
      "15     16  32.957127  0.1  0.387245  97.296567      0.972966  1.982231   \n",
      "16     17  32.362006  0.1  0.363878  97.350635      0.973506  2.042369   \n",
      "17     18  32.899078  0.1  0.346148  98.350906      0.983509  2.014449   \n",
      "18     19  32.848621  0.1  0.323372  98.621249      0.986212  1.962966   \n",
      "19     20  32.634493  0.1  0.302575  98.459043      0.984590  1.993863   \n",
      "20     21  30.498101  0.1  0.295383  98.648283      0.986483  2.003684   \n",
      "21     22  30.947107  0.1  0.290717  98.594215      0.985942  1.975835   \n",
      "22     23  30.025913  0.1  0.271518  98.972695      0.989727  1.972084   \n",
      "23     24  31.545336  0.1  0.264984  99.270073      0.992701  1.987788   \n",
      "24     25  31.782121  0.1  0.247648  99.270073      0.992701  1.996973   \n",
      "25     26  31.036801  0.1  0.244376  99.297107      0.992971  1.989042   \n",
      "26     27  30.105200  0.1  0.239771  99.648554      0.996486  2.000352   \n",
      "27     28  30.173017  0.1  0.235576  99.378210      0.993782  1.983018   \n",
      "28     29  30.240315  0.1  0.225873  99.513382      0.995134  2.003679   \n",
      "29     30  31.260623  0.1  0.229586  99.459313      0.994593  1.989235   \n",
      "\n",
      "      val_acc  val_fscore_micro  \n",
      "0   11.327434          0.113274  \n",
      "1   21.592920          0.215929  \n",
      "2   35.752212          0.357522  \n",
      "3   36.106195          0.361062  \n",
      "4   41.327434          0.413274  \n",
      "5   43.628319          0.436283  \n",
      "6   44.955752          0.449558  \n",
      "7   46.460177          0.464602  \n",
      "8   47.256637          0.472566  \n",
      "9   48.407080          0.484071  \n",
      "10  47.964602          0.479646  \n",
      "11  48.230088          0.482301  \n",
      "12  48.938053          0.489381  \n",
      "13  48.672566          0.486726  \n",
      "14  48.849558          0.488496  \n",
      "15  51.150443          0.511504  \n",
      "16  48.584071          0.485841  \n",
      "17  49.911504          0.499115  \n",
      "18  51.681416          0.516814  \n",
      "19  50.707965          0.507080  \n",
      "20  50.442478          0.504425  \n",
      "21  50.707965          0.507080  \n",
      "22  50.442478          0.504425  \n",
      "23  49.557522          0.495575  \n",
      "24  51.150442          0.511504  \n",
      "25  50.884956          0.508850  \n",
      "26  50.884956          0.508850  \n",
      "27  50.088496          0.500885  \n",
      "28  50.707965          0.507080  \n",
      "29  50.176991          0.501770  \n",
      "Best epoch: 19\n"
     ]
    }
   ],
   "source": [
    "logs = pd.read_csv('log.tsv', sep='\\t')\n",
    "print(logs)\n",
    "\n",
    "best_epoch_idx = logs['val_acc'].idxmax()\n",
    "best_epoch = int(logs.loc[best_epoch_idx]['epoch'])\n",
    "print(\"Best epoch: %d\" % best_epoch)"
   ]
  },
  {
   "cell_type": "code",
   "execution_count": 15,
   "metadata": {
    "scrolled": true
   },
   "outputs": [
    {
     "data": {
      "image/png": "[encoded data removed]",
      "text/plain": [
       "<Figure size 432x288 with 1 Axes>"
      ]
     },
     "metadata": {
      "needs_background": "light"
     },
     "output_type": "display_data"
    }
   ],
   "source": [
    "metrics = ['loss', 'val_loss']\n",
    "plt.plot(logs['epoch'], logs[metrics])\n",
    "plt.legend(metrics)\n",
    "plt.show()"
   ]
  },
  {
   "cell_type": "code",
   "execution_count": 16,
   "metadata": {},
   "outputs": [
    {
     "data": {
      "image/png": "[encoded data removed]",
      "text/plain": [
       "<Figure size 432x288 with 1 Axes>"
      ]
     },
     "metadata": {
      "needs_background": "light"
     },
     "output_type": "display_data"
    }
   ],
   "source": [
    "metrics = ['acc', 'val_acc']\n",
    "plt.plot(logs['epoch'], logs[metrics])\n",
    "plt.legend(metrics)\n",
    "plt.show()"
   ]
  },
  {
   "cell_type": "code",
   "execution_count": 17,
   "metadata": {},
   "outputs": [
    {
     "name": "stdout",
     "output_type": "stream",
     "text": [
      "Test:\n",
      "\tLoss: 2.065306835396345\n",
      "\tAccuracy: [49.83388704  0.49833888]\n"
     ]
    }
   ],
   "source": [
    "# Restore best model from checkpoint and test it.\n",
    "\n",
    "resnet18 = models.resnet18(pretrained=False, num_classes=num_classes)\n",
    "\n",
    "model = Model(resnet18, 'sgd', 'cross_entropy', batch_metrics=['accuracy'], epoch_metrics=['f1'])\n",
    "\n",
    "model.to(device)\n",
    "\n",
    "model.load_weights('best_epoch_{epoch}.ckpt'.format(epoch=best_epoch))\n",
    "\n",
    "test_loss, test_acc = model.evaluate_generator(test_loader)\n",
    "print('Test:\\n\\tLoss: {}\\n\\tAccuracy: {}'.format(test_loss, test_acc))"
   ]
  },
  {
   "cell_type": "code",
   "execution_count": 18,
   "metadata": {
    "scrolled": true
   },
   "outputs": [
    {
     "name": "stdout",
     "output_type": "stream",
     "text": [
      "Epoch 1/5 29.48s Step 116/116: loss: 4.741102, acc: 6.596377, fscore_micro: 0.065964, val_loss: 3.973325, val_acc: 9.646018, val_fscore_micro: 0.096460\n",
      "Epoch 1: val_acc improved from -inf to 9.64602, saving file to ./cub200_resnet18_experiment/checkpoint_epoch_1.ckpt\n",
      "Epoch 2/5 29.44s Step 116/116: loss: 3.021139, acc: 31.603136, fscore_micro: 0.316031, val_loss: 3.140144, val_acc: 27.256637, val_fscore_micro: 0.272566\n",
      "Epoch 2: val_acc improved from 9.64602 to 27.25664, saving file to ./cub200_resnet18_experiment/checkpoint_epoch_2.ckpt\n",
      "Epoch 3/5 29.38s Step 116/116: loss: 2.161543, acc: 52.203298, fscore_micro: 0.522033, val_loss: 2.717716, val_acc: 34.247788, val_fscore_micro: 0.342478\n",
      "Epoch 3: val_acc improved from 27.25664 to 34.24779, saving file to ./cub200_resnet18_experiment/checkpoint_epoch_3.ckpt\n",
      "Epoch 4/5 29.40s Step 116/116: loss: 1.681555, acc: 63.909165, fscore_micro: 0.639092, val_loss: 2.411879, val_acc: 41.327434, val_fscore_micro: 0.413274\n",
      "Epoch 4: val_acc improved from 34.24779 to 41.32743, saving file to ./cub200_resnet18_experiment/checkpoint_epoch_4.ckpt\n",
      "Epoch 5/5 29.97s Step 116/116: loss: 1.345064, acc: 73.127872, fscore_micro: 0.731279, val_loss: 2.392583, val_acc: 40.000000, val_fscore_micro: 0.400000\n",
      "Restoring model from ./cub200_resnet18_experiment/checkpoint_epoch_4.ckpt\n",
      "On best model: test_loss: 2.48284, test_acc: 41.196, test_fscore_micro: 0.41196\n"
     ]
    }
   ],
   "source": [
    "# Using the Experiment class\n",
    "# This class saves checkpoints and logs as above in a directory\n",
    "# and allows to stop and resume optimization at will. \n",
    "# See documentation for details.\n",
    "\n",
    "def experiment_train(epochs=5):\n",
    "    # Reload the pretrained network and freeze it except for its head.\n",
    "    resnet18 = models.resnet18(pretrained=True)\n",
    "    resnet18.fc = nn.Linear(resnet18.fc.in_features, num_classes)\n",
    "    freeze_weights(resnet18)\n",
    "\n",
    "    optimizer = optim.SGD(resnet18.fc.parameters(), lr=learning_rate, weight_decay=0.001)\n",
    "\n",
    "    # Poutyne Experiment\n",
    "    exp = Experiment('./cub200_resnet18_experiment', resnet18, device=device, optimizer=optimizer, task='classif')\n",
    "\n",
    "    # Train\n",
    "    exp.train(train_loader, valid_loader, epochs=epochs)\n",
    "\n",
    "    # Test\n",
    "    exp.test(test_loader)\n",
    "\n",
    "experiment_train()"
   ]
  },
  {
   "cell_type": "code",
   "execution_count": 19,
   "metadata": {},
   "outputs": [
    {
     "name": "stdout",
     "output_type": "stream",
     "text": [
      "Loading weights from ./cub200_resnet18_experiment/checkpoint.ckpt and starting at epoch 6.\n",
      "Loading optimizer state from ./cub200_resnet18_experiment/checkpoint.optim and starting at epoch 6.\n",
      "Epoch 6/10 30.04s Step 116/116: loss: 1.086491, acc: 80.183833, fscore_micro: 0.801838, val_loss: 2.226385, val_acc: 42.831858, val_fscore_micro: 0.428319\n",
      "Epoch 6: val_acc improved from 41.32743 to 42.83186, saving file to ./cub200_resnet18_experiment/checkpoint_epoch_6.ckpt\n",
      "Epoch 7/10 30.63s Step 116/116: loss: 0.919637, acc: 84.590430, fscore_micro: 0.845904, val_loss: 2.177427, val_acc: 46.460177, val_fscore_micro: 0.464602\n",
      "Epoch 7: val_acc improved from 42.83186 to 46.46018, saving file to ./cub200_resnet18_experiment/checkpoint_epoch_7.ckpt\n",
      "Epoch 8/10 31.05s Step 116/116: loss: 0.795253, acc: 87.834550, fscore_micro: 0.878345, val_loss: 2.148661, val_acc: 46.991150, val_fscore_micro: 0.469912\n",
      "Epoch 8: val_acc improved from 46.46018 to 46.99115, saving file to ./cub200_resnet18_experiment/checkpoint_epoch_8.ckpt\n",
      "Epoch 9/10 30.39s Step 116/116: loss: 0.712310, acc: 89.591782, fscore_micro: 0.895918, val_loss: 2.050704, val_acc: 49.026549, val_fscore_micro: 0.490265\n",
      "Epoch 9: val_acc improved from 46.99115 to 49.02655, saving file to ./cub200_resnet18_experiment/checkpoint_epoch_9.ckpt\n",
      "Epoch 10/10 29.58s Step 116/116: loss: 0.625077, acc: 92.862936, fscore_micro: 0.928629, val_loss: 2.119392, val_acc: 47.433628, val_fscore_micro: 0.474336\n",
      "Restoring model from ./cub200_resnet18_experiment/checkpoint_epoch_9.ckpt\n",
      "On best model: test_loss: 2.13813, test_acc: 47.7575, test_fscore_micro: 0.477575\n"
     ]
    }
   ],
   "source": [
    "# Retrain for 5 more epochs\n",
    "experiment_train(epochs=10)"
   ]
  },
  {
   "cell_type": "code",
   "execution_count": null,
   "metadata": {},
   "outputs": [],
   "source": []
  }
 ],
 "metadata": {
  "kernelspec": {
   "display_name": "Python 3",
   "language": "python",
   "name": "python3"
  },
  "language_info": {
   "codemirror_mode": {
    "name": "ipython",
    "version": 3
   },
   "file_extension": ".py",
   "mimetype": "text/x-python",
   "name": "python",
   "nbconvert_exporter": "python",
   "pygments_lexer": "ipython3",
   "version": "3.6.9"
  }
 },
 "nbformat": 4,
 "nbformat_minor": 2
}
